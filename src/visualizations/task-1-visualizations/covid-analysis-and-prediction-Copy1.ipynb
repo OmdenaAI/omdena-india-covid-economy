{
 "cells": [
  {
   "cell_type": "code",
   "execution_count": null,
   "metadata": {
    "_cell_guid": "b1076dfc-b9ad-4769-8c92-a6c4dae69d19",
    "_uuid": "8f2839f25d086af736a60e9eeb907d3b93b6e0e5"
   },
   "outputs": [],
   "source": [
    "\n",
    "import numpy as np \n",
    "import pandas as pd\n",
    "import seaborn as sns\n",
    "import matplotlib.pyplot as plt\n",
    "import plotly.express as px\n",
    "from plotly.offline import iplot, init_notebook_mode\n",
    "import plotly.figure_factory as ff\n",
    "import datetime\n",
    "\n",
    "# Predictions\n",
    "from fbprophet import Prophet\n",
    "from fbprophet.plot import plot_plotly, add_changepoints_to_plot\n",
    "print(\"Modules are Imported \")\n"
   ]
  },
  {
   "cell_type": "markdown",
   "metadata": {},
   "source": [
    "# LOADING THE DATA"
   ]
  },
  {
   "cell_type": "code",
   "execution_count": null,
   "metadata": {
    "_cell_guid": "79c7e3d0-c299-4dcb-8224-4455121ee9b0",
    "_uuid": "d629ff2d2480ee46fbb7e2d37f6b5fab8052498a"
   },
   "outputs": [],
   "source": [
    "age_data = pd.read_csv('AgeGroupDetails.csv')\n",
    "icmrTestLabs = pd.read_csv('ICMRTestingLabs.csv') #Test labs data\n",
    "covid_data = pd.read_csv('covid_19_india.csv')\n",
    "world_data = pd.read_csv('covid_19_clean_complete.csv')\n",
    "hospital_data = pd.read_csv('HospitalBedsIndia.csv')"
   ]
  },
  {
   "cell_type": "markdown",
   "metadata": {},
   "source": [
    "# DATA OF INDIA (COVID)"
   ]
  },
  {
   "cell_type": "code",
   "execution_count": null,
   "metadata": {},
   "outputs": [],
   "source": [
    "covid_data.head() "
   ]
  },
  {
   "cell_type": "code",
   "execution_count": null,
   "metadata": {},
   "outputs": [],
   "source": [
    "covid_data.tail(5) #Recent Cases "
   ]
  },
  {
   "cell_type": "code",
   "execution_count": null,
   "metadata": {},
   "outputs": [],
   "source": [
    " covid_data.isnull().sum() #checking for null values\n"
   ]
  },
  {
   "cell_type": "code",
   "execution_count": null,
   "metadata": {},
   "outputs": [],
   "source": [
    "state_cases = covid_data.groupby('State/UnionTerritory')['Confirmed','Deaths','Cured'].max().reset_index()\n",
    "\n",
    "#Creating new columns 'Active', 'Death rate per 100' and 'Cure rate per 100'\n",
    "state_cases['Active'] = state_cases['Confirmed'] - (state_cases['Cured'] + state_cases['Deaths'])\n"
   ]
  },
  {
   "cell_type": "code",
   "execution_count": null,
   "metadata": {},
   "outputs": [],
   "source": [
    "#Sort by maximum Confirmed Cases\n",
    "state_cases = state_cases.sort_values(by='Confirmed', ascending=False) \n",
    "state_cases.style.background_gradient(cmap='Blues',subset=[\"Confirmed\"])\\\n",
    "                        .background_gradient(cmap='Reds',subset=[\"Deaths\"])\\\n",
    "                        .background_gradient(cmap='Greens',subset=[\"Cured\"])\\\n",
    "                        .background_gradient(cmap='Blues', subset=[\"Active\"])\\\n",
    "                        "
   ]
  },
  {
   "cell_type": "code",
   "execution_count": null,
   "metadata": {},
   "outputs": [],
   "source": [
    "#plot for Total Deaths in India (State wise Anlaysis)\n",
    "import datetime \n",
    "today = datetime.date.today() # today date\n",
    "yesterday = '02/09/20'\n",
    "df1= covid_data[covid_data['Date']==yesterday] # Below the plot I have shown the dataframe\n",
    "fig = px.bar(df1, x='State/UnionTerritory', y='Deaths', height=600)\n",
    "fig.update_layout(\n",
    "    title='Till {} Total Deaths in India'.format(yesterday))\n",
    "fig.show()\n",
    "df1.head()\n",
    "\n"
   ]
  },
  {
   "cell_type": "code",
   "execution_count": null,
   "metadata": {},
   "outputs": [],
   "source": [
    "# Plot for Recovered Cases in India (State Wise Analysis)\n",
    "\n",
    "import datetime \n",
    "today = datetime.date.today() # today date\n",
    "yesterday = '02/09/20'\n",
    "df1= covid_data[covid_data['Date']==yesterday] # Selecting the yesterday date \n",
    "fig = px.bar(df1, x='State/UnionTerritory', y='Cured', height=600)\n",
    "fig.update_layout(\n",
    "    title='Till {} Total Recovered Cases in India'.format(yesterday))\n",
    "fig.show() # plot \n",
    "df1.head() # Dataframe df1"
   ]
  },
  {
   "cell_type": "markdown",
   "metadata": {},
   "source": [
    "# AGE DATA"
   ]
  },
  {
   "cell_type": "code",
   "execution_count": null,
   "metadata": {},
   "outputs": [],
   "source": [
    "age_data.head(15) # It shows which age group is more affected by Covid "
   ]
  },
  {
   "cell_type": "code",
   "execution_count": null,
   "metadata": {},
   "outputs": [],
   "source": [
    "age_data.info()"
   ]
  },
  {
   "cell_type": "code",
   "execution_count": null,
   "metadata": {},
   "outputs": [],
   "source": [
    "percent = age_data['Percentage'] #percentage of people affected\n",
    "percent\n"
   ]
  },
  {
   "cell_type": "code",
   "execution_count": null,
   "metadata": {},
   "outputs": [],
   "source": [
    "# Plot \n",
    "plt.figure(figsize=(14,8)) #This Shows age group between 20 -29 is most affected by Covid\n",
    "sns.barplot(data= age_data,x='AgeGroup',y='TotalCases')\n",
    "plt.title('Age Group Distribution')\n",
    "plt.xlabel('Age Group')\n",
    "plt.ylabel('Total Nuumber of  Cases')\n"
   ]
  },
  {
   "cell_type": "markdown",
   "metadata": {},
   "source": [
    "# ICMR TEST LAB DATA\n"
   ]
  },
  {
   "cell_type": "code",
   "execution_count": null,
   "metadata": {},
   "outputs": [],
   "source": [
    "icmrTestLabs.head() #This will show everything bout Labs i.e Name , Address , State , pincode etc."
   ]
  },
  {
   "cell_type": "code",
   "execution_count": null,
   "metadata": {},
   "outputs": [],
   "source": [
    "icmrTestLabs['state'].value_counts() #Just to Show which state has more Labs\n",
    "\n"
   ]
  },
  {
   "cell_type": "code",
   "execution_count": null,
   "metadata": {},
   "outputs": [],
   "source": [
    "icmrTestLabs['type'].unique() # Just to check which type of labs i.e Private , Government or Collection Site"
   ]
  },
  {
   "cell_type": "code",
   "execution_count": null,
   "metadata": {},
   "outputs": [],
   "source": [
    "Labs_type_by_State = icmrTestLabs[['type', 'state']].groupby(['type', 'state']).sum()\n",
    "display(Labs_type_by_State)"
   ]
  },
  {
   "cell_type": "markdown",
   "metadata": {},
   "source": [
    "Statewise Analysis of Test Labs"
   ]
  },
  {
   "cell_type": "code",
   "execution_count": null,
   "metadata": {},
   "outputs": [],
   "source": [
    "state=list(icmrTestLabs['state'].value_counts().index) #states\n",
    "count=list(icmrTestLabs['state'].value_counts()) #number of labs\n",
    "plt.figure(figsize=(14,8))\n",
    "sns.barplot(x=count,y=state)\n",
    "plt.xlabel('Counts')\n",
    "plt.ylabel('States')\n",
    "plt.title('ICMR Test labs per States')\n",
    "plt.tight_layout()"
   ]
  },
  {
   "cell_type": "markdown",
   "metadata": {},
   "source": [
    "# HOSPITAL DATA"
   ]
  },
  {
   "cell_type": "code",
   "execution_count": null,
   "metadata": {},
   "outputs": [],
   "source": [
    "hospital_data.head(10)"
   ]
  },
  {
   "cell_type": "code",
   "execution_count": null,
   "metadata": {},
   "outputs": [],
   "source": [
    "hospital_data.describe()# Mean , total , percentile etc on all columns"
   ]
  },
  {
   "cell_type": "code",
   "execution_count": null,
   "metadata": {},
   "outputs": [],
   "source": [
    "hospital_data.isnull().sum() #checking Null values \n",
    "#  our data has only one column which is missing values i.e  NumSubDistrictHospitals_HMIS \n"
   ]
  },
  {
   "cell_type": "code",
   "execution_count": null,
   "metadata": {},
   "outputs": [],
   "source": [
    "hospital_data['NumSubDistrictHospitals_HMIS'] = hospital_data['NumSubDistrictHospitals_HMIS'].fillna(0)\n",
    "#fill all the missing values with zero (0)"
   ]
  },
  {
   "cell_type": "code",
   "execution_count": null,
   "metadata": {},
   "outputs": [],
   "source": [
    "# Public Beds in Hospital  \n",
    "fig = px.bar(hospital_data,                                  \n",
    "             x=hospital_data['State/UT'].iloc[:36], \n",
    "             y=hospital_data['NumPublicBeds_HMIS'].iloc[:36], \n",
    "             color=hospital_data['NumPublicBeds_HMIS'].iloc[:36])\n",
    "\n",
    "fig.update_layout(title={\n",
    "        'text': \"Num of Public Beds in Each State\",\n",
    "        'y':0.95,\n",
    "        'x':0.5,\n",
    "        'xanchor': 'center',\n",
    "        'yanchor': 'top'},\n",
    "        xaxis_title=\"State/UT\",\n",
    "        yaxis_title=\"Number of Public Beds\",\n",
    "        plot_bgcolor='white')"
   ]
  },
  {
   "cell_type": "markdown",
   "metadata": {},
   "source": [
    "<div style=\"color:white;\n",
    "           padding:8px 10px 0 10px;\n",
    "           display:inline-block;\n",
    "           border-radius:5px;\n",
    "           background-color:#5642C5;\n",
    "           font-size:110%;\n",
    "           font-family:Verdana\">\n",
    "    <h1 style='color:white;'>5. World Data</h1>\n",
    "</div>"
   ]
  },
  {
   "cell_type": "code",
   "execution_count": null,
   "metadata": {},
   "outputs": [],
   "source": [
    "world_data.head() #World Data"
   ]
  },
  {
   "cell_type": "markdown",
   "metadata": {},
   "source": [
    "<div style=\"color:white;\n",
    "           padding:8px 10px 0 10px;\n",
    "           display:inline-block;\n",
    "           border-radius:5px;\n",
    "           background-color:#5642C5;\n",
    "           font-size:110%;\n",
    "           font-family:Verdana\">\n",
    "    <h1 style='color:white;'>6. Making Predictions (India)</h1>\n",
    "</div>"
   ]
  },
  {
   "cell_type": "markdown",
   "metadata": {},
   "source": [
    " Data forecasting is done by using Prophet library .Prophet is an open source library published by Facebook which is good for Time Series Forecasting. We will predict the coronavirus cases till ** Mid August  2020**."
   ]
  },
  {
   "cell_type": "code",
   "execution_count": null,
   "metadata": {},
   "outputs": [],
   "source": [
    "india_data = world_data[world_data[\"Country/Region\"]==\"India\"] #Selecting India from World Data\n",
    "india_data.head()"
   ]
  },
  {
   "cell_type": "code",
   "execution_count": null,
   "metadata": {},
   "outputs": [],
   "source": [
    "pred_data = india_data.groupby('Date')[['Confirmed', 'Recovered', 'Deaths']].sum().reset_index()\n",
    "pred_data['Date'] = pred_data['Date'].apply(pd.to_datetime, dayfirst=True)\n",
    "#Grouping the data Based upon Date and Cnfirmed , Recovered Casea and Deaths"
   ]
  },
  {
   "cell_type": "markdown",
   "metadata": {},
   "source": [
    "<div style=\"color:white;\n",
    "           padding:8px 10px 0 10px;\n",
    "           display:inline-block;\n",
    "           border-radius:5px;\n",
    "           background-color:#EC2566;\n",
    "           font-size:90%;\n",
    "           font-family:Verdana\">\n",
    "    <h1 style='color:white;'>6.1. Confirmed Cases in India</h1>\n",
    "</div>"
   ]
  },
  {
   "cell_type": "code",
   "execution_count": null,
   "metadata": {},
   "outputs": [],
   "source": [
    "pred_confirm = pred_data.loc[:, ['Date', 'Confirmed']] # for Prophet model we are required to have atleast 2 columns\n",
    "# Date and Object which we are  Predicting\n",
    "pred_confirm.tail()"
   ]
  },
  {
   "cell_type": "markdown",
   "metadata": {},
   "source": [
    "<div style=\"color:white;\n",
    "           padding:8px 10px 0 10px;\n",
    "           display:inline-block;\n",
    "           border-radius:5px;\n",
    "           background-color:#5E7B81;\n",
    "           font-size:90%;\n",
    "           font-family:Verdana\">\n",
    "    <h1 style='color:#ffffff;'>6.1.1. Creating Model</h1>\n",
    "</div>"
   ]
  },
  {
   "cell_type": "markdown",
   "metadata": {},
   "source": [
    "Defining our Prophet() model."
   ]
  },
  {
   "cell_type": "code",
   "execution_count": null,
   "metadata": {},
   "outputs": [],
   "source": [
    "model = Prophet()"
   ]
  },
  {
   "cell_type": "code",
   "execution_count": null,
   "metadata": {},
   "outputs": [],
   "source": [
    "# Dataframe must have columns \"ds\" and \"y\" with the dates and values  for prophet prediction\n",
    "pred_confirm.columns = ['ds', 'y']\n",
    "model.fit(pred_confirm)"
   ]
  },
  {
   "cell_type": "code",
   "execution_count": null,
   "metadata": {},
   "outputs": [],
   "source": [
    "future = model.make_future_dataframe(periods=45) # helper function to extend the dataframe for specified days\n",
    "future.tail()"
   ]
  },
  {
   "cell_type": "markdown",
   "metadata": {},
   "source": [
    "<div style=\"color:white;\n",
    "           padding:8px 10px 0 10px;\n",
    "           display:inline-block;\n",
    "           border-radius:5px;\n",
    "           background-color:#5E7B81;\n",
    "           font-size:90%;\n",
    "           font-family:Verdana\">\n",
    "    <h1 style='color:#ffffff;'>6.1.2. Making Predictions</h1>\n",
    "</div>"
   ]
  },
  {
   "cell_type": "code",
   "execution_count": null,
   "metadata": {},
   "outputs": [],
   "source": [
    "# yhat represents the prediction, while yhat_lower and yhat_upper represent the lower and upper bound\n",
    "forecast_india_conf = model.predict(future)\n",
    "forecast_india_conf"
   ]
  },
  {
   "cell_type": "code",
   "execution_count": null,
   "metadata": {},
   "outputs": [],
   "source": [
    "fig = plot_plotly(model, forecast_india_conf) \n",
    "\n",
    "fig.update_layout(template='plotly_white')\n",
    "\n",
    "iplot(fig) "
   ]
  },
  {
   "cell_type": "code",
   "execution_count": null,
   "metadata": {},
   "outputs": [],
   "source": [
    "fig = model.plot(forecast_india_conf)"
   ]
  },
  {
   "cell_type": "code",
   "execution_count": null,
   "metadata": {},
   "outputs": [],
   "source": [
    "# Plot the various component i.e how the trend goes \n",
    "fig = model.plot_components(forecast_india_conf)"
   ]
  },
  {
   "cell_type": "code",
   "execution_count": null,
   "metadata": {},
   "outputs": [],
   "source": [
    "cnfrm = forecast_india_conf.loc[:,['ds','trend']]\n",
    "cnfrm = cnfrm[cnfrm['trend']>0] # trend goes like present trend\n",
    "cnfrm.columns = ['Date','Confirm'] # name the columns\n",
    "cnfrm.tail(15)"
   ]
  },
  {
   "cell_type": "markdown",
   "metadata": {},
   "source": [
    "# Recovered Cases\n"
   ]
  },
  {
   "cell_type": "code",
   "execution_count": null,
   "metadata": {},
   "outputs": [],
   "source": [
    "pred_recovered_cases = pred_data.loc[:, ['Date', 'Recovered']]\n",
    "\n",
    "pred_recovered_cases.head(10)\n"
   ]
  },
  {
   "cell_type": "code",
   "execution_count": null,
   "metadata": {},
   "outputs": [],
   "source": [
    "model = Prophet()\n",
    "\n",
    "pred_recovered_cases.columns = ['ds', 'y']\n",
    "model.fit(pred_recovered_cases)"
   ]
  },
  {
   "cell_type": "code",
   "execution_count": null,
   "metadata": {},
   "outputs": [],
   "source": [
    "future = model.make_future_dataframe(periods=45)\n",
    "future.tail()"
   ]
  },
  {
   "cell_type": "code",
   "execution_count": null,
   "metadata": {},
   "outputs": [],
   "source": [
    "forecast_india_recover = model.predict(future)\n",
    "\n",
    "forecast_india_recover"
   ]
  },
  {
   "cell_type": "code",
   "execution_count": null,
   "metadata": {},
   "outputs": [],
   "source": [
    "fig = plot_plotly(model, forecast_india_recover)\n",
    "fig.update_layout(template='plotly_white')\n",
    "iplot(fig) "
   ]
  },
  {
   "cell_type": "code",
   "execution_count": null,
   "metadata": {},
   "outputs": [],
   "source": [
    "pred_deaths = pred_data.loc[:, ['Date', 'Deaths']]\n",
    "pred_deaths.tail(3)"
   ]
  },
  {
   "cell_type": "code",
   "execution_count": null,
   "metadata": {},
   "outputs": [],
   "source": [
    "model = Prophet()\n",
    "pred_deaths.columns = ['ds', 'y']\n",
    "model.fit(pred_deaths)"
   ]
  },
  {
   "cell_type": "code",
   "execution_count": null,
   "metadata": {},
   "outputs": [],
   "source": [
    "future = model.make_future_dataframe(periods=45)\n",
    "future.tail()"
   ]
  },
  {
   "cell_type": "code",
   "execution_count": null,
   "metadata": {},
   "outputs": [],
   "source": [
    "forecast_india_death = model.predict(future)\n",
    "forecast_india_death"
   ]
  },
  {
   "cell_type": "code",
   "execution_count": null,
   "metadata": {},
   "outputs": [],
   "source": [
    "fig = plot_plotly(model, forecast_india_death)\n",
    "fig.update_layout(template='plotly_white')\n",
    "iplot(fig) "
   ]
  },
  {
   "cell_type": "code",
   "execution_count": null,
   "metadata": {},
   "outputs": [],
   "source": []
  }
 ],
 "metadata": {
  "kernelspec": {
   "display_name": "Python 3",
   "language": "python",
   "name": "python3"
  },
  "language_info": {
   "codemirror_mode": {
    "name": "ipython",
    "version": 3
   },
   "file_extension": ".py",
   "mimetype": "text/x-python",
   "name": "python",
   "nbconvert_exporter": "python",
   "pygments_lexer": "ipython3",
   "version": "3.6.8"
  }
 },
 "nbformat": 4,
 "nbformat_minor": 4
}
