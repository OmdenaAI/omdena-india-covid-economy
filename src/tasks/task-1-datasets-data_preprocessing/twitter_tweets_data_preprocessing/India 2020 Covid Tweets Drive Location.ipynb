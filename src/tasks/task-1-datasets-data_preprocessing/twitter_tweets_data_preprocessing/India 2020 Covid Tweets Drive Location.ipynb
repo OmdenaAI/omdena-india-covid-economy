{
 "cells": [
  {
   "cell_type": "markdown",
   "metadata": {},
   "source": [
    "RAW India Tweet Text Drive location https://drive.google.com/drive/folders/158DnCj8UmMSywddVOo-nb4QQZ0IvAWoS?usp=sharing"
   ]
  },
  {
   "cell_type": "markdown",
   "metadata": {},
   "source": [
    "CLEANED India Tweet Texts Drive Location: \"https://drive.google.com/file/d/1-l6moyP67r3GLEPI6xuPwxzRWKckZKj3/view?usp=sharing\""
   ]
  }
 ],
 "metadata": {
  "kernelspec": {
   "display_name": "Python 3",
   "language": "python",
   "name": "python3"
  },
  "language_info": {
   "codemirror_mode": {
    "name": "ipython",
    "version": 3
   },
   "file_extension": ".py",
   "mimetype": "text/x-python",
   "name": "python",
   "nbconvert_exporter": "python",
   "pygments_lexer": "ipython3",
   "version": "3.7.7"
  }
 },
 "nbformat": 4,
 "nbformat_minor": 4
}
