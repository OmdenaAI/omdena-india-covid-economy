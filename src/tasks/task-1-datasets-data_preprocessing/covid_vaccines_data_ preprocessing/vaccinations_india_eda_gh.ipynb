{
 "cells": [
  {
   "cell_type": "markdown",
   "id": "affc7dfa",
   "metadata": {},
   "source": [
    "### Pre-processing and EDA of Vaccinations data (India):\n",
    "\n",
    "> - **The date of vaccinations available from 2021-01-15**\n",
    "> - Data Gathering of the below pre-processing and EDA steps from https://github.com/owid/covid-19-data/blob/master/public/data/vaccinations/country_data/India.csv\n",
    "> - Below are the initial set of insights from the above dataset\n",
    "> - This dataset is about the vaccination details specific to India\n",
    "> - **Details about variables/columns:**\n",
    "    - ```location```: Name of country for the data about vaccinations\n",
    "    - ```date```: Date of the observation\n",
    "    - ```vaccine```: List of vaccines administered in the country as per the current date shown\n",
    "    - ```source_url```: URL link for the data/record\n",
    "    - ```total_vaccinations```: Total number of doses administered. If a person receives one dose of the vaccine, this metric goes up by 1. If they receive a second dose, it goes up by 1 again (**people_vaccinated + people_fully_vaccinated**).\n",
    "    - ```people_vaccinated```: (**one-dose** vaccination) Total number of people who received at least one vaccine dose. If a person receives the first dose of a 2-dose vaccine, this metric goes up by 1. If they receive the second dose, the metric stays the same.\n",
    "    - ```people_fully_vaccinated```: (**two-doses** vaccination) Total number of people who received all doses prescribed by the vaccination protocol. If a person receives the first dose of a 2-dose vaccine, this metric stays the same. If they receive the second dose, the metric goes up by 1.\n",
    "> - This is a entire country-wise counts for the vaccination on a rolling daily basis from the above date.\n",
    "> - Other factors of covid for India states-wise available @ https://www.kaggle.com/imdevskp/covid19-corona-virus-india-dataset?select=complete.csv but from 2020-01-30 till 2020-08-06\n",
    "\n",
    "- Notebook from Ramya N (GitHub user name: rnedesigns)"
   ]
  },
  {
   "cell_type": "code",
   "execution_count": 1,
   "id": "50725e98",
   "metadata": {},
   "outputs": [],
   "source": [
    "import pandas as pd"
   ]
  },
  {
   "cell_type": "code",
   "execution_count": 2,
   "id": "c7395ba9",
   "metadata": {},
   "outputs": [],
   "source": [
    "import matplotlib\n",
    "import matplotlib.pyplot as plt\n",
    "%matplotlib inline"
   ]
  },
  {
   "cell_type": "code",
   "execution_count": 3,
   "id": "1205b209",
   "metadata": {},
   "outputs": [],
   "source": [
    "import plotly.express as px"
   ]
  },
  {
   "cell_type": "markdown",
   "id": "f28c83e7",
   "metadata": {},
   "source": [
    "### To pre-process and explore datasets (EDA):\n",
    "\n",
    "> - Below steps to know about data fields, their content and data types\n",
    "> - Finding shape of the dataset, descriptive statistics, metadata about the DataFrame\n",
    "> - Imputing missing values if any\n",
    "> - Transform column based on the categorical columns or date field. Ex: Pandas provides date field as object type that requires to translate to datetime type especially for time-series analysis, encoding categorical values based on weighate of the variables for the model fitting\n",
    "> - Keeping the naming conventions of variables/fields consistant if they are not\n",
    "> - Segregating datasets to training and test sets"
   ]
  },
  {
   "cell_type": "code",
   "execution_count": 4,
   "id": "5568ebef",
   "metadata": {},
   "outputs": [],
   "source": [
    "gh_raw_csv_url = 'https://raw.githubusercontent.com/owid/covid-19-data/master/public/data/vaccinations/country_data/India.csv'"
   ]
  },
  {
   "cell_type": "code",
   "execution_count": 5,
   "id": "178c6f3d",
   "metadata": {},
   "outputs": [
    {
     "data": {
      "text/html": [
       "<div>\n",
       "<style scoped>\n",
       "    .dataframe tbody tr th:only-of-type {\n",
       "        vertical-align: middle;\n",
       "    }\n",
       "\n",
       "    .dataframe tbody tr th {\n",
       "        vertical-align: top;\n",
       "    }\n",
       "\n",
       "    .dataframe thead th {\n",
       "        text-align: right;\n",
       "    }\n",
       "</style>\n",
       "<table border=\"1\" class=\"dataframe\">\n",
       "  <thead>\n",
       "    <tr style=\"text-align: right;\">\n",
       "      <th></th>\n",
       "      <th>location</th>\n",
       "      <th>date</th>\n",
       "      <th>vaccine</th>\n",
       "      <th>source_url</th>\n",
       "      <th>total_vaccinations</th>\n",
       "      <th>people_vaccinated</th>\n",
       "      <th>people_fully_vaccinated</th>\n",
       "    </tr>\n",
       "  </thead>\n",
       "  <tbody>\n",
       "    <tr>\n",
       "      <th>0</th>\n",
       "      <td>India</td>\n",
       "      <td>2021-01-15</td>\n",
       "      <td>Covaxin, Oxford/AstraZeneca</td>\n",
       "      <td>https://twitter.com/MoHFW_INDIA/status/1350459...</td>\n",
       "      <td>0</td>\n",
       "      <td>0</td>\n",
       "      <td>0</td>\n",
       "    </tr>\n",
       "    <tr>\n",
       "      <th>1</th>\n",
       "      <td>India</td>\n",
       "      <td>2021-01-16</td>\n",
       "      <td>Covaxin, Oxford/AstraZeneca</td>\n",
       "      <td>https://twitter.com/MoHFW_INDIA/status/1350459...</td>\n",
       "      <td>191181</td>\n",
       "      <td>191181</td>\n",
       "      <td>0</td>\n",
       "    </tr>\n",
       "    <tr>\n",
       "      <th>2</th>\n",
       "      <td>India</td>\n",
       "      <td>2021-01-17</td>\n",
       "      <td>Covaxin, Oxford/AstraZeneca</td>\n",
       "      <td>https://twitter.com/MoHFW_INDIA/status/1350815...</td>\n",
       "      <td>224301</td>\n",
       "      <td>224301</td>\n",
       "      <td>0</td>\n",
       "    </tr>\n",
       "    <tr>\n",
       "      <th>3</th>\n",
       "      <td>India</td>\n",
       "      <td>2021-01-18</td>\n",
       "      <td>Covaxin, Oxford/AstraZeneca</td>\n",
       "      <td>https://www.mohfw.gov.in/</td>\n",
       "      <td>454049</td>\n",
       "      <td>454049</td>\n",
       "      <td>0</td>\n",
       "    </tr>\n",
       "    <tr>\n",
       "      <th>4</th>\n",
       "      <td>India</td>\n",
       "      <td>2021-01-19</td>\n",
       "      <td>Covaxin, Oxford/AstraZeneca</td>\n",
       "      <td>https://www.mohfw.gov.in/</td>\n",
       "      <td>674835</td>\n",
       "      <td>674835</td>\n",
       "      <td>0</td>\n",
       "    </tr>\n",
       "  </tbody>\n",
       "</table>\n",
       "</div>"
      ],
      "text/plain": [
       "  location        date                      vaccine  \\\n",
       "0    India  2021-01-15  Covaxin, Oxford/AstraZeneca   \n",
       "1    India  2021-01-16  Covaxin, Oxford/AstraZeneca   \n",
       "2    India  2021-01-17  Covaxin, Oxford/AstraZeneca   \n",
       "3    India  2021-01-18  Covaxin, Oxford/AstraZeneca   \n",
       "4    India  2021-01-19  Covaxin, Oxford/AstraZeneca   \n",
       "\n",
       "                                          source_url  total_vaccinations  \\\n",
       "0  https://twitter.com/MoHFW_INDIA/status/1350459...                   0   \n",
       "1  https://twitter.com/MoHFW_INDIA/status/1350459...              191181   \n",
       "2  https://twitter.com/MoHFW_INDIA/status/1350815...              224301   \n",
       "3                          https://www.mohfw.gov.in/              454049   \n",
       "4                          https://www.mohfw.gov.in/              674835   \n",
       "\n",
       "   people_vaccinated  people_fully_vaccinated  \n",
       "0                  0                        0  \n",
       "1             191181                        0  \n",
       "2             224301                        0  \n",
       "3             454049                        0  \n",
       "4             674835                        0  "
      ]
     },
     "execution_count": 5,
     "metadata": {},
     "output_type": "execute_result"
    }
   ],
   "source": [
    "vaccines_india_df = pd.read_csv(gh_raw_csv_url)\n",
    "vaccines_india_df.head()"
   ]
  },
  {
   "cell_type": "code",
   "execution_count": 6,
   "id": "fa74f365",
   "metadata": {},
   "outputs": [
    {
     "data": {
      "text/plain": [
       "(179, 7)"
      ]
     },
     "execution_count": 6,
     "metadata": {},
     "output_type": "execute_result"
    }
   ],
   "source": [
    "# For number rows/records and fields\n",
    "vaccines_india_df.shape"
   ]
  },
  {
   "cell_type": "code",
   "execution_count": 7,
   "id": "60a9831d",
   "metadata": {},
   "outputs": [
    {
     "name": "stdout",
     "output_type": "stream",
     "text": [
      "<class 'pandas.core.frame.DataFrame'>\n",
      "RangeIndex: 179 entries, 0 to 178\n",
      "Data columns (total 7 columns):\n",
      " #   Column                   Non-Null Count  Dtype \n",
      "---  ------                   --------------  ----- \n",
      " 0   location                 179 non-null    object\n",
      " 1   date                     179 non-null    object\n",
      " 2   vaccine                  179 non-null    object\n",
      " 3   source_url               179 non-null    object\n",
      " 4   total_vaccinations       179 non-null    int64 \n",
      " 5   people_vaccinated        179 non-null    int64 \n",
      " 6   people_fully_vaccinated  179 non-null    int64 \n",
      "dtypes: int64(3), object(4)\n",
      "memory usage: 9.9+ KB\n"
     ]
    }
   ],
   "source": [
    "vaccines_india_df.info()"
   ]
  },
  {
   "cell_type": "code",
   "execution_count": 8,
   "id": "f6c0ccfe",
   "metadata": {},
   "outputs": [
    {
     "data": {
      "text/html": [
       "<div>\n",
       "<style scoped>\n",
       "    .dataframe tbody tr th:only-of-type {\n",
       "        vertical-align: middle;\n",
       "    }\n",
       "\n",
       "    .dataframe tbody tr th {\n",
       "        vertical-align: top;\n",
       "    }\n",
       "\n",
       "    .dataframe thead th {\n",
       "        text-align: right;\n",
       "    }\n",
       "</style>\n",
       "<table border=\"1\" class=\"dataframe\">\n",
       "  <thead>\n",
       "    <tr style=\"text-align: right;\">\n",
       "      <th></th>\n",
       "      <th>total_vaccinations</th>\n",
       "      <th>people_vaccinated</th>\n",
       "      <th>people_fully_vaccinated</th>\n",
       "    </tr>\n",
       "  </thead>\n",
       "  <tbody>\n",
       "    <tr>\n",
       "      <th>count</th>\n",
       "      <td>1.790000e+02</td>\n",
       "      <td>1.790000e+02</td>\n",
       "      <td>1.790000e+02</td>\n",
       "    </tr>\n",
       "    <tr>\n",
       "      <th>mean</th>\n",
       "      <td>1.349342e+08</td>\n",
       "      <td>1.100810e+08</td>\n",
       "      <td>2.485325e+07</td>\n",
       "    </tr>\n",
       "    <tr>\n",
       "      <th>std</th>\n",
       "      <td>1.217814e+08</td>\n",
       "      <td>9.812176e+07</td>\n",
       "      <td>2.393222e+07</td>\n",
       "    </tr>\n",
       "    <tr>\n",
       "      <th>min</th>\n",
       "      <td>0.000000e+00</td>\n",
       "      <td>0.000000e+00</td>\n",
       "      <td>0.000000e+00</td>\n",
       "    </tr>\n",
       "    <tr>\n",
       "      <th>25%</th>\n",
       "      <td>1.523744e+07</td>\n",
       "      <td>1.258155e+07</td>\n",
       "      <td>2.655888e+06</td>\n",
       "    </tr>\n",
       "    <tr>\n",
       "      <th>50%</th>\n",
       "      <td>1.172235e+08</td>\n",
       "      <td>1.023493e+08</td>\n",
       "      <td>1.487425e+07</td>\n",
       "    </tr>\n",
       "    <tr>\n",
       "      <th>75%</th>\n",
       "      <td>2.170113e+08</td>\n",
       "      <td>1.730819e+08</td>\n",
       "      <td>4.392940e+07</td>\n",
       "    </tr>\n",
       "    <tr>\n",
       "      <th>max</th>\n",
       "      <td>4.118464e+08</td>\n",
       "      <td>3.263928e+08</td>\n",
       "      <td>8.545362e+07</td>\n",
       "    </tr>\n",
       "  </tbody>\n",
       "</table>\n",
       "</div>"
      ],
      "text/plain": [
       "       total_vaccinations  people_vaccinated  people_fully_vaccinated\n",
       "count        1.790000e+02       1.790000e+02             1.790000e+02\n",
       "mean         1.349342e+08       1.100810e+08             2.485325e+07\n",
       "std          1.217814e+08       9.812176e+07             2.393222e+07\n",
       "min          0.000000e+00       0.000000e+00             0.000000e+00\n",
       "25%          1.523744e+07       1.258155e+07             2.655888e+06\n",
       "50%          1.172235e+08       1.023493e+08             1.487425e+07\n",
       "75%          2.170113e+08       1.730819e+08             4.392940e+07\n",
       "max          4.118464e+08       3.263928e+08             8.545362e+07"
      ]
     },
     "execution_count": 8,
     "metadata": {},
     "output_type": "execute_result"
    }
   ],
   "source": [
    "# Here it's providing all the numerical computations in logarithmic format:\n",
    "vaccines_india_df.describe()"
   ]
  },
  {
   "cell_type": "code",
   "execution_count": 25,
   "id": "5516a7fe",
   "metadata": {},
   "outputs": [
    {
     "data": {
      "text/html": [
       "<div>\n",
       "<style scoped>\n",
       "    .dataframe tbody tr th:only-of-type {\n",
       "        vertical-align: middle;\n",
       "    }\n",
       "\n",
       "    .dataframe tbody tr th {\n",
       "        vertical-align: top;\n",
       "    }\n",
       "\n",
       "    .dataframe thead th {\n",
       "        text-align: right;\n",
       "    }\n",
       "</style>\n",
       "<table border=\"1\" class=\"dataframe\">\n",
       "  <thead>\n",
       "    <tr style=\"text-align: right;\">\n",
       "      <th></th>\n",
       "      <th>count</th>\n",
       "      <th>mean</th>\n",
       "      <th>std</th>\n",
       "      <th>min</th>\n",
       "      <th>25%</th>\n",
       "      <th>50%</th>\n",
       "      <th>75%</th>\n",
       "      <th>max</th>\n",
       "    </tr>\n",
       "  </thead>\n",
       "  <tbody>\n",
       "    <tr>\n",
       "      <th>total_vaccinations</th>\n",
       "      <td>179.0</td>\n",
       "      <td>1.349342e+08</td>\n",
       "      <td>1.217814e+08</td>\n",
       "      <td>0.0</td>\n",
       "      <td>15237442.5</td>\n",
       "      <td>117223509.0</td>\n",
       "      <td>217011275.0</td>\n",
       "      <td>411846401.0</td>\n",
       "    </tr>\n",
       "    <tr>\n",
       "      <th>people_vaccinated</th>\n",
       "      <td>179.0</td>\n",
       "      <td>1.100810e+08</td>\n",
       "      <td>9.812176e+07</td>\n",
       "      <td>0.0</td>\n",
       "      <td>12581554.0</td>\n",
       "      <td>102349255.0</td>\n",
       "      <td>173081870.5</td>\n",
       "      <td>326392783.0</td>\n",
       "    </tr>\n",
       "    <tr>\n",
       "      <th>people_fully_vaccinated</th>\n",
       "      <td>179.0</td>\n",
       "      <td>2.485325e+07</td>\n",
       "      <td>2.393222e+07</td>\n",
       "      <td>0.0</td>\n",
       "      <td>2655888.5</td>\n",
       "      <td>14874254.0</td>\n",
       "      <td>43929404.5</td>\n",
       "      <td>85453618.0</td>\n",
       "    </tr>\n",
       "    <tr>\n",
       "      <th>year</th>\n",
       "      <td>179.0</td>\n",
       "      <td>2.021000e+03</td>\n",
       "      <td>0.000000e+00</td>\n",
       "      <td>2021.0</td>\n",
       "      <td>2021.0</td>\n",
       "      <td>2021.0</td>\n",
       "      <td>2021.0</td>\n",
       "      <td>2021.0</td>\n",
       "    </tr>\n",
       "    <tr>\n",
       "      <th>month</th>\n",
       "      <td>179.0</td>\n",
       "      <td>4.030000e+00</td>\n",
       "      <td>1.830000e+00</td>\n",
       "      <td>1.0</td>\n",
       "      <td>3.0</td>\n",
       "      <td>4.0</td>\n",
       "      <td>6.0</td>\n",
       "      <td>7.0</td>\n",
       "    </tr>\n",
       "  </tbody>\n",
       "</table>\n",
       "</div>"
      ],
      "text/plain": [
       "                         count          mean           std     min  \\\n",
       "total_vaccinations       179.0  1.349342e+08  1.217814e+08     0.0   \n",
       "people_vaccinated        179.0  1.100810e+08  9.812176e+07     0.0   \n",
       "people_fully_vaccinated  179.0  2.485325e+07  2.393222e+07     0.0   \n",
       "year                     179.0  2.021000e+03  0.000000e+00  2021.0   \n",
       "month                    179.0  4.030000e+00  1.830000e+00     1.0   \n",
       "\n",
       "                                25%          50%          75%          max  \n",
       "total_vaccinations       15237442.5  117223509.0  217011275.0  411846401.0  \n",
       "people_vaccinated        12581554.0  102349255.0  173081870.5  326392783.0  \n",
       "people_fully_vaccinated   2655888.5   14874254.0   43929404.5   85453618.0  \n",
       "year                         2021.0       2021.0       2021.0       2021.0  \n",
       "month                           3.0          4.0          6.0          7.0  "
      ]
     },
     "execution_count": 25,
     "metadata": {},
     "output_type": "execute_result"
    }
   ],
   "source": [
    "# Transposing the output of describe() methods to get fields in a list at left-side:\n",
    "round(vaccines_india_df.describe().T, 2)"
   ]
  },
  {
   "cell_type": "code",
   "execution_count": 10,
   "id": "861ad54a",
   "metadata": {},
   "outputs": [],
   "source": [
    "# Convert Date column object type datetime type:\n",
    "\n",
    "def datetime_split(df):\n",
    "    df['date'] = pd.to_datetime(df['date'], format='%Y-%m-%d')\n",
    "    df['year'] = df.date.dt.year\n",
    "    df['month'] = df.date.dt.month"
   ]
  },
  {
   "cell_type": "code",
   "execution_count": 11,
   "id": "beaf6c82",
   "metadata": {},
   "outputs": [],
   "source": [
    "datetime_split(vaccines_india_df)"
   ]
  },
  {
   "cell_type": "code",
   "execution_count": 12,
   "id": "61ce834a",
   "metadata": {},
   "outputs": [
    {
     "data": {
      "text/html": [
       "<div>\n",
       "<style scoped>\n",
       "    .dataframe tbody tr th:only-of-type {\n",
       "        vertical-align: middle;\n",
       "    }\n",
       "\n",
       "    .dataframe tbody tr th {\n",
       "        vertical-align: top;\n",
       "    }\n",
       "\n",
       "    .dataframe thead th {\n",
       "        text-align: right;\n",
       "    }\n",
       "</style>\n",
       "<table border=\"1\" class=\"dataframe\">\n",
       "  <thead>\n",
       "    <tr style=\"text-align: right;\">\n",
       "      <th></th>\n",
       "      <th>location</th>\n",
       "      <th>date</th>\n",
       "      <th>vaccine</th>\n",
       "      <th>source_url</th>\n",
       "      <th>total_vaccinations</th>\n",
       "      <th>people_vaccinated</th>\n",
       "      <th>people_fully_vaccinated</th>\n",
       "      <th>year</th>\n",
       "      <th>month</th>\n",
       "    </tr>\n",
       "  </thead>\n",
       "  <tbody>\n",
       "    <tr>\n",
       "      <th>0</th>\n",
       "      <td>India</td>\n",
       "      <td>2021-01-15</td>\n",
       "      <td>Covaxin, Oxford/AstraZeneca</td>\n",
       "      <td>https://twitter.com/MoHFW_INDIA/status/1350459...</td>\n",
       "      <td>0</td>\n",
       "      <td>0</td>\n",
       "      <td>0</td>\n",
       "      <td>2021</td>\n",
       "      <td>1</td>\n",
       "    </tr>\n",
       "    <tr>\n",
       "      <th>1</th>\n",
       "      <td>India</td>\n",
       "      <td>2021-01-16</td>\n",
       "      <td>Covaxin, Oxford/AstraZeneca</td>\n",
       "      <td>https://twitter.com/MoHFW_INDIA/status/1350459...</td>\n",
       "      <td>191181</td>\n",
       "      <td>191181</td>\n",
       "      <td>0</td>\n",
       "      <td>2021</td>\n",
       "      <td>1</td>\n",
       "    </tr>\n",
       "    <tr>\n",
       "      <th>2</th>\n",
       "      <td>India</td>\n",
       "      <td>2021-01-17</td>\n",
       "      <td>Covaxin, Oxford/AstraZeneca</td>\n",
       "      <td>https://twitter.com/MoHFW_INDIA/status/1350815...</td>\n",
       "      <td>224301</td>\n",
       "      <td>224301</td>\n",
       "      <td>0</td>\n",
       "      <td>2021</td>\n",
       "      <td>1</td>\n",
       "    </tr>\n",
       "    <tr>\n",
       "      <th>3</th>\n",
       "      <td>India</td>\n",
       "      <td>2021-01-18</td>\n",
       "      <td>Covaxin, Oxford/AstraZeneca</td>\n",
       "      <td>https://www.mohfw.gov.in/</td>\n",
       "      <td>454049</td>\n",
       "      <td>454049</td>\n",
       "      <td>0</td>\n",
       "      <td>2021</td>\n",
       "      <td>1</td>\n",
       "    </tr>\n",
       "    <tr>\n",
       "      <th>4</th>\n",
       "      <td>India</td>\n",
       "      <td>2021-01-19</td>\n",
       "      <td>Covaxin, Oxford/AstraZeneca</td>\n",
       "      <td>https://www.mohfw.gov.in/</td>\n",
       "      <td>674835</td>\n",
       "      <td>674835</td>\n",
       "      <td>0</td>\n",
       "      <td>2021</td>\n",
       "      <td>1</td>\n",
       "    </tr>\n",
       "    <tr>\n",
       "      <th>...</th>\n",
       "      <td>...</td>\n",
       "      <td>...</td>\n",
       "      <td>...</td>\n",
       "      <td>...</td>\n",
       "      <td>...</td>\n",
       "      <td>...</td>\n",
       "      <td>...</td>\n",
       "      <td>...</td>\n",
       "      <td>...</td>\n",
       "    </tr>\n",
       "    <tr>\n",
       "      <th>174</th>\n",
       "      <td>India</td>\n",
       "      <td>2021-07-14</td>\n",
       "      <td>Covaxin, Oxford/AstraZeneca, Sputnik V</td>\n",
       "      <td>https://www.mohfw.gov.in/</td>\n",
       "      <td>391340491</td>\n",
       "      <td>313529502</td>\n",
       "      <td>77810989</td>\n",
       "      <td>2021</td>\n",
       "      <td>7</td>\n",
       "    </tr>\n",
       "    <tr>\n",
       "      <th>175</th>\n",
       "      <td>India</td>\n",
       "      <td>2021-07-15</td>\n",
       "      <td>Covaxin, Oxford/AstraZeneca, Sputnik V</td>\n",
       "      <td>https://www.mohfw.gov.in/</td>\n",
       "      <td>395343767</td>\n",
       "      <td>316116189</td>\n",
       "      <td>79227578</td>\n",
       "      <td>2021</td>\n",
       "      <td>7</td>\n",
       "    </tr>\n",
       "    <tr>\n",
       "      <th>176</th>\n",
       "      <td>India</td>\n",
       "      <td>2021-07-16</td>\n",
       "      <td>Covaxin, Oxford/AstraZeneca, Sputnik V</td>\n",
       "      <td>https://www.mohfw.gov.in/</td>\n",
       "      <td>399695879</td>\n",
       "      <td>318665226</td>\n",
       "      <td>81030653</td>\n",
       "      <td>2021</td>\n",
       "      <td>7</td>\n",
       "    </tr>\n",
       "    <tr>\n",
       "      <th>177</th>\n",
       "      <td>India</td>\n",
       "      <td>2021-07-17</td>\n",
       "      <td>Covaxin, Oxford/AstraZeneca, Sputnik V</td>\n",
       "      <td>https://www.mohfw.gov.in/</td>\n",
       "      <td>404931715</td>\n",
       "      <td>321893762</td>\n",
       "      <td>83037953</td>\n",
       "      <td>2021</td>\n",
       "      <td>7</td>\n",
       "    </tr>\n",
       "    <tr>\n",
       "      <th>178</th>\n",
       "      <td>India</td>\n",
       "      <td>2021-07-19</td>\n",
       "      <td>Covaxin, Oxford/AstraZeneca, Sputnik V</td>\n",
       "      <td>https://www.mohfw.gov.in/</td>\n",
       "      <td>411846401</td>\n",
       "      <td>326392783</td>\n",
       "      <td>85453618</td>\n",
       "      <td>2021</td>\n",
       "      <td>7</td>\n",
       "    </tr>\n",
       "  </tbody>\n",
       "</table>\n",
       "<p>179 rows × 9 columns</p>\n",
       "</div>"
      ],
      "text/plain": [
       "    location       date                                 vaccine  \\\n",
       "0      India 2021-01-15             Covaxin, Oxford/AstraZeneca   \n",
       "1      India 2021-01-16             Covaxin, Oxford/AstraZeneca   \n",
       "2      India 2021-01-17             Covaxin, Oxford/AstraZeneca   \n",
       "3      India 2021-01-18             Covaxin, Oxford/AstraZeneca   \n",
       "4      India 2021-01-19             Covaxin, Oxford/AstraZeneca   \n",
       "..       ...        ...                                     ...   \n",
       "174    India 2021-07-14  Covaxin, Oxford/AstraZeneca, Sputnik V   \n",
       "175    India 2021-07-15  Covaxin, Oxford/AstraZeneca, Sputnik V   \n",
       "176    India 2021-07-16  Covaxin, Oxford/AstraZeneca, Sputnik V   \n",
       "177    India 2021-07-17  Covaxin, Oxford/AstraZeneca, Sputnik V   \n",
       "178    India 2021-07-19  Covaxin, Oxford/AstraZeneca, Sputnik V   \n",
       "\n",
       "                                            source_url  total_vaccinations  \\\n",
       "0    https://twitter.com/MoHFW_INDIA/status/1350459...                   0   \n",
       "1    https://twitter.com/MoHFW_INDIA/status/1350459...              191181   \n",
       "2    https://twitter.com/MoHFW_INDIA/status/1350815...              224301   \n",
       "3                            https://www.mohfw.gov.in/              454049   \n",
       "4                            https://www.mohfw.gov.in/              674835   \n",
       "..                                                 ...                 ...   \n",
       "174                          https://www.mohfw.gov.in/           391340491   \n",
       "175                          https://www.mohfw.gov.in/           395343767   \n",
       "176                          https://www.mohfw.gov.in/           399695879   \n",
       "177                          https://www.mohfw.gov.in/           404931715   \n",
       "178                          https://www.mohfw.gov.in/           411846401   \n",
       "\n",
       "     people_vaccinated  people_fully_vaccinated  year  month  \n",
       "0                    0                        0  2021      1  \n",
       "1               191181                        0  2021      1  \n",
       "2               224301                        0  2021      1  \n",
       "3               454049                        0  2021      1  \n",
       "4               674835                        0  2021      1  \n",
       "..                 ...                      ...   ...    ...  \n",
       "174          313529502                 77810989  2021      7  \n",
       "175          316116189                 79227578  2021      7  \n",
       "176          318665226                 81030653  2021      7  \n",
       "177          321893762                 83037953  2021      7  \n",
       "178          326392783                 85453618  2021      7  \n",
       "\n",
       "[179 rows x 9 columns]"
      ]
     },
     "execution_count": 12,
     "metadata": {},
     "output_type": "execute_result"
    }
   ],
   "source": [
    "vaccines_india_df"
   ]
  },
  {
   "cell_type": "code",
   "execution_count": 13,
   "id": "f2f708fd",
   "metadata": {},
   "outputs": [
    {
     "name": "stdout",
     "output_type": "stream",
     "text": [
      "<class 'pandas.core.frame.DataFrame'>\n",
      "RangeIndex: 179 entries, 0 to 178\n",
      "Data columns (total 9 columns):\n",
      " #   Column                   Non-Null Count  Dtype         \n",
      "---  ------                   --------------  -----         \n",
      " 0   location                 179 non-null    object        \n",
      " 1   date                     179 non-null    datetime64[ns]\n",
      " 2   vaccine                  179 non-null    object        \n",
      " 3   source_url               179 non-null    object        \n",
      " 4   total_vaccinations       179 non-null    int64         \n",
      " 5   people_vaccinated        179 non-null    int64         \n",
      " 6   people_fully_vaccinated  179 non-null    int64         \n",
      " 7   year                     179 non-null    int64         \n",
      " 8   month                    179 non-null    int64         \n",
      "dtypes: datetime64[ns](1), int64(5), object(3)\n",
      "memory usage: 12.7+ KB\n"
     ]
    }
   ],
   "source": [
    "# Check date has been converted to datetime object:\n",
    "vaccines_india_df.info()"
   ]
  },
  {
   "cell_type": "code",
   "execution_count": 14,
   "id": "52fdddda",
   "metadata": {},
   "outputs": [
    {
     "data": {
      "text/html": [
       "<div>\n",
       "<style scoped>\n",
       "    .dataframe tbody tr th:only-of-type {\n",
       "        vertical-align: middle;\n",
       "    }\n",
       "\n",
       "    .dataframe tbody tr th {\n",
       "        vertical-align: top;\n",
       "    }\n",
       "\n",
       "    .dataframe thead th {\n",
       "        text-align: right;\n",
       "    }\n",
       "</style>\n",
       "<table border=\"1\" class=\"dataframe\">\n",
       "  <thead>\n",
       "    <tr style=\"text-align: right;\">\n",
       "      <th></th>\n",
       "      <th>total_vaccinations</th>\n",
       "      <th>people_vaccinated</th>\n",
       "      <th>people_fully_vaccinated</th>\n",
       "    </tr>\n",
       "    <tr>\n",
       "      <th>month</th>\n",
       "      <th></th>\n",
       "      <th></th>\n",
       "      <th></th>\n",
       "    </tr>\n",
       "  </thead>\n",
       "  <tbody>\n",
       "    <tr>\n",
       "      <th>1</th>\n",
       "      <td>1582201.0</td>\n",
       "      <td>1582201.0</td>\n",
       "      <td>0.0</td>\n",
       "    </tr>\n",
       "    <tr>\n",
       "      <th>2</th>\n",
       "      <td>8516771.0</td>\n",
       "      <td>8418653.0</td>\n",
       "      <td>98118.0</td>\n",
       "    </tr>\n",
       "    <tr>\n",
       "      <th>3</th>\n",
       "      <td>35064536.0</td>\n",
       "      <td>28862037.0</td>\n",
       "      <td>6202499.0</td>\n",
       "    </tr>\n",
       "    <tr>\n",
       "      <th>4</th>\n",
       "      <td>114493238.0</td>\n",
       "      <td>100179199.0</td>\n",
       "      <td>14314039.0</td>\n",
       "    </tr>\n",
       "    <tr>\n",
       "      <th>5</th>\n",
       "      <td>181897771.0</td>\n",
       "      <td>141448223.5</td>\n",
       "      <td>40449547.5</td>\n",
       "    </tr>\n",
       "    <tr>\n",
       "      <th>6</th>\n",
       "      <td>256815633.0</td>\n",
       "      <td>209136960.5</td>\n",
       "      <td>47678672.5</td>\n",
       "    </tr>\n",
       "    <tr>\n",
       "      <th>7</th>\n",
       "      <td>376032586.0</td>\n",
       "      <td>303171498.0</td>\n",
       "      <td>72861088.0</td>\n",
       "    </tr>\n",
       "  </tbody>\n",
       "</table>\n",
       "</div>"
      ],
      "text/plain": [
       "       total_vaccinations  people_vaccinated  people_fully_vaccinated\n",
       "month                                                                \n",
       "1               1582201.0          1582201.0                      0.0\n",
       "2               8516771.0          8418653.0                  98118.0\n",
       "3              35064536.0         28862037.0                6202499.0\n",
       "4             114493238.0        100179199.0               14314039.0\n",
       "5             181897771.0        141448223.5               40449547.5\n",
       "6             256815633.0        209136960.5               47678672.5\n",
       "7             376032586.0        303171498.0               72861088.0"
      ]
     },
     "execution_count": 14,
     "metadata": {},
     "output_type": "execute_result"
    }
   ],
   "source": [
    "vaccines_india_df.groupby('month').agg({'total_vaccinations': 'median', \n",
    "                                        'people_vaccinated': 'median', \n",
    "                                        'people_fully_vaccinated': 'median'})"
   ]
  },
  {
   "cell_type": "code",
   "execution_count": 15,
   "id": "ab8332b8",
   "metadata": {},
   "outputs": [
    {
     "data": {
      "text/html": [
       "<div>\n",
       "<style scoped>\n",
       "    .dataframe tbody tr th:only-of-type {\n",
       "        vertical-align: middle;\n",
       "    }\n",
       "\n",
       "    .dataframe tbody tr th {\n",
       "        vertical-align: top;\n",
       "    }\n",
       "\n",
       "    .dataframe thead th {\n",
       "        text-align: right;\n",
       "    }\n",
       "</style>\n",
       "<table border=\"1\" class=\"dataframe\">\n",
       "  <thead>\n",
       "    <tr style=\"text-align: right;\">\n",
       "      <th></th>\n",
       "      <th>total_vaccinations</th>\n",
       "      <th>people_vaccinated</th>\n",
       "      <th>people_fully_vaccinated</th>\n",
       "    </tr>\n",
       "    <tr>\n",
       "      <th>month</th>\n",
       "      <th></th>\n",
       "      <th></th>\n",
       "      <th></th>\n",
       "    </tr>\n",
       "  </thead>\n",
       "  <tbody>\n",
       "    <tr>\n",
       "      <th>1</th>\n",
       "      <td>1.666071e+06</td>\n",
       "      <td>1.666071e+06</td>\n",
       "      <td>0.000000e+00</td>\n",
       "    </tr>\n",
       "    <tr>\n",
       "      <th>2</th>\n",
       "      <td>8.806005e+06</td>\n",
       "      <td>8.190648e+06</td>\n",
       "      <td>6.153570e+05</td>\n",
       "    </tr>\n",
       "    <tr>\n",
       "      <th>3</th>\n",
       "      <td>3.761312e+07</td>\n",
       "      <td>3.147027e+07</td>\n",
       "      <td>6.142853e+06</td>\n",
       "    </tr>\n",
       "    <tr>\n",
       "      <th>4</th>\n",
       "      <td>1.125233e+08</td>\n",
       "      <td>9.670344e+07</td>\n",
       "      <td>1.581990e+07</td>\n",
       "    </tr>\n",
       "    <tr>\n",
       "      <th>5</th>\n",
       "      <td>1.810848e+08</td>\n",
       "      <td>1.432658e+08</td>\n",
       "      <td>3.781903e+07</td>\n",
       "    </tr>\n",
       "    <tr>\n",
       "      <th>6</th>\n",
       "      <td>2.643352e+08</td>\n",
       "      <td>2.154857e+08</td>\n",
       "      <td>4.884952e+07</td>\n",
       "    </tr>\n",
       "    <tr>\n",
       "      <th>7</th>\n",
       "      <td>3.717883e+08</td>\n",
       "      <td>3.003473e+08</td>\n",
       "      <td>7.144093e+07</td>\n",
       "    </tr>\n",
       "  </tbody>\n",
       "</table>\n",
       "</div>"
      ],
      "text/plain": [
       "       total_vaccinations  people_vaccinated  people_fully_vaccinated\n",
       "month                                                                \n",
       "1            1.666071e+06       1.666071e+06             0.000000e+00\n",
       "2            8.806005e+06       8.190648e+06             6.153570e+05\n",
       "3            3.761312e+07       3.147027e+07             6.142853e+06\n",
       "4            1.125233e+08       9.670344e+07             1.581990e+07\n",
       "5            1.810848e+08       1.432658e+08             3.781903e+07\n",
       "6            2.643352e+08       2.154857e+08             4.884952e+07\n",
       "7            3.717883e+08       3.003473e+08             7.144093e+07"
      ]
     },
     "execution_count": 15,
     "metadata": {},
     "output_type": "execute_result"
    }
   ],
   "source": [
    "# So the dataset from resource contains mean value for total_vaccinations, people_vaccinated & people_fully_vaccinated for every day:\n",
    "vaccines_india_df.groupby('month').agg({'total_vaccinations': 'mean', \n",
    "                                       'people_vaccinated': 'mean', \n",
    "                                       'people_fully_vaccinated': 'mean'})"
   ]
  },
  {
   "cell_type": "markdown",
   "id": "1bc4d568",
   "metadata": {},
   "source": [
    "### Descriptive Analysis\n",
    "\n",
    "> - Below graphs visually shows that, what has happened about the population in India for how many are vaccinated once, how many are fully (two doses) vaccinated and total vaccines administered"
   ]
  },
  {
   "cell_type": "code",
   "execution_count": 16,
   "id": "6d850932",
   "metadata": {},
   "outputs": [
    {
     "data": {
      "image/png": "[encoded data removed]",
      "text/plain": [
       "<Figure size 432x288 with 1 Axes>"
      ]
     },
     "metadata": {
      "needs_background": "light"
     },
     "output_type": "display_data"
    }
   ],
   "source": [
    "# The y-axis columns are of mean values from this dataset:\n",
    "\n",
    "plt.bar(vaccines_india_df.month, vaccines_india_df.total_vaccinations, label='Total Vaccines Administered')\n",
    "plt.bar(vaccines_india_df.month, vaccines_india_df.people_vaccinated, label='Once Vaccinated')\n",
    "plt.bar(vaccines_india_df.month, vaccines_india_df.people_fully_vaccinated, label='Fully Vaccinated')\n",
    "\n",
    "plt.title('Total Vaccines VS Once Vaccinated VS Fully Vaccinated', fontsize=14, y=1.08)\n",
    "plt.xlabel('Monthly')\n",
    "plt.ylabel('Number of People')\n",
    "plt.legend();"
   ]
  },
  {
   "cell_type": "code",
   "execution_count": 17,
   "id": "8b2d4d68",
   "metadata": {},
   "outputs": [],
   "source": [
    "# df = pd.read_csv('../task-1_datasets/collected_datasets/india_vacc_data-01152021-16072021.csv', parse_dates=['date'])\n",
    "# df.info()\n",
    "# df.head()"
   ]
  },
  {
   "cell_type": "code",
   "execution_count": 24,
   "id": "af558788",
   "metadata": {},
   "outputs": [
    {
     "data": {
      "application/vnd.plotly.v1+json": {
       "config": {
        "plotlyServerURL": "https://plot.ly"
       },
       "data": [
        {
         "alignmentgroup": "True",
         "customdata": [
          [
           "2021-01-15T00:00:00"
          ],
          [
           "2021-01-16T00:00:00"
          ],
          [
           "2021-01-17T00:00:00"
          ],
          [
           "2021-01-18T00:00:00"
          ],
          [
           "2021-01-19T00:00:00"
          ],
          [
           "2021-01-20T00:00:00"
          ],
          [
           "2021-01-21T00:00:00"
          ],
          [
           "2021-01-22T00:00:00"
          ],
          [
           "2021-01-23T00:00:00"
          ],
          [
           "2021-01-24T00:00:00"
          ],
          [
           "2021-01-25T00:00:00"
          ],
          [
           "2021-01-26T00:00:00"
          ],
          [
           "2021-01-27T00:00:00"
          ],
          [
           "2021-01-28T00:00:00"
          ],
          [
           "2021-01-29T00:00:00"
          ],
          [
           "2021-01-30T00:00:00"
          ],
          [
           "2021-01-31T00:00:00"
          ],
          [
           "2021-02-01T00:00:00"
          ],
          [
           "2021-02-02T00:00:00"
          ],
          [
           "2021-02-03T00:00:00"
          ],
          [
           "2021-02-04T00:00:00"
          ],
          [
           "2021-02-05T00:00:00"
          ],
          [
           "2021-02-06T00:00:00"
          ],
          [
           "2021-02-07T00:00:00"
          ],
          [
           "2021-02-08T00:00:00"
          ],
          [
           "2021-02-09T00:00:00"
          ],
          [
           "2021-02-10T00:00:00"
          ],
          [
           "2021-02-11T00:00:00"
          ],
          [
           "2021-02-12T00:00:00"
          ],
          [
           "2021-02-13T00:00:00"
          ],
          [
           "2021-02-15T00:00:00"
          ],
          [
           "2021-02-16T00:00:00"
          ],
          [
           "2021-02-17T00:00:00"
          ],
          [
           "2021-02-18T00:00:00"
          ],
          [
           "2021-02-19T00:00:00"
          ],
          [
           "2021-02-20T00:00:00"
          ],
          [
           "2021-02-21T00:00:00"
          ],
          [
           "2021-02-22T00:00:00"
          ],
          [
           "2021-02-23T00:00:00"
          ],
          [
           "2021-02-24T00:00:00"
          ],
          [
           "2021-02-25T00:00:00"
          ],
          [
           "2021-02-26T00:00:00"
          ],
          [
           "2021-02-27T00:00:00"
          ],
          [
           "2021-02-28T00:00:00"
          ],
          [
           "2021-03-01T00:00:00"
          ],
          [
           "2021-03-02T00:00:00"
          ],
          [
           "2021-03-03T00:00:00"
          ],
          [
           "2021-03-04T00:00:00"
          ],
          [
           "2021-03-05T00:00:00"
          ],
          [
           "2021-03-06T00:00:00"
          ],
          [
           "2021-03-07T00:00:00"
          ],
          [
           "2021-03-08T00:00:00"
          ],
          [
           "2021-03-09T00:00:00"
          ],
          [
           "2021-03-10T00:00:00"
          ],
          [
           "2021-03-11T00:00:00"
          ],
          [
           "2021-03-12T00:00:00"
          ],
          [
           "2021-03-13T00:00:00"
          ],
          [
           "2021-03-14T00:00:00"
          ],
          [
           "2021-03-15T00:00:00"
          ],
          [
           "2021-03-16T00:00:00"
          ],
          [
           "2021-03-17T00:00:00"
          ],
          [
           "2021-03-18T00:00:00"
          ],
          [
           "2021-03-19T00:00:00"
          ],
          [
           "2021-03-20T00:00:00"
          ],
          [
           "2021-03-21T00:00:00"
          ],
          [
           "2021-03-22T00:00:00"
          ],
          [
           "2021-03-23T00:00:00"
          ],
          [
           "2021-03-24T00:00:00"
          ],
          [
           "2021-03-25T00:00:00"
          ],
          [
           "2021-03-26T00:00:00"
          ],
          [
           "2021-03-27T00:00:00"
          ],
          [
           "2021-03-28T00:00:00"
          ],
          [
           "2021-03-29T00:00:00"
          ],
          [
           "2021-03-30T00:00:00"
          ],
          [
           "2021-03-31T00:00:00"
          ],
          [
           "2021-04-01T00:00:00"
          ],
          [
           "2021-04-02T00:00:00"
          ],
          [
           "2021-04-03T00:00:00"
          ],
          [
           "2021-04-04T00:00:00"
          ],
          [
           "2021-04-05T00:00:00"
          ],
          [
           "2021-04-06T00:00:00"
          ],
          [
           "2021-04-07T00:00:00"
          ],
          [
           "2021-04-08T00:00:00"
          ],
          [
           "2021-04-09T00:00:00"
          ],
          [
           "2021-04-10T00:00:00"
          ],
          [
           "2021-04-11T00:00:00"
          ],
          [
           "2021-04-12T00:00:00"
          ],
          [
           "2021-04-13T00:00:00"
          ],
          [
           "2021-04-14T00:00:00"
          ],
          [
           "2021-04-15T00:00:00"
          ],
          [
           "2021-04-16T00:00:00"
          ],
          [
           "2021-04-17T00:00:00"
          ],
          [
           "2021-04-18T00:00:00"
          ],
          [
           "2021-04-19T00:00:00"
          ],
          [
           "2021-04-21T00:00:00"
          ],
          [
           "2021-04-22T00:00:00"
          ],
          [
           "2021-04-25T00:00:00"
          ],
          [
           "2021-04-26T00:00:00"
          ],
          [
           "2021-04-27T00:00:00"
          ],
          [
           "2021-04-28T00:00:00"
          ],
          [
           "2021-04-29T00:00:00"
          ],
          [
           "2021-04-30T00:00:00"
          ],
          [
           "2021-05-01T00:00:00"
          ],
          [
           "2021-05-02T00:00:00"
          ],
          [
           "2021-05-03T00:00:00"
          ],
          [
           "2021-05-04T00:00:00"
          ],
          [
           "2021-05-05T00:00:00"
          ],
          [
           "2021-05-06T00:00:00"
          ],
          [
           "2021-05-07T00:00:00"
          ],
          [
           "2021-05-08T00:00:00"
          ],
          [
           "2021-05-09T00:00:00"
          ],
          [
           "2021-05-10T00:00:00"
          ],
          [
           "2021-05-11T00:00:00"
          ],
          [
           "2021-05-12T00:00:00"
          ],
          [
           "2021-05-13T00:00:00"
          ],
          [
           "2021-05-14T00:00:00"
          ],
          [
           "2021-05-15T00:00:00"
          ],
          [
           "2021-05-16T00:00:00"
          ],
          [
           "2021-05-17T00:00:00"
          ],
          [
           "2021-05-18T00:00:00"
          ],
          [
           "2021-05-19T00:00:00"
          ],
          [
           "2021-05-20T00:00:00"
          ],
          [
           "2021-05-22T00:00:00"
          ],
          [
           "2021-05-23T00:00:00"
          ],
          [
           "2021-05-24T00:00:00"
          ],
          [
           "2021-05-25T00:00:00"
          ],
          [
           "2021-05-26T00:00:00"
          ],
          [
           "2021-05-27T00:00:00"
          ],
          [
           "2021-05-28T00:00:00"
          ],
          [
           "2021-05-29T00:00:00"
          ],
          [
           "2021-05-30T00:00:00"
          ],
          [
           "2021-05-31T00:00:00"
          ],
          [
           "2021-06-01T00:00:00"
          ],
          [
           "2021-06-02T00:00:00"
          ],
          [
           "2021-06-03T00:00:00"
          ],
          [
           "2021-06-04T00:00:00"
          ],
          [
           "2021-06-05T00:00:00"
          ],
          [
           "2021-06-06T00:00:00"
          ],
          [
           "2021-06-07T00:00:00"
          ],
          [
           "2021-06-08T00:00:00"
          ],
          [
           "2021-06-09T00:00:00"
          ],
          [
           "2021-06-10T00:00:00"
          ],
          [
           "2021-06-11T00:00:00"
          ],
          [
           "2021-06-12T00:00:00"
          ],
          [
           "2021-06-13T00:00:00"
          ],
          [
           "2021-06-14T00:00:00"
          ],
          [
           "2021-06-15T00:00:00"
          ],
          [
           "2021-06-16T00:00:00"
          ],
          [
           "2021-06-17T00:00:00"
          ],
          [
           "2021-06-18T00:00:00"
          ],
          [
           "2021-06-19T00:00:00"
          ],
          [
           "2021-06-20T00:00:00"
          ],
          [
           "2021-06-21T00:00:00"
          ],
          [
           "2021-06-22T00:00:00"
          ],
          [
           "2021-06-23T00:00:00"
          ],
          [
           "2021-06-24T00:00:00"
          ],
          [
           "2021-06-25T00:00:00"
          ],
          [
           "2021-06-26T00:00:00"
          ],
          [
           "2021-06-27T00:00:00"
          ]
         ],
         "hovertemplate": "vaccine=Covaxin, Oxford/AstraZeneca<br>month=%{x}<br>total_vaccinations=%{y}<br>date=%{customdata[0]}<extra></extra>",
         "legendgroup": "Covaxin, Oxford/AstraZeneca",
         "marker": {
          "color": "#636efa",
          "pattern": {
           "shape": ""
          }
         },
         "name": "Covaxin, Oxford/AstraZeneca",
         "offsetgroup": "Covaxin, Oxford/AstraZeneca",
         "orientation": "v",
         "showlegend": true,
         "textposition": "auto",
         "type": "bar",
         "x": [
          1,
          1,
          1,
          1,
          1,
          1,
          1,
          1,
          1,
          1,
          1,
          1,
          1,
          1,
          1,
          1,
          1,
          2,
          2,
          2,
          2,
          2,
          2,
          2,
          2,
          2,
          2,
          2,
          2,
          2,
          2,
          2,
          2,
          2,
          2,
          2,
          2,
          2,
          2,
          2,
          2,
          2,
          2,
          2,
          3,
          3,
          3,
          3,
          3,
          3,
          3,
          3,
          3,
          3,
          3,
          3,
          3,
          3,
          3,
          3,
          3,
          3,
          3,
          3,
          3,
          3,
          3,
          3,
          3,
          3,
          3,
          3,
          3,
          3,
          3,
          4,
          4,
          4,
          4,
          4,
          4,
          4,
          4,
          4,
          4,
          4,
          4,
          4,
          4,
          4,
          4,
          4,
          4,
          4,
          4,
          4,
          4,
          4,
          4,
          4,
          4,
          4,
          5,
          5,
          5,
          5,
          5,
          5,
          5,
          5,
          5,
          5,
          5,
          5,
          5,
          5,
          5,
          5,
          5,
          5,
          5,
          5,
          5,
          5,
          5,
          5,
          5,
          5,
          5,
          5,
          5,
          5,
          6,
          6,
          6,
          6,
          6,
          6,
          6,
          6,
          6,
          6,
          6,
          6,
          6,
          6,
          6,
          6,
          6,
          6,
          6,
          6,
          6,
          6,
          6,
          6,
          6,
          6,
          6
         ],
         "xaxis": "x",
         "y": [
          0,
          191181,
          224301,
          454049,
          674835,
          806484,
          1043534,
          1390592,
          1582201,
          1615504,
          2023809,
          2029480,
          2355979,
          2928053,
          3500027,
          3744334,
          3758843,
          3950156,
          4138918,
          4449552,
          4959445,
          5416849,
          5775322,
          5812362,
          6259008,
          6611561,
          7017114,
          7505010,
          7967647,
          8052454,
          8516771,
          8857341,
          9186757,
          9846523,
          10449942,
          10838323,
          11085173,
          11424094,
          11907392,
          12366633,
          13067047,
          13756940,
          14242547,
          14301266,
          14854136,
          15620749,
          16616048,
          18005503,
          19497704,
          20922344,
          20989010,
          23008733,
          24367906,
          25685011,
          26164920,
          28218457,
          29738409,
          29908038,
          32947432,
          35064536,
          37143255,
          39339817,
          42063392,
          44603841,
          45065998,
          48494594,
          50841286,
          53145709,
          55504440,
          58109773,
          60269782,
          60530435,
          61113354,
          63054353,
          65117896,
          68789138,
          73054295,
          75979651,
          79105163,
          83110926,
          87077474,
          90198673,
          94334262,
          98075160,
          101595147,
          104528565,
          108533085,
          111179578,
          114493238,
          117223509,
          119937641,
          122622590,
          123852566,
          127129113,
          129646105,
          132754608,
          139185173,
          142524947,
          144879233,
          147053392,
          149268772,
          151998107,
          153626325,
          154211511,
          156082136,
          157750752,
          159931238,
          162603603,
          165190000,
          167493857,
          168304868,
          171098918,
          173862643,
          176045577,
          178361846,
          179646413,
          181544536,
          182251006,
          183817204,
          185191602,
          186410600,
          187886885,
          190842497,
          191719240,
          194165711,
          195506779,
          198425615,
          201203166,
          203166802,
          207088953,
          208665123,
          210449895,
          213135738,
          215678166,
          218344384,
          223607768,
          225571144,
          228041045,
          230490652,
          233680929,
          236856505,
          240281903,
          243703242,
          246188067,
          249430416,
          252760364,
          255305366,
          258325900,
          262970250,
          266355940,
          270908312,
          274286599,
          283313942,
          289855456,
          293370338,
          300054027,
          306661528,
          314841384,
          318030412
         ],
         "yaxis": "y"
        },
        {
         "alignmentgroup": "True",
         "customdata": [
          [
           "2021-06-28T00:00:00"
          ],
          [
           "2021-06-29T00:00:00"
          ],
          [
           "2021-06-30T00:00:00"
          ],
          [
           "2021-07-01T00:00:00"
          ],
          [
           "2021-07-02T00:00:00"
          ],
          [
           "2021-07-03T00:00:00"
          ],
          [
           "2021-07-04T00:00:00"
          ],
          [
           "2021-07-05T00:00:00"
          ],
          [
           "2021-07-06T00:00:00"
          ],
          [
           "2021-07-07T00:00:00"
          ],
          [
           "2021-07-08T00:00:00"
          ],
          [
           "2021-07-10T00:00:00"
          ],
          [
           "2021-07-11T00:00:00"
          ],
          [
           "2021-07-12T00:00:00"
          ],
          [
           "2021-07-13T00:00:00"
          ],
          [
           "2021-07-14T00:00:00"
          ],
          [
           "2021-07-15T00:00:00"
          ],
          [
           "2021-07-16T00:00:00"
          ],
          [
           "2021-07-17T00:00:00"
          ],
          [
           "2021-07-19T00:00:00"
          ]
         ],
         "hovertemplate": "vaccine=Covaxin, Oxford/AstraZeneca, Sputnik V<br>month=%{x}<br>total_vaccinations=%{y}<br>date=%{customdata[0]}<extra></extra>",
         "legendgroup": "Covaxin, Oxford/AstraZeneca, Sputnik V",
         "marker": {
          "color": "#EF553B",
          "pattern": {
           "shape": ""
          }
         },
         "name": "Covaxin, Oxford/AstraZeneca, Sputnik V",
         "offsetgroup": "Covaxin, Oxford/AstraZeneca, Sputnik V",
         "orientation": "v",
         "showlegend": true,
         "textposition": "auto",
         "type": "bar",
         "x": [
          6,
          6,
          6,
          7,
          7,
          7,
          7,
          7,
          7,
          7,
          7,
          7,
          7,
          7,
          7,
          7,
          7,
          7,
          7,
          7
         ],
         "xaxis": "x",
         "y": [
          321423578,
          327423913,
          329158139,
          334741649,
          335671794,
          344300590,
          347378550,
          351229497,
          354307646,
          358070763,
          368991222,
          376032586,
          377352501,
          381467646,
          387697935,
          391340491,
          395343767,
          399695879,
          404931715,
          411846401
         ],
         "yaxis": "y"
        }
       ],
       "layout": {
        "barmode": "relative",
        "legend": {
         "title": {
          "text": "vaccine"
         },
         "tracegroupgap": 0
        },
        "template": {
         "data": {
          "bar": [
           {
            "error_x": {
             "color": "#2a3f5f"
            },
            "error_y": {
             "color": "#2a3f5f"
            },
            "marker": {
             "line": {
              "color": "#E5ECF6",
              "width": 0.5
             },
             "pattern": {
              "fillmode": "overlay",
              "size": 10,
              "solidity": 0.2
             }
            },
            "type": "bar"
           }
          ],
          "barpolar": [
           {
            "marker": {
             "line": {
              "color": "#E5ECF6",
              "width": 0.5
             },
             "pattern": {
              "fillmode": "overlay",
              "size": 10,
              "solidity": 0.2
             }
            },
            "type": "barpolar"
           }
          ],
          "carpet": [
           {
            "aaxis": {
             "endlinecolor": "#2a3f5f",
             "gridcolor": "white",
             "linecolor": "white",
             "minorgridcolor": "white",
             "startlinecolor": "#2a3f5f"
            },
            "baxis": {
             "endlinecolor": "#2a3f5f",
             "gridcolor": "white",
             "linecolor": "white",
             "minorgridcolor": "white",
             "startlinecolor": "#2a3f5f"
            },
            "type": "carpet"
           }
          ],
          "choropleth": [
           {
            "colorbar": {
             "outlinewidth": 0,
             "ticks": ""
            },
            "type": "choropleth"
           }
          ],
          "contour": [
           {
            "colorbar": {
             "outlinewidth": 0,
             "ticks": ""
            },
            "colorscale": [
             [
              0,
              "#0d0887"
             ],
             [
              0.1111111111111111,
              "#46039f"
             ],
             [
              0.2222222222222222,
              "#7201a8"
             ],
             [
              0.3333333333333333,
              "#9c179e"
             ],
             [
              0.4444444444444444,
              "#bd3786"
             ],
             [
              0.5555555555555556,
              "#d8576b"
             ],
             [
              0.6666666666666666,
              "#ed7953"
             ],
             [
              0.7777777777777778,
              "#fb9f3a"
             ],
             [
              0.8888888888888888,
              "#fdca26"
             ],
             [
              1,
              "#f0f921"
             ]
            ],
            "type": "contour"
           }
          ],
          "contourcarpet": [
           {
            "colorbar": {
             "outlinewidth": 0,
             "ticks": ""
            },
            "type": "contourcarpet"
           }
          ],
          "heatmap": [
           {
            "colorbar": {
             "outlinewidth": 0,
             "ticks": ""
            },
            "colorscale": [
             [
              0,
              "#0d0887"
             ],
             [
              0.1111111111111111,
              "#46039f"
             ],
             [
              0.2222222222222222,
              "#7201a8"
             ],
             [
              0.3333333333333333,
              "#9c179e"
             ],
             [
              0.4444444444444444,
              "#bd3786"
             ],
             [
              0.5555555555555556,
              "#d8576b"
             ],
             [
              0.6666666666666666,
              "#ed7953"
             ],
             [
              0.7777777777777778,
              "#fb9f3a"
             ],
             [
              0.8888888888888888,
              "#fdca26"
             ],
             [
              1,
              "#f0f921"
             ]
            ],
            "type": "heatmap"
           }
          ],
          "heatmapgl": [
           {
            "colorbar": {
             "outlinewidth": 0,
             "ticks": ""
            },
            "colorscale": [
             [
              0,
              "#0d0887"
             ],
             [
              0.1111111111111111,
              "#46039f"
             ],
             [
              0.2222222222222222,
              "#7201a8"
             ],
             [
              0.3333333333333333,
              "#9c179e"
             ],
             [
              0.4444444444444444,
              "#bd3786"
             ],
             [
              0.5555555555555556,
              "#d8576b"
             ],
             [
              0.6666666666666666,
              "#ed7953"
             ],
             [
              0.7777777777777778,
              "#fb9f3a"
             ],
             [
              0.8888888888888888,
              "#fdca26"
             ],
             [
              1,
              "#f0f921"
             ]
            ],
            "type": "heatmapgl"
           }
          ],
          "histogram": [
           {
            "marker": {
             "pattern": {
              "fillmode": "overlay",
              "size": 10,
              "solidity": 0.2
             }
            },
            "type": "histogram"
           }
          ],
          "histogram2d": [
           {
            "colorbar": {
             "outlinewidth": 0,
             "ticks": ""
            },
            "colorscale": [
             [
              0,
              "#0d0887"
             ],
             [
              0.1111111111111111,
              "#46039f"
             ],
             [
              0.2222222222222222,
              "#7201a8"
             ],
             [
              0.3333333333333333,
              "#9c179e"
             ],
             [
              0.4444444444444444,
              "#bd3786"
             ],
             [
              0.5555555555555556,
              "#d8576b"
             ],
             [
              0.6666666666666666,
              "#ed7953"
             ],
             [
              0.7777777777777778,
              "#fb9f3a"
             ],
             [
              0.8888888888888888,
              "#fdca26"
             ],
             [
              1,
              "#f0f921"
             ]
            ],
            "type": "histogram2d"
           }
          ],
          "histogram2dcontour": [
           {
            "colorbar": {
             "outlinewidth": 0,
             "ticks": ""
            },
            "colorscale": [
             [
              0,
              "#0d0887"
             ],
             [
              0.1111111111111111,
              "#46039f"
             ],
             [
              0.2222222222222222,
              "#7201a8"
             ],
             [
              0.3333333333333333,
              "#9c179e"
             ],
             [
              0.4444444444444444,
              "#bd3786"
             ],
             [
              0.5555555555555556,
              "#d8576b"
             ],
             [
              0.6666666666666666,
              "#ed7953"
             ],
             [
              0.7777777777777778,
              "#fb9f3a"
             ],
             [
              0.8888888888888888,
              "#fdca26"
             ],
             [
              1,
              "#f0f921"
             ]
            ],
            "type": "histogram2dcontour"
           }
          ],
          "mesh3d": [
           {
            "colorbar": {
             "outlinewidth": 0,
             "ticks": ""
            },
            "type": "mesh3d"
           }
          ],
          "parcoords": [
           {
            "line": {
             "colorbar": {
              "outlinewidth": 0,
              "ticks": ""
             }
            },
            "type": "parcoords"
           }
          ],
          "pie": [
           {
            "automargin": true,
            "type": "pie"
           }
          ],
          "scatter": [
           {
            "marker": {
             "colorbar": {
              "outlinewidth": 0,
              "ticks": ""
             }
            },
            "type": "scatter"
           }
          ],
          "scatter3d": [
           {
            "line": {
             "colorbar": {
              "outlinewidth": 0,
              "ticks": ""
             }
            },
            "marker": {
             "colorbar": {
              "outlinewidth": 0,
              "ticks": ""
             }
            },
            "type": "scatter3d"
           }
          ],
          "scattercarpet": [
           {
            "marker": {
             "colorbar": {
              "outlinewidth": 0,
              "ticks": ""
             }
            },
            "type": "scattercarpet"
           }
          ],
          "scattergeo": [
           {
            "marker": {
             "colorbar": {
              "outlinewidth": 0,
              "ticks": ""
             }
            },
            "type": "scattergeo"
           }
          ],
          "scattergl": [
           {
            "marker": {
             "colorbar": {
              "outlinewidth": 0,
              "ticks": ""
             }
            },
            "type": "scattergl"
           }
          ],
          "scattermapbox": [
           {
            "marker": {
             "colorbar": {
              "outlinewidth": 0,
              "ticks": ""
             }
            },
            "type": "scattermapbox"
           }
          ],
          "scatterpolar": [
           {
            "marker": {
             "colorbar": {
              "outlinewidth": 0,
              "ticks": ""
             }
            },
            "type": "scatterpolar"
           }
          ],
          "scatterpolargl": [
           {
            "marker": {
             "colorbar": {
              "outlinewidth": 0,
              "ticks": ""
             }
            },
            "type": "scatterpolargl"
           }
          ],
          "scatterternary": [
           {
            "marker": {
             "colorbar": {
              "outlinewidth": 0,
              "ticks": ""
             }
            },
            "type": "scatterternary"
           }
          ],
          "surface": [
           {
            "colorbar": {
             "outlinewidth": 0,
             "ticks": ""
            },
            "colorscale": [
             [
              0,
              "#0d0887"
             ],
             [
              0.1111111111111111,
              "#46039f"
             ],
             [
              0.2222222222222222,
              "#7201a8"
             ],
             [
              0.3333333333333333,
              "#9c179e"
             ],
             [
              0.4444444444444444,
              "#bd3786"
             ],
             [
              0.5555555555555556,
              "#d8576b"
             ],
             [
              0.6666666666666666,
              "#ed7953"
             ],
             [
              0.7777777777777778,
              "#fb9f3a"
             ],
             [
              0.8888888888888888,
              "#fdca26"
             ],
             [
              1,
              "#f0f921"
             ]
            ],
            "type": "surface"
           }
          ],
          "table": [
           {
            "cells": {
             "fill": {
              "color": "#EBF0F8"
             },
             "line": {
              "color": "white"
             }
            },
            "header": {
             "fill": {
              "color": "#C8D4E3"
             },
             "line": {
              "color": "white"
             }
            },
            "type": "table"
           }
          ]
         },
         "layout": {
          "annotationdefaults": {
           "arrowcolor": "#2a3f5f",
           "arrowhead": 0,
           "arrowwidth": 1
          },
          "autotypenumbers": "strict",
          "coloraxis": {
           "colorbar": {
            "outlinewidth": 0,
            "ticks": ""
           }
          },
          "colorscale": {
           "diverging": [
            [
             0,
             "#8e0152"
            ],
            [
             0.1,
             "#c51b7d"
            ],
            [
             0.2,
             "#de77ae"
            ],
            [
             0.3,
             "#f1b6da"
            ],
            [
             0.4,
             "#fde0ef"
            ],
            [
             0.5,
             "#f7f7f7"
            ],
            [
             0.6,
             "#e6f5d0"
            ],
            [
             0.7,
             "#b8e186"
            ],
            [
             0.8,
             "#7fbc41"
            ],
            [
             0.9,
             "#4d9221"
            ],
            [
             1,
             "#276419"
            ]
           ],
           "sequential": [
            [
             0,
             "#0d0887"
            ],
            [
             0.1111111111111111,
             "#46039f"
            ],
            [
             0.2222222222222222,
             "#7201a8"
            ],
            [
             0.3333333333333333,
             "#9c179e"
            ],
            [
             0.4444444444444444,
             "#bd3786"
            ],
            [
             0.5555555555555556,
             "#d8576b"
            ],
            [
             0.6666666666666666,
             "#ed7953"
            ],
            [
             0.7777777777777778,
             "#fb9f3a"
            ],
            [
             0.8888888888888888,
             "#fdca26"
            ],
            [
             1,
             "#f0f921"
            ]
           ],
           "sequentialminus": [
            [
             0,
             "#0d0887"
            ],
            [
             0.1111111111111111,
             "#46039f"
            ],
            [
             0.2222222222222222,
             "#7201a8"
            ],
            [
             0.3333333333333333,
             "#9c179e"
            ],
            [
             0.4444444444444444,
             "#bd3786"
            ],
            [
             0.5555555555555556,
             "#d8576b"
            ],
            [
             0.6666666666666666,
             "#ed7953"
            ],
            [
             0.7777777777777778,
             "#fb9f3a"
            ],
            [
             0.8888888888888888,
             "#fdca26"
            ],
            [
             1,
             "#f0f921"
            ]
           ]
          },
          "colorway": [
           "#636efa",
           "#EF553B",
           "#00cc96",
           "#ab63fa",
           "#FFA15A",
           "#19d3f3",
           "#FF6692",
           "#B6E880",
           "#FF97FF",
           "#FECB52"
          ],
          "font": {
           "color": "#2a3f5f"
          },
          "geo": {
           "bgcolor": "white",
           "lakecolor": "white",
           "landcolor": "#E5ECF6",
           "showlakes": true,
           "showland": true,
           "subunitcolor": "white"
          },
          "hoverlabel": {
           "align": "left"
          },
          "hovermode": "closest",
          "mapbox": {
           "style": "light"
          },
          "paper_bgcolor": "white",
          "plot_bgcolor": "#E5ECF6",
          "polar": {
           "angularaxis": {
            "gridcolor": "white",
            "linecolor": "white",
            "ticks": ""
           },
           "bgcolor": "#E5ECF6",
           "radialaxis": {
            "gridcolor": "white",
            "linecolor": "white",
            "ticks": ""
           }
          },
          "scene": {
           "xaxis": {
            "backgroundcolor": "#E5ECF6",
            "gridcolor": "white",
            "gridwidth": 2,
            "linecolor": "white",
            "showbackground": true,
            "ticks": "",
            "zerolinecolor": "white"
           },
           "yaxis": {
            "backgroundcolor": "#E5ECF6",
            "gridcolor": "white",
            "gridwidth": 2,
            "linecolor": "white",
            "showbackground": true,
            "ticks": "",
            "zerolinecolor": "white"
           },
           "zaxis": {
            "backgroundcolor": "#E5ECF6",
            "gridcolor": "white",
            "gridwidth": 2,
            "linecolor": "white",
            "showbackground": true,
            "ticks": "",
            "zerolinecolor": "white"
           }
          },
          "shapedefaults": {
           "line": {
            "color": "#2a3f5f"
           }
          },
          "ternary": {
           "aaxis": {
            "gridcolor": "white",
            "linecolor": "white",
            "ticks": ""
           },
           "baxis": {
            "gridcolor": "white",
            "linecolor": "white",
            "ticks": ""
           },
           "bgcolor": "#E5ECF6",
           "caxis": {
            "gridcolor": "white",
            "linecolor": "white",
            "ticks": ""
           }
          },
          "title": {
           "x": 0.05
          },
          "xaxis": {
           "automargin": true,
           "gridcolor": "white",
           "linecolor": "white",
           "ticks": "",
           "title": {
            "standoff": 15
           },
           "zerolinecolor": "white",
           "zerolinewidth": 2
          },
          "yaxis": {
           "automargin": true,
           "gridcolor": "white",
           "linecolor": "white",
           "ticks": "",
           "title": {
            "standoff": 15
           },
           "zerolinecolor": "white",
           "zerolinewidth": 2
          }
         }
        },
        "title": {
         "text": "Total Vaccines Administered from 2021-01-15"
        },
        "xaxis": {
         "anchor": "y",
         "domain": [
          0,
          1
         ],
         "title": {
          "text": "month"
         }
        },
        "yaxis": {
         "anchor": "x",
         "domain": [
          0,
          1
         ],
         "title": {
          "text": "total_vaccinations"
         }
        }
       }
      },
      "text/html": [
       "<div>                            <div id=\"e676b5ba-3ade-40de-ad4e-cf5d66b39145\" class=\"plotly-graph-div\" style=\"height:525px; width:100%;\"></div>            <script type=\"text/javascript\">                require([\"plotly\"], function(Plotly) {                    window.PLOTLYENV=window.PLOTLYENV || {};                                    if (document.getElementById(\"e676b5ba-3ade-40de-ad4e-cf5d66b39145\")) {                    Plotly.newPlot(                        \"e676b5ba-3ade-40de-ad4e-cf5d66b39145\",                        [{\"alignmentgroup\":\"True\",\"customdata\":[[\"2021-01-15T00:00:00\"],[\"2021-01-16T00:00:00\"],[\"2021-01-17T00:00:00\"],[\"2021-01-18T00:00:00\"],[\"2021-01-19T00:00:00\"],[\"2021-01-20T00:00:00\"],[\"2021-01-21T00:00:00\"],[\"2021-01-22T00:00:00\"],[\"2021-01-23T00:00:00\"],[\"2021-01-24T00:00:00\"],[\"2021-01-25T00:00:00\"],[\"2021-01-26T00:00:00\"],[\"2021-01-27T00:00:00\"],[\"2021-01-28T00:00:00\"],[\"2021-01-29T00:00:00\"],[\"2021-01-30T00:00:00\"],[\"2021-01-31T00:00:00\"],[\"2021-02-01T00:00:00\"],[\"2021-02-02T00:00:00\"],[\"2021-02-03T00:00:00\"],[\"2021-02-04T00:00:00\"],[\"2021-02-05T00:00:00\"],[\"2021-02-06T00:00:00\"],[\"2021-02-07T00:00:00\"],[\"2021-02-08T00:00:00\"],[\"2021-02-09T00:00:00\"],[\"2021-02-10T00:00:00\"],[\"2021-02-11T00:00:00\"],[\"2021-02-12T00:00:00\"],[\"2021-02-13T00:00:00\"],[\"2021-02-15T00:00:00\"],[\"2021-02-16T00:00:00\"],[\"2021-02-17T00:00:00\"],[\"2021-02-18T00:00:00\"],[\"2021-02-19T00:00:00\"],[\"2021-02-20T00:00:00\"],[\"2021-02-21T00:00:00\"],[\"2021-02-22T00:00:00\"],[\"2021-02-23T00:00:00\"],[\"2021-02-24T00:00:00\"],[\"2021-02-25T00:00:00\"],[\"2021-02-26T00:00:00\"],[\"2021-02-27T00:00:00\"],[\"2021-02-28T00:00:00\"],[\"2021-03-01T00:00:00\"],[\"2021-03-02T00:00:00\"],[\"2021-03-03T00:00:00\"],[\"2021-03-04T00:00:00\"],[\"2021-03-05T00:00:00\"],[\"2021-03-06T00:00:00\"],[\"2021-03-07T00:00:00\"],[\"2021-03-08T00:00:00\"],[\"2021-03-09T00:00:00\"],[\"2021-03-10T00:00:00\"],[\"2021-03-11T00:00:00\"],[\"2021-03-12T00:00:00\"],[\"2021-03-13T00:00:00\"],[\"2021-03-14T00:00:00\"],[\"2021-03-15T00:00:00\"],[\"2021-03-16T00:00:00\"],[\"2021-03-17T00:00:00\"],[\"2021-03-18T00:00:00\"],[\"2021-03-19T00:00:00\"],[\"2021-03-20T00:00:00\"],[\"2021-03-21T00:00:00\"],[\"2021-03-22T00:00:00\"],[\"2021-03-23T00:00:00\"],[\"2021-03-24T00:00:00\"],[\"2021-03-25T00:00:00\"],[\"2021-03-26T00:00:00\"],[\"2021-03-27T00:00:00\"],[\"2021-03-28T00:00:00\"],[\"2021-03-29T00:00:00\"],[\"2021-03-30T00:00:00\"],[\"2021-03-31T00:00:00\"],[\"2021-04-01T00:00:00\"],[\"2021-04-02T00:00:00\"],[\"2021-04-03T00:00:00\"],[\"2021-04-04T00:00:00\"],[\"2021-04-05T00:00:00\"],[\"2021-04-06T00:00:00\"],[\"2021-04-07T00:00:00\"],[\"2021-04-08T00:00:00\"],[\"2021-04-09T00:00:00\"],[\"2021-04-10T00:00:00\"],[\"2021-04-11T00:00:00\"],[\"2021-04-12T00:00:00\"],[\"2021-04-13T00:00:00\"],[\"2021-04-14T00:00:00\"],[\"2021-04-15T00:00:00\"],[\"2021-04-16T00:00:00\"],[\"2021-04-17T00:00:00\"],[\"2021-04-18T00:00:00\"],[\"2021-04-19T00:00:00\"],[\"2021-04-21T00:00:00\"],[\"2021-04-22T00:00:00\"],[\"2021-04-25T00:00:00\"],[\"2021-04-26T00:00:00\"],[\"2021-04-27T00:00:00\"],[\"2021-04-28T00:00:00\"],[\"2021-04-29T00:00:00\"],[\"2021-04-30T00:00:00\"],[\"2021-05-01T00:00:00\"],[\"2021-05-02T00:00:00\"],[\"2021-05-03T00:00:00\"],[\"2021-05-04T00:00:00\"],[\"2021-05-05T00:00:00\"],[\"2021-05-06T00:00:00\"],[\"2021-05-07T00:00:00\"],[\"2021-05-08T00:00:00\"],[\"2021-05-09T00:00:00\"],[\"2021-05-10T00:00:00\"],[\"2021-05-11T00:00:00\"],[\"2021-05-12T00:00:00\"],[\"2021-05-13T00:00:00\"],[\"2021-05-14T00:00:00\"],[\"2021-05-15T00:00:00\"],[\"2021-05-16T00:00:00\"],[\"2021-05-17T00:00:00\"],[\"2021-05-18T00:00:00\"],[\"2021-05-19T00:00:00\"],[\"2021-05-20T00:00:00\"],[\"2021-05-22T00:00:00\"],[\"2021-05-23T00:00:00\"],[\"2021-05-24T00:00:00\"],[\"2021-05-25T00:00:00\"],[\"2021-05-26T00:00:00\"],[\"2021-05-27T00:00:00\"],[\"2021-05-28T00:00:00\"],[\"2021-05-29T00:00:00\"],[\"2021-05-30T00:00:00\"],[\"2021-05-31T00:00:00\"],[\"2021-06-01T00:00:00\"],[\"2021-06-02T00:00:00\"],[\"2021-06-03T00:00:00\"],[\"2021-06-04T00:00:00\"],[\"2021-06-05T00:00:00\"],[\"2021-06-06T00:00:00\"],[\"2021-06-07T00:00:00\"],[\"2021-06-08T00:00:00\"],[\"2021-06-09T00:00:00\"],[\"2021-06-10T00:00:00\"],[\"2021-06-11T00:00:00\"],[\"2021-06-12T00:00:00\"],[\"2021-06-13T00:00:00\"],[\"2021-06-14T00:00:00\"],[\"2021-06-15T00:00:00\"],[\"2021-06-16T00:00:00\"],[\"2021-06-17T00:00:00\"],[\"2021-06-18T00:00:00\"],[\"2021-06-19T00:00:00\"],[\"2021-06-20T00:00:00\"],[\"2021-06-21T00:00:00\"],[\"2021-06-22T00:00:00\"],[\"2021-06-23T00:00:00\"],[\"2021-06-24T00:00:00\"],[\"2021-06-25T00:00:00\"],[\"2021-06-26T00:00:00\"],[\"2021-06-27T00:00:00\"]],\"hovertemplate\":\"vaccine=Covaxin, Oxford/AstraZeneca<br>month=%{x}<br>total_vaccinations=%{y}<br>date=%{customdata[0]}<extra></extra>\",\"legendgroup\":\"Covaxin, Oxford/AstraZeneca\",\"marker\":{\"color\":\"#636efa\",\"pattern\":{\"shape\":\"\"}},\"name\":\"Covaxin, Oxford/AstraZeneca\",\"offsetgroup\":\"Covaxin, Oxford/AstraZeneca\",\"orientation\":\"v\",\"showlegend\":true,\"textposition\":\"auto\",\"type\":\"bar\",\"x\":[1,1,1,1,1,1,1,1,1,1,1,1,1,1,1,1,1,2,2,2,2,2,2,2,2,2,2,2,2,2,2,2,2,2,2,2,2,2,2,2,2,2,2,2,3,3,3,3,3,3,3,3,3,3,3,3,3,3,3,3,3,3,3,3,3,3,3,3,3,3,3,3,3,3,3,4,4,4,4,4,4,4,4,4,4,4,4,4,4,4,4,4,4,4,4,4,4,4,4,4,4,4,5,5,5,5,5,5,5,5,5,5,5,5,5,5,5,5,5,5,5,5,5,5,5,5,5,5,5,5,5,5,6,6,6,6,6,6,6,6,6,6,6,6,6,6,6,6,6,6,6,6,6,6,6,6,6,6,6],\"xaxis\":\"x\",\"y\":[0,191181,224301,454049,674835,806484,1043534,1390592,1582201,1615504,2023809,2029480,2355979,2928053,3500027,3744334,3758843,3950156,4138918,4449552,4959445,5416849,5775322,5812362,6259008,6611561,7017114,7505010,7967647,8052454,8516771,8857341,9186757,9846523,10449942,10838323,11085173,11424094,11907392,12366633,13067047,13756940,14242547,14301266,14854136,15620749,16616048,18005503,19497704,20922344,20989010,23008733,24367906,25685011,26164920,28218457,29738409,29908038,32947432,35064536,37143255,39339817,42063392,44603841,45065998,48494594,50841286,53145709,55504440,58109773,60269782,60530435,61113354,63054353,65117896,68789138,73054295,75979651,79105163,83110926,87077474,90198673,94334262,98075160,101595147,104528565,108533085,111179578,114493238,117223509,119937641,122622590,123852566,127129113,129646105,132754608,139185173,142524947,144879233,147053392,149268772,151998107,153626325,154211511,156082136,157750752,159931238,162603603,165190000,167493857,168304868,171098918,173862643,176045577,178361846,179646413,181544536,182251006,183817204,185191602,186410600,187886885,190842497,191719240,194165711,195506779,198425615,201203166,203166802,207088953,208665123,210449895,213135738,215678166,218344384,223607768,225571144,228041045,230490652,233680929,236856505,240281903,243703242,246188067,249430416,252760364,255305366,258325900,262970250,266355940,270908312,274286599,283313942,289855456,293370338,300054027,306661528,314841384,318030412],\"yaxis\":\"y\"},{\"alignmentgroup\":\"True\",\"customdata\":[[\"2021-06-28T00:00:00\"],[\"2021-06-29T00:00:00\"],[\"2021-06-30T00:00:00\"],[\"2021-07-01T00:00:00\"],[\"2021-07-02T00:00:00\"],[\"2021-07-03T00:00:00\"],[\"2021-07-04T00:00:00\"],[\"2021-07-05T00:00:00\"],[\"2021-07-06T00:00:00\"],[\"2021-07-07T00:00:00\"],[\"2021-07-08T00:00:00\"],[\"2021-07-10T00:00:00\"],[\"2021-07-11T00:00:00\"],[\"2021-07-12T00:00:00\"],[\"2021-07-13T00:00:00\"],[\"2021-07-14T00:00:00\"],[\"2021-07-15T00:00:00\"],[\"2021-07-16T00:00:00\"],[\"2021-07-17T00:00:00\"],[\"2021-07-19T00:00:00\"]],\"hovertemplate\":\"vaccine=Covaxin, Oxford/AstraZeneca, Sputnik V<br>month=%{x}<br>total_vaccinations=%{y}<br>date=%{customdata[0]}<extra></extra>\",\"legendgroup\":\"Covaxin, Oxford/AstraZeneca, Sputnik V\",\"marker\":{\"color\":\"#EF553B\",\"pattern\":{\"shape\":\"\"}},\"name\":\"Covaxin, Oxford/AstraZeneca, Sputnik V\",\"offsetgroup\":\"Covaxin, Oxford/AstraZeneca, Sputnik V\",\"orientation\":\"v\",\"showlegend\":true,\"textposition\":\"auto\",\"type\":\"bar\",\"x\":[6,6,6,7,7,7,7,7,7,7,7,7,7,7,7,7,7,7,7,7],\"xaxis\":\"x\",\"y\":[321423578,327423913,329158139,334741649,335671794,344300590,347378550,351229497,354307646,358070763,368991222,376032586,377352501,381467646,387697935,391340491,395343767,399695879,404931715,411846401],\"yaxis\":\"y\"}],                        {\"barmode\":\"relative\",\"legend\":{\"title\":{\"text\":\"vaccine\"},\"tracegroupgap\":0},\"template\":{\"data\":{\"bar\":[{\"error_x\":{\"color\":\"#2a3f5f\"},\"error_y\":{\"color\":\"#2a3f5f\"},\"marker\":{\"line\":{\"color\":\"#E5ECF6\",\"width\":0.5},\"pattern\":{\"fillmode\":\"overlay\",\"size\":10,\"solidity\":0.2}},\"type\":\"bar\"}],\"barpolar\":[{\"marker\":{\"line\":{\"color\":\"#E5ECF6\",\"width\":0.5},\"pattern\":{\"fillmode\":\"overlay\",\"size\":10,\"solidity\":0.2}},\"type\":\"barpolar\"}],\"carpet\":[{\"aaxis\":{\"endlinecolor\":\"#2a3f5f\",\"gridcolor\":\"white\",\"linecolor\":\"white\",\"minorgridcolor\":\"white\",\"startlinecolor\":\"#2a3f5f\"},\"baxis\":{\"endlinecolor\":\"#2a3f5f\",\"gridcolor\":\"white\",\"linecolor\":\"white\",\"minorgridcolor\":\"white\",\"startlinecolor\":\"#2a3f5f\"},\"type\":\"carpet\"}],\"choropleth\":[{\"colorbar\":{\"outlinewidth\":0,\"ticks\":\"\"},\"type\":\"choropleth\"}],\"contour\":[{\"colorbar\":{\"outlinewidth\":0,\"ticks\":\"\"},\"colorscale\":[[0.0,\"#0d0887\"],[0.1111111111111111,\"#46039f\"],[0.2222222222222222,\"#7201a8\"],[0.3333333333333333,\"#9c179e\"],[0.4444444444444444,\"#bd3786\"],[0.5555555555555556,\"#d8576b\"],[0.6666666666666666,\"#ed7953\"],[0.7777777777777778,\"#fb9f3a\"],[0.8888888888888888,\"#fdca26\"],[1.0,\"#f0f921\"]],\"type\":\"contour\"}],\"contourcarpet\":[{\"colorbar\":{\"outlinewidth\":0,\"ticks\":\"\"},\"type\":\"contourcarpet\"}],\"heatmap\":[{\"colorbar\":{\"outlinewidth\":0,\"ticks\":\"\"},\"colorscale\":[[0.0,\"#0d0887\"],[0.1111111111111111,\"#46039f\"],[0.2222222222222222,\"#7201a8\"],[0.3333333333333333,\"#9c179e\"],[0.4444444444444444,\"#bd3786\"],[0.5555555555555556,\"#d8576b\"],[0.6666666666666666,\"#ed7953\"],[0.7777777777777778,\"#fb9f3a\"],[0.8888888888888888,\"#fdca26\"],[1.0,\"#f0f921\"]],\"type\":\"heatmap\"}],\"heatmapgl\":[{\"colorbar\":{\"outlinewidth\":0,\"ticks\":\"\"},\"colorscale\":[[0.0,\"#0d0887\"],[0.1111111111111111,\"#46039f\"],[0.2222222222222222,\"#7201a8\"],[0.3333333333333333,\"#9c179e\"],[0.4444444444444444,\"#bd3786\"],[0.5555555555555556,\"#d8576b\"],[0.6666666666666666,\"#ed7953\"],[0.7777777777777778,\"#fb9f3a\"],[0.8888888888888888,\"#fdca26\"],[1.0,\"#f0f921\"]],\"type\":\"heatmapgl\"}],\"histogram\":[{\"marker\":{\"pattern\":{\"fillmode\":\"overlay\",\"size\":10,\"solidity\":0.2}},\"type\":\"histogram\"}],\"histogram2d\":[{\"colorbar\":{\"outlinewidth\":0,\"ticks\":\"\"},\"colorscale\":[[0.0,\"#0d0887\"],[0.1111111111111111,\"#46039f\"],[0.2222222222222222,\"#7201a8\"],[0.3333333333333333,\"#9c179e\"],[0.4444444444444444,\"#bd3786\"],[0.5555555555555556,\"#d8576b\"],[0.6666666666666666,\"#ed7953\"],[0.7777777777777778,\"#fb9f3a\"],[0.8888888888888888,\"#fdca26\"],[1.0,\"#f0f921\"]],\"type\":\"histogram2d\"}],\"histogram2dcontour\":[{\"colorbar\":{\"outlinewidth\":0,\"ticks\":\"\"},\"colorscale\":[[0.0,\"#0d0887\"],[0.1111111111111111,\"#46039f\"],[0.2222222222222222,\"#7201a8\"],[0.3333333333333333,\"#9c179e\"],[0.4444444444444444,\"#bd3786\"],[0.5555555555555556,\"#d8576b\"],[0.6666666666666666,\"#ed7953\"],[0.7777777777777778,\"#fb9f3a\"],[0.8888888888888888,\"#fdca26\"],[1.0,\"#f0f921\"]],\"type\":\"histogram2dcontour\"}],\"mesh3d\":[{\"colorbar\":{\"outlinewidth\":0,\"ticks\":\"\"},\"type\":\"mesh3d\"}],\"parcoords\":[{\"line\":{\"colorbar\":{\"outlinewidth\":0,\"ticks\":\"\"}},\"type\":\"parcoords\"}],\"pie\":[{\"automargin\":true,\"type\":\"pie\"}],\"scatter\":[{\"marker\":{\"colorbar\":{\"outlinewidth\":0,\"ticks\":\"\"}},\"type\":\"scatter\"}],\"scatter3d\":[{\"line\":{\"colorbar\":{\"outlinewidth\":0,\"ticks\":\"\"}},\"marker\":{\"colorbar\":{\"outlinewidth\":0,\"ticks\":\"\"}},\"type\":\"scatter3d\"}],\"scattercarpet\":[{\"marker\":{\"colorbar\":{\"outlinewidth\":0,\"ticks\":\"\"}},\"type\":\"scattercarpet\"}],\"scattergeo\":[{\"marker\":{\"colorbar\":{\"outlinewidth\":0,\"ticks\":\"\"}},\"type\":\"scattergeo\"}],\"scattergl\":[{\"marker\":{\"colorbar\":{\"outlinewidth\":0,\"ticks\":\"\"}},\"type\":\"scattergl\"}],\"scattermapbox\":[{\"marker\":{\"colorbar\":{\"outlinewidth\":0,\"ticks\":\"\"}},\"type\":\"scattermapbox\"}],\"scatterpolar\":[{\"marker\":{\"colorbar\":{\"outlinewidth\":0,\"ticks\":\"\"}},\"type\":\"scatterpolar\"}],\"scatterpolargl\":[{\"marker\":{\"colorbar\":{\"outlinewidth\":0,\"ticks\":\"\"}},\"type\":\"scatterpolargl\"}],\"scatterternary\":[{\"marker\":{\"colorbar\":{\"outlinewidth\":0,\"ticks\":\"\"}},\"type\":\"scatterternary\"}],\"surface\":[{\"colorbar\":{\"outlinewidth\":0,\"ticks\":\"\"},\"colorscale\":[[0.0,\"#0d0887\"],[0.1111111111111111,\"#46039f\"],[0.2222222222222222,\"#7201a8\"],[0.3333333333333333,\"#9c179e\"],[0.4444444444444444,\"#bd3786\"],[0.5555555555555556,\"#d8576b\"],[0.6666666666666666,\"#ed7953\"],[0.7777777777777778,\"#fb9f3a\"],[0.8888888888888888,\"#fdca26\"],[1.0,\"#f0f921\"]],\"type\":\"surface\"}],\"table\":[{\"cells\":{\"fill\":{\"color\":\"#EBF0F8\"},\"line\":{\"color\":\"white\"}},\"header\":{\"fill\":{\"color\":\"#C8D4E3\"},\"line\":{\"color\":\"white\"}},\"type\":\"table\"}]},\"layout\":{\"annotationdefaults\":{\"arrowcolor\":\"#2a3f5f\",\"arrowhead\":0,\"arrowwidth\":1},\"autotypenumbers\":\"strict\",\"coloraxis\":{\"colorbar\":{\"outlinewidth\":0,\"ticks\":\"\"}},\"colorscale\":{\"diverging\":[[0,\"#8e0152\"],[0.1,\"#c51b7d\"],[0.2,\"#de77ae\"],[0.3,\"#f1b6da\"],[0.4,\"#fde0ef\"],[0.5,\"#f7f7f7\"],[0.6,\"#e6f5d0\"],[0.7,\"#b8e186\"],[0.8,\"#7fbc41\"],[0.9,\"#4d9221\"],[1,\"#276419\"]],\"sequential\":[[0.0,\"#0d0887\"],[0.1111111111111111,\"#46039f\"],[0.2222222222222222,\"#7201a8\"],[0.3333333333333333,\"#9c179e\"],[0.4444444444444444,\"#bd3786\"],[0.5555555555555556,\"#d8576b\"],[0.6666666666666666,\"#ed7953\"],[0.7777777777777778,\"#fb9f3a\"],[0.8888888888888888,\"#fdca26\"],[1.0,\"#f0f921\"]],\"sequentialminus\":[[0.0,\"#0d0887\"],[0.1111111111111111,\"#46039f\"],[0.2222222222222222,\"#7201a8\"],[0.3333333333333333,\"#9c179e\"],[0.4444444444444444,\"#bd3786\"],[0.5555555555555556,\"#d8576b\"],[0.6666666666666666,\"#ed7953\"],[0.7777777777777778,\"#fb9f3a\"],[0.8888888888888888,\"#fdca26\"],[1.0,\"#f0f921\"]]},\"colorway\":[\"#636efa\",\"#EF553B\",\"#00cc96\",\"#ab63fa\",\"#FFA15A\",\"#19d3f3\",\"#FF6692\",\"#B6E880\",\"#FF97FF\",\"#FECB52\"],\"font\":{\"color\":\"#2a3f5f\"},\"geo\":{\"bgcolor\":\"white\",\"lakecolor\":\"white\",\"landcolor\":\"#E5ECF6\",\"showlakes\":true,\"showland\":true,\"subunitcolor\":\"white\"},\"hoverlabel\":{\"align\":\"left\"},\"hovermode\":\"closest\",\"mapbox\":{\"style\":\"light\"},\"paper_bgcolor\":\"white\",\"plot_bgcolor\":\"#E5ECF6\",\"polar\":{\"angularaxis\":{\"gridcolor\":\"white\",\"linecolor\":\"white\",\"ticks\":\"\"},\"bgcolor\":\"#E5ECF6\",\"radialaxis\":{\"gridcolor\":\"white\",\"linecolor\":\"white\",\"ticks\":\"\"}},\"scene\":{\"xaxis\":{\"backgroundcolor\":\"#E5ECF6\",\"gridcolor\":\"white\",\"gridwidth\":2,\"linecolor\":\"white\",\"showbackground\":true,\"ticks\":\"\",\"zerolinecolor\":\"white\"},\"yaxis\":{\"backgroundcolor\":\"#E5ECF6\",\"gridcolor\":\"white\",\"gridwidth\":2,\"linecolor\":\"white\",\"showbackground\":true,\"ticks\":\"\",\"zerolinecolor\":\"white\"},\"zaxis\":{\"backgroundcolor\":\"#E5ECF6\",\"gridcolor\":\"white\",\"gridwidth\":2,\"linecolor\":\"white\",\"showbackground\":true,\"ticks\":\"\",\"zerolinecolor\":\"white\"}},\"shapedefaults\":{\"line\":{\"color\":\"#2a3f5f\"}},\"ternary\":{\"aaxis\":{\"gridcolor\":\"white\",\"linecolor\":\"white\",\"ticks\":\"\"},\"baxis\":{\"gridcolor\":\"white\",\"linecolor\":\"white\",\"ticks\":\"\"},\"bgcolor\":\"#E5ECF6\",\"caxis\":{\"gridcolor\":\"white\",\"linecolor\":\"white\",\"ticks\":\"\"}},\"title\":{\"x\":0.05},\"xaxis\":{\"automargin\":true,\"gridcolor\":\"white\",\"linecolor\":\"white\",\"ticks\":\"\",\"title\":{\"standoff\":15},\"zerolinecolor\":\"white\",\"zerolinewidth\":2},\"yaxis\":{\"automargin\":true,\"gridcolor\":\"white\",\"linecolor\":\"white\",\"ticks\":\"\",\"title\":{\"standoff\":15},\"zerolinecolor\":\"white\",\"zerolinewidth\":2}}},\"title\":{\"text\":\"Total Vaccines Administered from 2021-01-15\"},\"xaxis\":{\"anchor\":\"y\",\"domain\":[0.0,1.0],\"title\":{\"text\":\"month\"}},\"yaxis\":{\"anchor\":\"x\",\"domain\":[0.0,1.0],\"title\":{\"text\":\"total_vaccinations\"}}},                        {\"responsive\": true}                    ).then(function(){\n",
       "                            \n",
       "var gd = document.getElementById('e676b5ba-3ade-40de-ad4e-cf5d66b39145');\n",
       "var x = new MutationObserver(function (mutations, observer) {{\n",
       "        var display = window.getComputedStyle(gd).display;\n",
       "        if (!display || display === 'none') {{\n",
       "            console.log([gd, 'removed!']);\n",
       "            Plotly.purge(gd);\n",
       "            observer.disconnect();\n",
       "        }}\n",
       "}});\n",
       "\n",
       "// Listen for the removal of the full notebook cells\n",
       "var notebookContainer = gd.closest('#notebook-container');\n",
       "if (notebookContainer) {{\n",
       "    x.observe(notebookContainer, {childList: true});\n",
       "}}\n",
       "\n",
       "// Listen for the clearing of the current output cell\n",
       "var outputEl = gd.closest('.output');\n",
       "if (outputEl) {{\n",
       "    x.observe(outputEl, {childList: true});\n",
       "}}\n",
       "\n",
       "                        })                };                });            </script>        </div>"
      ]
     },
     "metadata": {},
     "output_type": "display_data"
    }
   ],
   "source": [
    "px.bar(vaccines_india_df, \n",
    "       x=vaccines_india_df.month, \n",
    "       y=vaccines_india_df.total_vaccinations, \n",
    "       title=\"Total Vaccines Administered from 2021-01-15\", \n",
    "       color=\"vaccine\", \n",
    "       hover_data=['date'])"
   ]
  },
  {
   "cell_type": "code",
   "execution_count": 19,
   "id": "64a0fffe",
   "metadata": {},
   "outputs": [
    {
     "data": {
      "application/vnd.plotly.v1+json": {
       "config": {
        "plotlyServerURL": "https://plot.ly"
       },
       "data": [
        {
         "alignmentgroup": "True",
         "customdata": [
          [
           "2021-01-15T00:00:00"
          ],
          [
           "2021-01-16T00:00:00"
          ],
          [
           "2021-01-17T00:00:00"
          ],
          [
           "2021-01-18T00:00:00"
          ],
          [
           "2021-01-19T00:00:00"
          ],
          [
           "2021-01-20T00:00:00"
          ],
          [
           "2021-01-21T00:00:00"
          ],
          [
           "2021-01-22T00:00:00"
          ],
          [
           "2021-01-23T00:00:00"
          ],
          [
           "2021-01-24T00:00:00"
          ],
          [
           "2021-01-25T00:00:00"
          ],
          [
           "2021-01-26T00:00:00"
          ],
          [
           "2021-01-27T00:00:00"
          ],
          [
           "2021-01-28T00:00:00"
          ],
          [
           "2021-01-29T00:00:00"
          ],
          [
           "2021-01-30T00:00:00"
          ],
          [
           "2021-01-31T00:00:00"
          ],
          [
           "2021-02-01T00:00:00"
          ],
          [
           "2021-02-02T00:00:00"
          ],
          [
           "2021-02-03T00:00:00"
          ],
          [
           "2021-02-04T00:00:00"
          ],
          [
           "2021-02-05T00:00:00"
          ],
          [
           "2021-02-06T00:00:00"
          ],
          [
           "2021-02-07T00:00:00"
          ],
          [
           "2021-02-08T00:00:00"
          ],
          [
           "2021-02-09T00:00:00"
          ],
          [
           "2021-02-10T00:00:00"
          ],
          [
           "2021-02-11T00:00:00"
          ],
          [
           "2021-02-12T00:00:00"
          ],
          [
           "2021-02-13T00:00:00"
          ],
          [
           "2021-02-15T00:00:00"
          ],
          [
           "2021-02-16T00:00:00"
          ],
          [
           "2021-02-17T00:00:00"
          ],
          [
           "2021-02-18T00:00:00"
          ],
          [
           "2021-02-19T00:00:00"
          ],
          [
           "2021-02-20T00:00:00"
          ],
          [
           "2021-02-21T00:00:00"
          ],
          [
           "2021-02-22T00:00:00"
          ],
          [
           "2021-02-23T00:00:00"
          ],
          [
           "2021-02-24T00:00:00"
          ],
          [
           "2021-02-25T00:00:00"
          ],
          [
           "2021-02-26T00:00:00"
          ],
          [
           "2021-02-27T00:00:00"
          ],
          [
           "2021-02-28T00:00:00"
          ],
          [
           "2021-03-01T00:00:00"
          ],
          [
           "2021-03-02T00:00:00"
          ],
          [
           "2021-03-03T00:00:00"
          ],
          [
           "2021-03-04T00:00:00"
          ],
          [
           "2021-03-05T00:00:00"
          ],
          [
           "2021-03-06T00:00:00"
          ],
          [
           "2021-03-07T00:00:00"
          ],
          [
           "2021-03-08T00:00:00"
          ],
          [
           "2021-03-09T00:00:00"
          ],
          [
           "2021-03-10T00:00:00"
          ],
          [
           "2021-03-11T00:00:00"
          ],
          [
           "2021-03-12T00:00:00"
          ],
          [
           "2021-03-13T00:00:00"
          ],
          [
           "2021-03-14T00:00:00"
          ],
          [
           "2021-03-15T00:00:00"
          ],
          [
           "2021-03-16T00:00:00"
          ],
          [
           "2021-03-17T00:00:00"
          ],
          [
           "2021-03-18T00:00:00"
          ],
          [
           "2021-03-19T00:00:00"
          ],
          [
           "2021-03-20T00:00:00"
          ],
          [
           "2021-03-21T00:00:00"
          ],
          [
           "2021-03-22T00:00:00"
          ],
          [
           "2021-03-23T00:00:00"
          ],
          [
           "2021-03-24T00:00:00"
          ],
          [
           "2021-03-25T00:00:00"
          ],
          [
           "2021-03-26T00:00:00"
          ],
          [
           "2021-03-27T00:00:00"
          ],
          [
           "2021-03-28T00:00:00"
          ],
          [
           "2021-03-29T00:00:00"
          ],
          [
           "2021-03-30T00:00:00"
          ],
          [
           "2021-03-31T00:00:00"
          ],
          [
           "2021-04-01T00:00:00"
          ],
          [
           "2021-04-02T00:00:00"
          ],
          [
           "2021-04-03T00:00:00"
          ],
          [
           "2021-04-04T00:00:00"
          ],
          [
           "2021-04-05T00:00:00"
          ],
          [
           "2021-04-06T00:00:00"
          ],
          [
           "2021-04-07T00:00:00"
          ],
          [
           "2021-04-08T00:00:00"
          ],
          [
           "2021-04-09T00:00:00"
          ],
          [
           "2021-04-10T00:00:00"
          ],
          [
           "2021-04-11T00:00:00"
          ],
          [
           "2021-04-12T00:00:00"
          ],
          [
           "2021-04-13T00:00:00"
          ],
          [
           "2021-04-14T00:00:00"
          ],
          [
           "2021-04-15T00:00:00"
          ],
          [
           "2021-04-16T00:00:00"
          ],
          [
           "2021-04-17T00:00:00"
          ],
          [
           "2021-04-18T00:00:00"
          ],
          [
           "2021-04-19T00:00:00"
          ],
          [
           "2021-04-21T00:00:00"
          ],
          [
           "2021-04-22T00:00:00"
          ],
          [
           "2021-04-25T00:00:00"
          ],
          [
           "2021-04-26T00:00:00"
          ],
          [
           "2021-04-27T00:00:00"
          ],
          [
           "2021-04-28T00:00:00"
          ],
          [
           "2021-04-29T00:00:00"
          ],
          [
           "2021-04-30T00:00:00"
          ],
          [
           "2021-05-01T00:00:00"
          ],
          [
           "2021-05-02T00:00:00"
          ],
          [
           "2021-05-03T00:00:00"
          ],
          [
           "2021-05-04T00:00:00"
          ],
          [
           "2021-05-05T00:00:00"
          ],
          [
           "2021-05-06T00:00:00"
          ],
          [
           "2021-05-07T00:00:00"
          ],
          [
           "2021-05-08T00:00:00"
          ],
          [
           "2021-05-09T00:00:00"
          ],
          [
           "2021-05-10T00:00:00"
          ],
          [
           "2021-05-11T00:00:00"
          ],
          [
           "2021-05-12T00:00:00"
          ],
          [
           "2021-05-13T00:00:00"
          ],
          [
           "2021-05-14T00:00:00"
          ],
          [
           "2021-05-15T00:00:00"
          ],
          [
           "2021-05-16T00:00:00"
          ],
          [
           "2021-05-17T00:00:00"
          ],
          [
           "2021-05-18T00:00:00"
          ],
          [
           "2021-05-19T00:00:00"
          ],
          [
           "2021-05-20T00:00:00"
          ],
          [
           "2021-05-22T00:00:00"
          ],
          [
           "2021-05-23T00:00:00"
          ],
          [
           "2021-05-24T00:00:00"
          ],
          [
           "2021-05-25T00:00:00"
          ],
          [
           "2021-05-26T00:00:00"
          ],
          [
           "2021-05-27T00:00:00"
          ],
          [
           "2021-05-28T00:00:00"
          ],
          [
           "2021-05-29T00:00:00"
          ],
          [
           "2021-05-30T00:00:00"
          ],
          [
           "2021-05-31T00:00:00"
          ],
          [
           "2021-06-01T00:00:00"
          ],
          [
           "2021-06-02T00:00:00"
          ],
          [
           "2021-06-03T00:00:00"
          ],
          [
           "2021-06-04T00:00:00"
          ],
          [
           "2021-06-05T00:00:00"
          ],
          [
           "2021-06-06T00:00:00"
          ],
          [
           "2021-06-07T00:00:00"
          ],
          [
           "2021-06-08T00:00:00"
          ],
          [
           "2021-06-09T00:00:00"
          ],
          [
           "2021-06-10T00:00:00"
          ],
          [
           "2021-06-11T00:00:00"
          ],
          [
           "2021-06-12T00:00:00"
          ],
          [
           "2021-06-13T00:00:00"
          ],
          [
           "2021-06-14T00:00:00"
          ],
          [
           "2021-06-15T00:00:00"
          ],
          [
           "2021-06-16T00:00:00"
          ],
          [
           "2021-06-17T00:00:00"
          ],
          [
           "2021-06-18T00:00:00"
          ],
          [
           "2021-06-19T00:00:00"
          ],
          [
           "2021-06-20T00:00:00"
          ],
          [
           "2021-06-21T00:00:00"
          ],
          [
           "2021-06-22T00:00:00"
          ],
          [
           "2021-06-23T00:00:00"
          ],
          [
           "2021-06-24T00:00:00"
          ],
          [
           "2021-06-25T00:00:00"
          ],
          [
           "2021-06-26T00:00:00"
          ],
          [
           "2021-06-27T00:00:00"
          ]
         ],
         "hovertemplate": "vaccine=Covaxin, Oxford/AstraZeneca<br>month=%{x}<br>people_vaccinated=%{y}<br>date=%{customdata[0]}<extra></extra>",
         "legendgroup": "Covaxin, Oxford/AstraZeneca",
         "marker": {
          "color": "#636efa",
          "pattern": {
           "shape": ""
          }
         },
         "name": "Covaxin, Oxford/AstraZeneca",
         "offsetgroup": "Covaxin, Oxford/AstraZeneca",
         "orientation": "v",
         "showlegend": true,
         "textposition": "auto",
         "type": "bar",
         "x": [
          1,
          1,
          1,
          1,
          1,
          1,
          1,
          1,
          1,
          1,
          1,
          1,
          1,
          1,
          1,
          1,
          1,
          2,
          2,
          2,
          2,
          2,
          2,
          2,
          2,
          2,
          2,
          2,
          2,
          2,
          2,
          2,
          2,
          2,
          2,
          2,
          2,
          2,
          2,
          2,
          2,
          2,
          2,
          2,
          3,
          3,
          3,
          3,
          3,
          3,
          3,
          3,
          3,
          3,
          3,
          3,
          3,
          3,
          3,
          3,
          3,
          3,
          3,
          3,
          3,
          3,
          3,
          3,
          3,
          3,
          3,
          3,
          3,
          3,
          3,
          4,
          4,
          4,
          4,
          4,
          4,
          4,
          4,
          4,
          4,
          4,
          4,
          4,
          4,
          4,
          4,
          4,
          4,
          4,
          4,
          4,
          4,
          4,
          4,
          4,
          4,
          4,
          5,
          5,
          5,
          5,
          5,
          5,
          5,
          5,
          5,
          5,
          5,
          5,
          5,
          5,
          5,
          5,
          5,
          5,
          5,
          5,
          5,
          5,
          5,
          5,
          5,
          5,
          5,
          5,
          5,
          5,
          6,
          6,
          6,
          6,
          6,
          6,
          6,
          6,
          6,
          6,
          6,
          6,
          6,
          6,
          6,
          6,
          6,
          6,
          6,
          6,
          6,
          6,
          6,
          6,
          6,
          6,
          6
         ],
         "xaxis": "x",
         "y": [
          0,
          191181,
          224301,
          454049,
          674835,
          806484,
          1043534,
          1390592,
          1582201,
          1615504,
          2023809,
          2029480,
          2355979,
          2928053,
          3500027,
          3744334,
          3758843,
          3950156,
          4138918,
          4449552,
          4959445,
          5416849,
          5775322,
          5812362,
          6259008,
          6611561,
          7017114,
          7505010,
          7967647,
          8044786,
          8418653,
          8641002,
          8844641,
          9381591,
          9693000,
          9964383,
          10124531,
          10308552,
          10585757,
          10884879,
          11206188,
          11552857,
          11788669,
          11845075,
          12256337,
          12906771,
          13739121,
          14796835,
          15996683,
          17168303,
          17227903,
          18943283,
          20004227,
          21034481,
          21435841,
          23075504,
          24307635,
          24452385,
          27079484,
          28862037,
          30600787,
          32426230,
          34842030,
          37125187,
          37574302,
          40631153,
          42731952,
          44846538,
          47001472,
          49426618,
          51441436,
          51660234,
          52211398,
          53989035,
          55783201,
          59148798,
          63081589,
          65739470,
          68678838,
          72277309,
          75937015,
          78763027,
          82456522,
          85763852,
          88885961,
          91587400,
          95043039,
          97301914,
          100179199,
          102349255,
          104408484,
          106431076,
          107371770,
          109659181,
          111673361,
          113584269,
          117795008,
          119886252,
          121263287,
          122538179,
          123811908,
          125376952,
          126328970,
          126704151,
          127696675,
          128627919,
          129730641,
          131058890,
          132294827,
          133366482,
          133854676,
          135192013,
          136557345,
          137805245,
          139087590,
          139861462,
          141132112,
          141764335,
          143090218,
          144270200,
          145333606,
          146624652,
          149219616,
          150033188,
          152301505,
          153511379,
          156189641,
          158783606,
          160605562,
          164158704,
          165598013,
          167191085,
          169585180,
          171866824,
          174296917,
          179172948,
          180972102,
          183275704,
          185501579,
          188363894,
          191222380,
          194325996,
          197415653,
          199655293,
          202572835,
          205571046,
          207830971,
          210442950,
          214553189,
          217542993,
          221493259,
          224541283,
          232744813,
          238586187,
          241720520,
          247652194,
          253359907,
          260253182,
          262916313
         ],
         "yaxis": "y"
        },
        {
         "alignmentgroup": "True",
         "customdata": [
          [
           "2021-06-28T00:00:00"
          ],
          [
           "2021-06-29T00:00:00"
          ],
          [
           "2021-06-30T00:00:00"
          ],
          [
           "2021-07-01T00:00:00"
          ],
          [
           "2021-07-02T00:00:00"
          ],
          [
           "2021-07-03T00:00:00"
          ],
          [
           "2021-07-04T00:00:00"
          ],
          [
           "2021-07-05T00:00:00"
          ],
          [
           "2021-07-06T00:00:00"
          ],
          [
           "2021-07-07T00:00:00"
          ],
          [
           "2021-07-08T00:00:00"
          ],
          [
           "2021-07-10T00:00:00"
          ],
          [
           "2021-07-11T00:00:00"
          ],
          [
           "2021-07-12T00:00:00"
          ],
          [
           "2021-07-13T00:00:00"
          ],
          [
           "2021-07-14T00:00:00"
          ],
          [
           "2021-07-15T00:00:00"
          ],
          [
           "2021-07-16T00:00:00"
          ],
          [
           "2021-07-17T00:00:00"
          ],
          [
           "2021-07-19T00:00:00"
          ]
         ],
         "hovertemplate": "vaccine=Covaxin, Oxford/AstraZeneca, Sputnik V<br>month=%{x}<br>people_vaccinated=%{y}<br>date=%{customdata[0]}<extra></extra>",
         "legendgroup": "Covaxin, Oxford/AstraZeneca, Sputnik V",
         "marker": {
          "color": "#EF553B",
          "pattern": {
           "shape": ""
          }
         },
         "name": "Covaxin, Oxford/AstraZeneca, Sputnik V",
         "offsetgroup": "Covaxin, Oxford/AstraZeneca, Sputnik V",
         "orientation": "v",
         "showlegend": true,
         "textposition": "auto",
         "type": "bar",
         "x": [
          6,
          6,
          6,
          7,
          7,
          7,
          7,
          7,
          7,
          7,
          7,
          7,
          7,
          7,
          7,
          7,
          7,
          7,
          7,
          7
         ],
         "xaxis": "x",
         "y": [
          265545768,
          270178001,
          271410023,
          275693081,
          276339011,
          282231365,
          284455266,
          286751758,
          288782557,
          291184757,
          298678913,
          303171498,
          304018852,
          306612781,
          311387539,
          313529502,
          316116189,
          318665226,
          321893762,
          326392783
         ],
         "yaxis": "y"
        }
       ],
       "layout": {
        "barmode": "relative",
        "legend": {
         "title": {
          "text": "vaccine"
         },
         "tracegroupgap": 0
        },
        "template": {
         "data": {
          "bar": [
           {
            "error_x": {
             "color": "#2a3f5f"
            },
            "error_y": {
             "color": "#2a3f5f"
            },
            "marker": {
             "line": {
              "color": "#E5ECF6",
              "width": 0.5
             },
             "pattern": {
              "fillmode": "overlay",
              "size": 10,
              "solidity": 0.2
             }
            },
            "type": "bar"
           }
          ],
          "barpolar": [
           {
            "marker": {
             "line": {
              "color": "#E5ECF6",
              "width": 0.5
             },
             "pattern": {
              "fillmode": "overlay",
              "size": 10,
              "solidity": 0.2
             }
            },
            "type": "barpolar"
           }
          ],
          "carpet": [
           {
            "aaxis": {
             "endlinecolor": "#2a3f5f",
             "gridcolor": "white",
             "linecolor": "white",
             "minorgridcolor": "white",
             "startlinecolor": "#2a3f5f"
            },
            "baxis": {
             "endlinecolor": "#2a3f5f",
             "gridcolor": "white",
             "linecolor": "white",
             "minorgridcolor": "white",
             "startlinecolor": "#2a3f5f"
            },
            "type": "carpet"
           }
          ],
          "choropleth": [
           {
            "colorbar": {
             "outlinewidth": 0,
             "ticks": ""
            },
            "type": "choropleth"
           }
          ],
          "contour": [
           {
            "colorbar": {
             "outlinewidth": 0,
             "ticks": ""
            },
            "colorscale": [
             [
              0,
              "#0d0887"
             ],
             [
              0.1111111111111111,
              "#46039f"
             ],
             [
              0.2222222222222222,
              "#7201a8"
             ],
             [
              0.3333333333333333,
              "#9c179e"
             ],
             [
              0.4444444444444444,
              "#bd3786"
             ],
             [
              0.5555555555555556,
              "#d8576b"
             ],
             [
              0.6666666666666666,
              "#ed7953"
             ],
             [
              0.7777777777777778,
              "#fb9f3a"
             ],
             [
              0.8888888888888888,
              "#fdca26"
             ],
             [
              1,
              "#f0f921"
             ]
            ],
            "type": "contour"
           }
          ],
          "contourcarpet": [
           {
            "colorbar": {
             "outlinewidth": 0,
             "ticks": ""
            },
            "type": "contourcarpet"
           }
          ],
          "heatmap": [
           {
            "colorbar": {
             "outlinewidth": 0,
             "ticks": ""
            },
            "colorscale": [
             [
              0,
              "#0d0887"
             ],
             [
              0.1111111111111111,
              "#46039f"
             ],
             [
              0.2222222222222222,
              "#7201a8"
             ],
             [
              0.3333333333333333,
              "#9c179e"
             ],
             [
              0.4444444444444444,
              "#bd3786"
             ],
             [
              0.5555555555555556,
              "#d8576b"
             ],
             [
              0.6666666666666666,
              "#ed7953"
             ],
             [
              0.7777777777777778,
              "#fb9f3a"
             ],
             [
              0.8888888888888888,
              "#fdca26"
             ],
             [
              1,
              "#f0f921"
             ]
            ],
            "type": "heatmap"
           }
          ],
          "heatmapgl": [
           {
            "colorbar": {
             "outlinewidth": 0,
             "ticks": ""
            },
            "colorscale": [
             [
              0,
              "#0d0887"
             ],
             [
              0.1111111111111111,
              "#46039f"
             ],
             [
              0.2222222222222222,
              "#7201a8"
             ],
             [
              0.3333333333333333,
              "#9c179e"
             ],
             [
              0.4444444444444444,
              "#bd3786"
             ],
             [
              0.5555555555555556,
              "#d8576b"
             ],
             [
              0.6666666666666666,
              "#ed7953"
             ],
             [
              0.7777777777777778,
              "#fb9f3a"
             ],
             [
              0.8888888888888888,
              "#fdca26"
             ],
             [
              1,
              "#f0f921"
             ]
            ],
            "type": "heatmapgl"
           }
          ],
          "histogram": [
           {
            "marker": {
             "pattern": {
              "fillmode": "overlay",
              "size": 10,
              "solidity": 0.2
             }
            },
            "type": "histogram"
           }
          ],
          "histogram2d": [
           {
            "colorbar": {
             "outlinewidth": 0,
             "ticks": ""
            },
            "colorscale": [
             [
              0,
              "#0d0887"
             ],
             [
              0.1111111111111111,
              "#46039f"
             ],
             [
              0.2222222222222222,
              "#7201a8"
             ],
             [
              0.3333333333333333,
              "#9c179e"
             ],
             [
              0.4444444444444444,
              "#bd3786"
             ],
             [
              0.5555555555555556,
              "#d8576b"
             ],
             [
              0.6666666666666666,
              "#ed7953"
             ],
             [
              0.7777777777777778,
              "#fb9f3a"
             ],
             [
              0.8888888888888888,
              "#fdca26"
             ],
             [
              1,
              "#f0f921"
             ]
            ],
            "type": "histogram2d"
           }
          ],
          "histogram2dcontour": [
           {
            "colorbar": {
             "outlinewidth": 0,
             "ticks": ""
            },
            "colorscale": [
             [
              0,
              "#0d0887"
             ],
             [
              0.1111111111111111,
              "#46039f"
             ],
             [
              0.2222222222222222,
              "#7201a8"
             ],
             [
              0.3333333333333333,
              "#9c179e"
             ],
             [
              0.4444444444444444,
              "#bd3786"
             ],
             [
              0.5555555555555556,
              "#d8576b"
             ],
             [
              0.6666666666666666,
              "#ed7953"
             ],
             [
              0.7777777777777778,
              "#fb9f3a"
             ],
             [
              0.8888888888888888,
              "#fdca26"
             ],
             [
              1,
              "#f0f921"
             ]
            ],
            "type": "histogram2dcontour"
           }
          ],
          "mesh3d": [
           {
            "colorbar": {
             "outlinewidth": 0,
             "ticks": ""
            },
            "type": "mesh3d"
           }
          ],
          "parcoords": [
           {
            "line": {
             "colorbar": {
              "outlinewidth": 0,
              "ticks": ""
             }
            },
            "type": "parcoords"
           }
          ],
          "pie": [
           {
            "automargin": true,
            "type": "pie"
           }
          ],
          "scatter": [
           {
            "marker": {
             "colorbar": {
              "outlinewidth": 0,
              "ticks": ""
             }
            },
            "type": "scatter"
           }
          ],
          "scatter3d": [
           {
            "line": {
             "colorbar": {
              "outlinewidth": 0,
              "ticks": ""
             }
            },
            "marker": {
             "colorbar": {
              "outlinewidth": 0,
              "ticks": ""
             }
            },
            "type": "scatter3d"
           }
          ],
          "scattercarpet": [
           {
            "marker": {
             "colorbar": {
              "outlinewidth": 0,
              "ticks": ""
             }
            },
            "type": "scattercarpet"
           }
          ],
          "scattergeo": [
           {
            "marker": {
             "colorbar": {
              "outlinewidth": 0,
              "ticks": ""
             }
            },
            "type": "scattergeo"
           }
          ],
          "scattergl": [
           {
            "marker": {
             "colorbar": {
              "outlinewidth": 0,
              "ticks": ""
             }
            },
            "type": "scattergl"
           }
          ],
          "scattermapbox": [
           {
            "marker": {
             "colorbar": {
              "outlinewidth": 0,
              "ticks": ""
             }
            },
            "type": "scattermapbox"
           }
          ],
          "scatterpolar": [
           {
            "marker": {
             "colorbar": {
              "outlinewidth": 0,
              "ticks": ""
             }
            },
            "type": "scatterpolar"
           }
          ],
          "scatterpolargl": [
           {
            "marker": {
             "colorbar": {
              "outlinewidth": 0,
              "ticks": ""
             }
            },
            "type": "scatterpolargl"
           }
          ],
          "scatterternary": [
           {
            "marker": {
             "colorbar": {
              "outlinewidth": 0,
              "ticks": ""
             }
            },
            "type": "scatterternary"
           }
          ],
          "surface": [
           {
            "colorbar": {
             "outlinewidth": 0,
             "ticks": ""
            },
            "colorscale": [
             [
              0,
              "#0d0887"
             ],
             [
              0.1111111111111111,
              "#46039f"
             ],
             [
              0.2222222222222222,
              "#7201a8"
             ],
             [
              0.3333333333333333,
              "#9c179e"
             ],
             [
              0.4444444444444444,
              "#bd3786"
             ],
             [
              0.5555555555555556,
              "#d8576b"
             ],
             [
              0.6666666666666666,
              "#ed7953"
             ],
             [
              0.7777777777777778,
              "#fb9f3a"
             ],
             [
              0.8888888888888888,
              "#fdca26"
             ],
             [
              1,
              "#f0f921"
             ]
            ],
            "type": "surface"
           }
          ],
          "table": [
           {
            "cells": {
             "fill": {
              "color": "#EBF0F8"
             },
             "line": {
              "color": "white"
             }
            },
            "header": {
             "fill": {
              "color": "#C8D4E3"
             },
             "line": {
              "color": "white"
             }
            },
            "type": "table"
           }
          ]
         },
         "layout": {
          "annotationdefaults": {
           "arrowcolor": "#2a3f5f",
           "arrowhead": 0,
           "arrowwidth": 1
          },
          "autotypenumbers": "strict",
          "coloraxis": {
           "colorbar": {
            "outlinewidth": 0,
            "ticks": ""
           }
          },
          "colorscale": {
           "diverging": [
            [
             0,
             "#8e0152"
            ],
            [
             0.1,
             "#c51b7d"
            ],
            [
             0.2,
             "#de77ae"
            ],
            [
             0.3,
             "#f1b6da"
            ],
            [
             0.4,
             "#fde0ef"
            ],
            [
             0.5,
             "#f7f7f7"
            ],
            [
             0.6,
             "#e6f5d0"
            ],
            [
             0.7,
             "#b8e186"
            ],
            [
             0.8,
             "#7fbc41"
            ],
            [
             0.9,
             "#4d9221"
            ],
            [
             1,
             "#276419"
            ]
           ],
           "sequential": [
            [
             0,
             "#0d0887"
            ],
            [
             0.1111111111111111,
             "#46039f"
            ],
            [
             0.2222222222222222,
             "#7201a8"
            ],
            [
             0.3333333333333333,
             "#9c179e"
            ],
            [
             0.4444444444444444,
             "#bd3786"
            ],
            [
             0.5555555555555556,
             "#d8576b"
            ],
            [
             0.6666666666666666,
             "#ed7953"
            ],
            [
             0.7777777777777778,
             "#fb9f3a"
            ],
            [
             0.8888888888888888,
             "#fdca26"
            ],
            [
             1,
             "#f0f921"
            ]
           ],
           "sequentialminus": [
            [
             0,
             "#0d0887"
            ],
            [
             0.1111111111111111,
             "#46039f"
            ],
            [
             0.2222222222222222,
             "#7201a8"
            ],
            [
             0.3333333333333333,
             "#9c179e"
            ],
            [
             0.4444444444444444,
             "#bd3786"
            ],
            [
             0.5555555555555556,
             "#d8576b"
            ],
            [
             0.6666666666666666,
             "#ed7953"
            ],
            [
             0.7777777777777778,
             "#fb9f3a"
            ],
            [
             0.8888888888888888,
             "#fdca26"
            ],
            [
             1,
             "#f0f921"
            ]
           ]
          },
          "colorway": [
           "#636efa",
           "#EF553B",
           "#00cc96",
           "#ab63fa",
           "#FFA15A",
           "#19d3f3",
           "#FF6692",
           "#B6E880",
           "#FF97FF",
           "#FECB52"
          ],
          "font": {
           "color": "#2a3f5f"
          },
          "geo": {
           "bgcolor": "white",
           "lakecolor": "white",
           "landcolor": "#E5ECF6",
           "showlakes": true,
           "showland": true,
           "subunitcolor": "white"
          },
          "hoverlabel": {
           "align": "left"
          },
          "hovermode": "closest",
          "mapbox": {
           "style": "light"
          },
          "paper_bgcolor": "white",
          "plot_bgcolor": "#E5ECF6",
          "polar": {
           "angularaxis": {
            "gridcolor": "white",
            "linecolor": "white",
            "ticks": ""
           },
           "bgcolor": "#E5ECF6",
           "radialaxis": {
            "gridcolor": "white",
            "linecolor": "white",
            "ticks": ""
           }
          },
          "scene": {
           "xaxis": {
            "backgroundcolor": "#E5ECF6",
            "gridcolor": "white",
            "gridwidth": 2,
            "linecolor": "white",
            "showbackground": true,
            "ticks": "",
            "zerolinecolor": "white"
           },
           "yaxis": {
            "backgroundcolor": "#E5ECF6",
            "gridcolor": "white",
            "gridwidth": 2,
            "linecolor": "white",
            "showbackground": true,
            "ticks": "",
            "zerolinecolor": "white"
           },
           "zaxis": {
            "backgroundcolor": "#E5ECF6",
            "gridcolor": "white",
            "gridwidth": 2,
            "linecolor": "white",
            "showbackground": true,
            "ticks": "",
            "zerolinecolor": "white"
           }
          },
          "shapedefaults": {
           "line": {
            "color": "#2a3f5f"
           }
          },
          "ternary": {
           "aaxis": {
            "gridcolor": "white",
            "linecolor": "white",
            "ticks": ""
           },
           "baxis": {
            "gridcolor": "white",
            "linecolor": "white",
            "ticks": ""
           },
           "bgcolor": "#E5ECF6",
           "caxis": {
            "gridcolor": "white",
            "linecolor": "white",
            "ticks": ""
           }
          },
          "title": {
           "x": 0.05
          },
          "xaxis": {
           "automargin": true,
           "gridcolor": "white",
           "linecolor": "white",
           "ticks": "",
           "title": {
            "standoff": 15
           },
           "zerolinecolor": "white",
           "zerolinewidth": 2
          },
          "yaxis": {
           "automargin": true,
           "gridcolor": "white",
           "linecolor": "white",
           "ticks": "",
           "title": {
            "standoff": 15
           },
           "zerolinecolor": "white",
           "zerolinewidth": 2
          }
         }
        },
        "title": {
         "text": "Total People Vaccinated Once from 2021-01-15"
        },
        "xaxis": {
         "anchor": "y",
         "domain": [
          0,
          1
         ],
         "title": {
          "text": "month"
         }
        },
        "yaxis": {
         "anchor": "x",
         "domain": [
          0,
          1
         ],
         "title": {
          "text": "people_vaccinated"
         }
        }
       }
      },
      "text/html": [
       "<div>                            <div id=\"7bf20a1d-37a4-4fef-9f4c-3bdbe76dddea\" class=\"plotly-graph-div\" style=\"height:525px; width:100%;\"></div>            <script type=\"text/javascript\">                require([\"plotly\"], function(Plotly) {                    window.PLOTLYENV=window.PLOTLYENV || {};                                    if (document.getElementById(\"7bf20a1d-37a4-4fef-9f4c-3bdbe76dddea\")) {                    Plotly.newPlot(                        \"7bf20a1d-37a4-4fef-9f4c-3bdbe76dddea\",                        [{\"alignmentgroup\":\"True\",\"customdata\":[[\"2021-01-15T00:00:00\"],[\"2021-01-16T00:00:00\"],[\"2021-01-17T00:00:00\"],[\"2021-01-18T00:00:00\"],[\"2021-01-19T00:00:00\"],[\"2021-01-20T00:00:00\"],[\"2021-01-21T00:00:00\"],[\"2021-01-22T00:00:00\"],[\"2021-01-23T00:00:00\"],[\"2021-01-24T00:00:00\"],[\"2021-01-25T00:00:00\"],[\"2021-01-26T00:00:00\"],[\"2021-01-27T00:00:00\"],[\"2021-01-28T00:00:00\"],[\"2021-01-29T00:00:00\"],[\"2021-01-30T00:00:00\"],[\"2021-01-31T00:00:00\"],[\"2021-02-01T00:00:00\"],[\"2021-02-02T00:00:00\"],[\"2021-02-03T00:00:00\"],[\"2021-02-04T00:00:00\"],[\"2021-02-05T00:00:00\"],[\"2021-02-06T00:00:00\"],[\"2021-02-07T00:00:00\"],[\"2021-02-08T00:00:00\"],[\"2021-02-09T00:00:00\"],[\"2021-02-10T00:00:00\"],[\"2021-02-11T00:00:00\"],[\"2021-02-12T00:00:00\"],[\"2021-02-13T00:00:00\"],[\"2021-02-15T00:00:00\"],[\"2021-02-16T00:00:00\"],[\"2021-02-17T00:00:00\"],[\"2021-02-18T00:00:00\"],[\"2021-02-19T00:00:00\"],[\"2021-02-20T00:00:00\"],[\"2021-02-21T00:00:00\"],[\"2021-02-22T00:00:00\"],[\"2021-02-23T00:00:00\"],[\"2021-02-24T00:00:00\"],[\"2021-02-25T00:00:00\"],[\"2021-02-26T00:00:00\"],[\"2021-02-27T00:00:00\"],[\"2021-02-28T00:00:00\"],[\"2021-03-01T00:00:00\"],[\"2021-03-02T00:00:00\"],[\"2021-03-03T00:00:00\"],[\"2021-03-04T00:00:00\"],[\"2021-03-05T00:00:00\"],[\"2021-03-06T00:00:00\"],[\"2021-03-07T00:00:00\"],[\"2021-03-08T00:00:00\"],[\"2021-03-09T00:00:00\"],[\"2021-03-10T00:00:00\"],[\"2021-03-11T00:00:00\"],[\"2021-03-12T00:00:00\"],[\"2021-03-13T00:00:00\"],[\"2021-03-14T00:00:00\"],[\"2021-03-15T00:00:00\"],[\"2021-03-16T00:00:00\"],[\"2021-03-17T00:00:00\"],[\"2021-03-18T00:00:00\"],[\"2021-03-19T00:00:00\"],[\"2021-03-20T00:00:00\"],[\"2021-03-21T00:00:00\"],[\"2021-03-22T00:00:00\"],[\"2021-03-23T00:00:00\"],[\"2021-03-24T00:00:00\"],[\"2021-03-25T00:00:00\"],[\"2021-03-26T00:00:00\"],[\"2021-03-27T00:00:00\"],[\"2021-03-28T00:00:00\"],[\"2021-03-29T00:00:00\"],[\"2021-03-30T00:00:00\"],[\"2021-03-31T00:00:00\"],[\"2021-04-01T00:00:00\"],[\"2021-04-02T00:00:00\"],[\"2021-04-03T00:00:00\"],[\"2021-04-04T00:00:00\"],[\"2021-04-05T00:00:00\"],[\"2021-04-06T00:00:00\"],[\"2021-04-07T00:00:00\"],[\"2021-04-08T00:00:00\"],[\"2021-04-09T00:00:00\"],[\"2021-04-10T00:00:00\"],[\"2021-04-11T00:00:00\"],[\"2021-04-12T00:00:00\"],[\"2021-04-13T00:00:00\"],[\"2021-04-14T00:00:00\"],[\"2021-04-15T00:00:00\"],[\"2021-04-16T00:00:00\"],[\"2021-04-17T00:00:00\"],[\"2021-04-18T00:00:00\"],[\"2021-04-19T00:00:00\"],[\"2021-04-21T00:00:00\"],[\"2021-04-22T00:00:00\"],[\"2021-04-25T00:00:00\"],[\"2021-04-26T00:00:00\"],[\"2021-04-27T00:00:00\"],[\"2021-04-28T00:00:00\"],[\"2021-04-29T00:00:00\"],[\"2021-04-30T00:00:00\"],[\"2021-05-01T00:00:00\"],[\"2021-05-02T00:00:00\"],[\"2021-05-03T00:00:00\"],[\"2021-05-04T00:00:00\"],[\"2021-05-05T00:00:00\"],[\"2021-05-06T00:00:00\"],[\"2021-05-07T00:00:00\"],[\"2021-05-08T00:00:00\"],[\"2021-05-09T00:00:00\"],[\"2021-05-10T00:00:00\"],[\"2021-05-11T00:00:00\"],[\"2021-05-12T00:00:00\"],[\"2021-05-13T00:00:00\"],[\"2021-05-14T00:00:00\"],[\"2021-05-15T00:00:00\"],[\"2021-05-16T00:00:00\"],[\"2021-05-17T00:00:00\"],[\"2021-05-18T00:00:00\"],[\"2021-05-19T00:00:00\"],[\"2021-05-20T00:00:00\"],[\"2021-05-22T00:00:00\"],[\"2021-05-23T00:00:00\"],[\"2021-05-24T00:00:00\"],[\"2021-05-25T00:00:00\"],[\"2021-05-26T00:00:00\"],[\"2021-05-27T00:00:00\"],[\"2021-05-28T00:00:00\"],[\"2021-05-29T00:00:00\"],[\"2021-05-30T00:00:00\"],[\"2021-05-31T00:00:00\"],[\"2021-06-01T00:00:00\"],[\"2021-06-02T00:00:00\"],[\"2021-06-03T00:00:00\"],[\"2021-06-04T00:00:00\"],[\"2021-06-05T00:00:00\"],[\"2021-06-06T00:00:00\"],[\"2021-06-07T00:00:00\"],[\"2021-06-08T00:00:00\"],[\"2021-06-09T00:00:00\"],[\"2021-06-10T00:00:00\"],[\"2021-06-11T00:00:00\"],[\"2021-06-12T00:00:00\"],[\"2021-06-13T00:00:00\"],[\"2021-06-14T00:00:00\"],[\"2021-06-15T00:00:00\"],[\"2021-06-16T00:00:00\"],[\"2021-06-17T00:00:00\"],[\"2021-06-18T00:00:00\"],[\"2021-06-19T00:00:00\"],[\"2021-06-20T00:00:00\"],[\"2021-06-21T00:00:00\"],[\"2021-06-22T00:00:00\"],[\"2021-06-23T00:00:00\"],[\"2021-06-24T00:00:00\"],[\"2021-06-25T00:00:00\"],[\"2021-06-26T00:00:00\"],[\"2021-06-27T00:00:00\"]],\"hovertemplate\":\"vaccine=Covaxin, Oxford/AstraZeneca<br>month=%{x}<br>people_vaccinated=%{y}<br>date=%{customdata[0]}<extra></extra>\",\"legendgroup\":\"Covaxin, Oxford/AstraZeneca\",\"marker\":{\"color\":\"#636efa\",\"pattern\":{\"shape\":\"\"}},\"name\":\"Covaxin, Oxford/AstraZeneca\",\"offsetgroup\":\"Covaxin, Oxford/AstraZeneca\",\"orientation\":\"v\",\"showlegend\":true,\"textposition\":\"auto\",\"type\":\"bar\",\"x\":[1,1,1,1,1,1,1,1,1,1,1,1,1,1,1,1,1,2,2,2,2,2,2,2,2,2,2,2,2,2,2,2,2,2,2,2,2,2,2,2,2,2,2,2,3,3,3,3,3,3,3,3,3,3,3,3,3,3,3,3,3,3,3,3,3,3,3,3,3,3,3,3,3,3,3,4,4,4,4,4,4,4,4,4,4,4,4,4,4,4,4,4,4,4,4,4,4,4,4,4,4,4,5,5,5,5,5,5,5,5,5,5,5,5,5,5,5,5,5,5,5,5,5,5,5,5,5,5,5,5,5,5,6,6,6,6,6,6,6,6,6,6,6,6,6,6,6,6,6,6,6,6,6,6,6,6,6,6,6],\"xaxis\":\"x\",\"y\":[0,191181,224301,454049,674835,806484,1043534,1390592,1582201,1615504,2023809,2029480,2355979,2928053,3500027,3744334,3758843,3950156,4138918,4449552,4959445,5416849,5775322,5812362,6259008,6611561,7017114,7505010,7967647,8044786,8418653,8641002,8844641,9381591,9693000,9964383,10124531,10308552,10585757,10884879,11206188,11552857,11788669,11845075,12256337,12906771,13739121,14796835,15996683,17168303,17227903,18943283,20004227,21034481,21435841,23075504,24307635,24452385,27079484,28862037,30600787,32426230,34842030,37125187,37574302,40631153,42731952,44846538,47001472,49426618,51441436,51660234,52211398,53989035,55783201,59148798,63081589,65739470,68678838,72277309,75937015,78763027,82456522,85763852,88885961,91587400,95043039,97301914,100179199,102349255,104408484,106431076,107371770,109659181,111673361,113584269,117795008,119886252,121263287,122538179,123811908,125376952,126328970,126704151,127696675,128627919,129730641,131058890,132294827,133366482,133854676,135192013,136557345,137805245,139087590,139861462,141132112,141764335,143090218,144270200,145333606,146624652,149219616,150033188,152301505,153511379,156189641,158783606,160605562,164158704,165598013,167191085,169585180,171866824,174296917,179172948,180972102,183275704,185501579,188363894,191222380,194325996,197415653,199655293,202572835,205571046,207830971,210442950,214553189,217542993,221493259,224541283,232744813,238586187,241720520,247652194,253359907,260253182,262916313],\"yaxis\":\"y\"},{\"alignmentgroup\":\"True\",\"customdata\":[[\"2021-06-28T00:00:00\"],[\"2021-06-29T00:00:00\"],[\"2021-06-30T00:00:00\"],[\"2021-07-01T00:00:00\"],[\"2021-07-02T00:00:00\"],[\"2021-07-03T00:00:00\"],[\"2021-07-04T00:00:00\"],[\"2021-07-05T00:00:00\"],[\"2021-07-06T00:00:00\"],[\"2021-07-07T00:00:00\"],[\"2021-07-08T00:00:00\"],[\"2021-07-10T00:00:00\"],[\"2021-07-11T00:00:00\"],[\"2021-07-12T00:00:00\"],[\"2021-07-13T00:00:00\"],[\"2021-07-14T00:00:00\"],[\"2021-07-15T00:00:00\"],[\"2021-07-16T00:00:00\"],[\"2021-07-17T00:00:00\"],[\"2021-07-19T00:00:00\"]],\"hovertemplate\":\"vaccine=Covaxin, Oxford/AstraZeneca, Sputnik V<br>month=%{x}<br>people_vaccinated=%{y}<br>date=%{customdata[0]}<extra></extra>\",\"legendgroup\":\"Covaxin, Oxford/AstraZeneca, Sputnik V\",\"marker\":{\"color\":\"#EF553B\",\"pattern\":{\"shape\":\"\"}},\"name\":\"Covaxin, Oxford/AstraZeneca, Sputnik V\",\"offsetgroup\":\"Covaxin, Oxford/AstraZeneca, Sputnik V\",\"orientation\":\"v\",\"showlegend\":true,\"textposition\":\"auto\",\"type\":\"bar\",\"x\":[6,6,6,7,7,7,7,7,7,7,7,7,7,7,7,7,7,7,7,7],\"xaxis\":\"x\",\"y\":[265545768,270178001,271410023,275693081,276339011,282231365,284455266,286751758,288782557,291184757,298678913,303171498,304018852,306612781,311387539,313529502,316116189,318665226,321893762,326392783],\"yaxis\":\"y\"}],                        {\"barmode\":\"relative\",\"legend\":{\"title\":{\"text\":\"vaccine\"},\"tracegroupgap\":0},\"template\":{\"data\":{\"bar\":[{\"error_x\":{\"color\":\"#2a3f5f\"},\"error_y\":{\"color\":\"#2a3f5f\"},\"marker\":{\"line\":{\"color\":\"#E5ECF6\",\"width\":0.5},\"pattern\":{\"fillmode\":\"overlay\",\"size\":10,\"solidity\":0.2}},\"type\":\"bar\"}],\"barpolar\":[{\"marker\":{\"line\":{\"color\":\"#E5ECF6\",\"width\":0.5},\"pattern\":{\"fillmode\":\"overlay\",\"size\":10,\"solidity\":0.2}},\"type\":\"barpolar\"}],\"carpet\":[{\"aaxis\":{\"endlinecolor\":\"#2a3f5f\",\"gridcolor\":\"white\",\"linecolor\":\"white\",\"minorgridcolor\":\"white\",\"startlinecolor\":\"#2a3f5f\"},\"baxis\":{\"endlinecolor\":\"#2a3f5f\",\"gridcolor\":\"white\",\"linecolor\":\"white\",\"minorgridcolor\":\"white\",\"startlinecolor\":\"#2a3f5f\"},\"type\":\"carpet\"}],\"choropleth\":[{\"colorbar\":{\"outlinewidth\":0,\"ticks\":\"\"},\"type\":\"choropleth\"}],\"contour\":[{\"colorbar\":{\"outlinewidth\":0,\"ticks\":\"\"},\"colorscale\":[[0.0,\"#0d0887\"],[0.1111111111111111,\"#46039f\"],[0.2222222222222222,\"#7201a8\"],[0.3333333333333333,\"#9c179e\"],[0.4444444444444444,\"#bd3786\"],[0.5555555555555556,\"#d8576b\"],[0.6666666666666666,\"#ed7953\"],[0.7777777777777778,\"#fb9f3a\"],[0.8888888888888888,\"#fdca26\"],[1.0,\"#f0f921\"]],\"type\":\"contour\"}],\"contourcarpet\":[{\"colorbar\":{\"outlinewidth\":0,\"ticks\":\"\"},\"type\":\"contourcarpet\"}],\"heatmap\":[{\"colorbar\":{\"outlinewidth\":0,\"ticks\":\"\"},\"colorscale\":[[0.0,\"#0d0887\"],[0.1111111111111111,\"#46039f\"],[0.2222222222222222,\"#7201a8\"],[0.3333333333333333,\"#9c179e\"],[0.4444444444444444,\"#bd3786\"],[0.5555555555555556,\"#d8576b\"],[0.6666666666666666,\"#ed7953\"],[0.7777777777777778,\"#fb9f3a\"],[0.8888888888888888,\"#fdca26\"],[1.0,\"#f0f921\"]],\"type\":\"heatmap\"}],\"heatmapgl\":[{\"colorbar\":{\"outlinewidth\":0,\"ticks\":\"\"},\"colorscale\":[[0.0,\"#0d0887\"],[0.1111111111111111,\"#46039f\"],[0.2222222222222222,\"#7201a8\"],[0.3333333333333333,\"#9c179e\"],[0.4444444444444444,\"#bd3786\"],[0.5555555555555556,\"#d8576b\"],[0.6666666666666666,\"#ed7953\"],[0.7777777777777778,\"#fb9f3a\"],[0.8888888888888888,\"#fdca26\"],[1.0,\"#f0f921\"]],\"type\":\"heatmapgl\"}],\"histogram\":[{\"marker\":{\"pattern\":{\"fillmode\":\"overlay\",\"size\":10,\"solidity\":0.2}},\"type\":\"histogram\"}],\"histogram2d\":[{\"colorbar\":{\"outlinewidth\":0,\"ticks\":\"\"},\"colorscale\":[[0.0,\"#0d0887\"],[0.1111111111111111,\"#46039f\"],[0.2222222222222222,\"#7201a8\"],[0.3333333333333333,\"#9c179e\"],[0.4444444444444444,\"#bd3786\"],[0.5555555555555556,\"#d8576b\"],[0.6666666666666666,\"#ed7953\"],[0.7777777777777778,\"#fb9f3a\"],[0.8888888888888888,\"#fdca26\"],[1.0,\"#f0f921\"]],\"type\":\"histogram2d\"}],\"histogram2dcontour\":[{\"colorbar\":{\"outlinewidth\":0,\"ticks\":\"\"},\"colorscale\":[[0.0,\"#0d0887\"],[0.1111111111111111,\"#46039f\"],[0.2222222222222222,\"#7201a8\"],[0.3333333333333333,\"#9c179e\"],[0.4444444444444444,\"#bd3786\"],[0.5555555555555556,\"#d8576b\"],[0.6666666666666666,\"#ed7953\"],[0.7777777777777778,\"#fb9f3a\"],[0.8888888888888888,\"#fdca26\"],[1.0,\"#f0f921\"]],\"type\":\"histogram2dcontour\"}],\"mesh3d\":[{\"colorbar\":{\"outlinewidth\":0,\"ticks\":\"\"},\"type\":\"mesh3d\"}],\"parcoords\":[{\"line\":{\"colorbar\":{\"outlinewidth\":0,\"ticks\":\"\"}},\"type\":\"parcoords\"}],\"pie\":[{\"automargin\":true,\"type\":\"pie\"}],\"scatter\":[{\"marker\":{\"colorbar\":{\"outlinewidth\":0,\"ticks\":\"\"}},\"type\":\"scatter\"}],\"scatter3d\":[{\"line\":{\"colorbar\":{\"outlinewidth\":0,\"ticks\":\"\"}},\"marker\":{\"colorbar\":{\"outlinewidth\":0,\"ticks\":\"\"}},\"type\":\"scatter3d\"}],\"scattercarpet\":[{\"marker\":{\"colorbar\":{\"outlinewidth\":0,\"ticks\":\"\"}},\"type\":\"scattercarpet\"}],\"scattergeo\":[{\"marker\":{\"colorbar\":{\"outlinewidth\":0,\"ticks\":\"\"}},\"type\":\"scattergeo\"}],\"scattergl\":[{\"marker\":{\"colorbar\":{\"outlinewidth\":0,\"ticks\":\"\"}},\"type\":\"scattergl\"}],\"scattermapbox\":[{\"marker\":{\"colorbar\":{\"outlinewidth\":0,\"ticks\":\"\"}},\"type\":\"scattermapbox\"}],\"scatterpolar\":[{\"marker\":{\"colorbar\":{\"outlinewidth\":0,\"ticks\":\"\"}},\"type\":\"scatterpolar\"}],\"scatterpolargl\":[{\"marker\":{\"colorbar\":{\"outlinewidth\":0,\"ticks\":\"\"}},\"type\":\"scatterpolargl\"}],\"scatterternary\":[{\"marker\":{\"colorbar\":{\"outlinewidth\":0,\"ticks\":\"\"}},\"type\":\"scatterternary\"}],\"surface\":[{\"colorbar\":{\"outlinewidth\":0,\"ticks\":\"\"},\"colorscale\":[[0.0,\"#0d0887\"],[0.1111111111111111,\"#46039f\"],[0.2222222222222222,\"#7201a8\"],[0.3333333333333333,\"#9c179e\"],[0.4444444444444444,\"#bd3786\"],[0.5555555555555556,\"#d8576b\"],[0.6666666666666666,\"#ed7953\"],[0.7777777777777778,\"#fb9f3a\"],[0.8888888888888888,\"#fdca26\"],[1.0,\"#f0f921\"]],\"type\":\"surface\"}],\"table\":[{\"cells\":{\"fill\":{\"color\":\"#EBF0F8\"},\"line\":{\"color\":\"white\"}},\"header\":{\"fill\":{\"color\":\"#C8D4E3\"},\"line\":{\"color\":\"white\"}},\"type\":\"table\"}]},\"layout\":{\"annotationdefaults\":{\"arrowcolor\":\"#2a3f5f\",\"arrowhead\":0,\"arrowwidth\":1},\"autotypenumbers\":\"strict\",\"coloraxis\":{\"colorbar\":{\"outlinewidth\":0,\"ticks\":\"\"}},\"colorscale\":{\"diverging\":[[0,\"#8e0152\"],[0.1,\"#c51b7d\"],[0.2,\"#de77ae\"],[0.3,\"#f1b6da\"],[0.4,\"#fde0ef\"],[0.5,\"#f7f7f7\"],[0.6,\"#e6f5d0\"],[0.7,\"#b8e186\"],[0.8,\"#7fbc41\"],[0.9,\"#4d9221\"],[1,\"#276419\"]],\"sequential\":[[0.0,\"#0d0887\"],[0.1111111111111111,\"#46039f\"],[0.2222222222222222,\"#7201a8\"],[0.3333333333333333,\"#9c179e\"],[0.4444444444444444,\"#bd3786\"],[0.5555555555555556,\"#d8576b\"],[0.6666666666666666,\"#ed7953\"],[0.7777777777777778,\"#fb9f3a\"],[0.8888888888888888,\"#fdca26\"],[1.0,\"#f0f921\"]],\"sequentialminus\":[[0.0,\"#0d0887\"],[0.1111111111111111,\"#46039f\"],[0.2222222222222222,\"#7201a8\"],[0.3333333333333333,\"#9c179e\"],[0.4444444444444444,\"#bd3786\"],[0.5555555555555556,\"#d8576b\"],[0.6666666666666666,\"#ed7953\"],[0.7777777777777778,\"#fb9f3a\"],[0.8888888888888888,\"#fdca26\"],[1.0,\"#f0f921\"]]},\"colorway\":[\"#636efa\",\"#EF553B\",\"#00cc96\",\"#ab63fa\",\"#FFA15A\",\"#19d3f3\",\"#FF6692\",\"#B6E880\",\"#FF97FF\",\"#FECB52\"],\"font\":{\"color\":\"#2a3f5f\"},\"geo\":{\"bgcolor\":\"white\",\"lakecolor\":\"white\",\"landcolor\":\"#E5ECF6\",\"showlakes\":true,\"showland\":true,\"subunitcolor\":\"white\"},\"hoverlabel\":{\"align\":\"left\"},\"hovermode\":\"closest\",\"mapbox\":{\"style\":\"light\"},\"paper_bgcolor\":\"white\",\"plot_bgcolor\":\"#E5ECF6\",\"polar\":{\"angularaxis\":{\"gridcolor\":\"white\",\"linecolor\":\"white\",\"ticks\":\"\"},\"bgcolor\":\"#E5ECF6\",\"radialaxis\":{\"gridcolor\":\"white\",\"linecolor\":\"white\",\"ticks\":\"\"}},\"scene\":{\"xaxis\":{\"backgroundcolor\":\"#E5ECF6\",\"gridcolor\":\"white\",\"gridwidth\":2,\"linecolor\":\"white\",\"showbackground\":true,\"ticks\":\"\",\"zerolinecolor\":\"white\"},\"yaxis\":{\"backgroundcolor\":\"#E5ECF6\",\"gridcolor\":\"white\",\"gridwidth\":2,\"linecolor\":\"white\",\"showbackground\":true,\"ticks\":\"\",\"zerolinecolor\":\"white\"},\"zaxis\":{\"backgroundcolor\":\"#E5ECF6\",\"gridcolor\":\"white\",\"gridwidth\":2,\"linecolor\":\"white\",\"showbackground\":true,\"ticks\":\"\",\"zerolinecolor\":\"white\"}},\"shapedefaults\":{\"line\":{\"color\":\"#2a3f5f\"}},\"ternary\":{\"aaxis\":{\"gridcolor\":\"white\",\"linecolor\":\"white\",\"ticks\":\"\"},\"baxis\":{\"gridcolor\":\"white\",\"linecolor\":\"white\",\"ticks\":\"\"},\"bgcolor\":\"#E5ECF6\",\"caxis\":{\"gridcolor\":\"white\",\"linecolor\":\"white\",\"ticks\":\"\"}},\"title\":{\"x\":0.05},\"xaxis\":{\"automargin\":true,\"gridcolor\":\"white\",\"linecolor\":\"white\",\"ticks\":\"\",\"title\":{\"standoff\":15},\"zerolinecolor\":\"white\",\"zerolinewidth\":2},\"yaxis\":{\"automargin\":true,\"gridcolor\":\"white\",\"linecolor\":\"white\",\"ticks\":\"\",\"title\":{\"standoff\":15},\"zerolinecolor\":\"white\",\"zerolinewidth\":2}}},\"title\":{\"text\":\"Total People Vaccinated Once from 2021-01-15\"},\"xaxis\":{\"anchor\":\"y\",\"domain\":[0.0,1.0],\"title\":{\"text\":\"month\"}},\"yaxis\":{\"anchor\":\"x\",\"domain\":[0.0,1.0],\"title\":{\"text\":\"people_vaccinated\"}}},                        {\"responsive\": true}                    ).then(function(){\n",
       "                            \n",
       "var gd = document.getElementById('7bf20a1d-37a4-4fef-9f4c-3bdbe76dddea');\n",
       "var x = new MutationObserver(function (mutations, observer) {{\n",
       "        var display = window.getComputedStyle(gd).display;\n",
       "        if (!display || display === 'none') {{\n",
       "            console.log([gd, 'removed!']);\n",
       "            Plotly.purge(gd);\n",
       "            observer.disconnect();\n",
       "        }}\n",
       "}});\n",
       "\n",
       "// Listen for the removal of the full notebook cells\n",
       "var notebookContainer = gd.closest('#notebook-container');\n",
       "if (notebookContainer) {{\n",
       "    x.observe(notebookContainer, {childList: true});\n",
       "}}\n",
       "\n",
       "// Listen for the clearing of the current output cell\n",
       "var outputEl = gd.closest('.output');\n",
       "if (outputEl) {{\n",
       "    x.observe(outputEl, {childList: true});\n",
       "}}\n",
       "\n",
       "                        })                };                });            </script>        </div>"
      ]
     },
     "metadata": {},
     "output_type": "display_data"
    }
   ],
   "source": [
    "px.bar(vaccines_india_df, \n",
    "       x=vaccines_india_df.month, \n",
    "       y=vaccines_india_df.people_vaccinated, \n",
    "       title=\"Total People Vaccinated Once from 2021-01-15\", \n",
    "       color=\"vaccine\", \n",
    "       hover_data=['date'])"
   ]
  },
  {
   "cell_type": "code",
   "execution_count": 20,
   "id": "386c6985",
   "metadata": {},
   "outputs": [
    {
     "data": {
      "application/vnd.plotly.v1+json": {
       "config": {
        "plotlyServerURL": "https://plot.ly"
       },
       "data": [
        {
         "alignmentgroup": "True",
         "customdata": [
          [
           "2021-01-15T00:00:00"
          ],
          [
           "2021-01-16T00:00:00"
          ],
          [
           "2021-01-17T00:00:00"
          ],
          [
           "2021-01-18T00:00:00"
          ],
          [
           "2021-01-19T00:00:00"
          ],
          [
           "2021-01-20T00:00:00"
          ],
          [
           "2021-01-21T00:00:00"
          ],
          [
           "2021-01-22T00:00:00"
          ],
          [
           "2021-01-23T00:00:00"
          ],
          [
           "2021-01-24T00:00:00"
          ],
          [
           "2021-01-25T00:00:00"
          ],
          [
           "2021-01-26T00:00:00"
          ],
          [
           "2021-01-27T00:00:00"
          ],
          [
           "2021-01-28T00:00:00"
          ],
          [
           "2021-01-29T00:00:00"
          ],
          [
           "2021-01-30T00:00:00"
          ],
          [
           "2021-01-31T00:00:00"
          ],
          [
           "2021-02-01T00:00:00"
          ],
          [
           "2021-02-02T00:00:00"
          ],
          [
           "2021-02-03T00:00:00"
          ],
          [
           "2021-02-04T00:00:00"
          ],
          [
           "2021-02-05T00:00:00"
          ],
          [
           "2021-02-06T00:00:00"
          ],
          [
           "2021-02-07T00:00:00"
          ],
          [
           "2021-02-08T00:00:00"
          ],
          [
           "2021-02-09T00:00:00"
          ],
          [
           "2021-02-10T00:00:00"
          ],
          [
           "2021-02-11T00:00:00"
          ],
          [
           "2021-02-12T00:00:00"
          ],
          [
           "2021-02-13T00:00:00"
          ],
          [
           "2021-02-15T00:00:00"
          ],
          [
           "2021-02-16T00:00:00"
          ],
          [
           "2021-02-17T00:00:00"
          ],
          [
           "2021-02-18T00:00:00"
          ],
          [
           "2021-02-19T00:00:00"
          ],
          [
           "2021-02-20T00:00:00"
          ],
          [
           "2021-02-21T00:00:00"
          ],
          [
           "2021-02-22T00:00:00"
          ],
          [
           "2021-02-23T00:00:00"
          ],
          [
           "2021-02-24T00:00:00"
          ],
          [
           "2021-02-25T00:00:00"
          ],
          [
           "2021-02-26T00:00:00"
          ],
          [
           "2021-02-27T00:00:00"
          ],
          [
           "2021-02-28T00:00:00"
          ],
          [
           "2021-03-01T00:00:00"
          ],
          [
           "2021-03-02T00:00:00"
          ],
          [
           "2021-03-03T00:00:00"
          ],
          [
           "2021-03-04T00:00:00"
          ],
          [
           "2021-03-05T00:00:00"
          ],
          [
           "2021-03-06T00:00:00"
          ],
          [
           "2021-03-07T00:00:00"
          ],
          [
           "2021-03-08T00:00:00"
          ],
          [
           "2021-03-09T00:00:00"
          ],
          [
           "2021-03-10T00:00:00"
          ],
          [
           "2021-03-11T00:00:00"
          ],
          [
           "2021-03-12T00:00:00"
          ],
          [
           "2021-03-13T00:00:00"
          ],
          [
           "2021-03-14T00:00:00"
          ],
          [
           "2021-03-15T00:00:00"
          ],
          [
           "2021-03-16T00:00:00"
          ],
          [
           "2021-03-17T00:00:00"
          ],
          [
           "2021-03-18T00:00:00"
          ],
          [
           "2021-03-19T00:00:00"
          ],
          [
           "2021-03-20T00:00:00"
          ],
          [
           "2021-03-21T00:00:00"
          ],
          [
           "2021-03-22T00:00:00"
          ],
          [
           "2021-03-23T00:00:00"
          ],
          [
           "2021-03-24T00:00:00"
          ],
          [
           "2021-03-25T00:00:00"
          ],
          [
           "2021-03-26T00:00:00"
          ],
          [
           "2021-03-27T00:00:00"
          ],
          [
           "2021-03-28T00:00:00"
          ],
          [
           "2021-03-29T00:00:00"
          ],
          [
           "2021-03-30T00:00:00"
          ],
          [
           "2021-03-31T00:00:00"
          ],
          [
           "2021-04-01T00:00:00"
          ],
          [
           "2021-04-02T00:00:00"
          ],
          [
           "2021-04-03T00:00:00"
          ],
          [
           "2021-04-04T00:00:00"
          ],
          [
           "2021-04-05T00:00:00"
          ],
          [
           "2021-04-06T00:00:00"
          ],
          [
           "2021-04-07T00:00:00"
          ],
          [
           "2021-04-08T00:00:00"
          ],
          [
           "2021-04-09T00:00:00"
          ],
          [
           "2021-04-10T00:00:00"
          ],
          [
           "2021-04-11T00:00:00"
          ],
          [
           "2021-04-12T00:00:00"
          ],
          [
           "2021-04-13T00:00:00"
          ],
          [
           "2021-04-14T00:00:00"
          ],
          [
           "2021-04-15T00:00:00"
          ],
          [
           "2021-04-16T00:00:00"
          ],
          [
           "2021-04-17T00:00:00"
          ],
          [
           "2021-04-18T00:00:00"
          ],
          [
           "2021-04-19T00:00:00"
          ],
          [
           "2021-04-21T00:00:00"
          ],
          [
           "2021-04-22T00:00:00"
          ],
          [
           "2021-04-25T00:00:00"
          ],
          [
           "2021-04-26T00:00:00"
          ],
          [
           "2021-04-27T00:00:00"
          ],
          [
           "2021-04-28T00:00:00"
          ],
          [
           "2021-04-29T00:00:00"
          ],
          [
           "2021-04-30T00:00:00"
          ],
          [
           "2021-05-01T00:00:00"
          ],
          [
           "2021-05-02T00:00:00"
          ],
          [
           "2021-05-03T00:00:00"
          ],
          [
           "2021-05-04T00:00:00"
          ],
          [
           "2021-05-05T00:00:00"
          ],
          [
           "2021-05-06T00:00:00"
          ],
          [
           "2021-05-07T00:00:00"
          ],
          [
           "2021-05-08T00:00:00"
          ],
          [
           "2021-05-09T00:00:00"
          ],
          [
           "2021-05-10T00:00:00"
          ],
          [
           "2021-05-11T00:00:00"
          ],
          [
           "2021-05-12T00:00:00"
          ],
          [
           "2021-05-13T00:00:00"
          ],
          [
           "2021-05-14T00:00:00"
          ],
          [
           "2021-05-15T00:00:00"
          ],
          [
           "2021-05-16T00:00:00"
          ],
          [
           "2021-05-17T00:00:00"
          ],
          [
           "2021-05-18T00:00:00"
          ],
          [
           "2021-05-19T00:00:00"
          ],
          [
           "2021-05-20T00:00:00"
          ],
          [
           "2021-05-22T00:00:00"
          ],
          [
           "2021-05-23T00:00:00"
          ],
          [
           "2021-05-24T00:00:00"
          ],
          [
           "2021-05-25T00:00:00"
          ],
          [
           "2021-05-26T00:00:00"
          ],
          [
           "2021-05-27T00:00:00"
          ],
          [
           "2021-05-28T00:00:00"
          ],
          [
           "2021-05-29T00:00:00"
          ],
          [
           "2021-05-30T00:00:00"
          ],
          [
           "2021-05-31T00:00:00"
          ],
          [
           "2021-06-01T00:00:00"
          ],
          [
           "2021-06-02T00:00:00"
          ],
          [
           "2021-06-03T00:00:00"
          ],
          [
           "2021-06-04T00:00:00"
          ],
          [
           "2021-06-05T00:00:00"
          ],
          [
           "2021-06-06T00:00:00"
          ],
          [
           "2021-06-07T00:00:00"
          ],
          [
           "2021-06-08T00:00:00"
          ],
          [
           "2021-06-09T00:00:00"
          ],
          [
           "2021-06-10T00:00:00"
          ],
          [
           "2021-06-11T00:00:00"
          ],
          [
           "2021-06-12T00:00:00"
          ],
          [
           "2021-06-13T00:00:00"
          ],
          [
           "2021-06-14T00:00:00"
          ],
          [
           "2021-06-15T00:00:00"
          ],
          [
           "2021-06-16T00:00:00"
          ],
          [
           "2021-06-17T00:00:00"
          ],
          [
           "2021-06-18T00:00:00"
          ],
          [
           "2021-06-19T00:00:00"
          ],
          [
           "2021-06-20T00:00:00"
          ],
          [
           "2021-06-21T00:00:00"
          ],
          [
           "2021-06-22T00:00:00"
          ],
          [
           "2021-06-23T00:00:00"
          ],
          [
           "2021-06-24T00:00:00"
          ],
          [
           "2021-06-25T00:00:00"
          ],
          [
           "2021-06-26T00:00:00"
          ],
          [
           "2021-06-27T00:00:00"
          ]
         ],
         "hovertemplate": "vaccine=Covaxin, Oxford/AstraZeneca<br>month=%{x}<br>people_fully_vaccinated=%{y}<br>date=%{customdata[0]}<extra></extra>",
         "legendgroup": "Covaxin, Oxford/AstraZeneca",
         "marker": {
          "color": "#636efa",
          "pattern": {
           "shape": ""
          }
         },
         "name": "Covaxin, Oxford/AstraZeneca",
         "offsetgroup": "Covaxin, Oxford/AstraZeneca",
         "orientation": "v",
         "showlegend": true,
         "textposition": "auto",
         "type": "bar",
         "x": [
          1,
          1,
          1,
          1,
          1,
          1,
          1,
          1,
          1,
          1,
          1,
          1,
          1,
          1,
          1,
          1,
          1,
          2,
          2,
          2,
          2,
          2,
          2,
          2,
          2,
          2,
          2,
          2,
          2,
          2,
          2,
          2,
          2,
          2,
          2,
          2,
          2,
          2,
          2,
          2,
          2,
          2,
          2,
          2,
          3,
          3,
          3,
          3,
          3,
          3,
          3,
          3,
          3,
          3,
          3,
          3,
          3,
          3,
          3,
          3,
          3,
          3,
          3,
          3,
          3,
          3,
          3,
          3,
          3,
          3,
          3,
          3,
          3,
          3,
          3,
          4,
          4,
          4,
          4,
          4,
          4,
          4,
          4,
          4,
          4,
          4,
          4,
          4,
          4,
          4,
          4,
          4,
          4,
          4,
          4,
          4,
          4,
          4,
          4,
          4,
          4,
          4,
          5,
          5,
          5,
          5,
          5,
          5,
          5,
          5,
          5,
          5,
          5,
          5,
          5,
          5,
          5,
          5,
          5,
          5,
          5,
          5,
          5,
          5,
          5,
          5,
          5,
          5,
          5,
          5,
          5,
          5,
          6,
          6,
          6,
          6,
          6,
          6,
          6,
          6,
          6,
          6,
          6,
          6,
          6,
          6,
          6,
          6,
          6,
          6,
          6,
          6,
          6,
          6,
          6,
          6,
          6,
          6,
          6
         ],
         "xaxis": "x",
         "y": [
          0,
          0,
          0,
          0,
          0,
          0,
          0,
          0,
          0,
          0,
          0,
          0,
          0,
          0,
          0,
          0,
          0,
          0,
          0,
          0,
          0,
          0,
          0,
          0,
          0,
          0,
          0,
          0,
          0,
          7668,
          98118,
          216339,
          342116,
          464932,
          756942,
          873940,
          960642,
          1115542,
          1321635,
          1481754,
          1860859,
          2204083,
          2453878,
          2456191,
          2597799,
          2713978,
          2876927,
          3208668,
          3501021,
          3754041,
          3761107,
          4065450,
          4363679,
          4650530,
          4729079,
          5142953,
          5430774,
          5455653,
          5867948,
          6202499,
          6542468,
          6913587,
          7221362,
          7478654,
          7491696,
          7863441,
          8109334,
          8299171,
          8502968,
          8683155,
          8828346,
          8870201,
          8901956,
          9065318,
          9334695,
          9640340,
          9972706,
          10240181,
          10426325,
          10833617,
          11140459,
          11435646,
          11877740,
          12311308,
          12709186,
          12941165,
          13490046,
          13877664,
          14314039,
          14874254,
          15529157,
          16191514,
          16480796,
          17469932,
          17972744,
          19170339,
          21390165,
          22638695,
          23615946,
          24515213,
          25456864,
          26621155,
          27297355,
          27507360,
          28385461,
          29122833,
          30200597,
          31544713,
          32895173,
          34127375,
          34450192,
          35906905,
          37305298,
          38240332,
          39274256,
          39784951,
          40412424,
          40486671,
          40726986,
          40921402,
          41076994,
          41262233,
          41622881,
          41686052,
          41864206,
          41995400,
          42235974,
          42419560,
          42561240,
          42930249,
          43067110,
          43258810,
          43550558,
          43811342,
          44047467,
          44434820,
          44599042,
          44765341,
          44989073,
          45317035,
          45634125,
          45955907,
          46287589,
          46532774,
          46857581,
          47189318,
          47474395,
          47882950,
          48417061,
          48812947,
          49415053,
          49745316,
          50569129,
          51269269,
          51649818,
          52401833,
          53301621,
          54588202,
          55114099
         ],
         "yaxis": "y"
        },
        {
         "alignmentgroup": "True",
         "customdata": [
          [
           "2021-06-28T00:00:00"
          ],
          [
           "2021-06-29T00:00:00"
          ],
          [
           "2021-06-30T00:00:00"
          ],
          [
           "2021-07-01T00:00:00"
          ],
          [
           "2021-07-02T00:00:00"
          ],
          [
           "2021-07-03T00:00:00"
          ],
          [
           "2021-07-04T00:00:00"
          ],
          [
           "2021-07-05T00:00:00"
          ],
          [
           "2021-07-06T00:00:00"
          ],
          [
           "2021-07-07T00:00:00"
          ],
          [
           "2021-07-08T00:00:00"
          ],
          [
           "2021-07-10T00:00:00"
          ],
          [
           "2021-07-11T00:00:00"
          ],
          [
           "2021-07-12T00:00:00"
          ],
          [
           "2021-07-13T00:00:00"
          ],
          [
           "2021-07-14T00:00:00"
          ],
          [
           "2021-07-15T00:00:00"
          ],
          [
           "2021-07-16T00:00:00"
          ],
          [
           "2021-07-17T00:00:00"
          ],
          [
           "2021-07-19T00:00:00"
          ]
         ],
         "hovertemplate": "vaccine=Covaxin, Oxford/AstraZeneca, Sputnik V<br>month=%{x}<br>people_fully_vaccinated=%{y}<br>date=%{customdata[0]}<extra></extra>",
         "legendgroup": "Covaxin, Oxford/AstraZeneca, Sputnik V",
         "marker": {
          "color": "#EF553B",
          "pattern": {
           "shape": ""
          }
         },
         "name": "Covaxin, Oxford/AstraZeneca, Sputnik V",
         "offsetgroup": "Covaxin, Oxford/AstraZeneca, Sputnik V",
         "orientation": "v",
         "showlegend": true,
         "textposition": "auto",
         "type": "bar",
         "x": [
          6,
          6,
          6,
          7,
          7,
          7,
          7,
          7,
          7,
          7,
          7,
          7,
          7,
          7,
          7,
          7,
          7,
          7,
          7,
          7
         ],
         "xaxis": "x",
         "y": [
          55877810,
          57245912,
          57748116,
          59048568,
          59332783,
          62069225,
          62923284,
          64477739,
          65525089,
          66886006,
          70312309,
          72861088,
          73333649,
          74854865,
          76310396,
          77810989,
          79227578,
          81030653,
          83037953,
          85453618
         ],
         "yaxis": "y"
        }
       ],
       "layout": {
        "barmode": "relative",
        "legend": {
         "title": {
          "text": "vaccine"
         },
         "tracegroupgap": 0
        },
        "template": {
         "data": {
          "bar": [
           {
            "error_x": {
             "color": "#2a3f5f"
            },
            "error_y": {
             "color": "#2a3f5f"
            },
            "marker": {
             "line": {
              "color": "#E5ECF6",
              "width": 0.5
             },
             "pattern": {
              "fillmode": "overlay",
              "size": 10,
              "solidity": 0.2
             }
            },
            "type": "bar"
           }
          ],
          "barpolar": [
           {
            "marker": {
             "line": {
              "color": "#E5ECF6",
              "width": 0.5
             },
             "pattern": {
              "fillmode": "overlay",
              "size": 10,
              "solidity": 0.2
             }
            },
            "type": "barpolar"
           }
          ],
          "carpet": [
           {
            "aaxis": {
             "endlinecolor": "#2a3f5f",
             "gridcolor": "white",
             "linecolor": "white",
             "minorgridcolor": "white",
             "startlinecolor": "#2a3f5f"
            },
            "baxis": {
             "endlinecolor": "#2a3f5f",
             "gridcolor": "white",
             "linecolor": "white",
             "minorgridcolor": "white",
             "startlinecolor": "#2a3f5f"
            },
            "type": "carpet"
           }
          ],
          "choropleth": [
           {
            "colorbar": {
             "outlinewidth": 0,
             "ticks": ""
            },
            "type": "choropleth"
           }
          ],
          "contour": [
           {
            "colorbar": {
             "outlinewidth": 0,
             "ticks": ""
            },
            "colorscale": [
             [
              0,
              "#0d0887"
             ],
             [
              0.1111111111111111,
              "#46039f"
             ],
             [
              0.2222222222222222,
              "#7201a8"
             ],
             [
              0.3333333333333333,
              "#9c179e"
             ],
             [
              0.4444444444444444,
              "#bd3786"
             ],
             [
              0.5555555555555556,
              "#d8576b"
             ],
             [
              0.6666666666666666,
              "#ed7953"
             ],
             [
              0.7777777777777778,
              "#fb9f3a"
             ],
             [
              0.8888888888888888,
              "#fdca26"
             ],
             [
              1,
              "#f0f921"
             ]
            ],
            "type": "contour"
           }
          ],
          "contourcarpet": [
           {
            "colorbar": {
             "outlinewidth": 0,
             "ticks": ""
            },
            "type": "contourcarpet"
           }
          ],
          "heatmap": [
           {
            "colorbar": {
             "outlinewidth": 0,
             "ticks": ""
            },
            "colorscale": [
             [
              0,
              "#0d0887"
             ],
             [
              0.1111111111111111,
              "#46039f"
             ],
             [
              0.2222222222222222,
              "#7201a8"
             ],
             [
              0.3333333333333333,
              "#9c179e"
             ],
             [
              0.4444444444444444,
              "#bd3786"
             ],
             [
              0.5555555555555556,
              "#d8576b"
             ],
             [
              0.6666666666666666,
              "#ed7953"
             ],
             [
              0.7777777777777778,
              "#fb9f3a"
             ],
             [
              0.8888888888888888,
              "#fdca26"
             ],
             [
              1,
              "#f0f921"
             ]
            ],
            "type": "heatmap"
           }
          ],
          "heatmapgl": [
           {
            "colorbar": {
             "outlinewidth": 0,
             "ticks": ""
            },
            "colorscale": [
             [
              0,
              "#0d0887"
             ],
             [
              0.1111111111111111,
              "#46039f"
             ],
             [
              0.2222222222222222,
              "#7201a8"
             ],
             [
              0.3333333333333333,
              "#9c179e"
             ],
             [
              0.4444444444444444,
              "#bd3786"
             ],
             [
              0.5555555555555556,
              "#d8576b"
             ],
             [
              0.6666666666666666,
              "#ed7953"
             ],
             [
              0.7777777777777778,
              "#fb9f3a"
             ],
             [
              0.8888888888888888,
              "#fdca26"
             ],
             [
              1,
              "#f0f921"
             ]
            ],
            "type": "heatmapgl"
           }
          ],
          "histogram": [
           {
            "marker": {
             "pattern": {
              "fillmode": "overlay",
              "size": 10,
              "solidity": 0.2
             }
            },
            "type": "histogram"
           }
          ],
          "histogram2d": [
           {
            "colorbar": {
             "outlinewidth": 0,
             "ticks": ""
            },
            "colorscale": [
             [
              0,
              "#0d0887"
             ],
             [
              0.1111111111111111,
              "#46039f"
             ],
             [
              0.2222222222222222,
              "#7201a8"
             ],
             [
              0.3333333333333333,
              "#9c179e"
             ],
             [
              0.4444444444444444,
              "#bd3786"
             ],
             [
              0.5555555555555556,
              "#d8576b"
             ],
             [
              0.6666666666666666,
              "#ed7953"
             ],
             [
              0.7777777777777778,
              "#fb9f3a"
             ],
             [
              0.8888888888888888,
              "#fdca26"
             ],
             [
              1,
              "#f0f921"
             ]
            ],
            "type": "histogram2d"
           }
          ],
          "histogram2dcontour": [
           {
            "colorbar": {
             "outlinewidth": 0,
             "ticks": ""
            },
            "colorscale": [
             [
              0,
              "#0d0887"
             ],
             [
              0.1111111111111111,
              "#46039f"
             ],
             [
              0.2222222222222222,
              "#7201a8"
             ],
             [
              0.3333333333333333,
              "#9c179e"
             ],
             [
              0.4444444444444444,
              "#bd3786"
             ],
             [
              0.5555555555555556,
              "#d8576b"
             ],
             [
              0.6666666666666666,
              "#ed7953"
             ],
             [
              0.7777777777777778,
              "#fb9f3a"
             ],
             [
              0.8888888888888888,
              "#fdca26"
             ],
             [
              1,
              "#f0f921"
             ]
            ],
            "type": "histogram2dcontour"
           }
          ],
          "mesh3d": [
           {
            "colorbar": {
             "outlinewidth": 0,
             "ticks": ""
            },
            "type": "mesh3d"
           }
          ],
          "parcoords": [
           {
            "line": {
             "colorbar": {
              "outlinewidth": 0,
              "ticks": ""
             }
            },
            "type": "parcoords"
           }
          ],
          "pie": [
           {
            "automargin": true,
            "type": "pie"
           }
          ],
          "scatter": [
           {
            "marker": {
             "colorbar": {
              "outlinewidth": 0,
              "ticks": ""
             }
            },
            "type": "scatter"
           }
          ],
          "scatter3d": [
           {
            "line": {
             "colorbar": {
              "outlinewidth": 0,
              "ticks": ""
             }
            },
            "marker": {
             "colorbar": {
              "outlinewidth": 0,
              "ticks": ""
             }
            },
            "type": "scatter3d"
           }
          ],
          "scattercarpet": [
           {
            "marker": {
             "colorbar": {
              "outlinewidth": 0,
              "ticks": ""
             }
            },
            "type": "scattercarpet"
           }
          ],
          "scattergeo": [
           {
            "marker": {
             "colorbar": {
              "outlinewidth": 0,
              "ticks": ""
             }
            },
            "type": "scattergeo"
           }
          ],
          "scattergl": [
           {
            "marker": {
             "colorbar": {
              "outlinewidth": 0,
              "ticks": ""
             }
            },
            "type": "scattergl"
           }
          ],
          "scattermapbox": [
           {
            "marker": {
             "colorbar": {
              "outlinewidth": 0,
              "ticks": ""
             }
            },
            "type": "scattermapbox"
           }
          ],
          "scatterpolar": [
           {
            "marker": {
             "colorbar": {
              "outlinewidth": 0,
              "ticks": ""
             }
            },
            "type": "scatterpolar"
           }
          ],
          "scatterpolargl": [
           {
            "marker": {
             "colorbar": {
              "outlinewidth": 0,
              "ticks": ""
             }
            },
            "type": "scatterpolargl"
           }
          ],
          "scatterternary": [
           {
            "marker": {
             "colorbar": {
              "outlinewidth": 0,
              "ticks": ""
             }
            },
            "type": "scatterternary"
           }
          ],
          "surface": [
           {
            "colorbar": {
             "outlinewidth": 0,
             "ticks": ""
            },
            "colorscale": [
             [
              0,
              "#0d0887"
             ],
             [
              0.1111111111111111,
              "#46039f"
             ],
             [
              0.2222222222222222,
              "#7201a8"
             ],
             [
              0.3333333333333333,
              "#9c179e"
             ],
             [
              0.4444444444444444,
              "#bd3786"
             ],
             [
              0.5555555555555556,
              "#d8576b"
             ],
             [
              0.6666666666666666,
              "#ed7953"
             ],
             [
              0.7777777777777778,
              "#fb9f3a"
             ],
             [
              0.8888888888888888,
              "#fdca26"
             ],
             [
              1,
              "#f0f921"
             ]
            ],
            "type": "surface"
           }
          ],
          "table": [
           {
            "cells": {
             "fill": {
              "color": "#EBF0F8"
             },
             "line": {
              "color": "white"
             }
            },
            "header": {
             "fill": {
              "color": "#C8D4E3"
             },
             "line": {
              "color": "white"
             }
            },
            "type": "table"
           }
          ]
         },
         "layout": {
          "annotationdefaults": {
           "arrowcolor": "#2a3f5f",
           "arrowhead": 0,
           "arrowwidth": 1
          },
          "autotypenumbers": "strict",
          "coloraxis": {
           "colorbar": {
            "outlinewidth": 0,
            "ticks": ""
           }
          },
          "colorscale": {
           "diverging": [
            [
             0,
             "#8e0152"
            ],
            [
             0.1,
             "#c51b7d"
            ],
            [
             0.2,
             "#de77ae"
            ],
            [
             0.3,
             "#f1b6da"
            ],
            [
             0.4,
             "#fde0ef"
            ],
            [
             0.5,
             "#f7f7f7"
            ],
            [
             0.6,
             "#e6f5d0"
            ],
            [
             0.7,
             "#b8e186"
            ],
            [
             0.8,
             "#7fbc41"
            ],
            [
             0.9,
             "#4d9221"
            ],
            [
             1,
             "#276419"
            ]
           ],
           "sequential": [
            [
             0,
             "#0d0887"
            ],
            [
             0.1111111111111111,
             "#46039f"
            ],
            [
             0.2222222222222222,
             "#7201a8"
            ],
            [
             0.3333333333333333,
             "#9c179e"
            ],
            [
             0.4444444444444444,
             "#bd3786"
            ],
            [
             0.5555555555555556,
             "#d8576b"
            ],
            [
             0.6666666666666666,
             "#ed7953"
            ],
            [
             0.7777777777777778,
             "#fb9f3a"
            ],
            [
             0.8888888888888888,
             "#fdca26"
            ],
            [
             1,
             "#f0f921"
            ]
           ],
           "sequentialminus": [
            [
             0,
             "#0d0887"
            ],
            [
             0.1111111111111111,
             "#46039f"
            ],
            [
             0.2222222222222222,
             "#7201a8"
            ],
            [
             0.3333333333333333,
             "#9c179e"
            ],
            [
             0.4444444444444444,
             "#bd3786"
            ],
            [
             0.5555555555555556,
             "#d8576b"
            ],
            [
             0.6666666666666666,
             "#ed7953"
            ],
            [
             0.7777777777777778,
             "#fb9f3a"
            ],
            [
             0.8888888888888888,
             "#fdca26"
            ],
            [
             1,
             "#f0f921"
            ]
           ]
          },
          "colorway": [
           "#636efa",
           "#EF553B",
           "#00cc96",
           "#ab63fa",
           "#FFA15A",
           "#19d3f3",
           "#FF6692",
           "#B6E880",
           "#FF97FF",
           "#FECB52"
          ],
          "font": {
           "color": "#2a3f5f"
          },
          "geo": {
           "bgcolor": "white",
           "lakecolor": "white",
           "landcolor": "#E5ECF6",
           "showlakes": true,
           "showland": true,
           "subunitcolor": "white"
          },
          "hoverlabel": {
           "align": "left"
          },
          "hovermode": "closest",
          "mapbox": {
           "style": "light"
          },
          "paper_bgcolor": "white",
          "plot_bgcolor": "#E5ECF6",
          "polar": {
           "angularaxis": {
            "gridcolor": "white",
            "linecolor": "white",
            "ticks": ""
           },
           "bgcolor": "#E5ECF6",
           "radialaxis": {
            "gridcolor": "white",
            "linecolor": "white",
            "ticks": ""
           }
          },
          "scene": {
           "xaxis": {
            "backgroundcolor": "#E5ECF6",
            "gridcolor": "white",
            "gridwidth": 2,
            "linecolor": "white",
            "showbackground": true,
            "ticks": "",
            "zerolinecolor": "white"
           },
           "yaxis": {
            "backgroundcolor": "#E5ECF6",
            "gridcolor": "white",
            "gridwidth": 2,
            "linecolor": "white",
            "showbackground": true,
            "ticks": "",
            "zerolinecolor": "white"
           },
           "zaxis": {
            "backgroundcolor": "#E5ECF6",
            "gridcolor": "white",
            "gridwidth": 2,
            "linecolor": "white",
            "showbackground": true,
            "ticks": "",
            "zerolinecolor": "white"
           }
          },
          "shapedefaults": {
           "line": {
            "color": "#2a3f5f"
           }
          },
          "ternary": {
           "aaxis": {
            "gridcolor": "white",
            "linecolor": "white",
            "ticks": ""
           },
           "baxis": {
            "gridcolor": "white",
            "linecolor": "white",
            "ticks": ""
           },
           "bgcolor": "#E5ECF6",
           "caxis": {
            "gridcolor": "white",
            "linecolor": "white",
            "ticks": ""
           }
          },
          "title": {
           "x": 0.05
          },
          "xaxis": {
           "automargin": true,
           "gridcolor": "white",
           "linecolor": "white",
           "ticks": "",
           "title": {
            "standoff": 15
           },
           "zerolinecolor": "white",
           "zerolinewidth": 2
          },
          "yaxis": {
           "automargin": true,
           "gridcolor": "white",
           "linecolor": "white",
           "ticks": "",
           "title": {
            "standoff": 15
           },
           "zerolinecolor": "white",
           "zerolinewidth": 2
          }
         }
        },
        "title": {
         "text": "Total People Fully Vaccinated from 2021-01-15"
        },
        "xaxis": {
         "anchor": "y",
         "domain": [
          0,
          1
         ],
         "title": {
          "text": "month"
         }
        },
        "yaxis": {
         "anchor": "x",
         "domain": [
          0,
          1
         ],
         "title": {
          "text": "people_fully_vaccinated"
         }
        }
       }
      },
      "text/html": [
       "<div>                            <div id=\"b2112615-7bd6-4874-adf8-ddfb20c92f7d\" class=\"plotly-graph-div\" style=\"height:525px; width:100%;\"></div>            <script type=\"text/javascript\">                require([\"plotly\"], function(Plotly) {                    window.PLOTLYENV=window.PLOTLYENV || {};                                    if (document.getElementById(\"b2112615-7bd6-4874-adf8-ddfb20c92f7d\")) {                    Plotly.newPlot(                        \"b2112615-7bd6-4874-adf8-ddfb20c92f7d\",                        [{\"alignmentgroup\":\"True\",\"customdata\":[[\"2021-01-15T00:00:00\"],[\"2021-01-16T00:00:00\"],[\"2021-01-17T00:00:00\"],[\"2021-01-18T00:00:00\"],[\"2021-01-19T00:00:00\"],[\"2021-01-20T00:00:00\"],[\"2021-01-21T00:00:00\"],[\"2021-01-22T00:00:00\"],[\"2021-01-23T00:00:00\"],[\"2021-01-24T00:00:00\"],[\"2021-01-25T00:00:00\"],[\"2021-01-26T00:00:00\"],[\"2021-01-27T00:00:00\"],[\"2021-01-28T00:00:00\"],[\"2021-01-29T00:00:00\"],[\"2021-01-30T00:00:00\"],[\"2021-01-31T00:00:00\"],[\"2021-02-01T00:00:00\"],[\"2021-02-02T00:00:00\"],[\"2021-02-03T00:00:00\"],[\"2021-02-04T00:00:00\"],[\"2021-02-05T00:00:00\"],[\"2021-02-06T00:00:00\"],[\"2021-02-07T00:00:00\"],[\"2021-02-08T00:00:00\"],[\"2021-02-09T00:00:00\"],[\"2021-02-10T00:00:00\"],[\"2021-02-11T00:00:00\"],[\"2021-02-12T00:00:00\"],[\"2021-02-13T00:00:00\"],[\"2021-02-15T00:00:00\"],[\"2021-02-16T00:00:00\"],[\"2021-02-17T00:00:00\"],[\"2021-02-18T00:00:00\"],[\"2021-02-19T00:00:00\"],[\"2021-02-20T00:00:00\"],[\"2021-02-21T00:00:00\"],[\"2021-02-22T00:00:00\"],[\"2021-02-23T00:00:00\"],[\"2021-02-24T00:00:00\"],[\"2021-02-25T00:00:00\"],[\"2021-02-26T00:00:00\"],[\"2021-02-27T00:00:00\"],[\"2021-02-28T00:00:00\"],[\"2021-03-01T00:00:00\"],[\"2021-03-02T00:00:00\"],[\"2021-03-03T00:00:00\"],[\"2021-03-04T00:00:00\"],[\"2021-03-05T00:00:00\"],[\"2021-03-06T00:00:00\"],[\"2021-03-07T00:00:00\"],[\"2021-03-08T00:00:00\"],[\"2021-03-09T00:00:00\"],[\"2021-03-10T00:00:00\"],[\"2021-03-11T00:00:00\"],[\"2021-03-12T00:00:00\"],[\"2021-03-13T00:00:00\"],[\"2021-03-14T00:00:00\"],[\"2021-03-15T00:00:00\"],[\"2021-03-16T00:00:00\"],[\"2021-03-17T00:00:00\"],[\"2021-03-18T00:00:00\"],[\"2021-03-19T00:00:00\"],[\"2021-03-20T00:00:00\"],[\"2021-03-21T00:00:00\"],[\"2021-03-22T00:00:00\"],[\"2021-03-23T00:00:00\"],[\"2021-03-24T00:00:00\"],[\"2021-03-25T00:00:00\"],[\"2021-03-26T00:00:00\"],[\"2021-03-27T00:00:00\"],[\"2021-03-28T00:00:00\"],[\"2021-03-29T00:00:00\"],[\"2021-03-30T00:00:00\"],[\"2021-03-31T00:00:00\"],[\"2021-04-01T00:00:00\"],[\"2021-04-02T00:00:00\"],[\"2021-04-03T00:00:00\"],[\"2021-04-04T00:00:00\"],[\"2021-04-05T00:00:00\"],[\"2021-04-06T00:00:00\"],[\"2021-04-07T00:00:00\"],[\"2021-04-08T00:00:00\"],[\"2021-04-09T00:00:00\"],[\"2021-04-10T00:00:00\"],[\"2021-04-11T00:00:00\"],[\"2021-04-12T00:00:00\"],[\"2021-04-13T00:00:00\"],[\"2021-04-14T00:00:00\"],[\"2021-04-15T00:00:00\"],[\"2021-04-16T00:00:00\"],[\"2021-04-17T00:00:00\"],[\"2021-04-18T00:00:00\"],[\"2021-04-19T00:00:00\"],[\"2021-04-21T00:00:00\"],[\"2021-04-22T00:00:00\"],[\"2021-04-25T00:00:00\"],[\"2021-04-26T00:00:00\"],[\"2021-04-27T00:00:00\"],[\"2021-04-28T00:00:00\"],[\"2021-04-29T00:00:00\"],[\"2021-04-30T00:00:00\"],[\"2021-05-01T00:00:00\"],[\"2021-05-02T00:00:00\"],[\"2021-05-03T00:00:00\"],[\"2021-05-04T00:00:00\"],[\"2021-05-05T00:00:00\"],[\"2021-05-06T00:00:00\"],[\"2021-05-07T00:00:00\"],[\"2021-05-08T00:00:00\"],[\"2021-05-09T00:00:00\"],[\"2021-05-10T00:00:00\"],[\"2021-05-11T00:00:00\"],[\"2021-05-12T00:00:00\"],[\"2021-05-13T00:00:00\"],[\"2021-05-14T00:00:00\"],[\"2021-05-15T00:00:00\"],[\"2021-05-16T00:00:00\"],[\"2021-05-17T00:00:00\"],[\"2021-05-18T00:00:00\"],[\"2021-05-19T00:00:00\"],[\"2021-05-20T00:00:00\"],[\"2021-05-22T00:00:00\"],[\"2021-05-23T00:00:00\"],[\"2021-05-24T00:00:00\"],[\"2021-05-25T00:00:00\"],[\"2021-05-26T00:00:00\"],[\"2021-05-27T00:00:00\"],[\"2021-05-28T00:00:00\"],[\"2021-05-29T00:00:00\"],[\"2021-05-30T00:00:00\"],[\"2021-05-31T00:00:00\"],[\"2021-06-01T00:00:00\"],[\"2021-06-02T00:00:00\"],[\"2021-06-03T00:00:00\"],[\"2021-06-04T00:00:00\"],[\"2021-06-05T00:00:00\"],[\"2021-06-06T00:00:00\"],[\"2021-06-07T00:00:00\"],[\"2021-06-08T00:00:00\"],[\"2021-06-09T00:00:00\"],[\"2021-06-10T00:00:00\"],[\"2021-06-11T00:00:00\"],[\"2021-06-12T00:00:00\"],[\"2021-06-13T00:00:00\"],[\"2021-06-14T00:00:00\"],[\"2021-06-15T00:00:00\"],[\"2021-06-16T00:00:00\"],[\"2021-06-17T00:00:00\"],[\"2021-06-18T00:00:00\"],[\"2021-06-19T00:00:00\"],[\"2021-06-20T00:00:00\"],[\"2021-06-21T00:00:00\"],[\"2021-06-22T00:00:00\"],[\"2021-06-23T00:00:00\"],[\"2021-06-24T00:00:00\"],[\"2021-06-25T00:00:00\"],[\"2021-06-26T00:00:00\"],[\"2021-06-27T00:00:00\"]],\"hovertemplate\":\"vaccine=Covaxin, Oxford/AstraZeneca<br>month=%{x}<br>people_fully_vaccinated=%{y}<br>date=%{customdata[0]}<extra></extra>\",\"legendgroup\":\"Covaxin, Oxford/AstraZeneca\",\"marker\":{\"color\":\"#636efa\",\"pattern\":{\"shape\":\"\"}},\"name\":\"Covaxin, Oxford/AstraZeneca\",\"offsetgroup\":\"Covaxin, Oxford/AstraZeneca\",\"orientation\":\"v\",\"showlegend\":true,\"textposition\":\"auto\",\"type\":\"bar\",\"x\":[1,1,1,1,1,1,1,1,1,1,1,1,1,1,1,1,1,2,2,2,2,2,2,2,2,2,2,2,2,2,2,2,2,2,2,2,2,2,2,2,2,2,2,2,3,3,3,3,3,3,3,3,3,3,3,3,3,3,3,3,3,3,3,3,3,3,3,3,3,3,3,3,3,3,3,4,4,4,4,4,4,4,4,4,4,4,4,4,4,4,4,4,4,4,4,4,4,4,4,4,4,4,5,5,5,5,5,5,5,5,5,5,5,5,5,5,5,5,5,5,5,5,5,5,5,5,5,5,5,5,5,5,6,6,6,6,6,6,6,6,6,6,6,6,6,6,6,6,6,6,6,6,6,6,6,6,6,6,6],\"xaxis\":\"x\",\"y\":[0,0,0,0,0,0,0,0,0,0,0,0,0,0,0,0,0,0,0,0,0,0,0,0,0,0,0,0,0,7668,98118,216339,342116,464932,756942,873940,960642,1115542,1321635,1481754,1860859,2204083,2453878,2456191,2597799,2713978,2876927,3208668,3501021,3754041,3761107,4065450,4363679,4650530,4729079,5142953,5430774,5455653,5867948,6202499,6542468,6913587,7221362,7478654,7491696,7863441,8109334,8299171,8502968,8683155,8828346,8870201,8901956,9065318,9334695,9640340,9972706,10240181,10426325,10833617,11140459,11435646,11877740,12311308,12709186,12941165,13490046,13877664,14314039,14874254,15529157,16191514,16480796,17469932,17972744,19170339,21390165,22638695,23615946,24515213,25456864,26621155,27297355,27507360,28385461,29122833,30200597,31544713,32895173,34127375,34450192,35906905,37305298,38240332,39274256,39784951,40412424,40486671,40726986,40921402,41076994,41262233,41622881,41686052,41864206,41995400,42235974,42419560,42561240,42930249,43067110,43258810,43550558,43811342,44047467,44434820,44599042,44765341,44989073,45317035,45634125,45955907,46287589,46532774,46857581,47189318,47474395,47882950,48417061,48812947,49415053,49745316,50569129,51269269,51649818,52401833,53301621,54588202,55114099],\"yaxis\":\"y\"},{\"alignmentgroup\":\"True\",\"customdata\":[[\"2021-06-28T00:00:00\"],[\"2021-06-29T00:00:00\"],[\"2021-06-30T00:00:00\"],[\"2021-07-01T00:00:00\"],[\"2021-07-02T00:00:00\"],[\"2021-07-03T00:00:00\"],[\"2021-07-04T00:00:00\"],[\"2021-07-05T00:00:00\"],[\"2021-07-06T00:00:00\"],[\"2021-07-07T00:00:00\"],[\"2021-07-08T00:00:00\"],[\"2021-07-10T00:00:00\"],[\"2021-07-11T00:00:00\"],[\"2021-07-12T00:00:00\"],[\"2021-07-13T00:00:00\"],[\"2021-07-14T00:00:00\"],[\"2021-07-15T00:00:00\"],[\"2021-07-16T00:00:00\"],[\"2021-07-17T00:00:00\"],[\"2021-07-19T00:00:00\"]],\"hovertemplate\":\"vaccine=Covaxin, Oxford/AstraZeneca, Sputnik V<br>month=%{x}<br>people_fully_vaccinated=%{y}<br>date=%{customdata[0]}<extra></extra>\",\"legendgroup\":\"Covaxin, Oxford/AstraZeneca, Sputnik V\",\"marker\":{\"color\":\"#EF553B\",\"pattern\":{\"shape\":\"\"}},\"name\":\"Covaxin, Oxford/AstraZeneca, Sputnik V\",\"offsetgroup\":\"Covaxin, Oxford/AstraZeneca, Sputnik V\",\"orientation\":\"v\",\"showlegend\":true,\"textposition\":\"auto\",\"type\":\"bar\",\"x\":[6,6,6,7,7,7,7,7,7,7,7,7,7,7,7,7,7,7,7,7],\"xaxis\":\"x\",\"y\":[55877810,57245912,57748116,59048568,59332783,62069225,62923284,64477739,65525089,66886006,70312309,72861088,73333649,74854865,76310396,77810989,79227578,81030653,83037953,85453618],\"yaxis\":\"y\"}],                        {\"barmode\":\"relative\",\"legend\":{\"title\":{\"text\":\"vaccine\"},\"tracegroupgap\":0},\"template\":{\"data\":{\"bar\":[{\"error_x\":{\"color\":\"#2a3f5f\"},\"error_y\":{\"color\":\"#2a3f5f\"},\"marker\":{\"line\":{\"color\":\"#E5ECF6\",\"width\":0.5},\"pattern\":{\"fillmode\":\"overlay\",\"size\":10,\"solidity\":0.2}},\"type\":\"bar\"}],\"barpolar\":[{\"marker\":{\"line\":{\"color\":\"#E5ECF6\",\"width\":0.5},\"pattern\":{\"fillmode\":\"overlay\",\"size\":10,\"solidity\":0.2}},\"type\":\"barpolar\"}],\"carpet\":[{\"aaxis\":{\"endlinecolor\":\"#2a3f5f\",\"gridcolor\":\"white\",\"linecolor\":\"white\",\"minorgridcolor\":\"white\",\"startlinecolor\":\"#2a3f5f\"},\"baxis\":{\"endlinecolor\":\"#2a3f5f\",\"gridcolor\":\"white\",\"linecolor\":\"white\",\"minorgridcolor\":\"white\",\"startlinecolor\":\"#2a3f5f\"},\"type\":\"carpet\"}],\"choropleth\":[{\"colorbar\":{\"outlinewidth\":0,\"ticks\":\"\"},\"type\":\"choropleth\"}],\"contour\":[{\"colorbar\":{\"outlinewidth\":0,\"ticks\":\"\"},\"colorscale\":[[0.0,\"#0d0887\"],[0.1111111111111111,\"#46039f\"],[0.2222222222222222,\"#7201a8\"],[0.3333333333333333,\"#9c179e\"],[0.4444444444444444,\"#bd3786\"],[0.5555555555555556,\"#d8576b\"],[0.6666666666666666,\"#ed7953\"],[0.7777777777777778,\"#fb9f3a\"],[0.8888888888888888,\"#fdca26\"],[1.0,\"#f0f921\"]],\"type\":\"contour\"}],\"contourcarpet\":[{\"colorbar\":{\"outlinewidth\":0,\"ticks\":\"\"},\"type\":\"contourcarpet\"}],\"heatmap\":[{\"colorbar\":{\"outlinewidth\":0,\"ticks\":\"\"},\"colorscale\":[[0.0,\"#0d0887\"],[0.1111111111111111,\"#46039f\"],[0.2222222222222222,\"#7201a8\"],[0.3333333333333333,\"#9c179e\"],[0.4444444444444444,\"#bd3786\"],[0.5555555555555556,\"#d8576b\"],[0.6666666666666666,\"#ed7953\"],[0.7777777777777778,\"#fb9f3a\"],[0.8888888888888888,\"#fdca26\"],[1.0,\"#f0f921\"]],\"type\":\"heatmap\"}],\"heatmapgl\":[{\"colorbar\":{\"outlinewidth\":0,\"ticks\":\"\"},\"colorscale\":[[0.0,\"#0d0887\"],[0.1111111111111111,\"#46039f\"],[0.2222222222222222,\"#7201a8\"],[0.3333333333333333,\"#9c179e\"],[0.4444444444444444,\"#bd3786\"],[0.5555555555555556,\"#d8576b\"],[0.6666666666666666,\"#ed7953\"],[0.7777777777777778,\"#fb9f3a\"],[0.8888888888888888,\"#fdca26\"],[1.0,\"#f0f921\"]],\"type\":\"heatmapgl\"}],\"histogram\":[{\"marker\":{\"pattern\":{\"fillmode\":\"overlay\",\"size\":10,\"solidity\":0.2}},\"type\":\"histogram\"}],\"histogram2d\":[{\"colorbar\":{\"outlinewidth\":0,\"ticks\":\"\"},\"colorscale\":[[0.0,\"#0d0887\"],[0.1111111111111111,\"#46039f\"],[0.2222222222222222,\"#7201a8\"],[0.3333333333333333,\"#9c179e\"],[0.4444444444444444,\"#bd3786\"],[0.5555555555555556,\"#d8576b\"],[0.6666666666666666,\"#ed7953\"],[0.7777777777777778,\"#fb9f3a\"],[0.8888888888888888,\"#fdca26\"],[1.0,\"#f0f921\"]],\"type\":\"histogram2d\"}],\"histogram2dcontour\":[{\"colorbar\":{\"outlinewidth\":0,\"ticks\":\"\"},\"colorscale\":[[0.0,\"#0d0887\"],[0.1111111111111111,\"#46039f\"],[0.2222222222222222,\"#7201a8\"],[0.3333333333333333,\"#9c179e\"],[0.4444444444444444,\"#bd3786\"],[0.5555555555555556,\"#d8576b\"],[0.6666666666666666,\"#ed7953\"],[0.7777777777777778,\"#fb9f3a\"],[0.8888888888888888,\"#fdca26\"],[1.0,\"#f0f921\"]],\"type\":\"histogram2dcontour\"}],\"mesh3d\":[{\"colorbar\":{\"outlinewidth\":0,\"ticks\":\"\"},\"type\":\"mesh3d\"}],\"parcoords\":[{\"line\":{\"colorbar\":{\"outlinewidth\":0,\"ticks\":\"\"}},\"type\":\"parcoords\"}],\"pie\":[{\"automargin\":true,\"type\":\"pie\"}],\"scatter\":[{\"marker\":{\"colorbar\":{\"outlinewidth\":0,\"ticks\":\"\"}},\"type\":\"scatter\"}],\"scatter3d\":[{\"line\":{\"colorbar\":{\"outlinewidth\":0,\"ticks\":\"\"}},\"marker\":{\"colorbar\":{\"outlinewidth\":0,\"ticks\":\"\"}},\"type\":\"scatter3d\"}],\"scattercarpet\":[{\"marker\":{\"colorbar\":{\"outlinewidth\":0,\"ticks\":\"\"}},\"type\":\"scattercarpet\"}],\"scattergeo\":[{\"marker\":{\"colorbar\":{\"outlinewidth\":0,\"ticks\":\"\"}},\"type\":\"scattergeo\"}],\"scattergl\":[{\"marker\":{\"colorbar\":{\"outlinewidth\":0,\"ticks\":\"\"}},\"type\":\"scattergl\"}],\"scattermapbox\":[{\"marker\":{\"colorbar\":{\"outlinewidth\":0,\"ticks\":\"\"}},\"type\":\"scattermapbox\"}],\"scatterpolar\":[{\"marker\":{\"colorbar\":{\"outlinewidth\":0,\"ticks\":\"\"}},\"type\":\"scatterpolar\"}],\"scatterpolargl\":[{\"marker\":{\"colorbar\":{\"outlinewidth\":0,\"ticks\":\"\"}},\"type\":\"scatterpolargl\"}],\"scatterternary\":[{\"marker\":{\"colorbar\":{\"outlinewidth\":0,\"ticks\":\"\"}},\"type\":\"scatterternary\"}],\"surface\":[{\"colorbar\":{\"outlinewidth\":0,\"ticks\":\"\"},\"colorscale\":[[0.0,\"#0d0887\"],[0.1111111111111111,\"#46039f\"],[0.2222222222222222,\"#7201a8\"],[0.3333333333333333,\"#9c179e\"],[0.4444444444444444,\"#bd3786\"],[0.5555555555555556,\"#d8576b\"],[0.6666666666666666,\"#ed7953\"],[0.7777777777777778,\"#fb9f3a\"],[0.8888888888888888,\"#fdca26\"],[1.0,\"#f0f921\"]],\"type\":\"surface\"}],\"table\":[{\"cells\":{\"fill\":{\"color\":\"#EBF0F8\"},\"line\":{\"color\":\"white\"}},\"header\":{\"fill\":{\"color\":\"#C8D4E3\"},\"line\":{\"color\":\"white\"}},\"type\":\"table\"}]},\"layout\":{\"annotationdefaults\":{\"arrowcolor\":\"#2a3f5f\",\"arrowhead\":0,\"arrowwidth\":1},\"autotypenumbers\":\"strict\",\"coloraxis\":{\"colorbar\":{\"outlinewidth\":0,\"ticks\":\"\"}},\"colorscale\":{\"diverging\":[[0,\"#8e0152\"],[0.1,\"#c51b7d\"],[0.2,\"#de77ae\"],[0.3,\"#f1b6da\"],[0.4,\"#fde0ef\"],[0.5,\"#f7f7f7\"],[0.6,\"#e6f5d0\"],[0.7,\"#b8e186\"],[0.8,\"#7fbc41\"],[0.9,\"#4d9221\"],[1,\"#276419\"]],\"sequential\":[[0.0,\"#0d0887\"],[0.1111111111111111,\"#46039f\"],[0.2222222222222222,\"#7201a8\"],[0.3333333333333333,\"#9c179e\"],[0.4444444444444444,\"#bd3786\"],[0.5555555555555556,\"#d8576b\"],[0.6666666666666666,\"#ed7953\"],[0.7777777777777778,\"#fb9f3a\"],[0.8888888888888888,\"#fdca26\"],[1.0,\"#f0f921\"]],\"sequentialminus\":[[0.0,\"#0d0887\"],[0.1111111111111111,\"#46039f\"],[0.2222222222222222,\"#7201a8\"],[0.3333333333333333,\"#9c179e\"],[0.4444444444444444,\"#bd3786\"],[0.5555555555555556,\"#d8576b\"],[0.6666666666666666,\"#ed7953\"],[0.7777777777777778,\"#fb9f3a\"],[0.8888888888888888,\"#fdca26\"],[1.0,\"#f0f921\"]]},\"colorway\":[\"#636efa\",\"#EF553B\",\"#00cc96\",\"#ab63fa\",\"#FFA15A\",\"#19d3f3\",\"#FF6692\",\"#B6E880\",\"#FF97FF\",\"#FECB52\"],\"font\":{\"color\":\"#2a3f5f\"},\"geo\":{\"bgcolor\":\"white\",\"lakecolor\":\"white\",\"landcolor\":\"#E5ECF6\",\"showlakes\":true,\"showland\":true,\"subunitcolor\":\"white\"},\"hoverlabel\":{\"align\":\"left\"},\"hovermode\":\"closest\",\"mapbox\":{\"style\":\"light\"},\"paper_bgcolor\":\"white\",\"plot_bgcolor\":\"#E5ECF6\",\"polar\":{\"angularaxis\":{\"gridcolor\":\"white\",\"linecolor\":\"white\",\"ticks\":\"\"},\"bgcolor\":\"#E5ECF6\",\"radialaxis\":{\"gridcolor\":\"white\",\"linecolor\":\"white\",\"ticks\":\"\"}},\"scene\":{\"xaxis\":{\"backgroundcolor\":\"#E5ECF6\",\"gridcolor\":\"white\",\"gridwidth\":2,\"linecolor\":\"white\",\"showbackground\":true,\"ticks\":\"\",\"zerolinecolor\":\"white\"},\"yaxis\":{\"backgroundcolor\":\"#E5ECF6\",\"gridcolor\":\"white\",\"gridwidth\":2,\"linecolor\":\"white\",\"showbackground\":true,\"ticks\":\"\",\"zerolinecolor\":\"white\"},\"zaxis\":{\"backgroundcolor\":\"#E5ECF6\",\"gridcolor\":\"white\",\"gridwidth\":2,\"linecolor\":\"white\",\"showbackground\":true,\"ticks\":\"\",\"zerolinecolor\":\"white\"}},\"shapedefaults\":{\"line\":{\"color\":\"#2a3f5f\"}},\"ternary\":{\"aaxis\":{\"gridcolor\":\"white\",\"linecolor\":\"white\",\"ticks\":\"\"},\"baxis\":{\"gridcolor\":\"white\",\"linecolor\":\"white\",\"ticks\":\"\"},\"bgcolor\":\"#E5ECF6\",\"caxis\":{\"gridcolor\":\"white\",\"linecolor\":\"white\",\"ticks\":\"\"}},\"title\":{\"x\":0.05},\"xaxis\":{\"automargin\":true,\"gridcolor\":\"white\",\"linecolor\":\"white\",\"ticks\":\"\",\"title\":{\"standoff\":15},\"zerolinecolor\":\"white\",\"zerolinewidth\":2},\"yaxis\":{\"automargin\":true,\"gridcolor\":\"white\",\"linecolor\":\"white\",\"ticks\":\"\",\"title\":{\"standoff\":15},\"zerolinecolor\":\"white\",\"zerolinewidth\":2}}},\"title\":{\"text\":\"Total People Fully Vaccinated from 2021-01-15\"},\"xaxis\":{\"anchor\":\"y\",\"domain\":[0.0,1.0],\"title\":{\"text\":\"month\"}},\"yaxis\":{\"anchor\":\"x\",\"domain\":[0.0,1.0],\"title\":{\"text\":\"people_fully_vaccinated\"}}},                        {\"responsive\": true}                    ).then(function(){\n",
       "                            \n",
       "var gd = document.getElementById('b2112615-7bd6-4874-adf8-ddfb20c92f7d');\n",
       "var x = new MutationObserver(function (mutations, observer) {{\n",
       "        var display = window.getComputedStyle(gd).display;\n",
       "        if (!display || display === 'none') {{\n",
       "            console.log([gd, 'removed!']);\n",
       "            Plotly.purge(gd);\n",
       "            observer.disconnect();\n",
       "        }}\n",
       "}});\n",
       "\n",
       "// Listen for the removal of the full notebook cells\n",
       "var notebookContainer = gd.closest('#notebook-container');\n",
       "if (notebookContainer) {{\n",
       "    x.observe(notebookContainer, {childList: true});\n",
       "}}\n",
       "\n",
       "// Listen for the clearing of the current output cell\n",
       "var outputEl = gd.closest('.output');\n",
       "if (outputEl) {{\n",
       "    x.observe(outputEl, {childList: true});\n",
       "}}\n",
       "\n",
       "                        })                };                });            </script>        </div>"
      ]
     },
     "metadata": {},
     "output_type": "display_data"
    }
   ],
   "source": [
    "fig = px.bar(vaccines_india_df, \n",
    "             x=vaccines_india_df.month, \n",
    "             y=vaccines_india_df.people_fully_vaccinated, \n",
    "             title=\"Total People Fully Vaccinated from 2021-01-15\", \n",
    "             color=\"vaccine\", \n",
    "             hover_data=['date'])\n",
    "# labels=dict(x='Monthly - 2021', y='Pople Fully Vaccinated', color='Vaccines Legend')\n",
    "fig.show()"
   ]
  },
  {
   "cell_type": "code",
   "execution_count": 21,
   "id": "82d978bd",
   "metadata": {},
   "outputs": [],
   "source": [
    "\"\"\"\n",
    "For comparing all three Total Vaccines VS Once Vaccinated VS Fully Vaccinated\n",
    "in one Graph:\n",
    "\"\"\"\n",
    "\n",
    "import plotly.graph_objects as go"
   ]
  },
  {
   "cell_type": "code",
   "execution_count": 22,
   "id": "b5ec6bde",
   "metadata": {},
   "outputs": [
    {
     "data": {
      "application/vnd.plotly.v1+json": {
       "config": {
        "plotlyServerURL": "https://plot.ly"
       },
       "data": [
        {
         "hovertext": [
          "2021-01-15 00:00:00",
          "2021-01-16 00:00:00",
          "2021-01-17 00:00:00",
          "2021-01-18 00:00:00",
          "2021-01-19 00:00:00",
          "2021-01-20 00:00:00",
          "2021-01-21 00:00:00",
          "2021-01-22 00:00:00",
          "2021-01-23 00:00:00",
          "2021-01-24 00:00:00",
          "2021-01-25 00:00:00",
          "2021-01-26 00:00:00",
          "2021-01-27 00:00:00",
          "2021-01-28 00:00:00",
          "2021-01-29 00:00:00",
          "2021-01-30 00:00:00",
          "2021-01-31 00:00:00",
          "2021-02-01 00:00:00",
          "2021-02-02 00:00:00",
          "2021-02-03 00:00:00",
          "2021-02-04 00:00:00",
          "2021-02-05 00:00:00",
          "2021-02-06 00:00:00",
          "2021-02-07 00:00:00",
          "2021-02-08 00:00:00",
          "2021-02-09 00:00:00",
          "2021-02-10 00:00:00",
          "2021-02-11 00:00:00",
          "2021-02-12 00:00:00",
          "2021-02-13 00:00:00",
          "2021-02-15 00:00:00",
          "2021-02-16 00:00:00",
          "2021-02-17 00:00:00",
          "2021-02-18 00:00:00",
          "2021-02-19 00:00:00",
          "2021-02-20 00:00:00",
          "2021-02-21 00:00:00",
          "2021-02-22 00:00:00",
          "2021-02-23 00:00:00",
          "2021-02-24 00:00:00",
          "2021-02-25 00:00:00",
          "2021-02-26 00:00:00",
          "2021-02-27 00:00:00",
          "2021-02-28 00:00:00",
          "2021-03-01 00:00:00",
          "2021-03-02 00:00:00",
          "2021-03-03 00:00:00",
          "2021-03-04 00:00:00",
          "2021-03-05 00:00:00",
          "2021-03-06 00:00:00",
          "2021-03-07 00:00:00",
          "2021-03-08 00:00:00",
          "2021-03-09 00:00:00",
          "2021-03-10 00:00:00",
          "2021-03-11 00:00:00",
          "2021-03-12 00:00:00",
          "2021-03-13 00:00:00",
          "2021-03-14 00:00:00",
          "2021-03-15 00:00:00",
          "2021-03-16 00:00:00",
          "2021-03-17 00:00:00",
          "2021-03-18 00:00:00",
          "2021-03-19 00:00:00",
          "2021-03-20 00:00:00",
          "2021-03-21 00:00:00",
          "2021-03-22 00:00:00",
          "2021-03-23 00:00:00",
          "2021-03-24 00:00:00",
          "2021-03-25 00:00:00",
          "2021-03-26 00:00:00",
          "2021-03-27 00:00:00",
          "2021-03-28 00:00:00",
          "2021-03-29 00:00:00",
          "2021-03-30 00:00:00",
          "2021-03-31 00:00:00",
          "2021-04-01 00:00:00",
          "2021-04-02 00:00:00",
          "2021-04-03 00:00:00",
          "2021-04-04 00:00:00",
          "2021-04-05 00:00:00",
          "2021-04-06 00:00:00",
          "2021-04-07 00:00:00",
          "2021-04-08 00:00:00",
          "2021-04-09 00:00:00",
          "2021-04-10 00:00:00",
          "2021-04-11 00:00:00",
          "2021-04-12 00:00:00",
          "2021-04-13 00:00:00",
          "2021-04-14 00:00:00",
          "2021-04-15 00:00:00",
          "2021-04-16 00:00:00",
          "2021-04-17 00:00:00",
          "2021-04-18 00:00:00",
          "2021-04-19 00:00:00",
          "2021-04-21 00:00:00",
          "2021-04-22 00:00:00",
          "2021-04-25 00:00:00",
          "2021-04-26 00:00:00",
          "2021-04-27 00:00:00",
          "2021-04-28 00:00:00",
          "2021-04-29 00:00:00",
          "2021-04-30 00:00:00",
          "2021-05-01 00:00:00",
          "2021-05-02 00:00:00",
          "2021-05-03 00:00:00",
          "2021-05-04 00:00:00",
          "2021-05-05 00:00:00",
          "2021-05-06 00:00:00",
          "2021-05-07 00:00:00",
          "2021-05-08 00:00:00",
          "2021-05-09 00:00:00",
          "2021-05-10 00:00:00",
          "2021-05-11 00:00:00",
          "2021-05-12 00:00:00",
          "2021-05-13 00:00:00",
          "2021-05-14 00:00:00",
          "2021-05-15 00:00:00",
          "2021-05-16 00:00:00",
          "2021-05-17 00:00:00",
          "2021-05-18 00:00:00",
          "2021-05-19 00:00:00",
          "2021-05-20 00:00:00",
          "2021-05-22 00:00:00",
          "2021-05-23 00:00:00",
          "2021-05-24 00:00:00",
          "2021-05-25 00:00:00",
          "2021-05-26 00:00:00",
          "2021-05-27 00:00:00",
          "2021-05-28 00:00:00",
          "2021-05-29 00:00:00",
          "2021-05-30 00:00:00",
          "2021-05-31 00:00:00",
          "2021-06-01 00:00:00",
          "2021-06-02 00:00:00",
          "2021-06-03 00:00:00",
          "2021-06-04 00:00:00",
          "2021-06-05 00:00:00",
          "2021-06-06 00:00:00",
          "2021-06-07 00:00:00",
          "2021-06-08 00:00:00",
          "2021-06-09 00:00:00",
          "2021-06-10 00:00:00",
          "2021-06-11 00:00:00",
          "2021-06-12 00:00:00",
          "2021-06-13 00:00:00",
          "2021-06-14 00:00:00",
          "2021-06-15 00:00:00",
          "2021-06-16 00:00:00",
          "2021-06-17 00:00:00",
          "2021-06-18 00:00:00",
          "2021-06-19 00:00:00",
          "2021-06-20 00:00:00",
          "2021-06-21 00:00:00",
          "2021-06-22 00:00:00",
          "2021-06-23 00:00:00",
          "2021-06-24 00:00:00",
          "2021-06-25 00:00:00",
          "2021-06-26 00:00:00",
          "2021-06-27 00:00:00",
          "2021-06-28 00:00:00",
          "2021-06-29 00:00:00",
          "2021-06-30 00:00:00",
          "2021-07-01 00:00:00",
          "2021-07-02 00:00:00",
          "2021-07-03 00:00:00",
          "2021-07-04 00:00:00",
          "2021-07-05 00:00:00",
          "2021-07-06 00:00:00",
          "2021-07-07 00:00:00",
          "2021-07-08 00:00:00",
          "2021-07-10 00:00:00",
          "2021-07-11 00:00:00",
          "2021-07-12 00:00:00",
          "2021-07-13 00:00:00",
          "2021-07-14 00:00:00",
          "2021-07-15 00:00:00",
          "2021-07-16 00:00:00",
          "2021-07-17 00:00:00",
          "2021-07-19 00:00:00"
         ],
         "name": "Total Vaccines Administered",
         "type": "bar",
         "x": [
          1,
          1,
          1,
          1,
          1,
          1,
          1,
          1,
          1,
          1,
          1,
          1,
          1,
          1,
          1,
          1,
          1,
          2,
          2,
          2,
          2,
          2,
          2,
          2,
          2,
          2,
          2,
          2,
          2,
          2,
          2,
          2,
          2,
          2,
          2,
          2,
          2,
          2,
          2,
          2,
          2,
          2,
          2,
          2,
          3,
          3,
          3,
          3,
          3,
          3,
          3,
          3,
          3,
          3,
          3,
          3,
          3,
          3,
          3,
          3,
          3,
          3,
          3,
          3,
          3,
          3,
          3,
          3,
          3,
          3,
          3,
          3,
          3,
          3,
          3,
          4,
          4,
          4,
          4,
          4,
          4,
          4,
          4,
          4,
          4,
          4,
          4,
          4,
          4,
          4,
          4,
          4,
          4,
          4,
          4,
          4,
          4,
          4,
          4,
          4,
          4,
          4,
          5,
          5,
          5,
          5,
          5,
          5,
          5,
          5,
          5,
          5,
          5,
          5,
          5,
          5,
          5,
          5,
          5,
          5,
          5,
          5,
          5,
          5,
          5,
          5,
          5,
          5,
          5,
          5,
          5,
          5,
          6,
          6,
          6,
          6,
          6,
          6,
          6,
          6,
          6,
          6,
          6,
          6,
          6,
          6,
          6,
          6,
          6,
          6,
          6,
          6,
          6,
          6,
          6,
          6,
          6,
          6,
          6,
          6,
          6,
          6,
          7,
          7,
          7,
          7,
          7,
          7,
          7,
          7,
          7,
          7,
          7,
          7,
          7,
          7,
          7,
          7,
          7
         ],
         "y": [
          0,
          191181,
          224301,
          454049,
          674835,
          806484,
          1043534,
          1390592,
          1582201,
          1615504,
          2023809,
          2029480,
          2355979,
          2928053,
          3500027,
          3744334,
          3758843,
          3950156,
          4138918,
          4449552,
          4959445,
          5416849,
          5775322,
          5812362,
          6259008,
          6611561,
          7017114,
          7505010,
          7967647,
          8052454,
          8516771,
          8857341,
          9186757,
          9846523,
          10449942,
          10838323,
          11085173,
          11424094,
          11907392,
          12366633,
          13067047,
          13756940,
          14242547,
          14301266,
          14854136,
          15620749,
          16616048,
          18005503,
          19497704,
          20922344,
          20989010,
          23008733,
          24367906,
          25685011,
          26164920,
          28218457,
          29738409,
          29908038,
          32947432,
          35064536,
          37143255,
          39339817,
          42063392,
          44603841,
          45065998,
          48494594,
          50841286,
          53145709,
          55504440,
          58109773,
          60269782,
          60530435,
          61113354,
          63054353,
          65117896,
          68789138,
          73054295,
          75979651,
          79105163,
          83110926,
          87077474,
          90198673,
          94334262,
          98075160,
          101595147,
          104528565,
          108533085,
          111179578,
          114493238,
          117223509,
          119937641,
          122622590,
          123852566,
          127129113,
          129646105,
          132754608,
          139185173,
          142524947,
          144879233,
          147053392,
          149268772,
          151998107,
          153626325,
          154211511,
          156082136,
          157750752,
          159931238,
          162603603,
          165190000,
          167493857,
          168304868,
          171098918,
          173862643,
          176045577,
          178361846,
          179646413,
          181544536,
          182251006,
          183817204,
          185191602,
          186410600,
          187886885,
          190842497,
          191719240,
          194165711,
          195506779,
          198425615,
          201203166,
          203166802,
          207088953,
          208665123,
          210449895,
          213135738,
          215678166,
          218344384,
          223607768,
          225571144,
          228041045,
          230490652,
          233680929,
          236856505,
          240281903,
          243703242,
          246188067,
          249430416,
          252760364,
          255305366,
          258325900,
          262970250,
          266355940,
          270908312,
          274286599,
          283313942,
          289855456,
          293370338,
          300054027,
          306661528,
          314841384,
          318030412,
          321423578,
          327423913,
          329158139,
          334741649,
          335671794,
          344300590,
          347378550,
          351229497,
          354307646,
          358070763,
          368991222,
          376032586,
          377352501,
          381467646,
          387697935,
          391340491,
          395343767,
          399695879,
          404931715,
          411846401
         ]
        },
        {
         "hovertext": [
          "2021-01-15 00:00:00",
          "2021-01-16 00:00:00",
          "2021-01-17 00:00:00",
          "2021-01-18 00:00:00",
          "2021-01-19 00:00:00",
          "2021-01-20 00:00:00",
          "2021-01-21 00:00:00",
          "2021-01-22 00:00:00",
          "2021-01-23 00:00:00",
          "2021-01-24 00:00:00",
          "2021-01-25 00:00:00",
          "2021-01-26 00:00:00",
          "2021-01-27 00:00:00",
          "2021-01-28 00:00:00",
          "2021-01-29 00:00:00",
          "2021-01-30 00:00:00",
          "2021-01-31 00:00:00",
          "2021-02-01 00:00:00",
          "2021-02-02 00:00:00",
          "2021-02-03 00:00:00",
          "2021-02-04 00:00:00",
          "2021-02-05 00:00:00",
          "2021-02-06 00:00:00",
          "2021-02-07 00:00:00",
          "2021-02-08 00:00:00",
          "2021-02-09 00:00:00",
          "2021-02-10 00:00:00",
          "2021-02-11 00:00:00",
          "2021-02-12 00:00:00",
          "2021-02-13 00:00:00",
          "2021-02-15 00:00:00",
          "2021-02-16 00:00:00",
          "2021-02-17 00:00:00",
          "2021-02-18 00:00:00",
          "2021-02-19 00:00:00",
          "2021-02-20 00:00:00",
          "2021-02-21 00:00:00",
          "2021-02-22 00:00:00",
          "2021-02-23 00:00:00",
          "2021-02-24 00:00:00",
          "2021-02-25 00:00:00",
          "2021-02-26 00:00:00",
          "2021-02-27 00:00:00",
          "2021-02-28 00:00:00",
          "2021-03-01 00:00:00",
          "2021-03-02 00:00:00",
          "2021-03-03 00:00:00",
          "2021-03-04 00:00:00",
          "2021-03-05 00:00:00",
          "2021-03-06 00:00:00",
          "2021-03-07 00:00:00",
          "2021-03-08 00:00:00",
          "2021-03-09 00:00:00",
          "2021-03-10 00:00:00",
          "2021-03-11 00:00:00",
          "2021-03-12 00:00:00",
          "2021-03-13 00:00:00",
          "2021-03-14 00:00:00",
          "2021-03-15 00:00:00",
          "2021-03-16 00:00:00",
          "2021-03-17 00:00:00",
          "2021-03-18 00:00:00",
          "2021-03-19 00:00:00",
          "2021-03-20 00:00:00",
          "2021-03-21 00:00:00",
          "2021-03-22 00:00:00",
          "2021-03-23 00:00:00",
          "2021-03-24 00:00:00",
          "2021-03-25 00:00:00",
          "2021-03-26 00:00:00",
          "2021-03-27 00:00:00",
          "2021-03-28 00:00:00",
          "2021-03-29 00:00:00",
          "2021-03-30 00:00:00",
          "2021-03-31 00:00:00",
          "2021-04-01 00:00:00",
          "2021-04-02 00:00:00",
          "2021-04-03 00:00:00",
          "2021-04-04 00:00:00",
          "2021-04-05 00:00:00",
          "2021-04-06 00:00:00",
          "2021-04-07 00:00:00",
          "2021-04-08 00:00:00",
          "2021-04-09 00:00:00",
          "2021-04-10 00:00:00",
          "2021-04-11 00:00:00",
          "2021-04-12 00:00:00",
          "2021-04-13 00:00:00",
          "2021-04-14 00:00:00",
          "2021-04-15 00:00:00",
          "2021-04-16 00:00:00",
          "2021-04-17 00:00:00",
          "2021-04-18 00:00:00",
          "2021-04-19 00:00:00",
          "2021-04-21 00:00:00",
          "2021-04-22 00:00:00",
          "2021-04-25 00:00:00",
          "2021-04-26 00:00:00",
          "2021-04-27 00:00:00",
          "2021-04-28 00:00:00",
          "2021-04-29 00:00:00",
          "2021-04-30 00:00:00",
          "2021-05-01 00:00:00",
          "2021-05-02 00:00:00",
          "2021-05-03 00:00:00",
          "2021-05-04 00:00:00",
          "2021-05-05 00:00:00",
          "2021-05-06 00:00:00",
          "2021-05-07 00:00:00",
          "2021-05-08 00:00:00",
          "2021-05-09 00:00:00",
          "2021-05-10 00:00:00",
          "2021-05-11 00:00:00",
          "2021-05-12 00:00:00",
          "2021-05-13 00:00:00",
          "2021-05-14 00:00:00",
          "2021-05-15 00:00:00",
          "2021-05-16 00:00:00",
          "2021-05-17 00:00:00",
          "2021-05-18 00:00:00",
          "2021-05-19 00:00:00",
          "2021-05-20 00:00:00",
          "2021-05-22 00:00:00",
          "2021-05-23 00:00:00",
          "2021-05-24 00:00:00",
          "2021-05-25 00:00:00",
          "2021-05-26 00:00:00",
          "2021-05-27 00:00:00",
          "2021-05-28 00:00:00",
          "2021-05-29 00:00:00",
          "2021-05-30 00:00:00",
          "2021-05-31 00:00:00",
          "2021-06-01 00:00:00",
          "2021-06-02 00:00:00",
          "2021-06-03 00:00:00",
          "2021-06-04 00:00:00",
          "2021-06-05 00:00:00",
          "2021-06-06 00:00:00",
          "2021-06-07 00:00:00",
          "2021-06-08 00:00:00",
          "2021-06-09 00:00:00",
          "2021-06-10 00:00:00",
          "2021-06-11 00:00:00",
          "2021-06-12 00:00:00",
          "2021-06-13 00:00:00",
          "2021-06-14 00:00:00",
          "2021-06-15 00:00:00",
          "2021-06-16 00:00:00",
          "2021-06-17 00:00:00",
          "2021-06-18 00:00:00",
          "2021-06-19 00:00:00",
          "2021-06-20 00:00:00",
          "2021-06-21 00:00:00",
          "2021-06-22 00:00:00",
          "2021-06-23 00:00:00",
          "2021-06-24 00:00:00",
          "2021-06-25 00:00:00",
          "2021-06-26 00:00:00",
          "2021-06-27 00:00:00",
          "2021-06-28 00:00:00",
          "2021-06-29 00:00:00",
          "2021-06-30 00:00:00",
          "2021-07-01 00:00:00",
          "2021-07-02 00:00:00",
          "2021-07-03 00:00:00",
          "2021-07-04 00:00:00",
          "2021-07-05 00:00:00",
          "2021-07-06 00:00:00",
          "2021-07-07 00:00:00",
          "2021-07-08 00:00:00",
          "2021-07-10 00:00:00",
          "2021-07-11 00:00:00",
          "2021-07-12 00:00:00",
          "2021-07-13 00:00:00",
          "2021-07-14 00:00:00",
          "2021-07-15 00:00:00",
          "2021-07-16 00:00:00",
          "2021-07-17 00:00:00",
          "2021-07-19 00:00:00"
         ],
         "name": "People Once Vaccinated",
         "type": "bar",
         "x": [
          1,
          1,
          1,
          1,
          1,
          1,
          1,
          1,
          1,
          1,
          1,
          1,
          1,
          1,
          1,
          1,
          1,
          2,
          2,
          2,
          2,
          2,
          2,
          2,
          2,
          2,
          2,
          2,
          2,
          2,
          2,
          2,
          2,
          2,
          2,
          2,
          2,
          2,
          2,
          2,
          2,
          2,
          2,
          2,
          3,
          3,
          3,
          3,
          3,
          3,
          3,
          3,
          3,
          3,
          3,
          3,
          3,
          3,
          3,
          3,
          3,
          3,
          3,
          3,
          3,
          3,
          3,
          3,
          3,
          3,
          3,
          3,
          3,
          3,
          3,
          4,
          4,
          4,
          4,
          4,
          4,
          4,
          4,
          4,
          4,
          4,
          4,
          4,
          4,
          4,
          4,
          4,
          4,
          4,
          4,
          4,
          4,
          4,
          4,
          4,
          4,
          4,
          5,
          5,
          5,
          5,
          5,
          5,
          5,
          5,
          5,
          5,
          5,
          5,
          5,
          5,
          5,
          5,
          5,
          5,
          5,
          5,
          5,
          5,
          5,
          5,
          5,
          5,
          5,
          5,
          5,
          5,
          6,
          6,
          6,
          6,
          6,
          6,
          6,
          6,
          6,
          6,
          6,
          6,
          6,
          6,
          6,
          6,
          6,
          6,
          6,
          6,
          6,
          6,
          6,
          6,
          6,
          6,
          6,
          6,
          6,
          6,
          7,
          7,
          7,
          7,
          7,
          7,
          7,
          7,
          7,
          7,
          7,
          7,
          7,
          7,
          7,
          7,
          7
         ],
         "y": [
          0,
          191181,
          224301,
          454049,
          674835,
          806484,
          1043534,
          1390592,
          1582201,
          1615504,
          2023809,
          2029480,
          2355979,
          2928053,
          3500027,
          3744334,
          3758843,
          3950156,
          4138918,
          4449552,
          4959445,
          5416849,
          5775322,
          5812362,
          6259008,
          6611561,
          7017114,
          7505010,
          7967647,
          8044786,
          8418653,
          8641002,
          8844641,
          9381591,
          9693000,
          9964383,
          10124531,
          10308552,
          10585757,
          10884879,
          11206188,
          11552857,
          11788669,
          11845075,
          12256337,
          12906771,
          13739121,
          14796835,
          15996683,
          17168303,
          17227903,
          18943283,
          20004227,
          21034481,
          21435841,
          23075504,
          24307635,
          24452385,
          27079484,
          28862037,
          30600787,
          32426230,
          34842030,
          37125187,
          37574302,
          40631153,
          42731952,
          44846538,
          47001472,
          49426618,
          51441436,
          51660234,
          52211398,
          53989035,
          55783201,
          59148798,
          63081589,
          65739470,
          68678838,
          72277309,
          75937015,
          78763027,
          82456522,
          85763852,
          88885961,
          91587400,
          95043039,
          97301914,
          100179199,
          102349255,
          104408484,
          106431076,
          107371770,
          109659181,
          111673361,
          113584269,
          117795008,
          119886252,
          121263287,
          122538179,
          123811908,
          125376952,
          126328970,
          126704151,
          127696675,
          128627919,
          129730641,
          131058890,
          132294827,
          133366482,
          133854676,
          135192013,
          136557345,
          137805245,
          139087590,
          139861462,
          141132112,
          141764335,
          143090218,
          144270200,
          145333606,
          146624652,
          149219616,
          150033188,
          152301505,
          153511379,
          156189641,
          158783606,
          160605562,
          164158704,
          165598013,
          167191085,
          169585180,
          171866824,
          174296917,
          179172948,
          180972102,
          183275704,
          185501579,
          188363894,
          191222380,
          194325996,
          197415653,
          199655293,
          202572835,
          205571046,
          207830971,
          210442950,
          214553189,
          217542993,
          221493259,
          224541283,
          232744813,
          238586187,
          241720520,
          247652194,
          253359907,
          260253182,
          262916313,
          265545768,
          270178001,
          271410023,
          275693081,
          276339011,
          282231365,
          284455266,
          286751758,
          288782557,
          291184757,
          298678913,
          303171498,
          304018852,
          306612781,
          311387539,
          313529502,
          316116189,
          318665226,
          321893762,
          326392783
         ]
        },
        {
         "hovertext": [
          "2021-01-15 00:00:00",
          "2021-01-16 00:00:00",
          "2021-01-17 00:00:00",
          "2021-01-18 00:00:00",
          "2021-01-19 00:00:00",
          "2021-01-20 00:00:00",
          "2021-01-21 00:00:00",
          "2021-01-22 00:00:00",
          "2021-01-23 00:00:00",
          "2021-01-24 00:00:00",
          "2021-01-25 00:00:00",
          "2021-01-26 00:00:00",
          "2021-01-27 00:00:00",
          "2021-01-28 00:00:00",
          "2021-01-29 00:00:00",
          "2021-01-30 00:00:00",
          "2021-01-31 00:00:00",
          "2021-02-01 00:00:00",
          "2021-02-02 00:00:00",
          "2021-02-03 00:00:00",
          "2021-02-04 00:00:00",
          "2021-02-05 00:00:00",
          "2021-02-06 00:00:00",
          "2021-02-07 00:00:00",
          "2021-02-08 00:00:00",
          "2021-02-09 00:00:00",
          "2021-02-10 00:00:00",
          "2021-02-11 00:00:00",
          "2021-02-12 00:00:00",
          "2021-02-13 00:00:00",
          "2021-02-15 00:00:00",
          "2021-02-16 00:00:00",
          "2021-02-17 00:00:00",
          "2021-02-18 00:00:00",
          "2021-02-19 00:00:00",
          "2021-02-20 00:00:00",
          "2021-02-21 00:00:00",
          "2021-02-22 00:00:00",
          "2021-02-23 00:00:00",
          "2021-02-24 00:00:00",
          "2021-02-25 00:00:00",
          "2021-02-26 00:00:00",
          "2021-02-27 00:00:00",
          "2021-02-28 00:00:00",
          "2021-03-01 00:00:00",
          "2021-03-02 00:00:00",
          "2021-03-03 00:00:00",
          "2021-03-04 00:00:00",
          "2021-03-05 00:00:00",
          "2021-03-06 00:00:00",
          "2021-03-07 00:00:00",
          "2021-03-08 00:00:00",
          "2021-03-09 00:00:00",
          "2021-03-10 00:00:00",
          "2021-03-11 00:00:00",
          "2021-03-12 00:00:00",
          "2021-03-13 00:00:00",
          "2021-03-14 00:00:00",
          "2021-03-15 00:00:00",
          "2021-03-16 00:00:00",
          "2021-03-17 00:00:00",
          "2021-03-18 00:00:00",
          "2021-03-19 00:00:00",
          "2021-03-20 00:00:00",
          "2021-03-21 00:00:00",
          "2021-03-22 00:00:00",
          "2021-03-23 00:00:00",
          "2021-03-24 00:00:00",
          "2021-03-25 00:00:00",
          "2021-03-26 00:00:00",
          "2021-03-27 00:00:00",
          "2021-03-28 00:00:00",
          "2021-03-29 00:00:00",
          "2021-03-30 00:00:00",
          "2021-03-31 00:00:00",
          "2021-04-01 00:00:00",
          "2021-04-02 00:00:00",
          "2021-04-03 00:00:00",
          "2021-04-04 00:00:00",
          "2021-04-05 00:00:00",
          "2021-04-06 00:00:00",
          "2021-04-07 00:00:00",
          "2021-04-08 00:00:00",
          "2021-04-09 00:00:00",
          "2021-04-10 00:00:00",
          "2021-04-11 00:00:00",
          "2021-04-12 00:00:00",
          "2021-04-13 00:00:00",
          "2021-04-14 00:00:00",
          "2021-04-15 00:00:00",
          "2021-04-16 00:00:00",
          "2021-04-17 00:00:00",
          "2021-04-18 00:00:00",
          "2021-04-19 00:00:00",
          "2021-04-21 00:00:00",
          "2021-04-22 00:00:00",
          "2021-04-25 00:00:00",
          "2021-04-26 00:00:00",
          "2021-04-27 00:00:00",
          "2021-04-28 00:00:00",
          "2021-04-29 00:00:00",
          "2021-04-30 00:00:00",
          "2021-05-01 00:00:00",
          "2021-05-02 00:00:00",
          "2021-05-03 00:00:00",
          "2021-05-04 00:00:00",
          "2021-05-05 00:00:00",
          "2021-05-06 00:00:00",
          "2021-05-07 00:00:00",
          "2021-05-08 00:00:00",
          "2021-05-09 00:00:00",
          "2021-05-10 00:00:00",
          "2021-05-11 00:00:00",
          "2021-05-12 00:00:00",
          "2021-05-13 00:00:00",
          "2021-05-14 00:00:00",
          "2021-05-15 00:00:00",
          "2021-05-16 00:00:00",
          "2021-05-17 00:00:00",
          "2021-05-18 00:00:00",
          "2021-05-19 00:00:00",
          "2021-05-20 00:00:00",
          "2021-05-22 00:00:00",
          "2021-05-23 00:00:00",
          "2021-05-24 00:00:00",
          "2021-05-25 00:00:00",
          "2021-05-26 00:00:00",
          "2021-05-27 00:00:00",
          "2021-05-28 00:00:00",
          "2021-05-29 00:00:00",
          "2021-05-30 00:00:00",
          "2021-05-31 00:00:00",
          "2021-06-01 00:00:00",
          "2021-06-02 00:00:00",
          "2021-06-03 00:00:00",
          "2021-06-04 00:00:00",
          "2021-06-05 00:00:00",
          "2021-06-06 00:00:00",
          "2021-06-07 00:00:00",
          "2021-06-08 00:00:00",
          "2021-06-09 00:00:00",
          "2021-06-10 00:00:00",
          "2021-06-11 00:00:00",
          "2021-06-12 00:00:00",
          "2021-06-13 00:00:00",
          "2021-06-14 00:00:00",
          "2021-06-15 00:00:00",
          "2021-06-16 00:00:00",
          "2021-06-17 00:00:00",
          "2021-06-18 00:00:00",
          "2021-06-19 00:00:00",
          "2021-06-20 00:00:00",
          "2021-06-21 00:00:00",
          "2021-06-22 00:00:00",
          "2021-06-23 00:00:00",
          "2021-06-24 00:00:00",
          "2021-06-25 00:00:00",
          "2021-06-26 00:00:00",
          "2021-06-27 00:00:00",
          "2021-06-28 00:00:00",
          "2021-06-29 00:00:00",
          "2021-06-30 00:00:00",
          "2021-07-01 00:00:00",
          "2021-07-02 00:00:00",
          "2021-07-03 00:00:00",
          "2021-07-04 00:00:00",
          "2021-07-05 00:00:00",
          "2021-07-06 00:00:00",
          "2021-07-07 00:00:00",
          "2021-07-08 00:00:00",
          "2021-07-10 00:00:00",
          "2021-07-11 00:00:00",
          "2021-07-12 00:00:00",
          "2021-07-13 00:00:00",
          "2021-07-14 00:00:00",
          "2021-07-15 00:00:00",
          "2021-07-16 00:00:00",
          "2021-07-17 00:00:00",
          "2021-07-19 00:00:00"
         ],
         "name": "People Fully Vaccinated(Two doses)",
         "type": "bar",
         "x": [
          1,
          1,
          1,
          1,
          1,
          1,
          1,
          1,
          1,
          1,
          1,
          1,
          1,
          1,
          1,
          1,
          1,
          2,
          2,
          2,
          2,
          2,
          2,
          2,
          2,
          2,
          2,
          2,
          2,
          2,
          2,
          2,
          2,
          2,
          2,
          2,
          2,
          2,
          2,
          2,
          2,
          2,
          2,
          2,
          3,
          3,
          3,
          3,
          3,
          3,
          3,
          3,
          3,
          3,
          3,
          3,
          3,
          3,
          3,
          3,
          3,
          3,
          3,
          3,
          3,
          3,
          3,
          3,
          3,
          3,
          3,
          3,
          3,
          3,
          3,
          4,
          4,
          4,
          4,
          4,
          4,
          4,
          4,
          4,
          4,
          4,
          4,
          4,
          4,
          4,
          4,
          4,
          4,
          4,
          4,
          4,
          4,
          4,
          4,
          4,
          4,
          4,
          5,
          5,
          5,
          5,
          5,
          5,
          5,
          5,
          5,
          5,
          5,
          5,
          5,
          5,
          5,
          5,
          5,
          5,
          5,
          5,
          5,
          5,
          5,
          5,
          5,
          5,
          5,
          5,
          5,
          5,
          6,
          6,
          6,
          6,
          6,
          6,
          6,
          6,
          6,
          6,
          6,
          6,
          6,
          6,
          6,
          6,
          6,
          6,
          6,
          6,
          6,
          6,
          6,
          6,
          6,
          6,
          6,
          6,
          6,
          6,
          7,
          7,
          7,
          7,
          7,
          7,
          7,
          7,
          7,
          7,
          7,
          7,
          7,
          7,
          7,
          7,
          7
         ],
         "y": [
          0,
          0,
          0,
          0,
          0,
          0,
          0,
          0,
          0,
          0,
          0,
          0,
          0,
          0,
          0,
          0,
          0,
          0,
          0,
          0,
          0,
          0,
          0,
          0,
          0,
          0,
          0,
          0,
          0,
          7668,
          98118,
          216339,
          342116,
          464932,
          756942,
          873940,
          960642,
          1115542,
          1321635,
          1481754,
          1860859,
          2204083,
          2453878,
          2456191,
          2597799,
          2713978,
          2876927,
          3208668,
          3501021,
          3754041,
          3761107,
          4065450,
          4363679,
          4650530,
          4729079,
          5142953,
          5430774,
          5455653,
          5867948,
          6202499,
          6542468,
          6913587,
          7221362,
          7478654,
          7491696,
          7863441,
          8109334,
          8299171,
          8502968,
          8683155,
          8828346,
          8870201,
          8901956,
          9065318,
          9334695,
          9640340,
          9972706,
          10240181,
          10426325,
          10833617,
          11140459,
          11435646,
          11877740,
          12311308,
          12709186,
          12941165,
          13490046,
          13877664,
          14314039,
          14874254,
          15529157,
          16191514,
          16480796,
          17469932,
          17972744,
          19170339,
          21390165,
          22638695,
          23615946,
          24515213,
          25456864,
          26621155,
          27297355,
          27507360,
          28385461,
          29122833,
          30200597,
          31544713,
          32895173,
          34127375,
          34450192,
          35906905,
          37305298,
          38240332,
          39274256,
          39784951,
          40412424,
          40486671,
          40726986,
          40921402,
          41076994,
          41262233,
          41622881,
          41686052,
          41864206,
          41995400,
          42235974,
          42419560,
          42561240,
          42930249,
          43067110,
          43258810,
          43550558,
          43811342,
          44047467,
          44434820,
          44599042,
          44765341,
          44989073,
          45317035,
          45634125,
          45955907,
          46287589,
          46532774,
          46857581,
          47189318,
          47474395,
          47882950,
          48417061,
          48812947,
          49415053,
          49745316,
          50569129,
          51269269,
          51649818,
          52401833,
          53301621,
          54588202,
          55114099,
          55877810,
          57245912,
          57748116,
          59048568,
          59332783,
          62069225,
          62923284,
          64477739,
          65525089,
          66886006,
          70312309,
          72861088,
          73333649,
          74854865,
          76310396,
          77810989,
          79227578,
          81030653,
          83037953,
          85453618
         ]
        }
       ],
       "layout": {
        "barmode": "stack",
        "template": {
         "data": {
          "bar": [
           {
            "error_x": {
             "color": "#2a3f5f"
            },
            "error_y": {
             "color": "#2a3f5f"
            },
            "marker": {
             "line": {
              "color": "#E5ECF6",
              "width": 0.5
             },
             "pattern": {
              "fillmode": "overlay",
              "size": 10,
              "solidity": 0.2
             }
            },
            "type": "bar"
           }
          ],
          "barpolar": [
           {
            "marker": {
             "line": {
              "color": "#E5ECF6",
              "width": 0.5
             },
             "pattern": {
              "fillmode": "overlay",
              "size": 10,
              "solidity": 0.2
             }
            },
            "type": "barpolar"
           }
          ],
          "carpet": [
           {
            "aaxis": {
             "endlinecolor": "#2a3f5f",
             "gridcolor": "white",
             "linecolor": "white",
             "minorgridcolor": "white",
             "startlinecolor": "#2a3f5f"
            },
            "baxis": {
             "endlinecolor": "#2a3f5f",
             "gridcolor": "white",
             "linecolor": "white",
             "minorgridcolor": "white",
             "startlinecolor": "#2a3f5f"
            },
            "type": "carpet"
           }
          ],
          "choropleth": [
           {
            "colorbar": {
             "outlinewidth": 0,
             "ticks": ""
            },
            "type": "choropleth"
           }
          ],
          "contour": [
           {
            "colorbar": {
             "outlinewidth": 0,
             "ticks": ""
            },
            "colorscale": [
             [
              0,
              "#0d0887"
             ],
             [
              0.1111111111111111,
              "#46039f"
             ],
             [
              0.2222222222222222,
              "#7201a8"
             ],
             [
              0.3333333333333333,
              "#9c179e"
             ],
             [
              0.4444444444444444,
              "#bd3786"
             ],
             [
              0.5555555555555556,
              "#d8576b"
             ],
             [
              0.6666666666666666,
              "#ed7953"
             ],
             [
              0.7777777777777778,
              "#fb9f3a"
             ],
             [
              0.8888888888888888,
              "#fdca26"
             ],
             [
              1,
              "#f0f921"
             ]
            ],
            "type": "contour"
           }
          ],
          "contourcarpet": [
           {
            "colorbar": {
             "outlinewidth": 0,
             "ticks": ""
            },
            "type": "contourcarpet"
           }
          ],
          "heatmap": [
           {
            "colorbar": {
             "outlinewidth": 0,
             "ticks": ""
            },
            "colorscale": [
             [
              0,
              "#0d0887"
             ],
             [
              0.1111111111111111,
              "#46039f"
             ],
             [
              0.2222222222222222,
              "#7201a8"
             ],
             [
              0.3333333333333333,
              "#9c179e"
             ],
             [
              0.4444444444444444,
              "#bd3786"
             ],
             [
              0.5555555555555556,
              "#d8576b"
             ],
             [
              0.6666666666666666,
              "#ed7953"
             ],
             [
              0.7777777777777778,
              "#fb9f3a"
             ],
             [
              0.8888888888888888,
              "#fdca26"
             ],
             [
              1,
              "#f0f921"
             ]
            ],
            "type": "heatmap"
           }
          ],
          "heatmapgl": [
           {
            "colorbar": {
             "outlinewidth": 0,
             "ticks": ""
            },
            "colorscale": [
             [
              0,
              "#0d0887"
             ],
             [
              0.1111111111111111,
              "#46039f"
             ],
             [
              0.2222222222222222,
              "#7201a8"
             ],
             [
              0.3333333333333333,
              "#9c179e"
             ],
             [
              0.4444444444444444,
              "#bd3786"
             ],
             [
              0.5555555555555556,
              "#d8576b"
             ],
             [
              0.6666666666666666,
              "#ed7953"
             ],
             [
              0.7777777777777778,
              "#fb9f3a"
             ],
             [
              0.8888888888888888,
              "#fdca26"
             ],
             [
              1,
              "#f0f921"
             ]
            ],
            "type": "heatmapgl"
           }
          ],
          "histogram": [
           {
            "marker": {
             "pattern": {
              "fillmode": "overlay",
              "size": 10,
              "solidity": 0.2
             }
            },
            "type": "histogram"
           }
          ],
          "histogram2d": [
           {
            "colorbar": {
             "outlinewidth": 0,
             "ticks": ""
            },
            "colorscale": [
             [
              0,
              "#0d0887"
             ],
             [
              0.1111111111111111,
              "#46039f"
             ],
             [
              0.2222222222222222,
              "#7201a8"
             ],
             [
              0.3333333333333333,
              "#9c179e"
             ],
             [
              0.4444444444444444,
              "#bd3786"
             ],
             [
              0.5555555555555556,
              "#d8576b"
             ],
             [
              0.6666666666666666,
              "#ed7953"
             ],
             [
              0.7777777777777778,
              "#fb9f3a"
             ],
             [
              0.8888888888888888,
              "#fdca26"
             ],
             [
              1,
              "#f0f921"
             ]
            ],
            "type": "histogram2d"
           }
          ],
          "histogram2dcontour": [
           {
            "colorbar": {
             "outlinewidth": 0,
             "ticks": ""
            },
            "colorscale": [
             [
              0,
              "#0d0887"
             ],
             [
              0.1111111111111111,
              "#46039f"
             ],
             [
              0.2222222222222222,
              "#7201a8"
             ],
             [
              0.3333333333333333,
              "#9c179e"
             ],
             [
              0.4444444444444444,
              "#bd3786"
             ],
             [
              0.5555555555555556,
              "#d8576b"
             ],
             [
              0.6666666666666666,
              "#ed7953"
             ],
             [
              0.7777777777777778,
              "#fb9f3a"
             ],
             [
              0.8888888888888888,
              "#fdca26"
             ],
             [
              1,
              "#f0f921"
             ]
            ],
            "type": "histogram2dcontour"
           }
          ],
          "mesh3d": [
           {
            "colorbar": {
             "outlinewidth": 0,
             "ticks": ""
            },
            "type": "mesh3d"
           }
          ],
          "parcoords": [
           {
            "line": {
             "colorbar": {
              "outlinewidth": 0,
              "ticks": ""
             }
            },
            "type": "parcoords"
           }
          ],
          "pie": [
           {
            "automargin": true,
            "type": "pie"
           }
          ],
          "scatter": [
           {
            "marker": {
             "colorbar": {
              "outlinewidth": 0,
              "ticks": ""
             }
            },
            "type": "scatter"
           }
          ],
          "scatter3d": [
           {
            "line": {
             "colorbar": {
              "outlinewidth": 0,
              "ticks": ""
             }
            },
            "marker": {
             "colorbar": {
              "outlinewidth": 0,
              "ticks": ""
             }
            },
            "type": "scatter3d"
           }
          ],
          "scattercarpet": [
           {
            "marker": {
             "colorbar": {
              "outlinewidth": 0,
              "ticks": ""
             }
            },
            "type": "scattercarpet"
           }
          ],
          "scattergeo": [
           {
            "marker": {
             "colorbar": {
              "outlinewidth": 0,
              "ticks": ""
             }
            },
            "type": "scattergeo"
           }
          ],
          "scattergl": [
           {
            "marker": {
             "colorbar": {
              "outlinewidth": 0,
              "ticks": ""
             }
            },
            "type": "scattergl"
           }
          ],
          "scattermapbox": [
           {
            "marker": {
             "colorbar": {
              "outlinewidth": 0,
              "ticks": ""
             }
            },
            "type": "scattermapbox"
           }
          ],
          "scatterpolar": [
           {
            "marker": {
             "colorbar": {
              "outlinewidth": 0,
              "ticks": ""
             }
            },
            "type": "scatterpolar"
           }
          ],
          "scatterpolargl": [
           {
            "marker": {
             "colorbar": {
              "outlinewidth": 0,
              "ticks": ""
             }
            },
            "type": "scatterpolargl"
           }
          ],
          "scatterternary": [
           {
            "marker": {
             "colorbar": {
              "outlinewidth": 0,
              "ticks": ""
             }
            },
            "type": "scatterternary"
           }
          ],
          "surface": [
           {
            "colorbar": {
             "outlinewidth": 0,
             "ticks": ""
            },
            "colorscale": [
             [
              0,
              "#0d0887"
             ],
             [
              0.1111111111111111,
              "#46039f"
             ],
             [
              0.2222222222222222,
              "#7201a8"
             ],
             [
              0.3333333333333333,
              "#9c179e"
             ],
             [
              0.4444444444444444,
              "#bd3786"
             ],
             [
              0.5555555555555556,
              "#d8576b"
             ],
             [
              0.6666666666666666,
              "#ed7953"
             ],
             [
              0.7777777777777778,
              "#fb9f3a"
             ],
             [
              0.8888888888888888,
              "#fdca26"
             ],
             [
              1,
              "#f0f921"
             ]
            ],
            "type": "surface"
           }
          ],
          "table": [
           {
            "cells": {
             "fill": {
              "color": "#EBF0F8"
             },
             "line": {
              "color": "white"
             }
            },
            "header": {
             "fill": {
              "color": "#C8D4E3"
             },
             "line": {
              "color": "white"
             }
            },
            "type": "table"
           }
          ]
         },
         "layout": {
          "annotationdefaults": {
           "arrowcolor": "#2a3f5f",
           "arrowhead": 0,
           "arrowwidth": 1
          },
          "autotypenumbers": "strict",
          "coloraxis": {
           "colorbar": {
            "outlinewidth": 0,
            "ticks": ""
           }
          },
          "colorscale": {
           "diverging": [
            [
             0,
             "#8e0152"
            ],
            [
             0.1,
             "#c51b7d"
            ],
            [
             0.2,
             "#de77ae"
            ],
            [
             0.3,
             "#f1b6da"
            ],
            [
             0.4,
             "#fde0ef"
            ],
            [
             0.5,
             "#f7f7f7"
            ],
            [
             0.6,
             "#e6f5d0"
            ],
            [
             0.7,
             "#b8e186"
            ],
            [
             0.8,
             "#7fbc41"
            ],
            [
             0.9,
             "#4d9221"
            ],
            [
             1,
             "#276419"
            ]
           ],
           "sequential": [
            [
             0,
             "#0d0887"
            ],
            [
             0.1111111111111111,
             "#46039f"
            ],
            [
             0.2222222222222222,
             "#7201a8"
            ],
            [
             0.3333333333333333,
             "#9c179e"
            ],
            [
             0.4444444444444444,
             "#bd3786"
            ],
            [
             0.5555555555555556,
             "#d8576b"
            ],
            [
             0.6666666666666666,
             "#ed7953"
            ],
            [
             0.7777777777777778,
             "#fb9f3a"
            ],
            [
             0.8888888888888888,
             "#fdca26"
            ],
            [
             1,
             "#f0f921"
            ]
           ],
           "sequentialminus": [
            [
             0,
             "#0d0887"
            ],
            [
             0.1111111111111111,
             "#46039f"
            ],
            [
             0.2222222222222222,
             "#7201a8"
            ],
            [
             0.3333333333333333,
             "#9c179e"
            ],
            [
             0.4444444444444444,
             "#bd3786"
            ],
            [
             0.5555555555555556,
             "#d8576b"
            ],
            [
             0.6666666666666666,
             "#ed7953"
            ],
            [
             0.7777777777777778,
             "#fb9f3a"
            ],
            [
             0.8888888888888888,
             "#fdca26"
            ],
            [
             1,
             "#f0f921"
            ]
           ]
          },
          "colorway": [
           "#636efa",
           "#EF553B",
           "#00cc96",
           "#ab63fa",
           "#FFA15A",
           "#19d3f3",
           "#FF6692",
           "#B6E880",
           "#FF97FF",
           "#FECB52"
          ],
          "font": {
           "color": "#2a3f5f"
          },
          "geo": {
           "bgcolor": "white",
           "lakecolor": "white",
           "landcolor": "#E5ECF6",
           "showlakes": true,
           "showland": true,
           "subunitcolor": "white"
          },
          "hoverlabel": {
           "align": "left"
          },
          "hovermode": "closest",
          "mapbox": {
           "style": "light"
          },
          "paper_bgcolor": "white",
          "plot_bgcolor": "#E5ECF6",
          "polar": {
           "angularaxis": {
            "gridcolor": "white",
            "linecolor": "white",
            "ticks": ""
           },
           "bgcolor": "#E5ECF6",
           "radialaxis": {
            "gridcolor": "white",
            "linecolor": "white",
            "ticks": ""
           }
          },
          "scene": {
           "xaxis": {
            "backgroundcolor": "#E5ECF6",
            "gridcolor": "white",
            "gridwidth": 2,
            "linecolor": "white",
            "showbackground": true,
            "ticks": "",
            "zerolinecolor": "white"
           },
           "yaxis": {
            "backgroundcolor": "#E5ECF6",
            "gridcolor": "white",
            "gridwidth": 2,
            "linecolor": "white",
            "showbackground": true,
            "ticks": "",
            "zerolinecolor": "white"
           },
           "zaxis": {
            "backgroundcolor": "#E5ECF6",
            "gridcolor": "white",
            "gridwidth": 2,
            "linecolor": "white",
            "showbackground": true,
            "ticks": "",
            "zerolinecolor": "white"
           }
          },
          "shapedefaults": {
           "line": {
            "color": "#2a3f5f"
           }
          },
          "ternary": {
           "aaxis": {
            "gridcolor": "white",
            "linecolor": "white",
            "ticks": ""
           },
           "baxis": {
            "gridcolor": "white",
            "linecolor": "white",
            "ticks": ""
           },
           "bgcolor": "#E5ECF6",
           "caxis": {
            "gridcolor": "white",
            "linecolor": "white",
            "ticks": ""
           }
          },
          "title": {
           "x": 0.05
          },
          "xaxis": {
           "automargin": true,
           "gridcolor": "white",
           "linecolor": "white",
           "ticks": "",
           "title": {
            "standoff": 15
           },
           "zerolinecolor": "white",
           "zerolinewidth": 2
          },
          "yaxis": {
           "automargin": true,
           "gridcolor": "white",
           "linecolor": "white",
           "ticks": "",
           "title": {
            "standoff": 15
           },
           "zerolinecolor": "white",
           "zerolinewidth": 2
          }
         }
        },
        "title": {
         "text": "Total Vaccines Administered VS Once Vaccinated VS Fully Vaccinated"
        },
        "xaxis": {
         "title": {
          "text": "Monthly From January 2021"
         }
        },
        "yaxis": {
         "title": {
          "font": {
           "size": 12
          },
          "text": "Total Vaccines Administered, Once Vaccinated & Fully Vaccinated"
         }
        }
       }
      },
      "text/html": [
       "<div>                            <div id=\"6aef1ea3-ee12-4914-9dd6-102946b53f33\" class=\"plotly-graph-div\" style=\"height:525px; width:100%;\"></div>            <script type=\"text/javascript\">                require([\"plotly\"], function(Plotly) {                    window.PLOTLYENV=window.PLOTLYENV || {};                                    if (document.getElementById(\"6aef1ea3-ee12-4914-9dd6-102946b53f33\")) {                    Plotly.newPlot(                        \"6aef1ea3-ee12-4914-9dd6-102946b53f33\",                        [{\"hovertext\":[\"2021-01-15 00:00:00\",\"2021-01-16 00:00:00\",\"2021-01-17 00:00:00\",\"2021-01-18 00:00:00\",\"2021-01-19 00:00:00\",\"2021-01-20 00:00:00\",\"2021-01-21 00:00:00\",\"2021-01-22 00:00:00\",\"2021-01-23 00:00:00\",\"2021-01-24 00:00:00\",\"2021-01-25 00:00:00\",\"2021-01-26 00:00:00\",\"2021-01-27 00:00:00\",\"2021-01-28 00:00:00\",\"2021-01-29 00:00:00\",\"2021-01-30 00:00:00\",\"2021-01-31 00:00:00\",\"2021-02-01 00:00:00\",\"2021-02-02 00:00:00\",\"2021-02-03 00:00:00\",\"2021-02-04 00:00:00\",\"2021-02-05 00:00:00\",\"2021-02-06 00:00:00\",\"2021-02-07 00:00:00\",\"2021-02-08 00:00:00\",\"2021-02-09 00:00:00\",\"2021-02-10 00:00:00\",\"2021-02-11 00:00:00\",\"2021-02-12 00:00:00\",\"2021-02-13 00:00:00\",\"2021-02-15 00:00:00\",\"2021-02-16 00:00:00\",\"2021-02-17 00:00:00\",\"2021-02-18 00:00:00\",\"2021-02-19 00:00:00\",\"2021-02-20 00:00:00\",\"2021-02-21 00:00:00\",\"2021-02-22 00:00:00\",\"2021-02-23 00:00:00\",\"2021-02-24 00:00:00\",\"2021-02-25 00:00:00\",\"2021-02-26 00:00:00\",\"2021-02-27 00:00:00\",\"2021-02-28 00:00:00\",\"2021-03-01 00:00:00\",\"2021-03-02 00:00:00\",\"2021-03-03 00:00:00\",\"2021-03-04 00:00:00\",\"2021-03-05 00:00:00\",\"2021-03-06 00:00:00\",\"2021-03-07 00:00:00\",\"2021-03-08 00:00:00\",\"2021-03-09 00:00:00\",\"2021-03-10 00:00:00\",\"2021-03-11 00:00:00\",\"2021-03-12 00:00:00\",\"2021-03-13 00:00:00\",\"2021-03-14 00:00:00\",\"2021-03-15 00:00:00\",\"2021-03-16 00:00:00\",\"2021-03-17 00:00:00\",\"2021-03-18 00:00:00\",\"2021-03-19 00:00:00\",\"2021-03-20 00:00:00\",\"2021-03-21 00:00:00\",\"2021-03-22 00:00:00\",\"2021-03-23 00:00:00\",\"2021-03-24 00:00:00\",\"2021-03-25 00:00:00\",\"2021-03-26 00:00:00\",\"2021-03-27 00:00:00\",\"2021-03-28 00:00:00\",\"2021-03-29 00:00:00\",\"2021-03-30 00:00:00\",\"2021-03-31 00:00:00\",\"2021-04-01 00:00:00\",\"2021-04-02 00:00:00\",\"2021-04-03 00:00:00\",\"2021-04-04 00:00:00\",\"2021-04-05 00:00:00\",\"2021-04-06 00:00:00\",\"2021-04-07 00:00:00\",\"2021-04-08 00:00:00\",\"2021-04-09 00:00:00\",\"2021-04-10 00:00:00\",\"2021-04-11 00:00:00\",\"2021-04-12 00:00:00\",\"2021-04-13 00:00:00\",\"2021-04-14 00:00:00\",\"2021-04-15 00:00:00\",\"2021-04-16 00:00:00\",\"2021-04-17 00:00:00\",\"2021-04-18 00:00:00\",\"2021-04-19 00:00:00\",\"2021-04-21 00:00:00\",\"2021-04-22 00:00:00\",\"2021-04-25 00:00:00\",\"2021-04-26 00:00:00\",\"2021-04-27 00:00:00\",\"2021-04-28 00:00:00\",\"2021-04-29 00:00:00\",\"2021-04-30 00:00:00\",\"2021-05-01 00:00:00\",\"2021-05-02 00:00:00\",\"2021-05-03 00:00:00\",\"2021-05-04 00:00:00\",\"2021-05-05 00:00:00\",\"2021-05-06 00:00:00\",\"2021-05-07 00:00:00\",\"2021-05-08 00:00:00\",\"2021-05-09 00:00:00\",\"2021-05-10 00:00:00\",\"2021-05-11 00:00:00\",\"2021-05-12 00:00:00\",\"2021-05-13 00:00:00\",\"2021-05-14 00:00:00\",\"2021-05-15 00:00:00\",\"2021-05-16 00:00:00\",\"2021-05-17 00:00:00\",\"2021-05-18 00:00:00\",\"2021-05-19 00:00:00\",\"2021-05-20 00:00:00\",\"2021-05-22 00:00:00\",\"2021-05-23 00:00:00\",\"2021-05-24 00:00:00\",\"2021-05-25 00:00:00\",\"2021-05-26 00:00:00\",\"2021-05-27 00:00:00\",\"2021-05-28 00:00:00\",\"2021-05-29 00:00:00\",\"2021-05-30 00:00:00\",\"2021-05-31 00:00:00\",\"2021-06-01 00:00:00\",\"2021-06-02 00:00:00\",\"2021-06-03 00:00:00\",\"2021-06-04 00:00:00\",\"2021-06-05 00:00:00\",\"2021-06-06 00:00:00\",\"2021-06-07 00:00:00\",\"2021-06-08 00:00:00\",\"2021-06-09 00:00:00\",\"2021-06-10 00:00:00\",\"2021-06-11 00:00:00\",\"2021-06-12 00:00:00\",\"2021-06-13 00:00:00\",\"2021-06-14 00:00:00\",\"2021-06-15 00:00:00\",\"2021-06-16 00:00:00\",\"2021-06-17 00:00:00\",\"2021-06-18 00:00:00\",\"2021-06-19 00:00:00\",\"2021-06-20 00:00:00\",\"2021-06-21 00:00:00\",\"2021-06-22 00:00:00\",\"2021-06-23 00:00:00\",\"2021-06-24 00:00:00\",\"2021-06-25 00:00:00\",\"2021-06-26 00:00:00\",\"2021-06-27 00:00:00\",\"2021-06-28 00:00:00\",\"2021-06-29 00:00:00\",\"2021-06-30 00:00:00\",\"2021-07-01 00:00:00\",\"2021-07-02 00:00:00\",\"2021-07-03 00:00:00\",\"2021-07-04 00:00:00\",\"2021-07-05 00:00:00\",\"2021-07-06 00:00:00\",\"2021-07-07 00:00:00\",\"2021-07-08 00:00:00\",\"2021-07-10 00:00:00\",\"2021-07-11 00:00:00\",\"2021-07-12 00:00:00\",\"2021-07-13 00:00:00\",\"2021-07-14 00:00:00\",\"2021-07-15 00:00:00\",\"2021-07-16 00:00:00\",\"2021-07-17 00:00:00\",\"2021-07-19 00:00:00\"],\"name\":\"Total Vaccines Administered\",\"type\":\"bar\",\"x\":[1,1,1,1,1,1,1,1,1,1,1,1,1,1,1,1,1,2,2,2,2,2,2,2,2,2,2,2,2,2,2,2,2,2,2,2,2,2,2,2,2,2,2,2,3,3,3,3,3,3,3,3,3,3,3,3,3,3,3,3,3,3,3,3,3,3,3,3,3,3,3,3,3,3,3,4,4,4,4,4,4,4,4,4,4,4,4,4,4,4,4,4,4,4,4,4,4,4,4,4,4,4,5,5,5,5,5,5,5,5,5,5,5,5,5,5,5,5,5,5,5,5,5,5,5,5,5,5,5,5,5,5,6,6,6,6,6,6,6,6,6,6,6,6,6,6,6,6,6,6,6,6,6,6,6,6,6,6,6,6,6,6,7,7,7,7,7,7,7,7,7,7,7,7,7,7,7,7,7],\"y\":[0,191181,224301,454049,674835,806484,1043534,1390592,1582201,1615504,2023809,2029480,2355979,2928053,3500027,3744334,3758843,3950156,4138918,4449552,4959445,5416849,5775322,5812362,6259008,6611561,7017114,7505010,7967647,8052454,8516771,8857341,9186757,9846523,10449942,10838323,11085173,11424094,11907392,12366633,13067047,13756940,14242547,14301266,14854136,15620749,16616048,18005503,19497704,20922344,20989010,23008733,24367906,25685011,26164920,28218457,29738409,29908038,32947432,35064536,37143255,39339817,42063392,44603841,45065998,48494594,50841286,53145709,55504440,58109773,60269782,60530435,61113354,63054353,65117896,68789138,73054295,75979651,79105163,83110926,87077474,90198673,94334262,98075160,101595147,104528565,108533085,111179578,114493238,117223509,119937641,122622590,123852566,127129113,129646105,132754608,139185173,142524947,144879233,147053392,149268772,151998107,153626325,154211511,156082136,157750752,159931238,162603603,165190000,167493857,168304868,171098918,173862643,176045577,178361846,179646413,181544536,182251006,183817204,185191602,186410600,187886885,190842497,191719240,194165711,195506779,198425615,201203166,203166802,207088953,208665123,210449895,213135738,215678166,218344384,223607768,225571144,228041045,230490652,233680929,236856505,240281903,243703242,246188067,249430416,252760364,255305366,258325900,262970250,266355940,270908312,274286599,283313942,289855456,293370338,300054027,306661528,314841384,318030412,321423578,327423913,329158139,334741649,335671794,344300590,347378550,351229497,354307646,358070763,368991222,376032586,377352501,381467646,387697935,391340491,395343767,399695879,404931715,411846401]},{\"hovertext\":[\"2021-01-15 00:00:00\",\"2021-01-16 00:00:00\",\"2021-01-17 00:00:00\",\"2021-01-18 00:00:00\",\"2021-01-19 00:00:00\",\"2021-01-20 00:00:00\",\"2021-01-21 00:00:00\",\"2021-01-22 00:00:00\",\"2021-01-23 00:00:00\",\"2021-01-24 00:00:00\",\"2021-01-25 00:00:00\",\"2021-01-26 00:00:00\",\"2021-01-27 00:00:00\",\"2021-01-28 00:00:00\",\"2021-01-29 00:00:00\",\"2021-01-30 00:00:00\",\"2021-01-31 00:00:00\",\"2021-02-01 00:00:00\",\"2021-02-02 00:00:00\",\"2021-02-03 00:00:00\",\"2021-02-04 00:00:00\",\"2021-02-05 00:00:00\",\"2021-02-06 00:00:00\",\"2021-02-07 00:00:00\",\"2021-02-08 00:00:00\",\"2021-02-09 00:00:00\",\"2021-02-10 00:00:00\",\"2021-02-11 00:00:00\",\"2021-02-12 00:00:00\",\"2021-02-13 00:00:00\",\"2021-02-15 00:00:00\",\"2021-02-16 00:00:00\",\"2021-02-17 00:00:00\",\"2021-02-18 00:00:00\",\"2021-02-19 00:00:00\",\"2021-02-20 00:00:00\",\"2021-02-21 00:00:00\",\"2021-02-22 00:00:00\",\"2021-02-23 00:00:00\",\"2021-02-24 00:00:00\",\"2021-02-25 00:00:00\",\"2021-02-26 00:00:00\",\"2021-02-27 00:00:00\",\"2021-02-28 00:00:00\",\"2021-03-01 00:00:00\",\"2021-03-02 00:00:00\",\"2021-03-03 00:00:00\",\"2021-03-04 00:00:00\",\"2021-03-05 00:00:00\",\"2021-03-06 00:00:00\",\"2021-03-07 00:00:00\",\"2021-03-08 00:00:00\",\"2021-03-09 00:00:00\",\"2021-03-10 00:00:00\",\"2021-03-11 00:00:00\",\"2021-03-12 00:00:00\",\"2021-03-13 00:00:00\",\"2021-03-14 00:00:00\",\"2021-03-15 00:00:00\",\"2021-03-16 00:00:00\",\"2021-03-17 00:00:00\",\"2021-03-18 00:00:00\",\"2021-03-19 00:00:00\",\"2021-03-20 00:00:00\",\"2021-03-21 00:00:00\",\"2021-03-22 00:00:00\",\"2021-03-23 00:00:00\",\"2021-03-24 00:00:00\",\"2021-03-25 00:00:00\",\"2021-03-26 00:00:00\",\"2021-03-27 00:00:00\",\"2021-03-28 00:00:00\",\"2021-03-29 00:00:00\",\"2021-03-30 00:00:00\",\"2021-03-31 00:00:00\",\"2021-04-01 00:00:00\",\"2021-04-02 00:00:00\",\"2021-04-03 00:00:00\",\"2021-04-04 00:00:00\",\"2021-04-05 00:00:00\",\"2021-04-06 00:00:00\",\"2021-04-07 00:00:00\",\"2021-04-08 00:00:00\",\"2021-04-09 00:00:00\",\"2021-04-10 00:00:00\",\"2021-04-11 00:00:00\",\"2021-04-12 00:00:00\",\"2021-04-13 00:00:00\",\"2021-04-14 00:00:00\",\"2021-04-15 00:00:00\",\"2021-04-16 00:00:00\",\"2021-04-17 00:00:00\",\"2021-04-18 00:00:00\",\"2021-04-19 00:00:00\",\"2021-04-21 00:00:00\",\"2021-04-22 00:00:00\",\"2021-04-25 00:00:00\",\"2021-04-26 00:00:00\",\"2021-04-27 00:00:00\",\"2021-04-28 00:00:00\",\"2021-04-29 00:00:00\",\"2021-04-30 00:00:00\",\"2021-05-01 00:00:00\",\"2021-05-02 00:00:00\",\"2021-05-03 00:00:00\",\"2021-05-04 00:00:00\",\"2021-05-05 00:00:00\",\"2021-05-06 00:00:00\",\"2021-05-07 00:00:00\",\"2021-05-08 00:00:00\",\"2021-05-09 00:00:00\",\"2021-05-10 00:00:00\",\"2021-05-11 00:00:00\",\"2021-05-12 00:00:00\",\"2021-05-13 00:00:00\",\"2021-05-14 00:00:00\",\"2021-05-15 00:00:00\",\"2021-05-16 00:00:00\",\"2021-05-17 00:00:00\",\"2021-05-18 00:00:00\",\"2021-05-19 00:00:00\",\"2021-05-20 00:00:00\",\"2021-05-22 00:00:00\",\"2021-05-23 00:00:00\",\"2021-05-24 00:00:00\",\"2021-05-25 00:00:00\",\"2021-05-26 00:00:00\",\"2021-05-27 00:00:00\",\"2021-05-28 00:00:00\",\"2021-05-29 00:00:00\",\"2021-05-30 00:00:00\",\"2021-05-31 00:00:00\",\"2021-06-01 00:00:00\",\"2021-06-02 00:00:00\",\"2021-06-03 00:00:00\",\"2021-06-04 00:00:00\",\"2021-06-05 00:00:00\",\"2021-06-06 00:00:00\",\"2021-06-07 00:00:00\",\"2021-06-08 00:00:00\",\"2021-06-09 00:00:00\",\"2021-06-10 00:00:00\",\"2021-06-11 00:00:00\",\"2021-06-12 00:00:00\",\"2021-06-13 00:00:00\",\"2021-06-14 00:00:00\",\"2021-06-15 00:00:00\",\"2021-06-16 00:00:00\",\"2021-06-17 00:00:00\",\"2021-06-18 00:00:00\",\"2021-06-19 00:00:00\",\"2021-06-20 00:00:00\",\"2021-06-21 00:00:00\",\"2021-06-22 00:00:00\",\"2021-06-23 00:00:00\",\"2021-06-24 00:00:00\",\"2021-06-25 00:00:00\",\"2021-06-26 00:00:00\",\"2021-06-27 00:00:00\",\"2021-06-28 00:00:00\",\"2021-06-29 00:00:00\",\"2021-06-30 00:00:00\",\"2021-07-01 00:00:00\",\"2021-07-02 00:00:00\",\"2021-07-03 00:00:00\",\"2021-07-04 00:00:00\",\"2021-07-05 00:00:00\",\"2021-07-06 00:00:00\",\"2021-07-07 00:00:00\",\"2021-07-08 00:00:00\",\"2021-07-10 00:00:00\",\"2021-07-11 00:00:00\",\"2021-07-12 00:00:00\",\"2021-07-13 00:00:00\",\"2021-07-14 00:00:00\",\"2021-07-15 00:00:00\",\"2021-07-16 00:00:00\",\"2021-07-17 00:00:00\",\"2021-07-19 00:00:00\"],\"name\":\"People Once Vaccinated\",\"type\":\"bar\",\"x\":[1,1,1,1,1,1,1,1,1,1,1,1,1,1,1,1,1,2,2,2,2,2,2,2,2,2,2,2,2,2,2,2,2,2,2,2,2,2,2,2,2,2,2,2,3,3,3,3,3,3,3,3,3,3,3,3,3,3,3,3,3,3,3,3,3,3,3,3,3,3,3,3,3,3,3,4,4,4,4,4,4,4,4,4,4,4,4,4,4,4,4,4,4,4,4,4,4,4,4,4,4,4,5,5,5,5,5,5,5,5,5,5,5,5,5,5,5,5,5,5,5,5,5,5,5,5,5,5,5,5,5,5,6,6,6,6,6,6,6,6,6,6,6,6,6,6,6,6,6,6,6,6,6,6,6,6,6,6,6,6,6,6,7,7,7,7,7,7,7,7,7,7,7,7,7,7,7,7,7],\"y\":[0,191181,224301,454049,674835,806484,1043534,1390592,1582201,1615504,2023809,2029480,2355979,2928053,3500027,3744334,3758843,3950156,4138918,4449552,4959445,5416849,5775322,5812362,6259008,6611561,7017114,7505010,7967647,8044786,8418653,8641002,8844641,9381591,9693000,9964383,10124531,10308552,10585757,10884879,11206188,11552857,11788669,11845075,12256337,12906771,13739121,14796835,15996683,17168303,17227903,18943283,20004227,21034481,21435841,23075504,24307635,24452385,27079484,28862037,30600787,32426230,34842030,37125187,37574302,40631153,42731952,44846538,47001472,49426618,51441436,51660234,52211398,53989035,55783201,59148798,63081589,65739470,68678838,72277309,75937015,78763027,82456522,85763852,88885961,91587400,95043039,97301914,100179199,102349255,104408484,106431076,107371770,109659181,111673361,113584269,117795008,119886252,121263287,122538179,123811908,125376952,126328970,126704151,127696675,128627919,129730641,131058890,132294827,133366482,133854676,135192013,136557345,137805245,139087590,139861462,141132112,141764335,143090218,144270200,145333606,146624652,149219616,150033188,152301505,153511379,156189641,158783606,160605562,164158704,165598013,167191085,169585180,171866824,174296917,179172948,180972102,183275704,185501579,188363894,191222380,194325996,197415653,199655293,202572835,205571046,207830971,210442950,214553189,217542993,221493259,224541283,232744813,238586187,241720520,247652194,253359907,260253182,262916313,265545768,270178001,271410023,275693081,276339011,282231365,284455266,286751758,288782557,291184757,298678913,303171498,304018852,306612781,311387539,313529502,316116189,318665226,321893762,326392783]},{\"hovertext\":[\"2021-01-15 00:00:00\",\"2021-01-16 00:00:00\",\"2021-01-17 00:00:00\",\"2021-01-18 00:00:00\",\"2021-01-19 00:00:00\",\"2021-01-20 00:00:00\",\"2021-01-21 00:00:00\",\"2021-01-22 00:00:00\",\"2021-01-23 00:00:00\",\"2021-01-24 00:00:00\",\"2021-01-25 00:00:00\",\"2021-01-26 00:00:00\",\"2021-01-27 00:00:00\",\"2021-01-28 00:00:00\",\"2021-01-29 00:00:00\",\"2021-01-30 00:00:00\",\"2021-01-31 00:00:00\",\"2021-02-01 00:00:00\",\"2021-02-02 00:00:00\",\"2021-02-03 00:00:00\",\"2021-02-04 00:00:00\",\"2021-02-05 00:00:00\",\"2021-02-06 00:00:00\",\"2021-02-07 00:00:00\",\"2021-02-08 00:00:00\",\"2021-02-09 00:00:00\",\"2021-02-10 00:00:00\",\"2021-02-11 00:00:00\",\"2021-02-12 00:00:00\",\"2021-02-13 00:00:00\",\"2021-02-15 00:00:00\",\"2021-02-16 00:00:00\",\"2021-02-17 00:00:00\",\"2021-02-18 00:00:00\",\"2021-02-19 00:00:00\",\"2021-02-20 00:00:00\",\"2021-02-21 00:00:00\",\"2021-02-22 00:00:00\",\"2021-02-23 00:00:00\",\"2021-02-24 00:00:00\",\"2021-02-25 00:00:00\",\"2021-02-26 00:00:00\",\"2021-02-27 00:00:00\",\"2021-02-28 00:00:00\",\"2021-03-01 00:00:00\",\"2021-03-02 00:00:00\",\"2021-03-03 00:00:00\",\"2021-03-04 00:00:00\",\"2021-03-05 00:00:00\",\"2021-03-06 00:00:00\",\"2021-03-07 00:00:00\",\"2021-03-08 00:00:00\",\"2021-03-09 00:00:00\",\"2021-03-10 00:00:00\",\"2021-03-11 00:00:00\",\"2021-03-12 00:00:00\",\"2021-03-13 00:00:00\",\"2021-03-14 00:00:00\",\"2021-03-15 00:00:00\",\"2021-03-16 00:00:00\",\"2021-03-17 00:00:00\",\"2021-03-18 00:00:00\",\"2021-03-19 00:00:00\",\"2021-03-20 00:00:00\",\"2021-03-21 00:00:00\",\"2021-03-22 00:00:00\",\"2021-03-23 00:00:00\",\"2021-03-24 00:00:00\",\"2021-03-25 00:00:00\",\"2021-03-26 00:00:00\",\"2021-03-27 00:00:00\",\"2021-03-28 00:00:00\",\"2021-03-29 00:00:00\",\"2021-03-30 00:00:00\",\"2021-03-31 00:00:00\",\"2021-04-01 00:00:00\",\"2021-04-02 00:00:00\",\"2021-04-03 00:00:00\",\"2021-04-04 00:00:00\",\"2021-04-05 00:00:00\",\"2021-04-06 00:00:00\",\"2021-04-07 00:00:00\",\"2021-04-08 00:00:00\",\"2021-04-09 00:00:00\",\"2021-04-10 00:00:00\",\"2021-04-11 00:00:00\",\"2021-04-12 00:00:00\",\"2021-04-13 00:00:00\",\"2021-04-14 00:00:00\",\"2021-04-15 00:00:00\",\"2021-04-16 00:00:00\",\"2021-04-17 00:00:00\",\"2021-04-18 00:00:00\",\"2021-04-19 00:00:00\",\"2021-04-21 00:00:00\",\"2021-04-22 00:00:00\",\"2021-04-25 00:00:00\",\"2021-04-26 00:00:00\",\"2021-04-27 00:00:00\",\"2021-04-28 00:00:00\",\"2021-04-29 00:00:00\",\"2021-04-30 00:00:00\",\"2021-05-01 00:00:00\",\"2021-05-02 00:00:00\",\"2021-05-03 00:00:00\",\"2021-05-04 00:00:00\",\"2021-05-05 00:00:00\",\"2021-05-06 00:00:00\",\"2021-05-07 00:00:00\",\"2021-05-08 00:00:00\",\"2021-05-09 00:00:00\",\"2021-05-10 00:00:00\",\"2021-05-11 00:00:00\",\"2021-05-12 00:00:00\",\"2021-05-13 00:00:00\",\"2021-05-14 00:00:00\",\"2021-05-15 00:00:00\",\"2021-05-16 00:00:00\",\"2021-05-17 00:00:00\",\"2021-05-18 00:00:00\",\"2021-05-19 00:00:00\",\"2021-05-20 00:00:00\",\"2021-05-22 00:00:00\",\"2021-05-23 00:00:00\",\"2021-05-24 00:00:00\",\"2021-05-25 00:00:00\",\"2021-05-26 00:00:00\",\"2021-05-27 00:00:00\",\"2021-05-28 00:00:00\",\"2021-05-29 00:00:00\",\"2021-05-30 00:00:00\",\"2021-05-31 00:00:00\",\"2021-06-01 00:00:00\",\"2021-06-02 00:00:00\",\"2021-06-03 00:00:00\",\"2021-06-04 00:00:00\",\"2021-06-05 00:00:00\",\"2021-06-06 00:00:00\",\"2021-06-07 00:00:00\",\"2021-06-08 00:00:00\",\"2021-06-09 00:00:00\",\"2021-06-10 00:00:00\",\"2021-06-11 00:00:00\",\"2021-06-12 00:00:00\",\"2021-06-13 00:00:00\",\"2021-06-14 00:00:00\",\"2021-06-15 00:00:00\",\"2021-06-16 00:00:00\",\"2021-06-17 00:00:00\",\"2021-06-18 00:00:00\",\"2021-06-19 00:00:00\",\"2021-06-20 00:00:00\",\"2021-06-21 00:00:00\",\"2021-06-22 00:00:00\",\"2021-06-23 00:00:00\",\"2021-06-24 00:00:00\",\"2021-06-25 00:00:00\",\"2021-06-26 00:00:00\",\"2021-06-27 00:00:00\",\"2021-06-28 00:00:00\",\"2021-06-29 00:00:00\",\"2021-06-30 00:00:00\",\"2021-07-01 00:00:00\",\"2021-07-02 00:00:00\",\"2021-07-03 00:00:00\",\"2021-07-04 00:00:00\",\"2021-07-05 00:00:00\",\"2021-07-06 00:00:00\",\"2021-07-07 00:00:00\",\"2021-07-08 00:00:00\",\"2021-07-10 00:00:00\",\"2021-07-11 00:00:00\",\"2021-07-12 00:00:00\",\"2021-07-13 00:00:00\",\"2021-07-14 00:00:00\",\"2021-07-15 00:00:00\",\"2021-07-16 00:00:00\",\"2021-07-17 00:00:00\",\"2021-07-19 00:00:00\"],\"name\":\"People Fully Vaccinated(Two doses)\",\"type\":\"bar\",\"x\":[1,1,1,1,1,1,1,1,1,1,1,1,1,1,1,1,1,2,2,2,2,2,2,2,2,2,2,2,2,2,2,2,2,2,2,2,2,2,2,2,2,2,2,2,3,3,3,3,3,3,3,3,3,3,3,3,3,3,3,3,3,3,3,3,3,3,3,3,3,3,3,3,3,3,3,4,4,4,4,4,4,4,4,4,4,4,4,4,4,4,4,4,4,4,4,4,4,4,4,4,4,4,5,5,5,5,5,5,5,5,5,5,5,5,5,5,5,5,5,5,5,5,5,5,5,5,5,5,5,5,5,5,6,6,6,6,6,6,6,6,6,6,6,6,6,6,6,6,6,6,6,6,6,6,6,6,6,6,6,6,6,6,7,7,7,7,7,7,7,7,7,7,7,7,7,7,7,7,7],\"y\":[0,0,0,0,0,0,0,0,0,0,0,0,0,0,0,0,0,0,0,0,0,0,0,0,0,0,0,0,0,7668,98118,216339,342116,464932,756942,873940,960642,1115542,1321635,1481754,1860859,2204083,2453878,2456191,2597799,2713978,2876927,3208668,3501021,3754041,3761107,4065450,4363679,4650530,4729079,5142953,5430774,5455653,5867948,6202499,6542468,6913587,7221362,7478654,7491696,7863441,8109334,8299171,8502968,8683155,8828346,8870201,8901956,9065318,9334695,9640340,9972706,10240181,10426325,10833617,11140459,11435646,11877740,12311308,12709186,12941165,13490046,13877664,14314039,14874254,15529157,16191514,16480796,17469932,17972744,19170339,21390165,22638695,23615946,24515213,25456864,26621155,27297355,27507360,28385461,29122833,30200597,31544713,32895173,34127375,34450192,35906905,37305298,38240332,39274256,39784951,40412424,40486671,40726986,40921402,41076994,41262233,41622881,41686052,41864206,41995400,42235974,42419560,42561240,42930249,43067110,43258810,43550558,43811342,44047467,44434820,44599042,44765341,44989073,45317035,45634125,45955907,46287589,46532774,46857581,47189318,47474395,47882950,48417061,48812947,49415053,49745316,50569129,51269269,51649818,52401833,53301621,54588202,55114099,55877810,57245912,57748116,59048568,59332783,62069225,62923284,64477739,65525089,66886006,70312309,72861088,73333649,74854865,76310396,77810989,79227578,81030653,83037953,85453618]}],                        {\"barmode\":\"stack\",\"template\":{\"data\":{\"bar\":[{\"error_x\":{\"color\":\"#2a3f5f\"},\"error_y\":{\"color\":\"#2a3f5f\"},\"marker\":{\"line\":{\"color\":\"#E5ECF6\",\"width\":0.5},\"pattern\":{\"fillmode\":\"overlay\",\"size\":10,\"solidity\":0.2}},\"type\":\"bar\"}],\"barpolar\":[{\"marker\":{\"line\":{\"color\":\"#E5ECF6\",\"width\":0.5},\"pattern\":{\"fillmode\":\"overlay\",\"size\":10,\"solidity\":0.2}},\"type\":\"barpolar\"}],\"carpet\":[{\"aaxis\":{\"endlinecolor\":\"#2a3f5f\",\"gridcolor\":\"white\",\"linecolor\":\"white\",\"minorgridcolor\":\"white\",\"startlinecolor\":\"#2a3f5f\"},\"baxis\":{\"endlinecolor\":\"#2a3f5f\",\"gridcolor\":\"white\",\"linecolor\":\"white\",\"minorgridcolor\":\"white\",\"startlinecolor\":\"#2a3f5f\"},\"type\":\"carpet\"}],\"choropleth\":[{\"colorbar\":{\"outlinewidth\":0,\"ticks\":\"\"},\"type\":\"choropleth\"}],\"contour\":[{\"colorbar\":{\"outlinewidth\":0,\"ticks\":\"\"},\"colorscale\":[[0.0,\"#0d0887\"],[0.1111111111111111,\"#46039f\"],[0.2222222222222222,\"#7201a8\"],[0.3333333333333333,\"#9c179e\"],[0.4444444444444444,\"#bd3786\"],[0.5555555555555556,\"#d8576b\"],[0.6666666666666666,\"#ed7953\"],[0.7777777777777778,\"#fb9f3a\"],[0.8888888888888888,\"#fdca26\"],[1.0,\"#f0f921\"]],\"type\":\"contour\"}],\"contourcarpet\":[{\"colorbar\":{\"outlinewidth\":0,\"ticks\":\"\"},\"type\":\"contourcarpet\"}],\"heatmap\":[{\"colorbar\":{\"outlinewidth\":0,\"ticks\":\"\"},\"colorscale\":[[0.0,\"#0d0887\"],[0.1111111111111111,\"#46039f\"],[0.2222222222222222,\"#7201a8\"],[0.3333333333333333,\"#9c179e\"],[0.4444444444444444,\"#bd3786\"],[0.5555555555555556,\"#d8576b\"],[0.6666666666666666,\"#ed7953\"],[0.7777777777777778,\"#fb9f3a\"],[0.8888888888888888,\"#fdca26\"],[1.0,\"#f0f921\"]],\"type\":\"heatmap\"}],\"heatmapgl\":[{\"colorbar\":{\"outlinewidth\":0,\"ticks\":\"\"},\"colorscale\":[[0.0,\"#0d0887\"],[0.1111111111111111,\"#46039f\"],[0.2222222222222222,\"#7201a8\"],[0.3333333333333333,\"#9c179e\"],[0.4444444444444444,\"#bd3786\"],[0.5555555555555556,\"#d8576b\"],[0.6666666666666666,\"#ed7953\"],[0.7777777777777778,\"#fb9f3a\"],[0.8888888888888888,\"#fdca26\"],[1.0,\"#f0f921\"]],\"type\":\"heatmapgl\"}],\"histogram\":[{\"marker\":{\"pattern\":{\"fillmode\":\"overlay\",\"size\":10,\"solidity\":0.2}},\"type\":\"histogram\"}],\"histogram2d\":[{\"colorbar\":{\"outlinewidth\":0,\"ticks\":\"\"},\"colorscale\":[[0.0,\"#0d0887\"],[0.1111111111111111,\"#46039f\"],[0.2222222222222222,\"#7201a8\"],[0.3333333333333333,\"#9c179e\"],[0.4444444444444444,\"#bd3786\"],[0.5555555555555556,\"#d8576b\"],[0.6666666666666666,\"#ed7953\"],[0.7777777777777778,\"#fb9f3a\"],[0.8888888888888888,\"#fdca26\"],[1.0,\"#f0f921\"]],\"type\":\"histogram2d\"}],\"histogram2dcontour\":[{\"colorbar\":{\"outlinewidth\":0,\"ticks\":\"\"},\"colorscale\":[[0.0,\"#0d0887\"],[0.1111111111111111,\"#46039f\"],[0.2222222222222222,\"#7201a8\"],[0.3333333333333333,\"#9c179e\"],[0.4444444444444444,\"#bd3786\"],[0.5555555555555556,\"#d8576b\"],[0.6666666666666666,\"#ed7953\"],[0.7777777777777778,\"#fb9f3a\"],[0.8888888888888888,\"#fdca26\"],[1.0,\"#f0f921\"]],\"type\":\"histogram2dcontour\"}],\"mesh3d\":[{\"colorbar\":{\"outlinewidth\":0,\"ticks\":\"\"},\"type\":\"mesh3d\"}],\"parcoords\":[{\"line\":{\"colorbar\":{\"outlinewidth\":0,\"ticks\":\"\"}},\"type\":\"parcoords\"}],\"pie\":[{\"automargin\":true,\"type\":\"pie\"}],\"scatter\":[{\"marker\":{\"colorbar\":{\"outlinewidth\":0,\"ticks\":\"\"}},\"type\":\"scatter\"}],\"scatter3d\":[{\"line\":{\"colorbar\":{\"outlinewidth\":0,\"ticks\":\"\"}},\"marker\":{\"colorbar\":{\"outlinewidth\":0,\"ticks\":\"\"}},\"type\":\"scatter3d\"}],\"scattercarpet\":[{\"marker\":{\"colorbar\":{\"outlinewidth\":0,\"ticks\":\"\"}},\"type\":\"scattercarpet\"}],\"scattergeo\":[{\"marker\":{\"colorbar\":{\"outlinewidth\":0,\"ticks\":\"\"}},\"type\":\"scattergeo\"}],\"scattergl\":[{\"marker\":{\"colorbar\":{\"outlinewidth\":0,\"ticks\":\"\"}},\"type\":\"scattergl\"}],\"scattermapbox\":[{\"marker\":{\"colorbar\":{\"outlinewidth\":0,\"ticks\":\"\"}},\"type\":\"scattermapbox\"}],\"scatterpolar\":[{\"marker\":{\"colorbar\":{\"outlinewidth\":0,\"ticks\":\"\"}},\"type\":\"scatterpolar\"}],\"scatterpolargl\":[{\"marker\":{\"colorbar\":{\"outlinewidth\":0,\"ticks\":\"\"}},\"type\":\"scatterpolargl\"}],\"scatterternary\":[{\"marker\":{\"colorbar\":{\"outlinewidth\":0,\"ticks\":\"\"}},\"type\":\"scatterternary\"}],\"surface\":[{\"colorbar\":{\"outlinewidth\":0,\"ticks\":\"\"},\"colorscale\":[[0.0,\"#0d0887\"],[0.1111111111111111,\"#46039f\"],[0.2222222222222222,\"#7201a8\"],[0.3333333333333333,\"#9c179e\"],[0.4444444444444444,\"#bd3786\"],[0.5555555555555556,\"#d8576b\"],[0.6666666666666666,\"#ed7953\"],[0.7777777777777778,\"#fb9f3a\"],[0.8888888888888888,\"#fdca26\"],[1.0,\"#f0f921\"]],\"type\":\"surface\"}],\"table\":[{\"cells\":{\"fill\":{\"color\":\"#EBF0F8\"},\"line\":{\"color\":\"white\"}},\"header\":{\"fill\":{\"color\":\"#C8D4E3\"},\"line\":{\"color\":\"white\"}},\"type\":\"table\"}]},\"layout\":{\"annotationdefaults\":{\"arrowcolor\":\"#2a3f5f\",\"arrowhead\":0,\"arrowwidth\":1},\"autotypenumbers\":\"strict\",\"coloraxis\":{\"colorbar\":{\"outlinewidth\":0,\"ticks\":\"\"}},\"colorscale\":{\"diverging\":[[0,\"#8e0152\"],[0.1,\"#c51b7d\"],[0.2,\"#de77ae\"],[0.3,\"#f1b6da\"],[0.4,\"#fde0ef\"],[0.5,\"#f7f7f7\"],[0.6,\"#e6f5d0\"],[0.7,\"#b8e186\"],[0.8,\"#7fbc41\"],[0.9,\"#4d9221\"],[1,\"#276419\"]],\"sequential\":[[0.0,\"#0d0887\"],[0.1111111111111111,\"#46039f\"],[0.2222222222222222,\"#7201a8\"],[0.3333333333333333,\"#9c179e\"],[0.4444444444444444,\"#bd3786\"],[0.5555555555555556,\"#d8576b\"],[0.6666666666666666,\"#ed7953\"],[0.7777777777777778,\"#fb9f3a\"],[0.8888888888888888,\"#fdca26\"],[1.0,\"#f0f921\"]],\"sequentialminus\":[[0.0,\"#0d0887\"],[0.1111111111111111,\"#46039f\"],[0.2222222222222222,\"#7201a8\"],[0.3333333333333333,\"#9c179e\"],[0.4444444444444444,\"#bd3786\"],[0.5555555555555556,\"#d8576b\"],[0.6666666666666666,\"#ed7953\"],[0.7777777777777778,\"#fb9f3a\"],[0.8888888888888888,\"#fdca26\"],[1.0,\"#f0f921\"]]},\"colorway\":[\"#636efa\",\"#EF553B\",\"#00cc96\",\"#ab63fa\",\"#FFA15A\",\"#19d3f3\",\"#FF6692\",\"#B6E880\",\"#FF97FF\",\"#FECB52\"],\"font\":{\"color\":\"#2a3f5f\"},\"geo\":{\"bgcolor\":\"white\",\"lakecolor\":\"white\",\"landcolor\":\"#E5ECF6\",\"showlakes\":true,\"showland\":true,\"subunitcolor\":\"white\"},\"hoverlabel\":{\"align\":\"left\"},\"hovermode\":\"closest\",\"mapbox\":{\"style\":\"light\"},\"paper_bgcolor\":\"white\",\"plot_bgcolor\":\"#E5ECF6\",\"polar\":{\"angularaxis\":{\"gridcolor\":\"white\",\"linecolor\":\"white\",\"ticks\":\"\"},\"bgcolor\":\"#E5ECF6\",\"radialaxis\":{\"gridcolor\":\"white\",\"linecolor\":\"white\",\"ticks\":\"\"}},\"scene\":{\"xaxis\":{\"backgroundcolor\":\"#E5ECF6\",\"gridcolor\":\"white\",\"gridwidth\":2,\"linecolor\":\"white\",\"showbackground\":true,\"ticks\":\"\",\"zerolinecolor\":\"white\"},\"yaxis\":{\"backgroundcolor\":\"#E5ECF6\",\"gridcolor\":\"white\",\"gridwidth\":2,\"linecolor\":\"white\",\"showbackground\":true,\"ticks\":\"\",\"zerolinecolor\":\"white\"},\"zaxis\":{\"backgroundcolor\":\"#E5ECF6\",\"gridcolor\":\"white\",\"gridwidth\":2,\"linecolor\":\"white\",\"showbackground\":true,\"ticks\":\"\",\"zerolinecolor\":\"white\"}},\"shapedefaults\":{\"line\":{\"color\":\"#2a3f5f\"}},\"ternary\":{\"aaxis\":{\"gridcolor\":\"white\",\"linecolor\":\"white\",\"ticks\":\"\"},\"baxis\":{\"gridcolor\":\"white\",\"linecolor\":\"white\",\"ticks\":\"\"},\"bgcolor\":\"#E5ECF6\",\"caxis\":{\"gridcolor\":\"white\",\"linecolor\":\"white\",\"ticks\":\"\"}},\"title\":{\"x\":0.05},\"xaxis\":{\"automargin\":true,\"gridcolor\":\"white\",\"linecolor\":\"white\",\"ticks\":\"\",\"title\":{\"standoff\":15},\"zerolinecolor\":\"white\",\"zerolinewidth\":2},\"yaxis\":{\"automargin\":true,\"gridcolor\":\"white\",\"linecolor\":\"white\",\"ticks\":\"\",\"title\":{\"standoff\":15},\"zerolinecolor\":\"white\",\"zerolinewidth\":2}}},\"title\":{\"text\":\"Total Vaccines Administered VS Once Vaccinated VS Fully Vaccinated\"},\"xaxis\":{\"title\":{\"text\":\"Monthly From January 2021\"}},\"yaxis\":{\"title\":{\"font\":{\"size\":12},\"text\":\"Total Vaccines Administered, Once Vaccinated & Fully Vaccinated\"}}},                        {\"responsive\": true}                    ).then(function(){\n",
       "                            \n",
       "var gd = document.getElementById('6aef1ea3-ee12-4914-9dd6-102946b53f33');\n",
       "var x = new MutationObserver(function (mutations, observer) {{\n",
       "        var display = window.getComputedStyle(gd).display;\n",
       "        if (!display || display === 'none') {{\n",
       "            console.log([gd, 'removed!']);\n",
       "            Plotly.purge(gd);\n",
       "            observer.disconnect();\n",
       "        }}\n",
       "}});\n",
       "\n",
       "// Listen for the removal of the full notebook cells\n",
       "var notebookContainer = gd.closest('#notebook-container');\n",
       "if (notebookContainer) {{\n",
       "    x.observe(notebookContainer, {childList: true});\n",
       "}}\n",
       "\n",
       "// Listen for the clearing of the current output cell\n",
       "var outputEl = gd.closest('.output');\n",
       "if (outputEl) {{\n",
       "    x.observe(outputEl, {childList: true});\n",
       "}}\n",
       "\n",
       "                        })                };                });            </script>        </div>"
      ]
     },
     "metadata": {},
     "output_type": "display_data"
    }
   ],
   "source": [
    "# Stacked Bar Graph\n",
    "\n",
    "fig = go.Figure(data=[\n",
    "    go.Bar(name='Total Vaccines Administered', \n",
    "           x=vaccines_india_df.month, \n",
    "           y=vaccines_india_df.total_vaccinations, \n",
    "           hovertext=vaccines_india_df.date), \n",
    "    go.Bar(name='People Once Vaccinated', \n",
    "           x=vaccines_india_df.month, \n",
    "           y=vaccines_india_df.people_vaccinated, \n",
    "           hovertext=vaccines_india_df.date), \n",
    "    go.Bar(name='People Fully Vaccinated(Two doses)', \n",
    "           x=vaccines_india_df.month, \n",
    "           y=vaccines_india_df.people_fully_vaccinated, \n",
    "           hovertext=vaccines_india_df.date)\n",
    "])\n",
    "\n",
    "fig.update_xaxes(title='Monthly From January 2021')\n",
    "fig.update_yaxes(title='Total Vaccines Administered, Once Vaccinated & Fully Vaccinated', \n",
    "                 title_font={'size': 12})\n",
    "fig.update_layout(barmode='stack', \n",
    "                  title='Total Vaccines Administered VS Once Vaccinated VS Fully Vaccinated')\n",
    "fig.show()"
   ]
  },
  {
   "cell_type": "code",
   "execution_count": null,
   "id": "6b216155",
   "metadata": {},
   "outputs": [],
   "source": []
  }
 ],
 "metadata": {
  "kernelspec": {
   "display_name": "Python 3 (ipykernel)",
   "language": "python",
   "name": "python3"
  },
  "language_info": {
   "codemirror_mode": {
    "name": "ipython",
    "version": 3
   },
   "file_extension": ".py",
   "mimetype": "text/x-python",
   "name": "python",
   "nbconvert_exporter": "python",
   "pygments_lexer": "ipython3",
   "version": "3.9.5"
  }
 },
 "nbformat": 4,
 "nbformat_minor": 5
}
