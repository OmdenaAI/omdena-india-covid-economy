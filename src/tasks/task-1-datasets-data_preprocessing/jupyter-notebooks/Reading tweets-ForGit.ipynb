{
 "cells": [
  {
   "cell_type": "markdown",
   "metadata": {},
   "source": [
    "# Sample Code Obtain text from tweet IDs using twarc\n",
    "### (prior to using this you need to get your developer keys and install tweepy and twarc)"
   ]
  },
  {
   "cell_type": "code",
   "execution_count": 2,
   "metadata": {},
   "outputs": [],
   "source": [
    "import tweepy\n",
    "import pandas as pd\n",
    "from twarc import Twarc"
   ]
  },
  {
   "cell_type": "code",
   "execution_count": 3,
   "metadata": {},
   "outputs": [],
   "source": [
    "# Authenticate\n",
    "# substitute with your Twitter Developer keys\n",
    "consumer_key= '' \n",
    "consumer_secret= ''"
   ]
  },
  {
   "cell_type": "code",
   "execution_count": 4,
   "metadata": {},
   "outputs": [],
   "source": [
    "access_token=''\n",
    "access_token_secret=''"
   ]
  },
  {
   "cell_type": "code",
   "execution_count": 5,
   "metadata": {},
   "outputs": [],
   "source": [
    "auth = tweepy.OAuthHandler(consumer_key, consumer_secret)\n",
    "auth.set_access_token(access_token, access_token_secret)\n",
    "t = Twarc(consumer_key, consumer_secret, access_token, access_token_secret)\n",
    "api = tweepy.API(auth)"
   ]
  },
  {
   "cell_type": "code",
   "execution_count": 1,
   "metadata": {},
   "outputs": [],
   "source": [
    "# Filepath - can be changed\n",
    "datapath = 'Data/'\n",
    "file1 = datapath + 'corona_tweets_01.csv'"
   ]
  },
  {
   "cell_type": "code",
   "execution_count": 7,
   "metadata": {},
   "outputs": [],
   "source": [
    "df1 = pd.read_csv(file1, header=None)\n",
    "tweetID = df1[0]"
   ]
  },
  {
   "cell_type": "code",
   "execution_count": 16,
   "metadata": {},
   "outputs": [
    {
     "name": "stdout",
     "output_type": "stream",
     "text": [
      "Number of Tweets IDs:  831327\n"
     ]
    }
   ],
   "source": [
    "print('Number of Tweets IDs: ', len(tweetID))"
   ]
  },
  {
   "cell_type": "code",
   "execution_count": 18,
   "metadata": {},
   "outputs": [],
   "source": [
    "# Create a file for the top 100 tweetIDs\n",
    "a = tweetID[0:100]"
   ]
  },
  {
   "cell_type": "code",
   "execution_count": 29,
   "metadata": {},
   "outputs": [],
   "source": [
    "a.to_csv('test_ids.csv', index=None)"
   ]
  },
  {
   "cell_type": "code",
   "execution_count": 44,
   "metadata": {},
   "outputs": [],
   "source": [
    "tweet_text = []\n",
    "for tweet in t.hydrate(open('test_ids.csv')):            \n",
    "    tweet_text.append(tweet['full_text'])    \n",
    "    #print(tweet['id_str'], tweet['full_text'])"
   ]
  },
  {
   "cell_type": "code",
   "execution_count": 48,
   "metadata": {},
   "outputs": [
    {
     "data": {
      "text/plain": [
       "['Pretty much any corona virus germ that wants to or has entered my body these passed hours are all being bodied by these shots of henny https://t.co/HLsSEnRksu',\n",
       " 'RT @RealSaavedra: Good.\\n\\nIt came from China.',\n",
       " 'RT @nicolebyer: Everyone in this looks sick',\n",
       " 'RT @jabinbotsford: Close up of President @realDonaldTrump notes is seen where he crossed out \"Corona\" and replaced it with \"Chinese\" Virus…',\n",
       " 'RT @Biancaixvi: Corona day 3: it just feels like Sunday again and...again',\n",
       " 'RT @FernandoAmandi: China’s irresponsible and criminal behavior in the wake of COVID-19 will leave it in its weakest global position in mem…',\n",
       " 'RT @MarleeMatlin: Pls RT. Dear @WhiteHouse news &amp; press conferences around the country during this Corona Virus Emergency have  sign langua…',\n",
       " 'RT @ioproducer: There was a nasty flu that went round in December / early Jan. I’m telling you, that was corona. Bare ppl were sick (includ…',\n",
       " 'RT @Biancaixvi: Corona day 3: it just feels like Sunday again and...again',\n",
       " \"RT @RealbosstalkDt: Lets start a resource thread for loans and grants for small businesses affected by corona. We'll start: (PLEASE SHARE)…\"]"
      ]
     },
     "execution_count": 48,
     "metadata": {},
     "output_type": "execute_result"
    }
   ],
   "source": [
    "tweet_text[0:10]"
   ]
  },
  {
   "cell_type": "code",
   "execution_count": null,
   "metadata": {},
   "outputs": [],
   "source": []
  }
 ],
 "metadata": {
  "kernelspec": {
   "display_name": "Python 3",
   "language": "python",
   "name": "python3"
  },
  "language_info": {
   "codemirror_mode": {
    "name": "ipython",
    "version": 3
   },
   "file_extension": ".py",
   "mimetype": "text/x-python",
   "name": "python",
   "nbconvert_exporter": "python",
   "pygments_lexer": "ipython3",
   "version": "3.7.7"
  }
 },
 "nbformat": 4,
 "nbformat_minor": 4
}
