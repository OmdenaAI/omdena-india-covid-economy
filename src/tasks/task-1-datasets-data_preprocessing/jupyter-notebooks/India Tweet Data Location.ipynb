{
 "cells": [
  {
   "cell_type": "markdown",
   "metadata": {},
   "source": [
    "India Tweet Drive location https://drive.google.com/drive/folders/158DnCj8UmMSywddVOo-nb4QQZ0IvAWoS?usp=sharing"
   ]
  }
 ],
 "metadata": {
  "kernelspec": {
   "display_name": "Python 3",
   "language": "python",
   "name": "python3"
  },
  "language_info": {
   "codemirror_mode": {
    "name": "ipython",
    "version": 3
   },
   "file_extension": ".py",
   "mimetype": "text/x-python",
   "name": "python",
   "nbconvert_exporter": "python",
   "pygments_lexer": "ipython3",
   "version": "3.7.7"
  }
 },
 "nbformat": 4,
 "nbformat_minor": 4
}
