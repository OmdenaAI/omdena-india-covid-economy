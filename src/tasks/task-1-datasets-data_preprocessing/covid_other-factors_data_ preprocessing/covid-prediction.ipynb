{
 "cells": [
  {
   "cell_type": "code",
   "execution_count": 1,
   "id": "c29add64",
   "metadata": {},
   "outputs": [],
   "source": [
    "import pandas as pd\n",
    "import numpy as np"
   ]
  },
  {
   "cell_type": "markdown",
   "id": "c4bcf650",
   "metadata": {},
   "source": [
    "## Importing data"
   ]
  },
  {
   "cell_type": "code",
   "execution_count": 2,
   "id": "40b40069",
   "metadata": {},
   "outputs": [
    {
     "name": "stderr",
     "output_type": "stream",
     "text": [
      "C:\\Users\\ritvi\\AppData\\Roaming\\Python\\Python39\\site-packages\\IPython\\core\\interactiveshell.py:3169: DtypeWarning: Columns (1,2,3,4,5) have mixed types.Specify dtype option on import or set low_memory=False.\n",
      "  has_raised = await self.run_ast_nodes(code_ast.body, cell_name,\n"
     ]
    }
   ],
   "source": [
    "data = pd.read_csv(\"corona_tested_individuals_ver_006.english.csv\")"
   ]
  },
  {
   "cell_type": "code",
   "execution_count": 3,
   "id": "935b9a99",
   "metadata": {},
   "outputs": [
    {
     "name": "stdout",
     "output_type": "stream",
     "text": [
      "<class 'pandas.core.frame.DataFrame'>\n",
      "RangeIndex: 278848 entries, 0 to 278847\n",
      "Data columns (total 10 columns):\n",
      " #   Column               Non-Null Count   Dtype \n",
      "---  ------               --------------   ----- \n",
      " 0   test_date            278848 non-null  object\n",
      " 1   cough                278848 non-null  object\n",
      " 2   fever                278848 non-null  object\n",
      " 3   sore_throat          278848 non-null  object\n",
      " 4   shortness_of_breath  278848 non-null  object\n",
      " 5   head_ache            278848 non-null  object\n",
      " 6   corona_result        278848 non-null  object\n",
      " 7   age_60_and_above     278848 non-null  object\n",
      " 8   gender               278848 non-null  object\n",
      " 9   test_indication      278848 non-null  object\n",
      "dtypes: object(10)\n",
      "memory usage: 21.3+ MB\n"
     ]
    }
   ],
   "source": [
    "data.info()"
   ]
  },
  {
   "cell_type": "code",
   "execution_count": 4,
   "id": "b91ea5d4",
   "metadata": {},
   "outputs": [
    {
     "data": {
      "text/plain": [
       "Index(['test_date', 'cough', 'fever', 'sore_throat', 'shortness_of_breath',\n",
       "       'head_ache', 'corona_result', 'age_60_and_above', 'gender',\n",
       "       'test_indication'],\n",
       "      dtype='object')"
      ]
     },
     "execution_count": 4,
     "metadata": {},
     "output_type": "execute_result"
    }
   ],
   "source": [
    "data.columns"
   ]
  },
  {
   "cell_type": "markdown",
   "id": "a923e1de",
   "metadata": {},
   "source": [
    "## Preprocessing"
   ]
  },
  {
   "cell_type": "markdown",
   "id": "cd27210a",
   "metadata": {},
   "source": [
    "#### Since test_data is not needed for covid prediction, removing that column"
   ]
  },
  {
   "cell_type": "code",
   "execution_count": 5,
   "id": "5d05ec53",
   "metadata": {},
   "outputs": [],
   "source": [
    "data.drop('test_date', inplace=True, axis=1)"
   ]
  },
  {
   "cell_type": "code",
   "execution_count": 6,
   "id": "19e0ea7f",
   "metadata": {},
   "outputs": [
    {
     "data": {
      "text/plain": [
       "Index(['cough', 'fever', 'sore_throat', 'shortness_of_breath', 'head_ache',\n",
       "       'corona_result', 'age_60_and_above', 'gender', 'test_indication'],\n",
       "      dtype='object')"
      ]
     },
     "execution_count": 6,
     "metadata": {},
     "output_type": "execute_result"
    }
   ],
   "source": [
    "data.columns"
   ]
  },
  {
   "cell_type": "code",
   "execution_count": 7,
   "id": "8007d753",
   "metadata": {},
   "outputs": [
    {
     "data": {
      "text/html": [
       "<div>\n",
       "<style scoped>\n",
       "    .dataframe tbody tr th:only-of-type {\n",
       "        vertical-align: middle;\n",
       "    }\n",
       "\n",
       "    .dataframe tbody tr th {\n",
       "        vertical-align: top;\n",
       "    }\n",
       "\n",
       "    .dataframe thead th {\n",
       "        text-align: right;\n",
       "    }\n",
       "</style>\n",
       "<table border=\"1\" class=\"dataframe\">\n",
       "  <thead>\n",
       "    <tr style=\"text-align: right;\">\n",
       "      <th></th>\n",
       "      <th>cough</th>\n",
       "      <th>fever</th>\n",
       "      <th>sore_throat</th>\n",
       "      <th>shortness_of_breath</th>\n",
       "      <th>head_ache</th>\n",
       "      <th>corona_result</th>\n",
       "      <th>age_60_and_above</th>\n",
       "      <th>gender</th>\n",
       "      <th>test_indication</th>\n",
       "    </tr>\n",
       "  </thead>\n",
       "  <tbody>\n",
       "    <tr>\n",
       "      <th>0</th>\n",
       "      <td>0</td>\n",
       "      <td>0</td>\n",
       "      <td>0</td>\n",
       "      <td>0</td>\n",
       "      <td>0</td>\n",
       "      <td>negative</td>\n",
       "      <td>None</td>\n",
       "      <td>female</td>\n",
       "      <td>Other</td>\n",
       "    </tr>\n",
       "    <tr>\n",
       "      <th>1</th>\n",
       "      <td>1</td>\n",
       "      <td>0</td>\n",
       "      <td>0</td>\n",
       "      <td>0</td>\n",
       "      <td>0</td>\n",
       "      <td>negative</td>\n",
       "      <td>None</td>\n",
       "      <td>female</td>\n",
       "      <td>Other</td>\n",
       "    </tr>\n",
       "    <tr>\n",
       "      <th>2</th>\n",
       "      <td>0</td>\n",
       "      <td>1</td>\n",
       "      <td>0</td>\n",
       "      <td>0</td>\n",
       "      <td>0</td>\n",
       "      <td>negative</td>\n",
       "      <td>None</td>\n",
       "      <td>male</td>\n",
       "      <td>Other</td>\n",
       "    </tr>\n",
       "    <tr>\n",
       "      <th>3</th>\n",
       "      <td>1</td>\n",
       "      <td>0</td>\n",
       "      <td>0</td>\n",
       "      <td>0</td>\n",
       "      <td>0</td>\n",
       "      <td>negative</td>\n",
       "      <td>None</td>\n",
       "      <td>female</td>\n",
       "      <td>Other</td>\n",
       "    </tr>\n",
       "    <tr>\n",
       "      <th>4</th>\n",
       "      <td>1</td>\n",
       "      <td>0</td>\n",
       "      <td>0</td>\n",
       "      <td>0</td>\n",
       "      <td>0</td>\n",
       "      <td>negative</td>\n",
       "      <td>None</td>\n",
       "      <td>male</td>\n",
       "      <td>Other</td>\n",
       "    </tr>\n",
       "  </tbody>\n",
       "</table>\n",
       "</div>"
      ],
      "text/plain": [
       "  cough fever sore_throat shortness_of_breath head_ache corona_result  \\\n",
       "0     0     0           0                   0         0      negative   \n",
       "1     1     0           0                   0         0      negative   \n",
       "2     0     1           0                   0         0      negative   \n",
       "3     1     0           0                   0         0      negative   \n",
       "4     1     0           0                   0         0      negative   \n",
       "\n",
       "  age_60_and_above  gender test_indication  \n",
       "0             None  female           Other  \n",
       "1             None  female           Other  \n",
       "2             None    male           Other  \n",
       "3             None  female           Other  \n",
       "4             None    male           Other  "
      ]
     },
     "execution_count": 7,
     "metadata": {},
     "output_type": "execute_result"
    }
   ],
   "source": [
    "data.head()"
   ]
  },
  {
   "cell_type": "markdown",
   "id": "11ad1310",
   "metadata": {},
   "source": [
    "### Unique values in each column"
   ]
  },
  {
   "cell_type": "code",
   "execution_count": 8,
   "id": "bbd26230",
   "metadata": {},
   "outputs": [
    {
     "data": {
      "text/plain": [
       "array([0, 1, '0', '1', 'None'], dtype=object)"
      ]
     },
     "execution_count": 8,
     "metadata": {},
     "output_type": "execute_result"
    }
   ],
   "source": [
    "data.cough.unique()"
   ]
  },
  {
   "cell_type": "code",
   "execution_count": 9,
   "id": "b0575a04",
   "metadata": {},
   "outputs": [
    {
     "data": {
      "text/plain": [
       "array([0, 1, '0', '1', 'None'], dtype=object)"
      ]
     },
     "execution_count": 9,
     "metadata": {},
     "output_type": "execute_result"
    }
   ],
   "source": [
    "data.fever.unique()"
   ]
  },
  {
   "cell_type": "code",
   "execution_count": 10,
   "id": "1c26bd96",
   "metadata": {},
   "outputs": [
    {
     "data": {
      "text/plain": [
       "array([0, 1, '0', '1', 'None'], dtype=object)"
      ]
     },
     "execution_count": 10,
     "metadata": {},
     "output_type": "execute_result"
    }
   ],
   "source": [
    "data.sore_throat.unique()"
   ]
  },
  {
   "cell_type": "code",
   "execution_count": 11,
   "id": "ee064703",
   "metadata": {},
   "outputs": [
    {
     "data": {
      "text/plain": [
       "array([0, 1, '0', '1', 'None'], dtype=object)"
      ]
     },
     "execution_count": 11,
     "metadata": {},
     "output_type": "execute_result"
    }
   ],
   "source": [
    "data.shortness_of_breath.unique()"
   ]
  },
  {
   "cell_type": "code",
   "execution_count": 12,
   "id": "b9db1696",
   "metadata": {},
   "outputs": [
    {
     "data": {
      "text/plain": [
       "array([0, 1, '0', '1', 'None'], dtype=object)"
      ]
     },
     "execution_count": 12,
     "metadata": {},
     "output_type": "execute_result"
    }
   ],
   "source": [
    "data.head_ache.unique()"
   ]
  },
  {
   "cell_type": "code",
   "execution_count": 13,
   "id": "a26ed53e",
   "metadata": {},
   "outputs": [
    {
     "data": {
      "text/plain": [
       "array(['negative', 'positive', 'other'], dtype=object)"
      ]
     },
     "execution_count": 13,
     "metadata": {},
     "output_type": "execute_result"
    }
   ],
   "source": [
    "data.corona_result.unique()"
   ]
  },
  {
   "cell_type": "code",
   "execution_count": 14,
   "id": "957e1ae3",
   "metadata": {},
   "outputs": [
    {
     "data": {
      "text/plain": [
       "array(['female', 'male', 'None'], dtype=object)"
      ]
     },
     "execution_count": 14,
     "metadata": {},
     "output_type": "execute_result"
    }
   ],
   "source": [
    "data.gender.unique()"
   ]
  },
  {
   "cell_type": "code",
   "execution_count": 15,
   "id": "458c2a72",
   "metadata": {},
   "outputs": [
    {
     "data": {
      "text/plain": [
       "array(['None', 'Yes', 'No'], dtype=object)"
      ]
     },
     "execution_count": 15,
     "metadata": {},
     "output_type": "execute_result"
    }
   ],
   "source": [
    "data.age_60_and_above.unique()"
   ]
  },
  {
   "cell_type": "code",
   "execution_count": 16,
   "id": "9dd7714f",
   "metadata": {},
   "outputs": [
    {
     "data": {
      "text/plain": [
       "array(['Other', 'Abroad', 'Contact with confirmed'], dtype=object)"
      ]
     },
     "execution_count": 16,
     "metadata": {},
     "output_type": "execute_result"
    }
   ],
   "source": [
    "data.test_indication.unique()"
   ]
  },
  {
   "cell_type": "markdown",
   "id": "01f2b998",
   "metadata": {},
   "source": [
    "### Combining the column that have '0' and 0 or '1' and 1 as different values"
   ]
  },
  {
   "cell_type": "code",
   "execution_count": 17,
   "id": "4edd38f7",
   "metadata": {},
   "outputs": [
    {
     "name": "stdout",
     "output_type": "stream",
     "text": [
      "[0 1 'None']\n"
     ]
    }
   ],
   "source": [
    "data.loc[data['cough'] == '0', 'cough'] = 0\n",
    "data.loc[data['cough'] == '1', 'cough'] = 1\n",
    "print(data.cough.unique())"
   ]
  },
  {
   "cell_type": "code",
   "execution_count": 18,
   "id": "bc715da4",
   "metadata": {},
   "outputs": [
    {
     "name": "stdout",
     "output_type": "stream",
     "text": [
      "[0 1 'None']\n"
     ]
    }
   ],
   "source": [
    "data.loc[data['fever'] == '0', 'fever'] = 0\n",
    "data.loc[data['fever'] == '1', 'fever'] = 1\n",
    "print(data.fever.unique())"
   ]
  },
  {
   "cell_type": "code",
   "execution_count": 19,
   "id": "861a28d2",
   "metadata": {},
   "outputs": [
    {
     "name": "stdout",
     "output_type": "stream",
     "text": [
      "[0 1 'None']\n"
     ]
    }
   ],
   "source": [
    "data.loc[data['sore_throat'] == '0', 'sore_throat'] = 0\n",
    "data.loc[data['sore_throat'] == '1', 'sore_throat'] = 1\n",
    "print(data.sore_throat.unique())"
   ]
  },
  {
   "cell_type": "code",
   "execution_count": 20,
   "id": "3a0ebd70",
   "metadata": {},
   "outputs": [
    {
     "name": "stdout",
     "output_type": "stream",
     "text": [
      "[0 1 'None']\n"
     ]
    }
   ],
   "source": [
    "data.loc[data['shortness_of_breath'] == '0', 'shortness_of_breath'] = 0\n",
    "data.loc[data['shortness_of_breath'] == '1', 'shortness_of_breath'] = 1\n",
    "print(data.shortness_of_breath.unique())"
   ]
  },
  {
   "cell_type": "code",
   "execution_count": 21,
   "id": "fdf74576",
   "metadata": {},
   "outputs": [
    {
     "name": "stdout",
     "output_type": "stream",
     "text": [
      "[0 1 'None']\n"
     ]
    }
   ],
   "source": [
    "data.loc[data['head_ache'] == '0', 'head_ache'] = 0\n",
    "data.loc[data['head_ache'] == '1', 'head_ache'] = 1\n",
    "print(data.head_ache.unique())"
   ]
  },
  {
   "cell_type": "markdown",
   "id": "02103647",
   "metadata": {},
   "source": [
    "### Replacing 'None' value with NaN"
   ]
  },
  {
   "cell_type": "code",
   "execution_count": 22,
   "id": "c73ab9c4",
   "metadata": {},
   "outputs": [],
   "source": [
    "data.replace('None',np.nan,inplace=True)"
   ]
  },
  {
   "cell_type": "code",
   "execution_count": 23,
   "id": "d7645ef5",
   "metadata": {},
   "outputs": [],
   "source": [
    "data = data[data.corona_result != 'other']"
   ]
  },
  {
   "cell_type": "code",
   "execution_count": 24,
   "id": "a51817fb",
   "metadata": {},
   "outputs": [
    {
     "data": {
      "text/plain": [
       "array(['negative', 'positive'], dtype=object)"
      ]
     },
     "execution_count": 24,
     "metadata": {},
     "output_type": "execute_result"
    }
   ],
   "source": [
    "data.corona_result.unique()"
   ]
  },
  {
   "cell_type": "markdown",
   "id": "08e61497",
   "metadata": {},
   "source": [
    "### Dropping rows with unknown values in them"
   ]
  },
  {
   "cell_type": "code",
   "execution_count": 25,
   "id": "f32920bb",
   "metadata": {},
   "outputs": [],
   "source": [
    "data.dropna(inplace=True) "
   ]
  },
  {
   "cell_type": "code",
   "execution_count": 26,
   "id": "25d42ebf",
   "metadata": {},
   "outputs": [
    {
     "data": {
      "text/plain": [
       "(136294, 9)"
      ]
     },
     "execution_count": 26,
     "metadata": {},
     "output_type": "execute_result"
    }
   ],
   "source": [
    "data.shape"
   ]
  },
  {
   "cell_type": "markdown",
   "id": "cccdc551",
   "metadata": {},
   "source": [
    "## Using Label Encoding to handle categorical variables on  gender, age_60_and_above, test_indication and corona_result"
   ]
  },
  {
   "cell_type": "code",
   "execution_count": 27,
   "id": "172cf3ef",
   "metadata": {},
   "outputs": [],
   "source": [
    "from sklearn import preprocessing\n",
    "label_encoder = preprocessing.LabelEncoder()"
   ]
  },
  {
   "cell_type": "code",
   "execution_count": 28,
   "id": "6be9945e",
   "metadata": {},
   "outputs": [
    {
     "name": "stdout",
     "output_type": "stream",
     "text": [
      "Before:  ['male' 'female']\n",
      "After:  [1 0]\n"
     ]
    }
   ],
   "source": [
    "print(\"Before: \", data['gender'].unique())\n",
    "\n",
    "data['gender']= label_encoder.fit_transform(data['gender'])\n",
    "\n",
    "print(\"After: \", data['gender'].unique())"
   ]
  },
  {
   "cell_type": "code",
   "execution_count": 29,
   "id": "53566d45",
   "metadata": {},
   "outputs": [
    {
     "name": "stdout",
     "output_type": "stream",
     "text": [
      "Before:  ['Yes' 'No']\n",
      "After:  [1 0]\n"
     ]
    }
   ],
   "source": [
    "print(\"Before: \", data['age_60_and_above'].unique())\n",
    "\n",
    "data['age_60_and_above']= label_encoder.fit_transform(data['age_60_and_above'])\n",
    "\n",
    "print(\"After: \", data['age_60_and_above'].unique())"
   ]
  },
  {
   "cell_type": "code",
   "execution_count": 30,
   "id": "5ee7e759",
   "metadata": {},
   "outputs": [
    {
     "name": "stdout",
     "output_type": "stream",
     "text": [
      "Before:  ['Other' 'Abroad' 'Contact with confirmed']\n",
      "After:  [2 0 1]\n"
     ]
    }
   ],
   "source": [
    "print(\"Before: \", data['test_indication'].unique())\n",
    "\n",
    "data['test_indication']= label_encoder.fit_transform(data['test_indication'])\n",
    "\n",
    "print(\"After: \", data['test_indication'].unique())"
   ]
  },
  {
   "cell_type": "code",
   "execution_count": 31,
   "id": "a7f0f98a",
   "metadata": {},
   "outputs": [
    {
     "name": "stdout",
     "output_type": "stream",
     "text": [
      "Before:  ['negative' 'positive']\n",
      "After:  [0 1]\n"
     ]
    }
   ],
   "source": [
    "print(\"Before: \", data['corona_result'].unique())\n",
    "\n",
    "data['corona_result']= label_encoder.fit_transform(data['corona_result'])\n",
    "\n",
    "print(\"After: \", data['corona_result'].unique())"
   ]
  },
  {
   "cell_type": "code",
   "execution_count": 32,
   "id": "0b111538",
   "metadata": {},
   "outputs": [
    {
     "name": "stdout",
     "output_type": "stream",
     "text": [
      "<class 'pandas.core.frame.DataFrame'>\n",
      "Int64Index: 136294 entries, 122808 to 265120\n",
      "Data columns (total 9 columns):\n",
      " #   Column               Non-Null Count   Dtype  \n",
      "---  ------               --------------   -----  \n",
      " 0   cough                136294 non-null  float64\n",
      " 1   fever                136294 non-null  float64\n",
      " 2   sore_throat          136294 non-null  float64\n",
      " 3   shortness_of_breath  136294 non-null  float64\n",
      " 4   head_ache            136294 non-null  float64\n",
      " 5   corona_result        136294 non-null  int32  \n",
      " 6   age_60_and_above     136294 non-null  int32  \n",
      " 7   gender               136294 non-null  int32  \n",
      " 8   test_indication      136294 non-null  int32  \n",
      "dtypes: float64(5), int32(4)\n",
      "memory usage: 8.3 MB\n"
     ]
    }
   ],
   "source": [
    "data.info()"
   ]
  },
  {
   "cell_type": "markdown",
   "id": "b72d4a81",
   "metadata": {},
   "source": [
    "### Saving the dataframe to csv"
   ]
  },
  {
   "cell_type": "code",
   "execution_count": 33,
   "id": "ba0082f5",
   "metadata": {},
   "outputs": [],
   "source": [
    "data.to_csv(\"covidpred-preprocessed.csv\")"
   ]
  },
  {
   "cell_type": "code",
   "execution_count": null,
   "id": "f83be898",
   "metadata": {},
   "outputs": [],
   "source": []
  }
 ],
 "metadata": {
  "kernelspec": {
   "display_name": "Python 3.6 (tensorflow)",
   "language": "python",
   "name": "tensorflow"
  },
  "language_info": {
   "codemirror_mode": {
    "name": "ipython",
    "version": 3
   },
   "file_extension": ".py",
   "mimetype": "text/x-python",
   "name": "python",
   "nbconvert_exporter": "python",
   "pygments_lexer": "ipython3",
   "version": "3.9.4"
  }
 },
 "nbformat": 4,
 "nbformat_minor": 5
}
