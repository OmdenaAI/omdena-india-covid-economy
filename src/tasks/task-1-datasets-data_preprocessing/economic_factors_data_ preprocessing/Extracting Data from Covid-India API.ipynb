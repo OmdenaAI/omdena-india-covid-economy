{
 "cells": [
  {
   "cell_type": "markdown",
   "id": "d9ccae95",
   "metadata": {},
   "source": [
    "## Fetching real-time data from Covid-India API\n",
    "- The data is fetched from the following API: https://api.covid19india.org/\n",
    "- This data is real-time and can be used for building the final dashboard\n",
    "- The data is state-wise and daily data, starting from March 2020\n",
    "- It contains the <b> number of confirmed , number of recovered, number of deceased and number of tested cases</b> for each day\n",
    "- The steps performed in this file are \n",
    "    1. Fetching of data from API\n",
    "    2. Converting the jSON data into csv\n",
    "    \n",
    "    \n",
    "- Notebook by Aditi Aggrawal \n"
   ]
  },
  {
   "cell_type": "code",
   "execution_count": 1,
   "id": "8f4d81eb",
   "metadata": {},
   "outputs": [],
   "source": [
    "import pandas as pd\n",
    "import requests\n",
    "import csv"
   ]
  },
  {
   "cell_type": "markdown",
   "id": "849a6343",
   "metadata": {},
   "source": [
    "### Function for fetching data"
   ]
  },
  {
   "cell_type": "code",
   "execution_count": 2,
   "id": "4490d85f",
   "metadata": {},
   "outputs": [],
   "source": [
    "def getDataJson(url):\n",
    "    req = requests.get(url)\n",
    "    url_content = req.json()\n",
    "    return url_content"
   ]
  },
  {
   "cell_type": "markdown",
   "id": "fbdb7d1e",
   "metadata": {},
   "source": [
    "### Daily data (C, R, D, T) per state, corresponding to each state"
   ]
  },
  {
   "cell_type": "code",
   "execution_count": 3,
   "id": "0c233635",
   "metadata": {},
   "outputs": [],
   "source": [
    "url_content = getDataJson(\"https://api.covid19india.org/v4/min/timeseries.min.json\") \n"
   ]
  },
  {
   "cell_type": "code",
   "execution_count": 4,
   "id": "4dcc109f",
   "metadata": {},
   "outputs": [],
   "source": [
    "#url_content['DL']['dates']"
   ]
  },
  {
   "cell_type": "markdown",
   "id": "51635e7d",
   "metadata": {},
   "source": [
    "### Saving the data to csv "
   ]
  },
  {
   "cell_type": "code",
   "execution_count": 5,
   "id": "f60d256f",
   "metadata": {},
   "outputs": [
    {
     "name": "stdout",
     "output_type": "stream",
     "text": [
      "      State        Date  Confirmed  Recovered  Deceased  Tested\n",
      "0        AN  2020-03-26          1       <NA>      <NA>    <NA>\n",
      "1        AN  2020-03-27          5       <NA>      <NA>    <NA>\n",
      "2        AN  2020-03-28          3       <NA>      <NA>    <NA>\n",
      "3        AN  2020-03-30          1       <NA>      <NA>    <NA>\n",
      "4        AN  2020-04-08          1       <NA>      <NA>    <NA>\n",
      "...     ...         ...        ...        ...       ...     ...\n",
      "17931    WB  2021-07-31        769        819         8   42209\n",
      "17932    WB  2021-08-01        701        827        13   43617\n",
      "17933    WB  2021-08-02        575        734        12   33215\n",
      "17934    WB  2021-08-03        729        756         9   43532\n",
      "17935    WB  2021-08-04        826        838        10   52481\n",
      "\n",
      "[17936 rows x 6 columns]\n"
     ]
    }
   ],
   "source": [
    "rows = []\n",
    "mydict = url_content\n",
    "\n",
    "row=[]\n",
    "\n",
    "for state in mydict.keys():\n",
    "    row.append(state)\n",
    "    state_data = mydict[state]\n",
    "    dates_data = state_data['dates']\n",
    "\n",
    "    for date in dates_data.keys():\n",
    "        if dates_data[date].get('delta') is None:\n",
    "            continue;\n",
    "            \n",
    "        date_total_data = dates_data[date]['delta']\n",
    "        nc = date_total_data.get('confirmed', None)\n",
    "        nr = date_total_data.get('recovered', None)\n",
    "        nd = date_total_data.get('deceased', None)\n",
    "        nt = date_total_data.get('tested', None)\n",
    "        \n",
    "        row.append(date) \n",
    "        row.append(nc) \n",
    "        row.append(nr) \n",
    "        row.append(nd) \n",
    "        row.append(nt) \n",
    "        \n",
    "        rows.append(row)\n",
    "    \n",
    "        row=[]\n",
    "        row.append(state)\n",
    "    \n",
    "    row=[]\n",
    "        \n",
    "    \n",
    "df = pd.DataFrame(rows)\n",
    "df.columns = ['State', 'Date', 'Confirmed', 'Recovered', 'Deceased', 'Tested']\n",
    "df['Confirmed']=df['Confirmed'].astype('Int64')\n",
    "df['Recovered']=df['Recovered'].astype('Int64')\n",
    "df['Deceased']=df['Deceased'].astype('Int64')\n",
    "df['Tested']=df['Tested'].astype('Int64')\n",
    "\n",
    "\n",
    "print(df)\n"
   ]
  },
  {
   "cell_type": "code",
   "execution_count": 6,
   "id": "42e39580",
   "metadata": {},
   "outputs": [],
   "source": [
    "df.to_csv('Mortality_Rate_delta.csv', index=False)  "
   ]
  },
  {
   "cell_type": "markdown",
   "id": "7125c3fa",
   "metadata": {},
   "source": [
    "### State-wise data"
   ]
  },
  {
   "cell_type": "code",
   "execution_count": 106,
   "id": "b58c0e40",
   "metadata": {},
   "outputs": [],
   "source": [
    "url_content = getDataJson(\"https://api.covid19india.org/v4/min/data.min.json\") \n",
    "#list(url_content.keys())"
   ]
  },
  {
   "cell_type": "code",
   "execution_count": 105,
   "id": "46ec9d20",
   "metadata": {},
   "outputs": [],
   "source": [
    "#url_content['DL']"
   ]
  },
  {
   "cell_type": "markdown",
   "id": "7dbd4220",
   "metadata": {},
   "source": [
    "### Daily state-wise data, corresponding to each date"
   ]
  },
  {
   "cell_type": "code",
   "execution_count": 103,
   "id": "3ce95e66",
   "metadata": {},
   "outputs": [],
   "source": [
    "url_content = getDataJson(\"https://api.covid19india.org/v4/min/data-all.min.json\") \n",
    "#list(url_content.keys())"
   ]
  },
  {
   "cell_type": "code",
   "execution_count": 104,
   "id": "decd19f2",
   "metadata": {},
   "outputs": [],
   "source": [
    "#url_content['2020-03-24']"
   ]
  },
  {
   "cell_type": "code",
   "execution_count": null,
   "id": "2c86ec0c",
   "metadata": {},
   "outputs": [],
   "source": []
  }
 ],
 "metadata": {
  "kernelspec": {
   "display_name": "Python 3",
   "language": "python",
   "name": "python3"
  },
  "language_info": {
   "codemirror_mode": {
    "name": "ipython",
    "version": 3
   },
   "file_extension": ".py",
   "mimetype": "text/x-python",
   "name": "python",
   "nbconvert_exporter": "python",
   "pygments_lexer": "ipython3",
   "version": "3.8.8"
  }
 },
 "nbformat": 4,
 "nbformat_minor": 5
}
