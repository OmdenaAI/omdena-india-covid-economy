{
 "cells": [
  {
   "cell_type": "code",
   "execution_count": 1,
   "id": "anonymous-qatar",
   "metadata": {},
   "outputs": [],
   "source": [
    "import pandas as pd"
   ]
  },
  {
   "cell_type": "code",
   "execution_count": 2,
   "id": "educated-zealand",
   "metadata": {},
   "outputs": [],
   "source": [
    "cleaned_tweets = pd.read_csv('Cleaned_India_Covid_tweets.csv')"
   ]
  },
  {
   "cell_type": "code",
   "execution_count": 14,
   "id": "floral-presence",
   "metadata": {},
   "outputs": [
    {
     "name": "stdout",
     "output_type": "stream",
     "text": [
      "(109728, 1)\n"
     ]
    },
    {
     "data": {
      "text/html": [
       "<div>\n",
       "<style scoped>\n",
       "    .dataframe tbody tr th:only-of-type {\n",
       "        vertical-align: middle;\n",
       "    }\n",
       "\n",
       "    .dataframe tbody tr th {\n",
       "        vertical-align: top;\n",
       "    }\n",
       "\n",
       "    .dataframe thead th {\n",
       "        text-align: right;\n",
       "    }\n",
       "</style>\n",
       "<table border=\"1\" class=\"dataframe\">\n",
       "  <thead>\n",
       "    <tr style=\"text-align: right;\">\n",
       "      <th></th>\n",
       "      <th>text</th>\n",
       "    </tr>\n",
       "  </thead>\n",
       "  <tbody>\n",
       "    <tr>\n",
       "      <th>0</th>\n",
       "      <td>sacrificed everything protect corona patients ...</td>\n",
       "    </tr>\n",
       "    <tr>\n",
       "      <th>1</th>\n",
       "      <td>alert shall new norms laws movement stricter o...</td>\n",
       "    </tr>\n",
       "    <tr>\n",
       "      <th>2</th>\n",
       "      <td>seven promises need make extra care senior cit...</td>\n",
       "    </tr>\n",
       "    <tr>\n",
       "      <th>3</th>\n",
       "      <td>please move unnecessarily help prevent</td>\n",
       "    </tr>\n",
       "    <tr>\n",
       "      <th>4</th>\n",
       "      <td>dear leader nation modi ji suggestion need fol...</td>\n",
       "    </tr>\n",
       "  </tbody>\n",
       "</table>\n",
       "</div>"
      ],
      "text/plain": [
       "                                                text\n",
       "0  sacrificed everything protect corona patients ...\n",
       "1  alert shall new norms laws movement stricter o...\n",
       "2  seven promises need make extra care senior cit...\n",
       "3             please move unnecessarily help prevent\n",
       "4  dear leader nation modi ji suggestion need fol..."
      ]
     },
     "execution_count": 14,
     "metadata": {},
     "output_type": "execute_result"
    }
   ],
   "source": [
    "print(cleaned_tweets.shape)\n",
    "cleaned_tweets.head()"
   ]
  },
  {
   "cell_type": "code",
   "execution_count": 15,
   "id": "collected-assist",
   "metadata": {},
   "outputs": [],
   "source": [
    "april2020_Tweet_Text = pd.read_csv('April2020_TweetText.csv')"
   ]
  },
  {
   "cell_type": "code",
   "execution_count": 16,
   "id": "forty-defendant",
   "metadata": {},
   "outputs": [
    {
     "name": "stdout",
     "output_type": "stream",
     "text": [
      "Requirement already satisfied: wordcloud in c:\\users\\ashish\\anaconda3\\lib\\site-packages (1.8.1)\n",
      "Requirement already satisfied: matplotlib in c:\\users\\ashish\\anaconda3\\lib\\site-packages (from wordcloud) (3.3.4)\n",
      "Requirement already satisfied: numpy>=1.6.1 in c:\\users\\ashish\\anaconda3\\lib\\site-packages (from wordcloud) (1.19.5)\n",
      "Requirement already satisfied: pillow in c:\\users\\ashish\\anaconda3\\lib\\site-packages (from wordcloud) (8.1.2)\n",
      "Requirement already satisfied: cycler>=0.10 in c:\\users\\ashish\\anaconda3\\lib\\site-packages (from matplotlib->wordcloud) (0.10.0)\n",
      "Requirement already satisfied: pyparsing!=2.0.4,!=2.1.2,!=2.1.6,>=2.0.3 in c:\\users\\ashish\\anaconda3\\lib\\site-packages (from matplotlib->wordcloud) (2.4.7)\n",
      "Requirement already satisfied: kiwisolver>=1.0.1 in c:\\users\\ashish\\anaconda3\\lib\\site-packages (from matplotlib->wordcloud) (1.3.1)\n",
      "Requirement already satisfied: python-dateutil>=2.1 in c:\\users\\ashish\\anaconda3\\lib\\site-packages (from matplotlib->wordcloud) (2.8.1)\n",
      "Requirement already satisfied: six in c:\\users\\ashish\\anaconda3\\lib\\site-packages (from cycler>=0.10->matplotlib->wordcloud) (1.15.0)\n"
     ]
    },
    {
     "name": "stderr",
     "output_type": "stream",
     "text": [
      "WARNING: You are using pip version 19.2.3, however version 21.1.3 is available.\n",
      "You should consider upgrading via the 'python -m pip install --upgrade pip' command.\n"
     ]
    }
   ],
   "source": [
    "! pip install wordcloud"
   ]
  },
  {
   "cell_type": "code",
   "execution_count": 17,
   "id": "healthy-tourism",
   "metadata": {},
   "outputs": [],
   "source": [
    "import nltk\n",
    "from wordcloud import WordCloud, STOPWORDS"
   ]
  },
  {
   "cell_type": "code",
   "execution_count": 18,
   "id": "amateur-twins",
   "metadata": {},
   "outputs": [],
   "source": [
    "stopwords = set(STOPWORDS)"
   ]
  },
  {
   "cell_type": "code",
   "execution_count": 19,
   "id": "outside-argentina",
   "metadata": {},
   "outputs": [],
   "source": [
    "a = cleaned_tweets.head(10)"
   ]
  },
  {
   "cell_type": "code",
   "execution_count": 20,
   "id": "binary-bulgaria",
   "metadata": {},
   "outputs": [],
   "source": [
    "tweets = a.text.to_list()"
   ]
  },
  {
   "cell_type": "code",
   "execution_count": 21,
   "id": "palestinian-comparison",
   "metadata": {},
   "outputs": [
    {
     "data": {
      "text/plain": [
       "list"
      ]
     },
     "execution_count": 21,
     "metadata": {},
     "output_type": "execute_result"
    }
   ],
   "source": [
    "type(tweets)"
   ]
  },
  {
   "cell_type": "code",
   "execution_count": 22,
   "id": "unexpected-youth",
   "metadata": {},
   "outputs": [],
   "source": [
    "tweets.append(f'my name is ashish and i am {21.01} year old')"
   ]
  },
  {
   "cell_type": "code",
   "execution_count": 23,
   "id": "welcome-liberty",
   "metadata": {},
   "outputs": [],
   "source": [
    "text = ' '.join(tweets)"
   ]
  },
  {
   "cell_type": "code",
   "execution_count": 24,
   "id": "confident-dating",
   "metadata": {},
   "outputs": [
    {
     "data": {
      "text/plain": [
       "['sacrificed',\n",
       " 'everything',\n",
       " 'protect',\n",
       " 'corona',\n",
       " 'patients',\n",
       " 'regardless',\n",
       " 'lives',\n",
       " 'alert',\n",
       " 'shall',\n",
       " 'new',\n",
       " 'norms',\n",
       " 'laws',\n",
       " 'movement',\n",
       " 'stricter',\n",
       " 'offending',\n",
       " 'seven',\n",
       " 'promises',\n",
       " 'need',\n",
       " 'make',\n",
       " 'extra',\n",
       " 'care',\n",
       " 'senior',\n",
       " 'citizen',\n",
       " 'family',\n",
       " 'maintain',\n",
       " 'social',\n",
       " 'distancing',\n",
       " 'follow',\n",
       " 'directions',\n",
       " 'ayush',\n",
       " 'mantralay',\n",
       " 'download',\n",
       " 'arogya',\n",
       " 'setu',\n",
       " 'app',\n",
       " 'feed',\n",
       " 'needy',\n",
       " 'fire',\n",
       " 'employees',\n",
       " 'appreciate',\n",
       " 'corona',\n",
       " 'warriors',\n",
       " 'please',\n",
       " 'move',\n",
       " 'unnecessarily',\n",
       " 'help',\n",
       " 'prevent',\n",
       " 'dear',\n",
       " 'leader',\n",
       " 'nation',\n",
       " 'modi',\n",
       " 'ji',\n",
       " 'suggestion',\n",
       " 'need',\n",
       " 'follow',\n",
       " 'tt',\n",
       " 'principle',\n",
       " 'testing',\n",
       " 'tracing',\n",
       " 'maximum',\n",
       " 'tracing',\n",
       " 'testing',\n",
       " 'lead',\n",
       " 'reduce',\n",
       " 'number',\n",
       " 'cases',\n",
       " 'corona',\n",
       " 'active',\n",
       " 'curve',\n",
       " 'start',\n",
       " 'coming',\n",
       " 'jai',\n",
       " 'hind',\n",
       " 'saptapadi',\n",
       " 'pm',\n",
       " 'tasks',\n",
       " 'care',\n",
       " 'elders',\n",
       " 'sick',\n",
       " 'social',\n",
       " 'distance',\n",
       " 'wear',\n",
       " 'masks',\n",
       " 'enhance',\n",
       " 'immunity',\n",
       " 'follow',\n",
       " 'ministry',\n",
       " 'directions',\n",
       " 'download',\n",
       " 'arogya',\n",
       " 'setu',\n",
       " 'app',\n",
       " 'help',\n",
       " 'poor',\n",
       " 'needy',\n",
       " 'remove',\n",
       " 'employees',\n",
       " 'honour',\n",
       " 'corona',\n",
       " 'warriors',\n",
       " 'docs',\n",
       " 'nurses',\n",
       " 'workers',\n",
       " 'police',\n",
       " 'seven',\n",
       " 'promises',\n",
       " 'need',\n",
       " 'make',\n",
       " 'extra',\n",
       " 'care',\n",
       " 'senior',\n",
       " 'citizen',\n",
       " 'family',\n",
       " 'maintain',\n",
       " 'social',\n",
       " 'distancing',\n",
       " 'follow',\n",
       " 'directions',\n",
       " 'ayush',\n",
       " 'mantralay',\n",
       " 'download',\n",
       " 'arogya',\n",
       " 'setu',\n",
       " 'app',\n",
       " 'feed',\n",
       " 'needy',\n",
       " 'fire',\n",
       " 'employees',\n",
       " 'appreciate',\n",
       " 'corona',\n",
       " 'warriors',\n",
       " 'pm',\n",
       " 'pleas',\n",
       " 'take',\n",
       " 'care',\n",
       " 'elderly',\n",
       " 'strictly',\n",
       " 'follow',\n",
       " 'guidelines',\n",
       " 'lockdown',\n",
       " 'increase',\n",
       " 'immunity',\n",
       " 'follow',\n",
       " 'ayush',\n",
       " 'ministry',\n",
       " 'guidelines',\n",
       " 'download',\n",
       " 'arogya',\n",
       " 'setu',\n",
       " 'app',\n",
       " 'help',\n",
       " 'poor',\n",
       " 'families',\n",
       " 'take',\n",
       " 'away',\n",
       " 'jobs',\n",
       " 'employees',\n",
       " 'respect',\n",
       " 'corona',\n",
       " 'warriors',\n",
       " 'saptapadi',\n",
       " 'take',\n",
       " 'care',\n",
       " 'elderly',\n",
       " 'strictly',\n",
       " 'follow',\n",
       " 'guidelines',\n",
       " 'lockdown',\n",
       " 'increase',\n",
       " 'immunity',\n",
       " 'follow',\n",
       " 'ayush',\n",
       " 'ministry',\n",
       " 'guidelines',\n",
       " 'download',\n",
       " 'arogya',\n",
       " 'setu',\n",
       " 'app',\n",
       " 'help',\n",
       " 'poor',\n",
       " 'families',\n",
       " 'take',\n",
       " 'away',\n",
       " 'jobs',\n",
       " 'employees',\n",
       " 'respect',\n",
       " 'corona',\n",
       " 'warriors',\n",
       " 'fight',\n",
       " 'corona',\n",
       " 'media',\n",
       " 'used',\n",
       " 'many',\n",
       " 'celebrities',\n",
       " 'dharam',\n",
       " 'gurus',\n",
       " 'like',\n",
       " 'radha',\n",
       " 'swamis',\n",
       " 'even',\n",
       " 'baba',\n",
       " 'ram',\n",
       " 'rahim',\n",
       " 'roped',\n",
       " 'advisehisfollowers',\n",
       " 'many',\n",
       " 'gurus',\n",
       " 'send',\n",
       " 'msg',\n",
       " 'need',\n",
       " 'save',\n",
       " 'india',\n",
       " 'my',\n",
       " 'name',\n",
       " 'is',\n",
       " 'ashish',\n",
       " 'and',\n",
       " 'i',\n",
       " 'am',\n",
       " '21.01',\n",
       " 'year',\n",
       " 'old']"
      ]
     },
     "execution_count": 24,
     "metadata": {},
     "output_type": "execute_result"
    }
   ],
   "source": [
    "text.split(' ')"
   ]
  },
  {
   "cell_type": "code",
   "execution_count": 14,
   "id": "recovered-automation",
   "metadata": {},
   "outputs": [],
   "source": [
    "b = []\n",
    "for i in text.split():\n",
    "    if i not in stopwords:\n",
    "        b.append(i)"
   ]
  },
  {
   "cell_type": "code",
   "execution_count": 15,
   "id": "pharmaceutical-found",
   "metadata": {},
   "outputs": [],
   "source": [
    "b.count(b[2])\n",
    "count = {}\n",
    "for i in range(len(b)):\n",
    "    count[b[i]] = b.count(b[i])"
   ]
  },
  {
   "cell_type": "code",
   "execution_count": 16,
   "id": "occupational-shannon",
   "metadata": {},
   "outputs": [
    {
     "data": {
      "text/plain": [
       "{'sacrificed': 1,\n",
       " 'everything': 1,\n",
       " 'protect': 1,\n",
       " 'corona': 8,\n",
       " 'patients': 1,\n",
       " 'regardless': 1,\n",
       " 'lives': 1,\n",
       " 'alert': 1,\n",
       " 'new': 1,\n",
       " 'norms': 1,\n",
       " 'laws': 1,\n",
       " 'movement': 1,\n",
       " 'stricter': 1,\n",
       " 'offending': 1,\n",
       " 'seven': 2,\n",
       " 'promises': 2,\n",
       " 'need': 4,\n",
       " 'make': 2,\n",
       " 'extra': 2,\n",
       " 'care': 5,\n",
       " 'senior': 2,\n",
       " 'citizen': 2,\n",
       " 'family': 2,\n",
       " 'maintain': 2,\n",
       " 'social': 3,\n",
       " 'distancing': 2,\n",
       " 'follow': 8,\n",
       " 'directions': 3,\n",
       " 'ayush': 4,\n",
       " 'mantralay': 2,\n",
       " 'download': 5,\n",
       " 'arogya': 5,\n",
       " 'setu': 5,\n",
       " 'app': 5,\n",
       " 'feed': 2,\n",
       " 'needy': 3,\n",
       " 'fire': 2,\n",
       " 'employees': 5,\n",
       " 'appreciate': 2,\n",
       " 'warriors': 5,\n",
       " 'please': 1,\n",
       " 'move': 1,\n",
       " 'unnecessarily': 1,\n",
       " 'help': 4,\n",
       " 'prevent': 1,\n",
       " 'dear': 1,\n",
       " 'leader': 1,\n",
       " 'nation': 1,\n",
       " 'modi': 1,\n",
       " 'ji': 1,\n",
       " 'suggestion': 1,\n",
       " 'tt': 1,\n",
       " 'principle': 1,\n",
       " 'testing': 2,\n",
       " 'tracing': 2,\n",
       " 'maximum': 1,\n",
       " 'lead': 1,\n",
       " 'reduce': 1,\n",
       " 'number': 1,\n",
       " 'cases': 1,\n",
       " 'active': 1,\n",
       " 'curve': 1,\n",
       " 'start': 1,\n",
       " 'coming': 1,\n",
       " 'jai': 1,\n",
       " 'hind': 1,\n",
       " 'saptapadi': 2,\n",
       " 'pm': 2,\n",
       " 'tasks': 1,\n",
       " 'elders': 1,\n",
       " 'sick': 1,\n",
       " 'distance': 1,\n",
       " 'wear': 1,\n",
       " 'masks': 1,\n",
       " 'enhance': 1,\n",
       " 'immunity': 3,\n",
       " 'ministry': 3,\n",
       " 'poor': 3,\n",
       " 'remove': 1,\n",
       " 'honour': 1,\n",
       " 'docs': 1,\n",
       " 'nurses': 1,\n",
       " 'workers': 1,\n",
       " 'police': 1,\n",
       " 'pleas': 1,\n",
       " 'take': 4,\n",
       " 'elderly': 2,\n",
       " 'strictly': 2,\n",
       " 'guidelines': 4,\n",
       " 'lockdown': 2,\n",
       " 'increase': 2,\n",
       " 'families': 2,\n",
       " 'away': 2,\n",
       " 'jobs': 2,\n",
       " 'respect': 2,\n",
       " 'fight': 1,\n",
       " 'media': 1,\n",
       " 'used': 1,\n",
       " 'many': 2,\n",
       " 'celebrities': 1,\n",
       " 'dharam': 1,\n",
       " 'gurus': 2,\n",
       " 'radha': 1,\n",
       " 'swamis': 1,\n",
       " 'even': 1,\n",
       " 'baba': 1,\n",
       " 'ram': 1,\n",
       " 'rahim': 1,\n",
       " 'roped': 1,\n",
       " 'advisehisfollowers': 1,\n",
       " 'send': 1,\n",
       " 'msg': 1,\n",
       " 'save': 1,\n",
       " 'india': 1,\n",
       " 'name': 1,\n",
       " 'ashish': 1,\n",
       " '21.01': 1,\n",
       " 'year': 1,\n",
       " 'old': 1}"
      ]
     },
     "execution_count": 16,
     "metadata": {},
     "output_type": "execute_result"
    }
   ],
   "source": [
    "count"
   ]
  },
  {
   "cell_type": "code",
   "execution_count": 17,
   "id": "outstanding-injury",
   "metadata": {},
   "outputs": [
    {
     "data": {
      "text/plain": [
       "text    195\n",
       "dtype: int64"
      ]
     },
     "execution_count": 17,
     "metadata": {},
     "output_type": "execute_result"
    }
   ],
   "source": [
    "cleaned_tweets.isna().sum()"
   ]
  },
  {
   "cell_type": "code",
   "execution_count": 25,
   "id": "romantic-compensation",
   "metadata": {},
   "outputs": [],
   "source": [
    "cleaned_tweets.dropna(inplace=True)"
   ]
  },
  {
   "cell_type": "markdown",
   "id": "ecological-migration",
   "metadata": {},
   "source": [
    "**afinn score**\n",
    "** **"
   ]
  },
  {
   "cell_type": "code",
   "execution_count": 20,
   "id": "optimum-mobile",
   "metadata": {},
   "outputs": [
    {
     "name": "stdout",
     "output_type": "stream",
     "text": [
      "Requirement already satisfied: afinn in c:\\users\\ashish\\anaconda3\\lib\\site-packages (0.1)"
     ]
    },
    {
     "name": "stderr",
     "output_type": "stream",
     "text": [
      "WARNING: You are using pip version 19.2.3, however version 21.1.3 is available.\n",
      "You should consider upgrading via the 'python -m pip install --upgrade pip' command.\n"
     ]
    },
    {
     "name": "stdout",
     "output_type": "stream",
     "text": [
      "\n"
     ]
    }
   ],
   "source": [
    "!pip install afinn"
   ]
  },
  {
   "cell_type": "code",
   "execution_count": 26,
   "id": "analyzed-walter",
   "metadata": {},
   "outputs": [],
   "source": [
    "from afinn import Afinn"
   ]
  },
  {
   "cell_type": "code",
   "execution_count": 27,
   "id": "joint-sapphire",
   "metadata": {},
   "outputs": [],
   "source": [
    "afinn = Afinn(language='en')\n"
   ]
  },
  {
   "cell_type": "code",
   "execution_count": 29,
   "id": "civil-planet",
   "metadata": {},
   "outputs": [
    {
     "data": {
      "text/plain": [
       "0.0"
      ]
     },
     "execution_count": 29,
     "metadata": {},
     "output_type": "execute_result"
    }
   ],
   "source": [
    "afinn.score('my name is ashish and i am very bad boy sometimes but normally i am good boy')"
   ]
  },
  {
   "cell_type": "code",
   "execution_count": 213,
   "id": "gorgeous-roman",
   "metadata": {},
   "outputs": [
    {
     "data": {
      "text/plain": [
       "-3.0"
      ]
     },
     "execution_count": 213,
     "metadata": {},
     "output_type": "execute_result"
    }
   ],
   "source": [
    "afinn.score('Bad day.')"
   ]
  },
  {
   "cell_type": "code",
   "execution_count": 24,
   "id": "found-assembly",
   "metadata": {},
   "outputs": [
    {
     "data": {
      "text/plain": [
       "3.0"
      ]
     },
     "execution_count": 24,
     "metadata": {},
     "output_type": "execute_result"
    }
   ],
   "source": [
    "afinn.score('Good day.')"
   ]
  },
  {
   "cell_type": "code",
   "execution_count": 25,
   "id": "fluid-foster",
   "metadata": {},
   "outputs": [
    {
     "data": {
      "text/plain": [
       "-6.0"
      ]
     },
     "execution_count": 25,
     "metadata": {},
     "output_type": "execute_result"
    }
   ],
   "source": [
    "afinn.score('Horrible, bad day.')\n"
   ]
  },
  {
   "cell_type": "code",
   "execution_count": 26,
   "id": "controlled-termination",
   "metadata": {},
   "outputs": [
    {
     "data": {
      "text/plain": [
       "[-1, -2]"
      ]
     },
     "execution_count": 26,
     "metadata": {},
     "output_type": "execute_result"
    }
   ],
   "source": [
    "afinn.scores('alert shall new norms laws movement stricter offending')"
   ]
  },
  {
   "cell_type": "code",
   "execution_count": 27,
   "id": "failing-covering",
   "metadata": {},
   "outputs": [
    {
     "data": {
      "text/plain": [
       "[4, 3, 1, 2]"
      ]
     },
     "execution_count": 27,
     "metadata": {},
     "output_type": "execute_result"
    }
   ],
   "source": [
    "afinn.scores('wow good see kids interest online studying pandemic situation possible kcr garu ktr garu initiatives kind gesture give tv need anna')"
   ]
  },
  {
   "cell_type": "code",
   "execution_count": 28,
   "id": "eligible-hayes",
   "metadata": {},
   "outputs": [],
   "source": [
    "afinn_wl_url = ('https://raw.githubusercontent.com'\n",
    "                '/fnielsen/afinn/master/afinn/data/AFINN-111.txt')\n",
    "\n",
    "afinn_wl_df = pd.read_csv(afinn_wl_url,\n",
    "                          header=None, # no column names\n",
    "                          sep='\\t',  # tab sepeated\n",
    "                          names=['term', 'value']) #new column names\n",
    "\n",
    "seed = 808 # seed for sample so results are stable\n",
    "#afinn_wl_df.sample(10, random_state = seed)\n"
   ]
  },
  {
   "cell_type": "code",
   "execution_count": 30,
   "id": "ideal-civilization",
   "metadata": {},
   "outputs": [],
   "source": [
    "cleaned_tweets['afinn score'] = cleaned_tweets['text'].apply(afinn.score)"
   ]
  },
  {
   "cell_type": "markdown",
   "id": "multiple-testament",
   "metadata": {},
   "source": [
    "**word count**\n",
    "** **"
   ]
  },
  {
   "cell_type": "code",
   "execution_count": 31,
   "id": "boxed-technical",
   "metadata": {},
   "outputs": [],
   "source": [
    "def word_count(text_string):\n",
    "    '''Calculate the number of words in a string'''\n",
    "    return len(text_string.split())"
   ]
  },
  {
   "cell_type": "code",
   "execution_count": 45,
   "id": "medieval-opera",
   "metadata": {},
   "outputs": [],
   "source": [
    "cleaned_tweets['word_count'] = cleaned_tweets['text'].apply(word_count)"
   ]
  },
  {
   "cell_type": "markdown",
   "id": "greatest-packing",
   "metadata": {},
   "source": [
    "**nltk sentimnet**\n",
    "** **"
   ]
  },
  {
   "cell_type": "code",
   "execution_count": 30,
   "id": "steady-society",
   "metadata": {},
   "outputs": [],
   "source": [
    "from nltk.sentiment import SentimentIntensityAnalyzer\n",
    "sent = SentimentIntensityAnalyzer()\n"
   ]
  },
  {
   "cell_type": "code",
   "execution_count": 31,
   "id": "confirmed-management",
   "metadata": {},
   "outputs": [],
   "source": [
    "def sentiment_score_nltk(text):\n",
    "    return sent.polarity_scores(text)['compound']"
   ]
  },
  {
   "cell_type": "code",
   "execution_count": 32,
   "id": "interior-bunny",
   "metadata": {},
   "outputs": [
    {
     "data": {
      "text/plain": [
       "0.3514"
      ]
     },
     "execution_count": 32,
     "metadata": {},
     "output_type": "execute_result"
    }
   ],
   "source": [
    "sentiment_score_nltk('my name is ashish and i am very bad boy sometimes but normally i ma good boy')"
   ]
  },
  {
   "cell_type": "code",
   "execution_count": 44,
   "id": "divided-advocate",
   "metadata": {},
   "outputs": [],
   "source": [
    "cleaned_tweets['sentiment'] = cleaned_tweets['text'].apply(sentiment_score_nltk)"
   ]
  },
  {
   "cell_type": "markdown",
   "id": "compatible-crash",
   "metadata": {},
   "source": [
    "** **\n",
    "** **"
   ]
  },
  {
   "cell_type": "code",
   "execution_count": 39,
   "id": "tamil-tribute",
   "metadata": {},
   "outputs": [
    {
     "data": {
      "text/plain": [
       "0.3514"
      ]
     },
     "execution_count": 39,
     "metadata": {},
     "output_type": "execute_result"
    }
   ],
   "source": [
    "sentiment_score_nltk('my name is ashish and i am very bad boy sometimes but normally i ma good boy')"
   ]
  },
  {
   "cell_type": "code",
   "execution_count": 29,
   "id": "legislative-commercial",
   "metadata": {},
   "outputs": [
    {
     "data": {
      "text/plain": [
       "0.0"
      ]
     },
     "execution_count": 29,
     "metadata": {},
     "output_type": "execute_result"
    }
   ],
   "source": [
    "afinn.score('my name is ashish and i am very bad boy sometimes but normally i am good boy')"
   ]
  },
  {
   "cell_type": "markdown",
   "id": "distinct-sequence",
   "metadata": {},
   "source": [
    "** **\n",
    "** **"
   ]
  },
  {
   "cell_type": "code",
   "execution_count": 33,
   "id": "oriental-lincoln",
   "metadata": {},
   "outputs": [],
   "source": [
    "from transformers import pipeline"
   ]
  },
  {
   "cell_type": "code",
   "execution_count": 34,
   "id": "recovered-adult",
   "metadata": {},
   "outputs": [],
   "source": [
    "sent_transformer = pipeline(\"sentiment-analysis\")"
   ]
  },
  {
   "cell_type": "code",
   "execution_count": 50,
   "id": "immune-strategy",
   "metadata": {},
   "outputs": [
    {
     "data": {
      "text/plain": [
       "'NEGATIVE'"
      ]
     },
     "execution_count": 50,
     "metadata": {},
     "output_type": "execute_result"
    }
   ],
   "source": [
    "sent_transformer('bad boy')[0]['label']"
   ]
  },
  {
   "cell_type": "code",
   "execution_count": 39,
   "id": "outside-photographer",
   "metadata": {},
   "outputs": [
    {
     "data": {
      "text/plain": [
       "0.3514"
      ]
     },
     "execution_count": 39,
     "metadata": {},
     "output_type": "execute_result"
    }
   ],
   "source": [
    "sentiment_score_nltk('my name is ashish and i am very bad boy sometimes but normally i ma good boy')"
   ]
  },
  {
   "cell_type": "code",
   "execution_count": 29,
   "id": "willing-firewall",
   "metadata": {},
   "outputs": [
    {
     "data": {
      "text/plain": [
       "0.0"
      ]
     },
     "execution_count": 29,
     "metadata": {},
     "output_type": "execute_result"
    }
   ],
   "source": [
    "afinn.score('my name is ashish and i am very bad boy sometimes but normally i am good boy')"
   ]
  },
  {
   "cell_type": "code",
   "execution_count": 35,
   "id": "golden-alignment",
   "metadata": {},
   "outputs": [
    {
     "data": {
      "text/plain": [
       "0.8737391233444214"
      ]
     },
     "execution_count": 35,
     "metadata": {},
     "output_type": "execute_result"
    }
   ],
   "source": [
    "sent_transformer('my name is ashish and i am very bad boy sometimes but normally i ma good boy')[0]['score']"
   ]
  },
  {
   "cell_type": "code",
   "execution_count": 54,
   "id": "joint-twist",
   "metadata": {},
   "outputs": [],
   "source": [
    "def sentiment_trans_pipeline(text):\n",
    "    return sent_transformer(text)[0]['label']  #sent_transformer(text)[0]['score'],"
   ]
  },
  {
   "cell_type": "code",
   "execution_count": 55,
   "id": "opened-medication",
   "metadata": {},
   "outputs": [],
   "source": [
    "sentiment_transformer_label = cleaned_tweets['text'].apply(sentiment_trans_pipeline)"
   ]
  },
  {
   "cell_type": "code",
   "execution_count": 59,
   "id": "medium-lambda",
   "metadata": {},
   "outputs": [],
   "source": [
    "sentiment_transformer_label_num = sentiment_transformer_label.map({'NEGATIVE' : -1,'POSITIVE' : 1})"
   ]
  },
  {
   "cell_type": "markdown",
   "id": "spanish-excellence",
   "metadata": {},
   "source": [
    "** **"
   ]
  },
  {
   "cell_type": "code",
   "execution_count": 57,
   "id": "earned-reliance",
   "metadata": {},
   "outputs": [
    {
     "data": {
      "text/html": [
       "<div>\n",
       "<style scoped>\n",
       "    .dataframe tbody tr th:only-of-type {\n",
       "        vertical-align: middle;\n",
       "    }\n",
       "\n",
       "    .dataframe tbody tr th {\n",
       "        vertical-align: top;\n",
       "    }\n",
       "\n",
       "    .dataframe thead th {\n",
       "        text-align: right;\n",
       "    }\n",
       "</style>\n",
       "<table border=\"1\" class=\"dataframe\">\n",
       "  <thead>\n",
       "    <tr style=\"text-align: right;\">\n",
       "      <th></th>\n",
       "      <th>text</th>\n",
       "      <th>afinn score</th>\n",
       "      <th>sentiment</th>\n",
       "      <th>word_count</th>\n",
       "      <th>sentiment_transformer</th>\n",
       "    </tr>\n",
       "  </thead>\n",
       "  <tbody>\n",
       "    <tr>\n",
       "      <th>0</th>\n",
       "      <td>sacrificed everything protect corona patients ...</td>\n",
       "      <td>1.0</td>\n",
       "      <td>0.3818</td>\n",
       "      <td>7</td>\n",
       "      <td>0.991190</td>\n",
       "    </tr>\n",
       "    <tr>\n",
       "      <th>1</th>\n",
       "      <td>alert shall new norms laws movement stricter o...</td>\n",
       "      <td>-3.0</td>\n",
       "      <td>-0.2732</td>\n",
       "      <td>8</td>\n",
       "      <td>0.921373</td>\n",
       "    </tr>\n",
       "    <tr>\n",
       "      <th>2</th>\n",
       "      <td>seven promises need make extra care senior cit...</td>\n",
       "      <td>1.0</td>\n",
       "      <td>0.5719</td>\n",
       "      <td>27</td>\n",
       "      <td>0.973535</td>\n",
       "    </tr>\n",
       "    <tr>\n",
       "      <th>3</th>\n",
       "      <td>please move unnecessarily help prevent</td>\n",
       "      <td>2.0</td>\n",
       "      <td>0.6249</td>\n",
       "      <td>5</td>\n",
       "      <td>0.988771</td>\n",
       "    </tr>\n",
       "    <tr>\n",
       "      <th>4</th>\n",
       "      <td>dear leader nation modi ji suggestion need fol...</td>\n",
       "      <td>3.0</td>\n",
       "      <td>0.6808</td>\n",
       "      <td>26</td>\n",
       "      <td>0.994520</td>\n",
       "    </tr>\n",
       "  </tbody>\n",
       "</table>\n",
       "</div>"
      ],
      "text/plain": [
       "                                                text  afinn score  sentiment  \\\n",
       "0  sacrificed everything protect corona patients ...          1.0     0.3818   \n",
       "1  alert shall new norms laws movement stricter o...         -3.0    -0.2732   \n",
       "2  seven promises need make extra care senior cit...          1.0     0.5719   \n",
       "3             please move unnecessarily help prevent          2.0     0.6249   \n",
       "4  dear leader nation modi ji suggestion need fol...          3.0     0.6808   \n",
       "\n",
       "   word_count  sentiment_transformer  \n",
       "0           7               0.991190  \n",
       "1           8               0.921373  \n",
       "2          27               0.973535  \n",
       "3           5               0.988771  \n",
       "4          26               0.994520  "
      ]
     },
     "execution_count": 57,
     "metadata": {},
     "output_type": "execute_result"
    }
   ],
   "source": [
    "cleaned_tweets.head()"
   ]
  },
  {
   "cell_type": "markdown",
   "id": "greenhouse-asian",
   "metadata": {},
   "source": [
    "** **\n",
    "**saving data**"
   ]
  },
  {
   "cell_type": "code",
   "execution_count": 58,
   "id": "alone-calvin",
   "metadata": {},
   "outputs": [],
   "source": [
    "cleaned_tweets.to_csv('sentiments.csv',index=None)"
   ]
  },
  {
   "cell_type": "markdown",
   "id": "excellent-inventory",
   "metadata": {},
   "source": [
    "** **\n",
    "** **"
   ]
  },
  {
   "cell_type": "code",
   "execution_count": 47,
   "id": "natural-place",
   "metadata": {},
   "outputs": [],
   "source": [
    "import matplotlib.pyplot as plt\n"
   ]
  },
  {
   "cell_type": "code",
   "execution_count": 48,
   "id": "chemical-material",
   "metadata": {
    "collapsed": true
   },
   "outputs": [
    {
     "data": {
      "text/plain": [
       "<matplotlib.collections.PathCollection at 0x1f792bcf6d8>"
      ]
     },
     "execution_count": 48,
     "metadata": {},
     "output_type": "execute_result"
    },
    {
     "data": {
      "image/png": "[encoded data removed]",
      "text/plain": [
       "<Figure size 432x288 with 1 Axes>"
      ]
     },
     "metadata": {
      "needs_background": "light"
     },
     "output_type": "display_data"
    }
   ],
   "source": [
    "plt.scatter(cleaned_tweets['word_count'],cleaned_tweets['afinn score'])"
   ]
  },
  {
   "cell_type": "code",
   "execution_count": 49,
   "id": "optical-collectible",
   "metadata": {
    "collapsed": true
   },
   "outputs": [
    {
     "data": {
      "text/plain": [
       "<matplotlib.collections.PathCollection at 0x1f792e79390>"
      ]
     },
     "execution_count": 49,
     "metadata": {},
     "output_type": "execute_result"
    },
    {
     "data": {
      "image/png": "[encoded data removed]",
      "text/plain": [
       "<Figure size 432x288 with 1 Axes>"
      ]
     },
     "metadata": {
      "needs_background": "light"
     },
     "output_type": "display_data"
    }
   ],
   "source": [
    "plt.scatter(cleaned_tweets['word_count'],cleaned_tweets['sentiment'])"
   ]
  },
  {
   "cell_type": "code",
   "execution_count": 50,
   "id": "russian-history",
   "metadata": {
    "collapsed": true
   },
   "outputs": [
    {
     "data": {
      "text/plain": [
       "<matplotlib.collections.PathCollection at 0x1f79306f518>"
      ]
     },
     "execution_count": 50,
     "metadata": {},
     "output_type": "execute_result"
    },
    {
     "data": {
      "image/png": "[encoded data removed]",
      "text/plain": [
       "<Figure size 432x288 with 1 Axes>"
      ]
     },
     "metadata": {
      "needs_background": "light"
     },
     "output_type": "display_data"
    }
   ],
   "source": [
    "plt.scatter(cleaned_tweets['sentiment'],cleaned_tweets['afinn score'])"
   ]
  },
  {
   "cell_type": "code",
   "execution_count": 51,
   "id": "binary-glasgow",
   "metadata": {
    "collapsed": true
   },
   "outputs": [
    {
     "data": {
      "text/html": [
       "<div>\n",
       "<style scoped>\n",
       "    .dataframe tbody tr th:only-of-type {\n",
       "        vertical-align: middle;\n",
       "    }\n",
       "\n",
       "    .dataframe tbody tr th {\n",
       "        vertical-align: top;\n",
       "    }\n",
       "\n",
       "    .dataframe thead th {\n",
       "        text-align: right;\n",
       "    }\n",
       "</style>\n",
       "<table border=\"1\" class=\"dataframe\">\n",
       "  <thead>\n",
       "    <tr style=\"text-align: right;\">\n",
       "      <th></th>\n",
       "      <th>text</th>\n",
       "      <th>afinn score</th>\n",
       "      <th>sentiment</th>\n",
       "      <th>word_count</th>\n",
       "    </tr>\n",
       "  </thead>\n",
       "  <tbody>\n",
       "    <tr>\n",
       "      <th>75</th>\n",
       "      <td>pm narendra modi ji announced extend lockdown ...</td>\n",
       "      <td>1.0</td>\n",
       "      <td>-0.0516</td>\n",
       "      <td>20</td>\n",
       "    </tr>\n",
       "    <tr>\n",
       "      <th>149</th>\n",
       "      <td>fight corona many mothers sisters state helpin...</td>\n",
       "      <td>1.0</td>\n",
       "      <td>-0.1027</td>\n",
       "      <td>10</td>\n",
       "    </tr>\n",
       "    <tr>\n",
       "      <th>160</th>\n",
       "      <td>corona virus made us sit unemployed home messa...</td>\n",
       "      <td>2.0</td>\n",
       "      <td>-0.5096</td>\n",
       "      <td>25</td>\n",
       "    </tr>\n",
       "    <tr>\n",
       "      <th>170</th>\n",
       "      <td>fight corona many mothers sisters state helpin...</td>\n",
       "      <td>1.0</td>\n",
       "      <td>-0.1027</td>\n",
       "      <td>10</td>\n",
       "    </tr>\n",
       "    <tr>\n",
       "      <th>197</th>\n",
       "      <td>true sir first time watch finally understood f...</td>\n",
       "      <td>2.0</td>\n",
       "      <td>-0.2023</td>\n",
       "      <td>25</td>\n",
       "    </tr>\n",
       "    <tr>\n",
       "      <th>...</th>\n",
       "      <td>...</td>\n",
       "      <td>...</td>\n",
       "      <td>...</td>\n",
       "      <td>...</td>\n",
       "    </tr>\n",
       "    <tr>\n",
       "      <th>109353</th>\n",
       "      <td>action till even concern raised new era airtel...</td>\n",
       "      <td>1.0</td>\n",
       "      <td>-0.3182</td>\n",
       "      <td>13</td>\n",
       "    </tr>\n",
       "    <tr>\n",
       "      <th>109374</th>\n",
       "      <td>infact pr lucrative job may demanding money pr...</td>\n",
       "      <td>1.0</td>\n",
       "      <td>-0.4215</td>\n",
       "      <td>16</td>\n",
       "    </tr>\n",
       "    <tr>\n",
       "      <th>109394</th>\n",
       "      <td>pendamics corona viruses going besides anythin...</td>\n",
       "      <td>1.0</td>\n",
       "      <td>-0.0516</td>\n",
       "      <td>16</td>\n",
       "    </tr>\n",
       "    <tr>\n",
       "      <th>109502</th>\n",
       "      <td>spread chinese virus whole world terrorism hel...</td>\n",
       "      <td>2.0</td>\n",
       "      <td>-0.4404</td>\n",
       "      <td>9</td>\n",
       "    </tr>\n",
       "    <tr>\n",
       "      <th>109505</th>\n",
       "      <td>without trust beat coronavirus analysis</td>\n",
       "      <td>1.0</td>\n",
       "      <td>-0.4023</td>\n",
       "      <td>5</td>\n",
       "    </tr>\n",
       "  </tbody>\n",
       "</table>\n",
       "<p>1730 rows × 4 columns</p>\n",
       "</div>"
      ],
      "text/plain": [
       "                                                     text  afinn score  \\\n",
       "75      pm narendra modi ji announced extend lockdown ...          1.0   \n",
       "149     fight corona many mothers sisters state helpin...          1.0   \n",
       "160     corona virus made us sit unemployed home messa...          2.0   \n",
       "170     fight corona many mothers sisters state helpin...          1.0   \n",
       "197     true sir first time watch finally understood f...          2.0   \n",
       "...                                                   ...          ...   \n",
       "109353  action till even concern raised new era airtel...          1.0   \n",
       "109374  infact pr lucrative job may demanding money pr...          1.0   \n",
       "109394  pendamics corona viruses going besides anythin...          1.0   \n",
       "109502  spread chinese virus whole world terrorism hel...          2.0   \n",
       "109505            without trust beat coronavirus analysis          1.0   \n",
       "\n",
       "        sentiment  word_count  \n",
       "75        -0.0516          20  \n",
       "149       -0.1027          10  \n",
       "160       -0.5096          25  \n",
       "170       -0.1027          10  \n",
       "197       -0.2023          25  \n",
       "...           ...         ...  \n",
       "109353    -0.3182          13  \n",
       "109374    -0.4215          16  \n",
       "109394    -0.0516          16  \n",
       "109502    -0.4404           9  \n",
       "109505    -0.4023           5  \n",
       "\n",
       "[1730 rows x 4 columns]"
      ]
     },
     "execution_count": 51,
     "metadata": {},
     "output_type": "execute_result"
    }
   ],
   "source": [
    "cleaned_tweets[(cleaned_tweets['sentiment'] <0 ) & (cleaned_tweets['afinn score'] > 0)]"
   ]
  },
  {
   "cell_type": "code",
   "execution_count": 52,
   "id": "experimental-commissioner",
   "metadata": {
    "collapsed": true
   },
   "outputs": [
    {
     "data": {
      "text/html": [
       "<div>\n",
       "<style scoped>\n",
       "    .dataframe tbody tr th:only-of-type {\n",
       "        vertical-align: middle;\n",
       "    }\n",
       "\n",
       "    .dataframe tbody tr th {\n",
       "        vertical-align: top;\n",
       "    }\n",
       "\n",
       "    .dataframe thead th {\n",
       "        text-align: right;\n",
       "    }\n",
       "</style>\n",
       "<table border=\"1\" class=\"dataframe\">\n",
       "  <thead>\n",
       "    <tr style=\"text-align: right;\">\n",
       "      <th></th>\n",
       "      <th>text</th>\n",
       "      <th>afinn score</th>\n",
       "      <th>sentiment</th>\n",
       "      <th>word_count</th>\n",
       "    </tr>\n",
       "  </thead>\n",
       "  <tbody>\n",
       "    <tr>\n",
       "      <th>51</th>\n",
       "      <td>united mission fighting corona soldiers govern...</td>\n",
       "      <td>-1.0</td>\n",
       "      <td>0.3400</td>\n",
       "      <td>8</td>\n",
       "    </tr>\n",
       "    <tr>\n",
       "      <th>70</th>\n",
       "      <td>day distributed tiffins daily wagers homeless ...</td>\n",
       "      <td>-2.0</td>\n",
       "      <td>0.3182</td>\n",
       "      <td>16</td>\n",
       "    </tr>\n",
       "    <tr>\n",
       "      <th>77</th>\n",
       "      <td>surya ji real true fighters india equally deli...</td>\n",
       "      <td>-2.0</td>\n",
       "      <td>0.1027</td>\n",
       "      <td>22</td>\n",
       "    </tr>\n",
       "    <tr>\n",
       "      <th>101</th>\n",
       "      <td>myteam giving best past days period without br...</td>\n",
       "      <td>-2.0</td>\n",
       "      <td>0.2960</td>\n",
       "      <td>25</td>\n",
       "    </tr>\n",
       "    <tr>\n",
       "      <th>114</th>\n",
       "      <td>tablighi attended nizamuddin congregation appr...</td>\n",
       "      <td>-1.0</td>\n",
       "      <td>0.3400</td>\n",
       "      <td>24</td>\n",
       "    </tr>\n",
       "    <tr>\n",
       "      <th>...</th>\n",
       "      <td>...</td>\n",
       "      <td>...</td>\n",
       "      <td>...</td>\n",
       "      <td>...</td>\n",
       "    </tr>\n",
       "    <tr>\n",
       "      <th>109644</th>\n",
       "      <td>pnr rkhnyw indigo cancelled flight due lockdow...</td>\n",
       "      <td>-1.0</td>\n",
       "      <td>0.1531</td>\n",
       "      <td>12</td>\n",
       "    </tr>\n",
       "    <tr>\n",
       "      <th>109648</th>\n",
       "      <td>something serious wrong meghalaya govt simply ...</td>\n",
       "      <td>-1.0</td>\n",
       "      <td>0.0591</td>\n",
       "      <td>16</td>\n",
       "    </tr>\n",
       "    <tr>\n",
       "      <th>109654</th>\n",
       "      <td>sir many deputed teacher also going appear ed ...</td>\n",
       "      <td>-2.0</td>\n",
       "      <td>0.0258</td>\n",
       "      <td>27</td>\n",
       "    </tr>\n",
       "    <tr>\n",
       "      <th>109679</th>\n",
       "      <td>dont try master asia get bloody nose people re...</td>\n",
       "      <td>-3.0</td>\n",
       "      <td>0.2392</td>\n",
       "      <td>13</td>\n",
       "    </tr>\n",
       "    <tr>\n",
       "      <th>109720</th>\n",
       "      <td>india case tally crosses lakh mark spike new c...</td>\n",
       "      <td>-3.0</td>\n",
       "      <td>0.4019</td>\n",
       "      <td>27</td>\n",
       "    </tr>\n",
       "  </tbody>\n",
       "</table>\n",
       "<p>5146 rows × 4 columns</p>\n",
       "</div>"
      ],
      "text/plain": [
       "                                                     text  afinn score  \\\n",
       "51      united mission fighting corona soldiers govern...         -1.0   \n",
       "70      day distributed tiffins daily wagers homeless ...         -2.0   \n",
       "77      surya ji real true fighters india equally deli...         -2.0   \n",
       "101     myteam giving best past days period without br...         -2.0   \n",
       "114     tablighi attended nizamuddin congregation appr...         -1.0   \n",
       "...                                                   ...          ...   \n",
       "109644  pnr rkhnyw indigo cancelled flight due lockdow...         -1.0   \n",
       "109648  something serious wrong meghalaya govt simply ...         -1.0   \n",
       "109654  sir many deputed teacher also going appear ed ...         -2.0   \n",
       "109679  dont try master asia get bloody nose people re...         -3.0   \n",
       "109720  india case tally crosses lakh mark spike new c...         -3.0   \n",
       "\n",
       "        sentiment  word_count  \n",
       "51         0.3400           8  \n",
       "70         0.3182          16  \n",
       "77         0.1027          22  \n",
       "101        0.2960          25  \n",
       "114        0.3400          24  \n",
       "...           ...         ...  \n",
       "109644     0.1531          12  \n",
       "109648     0.0591          16  \n",
       "109654     0.0258          27  \n",
       "109679     0.2392          13  \n",
       "109720     0.4019          27  \n",
       "\n",
       "[5146 rows x 4 columns]"
      ]
     },
     "execution_count": 52,
     "metadata": {},
     "output_type": "execute_result"
    }
   ],
   "source": [
    "cleaned_tweets[(cleaned_tweets['sentiment'] > 0 ) & (cleaned_tweets['afinn score'] < 0)]"
   ]
  },
  {
   "cell_type": "code",
   "execution_count": 53,
   "id": "beginning-mistress",
   "metadata": {
    "collapsed": true
   },
   "outputs": [
    {
     "data": {
      "text/html": [
       "<div>\n",
       "<style scoped>\n",
       "    .dataframe tbody tr th:only-of-type {\n",
       "        vertical-align: middle;\n",
       "    }\n",
       "\n",
       "    .dataframe tbody tr th {\n",
       "        vertical-align: top;\n",
       "    }\n",
       "\n",
       "    .dataframe thead th {\n",
       "        text-align: right;\n",
       "    }\n",
       "</style>\n",
       "<table border=\"1\" class=\"dataframe\">\n",
       "  <thead>\n",
       "    <tr style=\"text-align: right;\">\n",
       "      <th></th>\n",
       "      <th>text</th>\n",
       "      <th>afinn score</th>\n",
       "      <th>sentiment</th>\n",
       "      <th>word_count</th>\n",
       "    </tr>\n",
       "  </thead>\n",
       "  <tbody>\n",
       "    <tr>\n",
       "      <th>5</th>\n",
       "      <td>saptapadi pm tasks care elders sick social dis...</td>\n",
       "      <td>0.0</td>\n",
       "      <td>0.2023</td>\n",
       "      <td>31</td>\n",
       "    </tr>\n",
       "    <tr>\n",
       "      <th>39</th>\n",
       "      <td>plans provide urgent medical attention non cor...</td>\n",
       "      <td>0.0</td>\n",
       "      <td>0.2263</td>\n",
       "      <td>16</td>\n",
       "    </tr>\n",
       "    <tr>\n",
       "      <th>99</th>\n",
       "      <td>first corona death moradabad new positive</td>\n",
       "      <td>0.0</td>\n",
       "      <td>-0.0772</td>\n",
       "      <td>6</td>\n",
       "    </tr>\n",
       "    <tr>\n",
       "      <th>119</th>\n",
       "      <td>madam many states feeling financial crunch owi...</td>\n",
       "      <td>0.0</td>\n",
       "      <td>0.4767</td>\n",
       "      <td>30</td>\n",
       "    </tr>\n",
       "    <tr>\n",
       "      <th>129</th>\n",
       "      <td>industry sure reel traces left behind corona t...</td>\n",
       "      <td>0.0</td>\n",
       "      <td>0.3182</td>\n",
       "      <td>9</td>\n",
       "    </tr>\n",
       "    <tr>\n",
       "      <th>...</th>\n",
       "      <td>...</td>\n",
       "      <td>...</td>\n",
       "      <td>...</td>\n",
       "      <td>...</td>\n",
       "    </tr>\n",
       "    <tr>\n",
       "      <th>109667</th>\n",
       "      <td>govt shall concentrate infra projects benefit ...</td>\n",
       "      <td>0.0</td>\n",
       "      <td>0.0516</td>\n",
       "      <td>28</td>\n",
       "    </tr>\n",
       "    <tr>\n",
       "      <th>109670</th>\n",
       "      <td>morning constructive work involves making blue...</td>\n",
       "      <td>0.0</td>\n",
       "      <td>0.7506</td>\n",
       "      <td>15</td>\n",
       "    </tr>\n",
       "    <tr>\n",
       "      <th>109672</th>\n",
       "      <td>need weapons chinese virus</td>\n",
       "      <td>0.0</td>\n",
       "      <td>-0.4404</td>\n",
       "      <td>4</td>\n",
       "    </tr>\n",
       "    <tr>\n",
       "      <th>109710</th>\n",
       "      <td>declare benefits msme bank officials respondin...</td>\n",
       "      <td>0.0</td>\n",
       "      <td>-0.2263</td>\n",
       "      <td>20</td>\n",
       "    </tr>\n",
       "    <tr>\n",
       "      <th>109716</th>\n",
       "      <td>get well soon hukm</td>\n",
       "      <td>0.0</td>\n",
       "      <td>0.2732</td>\n",
       "      <td>4</td>\n",
       "    </tr>\n",
       "  </tbody>\n",
       "</table>\n",
       "<p>10179 rows × 4 columns</p>\n",
       "</div>"
      ],
      "text/plain": [
       "                                                     text  afinn score  \\\n",
       "5       saptapadi pm tasks care elders sick social dis...          0.0   \n",
       "39      plans provide urgent medical attention non cor...          0.0   \n",
       "99              first corona death moradabad new positive          0.0   \n",
       "119     madam many states feeling financial crunch owi...          0.0   \n",
       "129     industry sure reel traces left behind corona t...          0.0   \n",
       "...                                                   ...          ...   \n",
       "109667  govt shall concentrate infra projects benefit ...          0.0   \n",
       "109670  morning constructive work involves making blue...          0.0   \n",
       "109672                         need weapons chinese virus          0.0   \n",
       "109710  declare benefits msme bank officials respondin...          0.0   \n",
       "109716                                 get well soon hukm          0.0   \n",
       "\n",
       "        sentiment  word_count  \n",
       "5          0.2023          31  \n",
       "39         0.2263          16  \n",
       "99        -0.0772           6  \n",
       "119        0.4767          30  \n",
       "129        0.3182           9  \n",
       "...           ...         ...  \n",
       "109667     0.0516          28  \n",
       "109670     0.7506          15  \n",
       "109672    -0.4404           4  \n",
       "109710    -0.2263          20  \n",
       "109716     0.2732           4  \n",
       "\n",
       "[10179 rows x 4 columns]"
      ]
     },
     "execution_count": 53,
     "metadata": {},
     "output_type": "execute_result"
    }
   ],
   "source": [
    "cleaned_tweets[(cleaned_tweets['sentiment'] != 0 ) & (cleaned_tweets['afinn score'] == 0)]"
   ]
  },
  {
   "cell_type": "code",
   "execution_count": 54,
   "id": "western-hunger",
   "metadata": {},
   "outputs": [
    {
     "data": {
      "text/plain": [
       "((57864, 4), (48168, 4))"
      ]
     },
     "execution_count": 54,
     "metadata": {},
     "output_type": "execute_result"
    }
   ],
   "source": [
    "cleaned_tweets[cleaned_tweets['sentiment'] > 0].shape,cleaned_tweets[cleaned_tweets['afinn score'] > 0].shape"
   ]
  },
  {
   "cell_type": "markdown",
   "id": "amino-bleeding",
   "metadata": {},
   "source": [
    "### modeling"
   ]
  },
  {
   "cell_type": "code",
   "execution_count": 9,
   "id": "quarterly-ozone",
   "metadata": {
    "collapsed": true
   },
   "outputs": [
    {
     "name": "stdout",
     "output_type": "stream",
     "text": [
      "Collecting gensim\n",
      "  Downloading https://files.pythonhosted.org/packages/15/89/b785d557e3c806abc8beaae664571d71e8c4eb736a2c32b69aba9932cbd1/gensim-4.0.1-cp37-cp37m-win_amd64.whl (23.9MB)\n",
      "Collecting Cython==0.29.21 (from gensim)\n",
      "  Downloading https://files.pythonhosted.org/packages/79/f4/28002920834b292a4dece255d59860c9996d16002f1bca30d7794e0b7884/Cython-0.29.21-cp37-cp37m-win_amd64.whl (1.6MB)\n",
      "Requirement already satisfied: scipy>=0.18.1 in c:\\users\\ashish\\anaconda3\\lib\\site-packages (from gensim) (1.6.2)\n",
      "Requirement already satisfied: numpy>=1.11.3 in c:\\users\\ashish\\anaconda3\\lib\\site-packages (from gensim) (1.19.5)\n",
      "Requirement already satisfied: smart-open>=1.8.1 in c:\\users\\ashish\\anaconda3\\lib\\site-packages (from gensim) (3.0.0)\n",
      "Requirement already satisfied: requests in c:\\users\\ashish\\anaconda3\\lib\\site-packages (from smart-open>=1.8.1->gensim) (2.25.1)\n",
      "Requirement already satisfied: certifi>=2017.4.17 in c:\\users\\ashish\\anaconda3\\lib\\site-packages (from requests->smart-open>=1.8.1->gensim) (2020.6.20)\n",
      "Requirement already satisfied: chardet<5,>=3.0.2 in c:\\users\\ashish\\anaconda3\\lib\\site-packages (from requests->smart-open>=1.8.1->gensim) (3.0.4)\n",
      "Requirement already satisfied: urllib3<1.27,>=1.21.1 in c:\\users\\ashish\\anaconda3\\lib\\site-packages (from requests->smart-open>=1.8.1->gensim) (1.26.4)\n",
      "Requirement already satisfied: idna<3,>=2.5 in c:\\users\\ashish\\anaconda3\\lib\\site-packages (from requests->smart-open>=1.8.1->gensim) (2.10)\n",
      "Installing collected packages: Cython, gensim\n",
      "  Found existing installation: Cython 0.29.22\n",
      "    Uninstalling Cython-0.29.22:\n",
      "      Successfully uninstalled Cython-0.29.22\n",
      "Successfully installed Cython-0.29.21 gensim-4.0.1\n"
     ]
    },
    {
     "name": "stderr",
     "output_type": "stream",
     "text": [
      "WARNING: You are using pip version 19.2.3, however version 21.1.3 is available.\n",
      "You should consider upgrading via the 'python -m pip install --upgrade pip' command.\n"
     ]
    }
   ],
   "source": [
    "!pip install gensim"
   ]
  },
  {
   "cell_type": "markdown",
   "id": "corresponding-naples",
   "metadata": {},
   "source": [
    "**import libraries**"
   ]
  },
  {
   "cell_type": "code",
   "execution_count": 11,
   "id": "maritime-danger",
   "metadata": {},
   "outputs": [],
   "source": [
    "from gensim.models import Word2Vec\n",
    "from nltk.corpus import stopwords\n",
    "import re"
   ]
  },
  {
   "cell_type": "code",
   "execution_count": 37,
   "id": "mathematical-latin",
   "metadata": {},
   "outputs": [],
   "source": [
    "tweets = pd.read_csv('sentiments.csv')"
   ]
  },
  {
   "cell_type": "code",
   "execution_count": 38,
   "id": "becoming-cisco",
   "metadata": {
    "collapsed": true
   },
   "outputs": [
    {
     "name": "stdout",
     "output_type": "stream",
     "text": [
      "(109533, 5)\n"
     ]
    },
    {
     "data": {
      "text/html": [
       "<div>\n",
       "<style scoped>\n",
       "    .dataframe tbody tr th:only-of-type {\n",
       "        vertical-align: middle;\n",
       "    }\n",
       "\n",
       "    .dataframe tbody tr th {\n",
       "        vertical-align: top;\n",
       "    }\n",
       "\n",
       "    .dataframe thead th {\n",
       "        text-align: right;\n",
       "    }\n",
       "</style>\n",
       "<table border=\"1\" class=\"dataframe\">\n",
       "  <thead>\n",
       "    <tr style=\"text-align: right;\">\n",
       "      <th></th>\n",
       "      <th>text</th>\n",
       "      <th>afinn score</th>\n",
       "      <th>sentiment</th>\n",
       "      <th>word_count</th>\n",
       "      <th>sentiment_transformer</th>\n",
       "    </tr>\n",
       "  </thead>\n",
       "  <tbody>\n",
       "    <tr>\n",
       "      <th>0</th>\n",
       "      <td>sacrificed everything protect corona patients ...</td>\n",
       "      <td>1.0</td>\n",
       "      <td>0.3818</td>\n",
       "      <td>7</td>\n",
       "      <td>0.991190</td>\n",
       "    </tr>\n",
       "    <tr>\n",
       "      <th>1</th>\n",
       "      <td>alert shall new norms laws movement stricter o...</td>\n",
       "      <td>-3.0</td>\n",
       "      <td>-0.2732</td>\n",
       "      <td>8</td>\n",
       "      <td>0.921373</td>\n",
       "    </tr>\n",
       "    <tr>\n",
       "      <th>2</th>\n",
       "      <td>seven promises need make extra care senior cit...</td>\n",
       "      <td>1.0</td>\n",
       "      <td>0.5719</td>\n",
       "      <td>27</td>\n",
       "      <td>0.973535</td>\n",
       "    </tr>\n",
       "    <tr>\n",
       "      <th>3</th>\n",
       "      <td>please move unnecessarily help prevent</td>\n",
       "      <td>2.0</td>\n",
       "      <td>0.6249</td>\n",
       "      <td>5</td>\n",
       "      <td>0.988771</td>\n",
       "    </tr>\n",
       "    <tr>\n",
       "      <th>4</th>\n",
       "      <td>dear leader nation modi ji suggestion need fol...</td>\n",
       "      <td>3.0</td>\n",
       "      <td>0.6808</td>\n",
       "      <td>26</td>\n",
       "      <td>0.994520</td>\n",
       "    </tr>\n",
       "  </tbody>\n",
       "</table>\n",
       "</div>"
      ],
      "text/plain": [
       "                                                text  afinn score  sentiment  \\\n",
       "0  sacrificed everything protect corona patients ...          1.0     0.3818   \n",
       "1  alert shall new norms laws movement stricter o...         -3.0    -0.2732   \n",
       "2  seven promises need make extra care senior cit...          1.0     0.5719   \n",
       "3             please move unnecessarily help prevent          2.0     0.6249   \n",
       "4  dear leader nation modi ji suggestion need fol...          3.0     0.6808   \n",
       "\n",
       "   word_count  sentiment_transformer  \n",
       "0           7               0.991190  \n",
       "1           8               0.921373  \n",
       "2          27               0.973535  \n",
       "3           5               0.988771  \n",
       "4          26               0.994520  "
      ]
     },
     "execution_count": 38,
     "metadata": {},
     "output_type": "execute_result"
    }
   ],
   "source": [
    "print(tweets.shape)\n",
    "tweets.head()"
   ]
  },
  {
   "cell_type": "code",
   "execution_count": 40,
   "id": "severe-korean",
   "metadata": {
    "collapsed": true
   },
   "outputs": [
    {
     "data": {
      "text/html": [
       "<div>\n",
       "<style scoped>\n",
       "    .dataframe tbody tr th:only-of-type {\n",
       "        vertical-align: middle;\n",
       "    }\n",
       "\n",
       "    .dataframe tbody tr th {\n",
       "        vertical-align: top;\n",
       "    }\n",
       "\n",
       "    .dataframe thead th {\n",
       "        text-align: right;\n",
       "    }\n",
       "</style>\n",
       "<table border=\"1\" class=\"dataframe\">\n",
       "  <thead>\n",
       "    <tr style=\"text-align: right;\">\n",
       "      <th></th>\n",
       "      <th>afinn score</th>\n",
       "      <th>sentiment</th>\n",
       "      <th>word_count</th>\n",
       "      <th>sentiment_transformer</th>\n",
       "    </tr>\n",
       "  </thead>\n",
       "  <tbody>\n",
       "    <tr>\n",
       "      <th>count</th>\n",
       "      <td>109533.000000</td>\n",
       "      <td>109533.000000</td>\n",
       "      <td>109533.000000</td>\n",
       "      <td>109533.000000</td>\n",
       "    </tr>\n",
       "    <tr>\n",
       "      <th>mean</th>\n",
       "      <td>0.534661</td>\n",
       "      <td>0.149948</td>\n",
       "      <td>13.808688</td>\n",
       "      <td>0.946240</td>\n",
       "    </tr>\n",
       "    <tr>\n",
       "      <th>std</th>\n",
       "      <td>3.370314</td>\n",
       "      <td>0.480690</td>\n",
       "      <td>8.054568</td>\n",
       "      <td>0.098295</td>\n",
       "    </tr>\n",
       "    <tr>\n",
       "      <th>min</th>\n",
       "      <td>-24.000000</td>\n",
       "      <td>-0.989900</td>\n",
       "      <td>1.000000</td>\n",
       "      <td>0.500041</td>\n",
       "    </tr>\n",
       "    <tr>\n",
       "      <th>0%</th>\n",
       "      <td>-24.000000</td>\n",
       "      <td>-0.989900</td>\n",
       "      <td>1.000000</td>\n",
       "      <td>0.500041</td>\n",
       "    </tr>\n",
       "    <tr>\n",
       "      <th>10%</th>\n",
       "      <td>-3.000000</td>\n",
       "      <td>-0.566700</td>\n",
       "      <td>3.000000</td>\n",
       "      <td>0.823275</td>\n",
       "    </tr>\n",
       "    <tr>\n",
       "      <th>20%</th>\n",
       "      <td>-2.000000</td>\n",
       "      <td>-0.296000</td>\n",
       "      <td>6.000000</td>\n",
       "      <td>0.933427</td>\n",
       "    </tr>\n",
       "    <tr>\n",
       "      <th>30%</th>\n",
       "      <td>0.000000</td>\n",
       "      <td>0.000000</td>\n",
       "      <td>8.000000</td>\n",
       "      <td>0.965867</td>\n",
       "    </tr>\n",
       "    <tr>\n",
       "      <th>40%</th>\n",
       "      <td>0.000000</td>\n",
       "      <td>0.000000</td>\n",
       "      <td>11.000000</td>\n",
       "      <td>0.979926</td>\n",
       "    </tr>\n",
       "    <tr>\n",
       "      <th>50%</th>\n",
       "      <td>0.000000</td>\n",
       "      <td>0.102700</td>\n",
       "      <td>13.000000</td>\n",
       "      <td>0.987375</td>\n",
       "    </tr>\n",
       "    <tr>\n",
       "      <th>60%</th>\n",
       "      <td>1.000000</td>\n",
       "      <td>0.341500</td>\n",
       "      <td>16.000000</td>\n",
       "      <td>0.992186</td>\n",
       "    </tr>\n",
       "    <tr>\n",
       "      <th>80%</th>\n",
       "      <td>3.000000</td>\n",
       "      <td>0.624900</td>\n",
       "      <td>22.000000</td>\n",
       "      <td>0.997754</td>\n",
       "    </tr>\n",
       "    <tr>\n",
       "      <th>90%</th>\n",
       "      <td>4.000000</td>\n",
       "      <td>0.778300</td>\n",
       "      <td>25.000000</td>\n",
       "      <td>0.999234</td>\n",
       "    </tr>\n",
       "    <tr>\n",
       "      <th>100%</th>\n",
       "      <td>31.000000</td>\n",
       "      <td>0.991000</td>\n",
       "      <td>51.000000</td>\n",
       "      <td>0.999891</td>\n",
       "    </tr>\n",
       "    <tr>\n",
       "      <th>max</th>\n",
       "      <td>31.000000</td>\n",
       "      <td>0.991000</td>\n",
       "      <td>51.000000</td>\n",
       "      <td>0.999891</td>\n",
       "    </tr>\n",
       "  </tbody>\n",
       "</table>\n",
       "</div>"
      ],
      "text/plain": [
       "         afinn score      sentiment     word_count  sentiment_transformer\n",
       "count  109533.000000  109533.000000  109533.000000          109533.000000\n",
       "mean        0.534661       0.149948      13.808688               0.946240\n",
       "std         3.370314       0.480690       8.054568               0.098295\n",
       "min       -24.000000      -0.989900       1.000000               0.500041\n",
       "0%        -24.000000      -0.989900       1.000000               0.500041\n",
       "10%        -3.000000      -0.566700       3.000000               0.823275\n",
       "20%        -2.000000      -0.296000       6.000000               0.933427\n",
       "30%         0.000000       0.000000       8.000000               0.965867\n",
       "40%         0.000000       0.000000      11.000000               0.979926\n",
       "50%         0.000000       0.102700      13.000000               0.987375\n",
       "60%         1.000000       0.341500      16.000000               0.992186\n",
       "80%         3.000000       0.624900      22.000000               0.997754\n",
       "90%         4.000000       0.778300      25.000000               0.999234\n",
       "100%       31.000000       0.991000      51.000000               0.999891\n",
       "max        31.000000       0.991000      51.000000               0.999891"
      ]
     },
     "execution_count": 40,
     "metadata": {},
     "output_type": "execute_result"
    }
   ],
   "source": [
    "tweets.describe(percentiles=[0,0.10,0.20,0.30,0.40,0.50,0.60,0.80,0.90,1])"
   ]
  },
  {
   "cell_type": "code",
   "execution_count": 60,
   "id": "sharp-capacity",
   "metadata": {},
   "outputs": [],
   "source": [
    "tweets['sentiment_tansformer_NP'] = sentiment_transformer_label_num"
   ]
  },
  {
   "cell_type": "code",
   "execution_count": 61,
   "id": "hungry-remove",
   "metadata": {},
   "outputs": [
    {
     "data": {
      "text/html": [
       "<div>\n",
       "<style scoped>\n",
       "    .dataframe tbody tr th:only-of-type {\n",
       "        vertical-align: middle;\n",
       "    }\n",
       "\n",
       "    .dataframe tbody tr th {\n",
       "        vertical-align: top;\n",
       "    }\n",
       "\n",
       "    .dataframe thead th {\n",
       "        text-align: right;\n",
       "    }\n",
       "</style>\n",
       "<table border=\"1\" class=\"dataframe\">\n",
       "  <thead>\n",
       "    <tr style=\"text-align: right;\">\n",
       "      <th></th>\n",
       "      <th>text</th>\n",
       "      <th>afinn score</th>\n",
       "      <th>sentiment</th>\n",
       "      <th>word_count</th>\n",
       "      <th>sentiment_transformer</th>\n",
       "      <th>sentiment_tansformer_NP</th>\n",
       "    </tr>\n",
       "  </thead>\n",
       "  <tbody>\n",
       "    <tr>\n",
       "      <th>0</th>\n",
       "      <td>sacrificed everything protect corona patients ...</td>\n",
       "      <td>1.0</td>\n",
       "      <td>0.3818</td>\n",
       "      <td>7</td>\n",
       "      <td>0.991190</td>\n",
       "      <td>-1.0</td>\n",
       "    </tr>\n",
       "    <tr>\n",
       "      <th>1</th>\n",
       "      <td>alert shall new norms laws movement stricter o...</td>\n",
       "      <td>-3.0</td>\n",
       "      <td>-0.2732</td>\n",
       "      <td>8</td>\n",
       "      <td>0.921373</td>\n",
       "      <td>1.0</td>\n",
       "    </tr>\n",
       "    <tr>\n",
       "      <th>2</th>\n",
       "      <td>seven promises need make extra care senior cit...</td>\n",
       "      <td>1.0</td>\n",
       "      <td>0.5719</td>\n",
       "      <td>27</td>\n",
       "      <td>0.973535</td>\n",
       "      <td>-1.0</td>\n",
       "    </tr>\n",
       "    <tr>\n",
       "      <th>3</th>\n",
       "      <td>please move unnecessarily help prevent</td>\n",
       "      <td>2.0</td>\n",
       "      <td>0.6249</td>\n",
       "      <td>5</td>\n",
       "      <td>0.988771</td>\n",
       "      <td>-1.0</td>\n",
       "    </tr>\n",
       "    <tr>\n",
       "      <th>4</th>\n",
       "      <td>dear leader nation modi ji suggestion need fol...</td>\n",
       "      <td>3.0</td>\n",
       "      <td>0.6808</td>\n",
       "      <td>26</td>\n",
       "      <td>0.994520</td>\n",
       "      <td>-1.0</td>\n",
       "    </tr>\n",
       "  </tbody>\n",
       "</table>\n",
       "</div>"
      ],
      "text/plain": [
       "                                                text  afinn score  sentiment  \\\n",
       "0  sacrificed everything protect corona patients ...          1.0     0.3818   \n",
       "1  alert shall new norms laws movement stricter o...         -3.0    -0.2732   \n",
       "2  seven promises need make extra care senior cit...          1.0     0.5719   \n",
       "3             please move unnecessarily help prevent          2.0     0.6249   \n",
       "4  dear leader nation modi ji suggestion need fol...          3.0     0.6808   \n",
       "\n",
       "   word_count  sentiment_transformer  sentiment_tansformer_NP  \n",
       "0           7               0.991190                     -1.0  \n",
       "1           8               0.921373                      1.0  \n",
       "2          27               0.973535                     -1.0  \n",
       "3           5               0.988771                     -1.0  \n",
       "4          26               0.994520                     -1.0  "
      ]
     },
     "execution_count": 61,
     "metadata": {},
     "output_type": "execute_result"
    }
   ],
   "source": [
    "tweets.head()"
   ]
  },
  {
   "cell_type": "markdown",
   "id": "metropolitan-paraguay",
   "metadata": {},
   "source": [
    "** **\n",
    "**saving data**"
   ]
  },
  {
   "cell_type": "code",
   "execution_count": 62,
   "id": "generous-emission",
   "metadata": {},
   "outputs": [],
   "source": [
    "tweets.to_csv('sentiments_tweets.csv',index=None)"
   ]
  },
  {
   "cell_type": "markdown",
   "id": "southeast-watershed",
   "metadata": {},
   "source": [
    "** **\n",
    "** **"
   ]
  },
  {
   "cell_type": "code",
   "execution_count": 63,
   "id": "mobile-contemporary",
   "metadata": {},
   "outputs": [],
   "source": [
    "tweets_sentiment = pd.read_csv('sentiments_tweets.csv')"
   ]
  },
  {
   "cell_type": "code",
   "execution_count": 64,
   "id": "sharp-generic",
   "metadata": {},
   "outputs": [
    {
     "data": {
      "text/html": [
       "<div>\n",
       "<style scoped>\n",
       "    .dataframe tbody tr th:only-of-type {\n",
       "        vertical-align: middle;\n",
       "    }\n",
       "\n",
       "    .dataframe tbody tr th {\n",
       "        vertical-align: top;\n",
       "    }\n",
       "\n",
       "    .dataframe thead th {\n",
       "        text-align: right;\n",
       "    }\n",
       "</style>\n",
       "<table border=\"1\" class=\"dataframe\">\n",
       "  <thead>\n",
       "    <tr style=\"text-align: right;\">\n",
       "      <th></th>\n",
       "      <th>text</th>\n",
       "      <th>afinn score</th>\n",
       "      <th>sentiment</th>\n",
       "      <th>word_count</th>\n",
       "      <th>sentiment_transformer</th>\n",
       "      <th>sentiment_tansformer_NP</th>\n",
       "    </tr>\n",
       "  </thead>\n",
       "  <tbody>\n",
       "    <tr>\n",
       "      <th>0</th>\n",
       "      <td>sacrificed everything protect corona patients ...</td>\n",
       "      <td>1.0</td>\n",
       "      <td>0.3818</td>\n",
       "      <td>7</td>\n",
       "      <td>0.991190</td>\n",
       "      <td>-1.0</td>\n",
       "    </tr>\n",
       "    <tr>\n",
       "      <th>1</th>\n",
       "      <td>alert shall new norms laws movement stricter o...</td>\n",
       "      <td>-3.0</td>\n",
       "      <td>-0.2732</td>\n",
       "      <td>8</td>\n",
       "      <td>0.921373</td>\n",
       "      <td>1.0</td>\n",
       "    </tr>\n",
       "    <tr>\n",
       "      <th>2</th>\n",
       "      <td>seven promises need make extra care senior cit...</td>\n",
       "      <td>1.0</td>\n",
       "      <td>0.5719</td>\n",
       "      <td>27</td>\n",
       "      <td>0.973535</td>\n",
       "      <td>-1.0</td>\n",
       "    </tr>\n",
       "    <tr>\n",
       "      <th>3</th>\n",
       "      <td>please move unnecessarily help prevent</td>\n",
       "      <td>2.0</td>\n",
       "      <td>0.6249</td>\n",
       "      <td>5</td>\n",
       "      <td>0.988771</td>\n",
       "      <td>-1.0</td>\n",
       "    </tr>\n",
       "    <tr>\n",
       "      <th>4</th>\n",
       "      <td>dear leader nation modi ji suggestion need fol...</td>\n",
       "      <td>3.0</td>\n",
       "      <td>0.6808</td>\n",
       "      <td>26</td>\n",
       "      <td>0.994520</td>\n",
       "      <td>-1.0</td>\n",
       "    </tr>\n",
       "  </tbody>\n",
       "</table>\n",
       "</div>"
      ],
      "text/plain": [
       "                                                text  afinn score  sentiment  \\\n",
       "0  sacrificed everything protect corona patients ...          1.0     0.3818   \n",
       "1  alert shall new norms laws movement stricter o...         -3.0    -0.2732   \n",
       "2  seven promises need make extra care senior cit...          1.0     0.5719   \n",
       "3             please move unnecessarily help prevent          2.0     0.6249   \n",
       "4  dear leader nation modi ji suggestion need fol...          3.0     0.6808   \n",
       "\n",
       "   word_count  sentiment_transformer  sentiment_tansformer_NP  \n",
       "0           7               0.991190                     -1.0  \n",
       "1           8               0.921373                      1.0  \n",
       "2          27               0.973535                     -1.0  \n",
       "3           5               0.988771                     -1.0  \n",
       "4          26               0.994520                     -1.0  "
      ]
     },
     "execution_count": 64,
     "metadata": {},
     "output_type": "execute_result"
    }
   ],
   "source": [
    "tweets_sentiment.head()"
   ]
  },
  {
   "cell_type": "code",
   "execution_count": 65,
   "id": "digital-encoding",
   "metadata": {},
   "outputs": [
    {
     "data": {
      "text/plain": [
       "(109533, 6)"
      ]
     },
     "execution_count": 65,
     "metadata": {},
     "output_type": "execute_result"
    }
   ],
   "source": [
    "tweets_sentiment.shape"
   ]
  },
  {
   "cell_type": "code",
   "execution_count": 66,
   "id": "split-treat",
   "metadata": {},
   "outputs": [
    {
     "data": {
      "text/plain": [
       "text                         0\n",
       "afinn score                  0\n",
       "sentiment                    0\n",
       "word_count                   0\n",
       "sentiment_transformer        0\n",
       "sentiment_tansformer_NP    195\n",
       "dtype: int64"
      ]
     },
     "execution_count": 66,
     "metadata": {},
     "output_type": "execute_result"
    }
   ],
   "source": [
    "tweets_sentiment.isna().sum()"
   ]
  },
  {
   "cell_type": "code",
   "execution_count": 214,
   "id": "crazy-shopping",
   "metadata": {},
   "outputs": [],
   "source": [
    "tweets_sentiment.dropna(inplace=True)"
   ]
  },
  {
   "cell_type": "code",
   "execution_count": 215,
   "id": "incorporate-effects",
   "metadata": {},
   "outputs": [],
   "source": [
    "tweets_sentiment['transformer_score'] = tweets_sentiment.sentiment_transformer.mul(tweets_sentiment['sentiment_tansformer_NP'])"
   ]
  },
  {
   "cell_type": "markdown",
   "id": "manual-responsibility",
   "metadata": {},
   "source": [
    "**textblob**\n",
    "** **"
   ]
  },
  {
   "cell_type": "code",
   "execution_count": 220,
   "id": "reported-freight",
   "metadata": {},
   "outputs": [],
   "source": [
    "from textblob import TextBlob"
   ]
  },
  {
   "cell_type": "code",
   "execution_count": 226,
   "id": "identical-certificate",
   "metadata": {},
   "outputs": [],
   "source": [
    "def sentiment_textblob(text):\n",
    "    return TextBlob(text).sentiment.polarity"
   ]
  },
  {
   "cell_type": "code",
   "execution_count": 227,
   "id": "incorporate-copyright",
   "metadata": {},
   "outputs": [],
   "source": [
    "tweets_sentiment['sentiment_textblob'] = tweets_sentiment['text'].apply(sentiment_textblob)"
   ]
  },
  {
   "cell_type": "markdown",
   "id": "mathematical-composition",
   "metadata": {},
   "source": [
    "** **\n",
    "**saving data**"
   ]
  },
  {
   "cell_type": "code",
   "execution_count": 216,
   "id": "lesbian-criterion",
   "metadata": {},
   "outputs": [],
   "source": [
    "tweets_sentiment.to_csv('sentiments_tweets.csv',index=None)"
   ]
  },
  {
   "cell_type": "markdown",
   "id": "alien-influence",
   "metadata": {},
   "source": [
    "** **"
   ]
  },
  {
   "cell_type": "code",
   "execution_count": 78,
   "id": "seeing-christmas",
   "metadata": {},
   "outputs": [
    {
     "data": {
      "text/plain": [
       "<matplotlib.collections.PathCollection at 0x1b3725f60b8>"
      ]
     },
     "execution_count": 78,
     "metadata": {},
     "output_type": "execute_result"
    },
    {
     "data": {
      "image/png": "[encoded data removed]",
      "text/plain": [
       "<Figure size 432x288 with 1 Axes>"
      ]
     },
     "metadata": {
      "needs_background": "light"
     },
     "output_type": "display_data"
    }
   ],
   "source": [
    "plt.scatter(tweets_sentiment['afinn score'],tweets_sentiment['transformer_score'])\n",
    "plt.scatter(tweets_sentiment['sentiment'],tweets_sentiment['transformer_score'])"
   ]
  },
  {
   "cell_type": "code",
   "execution_count": 218,
   "id": "solved-patient",
   "metadata": {},
   "outputs": [
    {
     "data": {
      "text/plain": [
       "<matplotlib.collections.PathCollection at 0x1b389d81940>"
      ]
     },
     "execution_count": 218,
     "metadata": {},
     "output_type": "execute_result"
    },
    {
     "data": {
      "image/png": "[encoded data removed]",
      "text/plain": [
       "<Figure size 432x288 with 1 Axes>"
      ]
     },
     "metadata": {
      "needs_background": "light"
     },
     "output_type": "display_data"
    }
   ],
   "source": [
    "plt.scatter(tweets_sentiment['sentiment'],tweets_sentiment['afinn score'])\n"
   ]
  },
  {
   "cell_type": "code",
   "execution_count": 232,
   "id": "veterinary-object",
   "metadata": {},
   "outputs": [
    {
     "data": {
      "text/plain": [
       "<matplotlib.collections.PathCollection at 0x1b3b2f3aa20>"
      ]
     },
     "execution_count": 232,
     "metadata": {},
     "output_type": "execute_result"
    },
    {
     "data": {
      "image/png": "[encoded data removed]",
      "text/plain": [
       "<Figure size 432x288 with 1 Axes>"
      ]
     },
     "metadata": {
      "needs_background": "light"
     },
     "output_type": "display_data"
    }
   ],
   "source": [
    "plt.scatter(tweets_sentiment['sentiment_textblob'],tweets_sentiment['afinn score'])\n"
   ]
  },
  {
   "cell_type": "code",
   "execution_count": 233,
   "id": "divine-journal",
   "metadata": {},
   "outputs": [
    {
     "data": {
      "text/plain": [
       "<matplotlib.collections.PathCollection at 0x1b3b2ef84a8>"
      ]
     },
     "execution_count": 233,
     "metadata": {},
     "output_type": "execute_result"
    },
    {
     "data": {
      "image/png": "[encoded data removed]",
      "text/plain": [
       "<Figure size 432x288 with 1 Axes>"
      ]
     },
     "metadata": {
      "needs_background": "light"
     },
     "output_type": "display_data"
    }
   ],
   "source": [
    "plt.scatter(tweets_sentiment['sentiment_textblob'],tweets_sentiment['sentiment'])"
   ]
  },
  {
   "cell_type": "code",
   "execution_count": 167,
   "id": "defensive-worry",
   "metadata": {},
   "outputs": [
    {
     "data": {
      "text/plain": [
       "(-0.5859,\n",
       " [{'label': 'NEGATIVE', 'score': 0.9391202926635742}],\n",
       " 0.0,\n",
       " Sentiment(polarity=5.551115123125783e-17, subjectivity=0.6333333333333333))"
      ]
     },
     "execution_count": 167,
     "metadata": {},
     "output_type": "execute_result"
    }
   ],
   "source": [
    "sentiment_score_nltk('ashish is good but sometimes he is bad'),sent_transformer('ashish is good but sometimes he is bad'),afinn.score('ashish is good but sometimes he is bad'),TextBlob('ashish is good but, sometimes he is bad').sentiment"
   ]
  },
  {
   "cell_type": "code",
   "execution_count": 166,
   "id": "induced-embassy",
   "metadata": {},
   "outputs": [
    {
     "data": {
      "text/plain": [
       "(0.3818,\n",
       " [{'label': 'POSITIVE', 'score': 0.9953548908233643}],\n",
       " 0.0,\n",
       " Sentiment(polarity=5.551115123125783e-17, subjectivity=0.6333333333333333))"
      ]
     },
     "execution_count": 166,
     "metadata": {},
     "output_type": "execute_result"
    }
   ],
   "source": [
    "sentiment_score_nltk('ashish is bad but sometimes he is good'),sent_transformer('ashish is bad but sometimes he is good'),afinn.score('ashish is bad but sometimes he is good'),TextBlob('ashish is bad but, sometimes he is good').sentiment"
   ]
  },
  {
   "cell_type": "code",
   "execution_count": 168,
   "id": "dynamic-alignment",
   "metadata": {},
   "outputs": [
    {
     "data": {
      "text/plain": [
       "(0.4659,\n",
       " [{'label': 'POSITIVE', 'score': 0.9984440803527832}],\n",
       " 0.0,\n",
       " Sentiment(polarity=0.10500000000000004, subjectivity=0.7233333333333334))"
      ]
     },
     "execution_count": 168,
     "metadata": {},
     "output_type": "execute_result"
    }
   ],
   "source": [
    "sentiment_score_nltk('ashish is bad but sometimes he is very good'),sent_transformer('ashish is bad but sometimes he is very good'),afinn.score('ashish is bad but sometimes he is very good'),TextBlob('ashish is bad but, sometimes he is very good').sentiment"
   ]
  },
  {
   "cell_type": "code",
   "execution_count": 176,
   "id": "unknown-appliance",
   "metadata": {
    "collapsed": true
   },
   "outputs": [
    {
     "ename": "AttributeError",
     "evalue": "'list' object has no attribute 'encode'",
     "output_type": "error",
     "traceback": [
      "\u001b[1;31m---------------------------------------------------------------------------\u001b[0m",
      "\u001b[1;31mAttributeError\u001b[0m                            Traceback (most recent call last)",
      "\u001b[1;32m<ipython-input-176-00046e97c941>\u001b[0m in \u001b[0;36m<module>\u001b[1;34m\u001b[0m\n\u001b[1;32m----> 1\u001b[1;33m \u001b[0msent\u001b[0m\u001b[1;33m.\u001b[0m\u001b[0mpolarity_scores\u001b[0m\u001b[1;33m(\u001b[0m\u001b[1;33m[\u001b[0m\u001b[1;33m[\u001b[0m\u001b[1;34m'ashish is very bad'\u001b[0m\u001b[1;33m]\u001b[0m\u001b[1;33m,\u001b[0m\u001b[1;33m[\u001b[0m\u001b[1;34m' sometimes he is good'\u001b[0m\u001b[1;33m]\u001b[0m\u001b[1;33m]\u001b[0m\u001b[1;33m)\u001b[0m\u001b[1;33m,\u001b[0m\u001b[1;33m\u001b[0m\u001b[1;33m\u001b[0m\u001b[0m\n\u001b[0m\u001b[0;32m      2\u001b[0m \u001b[0msent_transformer\u001b[0m\u001b[1;33m(\u001b[0m\u001b[1;33m[\u001b[0m\u001b[1;34m'ashish is very bad'\u001b[0m\u001b[1;33m,\u001b[0m\u001b[1;34m' sometimes he is good'\u001b[0m\u001b[1;33m]\u001b[0m\u001b[1;33m)\u001b[0m\u001b[1;33m,\u001b[0m\u001b[1;33m\u001b[0m\u001b[1;33m\u001b[0m\u001b[0m\n\u001b[0;32m      3\u001b[0m \u001b[0mafinn\u001b[0m\u001b[1;33m.\u001b[0m\u001b[0mscore\u001b[0m\u001b[1;33m(\u001b[0m\u001b[1;33m[\u001b[0m\u001b[1;34m'ashish is very bad'\u001b[0m\u001b[1;33m,\u001b[0m\u001b[1;34m' sometimes he is good'\u001b[0m\u001b[1;33m]\u001b[0m\u001b[1;33m)\u001b[0m\u001b[1;33m,\u001b[0m\u001b[1;33m\u001b[0m\u001b[1;33m\u001b[0m\u001b[0m\n\u001b[0;32m      4\u001b[0m \u001b[0mTextBlob\u001b[0m\u001b[1;33m(\u001b[0m\u001b[1;33m[\u001b[0m\u001b[1;34m'ashish is very bad'\u001b[0m\u001b[1;33m,\u001b[0m\u001b[1;34m' sometimes he is good'\u001b[0m\u001b[1;33m]\u001b[0m\u001b[1;33m)\u001b[0m\u001b[1;33m.\u001b[0m\u001b[0msentiment\u001b[0m\u001b[1;33m\u001b[0m\u001b[1;33m\u001b[0m\u001b[0m\n",
      "\u001b[1;32m~\\Anaconda3\\lib\\site-packages\\nltk\\sentiment\\vader.py\u001b[0m in \u001b[0;36mpolarity_scores\u001b[1;34m(self, text)\u001b[0m\n\u001b[0;32m    359\u001b[0m         \u001b[1;31m# text, words_and_emoticons, is_cap_diff = self.preprocess(text)\u001b[0m\u001b[1;33m\u001b[0m\u001b[1;33m\u001b[0m\u001b[1;33m\u001b[0m\u001b[0m\n\u001b[0;32m    360\u001b[0m         sentitext = SentiText(text, self.constants.PUNC_LIST,\n\u001b[1;32m--> 361\u001b[1;33m                               self.constants.REGEX_REMOVE_PUNCTUATION)\n\u001b[0m\u001b[0;32m    362\u001b[0m         \u001b[0msentiments\u001b[0m \u001b[1;33m=\u001b[0m \u001b[1;33m[\u001b[0m\u001b[1;33m]\u001b[0m\u001b[1;33m\u001b[0m\u001b[1;33m\u001b[0m\u001b[0m\n\u001b[0;32m    363\u001b[0m         \u001b[0mwords_and_emoticons\u001b[0m \u001b[1;33m=\u001b[0m \u001b[0msentitext\u001b[0m\u001b[1;33m.\u001b[0m\u001b[0mwords_and_emoticons\u001b[0m\u001b[1;33m\u001b[0m\u001b[1;33m\u001b[0m\u001b[0m\n",
      "\u001b[1;32m~\\Anaconda3\\lib\\site-packages\\nltk\\sentiment\\vader.py\u001b[0m in \u001b[0;36m__init__\u001b[1;34m(self, text, punc_list, regex_remove_punctuation)\u001b[0m\n\u001b[0;32m    268\u001b[0m     \u001b[1;32mdef\u001b[0m \u001b[0m__init__\u001b[0m\u001b[1;33m(\u001b[0m\u001b[0mself\u001b[0m\u001b[1;33m,\u001b[0m \u001b[0mtext\u001b[0m\u001b[1;33m,\u001b[0m \u001b[0mpunc_list\u001b[0m\u001b[1;33m,\u001b[0m \u001b[0mregex_remove_punctuation\u001b[0m\u001b[1;33m)\u001b[0m\u001b[1;33m:\u001b[0m\u001b[1;33m\u001b[0m\u001b[1;33m\u001b[0m\u001b[0m\n\u001b[0;32m    269\u001b[0m         \u001b[1;32mif\u001b[0m \u001b[1;32mnot\u001b[0m \u001b[0misinstance\u001b[0m\u001b[1;33m(\u001b[0m\u001b[0mtext\u001b[0m\u001b[1;33m,\u001b[0m \u001b[0mstr\u001b[0m\u001b[1;33m)\u001b[0m\u001b[1;33m:\u001b[0m\u001b[1;33m\u001b[0m\u001b[1;33m\u001b[0m\u001b[0m\n\u001b[1;32m--> 270\u001b[1;33m             \u001b[0mtext\u001b[0m \u001b[1;33m=\u001b[0m \u001b[0mstr\u001b[0m\u001b[1;33m(\u001b[0m\u001b[0mtext\u001b[0m\u001b[1;33m.\u001b[0m\u001b[0mencode\u001b[0m\u001b[1;33m(\u001b[0m\u001b[1;34m\"utf-8\"\u001b[0m\u001b[1;33m)\u001b[0m\u001b[1;33m)\u001b[0m\u001b[1;33m\u001b[0m\u001b[1;33m\u001b[0m\u001b[0m\n\u001b[0m\u001b[0;32m    271\u001b[0m         \u001b[0mself\u001b[0m\u001b[1;33m.\u001b[0m\u001b[0mtext\u001b[0m \u001b[1;33m=\u001b[0m \u001b[0mtext\u001b[0m\u001b[1;33m\u001b[0m\u001b[1;33m\u001b[0m\u001b[0m\n\u001b[0;32m    272\u001b[0m         \u001b[0mself\u001b[0m\u001b[1;33m.\u001b[0m\u001b[0mPUNC_LIST\u001b[0m \u001b[1;33m=\u001b[0m \u001b[0mpunc_list\u001b[0m\u001b[1;33m\u001b[0m\u001b[1;33m\u001b[0m\u001b[0m\n",
      "\u001b[1;31mAttributeError\u001b[0m: 'list' object has no attribute 'encode'"
     ]
    }
   ],
   "source": [
    "sent.polarity_scores([['ashish is very bad'],[' sometimes he is good']]),\n",
    "sent_transformer(['ashish is very bad',' sometimes he is good']),\n",
    "afinn.score(['ashish is very bad',' sometimes he is good']),\n",
    "TextBlob(['ashish is very bad',' sometimes he is good']).sentiment"
   ]
  },
  {
   "cell_type": "code",
   "execution_count": 196,
   "id": "fixed-worst",
   "metadata": {},
   "outputs": [
    {
     "name": "stdout",
     "output_type": "stream",
     "text": [
      "nltk ---------------------- {'neg': 0.0, 'neu': 0.633, 'pos': 0.367, 'compound': 0.4404}\n",
      "textblob ------------------ Sentiment(polarity=0.7, subjectivity=0.6000000000000001)\n",
      "\n",
      "nltk ---------------------- {'neg': 0.0, 'neu': 1.0, 'pos': 0.0, 'compound': 0.0}\n",
      "textblob ------------------ Sentiment(polarity=-0.5, subjectivity=0.7)\n",
      "\n",
      "nltk ---------------------- {'neg': 0.0, 'neu': 0.822, 'pos': 0.178, 'compound': 0.2382}\n",
      "textblob ------------------ Sentiment(polarity=0.09999999999999998, subjectivity=0.65)\n"
     ]
    }
   ],
   "source": [
    "text = 'in the mall clothes are good but they are expensive'\n",
    "for i in text.split(' but '):\n",
    "    print(f'nltk ---------------------- {sent.polarity_scores(i)}')\n",
    "#    print(f'transformer --------------- {sent_transformer(i)}')\n",
    "#    print(f'afinn --------------------- {afinn.score(i)}')\n",
    "    print(f'textblob ------------------ {TextBlob(i).sentiment}')\n",
    "    print()\n",
    "\n",
    "print(f'nltk ---------------------- {sent.polarity_scores(text)}')\n",
    "print(f'textblob ------------------ {TextBlob(text).sentiment}')\n"
   ]
  },
  {
   "cell_type": "code",
   "execution_count": 225,
   "id": "fitting-floating",
   "metadata": {},
   "outputs": [
    {
     "name": "stdout",
     "output_type": "stream",
     "text": [
      "transformer --------------- [{'label': 'NEGATIVE', 'score': 0.978150486946106}]\n",
      "afinn --------------------- -1.0\n",
      "nltk ---------------------- {'neg': 0.29, 'neu': 0.71, 'pos': 0.0, 'compound': -0.5423}\n",
      "textblob ------------------ 0.0\n"
     ]
    }
   ],
   "source": [
    "text = 'No one dared to contradict him, so he brought in anyone he knew.'\n",
    "# for i in text.split(' but '):\n",
    "#     print(f'nltk ---------------------- {sent.polarity_scores(i)}')\n",
    "#     print(f'transformer --------------- {sent_transformer(i)}')\n",
    "#     print(f'afinn --------------------- {afinn.score(i)}')\n",
    "#     print(f'textblob ------------------ {TextBlob(i).sentiment}')\n",
    "#     print()\n",
    "\n",
    "print(f'transformer --------------- {sent_transformer(i)}')\n",
    "print(f'afinn --------------------- {afinn.score(text)}')\n",
    "print(f'nltk ---------------------- {sent.polarity_scores(text)}')\n",
    "print(f'textblob ------------------ {TextBlob(text).sentiment.polarity}')"
   ]
  },
  {
   "cell_type": "code",
   "execution_count": 192,
   "id": "speaking-lease",
   "metadata": {},
   "outputs": [
    {
     "data": {
      "text/plain": [
       "-149.88010832439613"
      ]
     },
     "execution_count": 192,
     "metadata": {},
     "output_type": "execute_result"
    }
   ],
   "source": [
    "5.551115123125783*(10^(-17))"
   ]
  },
  {
   "cell_type": "code",
   "execution_count": null,
   "id": "specific-gamma",
   "metadata": {},
   "outputs": [],
   "source": []
  },
  {
   "cell_type": "code",
   "execution_count": null,
   "id": "warming-reserve",
   "metadata": {},
   "outputs": [],
   "source": []
  },
  {
   "cell_type": "code",
   "execution_count": null,
   "id": "sublime-handy",
   "metadata": {},
   "outputs": [],
   "source": []
  },
  {
   "cell_type": "code",
   "execution_count": null,
   "id": "italic-maple",
   "metadata": {},
   "outputs": [],
   "source": []
  }
 ],
 "metadata": {
  "kernelspec": {
   "display_name": "Python 3",
   "language": "python",
   "name": "python3"
  },
  "language_info": {
   "codemirror_mode": {
    "name": "ipython",
    "version": 3
   },
   "file_extension": ".py",
   "mimetype": "text/x-python",
   "name": "python",
   "nbconvert_exporter": "python",
   "pygments_lexer": "ipython3",
   "version": "3.7.1"
  },
  "latex_envs": {
   "LaTeX_envs_menu_present": true,
   "autoclose": false,
   "autocomplete": true,
   "bibliofile": "biblio.bib",
   "cite_by": "apalike",
   "current_citInitial": 1,
   "eqLabelWithNumbers": true,
   "eqNumInitial": 1,
   "hotkeys": {
    "equation": "Ctrl-E",
    "itemize": "Ctrl-I"
   },
   "labels_anchors": false,
   "latex_user_defs": false,
   "report_style_numbering": false,
   "user_envs_cfg": false
  }
 },
 "nbformat": 4,
 "nbformat_minor": 5
}
