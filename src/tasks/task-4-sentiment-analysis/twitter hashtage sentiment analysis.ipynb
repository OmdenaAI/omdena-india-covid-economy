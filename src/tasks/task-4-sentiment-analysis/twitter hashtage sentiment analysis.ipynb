{
 "cells": [
  {
   "cell_type": "code",
   "execution_count": 1,
   "id": "hired-robert",
   "metadata": {},
   "outputs": [],
   "source": [
    "# Library for accessing the tweets can learn more about it in the tweepy documentation\n",
    "# tweepy documentation link : https://docs.tweepy.org/en/stable/\n",
    "import tweepy"
   ]
  },
  {
   "cell_type": "code",
   "execution_count": 2,
   "id": "corresponding-reflection",
   "metadata": {},
   "outputs": [],
   "source": [
    "\n",
    "#from twitter developer account accessing the twitter getting the access keys and API key\n",
    "\n",
    "consumer_key = 'lSD9caraPSswymdy5V1QYpYXQ'\n",
    "consumer_secret = 'VgoAVGCjRiwCztNLORcTRkRHGuPdqXu9VMlEH0rcuJ4LwYWiRo'\n",
    "access_token = '1492211317-BynNhydaHMQHZ1eFk87CQm4OvQXikGhNsDRfjDC'\n",
    "access_token_secret = 'pTTyimIJ9wNK8GsPWTwbLCI7hCxA2BFU7BApa3lRptbor'"
   ]
  },
  {
   "cell_type": "code",
   "execution_count": 3,
   "id": "complicated-region",
   "metadata": {},
   "outputs": [],
   "source": [
    "\n",
    "#authenticating the API through tweepy authentication build-in function can read more about \n",
    "#tweepy library in its documentation\n",
    "auth = tweepy.OAuthHandler(consumer_key, consumer_secret)\n",
    "auth.set_access_token(access_token, access_token_secret)\n",
    "api = tweepy.API(auth,wait_on_rate_limit = True,wait_on_rate_limit_notify= True)\n"
   ]
  },
  {
   "cell_type": "raw",
   "id": "published-luther",
   "metadata": {},
   "source": [
    "key_word = ['mental']"
   ]
  },
  {
   "cell_type": "code",
   "execution_count": 52,
   "id": "integrated-mobility",
   "metadata": {},
   "outputs": [],
   "source": [
    "#searching for keyword \"covid\"\n",
    "key_word = [['suicide','Suicide'],\n",
    "            ['Mental','mental'],\n",
    "            ['Unemployment','unemployment'],\n",
    "            ['Stress','stress'],\n",
    "            ['Depression','depression'],\n",
    "            ['anxiety','Anxiety'],\n",
    "            ['sleeping','Sleeping'],\n",
    "            ['gaming','Gaming'],\n",
    "            ['violence','Violence'],\n",
    "            ['tobacco','Tobacco'],\n",
    "            ['headache','Headache'],\n",
    "           ]"
   ]
  },
  {
   "cell_type": "code",
   "execution_count": 11,
   "id": "piano-intensity",
   "metadata": {},
   "outputs": [],
   "source": [
    "place = api.geo_search(query = 'India',granularity='country')"
   ]
  },
  {
   "cell_type": "code",
   "execution_count": 12,
   "id": "passing-shock",
   "metadata": {
    "collapsed": true
   },
   "outputs": [
    {
     "data": {
      "text/plain": [
       "User(_api=<tweepy.api.API object at 0x000002010527ADD8>, _json={'id': 42118048, 'id_str': '42118048', 'name': 'Marina Stanley \\U0001f6fc\\U0001f6fc', 'screen_name': 'marinastanley', 'location': 'New York, New York', 'profile_location': None, 'description': 'Proud NYC Native, Journalist, Live & Breaking News Producer/Showrunner for Digital/TV. @QuickTake Formerly @cbsnews @nyse @NY1 Opinions are mine', 'url': 'https://t.co/aXgACrI6IM', 'entities': {'url': {'urls': [{'url': 'https://t.co/aXgACrI6IM', 'expanded_url': 'http://marinastanley.com', 'display_url': 'marinastanley.com', 'indices': [0, 23]}]}, 'description': {'urls': []}}, 'protected': False, 'followers_count': 1406, 'friends_count': 4999, 'listed_count': 31, 'created_at': 'Sat May 23 23:19:09 +0000 2009', 'favourites_count': 25021, 'utc_offset': None, 'time_zone': None, 'geo_enabled': True, 'verified': False, 'statuses_count': 12329, 'lang': None, 'status': {'created_at': 'Sat Jul 17 04:53:10 +0000 2021', 'id': 1416259662106800130, 'id_str': '1416259662106800130', 'text': 'https://t.co/Ir6nOnVNVS', 'truncated': False, 'entities': {'hashtags': [], 'symbols': [], 'user_mentions': [], 'urls': [], 'media': [{'id': 1416259658151510019, 'id_str': '1416259658151510019', 'indices': [0, 23], 'media_url': 'http://pbs.twimg.com/media/E6eQp8nWQAMpabn.jpg', 'media_url_https': 'https://pbs.twimg.com/media/E6eQp8nWQAMpabn.jpg', 'url': 'https://t.co/Ir6nOnVNVS', 'display_url': 'pic.twitter.com/Ir6nOnVNVS', 'expanded_url': 'https://twitter.com/marinastanley/status/1416259662106800130/photo/1', 'type': 'photo', 'sizes': {'thumb': {'w': 150, 'h': 150, 'resize': 'crop'}, 'large': {'w': 553, 'h': 369, 'resize': 'fit'}, 'small': {'w': 553, 'h': 369, 'resize': 'fit'}, 'medium': {'w': 553, 'h': 369, 'resize': 'fit'}}}]}, 'extended_entities': {'media': [{'id': 1416259658151510019, 'id_str': '1416259658151510019', 'indices': [0, 23], 'media_url': 'http://pbs.twimg.com/media/E6eQp8nWQAMpabn.jpg', 'media_url_https': 'https://pbs.twimg.com/media/E6eQp8nWQAMpabn.jpg', 'url': 'https://t.co/Ir6nOnVNVS', 'display_url': 'pic.twitter.com/Ir6nOnVNVS', 'expanded_url': 'https://twitter.com/marinastanley/status/1416259662106800130/photo/1', 'type': 'photo', 'sizes': {'thumb': {'w': 150, 'h': 150, 'resize': 'crop'}, 'large': {'w': 553, 'h': 369, 'resize': 'fit'}, 'small': {'w': 553, 'h': 369, 'resize': 'fit'}, 'medium': {'w': 553, 'h': 369, 'resize': 'fit'}}}]}, 'source': '<a href=\"http://twitter.com/download/iphone\" rel=\"nofollow\">Twitter for iPhone</a>', 'in_reply_to_status_id': None, 'in_reply_to_status_id_str': None, 'in_reply_to_user_id': None, 'in_reply_to_user_id_str': None, 'in_reply_to_screen_name': None, 'geo': None, 'coordinates': None, 'place': None, 'contributors': None, 'is_quote_status': False, 'retweet_count': 0, 'favorite_count': 2, 'favorited': False, 'retweeted': False, 'possibly_sensitive': False, 'lang': 'und'}, 'contributors_enabled': False, 'is_translator': False, 'is_translation_enabled': False, 'profile_background_color': '000000', 'profile_background_image_url': 'http://abs.twimg.com/images/themes/theme14/bg.gif', 'profile_background_image_url_https': 'https://abs.twimg.com/images/themes/theme14/bg.gif', 'profile_background_tile': False, 'profile_image_url': 'http://pbs.twimg.com/profile_images/1227833229371150337/TiE1_aFY_normal.jpg', 'profile_image_url_https': 'https://pbs.twimg.com/profile_images/1227833229371150337/TiE1_aFY_normal.jpg', 'profile_banner_url': 'https://pbs.twimg.com/profile_banners/42118048/1556015708', 'profile_link_color': '7FDBB6', 'profile_sidebar_border_color': '000000', 'profile_sidebar_fill_color': '000000', 'profile_text_color': '000000', 'profile_use_background_image': False, 'has_extended_profile': False, 'default_profile': False, 'default_profile_image': False, 'following': False, 'follow_request_sent': False, 'notifications': False, 'translator_type': 'none', 'withheld_in_countries': []}, id=42118048, id_str='42118048', name='Marina Stanley \\U0001f6fc\\U0001f6fc', screen_name='marinastanley', location='New York, New York', profile_location=None, description='Proud NYC Native, Journalist, Live & Breaking News Producer/Showrunner for Digital/TV. @QuickTake Formerly @cbsnews @nyse @NY1 Opinions are mine', url='https://t.co/aXgACrI6IM', entities={'url': {'urls': [{'url': 'https://t.co/aXgACrI6IM', 'expanded_url': 'http://marinastanley.com', 'display_url': 'marinastanley.com', 'indices': [0, 23]}]}, 'description': {'urls': []}}, protected=False, followers_count=1406, friends_count=4999, listed_count=31, created_at=datetime.datetime(2009, 5, 23, 23, 19, 9), favourites_count=25021, utc_offset=None, time_zone=None, geo_enabled=True, verified=False, statuses_count=12329, lang=None, status=Status(_api=<tweepy.api.API object at 0x000002010527ADD8>, _json={'created_at': 'Sat Jul 17 04:53:10 +0000 2021', 'id': 1416259662106800130, 'id_str': '1416259662106800130', 'text': 'https://t.co/Ir6nOnVNVS', 'truncated': False, 'entities': {'hashtags': [], 'symbols': [], 'user_mentions': [], 'urls': [], 'media': [{'id': 1416259658151510019, 'id_str': '1416259658151510019', 'indices': [0, 23], 'media_url': 'http://pbs.twimg.com/media/E6eQp8nWQAMpabn.jpg', 'media_url_https': 'https://pbs.twimg.com/media/E6eQp8nWQAMpabn.jpg', 'url': 'https://t.co/Ir6nOnVNVS', 'display_url': 'pic.twitter.com/Ir6nOnVNVS', 'expanded_url': 'https://twitter.com/marinastanley/status/1416259662106800130/photo/1', 'type': 'photo', 'sizes': {'thumb': {'w': 150, 'h': 150, 'resize': 'crop'}, 'large': {'w': 553, 'h': 369, 'resize': 'fit'}, 'small': {'w': 553, 'h': 369, 'resize': 'fit'}, 'medium': {'w': 553, 'h': 369, 'resize': 'fit'}}}]}, 'extended_entities': {'media': [{'id': 1416259658151510019, 'id_str': '1416259658151510019', 'indices': [0, 23], 'media_url': 'http://pbs.twimg.com/media/E6eQp8nWQAMpabn.jpg', 'media_url_https': 'https://pbs.twimg.com/media/E6eQp8nWQAMpabn.jpg', 'url': 'https://t.co/Ir6nOnVNVS', 'display_url': 'pic.twitter.com/Ir6nOnVNVS', 'expanded_url': 'https://twitter.com/marinastanley/status/1416259662106800130/photo/1', 'type': 'photo', 'sizes': {'thumb': {'w': 150, 'h': 150, 'resize': 'crop'}, 'large': {'w': 553, 'h': 369, 'resize': 'fit'}, 'small': {'w': 553, 'h': 369, 'resize': 'fit'}, 'medium': {'w': 553, 'h': 369, 'resize': 'fit'}}}]}, 'source': '<a href=\"http://twitter.com/download/iphone\" rel=\"nofollow\">Twitter for iPhone</a>', 'in_reply_to_status_id': None, 'in_reply_to_status_id_str': None, 'in_reply_to_user_id': None, 'in_reply_to_user_id_str': None, 'in_reply_to_screen_name': None, 'geo': None, 'coordinates': None, 'place': None, 'contributors': None, 'is_quote_status': False, 'retweet_count': 0, 'favorite_count': 2, 'favorited': False, 'retweeted': False, 'possibly_sensitive': False, 'lang': 'und'}, created_at=datetime.datetime(2021, 7, 17, 4, 53, 10), id=1416259662106800130, id_str='1416259662106800130', text='https://t.co/Ir6nOnVNVS', truncated=False, entities={'hashtags': [], 'symbols': [], 'user_mentions': [], 'urls': [], 'media': [{'id': 1416259658151510019, 'id_str': '1416259658151510019', 'indices': [0, 23], 'media_url': 'http://pbs.twimg.com/media/E6eQp8nWQAMpabn.jpg', 'media_url_https': 'https://pbs.twimg.com/media/E6eQp8nWQAMpabn.jpg', 'url': 'https://t.co/Ir6nOnVNVS', 'display_url': 'pic.twitter.com/Ir6nOnVNVS', 'expanded_url': 'https://twitter.com/marinastanley/status/1416259662106800130/photo/1', 'type': 'photo', 'sizes': {'thumb': {'w': 150, 'h': 150, 'resize': 'crop'}, 'large': {'w': 553, 'h': 369, 'resize': 'fit'}, 'small': {'w': 553, 'h': 369, 'resize': 'fit'}, 'medium': {'w': 553, 'h': 369, 'resize': 'fit'}}}]}, extended_entities={'media': [{'id': 1416259658151510019, 'id_str': '1416259658151510019', 'indices': [0, 23], 'media_url': 'http://pbs.twimg.com/media/E6eQp8nWQAMpabn.jpg', 'media_url_https': 'https://pbs.twimg.com/media/E6eQp8nWQAMpabn.jpg', 'url': 'https://t.co/Ir6nOnVNVS', 'display_url': 'pic.twitter.com/Ir6nOnVNVS', 'expanded_url': 'https://twitter.com/marinastanley/status/1416259662106800130/photo/1', 'type': 'photo', 'sizes': {'thumb': {'w': 150, 'h': 150, 'resize': 'crop'}, 'large': {'w': 553, 'h': 369, 'resize': 'fit'}, 'small': {'w': 553, 'h': 369, 'resize': 'fit'}, 'medium': {'w': 553, 'h': 369, 'resize': 'fit'}}}]}, source='Twitter for iPhone', source_url='http://twitter.com/download/iphone', in_reply_to_status_id=None, in_reply_to_status_id_str=None, in_reply_to_user_id=None, in_reply_to_user_id_str=None, in_reply_to_screen_name=None, geo=None, coordinates=None, place=None, contributors=None, is_quote_status=False, retweet_count=0, favorite_count=2, favorited=False, retweeted=False, possibly_sensitive=False, lang='und'), contributors_enabled=False, is_translator=False, is_translation_enabled=False, profile_background_color='000000', profile_background_image_url='http://abs.twimg.com/images/themes/theme14/bg.gif', profile_background_image_url_https='https://abs.twimg.com/images/themes/theme14/bg.gif', profile_background_tile=False, profile_image_url='http://pbs.twimg.com/profile_images/1227833229371150337/TiE1_aFY_normal.jpg', profile_image_url_https='https://pbs.twimg.com/profile_images/1227833229371150337/TiE1_aFY_normal.jpg', profile_banner_url='https://pbs.twimg.com/profile_banners/42118048/1556015708', profile_link_color='7FDBB6', profile_sidebar_border_color='000000', profile_sidebar_fill_color='000000', profile_text_color='000000', profile_use_background_image=False, has_extended_profile=False, default_profile=False, default_profile_image=False, following=False, follow_request_sent=False, notifications=False, translator_type='none', withheld_in_countries=[])"
      ]
     },
     "execution_count": 12,
     "metadata": {},
     "output_type": "execute_result"
    }
   ],
   "source": [
    "api.get_user('marinastanley')"
   ]
  },
  {
   "cell_type": "code",
   "execution_count": 13,
   "id": "chief-coupon",
   "metadata": {},
   "outputs": [],
   "source": [
    "\n",
    "user = api.get_user('marinastanley')\n",
    "  \n",
    "# fetching the location\n",
    "location = user.location.split(',')[0]"
   ]
  },
  {
   "cell_type": "code",
   "execution_count": 14,
   "id": "focal-cheat",
   "metadata": {},
   "outputs": [],
   "source": [
    "#location = location.split(',')"
   ]
  },
  {
   "cell_type": "code",
   "execution_count": 15,
   "id": "fitted-kenya",
   "metadata": {},
   "outputs": [
    {
     "data": {
      "text/plain": [
       "'New York'"
      ]
     },
     "execution_count": 15,
     "metadata": {},
     "output_type": "execute_result"
    }
   ],
   "source": [
    "location"
   ]
  },
  {
   "cell_type": "code",
   "execution_count": 17,
   "id": "plain-trade",
   "metadata": {},
   "outputs": [
    {
     "name": "stdout",
     "output_type": "stream",
     "text": [
      "88f6c97979c5c22d\n"
     ]
    }
   ],
   "source": [
    "print(str(place[1]).split(',')[1].strip()[4:-1])"
   ]
  },
  {
   "cell_type": "markdown",
   "id": "sublime-closer",
   "metadata": {},
   "source": [
    "    Andhra Pradesh,Arunachal Pradesh,Assam,Bihar,Karnataka,Kerala,Chhattisgarh,Uttar Pradesh,Goa,Gujarat,Haryana,Himachal Pradesh,Jammu and Kashmir,Jharkhand,West Bengal,Madhya Pradesh,Maharashtra,Manipur,Meghalaya,Mizoram,Nagaland,Orissa,Punjab,Rajasthan,Sikkim,Tamil Nadu,Telangana,Tripura,Uttarakhand Uttaranchal"
   ]
  },
  {
   "cell_type": "code",
   "execution_count": 18,
   "id": "ecological-stanford",
   "metadata": {},
   "outputs": [],
   "source": [
    "india_states = \"Andhra Pradesh,Arunachal Pradesh,Assam,Bihar,Karnataka,Kerala,Chhattisgarh,Uttar Pradesh,Goa,Gujarat,Haryana,Himachal Pradesh,Jammu and Kashmir,Jharkhand,West Bengal,Madhya Pradesh,Maharashtra,Manipur,Meghalaya,Mizoram,Nagaland,Orissa,Punjab,Rajasthan,Sikkim,Tamil Nadu,Telangana,Tripura,Uttarakhand Uttaranchal\""
   ]
  },
  {
   "cell_type": "code",
   "execution_count": 19,
   "id": "suffering-petroleum",
   "metadata": {
    "collapsed": true
   },
   "outputs": [
    {
     "data": {
      "text/plain": [
       "['Andhra Pradesh',\n",
       " 'Arunachal Pradesh',\n",
       " 'Assam',\n",
       " 'Bihar',\n",
       " 'Karnataka',\n",
       " 'Kerala',\n",
       " 'Chhattisgarh',\n",
       " 'Uttar Pradesh',\n",
       " 'Goa',\n",
       " 'Gujarat',\n",
       " 'Haryana',\n",
       " 'Himachal Pradesh',\n",
       " 'Jammu and Kashmir',\n",
       " 'Jharkhand',\n",
       " 'West Bengal',\n",
       " 'Madhya Pradesh',\n",
       " 'Maharashtra',\n",
       " 'Manipur',\n",
       " 'Meghalaya',\n",
       " 'Mizoram',\n",
       " 'Nagaland',\n",
       " 'Orissa',\n",
       " 'Punjab',\n",
       " 'Rajasthan',\n",
       " 'Sikkim',\n",
       " 'Tamil Nadu',\n",
       " 'Telangana',\n",
       " 'Tripura',\n",
       " 'Uttarakhand Uttaranchal',\n",
       " 'India']"
      ]
     },
     "execution_count": 19,
     "metadata": {},
     "output_type": "execute_result"
    }
   ],
   "source": [
    "india_states = india_states.split(',')\n",
    "india_states.append('India')\n",
    "india_states"
   ]
  },
  {
   "cell_type": "markdown",
   "id": "electric-coating",
   "metadata": {},
   "source": [
    "**this is used for trail or checking weather the function work properly or not**"
   ]
  },
  {
   "cell_type": "raw",
   "id": "chicken-baptist",
   "metadata": {},
   "source": [
    "\n",
    "#listing all tweets that have keyword covid in its discussion\n",
    "#these are all live tweets from the twitter API till date\n",
    "i=0\n",
    "for tweets in api.search(key_word,since = '2016-10-22'):\n",
    "    #print(tweets.text)\n",
    "    #print(tweets.id_str,tweets.user.screen_name,'\\n','\\n',api.get_user(tweets.user.screen_name).location) #\n",
    "    screen_name = tweets.user.screen_name\n",
    "    #print(id_)\n",
    "    try:\n",
    "        user = api.get_user(screen_name)\n",
    "        #print(user)\n",
    "        location = user.location\n",
    "#        location = ['Kerala','Chhattisgarh','Uttar Pradesh','Goa','Gujarat','Haryana','Himachal Pradesh','Jammu and Kashmir','Jharkhand','West Bengal','Madhya Pradesh','Maharashtra','Manipur','Meghalaya','Mizoram','Nagaland','Orissa','Punjab',]\n",
    "        #print(location)\n",
    "        #india_location = [x for x in india_states if x in location]\n",
    "        if ('Andhra Pradesh' in location) or ('Arunachal Pradesh' in location) or ('Assam' in location) or ('Bihar' in location) or ('Karnataka' in location) or ('Kerala' in location) or ('Chhattisgarh' in location) or ('Uttar Pradesh' in location) or ('Goa' in location) or ('Gujarat' in location) or ('Haryana' in location) or ('Himachal Pradesh' in location) or ('Jammu and Kashmir' in location) or ('Jharkhand' in location) or ('West Bengal' in location) or ('Madhya Pradesh' in location) or ('Maharashtra' in location) or ('Manipur' in location) or ('Meghalaya' in location) or ('Mizoram' in location) or ('Nagaland' in location) or ('Orissa' in location) or ('Punjab' in location) or ('Rajasthan' in location) or ('Sikkim' in location) or ('Tamil Nadu' in location) or ('Telangana' in location) or ('Tripura' in location) or ('Uttarakhand' in location) or ('Uttaranchal' in location) or ('India' in location):\n",
    "              #  print(tweet.created_at)\n",
    "            print(location)\n",
    "#         else:\n",
    "#             print()\n",
    "#             print('not recognized',location)\n",
    "            \n",
    "#             print(i,tweets.id,' -- ',tweets.text,'\\n')\n",
    "#             i = i + 1\n",
    "    except:\n",
    "        print('user not fount')"
   ]
  },
  {
   "cell_type": "code",
   "execution_count": 22,
   "id": "freelance-finish",
   "metadata": {},
   "outputs": [
    {
     "data": {
      "text/plain": [
       "'mental'"
      ]
     },
     "execution_count": 22,
     "metadata": {},
     "output_type": "execute_result"
    }
   ],
   "source": [
    "'_'.join(key_word)"
   ]
  },
  {
   "cell_type": "code",
   "execution_count": 26,
   "id": "joined-anaheim",
   "metadata": {},
   "outputs": [],
   "source": [
    "import pandas as pd\n",
    "import re\n",
    "from textblob import TextBlob"
   ]
  },
  {
   "cell_type": "markdown",
   "id": "modified-specialist",
   "metadata": {},
   "source": [
    "**cleaning the tweets by removing unwanted character**"
   ]
  },
  {
   "cell_type": "code",
   "execution_count": 75,
   "id": "gentle-dairy",
   "metadata": {},
   "outputs": [],
   "source": [
    "def TextClean(tweet):\n",
    "    tweet = ' '.join(re.sub(\"(@[A-Za-z0-9_]+)|([^0-9A-Za-z \\t])|(\\w+:\\/\\/\\s+)|(#+)|(amp)\",\" \", tweet).split())\n",
    "    tweet = ' '.join(re.sub('RT+',' ',tweet).split())\n",
    "    tweet = ' '.join(re.sub('(https[A-Za-z0-9 \\t]+)', ' ', tweet).split())\n",
    "    \n",
    "    return tweet\n"
   ]
  },
  {
   "cell_type": "markdown",
   "id": "faced-addition",
   "metadata": {},
   "source": [
    "**importing libraries for sentiment analysis**"
   ]
  },
  {
   "cell_type": "code",
   "execution_count": 72,
   "id": "military-wednesday",
   "metadata": {},
   "outputs": [],
   "source": [
    "from nltk.sentiment import SentimentIntensityAnalyzer\n",
    "sent = SentimentIntensityAnalyzer()"
   ]
  },
  {
   "cell_type": "markdown",
   "id": "instrumental-cleveland",
   "metadata": {},
   "source": [
    "**creating function for getting the sentiment score**\n",
    "    \n",
    "    using this library we get 4 values \n",
    "    positive = 0-1 --> only provide only positive values\n",
    "    negative = -1,0 --> only provide only negative values\n",
    "    nautral = 0  --> only provide zero values\n",
    "    compound = -1,1 --> provide all values between -1 and 1\n",
    "\n",
    "we are using 'compound' for analysis because we are using the line grapgh for getting severity"
   ]
  },
  {
   "cell_type": "code",
   "execution_count": 73,
   "id": "funky-detection",
   "metadata": {},
   "outputs": [],
   "source": [
    "def sentimnetScore(tweet):\n",
    "    score = sent.polarity_scores(tweet)['compound']\n",
    "    return score"
   ]
  },
  {
   "cell_type": "code",
   "execution_count": 74,
   "id": "handed-charity",
   "metadata": {},
   "outputs": [
    {
     "data": {
      "text/plain": [
       "-0.0772"
      ]
     },
     "execution_count": 74,
     "metadata": {},
     "output_type": "execute_result"
    }
   ],
   "source": [
    "sentimnetScore('Glad to see ground work Indian Youth Congress and NSUI activists across the country for needy and poor people during this Corona epidemic This is the duty of all We fight together and will win Shri CongressiBabbarSherHai')"
   ]
  },
  {
   "cell_type": "markdown",
   "id": "continental-department",
   "metadata": {},
   "source": [
    "**getting tweets accordings to hashtag and for the particular location**"
   ]
  },
  {
   "cell_type": "code",
   "execution_count": 63,
   "id": "fiscal-hierarchy",
   "metadata": {},
   "outputs": [],
   "source": [
    "limit = 3\n"
   ]
  },
  {
   "cell_type": "code",
   "execution_count": 71,
   "id": "peripheral-relative",
   "metadata": {},
   "outputs": [],
   "source": [
    "def tweet_search(key_word):\n",
    "    i = 0\n",
    "    tweets_df = pd.DataFrame(columns = ['Datetime','Tweet_Id','Username'])\n",
    "\n",
    "#searching for the hashtag -\n",
    "    for tweet in tweepy.Cursor(api.search, q=key_word, count=3,since = '2018-01-01',lang='en', tweet_mode='extended').items():\n",
    "        screen_name = tweet.user.screen_name\n",
    "        try:\n",
    "            user = api.get_user(screen_name)\n",
    "            location = user.location\n",
    "\n",
    "# searcihing hashtage which are tweeted by indian peoples\n",
    "            if ('Andhra Pradesh' in location) or ('Arunachal Pradesh' in location) or ('Assam' in location) or ('Bihar' in location) or ('Karnataka' in location) or ('Kerala' in location) or ('Chhattisgarh' in location) or ('Uttar Pradesh' in location) or ('Goa' in location) or ('Gujarat' in location) or ('Haryana' in location) or ('Himachal Pradesh' in location) or ('Jammu and Kashmir' in location) or ('Jharkhand' in location) or ('West Bengal' in location) or ('Madhya Pradesh' in location) or ('Maharashtra' in location) or ('Manipur' in location) or ('Meghalaya' in location) or ('Mizoram' in location) or ('Nagaland' in location) or ('Orissa' in location) or ('Punjab' in location) or ('Rajasthan' in location) or ('Sikkim' in location) or ('Tamil Nadu' in location) or ('Telangana' in location) or ('Tripura' in location) or ('Uttarakhand' in location) or ('Uttaranchal' in location) or ('India' in location):\n",
    "                print('Tweets Downloaded:',i ,'/',limit,end='\\r')\n",
    "                tweets_df = tweets_df.append({'Datetime':tweet.created_at,\n",
    "                                              'Tweet_Id' : tweet.id_str,\n",
    "                                              'Username':tweet.user.screen_name,\n",
    "                                              'Tweet':tweet.full_text}, ignore_index=True)    \n",
    "                i+=1\n",
    "            if i>=limit:\n",
    "                break\n",
    "            else:\n",
    "                pass\n",
    "        except:\n",
    "            print('user not fount')\n",
    "\n",
    "# converted all tweets into a CSV file\n",
    "    tweets_df['Datetime'] = pd.to_datetime(tweets_df['Datetime'], format='%Y.%m.%d %H:%M:%S')   \n",
    "    tweets_df.set_index('Datetime', inplace=True)\n",
    "    tweets_df['CleanTweet'] = tweets_df['Tweet'].apply(TextClean)\n",
    "    tweets_df['SentimentScore'] = tweets_df['CleanTweet'].apply(sentimnetScore)\n",
    "    tweets_df.to_csv(key_words.split(' OR ')[0] + '_tweets_sentiment.csv', encoding='utf-8')\n",
    "\n",
    "\n",
    "    return tweets_df\n"
   ]
  },
  {
   "cell_type": "markdown",
   "id": "commercial-tribune",
   "metadata": {},
   "source": [
    "**creading a dataframe**"
   ]
  },
  {
   "cell_type": "code",
   "execution_count": 33,
   "id": "sitting-tobacco",
   "metadata": {},
   "outputs": [
    {
     "name": "stdout",
     "output_type": "stream",
     "text": [
      "Tweets Downloaded: 9 / 10\r"
     ]
    }
   ],
   "source": [
    "tweets_df = tweet_search(key_word)\n"
   ]
  },
  {
   "cell_type": "code",
   "execution_count": 34,
   "id": "rolled-length",
   "metadata": {},
   "outputs": [
    {
     "data": {
      "text/html": [
       "<div>\n",
       "<style scoped>\n",
       "    .dataframe tbody tr th:only-of-type {\n",
       "        vertical-align: middle;\n",
       "    }\n",
       "\n",
       "    .dataframe tbody tr th {\n",
       "        vertical-align: top;\n",
       "    }\n",
       "\n",
       "    .dataframe thead th {\n",
       "        text-align: right;\n",
       "    }\n",
       "</style>\n",
       "<table border=\"1\" class=\"dataframe\">\n",
       "  <thead>\n",
       "    <tr style=\"text-align: right;\">\n",
       "      <th></th>\n",
       "      <th>Tweet_Id</th>\n",
       "      <th>Username</th>\n",
       "      <th>Tweet</th>\n",
       "      <th>CleanTweet</th>\n",
       "      <th>SentimentScore</th>\n",
       "    </tr>\n",
       "    <tr>\n",
       "      <th>Datetime</th>\n",
       "      <th></th>\n",
       "      <th></th>\n",
       "      <th></th>\n",
       "      <th></th>\n",
       "      <th></th>\n",
       "    </tr>\n",
       "  </thead>\n",
       "  <tbody>\n",
       "    <tr>\n",
       "      <th>2021-07-18 07:19:09</th>\n",
       "      <td>1416658784114462720</td>\n",
       "      <td>MachindranathB4</td>\n",
       "      <td>RT @srd71: #immunityboosteryoga Guru Siyag Sid...</td>\n",
       "      <td>immunityboosteryoga Guru Siyag SiddhaYoga is o...</td>\n",
       "      <td>-0.2960</td>\n",
       "    </tr>\n",
       "    <tr>\n",
       "      <th>2021-07-18 07:19:04</th>\n",
       "      <td>1416658763025510402</td>\n",
       "      <td>MachindranathB4</td>\n",
       "      <td>RT @AartiJa64104564: #immunityboosteryoga     ...</td>\n",
       "      <td>immunityboosteryoga Mental health issues are g...</td>\n",
       "      <td>0.5574</td>\n",
       "    </tr>\n",
       "    <tr>\n",
       "      <th>2021-07-18 07:18:30</th>\n",
       "      <td>1416658621048315904</td>\n",
       "      <td>memes_therapies</td>\n",
       "      <td>RT @vishcomical: Taarak Mehta Old Episodes sho...</td>\n",
       "      <td>Taarak Mehta Old Episodes should officially be...</td>\n",
       "      <td>0.0000</td>\n",
       "    </tr>\n",
       "    <tr>\n",
       "      <th>2021-07-18 07:18:22</th>\n",
       "      <td>1416658590216065033</td>\n",
       "      <td>ok__listen</td>\n",
       "      <td>RT @vishcomical: Taarak Mehta Old Episodes sho...</td>\n",
       "      <td>Taarak Mehta Old Episodes should officially be...</td>\n",
       "      <td>0.0000</td>\n",
       "    </tr>\n",
       "    <tr>\n",
       "      <th>2021-07-18 07:18:22</th>\n",
       "      <td>1416658588660113411</td>\n",
       "      <td>atlantis1021</td>\n",
       "      <td>@LandofLincoln39 @_NotPrisons GFOH.. She wasn’...</td>\n",
       "      <td>GFOH She wasn t suffering from a mental illnes...</td>\n",
       "      <td>-0.9236</td>\n",
       "    </tr>\n",
       "  </tbody>\n",
       "</table>\n",
       "</div>"
      ],
      "text/plain": [
       "                                Tweet_Id         Username  \\\n",
       "Datetime                                                    \n",
       "2021-07-18 07:19:09  1416658784114462720  MachindranathB4   \n",
       "2021-07-18 07:19:04  1416658763025510402  MachindranathB4   \n",
       "2021-07-18 07:18:30  1416658621048315904  memes_therapies   \n",
       "2021-07-18 07:18:22  1416658590216065033       ok__listen   \n",
       "2021-07-18 07:18:22  1416658588660113411     atlantis1021   \n",
       "\n",
       "                                                                 Tweet  \\\n",
       "Datetime                                                                 \n",
       "2021-07-18 07:19:09  RT @srd71: #immunityboosteryoga Guru Siyag Sid...   \n",
       "2021-07-18 07:19:04  RT @AartiJa64104564: #immunityboosteryoga     ...   \n",
       "2021-07-18 07:18:30  RT @vishcomical: Taarak Mehta Old Episodes sho...   \n",
       "2021-07-18 07:18:22  RT @vishcomical: Taarak Mehta Old Episodes sho...   \n",
       "2021-07-18 07:18:22  @LandofLincoln39 @_NotPrisons GFOH.. She wasn’...   \n",
       "\n",
       "                                                            CleanTweet  \\\n",
       "Datetime                                                                 \n",
       "2021-07-18 07:19:09  immunityboosteryoga Guru Siyag SiddhaYoga is o...   \n",
       "2021-07-18 07:19:04  immunityboosteryoga Mental health issues are g...   \n",
       "2021-07-18 07:18:30  Taarak Mehta Old Episodes should officially be...   \n",
       "2021-07-18 07:18:22  Taarak Mehta Old Episodes should officially be...   \n",
       "2021-07-18 07:18:22  GFOH She wasn t suffering from a mental illnes...   \n",
       "\n",
       "                     SentimentScore  \n",
       "Datetime                             \n",
       "2021-07-18 07:19:09         -0.2960  \n",
       "2021-07-18 07:19:04          0.5574  \n",
       "2021-07-18 07:18:30          0.0000  \n",
       "2021-07-18 07:18:22          0.0000  \n",
       "2021-07-18 07:18:22         -0.9236  "
      ]
     },
     "execution_count": 34,
     "metadata": {},
     "output_type": "execute_result"
    }
   ],
   "source": [
    "tweets_df.head()"
   ]
  },
  {
   "cell_type": "code",
   "execution_count": 35,
   "id": "frozen-process",
   "metadata": {},
   "outputs": [
    {
     "data": {
      "text/html": [
       "<div>\n",
       "<style scoped>\n",
       "    .dataframe tbody tr th:only-of-type {\n",
       "        vertical-align: middle;\n",
       "    }\n",
       "\n",
       "    .dataframe tbody tr th {\n",
       "        vertical-align: top;\n",
       "    }\n",
       "\n",
       "    .dataframe thead th {\n",
       "        text-align: right;\n",
       "    }\n",
       "</style>\n",
       "<table border=\"1\" class=\"dataframe\">\n",
       "  <thead>\n",
       "    <tr style=\"text-align: right;\">\n",
       "      <th></th>\n",
       "      <th>Tweet_Id</th>\n",
       "      <th>Username</th>\n",
       "      <th>Tweet</th>\n",
       "      <th>CleanTweet</th>\n",
       "      <th>SentimentScore</th>\n",
       "    </tr>\n",
       "    <tr>\n",
       "      <th>Datetime</th>\n",
       "      <th></th>\n",
       "      <th></th>\n",
       "      <th></th>\n",
       "      <th></th>\n",
       "      <th></th>\n",
       "    </tr>\n",
       "  </thead>\n",
       "  <tbody>\n",
       "    <tr>\n",
       "      <th>2021-07-18 07:18:16</th>\n",
       "      <td>1416658563670306817</td>\n",
       "      <td>Stan_Sidharth</td>\n",
       "      <td>RT @sulachi11: The series came out at the peak...</td>\n",
       "      <td>The series came out at the peak of the second ...</td>\n",
       "      <td>-0.5499</td>\n",
       "    </tr>\n",
       "    <tr>\n",
       "      <th>2021-07-18 07:17:45</th>\n",
       "      <td>1416658434854772739</td>\n",
       "      <td>Claudia_53853</td>\n",
       "      <td>Dealing with this false cases has given us men...</td>\n",
       "      <td>Dealing with this false cases has given us men...</td>\n",
       "      <td>-0.0258</td>\n",
       "    </tr>\n",
       "    <tr>\n",
       "      <th>2021-07-18 07:17:09</th>\n",
       "      <td>1416658283323027461</td>\n",
       "      <td>theprayagtiwari</td>\n",
       "      <td>RT @vishcomical: Taarak Mehta Old Episodes sho...</td>\n",
       "      <td>Taarak Mehta Old Episodes should officially be...</td>\n",
       "      <td>0.0000</td>\n",
       "    </tr>\n",
       "    <tr>\n",
       "      <th>2021-07-18 07:16:39</th>\n",
       "      <td>1416658158164996098</td>\n",
       "      <td>___shivaniii</td>\n",
       "      <td>RT @vishcomical: Taarak Mehta Old Episodes sho...</td>\n",
       "      <td>Taarak Mehta Old Episodes should officially be...</td>\n",
       "      <td>0.0000</td>\n",
       "    </tr>\n",
       "    <tr>\n",
       "      <th>2021-07-18 07:16:15</th>\n",
       "      <td>1416658054968270848</td>\n",
       "      <td>_sangameshT</td>\n",
       "      <td>RT @vishcomical: Taarak Mehta Old Episodes sho...</td>\n",
       "      <td>Taarak Mehta Old Episodes should officially be...</td>\n",
       "      <td>0.0000</td>\n",
       "    </tr>\n",
       "  </tbody>\n",
       "</table>\n",
       "</div>"
      ],
      "text/plain": [
       "                                Tweet_Id         Username  \\\n",
       "Datetime                                                    \n",
       "2021-07-18 07:18:16  1416658563670306817    Stan_Sidharth   \n",
       "2021-07-18 07:17:45  1416658434854772739    Claudia_53853   \n",
       "2021-07-18 07:17:09  1416658283323027461  theprayagtiwari   \n",
       "2021-07-18 07:16:39  1416658158164996098     ___shivaniii   \n",
       "2021-07-18 07:16:15  1416658054968270848      _sangameshT   \n",
       "\n",
       "                                                                 Tweet  \\\n",
       "Datetime                                                                 \n",
       "2021-07-18 07:18:16  RT @sulachi11: The series came out at the peak...   \n",
       "2021-07-18 07:17:45  Dealing with this false cases has given us men...   \n",
       "2021-07-18 07:17:09  RT @vishcomical: Taarak Mehta Old Episodes sho...   \n",
       "2021-07-18 07:16:39  RT @vishcomical: Taarak Mehta Old Episodes sho...   \n",
       "2021-07-18 07:16:15  RT @vishcomical: Taarak Mehta Old Episodes sho...   \n",
       "\n",
       "                                                            CleanTweet  \\\n",
       "Datetime                                                                 \n",
       "2021-07-18 07:18:16  The series came out at the peak of the second ...   \n",
       "2021-07-18 07:17:45  Dealing with this false cases has given us men...   \n",
       "2021-07-18 07:17:09  Taarak Mehta Old Episodes should officially be...   \n",
       "2021-07-18 07:16:39  Taarak Mehta Old Episodes should officially be...   \n",
       "2021-07-18 07:16:15  Taarak Mehta Old Episodes should officially be...   \n",
       "\n",
       "                     SentimentScore  \n",
       "Datetime                             \n",
       "2021-07-18 07:18:16         -0.5499  \n",
       "2021-07-18 07:17:45         -0.0258  \n",
       "2021-07-18 07:17:09          0.0000  \n",
       "2021-07-18 07:16:39          0.0000  \n",
       "2021-07-18 07:16:15          0.0000  "
      ]
     },
     "execution_count": 35,
     "metadata": {},
     "output_type": "execute_result"
    }
   ],
   "source": [
    "tweets_df.tail()"
   ]
  },
  {
   "cell_type": "code",
   "execution_count": 58,
   "id": "miniature-creator",
   "metadata": {},
   "outputs": [
    {
     "data": {
      "text/plain": [
       "'suicide'"
      ]
     },
     "execution_count": 58,
     "metadata": {},
     "output_type": "execute_result"
    }
   ],
   "source": [
    "' or '.join(key_word).split(' or ')[0]"
   ]
  },
  {
   "cell_type": "markdown",
   "id": "defensive-vault",
   "metadata": {},
   "source": [
    "**getting datasets for different keywords**"
   ]
  },
  {
   "cell_type": "code",
   "execution_count": 65,
   "id": "fuzzy-modern",
   "metadata": {},
   "outputs": [
    {
     "name": "stdout",
     "output_type": "stream",
     "text": [
      "Tweets Downloaded: 0 / 3\r"
     ]
    },
    {
     "name": "stderr",
     "output_type": "stream",
     "text": [
      "Rate limit reached. Sleeping for: 99\n"
     ]
    },
    {
     "name": "stdout",
     "output_type": "stream",
     "text": [
      "Tweets Downloaded: 2 / 3\r"
     ]
    },
    {
     "name": "stderr",
     "output_type": "stream",
     "text": [
      "Rate limit reached. Sleeping for: 125\n"
     ]
    },
    {
     "name": "stdout",
     "output_type": "stream",
     "text": [
      "Tweets Downloaded: 2 / 3\r"
     ]
    }
   ],
   "source": [
    "for i in key_word:\n",
    "    key_words = ' OR '.join(i)\n",
    "    tweet_search(key_words)"
   ]
  },
  {
   "cell_type": "code",
   "execution_count": 67,
   "id": "senior-cinema",
   "metadata": {},
   "outputs": [
    {
     "data": {
      "text/html": [
       "<div>\n",
       "<style scoped>\n",
       "    .dataframe tbody tr th:only-of-type {\n",
       "        vertical-align: middle;\n",
       "    }\n",
       "\n",
       "    .dataframe tbody tr th {\n",
       "        vertical-align: top;\n",
       "    }\n",
       "\n",
       "    .dataframe thead th {\n",
       "        text-align: right;\n",
       "    }\n",
       "</style>\n",
       "<table border=\"1\" class=\"dataframe\">\n",
       "  <thead>\n",
       "    <tr style=\"text-align: right;\">\n",
       "      <th></th>\n",
       "      <th>Tweet_Id</th>\n",
       "      <th>Username</th>\n",
       "      <th>Tweet</th>\n",
       "      <th>CleanTweet</th>\n",
       "      <th>SentimentScore</th>\n",
       "    </tr>\n",
       "    <tr>\n",
       "      <th>Datetime</th>\n",
       "      <th></th>\n",
       "      <th></th>\n",
       "      <th></th>\n",
       "      <th></th>\n",
       "      <th></th>\n",
       "    </tr>\n",
       "  </thead>\n",
       "  <tbody>\n",
       "    <tr>\n",
       "      <th>2021-07-18 07:19:09</th>\n",
       "      <td>1416658784114462720</td>\n",
       "      <td>MachindranathB4</td>\n",
       "      <td>RT @srd71: #immunityboosteryoga Guru Siyag Sid...</td>\n",
       "      <td>immunityboosteryoga Guru Siyag SiddhaYoga is o...</td>\n",
       "      <td>-0.2960</td>\n",
       "    </tr>\n",
       "    <tr>\n",
       "      <th>2021-07-18 07:19:04</th>\n",
       "      <td>1416658763025510402</td>\n",
       "      <td>MachindranathB4</td>\n",
       "      <td>RT @AartiJa64104564: #immunityboosteryoga     ...</td>\n",
       "      <td>immunityboosteryoga Mental health issues are g...</td>\n",
       "      <td>0.5574</td>\n",
       "    </tr>\n",
       "    <tr>\n",
       "      <th>2021-07-18 07:18:30</th>\n",
       "      <td>1416658621048315904</td>\n",
       "      <td>memes_therapies</td>\n",
       "      <td>RT @vishcomical: Taarak Mehta Old Episodes sho...</td>\n",
       "      <td>Taarak Mehta Old Episodes should officially be...</td>\n",
       "      <td>0.0000</td>\n",
       "    </tr>\n",
       "    <tr>\n",
       "      <th>2021-07-18 07:18:22</th>\n",
       "      <td>1416658590216065033</td>\n",
       "      <td>ok__listen</td>\n",
       "      <td>RT @vishcomical: Taarak Mehta Old Episodes sho...</td>\n",
       "      <td>Taarak Mehta Old Episodes should officially be...</td>\n",
       "      <td>0.0000</td>\n",
       "    </tr>\n",
       "    <tr>\n",
       "      <th>2021-07-18 07:18:22</th>\n",
       "      <td>1416658588660113411</td>\n",
       "      <td>atlantis1021</td>\n",
       "      <td>@LandofLincoln39 @_NotPrisons GFOH.. She wasn’...</td>\n",
       "      <td>GFOH She wasn t suffering from a mental illnes...</td>\n",
       "      <td>-0.9236</td>\n",
       "    </tr>\n",
       "  </tbody>\n",
       "</table>\n",
       "</div>"
      ],
      "text/plain": [
       "                                Tweet_Id         Username  \\\n",
       "Datetime                                                    \n",
       "2021-07-18 07:19:09  1416658784114462720  MachindranathB4   \n",
       "2021-07-18 07:19:04  1416658763025510402  MachindranathB4   \n",
       "2021-07-18 07:18:30  1416658621048315904  memes_therapies   \n",
       "2021-07-18 07:18:22  1416658590216065033       ok__listen   \n",
       "2021-07-18 07:18:22  1416658588660113411     atlantis1021   \n",
       "\n",
       "                                                                 Tweet  \\\n",
       "Datetime                                                                 \n",
       "2021-07-18 07:19:09  RT @srd71: #immunityboosteryoga Guru Siyag Sid...   \n",
       "2021-07-18 07:19:04  RT @AartiJa64104564: #immunityboosteryoga     ...   \n",
       "2021-07-18 07:18:30  RT @vishcomical: Taarak Mehta Old Episodes sho...   \n",
       "2021-07-18 07:18:22  RT @vishcomical: Taarak Mehta Old Episodes sho...   \n",
       "2021-07-18 07:18:22  @LandofLincoln39 @_NotPrisons GFOH.. She wasn’...   \n",
       "\n",
       "                                                            CleanTweet  \\\n",
       "Datetime                                                                 \n",
       "2021-07-18 07:19:09  immunityboosteryoga Guru Siyag SiddhaYoga is o...   \n",
       "2021-07-18 07:19:04  immunityboosteryoga Mental health issues are g...   \n",
       "2021-07-18 07:18:30  Taarak Mehta Old Episodes should officially be...   \n",
       "2021-07-18 07:18:22  Taarak Mehta Old Episodes should officially be...   \n",
       "2021-07-18 07:18:22  GFOH She wasn t suffering from a mental illnes...   \n",
       "\n",
       "                     SentimentScore  \n",
       "Datetime                             \n",
       "2021-07-18 07:19:09         -0.2960  \n",
       "2021-07-18 07:19:04          0.5574  \n",
       "2021-07-18 07:18:30          0.0000  \n",
       "2021-07-18 07:18:22          0.0000  \n",
       "2021-07-18 07:18:22         -0.9236  "
      ]
     },
     "execution_count": 67,
     "metadata": {},
     "output_type": "execute_result"
    }
   ],
   "source": [
    "tweets_df.head()"
   ]
  },
  {
   "cell_type": "code",
   "execution_count": 68,
   "id": "finished-bible",
   "metadata": {},
   "outputs": [
    {
     "data": {
      "application/javascript": [
       "\n",
       "        if (window._pyforest_update_imports_cell) { window._pyforest_update_imports_cell('import matplotlib.pyplot as plt\\nimport numpy as np'); }\n",
       "    "
      ],
      "text/plain": [
       "<IPython.core.display.Javascript object>"
      ]
     },
     "metadata": {},
     "output_type": "display_data"
    },
    {
     "data": {
      "text/plain": [
       "[<matplotlib.lines.Line2D at 0x2012cbe02e8>]"
      ]
     },
     "execution_count": 68,
     "metadata": {},
     "output_type": "execute_result"
    },
    {
     "data": {
      "image/png": "[encoded data removed]",
      "text/plain": [
       "<Figure size 432x288 with 1 Axes>"
      ]
     },
     "metadata": {
      "needs_background": "light"
     },
     "output_type": "display_data"
    }
   ],
   "source": [
    "plt.plot(tweets_df.index,tweets_df['SentimentScore'])"
   ]
  },
  {
   "cell_type": "code",
   "execution_count": null,
   "id": "heated-description",
   "metadata": {},
   "outputs": [],
   "source": []
  },
  {
   "cell_type": "code",
   "execution_count": null,
   "id": "korean-kansas",
   "metadata": {},
   "outputs": [],
   "source": []
  },
  {
   "cell_type": "code",
   "execution_count": null,
   "id": "controversial-geography",
   "metadata": {},
   "outputs": [],
   "source": []
  },
  {
   "cell_type": "code",
   "execution_count": null,
   "id": "constitutional-exhaust",
   "metadata": {},
   "outputs": [],
   "source": []
  }
 ],
 "metadata": {
  "kernelspec": {
   "display_name": "Python 3",
   "language": "python",
   "name": "python3"
  },
  "language_info": {
   "codemirror_mode": {
    "name": "ipython",
    "version": 3
   },
   "file_extension": ".py",
   "mimetype": "text/x-python",
   "name": "python",
   "nbconvert_exporter": "python",
   "pygments_lexer": "ipython3",
   "version": "3.7.1"
  },
  "latex_envs": {
   "LaTeX_envs_menu_present": true,
   "autoclose": false,
   "autocomplete": true,
   "bibliofile": "biblio.bib",
   "cite_by": "apalike",
   "current_citInitial": 1,
   "eqLabelWithNumbers": true,
   "eqNumInitial": 1,
   "hotkeys": {
    "equation": "Ctrl-E",
    "itemize": "Ctrl-I"
   },
   "labels_anchors": false,
   "latex_user_defs": false,
   "report_style_numbering": false,
   "user_envs_cfg": false
  }
 },
 "nbformat": 4,
 "nbformat_minor": 5
}
