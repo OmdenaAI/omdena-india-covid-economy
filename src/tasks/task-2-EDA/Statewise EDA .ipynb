{
 "cells": [
  {
   "cell_type": "code",
   "execution_count": 1,
   "metadata": {},
   "outputs": [],
   "source": [
    "import numpy as np # linear algebra\n",
    "import pandas as pd "
   ]
  },
  {
   "cell_type": "code",
   "execution_count": 2,
   "metadata": {},
   "outputs": [],
   "source": [
    "import pandas as pd\n",
    "import numpy as np\n",
    "import matplotlib.pyplot as plt\n",
    "import seaborn as sns\n",
    "import plotly.express as px\n",
    "from plotly.subplots import make_subplots\n",
    "from datetime import datetime"
   ]
  },
  {
   "cell_type": "code",
   "execution_count": 3,
   "metadata": {},
   "outputs": [
    {
     "ename": "FileNotFoundError",
     "evalue": "[Errno 2] No such file or directory: 'covid_19_india.csv'",
     "output_type": "error",
     "traceback": [
      "\u001b[1;31m---------------------------------------------------------------------------\u001b[0m",
      "\u001b[1;31mFileNotFoundError\u001b[0m                         Traceback (most recent call last)",
      "\u001b[1;32m~\\AppData\\Local\\Temp/ipykernel_11452/289109676.py\u001b[0m in \u001b[0;36m<module>\u001b[1;34m\u001b[0m\n\u001b[1;32m----> 1\u001b[1;33m \u001b[0mdf\u001b[0m \u001b[1;33m=\u001b[0m \u001b[0mpd\u001b[0m\u001b[1;33m.\u001b[0m\u001b[0mread_csv\u001b[0m\u001b[1;33m(\u001b[0m\u001b[1;34m\"covid_19_india.csv\"\u001b[0m\u001b[1;33m)\u001b[0m\u001b[1;33m\u001b[0m\u001b[1;33m\u001b[0m\u001b[0m\n\u001b[0m\u001b[0;32m      2\u001b[0m \u001b[1;33m\u001b[0m\u001b[0m\n\u001b[0;32m      3\u001b[0m \u001b[1;31m# take a look at the dataset\u001b[0m\u001b[1;33m\u001b[0m\u001b[1;33m\u001b[0m\u001b[1;33m\u001b[0m\u001b[0m\n\u001b[0;32m      4\u001b[0m \u001b[0mdf\u001b[0m\u001b[1;33m.\u001b[0m\u001b[0mtail\u001b[0m\u001b[1;33m(\u001b[0m\u001b[1;33m)\u001b[0m\u001b[1;33m\u001b[0m\u001b[1;33m\u001b[0m\u001b[0m\n",
      "\u001b[1;32mc:\\aditi_softwares\\python\\lib\\site-packages\\pandas\\util\\_decorators.py\u001b[0m in \u001b[0;36mwrapper\u001b[1;34m(*args, **kwargs)\u001b[0m\n\u001b[0;32m    309\u001b[0m                     \u001b[0mstacklevel\u001b[0m\u001b[1;33m=\u001b[0m\u001b[0mstacklevel\u001b[0m\u001b[1;33m,\u001b[0m\u001b[1;33m\u001b[0m\u001b[1;33m\u001b[0m\u001b[0m\n\u001b[0;32m    310\u001b[0m                 )\n\u001b[1;32m--> 311\u001b[1;33m             \u001b[1;32mreturn\u001b[0m \u001b[0mfunc\u001b[0m\u001b[1;33m(\u001b[0m\u001b[1;33m*\u001b[0m\u001b[0margs\u001b[0m\u001b[1;33m,\u001b[0m \u001b[1;33m**\u001b[0m\u001b[0mkwargs\u001b[0m\u001b[1;33m)\u001b[0m\u001b[1;33m\u001b[0m\u001b[1;33m\u001b[0m\u001b[0m\n\u001b[0m\u001b[0;32m    312\u001b[0m \u001b[1;33m\u001b[0m\u001b[0m\n\u001b[0;32m    313\u001b[0m         \u001b[1;32mreturn\u001b[0m \u001b[0mwrapper\u001b[0m\u001b[1;33m\u001b[0m\u001b[1;33m\u001b[0m\u001b[0m\n",
      "\u001b[1;32mc:\\aditi_softwares\\python\\lib\\site-packages\\pandas\\io\\parsers\\readers.py\u001b[0m in \u001b[0;36mread_csv\u001b[1;34m(filepath_or_buffer, sep, delimiter, header, names, index_col, usecols, squeeze, prefix, mangle_dupe_cols, dtype, engine, converters, true_values, false_values, skipinitialspace, skiprows, skipfooter, nrows, na_values, keep_default_na, na_filter, verbose, skip_blank_lines, parse_dates, infer_datetime_format, keep_date_col, date_parser, dayfirst, cache_dates, iterator, chunksize, compression, thousands, decimal, lineterminator, quotechar, quoting, doublequote, escapechar, comment, encoding, encoding_errors, dialect, error_bad_lines, warn_bad_lines, on_bad_lines, delim_whitespace, low_memory, memory_map, float_precision, storage_options)\u001b[0m\n\u001b[0;32m    584\u001b[0m     \u001b[0mkwds\u001b[0m\u001b[1;33m.\u001b[0m\u001b[0mupdate\u001b[0m\u001b[1;33m(\u001b[0m\u001b[0mkwds_defaults\u001b[0m\u001b[1;33m)\u001b[0m\u001b[1;33m\u001b[0m\u001b[1;33m\u001b[0m\u001b[0m\n\u001b[0;32m    585\u001b[0m \u001b[1;33m\u001b[0m\u001b[0m\n\u001b[1;32m--> 586\u001b[1;33m     \u001b[1;32mreturn\u001b[0m \u001b[0m_read\u001b[0m\u001b[1;33m(\u001b[0m\u001b[0mfilepath_or_buffer\u001b[0m\u001b[1;33m,\u001b[0m \u001b[0mkwds\u001b[0m\u001b[1;33m)\u001b[0m\u001b[1;33m\u001b[0m\u001b[1;33m\u001b[0m\u001b[0m\n\u001b[0m\u001b[0;32m    587\u001b[0m \u001b[1;33m\u001b[0m\u001b[0m\n\u001b[0;32m    588\u001b[0m \u001b[1;33m\u001b[0m\u001b[0m\n",
      "\u001b[1;32mc:\\aditi_softwares\\python\\lib\\site-packages\\pandas\\io\\parsers\\readers.py\u001b[0m in \u001b[0;36m_read\u001b[1;34m(filepath_or_buffer, kwds)\u001b[0m\n\u001b[0;32m    480\u001b[0m \u001b[1;33m\u001b[0m\u001b[0m\n\u001b[0;32m    481\u001b[0m     \u001b[1;31m# Create the parser.\u001b[0m\u001b[1;33m\u001b[0m\u001b[1;33m\u001b[0m\u001b[1;33m\u001b[0m\u001b[0m\n\u001b[1;32m--> 482\u001b[1;33m     \u001b[0mparser\u001b[0m \u001b[1;33m=\u001b[0m \u001b[0mTextFileReader\u001b[0m\u001b[1;33m(\u001b[0m\u001b[0mfilepath_or_buffer\u001b[0m\u001b[1;33m,\u001b[0m \u001b[1;33m**\u001b[0m\u001b[0mkwds\u001b[0m\u001b[1;33m)\u001b[0m\u001b[1;33m\u001b[0m\u001b[1;33m\u001b[0m\u001b[0m\n\u001b[0m\u001b[0;32m    483\u001b[0m \u001b[1;33m\u001b[0m\u001b[0m\n\u001b[0;32m    484\u001b[0m     \u001b[1;32mif\u001b[0m \u001b[0mchunksize\u001b[0m \u001b[1;32mor\u001b[0m \u001b[0miterator\u001b[0m\u001b[1;33m:\u001b[0m\u001b[1;33m\u001b[0m\u001b[1;33m\u001b[0m\u001b[0m\n",
      "\u001b[1;32mc:\\aditi_softwares\\python\\lib\\site-packages\\pandas\\io\\parsers\\readers.py\u001b[0m in \u001b[0;36m__init__\u001b[1;34m(self, f, engine, **kwds)\u001b[0m\n\u001b[0;32m    809\u001b[0m             \u001b[0mself\u001b[0m\u001b[1;33m.\u001b[0m\u001b[0moptions\u001b[0m\u001b[1;33m[\u001b[0m\u001b[1;34m\"has_index_names\"\u001b[0m\u001b[1;33m]\u001b[0m \u001b[1;33m=\u001b[0m \u001b[0mkwds\u001b[0m\u001b[1;33m[\u001b[0m\u001b[1;34m\"has_index_names\"\u001b[0m\u001b[1;33m]\u001b[0m\u001b[1;33m\u001b[0m\u001b[1;33m\u001b[0m\u001b[0m\n\u001b[0;32m    810\u001b[0m \u001b[1;33m\u001b[0m\u001b[0m\n\u001b[1;32m--> 811\u001b[1;33m         \u001b[0mself\u001b[0m\u001b[1;33m.\u001b[0m\u001b[0m_engine\u001b[0m \u001b[1;33m=\u001b[0m \u001b[0mself\u001b[0m\u001b[1;33m.\u001b[0m\u001b[0m_make_engine\u001b[0m\u001b[1;33m(\u001b[0m\u001b[0mself\u001b[0m\u001b[1;33m.\u001b[0m\u001b[0mengine\u001b[0m\u001b[1;33m)\u001b[0m\u001b[1;33m\u001b[0m\u001b[1;33m\u001b[0m\u001b[0m\n\u001b[0m\u001b[0;32m    812\u001b[0m \u001b[1;33m\u001b[0m\u001b[0m\n\u001b[0;32m    813\u001b[0m     \u001b[1;32mdef\u001b[0m \u001b[0mclose\u001b[0m\u001b[1;33m(\u001b[0m\u001b[0mself\u001b[0m\u001b[1;33m)\u001b[0m\u001b[1;33m:\u001b[0m\u001b[1;33m\u001b[0m\u001b[1;33m\u001b[0m\u001b[0m\n",
      "\u001b[1;32mc:\\aditi_softwares\\python\\lib\\site-packages\\pandas\\io\\parsers\\readers.py\u001b[0m in \u001b[0;36m_make_engine\u001b[1;34m(self, engine)\u001b[0m\n\u001b[0;32m   1038\u001b[0m             )\n\u001b[0;32m   1039\u001b[0m         \u001b[1;31m# error: Too many arguments for \"ParserBase\"\u001b[0m\u001b[1;33m\u001b[0m\u001b[1;33m\u001b[0m\u001b[1;33m\u001b[0m\u001b[0m\n\u001b[1;32m-> 1040\u001b[1;33m         \u001b[1;32mreturn\u001b[0m \u001b[0mmapping\u001b[0m\u001b[1;33m[\u001b[0m\u001b[0mengine\u001b[0m\u001b[1;33m]\u001b[0m\u001b[1;33m(\u001b[0m\u001b[0mself\u001b[0m\u001b[1;33m.\u001b[0m\u001b[0mf\u001b[0m\u001b[1;33m,\u001b[0m \u001b[1;33m**\u001b[0m\u001b[0mself\u001b[0m\u001b[1;33m.\u001b[0m\u001b[0moptions\u001b[0m\u001b[1;33m)\u001b[0m  \u001b[1;31m# type: ignore[call-arg]\u001b[0m\u001b[1;33m\u001b[0m\u001b[1;33m\u001b[0m\u001b[0m\n\u001b[0m\u001b[0;32m   1041\u001b[0m \u001b[1;33m\u001b[0m\u001b[0m\n\u001b[0;32m   1042\u001b[0m     \u001b[1;32mdef\u001b[0m \u001b[0m_failover_to_python\u001b[0m\u001b[1;33m(\u001b[0m\u001b[0mself\u001b[0m\u001b[1;33m)\u001b[0m\u001b[1;33m:\u001b[0m\u001b[1;33m\u001b[0m\u001b[1;33m\u001b[0m\u001b[0m\n",
      "\u001b[1;32mc:\\aditi_softwares\\python\\lib\\site-packages\\pandas\\io\\parsers\\c_parser_wrapper.py\u001b[0m in \u001b[0;36m__init__\u001b[1;34m(self, src, **kwds)\u001b[0m\n\u001b[0;32m     49\u001b[0m \u001b[1;33m\u001b[0m\u001b[0m\n\u001b[0;32m     50\u001b[0m         \u001b[1;31m# open handles\u001b[0m\u001b[1;33m\u001b[0m\u001b[1;33m\u001b[0m\u001b[1;33m\u001b[0m\u001b[0m\n\u001b[1;32m---> 51\u001b[1;33m         \u001b[0mself\u001b[0m\u001b[1;33m.\u001b[0m\u001b[0m_open_handles\u001b[0m\u001b[1;33m(\u001b[0m\u001b[0msrc\u001b[0m\u001b[1;33m,\u001b[0m \u001b[0mkwds\u001b[0m\u001b[1;33m)\u001b[0m\u001b[1;33m\u001b[0m\u001b[1;33m\u001b[0m\u001b[0m\n\u001b[0m\u001b[0;32m     52\u001b[0m         \u001b[1;32massert\u001b[0m \u001b[0mself\u001b[0m\u001b[1;33m.\u001b[0m\u001b[0mhandles\u001b[0m \u001b[1;32mis\u001b[0m \u001b[1;32mnot\u001b[0m \u001b[1;32mNone\u001b[0m\u001b[1;33m\u001b[0m\u001b[1;33m\u001b[0m\u001b[0m\n\u001b[0;32m     53\u001b[0m \u001b[1;33m\u001b[0m\u001b[0m\n",
      "\u001b[1;32mc:\\aditi_softwares\\python\\lib\\site-packages\\pandas\\io\\parsers\\base_parser.py\u001b[0m in \u001b[0;36m_open_handles\u001b[1;34m(self, src, kwds)\u001b[0m\n\u001b[0;32m    220\u001b[0m         \u001b[0mLet\u001b[0m \u001b[0mthe\u001b[0m \u001b[0mreaders\u001b[0m \u001b[0mopen\u001b[0m \u001b[0mIOHandles\u001b[0m \u001b[0mafter\u001b[0m \u001b[0mthey\u001b[0m \u001b[0mare\u001b[0m \u001b[0mdone\u001b[0m \u001b[1;32mwith\u001b[0m \u001b[0mtheir\u001b[0m \u001b[0mpotential\u001b[0m \u001b[0mraises\u001b[0m\u001b[1;33m.\u001b[0m\u001b[1;33m\u001b[0m\u001b[1;33m\u001b[0m\u001b[0m\n\u001b[0;32m    221\u001b[0m         \"\"\"\n\u001b[1;32m--> 222\u001b[1;33m         self.handles = get_handle(\n\u001b[0m\u001b[0;32m    223\u001b[0m             \u001b[0msrc\u001b[0m\u001b[1;33m,\u001b[0m\u001b[1;33m\u001b[0m\u001b[1;33m\u001b[0m\u001b[0m\n\u001b[0;32m    224\u001b[0m             \u001b[1;34m\"r\"\u001b[0m\u001b[1;33m,\u001b[0m\u001b[1;33m\u001b[0m\u001b[1;33m\u001b[0m\u001b[0m\n",
      "\u001b[1;32mc:\\aditi_softwares\\python\\lib\\site-packages\\pandas\\io\\common.py\u001b[0m in \u001b[0;36mget_handle\u001b[1;34m(path_or_buf, mode, encoding, compression, memory_map, is_text, errors, storage_options)\u001b[0m\n\u001b[0;32m    699\u001b[0m         \u001b[1;32mif\u001b[0m \u001b[0mioargs\u001b[0m\u001b[1;33m.\u001b[0m\u001b[0mencoding\u001b[0m \u001b[1;32mand\u001b[0m \u001b[1;34m\"b\"\u001b[0m \u001b[1;32mnot\u001b[0m \u001b[1;32min\u001b[0m \u001b[0mioargs\u001b[0m\u001b[1;33m.\u001b[0m\u001b[0mmode\u001b[0m\u001b[1;33m:\u001b[0m\u001b[1;33m\u001b[0m\u001b[1;33m\u001b[0m\u001b[0m\n\u001b[0;32m    700\u001b[0m             \u001b[1;31m# Encoding\u001b[0m\u001b[1;33m\u001b[0m\u001b[1;33m\u001b[0m\u001b[1;33m\u001b[0m\u001b[0m\n\u001b[1;32m--> 701\u001b[1;33m             handle = open(\n\u001b[0m\u001b[0;32m    702\u001b[0m                 \u001b[0mhandle\u001b[0m\u001b[1;33m,\u001b[0m\u001b[1;33m\u001b[0m\u001b[1;33m\u001b[0m\u001b[0m\n\u001b[0;32m    703\u001b[0m                 \u001b[0mioargs\u001b[0m\u001b[1;33m.\u001b[0m\u001b[0mmode\u001b[0m\u001b[1;33m,\u001b[0m\u001b[1;33m\u001b[0m\u001b[1;33m\u001b[0m\u001b[0m\n",
      "\u001b[1;31mFileNotFoundError\u001b[0m: [Errno 2] No such file or directory: 'covid_19_india.csv'"
     ]
    }
   ],
   "source": [
    "df = pd.read_csv(\"covid_19_india.csv\")\n",
    "\n",
    "# take a look at the dataset\n",
    "df.tail()"
   ]
  },
  {
   "cell_type": "code",
   "execution_count": null,
   "metadata": {},
   "outputs": [],
   "source": [
    "df.info()\n"
   ]
  },
  {
   "cell_type": "code",
   "execution_count": null,
   "metadata": {},
   "outputs": [],
   "source": [
    "df.describe()\n"
   ]
  },
  {
   "cell_type": "code",
   "execution_count": 110,
   "metadata": {},
   "outputs": [
    {
     "name": "stderr",
     "output_type": "stream",
     "text": [
      "/Users/aakanksha/anaconda3/lib/python3.6/site-packages/ipykernel_launcher.py:1: FutureWarning:\n",
      "\n",
      "Indexing with multiple keys (implicitly converted to a tuple of keys) will be deprecated, use a list instead.\n",
      "\n"
     ]
    },
    {
     "data": {
      "text/html": [
       "<style  type=\"text/css\" >\n",
       "#T_2bbaed82_eaea_11eb_9475_6030d4635d48row0_col1,#T_2bbaed82_eaea_11eb_9475_6030d4635d48row0_col2,#T_2bbaed82_eaea_11eb_9475_6030d4635d48row0_col3,#T_2bbaed82_eaea_11eb_9475_6030d4635d48row2_col3,#T_2bbaed82_eaea_11eb_9475_6030d4635d48row5_col1,#T_2bbaed82_eaea_11eb_9475_6030d4635d48row5_col2,#T_2bbaed82_eaea_11eb_9475_6030d4635d48row5_col3,#T_2bbaed82_eaea_11eb_9475_6030d4635d48row6_col1,#T_2bbaed82_eaea_11eb_9475_6030d4635d48row6_col2,#T_2bbaed82_eaea_11eb_9475_6030d4635d48row6_col3,#T_2bbaed82_eaea_11eb_9475_6030d4635d48row6_col4,#T_2bbaed82_eaea_11eb_9475_6030d4635d48row9_col1,#T_2bbaed82_eaea_11eb_9475_6030d4635d48row9_col2,#T_2bbaed82_eaea_11eb_9475_6030d4635d48row9_col3,#T_2bbaed82_eaea_11eb_9475_6030d4635d48row10_col1,#T_2bbaed82_eaea_11eb_9475_6030d4635d48row10_col2,#T_2bbaed82_eaea_11eb_9475_6030d4635d48row10_col3,#T_2bbaed82_eaea_11eb_9475_6030d4635d48row11_col1,#T_2bbaed82_eaea_11eb_9475_6030d4635d48row11_col2,#T_2bbaed82_eaea_11eb_9475_6030d4635d48row11_col3,#T_2bbaed82_eaea_11eb_9475_6030d4635d48row11_col4,#T_2bbaed82_eaea_11eb_9475_6030d4635d48row21_col1,#T_2bbaed82_eaea_11eb_9475_6030d4635d48row21_col2,#T_2bbaed82_eaea_11eb_9475_6030d4635d48row21_col3,#T_2bbaed82_eaea_11eb_9475_6030d4635d48row22_col1,#T_2bbaed82_eaea_11eb_9475_6030d4635d48row22_col2,#T_2bbaed82_eaea_11eb_9475_6030d4635d48row22_col3,#T_2bbaed82_eaea_11eb_9475_6030d4635d48row26_col3,#T_2bbaed82_eaea_11eb_9475_6030d4635d48row27_col1,#T_2bbaed82_eaea_11eb_9475_6030d4635d48row27_col2,#T_2bbaed82_eaea_11eb_9475_6030d4635d48row27_col3,#T_2bbaed82_eaea_11eb_9475_6030d4635d48row28_col3,#T_2bbaed82_eaea_11eb_9475_6030d4635d48row33_col1,#T_2bbaed82_eaea_11eb_9475_6030d4635d48row33_col2,#T_2bbaed82_eaea_11eb_9475_6030d4635d48row33_col3,#T_2bbaed82_eaea_11eb_9475_6030d4635d48row38_col1,#T_2bbaed82_eaea_11eb_9475_6030d4635d48row38_col2,#T_2bbaed82_eaea_11eb_9475_6030d4635d48row38_col3,#T_2bbaed82_eaea_11eb_9475_6030d4635d48row38_col4{\n",
       "            background-color:  #000004;\n",
       "            color:  #f1f1f1;\n",
       "        }#T_2bbaed82_eaea_11eb_9475_6030d4635d48row0_col4{\n",
       "            background-color:  #ae347b;\n",
       "            color:  #f1f1f1;\n",
       "        }#T_2bbaed82_eaea_11eb_9475_6030d4635d48row1_col1{\n",
       "            background-color:  #7b2382;\n",
       "            color:  #f1f1f1;\n",
       "        }#T_2bbaed82_eaea_11eb_9475_6030d4635d48row1_col2{\n",
       "            background-color:  #812581;\n",
       "            color:  #f1f1f1;\n",
       "        }#T_2bbaed82_eaea_11eb_9475_6030d4635d48row1_col3,#T_2bbaed82_eaea_11eb_9475_6030d4635d48row14_col1,#T_2bbaed82_eaea_11eb_9475_6030d4635d48row14_col2{\n",
       "            background-color:  #1d1147;\n",
       "            color:  #f1f1f1;\n",
       "        }#T_2bbaed82_eaea_11eb_9475_6030d4635d48row1_col4{\n",
       "            background-color:  #59157e;\n",
       "            color:  #f1f1f1;\n",
       "        }#T_2bbaed82_eaea_11eb_9475_6030d4635d48row2_col1,#T_2bbaed82_eaea_11eb_9475_6030d4635d48row2_col2,#T_2bbaed82_eaea_11eb_9475_6030d4635d48row7_col3,#T_2bbaed82_eaea_11eb_9475_6030d4635d48row25_col3,#T_2bbaed82_eaea_11eb_9475_6030d4635d48row26_col1,#T_2bbaed82_eaea_11eb_9475_6030d4635d48row26_col2,#T_2bbaed82_eaea_11eb_9475_6030d4635d48row28_col1,#T_2bbaed82_eaea_11eb_9475_6030d4635d48row28_col2,#T_2bbaed82_eaea_11eb_9475_6030d4635d48row37_col3{\n",
       "            background-color:  #010005;\n",
       "            color:  #f1f1f1;\n",
       "        }#T_2bbaed82_eaea_11eb_9475_6030d4635d48row2_col4,#T_2bbaed82_eaea_11eb_9475_6030d4635d48row4_col2,#T_2bbaed82_eaea_11eb_9475_6030d4635d48row15_col2,#T_2bbaed82_eaea_11eb_9475_6030d4635d48row23_col2{\n",
       "            background-color:  #1c1044;\n",
       "            color:  #f1f1f1;\n",
       "        }#T_2bbaed82_eaea_11eb_9475_6030d4635d48row3_col1,#T_2bbaed82_eaea_11eb_9475_6030d4635d48row31_col1,#T_2bbaed82_eaea_11eb_9475_6030d4635d48row31_col2{\n",
       "            background-color:  #110c2f;\n",
       "            color:  #f1f1f1;\n",
       "        }#T_2bbaed82_eaea_11eb_9475_6030d4635d48row3_col2{\n",
       "            background-color:  #120d31;\n",
       "            color:  #f1f1f1;\n",
       "        }#T_2bbaed82_eaea_11eb_9475_6030d4635d48row3_col3,#T_2bbaed82_eaea_11eb_9475_6030d4635d48row13_col1,#T_2bbaed82_eaea_11eb_9475_6030d4635d48row13_col2,#T_2bbaed82_eaea_11eb_9475_6030d4635d48row16_col1,#T_2bbaed82_eaea_11eb_9475_6030d4635d48row16_col2{\n",
       "            background-color:  #02020d;\n",
       "            color:  #f1f1f1;\n",
       "        }#T_2bbaed82_eaea_11eb_9475_6030d4635d48row3_col4,#T_2bbaed82_eaea_11eb_9475_6030d4635d48row36_col4{\n",
       "            background-color:  #3d0f71;\n",
       "            color:  #f1f1f1;\n",
       "        }#T_2bbaed82_eaea_11eb_9475_6030d4635d48row4_col1,#T_2bbaed82_eaea_11eb_9475_6030d4635d48row15_col1,#T_2bbaed82_eaea_11eb_9475_6030d4635d48row23_col1{\n",
       "            background-color:  #1a1042;\n",
       "            color:  #f1f1f1;\n",
       "        }#T_2bbaed82_eaea_11eb_9475_6030d4635d48row4_col3,#T_2bbaed82_eaea_11eb_9475_6030d4635d48row35_col1{\n",
       "            background-color:  #050416;\n",
       "            color:  #f1f1f1;\n",
       "        }#T_2bbaed82_eaea_11eb_9475_6030d4635d48row4_col4{\n",
       "            background-color:  #51127c;\n",
       "            color:  #f1f1f1;\n",
       "        }#T_2bbaed82_eaea_11eb_9475_6030d4635d48row5_col4,#T_2bbaed82_eaea_11eb_9475_6030d4635d48row39_col4{\n",
       "            background-color:  #aa337d;\n",
       "            color:  #f1f1f1;\n",
       "        }#T_2bbaed82_eaea_11eb_9475_6030d4635d48row7_col1,#T_2bbaed82_eaea_11eb_9475_6030d4635d48row7_col2,#T_2bbaed82_eaea_11eb_9475_6030d4635d48row25_col1,#T_2bbaed82_eaea_11eb_9475_6030d4635d48row25_col2,#T_2bbaed82_eaea_11eb_9475_6030d4635d48row35_col3{\n",
       "            background-color:  #010106;\n",
       "            color:  #f1f1f1;\n",
       "        }#T_2bbaed82_eaea_11eb_9475_6030d4635d48row7_col4,#T_2bbaed82_eaea_11eb_9475_6030d4635d48row34_col4{\n",
       "            background-color:  #b2357b;\n",
       "            color:  #f1f1f1;\n",
       "        }#T_2bbaed82_eaea_11eb_9475_6030d4635d48row8_col1,#T_2bbaed82_eaea_11eb_9475_6030d4635d48row8_col2,#T_2bbaed82_eaea_11eb_9475_6030d4635d48row32_col1,#T_2bbaed82_eaea_11eb_9475_6030d4635d48row32_col2{\n",
       "            background-color:  #221150;\n",
       "            color:  #f1f1f1;\n",
       "        }#T_2bbaed82_eaea_11eb_9475_6030d4635d48row8_col3{\n",
       "            background-color:  #100b2d;\n",
       "            color:  #f1f1f1;\n",
       "        }#T_2bbaed82_eaea_11eb_9475_6030d4635d48row8_col4{\n",
       "            background-color:  #9c2e7f;\n",
       "            color:  #f1f1f1;\n",
       "        }#T_2bbaed82_eaea_11eb_9475_6030d4635d48row9_col4,#T_2bbaed82_eaea_11eb_9475_6030d4635d48row30_col3,#T_2bbaed82_eaea_11eb_9475_6030d4635d48row37_col1,#T_2bbaed82_eaea_11eb_9475_6030d4635d48row37_col2{\n",
       "            background-color:  #010108;\n",
       "            color:  #f1f1f1;\n",
       "        }#T_2bbaed82_eaea_11eb_9475_6030d4635d48row10_col4,#T_2bbaed82_eaea_11eb_9475_6030d4635d48row36_col3{\n",
       "            background-color:  #02020b;\n",
       "            color:  #f1f1f1;\n",
       "        }#T_2bbaed82_eaea_11eb_9475_6030d4635d48row12_col1{\n",
       "            background-color:  #54137d;\n",
       "            color:  #f1f1f1;\n",
       "        }#T_2bbaed82_eaea_11eb_9475_6030d4635d48row12_col2{\n",
       "            background-color:  #5a167e;\n",
       "            color:  #f1f1f1;\n",
       "        }#T_2bbaed82_eaea_11eb_9475_6030d4635d48row12_col3{\n",
       "            background-color:  #3f0f72;\n",
       "            color:  #f1f1f1;\n",
       "        }#T_2bbaed82_eaea_11eb_9475_6030d4635d48row12_col4{\n",
       "            background-color:  #e24d66;\n",
       "            color:  #000000;\n",
       "        }#T_2bbaed82_eaea_11eb_9475_6030d4635d48row13_col3,#T_2bbaed82_eaea_11eb_9475_6030d4635d48row16_col3,#T_2bbaed82_eaea_11eb_9475_6030d4635d48row30_col1,#T_2bbaed82_eaea_11eb_9475_6030d4635d48row30_col2{\n",
       "            background-color:  #020109;\n",
       "            color:  #f1f1f1;\n",
       "        }#T_2bbaed82_eaea_11eb_9475_6030d4635d48row13_col4{\n",
       "            background-color:  #c73d73;\n",
       "            color:  #f1f1f1;\n",
       "        }#T_2bbaed82_eaea_11eb_9475_6030d4635d48row14_col3{\n",
       "            background-color:  #130d34;\n",
       "            color:  #f1f1f1;\n",
       "        }#T_2bbaed82_eaea_11eb_9475_6030d4635d48row14_col4{\n",
       "            background-color:  #d6456c;\n",
       "            color:  #f1f1f1;\n",
       "        }#T_2bbaed82_eaea_11eb_9475_6030d4635d48row15_col3,#T_2bbaed82_eaea_11eb_9475_6030d4635d48row32_col3{\n",
       "            background-color:  #090720;\n",
       "            color:  #f1f1f1;\n",
       "        }#T_2bbaed82_eaea_11eb_9475_6030d4635d48row15_col4,#T_2bbaed82_eaea_11eb_9475_6030d4635d48row34_col2,#T_2bbaed82_eaea_11eb_9475_6030d4635d48row37_col4{\n",
       "            background-color:  #882781;\n",
       "            color:  #f1f1f1;\n",
       "        }#T_2bbaed82_eaea_11eb_9475_6030d4635d48row16_col4{\n",
       "            background-color:  #d5446d;\n",
       "            color:  #f1f1f1;\n",
       "        }#T_2bbaed82_eaea_11eb_9475_6030d4635d48row17_col1,#T_2bbaed82_eaea_11eb_9475_6030d4635d48row17_col2{\n",
       "            background-color:  #07061c;\n",
       "            color:  #f1f1f1;\n",
       "        }#T_2bbaed82_eaea_11eb_9475_6030d4635d48row17_col3,#T_2bbaed82_eaea_11eb_9475_6030d4635d48row40_col3{\n",
       "            background-color:  #040414;\n",
       "            color:  #f1f1f1;\n",
       "        }#T_2bbaed82_eaea_11eb_9475_6030d4635d48row17_col4{\n",
       "            background-color:  #bf3a77;\n",
       "            color:  #f1f1f1;\n",
       "        }#T_2bbaed82_eaea_11eb_9475_6030d4635d48row18_col1,#T_2bbaed82_eaea_11eb_9475_6030d4635d48row18_col2{\n",
       "            background-color:  #08071e;\n",
       "            color:  #f1f1f1;\n",
       "        }#T_2bbaed82_eaea_11eb_9475_6030d4635d48row18_col3,#T_2bbaed82_eaea_11eb_9475_6030d4635d48row29_col3{\n",
       "            background-color:  #03030f;\n",
       "            color:  #f1f1f1;\n",
       "        }#T_2bbaed82_eaea_11eb_9475_6030d4635d48row18_col4{\n",
       "            background-color:  #8e2a81;\n",
       "            color:  #f1f1f1;\n",
       "        }#T_2bbaed82_eaea_11eb_9475_6030d4635d48row19_col1{\n",
       "            background-color:  #982d80;\n",
       "            color:  #f1f1f1;\n",
       "        }#T_2bbaed82_eaea_11eb_9475_6030d4635d48row19_col2{\n",
       "            background-color:  #962c80;\n",
       "            color:  #f1f1f1;\n",
       "        }#T_2bbaed82_eaea_11eb_9475_6030d4635d48row19_col3{\n",
       "            background-color:  #4f127b;\n",
       "            color:  #f1f1f1;\n",
       "        }#T_2bbaed82_eaea_11eb_9475_6030d4635d48row19_col4{\n",
       "            background-color:  #9e2f7f;\n",
       "            color:  #f1f1f1;\n",
       "        }#T_2bbaed82_eaea_11eb_9475_6030d4635d48row20_col1,#T_2bbaed82_eaea_11eb_9475_6030d4635d48row34_col1{\n",
       "            background-color:  #832681;\n",
       "            color:  #f1f1f1;\n",
       "        }#T_2bbaed82_eaea_11eb_9475_6030d4635d48row20_col2{\n",
       "            background-color:  #842681;\n",
       "            color:  #f1f1f1;\n",
       "        }#T_2bbaed82_eaea_11eb_9475_6030d4635d48row20_col3{\n",
       "            background-color:  #0b0924;\n",
       "            color:  #f1f1f1;\n",
       "        }#T_2bbaed82_eaea_11eb_9475_6030d4635d48row20_col4,#T_2bbaed82_eaea_11eb_9475_6030d4635d48row22_col4,#T_2bbaed82_eaea_11eb_9475_6030d4635d48row29_col1{\n",
       "            background-color:  #21114e;\n",
       "            color:  #f1f1f1;\n",
       "        }#T_2bbaed82_eaea_11eb_9475_6030d4635d48row21_col4{\n",
       "            background-color:  #912b81;\n",
       "            color:  #f1f1f1;\n",
       "        }#T_2bbaed82_eaea_11eb_9475_6030d4635d48row23_col3{\n",
       "            background-color:  #0c0926;\n",
       "            color:  #f1f1f1;\n",
       "        }#T_2bbaed82_eaea_11eb_9475_6030d4635d48row23_col4{\n",
       "            background-color:  #a8327d;\n",
       "            color:  #f1f1f1;\n",
       "        }#T_2bbaed82_eaea_11eb_9475_6030d4635d48row24_col1,#T_2bbaed82_eaea_11eb_9475_6030d4635d48row24_col2,#T_2bbaed82_eaea_11eb_9475_6030d4635d48row24_col3,#T_2bbaed82_eaea_11eb_9475_6030d4635d48row31_col4{\n",
       "            background-color:  #fcfdbf;\n",
       "            color:  #000000;\n",
       "        }#T_2bbaed82_eaea_11eb_9475_6030d4635d48row24_col4{\n",
       "            background-color:  #fc8a62;\n",
       "            color:  #000000;\n",
       "        }#T_2bbaed82_eaea_11eb_9475_6030d4635d48row25_col4{\n",
       "            background-color:  #a5317e;\n",
       "            color:  #f1f1f1;\n",
       "        }#T_2bbaed82_eaea_11eb_9475_6030d4635d48row26_col4{\n",
       "            background-color:  #a1307e;\n",
       "            color:  #f1f1f1;\n",
       "        }#T_2bbaed82_eaea_11eb_9475_6030d4635d48row27_col4{\n",
       "            background-color:  #140e36;\n",
       "            color:  #f1f1f1;\n",
       "        }#T_2bbaed82_eaea_11eb_9475_6030d4635d48row28_col4{\n",
       "            background-color:  #752181;\n",
       "            color:  #f1f1f1;\n",
       "        }#T_2bbaed82_eaea_11eb_9475_6030d4635d48row29_col2{\n",
       "            background-color:  #241253;\n",
       "            color:  #f1f1f1;\n",
       "        }#T_2bbaed82_eaea_11eb_9475_6030d4635d48row29_col4{\n",
       "            background-color:  #2d1161;\n",
       "            color:  #f1f1f1;\n",
       "        }#T_2bbaed82_eaea_11eb_9475_6030d4635d48row30_col4{\n",
       "            background-color:  #cf4070;\n",
       "            color:  #f1f1f1;\n",
       "        }#T_2bbaed82_eaea_11eb_9475_6030d4635d48row31_col3{\n",
       "            background-color:  #19103f;\n",
       "            color:  #f1f1f1;\n",
       "        }#T_2bbaed82_eaea_11eb_9475_6030d4635d48row32_col4{\n",
       "            background-color:  #6d1d81;\n",
       "            color:  #f1f1f1;\n",
       "        }#T_2bbaed82_eaea_11eb_9475_6030d4635d48row33_col4{\n",
       "            background-color:  #ea5661;\n",
       "            color:  #000000;\n",
       "        }#T_2bbaed82_eaea_11eb_9475_6030d4635d48row34_col3{\n",
       "            background-color:  #4e117b;\n",
       "            color:  #f1f1f1;\n",
       "        }#T_2bbaed82_eaea_11eb_9475_6030d4635d48row35_col2,#T_2bbaed82_eaea_11eb_9475_6030d4635d48row40_col1,#T_2bbaed82_eaea_11eb_9475_6030d4635d48row40_col2{\n",
       "            background-color:  #060518;\n",
       "            color:  #f1f1f1;\n",
       "        }#T_2bbaed82_eaea_11eb_9475_6030d4635d48row35_col4{\n",
       "            background-color:  #3b0f70;\n",
       "            color:  #f1f1f1;\n",
       "        }#T_2bbaed82_eaea_11eb_9475_6030d4635d48row36_col1{\n",
       "            background-color:  #0d0a29;\n",
       "            color:  #f1f1f1;\n",
       "        }#T_2bbaed82_eaea_11eb_9475_6030d4635d48row36_col2{\n",
       "            background-color:  #0e0b2b;\n",
       "            color:  #f1f1f1;\n",
       "        }#T_2bbaed82_eaea_11eb_9475_6030d4635d48row39_col1{\n",
       "            background-color:  #5c167f;\n",
       "            color:  #f1f1f1;\n",
       "        }#T_2bbaed82_eaea_11eb_9475_6030d4635d48row39_col2{\n",
       "            background-color:  #5f187f;\n",
       "            color:  #f1f1f1;\n",
       "        }#T_2bbaed82_eaea_11eb_9475_6030d4635d48row39_col3{\n",
       "            background-color:  #2f1163;\n",
       "            color:  #f1f1f1;\n",
       "        }#T_2bbaed82_eaea_11eb_9475_6030d4635d48row40_col4{\n",
       "            background-color:  #e85362;\n",
       "            color:  #000000;\n",
       "        }#T_2bbaed82_eaea_11eb_9475_6030d4635d48row41_col1{\n",
       "            background-color:  #491078;\n",
       "            color:  #f1f1f1;\n",
       "        }#T_2bbaed82_eaea_11eb_9475_6030d4635d48row41_col2{\n",
       "            background-color:  #4c117a;\n",
       "            color:  #f1f1f1;\n",
       "        }#T_2bbaed82_eaea_11eb_9475_6030d4635d48row41_col3{\n",
       "            background-color:  #2c115f;\n",
       "            color:  #f1f1f1;\n",
       "        }#T_2bbaed82_eaea_11eb_9475_6030d4635d48row41_col4{\n",
       "            background-color:  #c83e73;\n",
       "            color:  #f1f1f1;\n",
       "        }</style><table id=\"T_2bbaed82_eaea_11eb_9475_6030d4635d48\" ><thead>    <tr>        <th class=\"blank level0\" ></th>        <th class=\"col_heading level0 col0\" >State/UnionTerritory</th>        <th class=\"col_heading level0 col1\" >Confirmed</th>        <th class=\"col_heading level0 col2\" >Cured</th>        <th class=\"col_heading level0 col3\" >Deaths</th>        <th class=\"col_heading level0 col4\" >Death_percentage</th>    </tr></thead><tbody>\n",
       "                <tr>\n",
       "                        <th id=\"T_2bbaed82_eaea_11eb_9475_6030d4635d48level0_row0\" class=\"row_heading level0 row0\" >0</th>\n",
       "                        <td id=\"T_2bbaed82_eaea_11eb_9475_6030d4635d48row0_col0\" class=\"data row0 col0\" >Andaman and Nicobar Islands</td>\n",
       "                        <td id=\"T_2bbaed82_eaea_11eb_9475_6030d4635d48row0_col1\" class=\"data row0 col1\" >1675248</td>\n",
       "                        <td id=\"T_2bbaed82_eaea_11eb_9475_6030d4635d48row0_col2\" class=\"data row0 col2\" >1589935</td>\n",
       "                        <td id=\"T_2bbaed82_eaea_11eb_9475_6030d4635d48row0_col3\" class=\"data row0 col3\" >22624</td>\n",
       "                        <td id=\"T_2bbaed82_eaea_11eb_9475_6030d4635d48row0_col4\" class=\"data row0 col4\" >1.350487</td>\n",
       "            </tr>\n",
       "            <tr>\n",
       "                        <th id=\"T_2bbaed82_eaea_11eb_9475_6030d4635d48level0_row1\" class=\"row_heading level0 row1\" >1</th>\n",
       "                        <td id=\"T_2bbaed82_eaea_11eb_9475_6030d4635d48row1_col0\" class=\"data row1 col0\" >Andhra Pradesh</td>\n",
       "                        <td id=\"T_2bbaed82_eaea_11eb_9475_6030d4635d48row1_col1\" class=\"data row1 col1\" >324146783</td>\n",
       "                        <td id=\"T_2bbaed82_eaea_11eb_9475_6030d4635d48row1_col2\" class=\"data row1 col2\" >303427899</td>\n",
       "                        <td id=\"T_2bbaed82_eaea_11eb_9475_6030d4635d48row1_col3\" class=\"data row1 col3\" >2475816</td>\n",
       "                        <td id=\"T_2bbaed82_eaea_11eb_9475_6030d4635d48row1_col4\" class=\"data row1 col4\" >0.763795</td>\n",
       "            </tr>\n",
       "            <tr>\n",
       "                        <th id=\"T_2bbaed82_eaea_11eb_9475_6030d4635d48level0_row2\" class=\"row_heading level0 row2\" >2</th>\n",
       "                        <td id=\"T_2bbaed82_eaea_11eb_9475_6030d4635d48row2_col0\" class=\"data row2 col0\" >Arunachal Pradesh</td>\n",
       "                        <td id=\"T_2bbaed82_eaea_11eb_9475_6030d4635d48row2_col1\" class=\"data row2 col1\" >5598324</td>\n",
       "                        <td id=\"T_2bbaed82_eaea_11eb_9475_6030d4635d48row2_col2\" class=\"data row2 col2\" >5150519</td>\n",
       "                        <td id=\"T_2bbaed82_eaea_11eb_9475_6030d4635d48row2_col3\" class=\"data row2 col3\" >19303</td>\n",
       "                        <td id=\"T_2bbaed82_eaea_11eb_9475_6030d4635d48row2_col4\" class=\"data row2 col4\" >0.344800</td>\n",
       "            </tr>\n",
       "            <tr>\n",
       "                        <th id=\"T_2bbaed82_eaea_11eb_9475_6030d4635d48level0_row3\" class=\"row_heading level0 row3\" >3</th>\n",
       "                        <td id=\"T_2bbaed82_eaea_11eb_9475_6030d4635d48row3_col0\" class=\"data row3 col0\" >Assam</td>\n",
       "                        <td id=\"T_2bbaed82_eaea_11eb_9475_6030d4635d48row3_col1\" class=\"data row3 col1\" >80418492</td>\n",
       "                        <td id=\"T_2bbaed82_eaea_11eb_9475_6030d4635d48row3_col2\" class=\"data row3 col2\" >74011348</td>\n",
       "                        <td id=\"T_2bbaed82_eaea_11eb_9475_6030d4635d48row3_col3\" class=\"data row3 col3\" >459575</td>\n",
       "                        <td id=\"T_2bbaed82_eaea_11eb_9475_6030d4635d48row3_col4\" class=\"data row3 col4\" >0.571479</td>\n",
       "            </tr>\n",
       "            <tr>\n",
       "                        <th id=\"T_2bbaed82_eaea_11eb_9475_6030d4635d48level0_row4\" class=\"row_heading level0 row4\" >4</th>\n",
       "                        <td id=\"T_2bbaed82_eaea_11eb_9475_6030d4635d48row4_col0\" class=\"data row4 col0\" >Bihar</td>\n",
       "                        <td id=\"T_2bbaed82_eaea_11eb_9475_6030d4635d48row4_col1\" class=\"data row4 col1\" >106881540</td>\n",
       "                        <td id=\"T_2bbaed82_eaea_11eb_9475_6030d4635d48row4_col2\" class=\"data row4 col2\" >100131380</td>\n",
       "                        <td id=\"T_2bbaed82_eaea_11eb_9475_6030d4635d48row4_col3\" class=\"data row4 col3\" >756282</td>\n",
       "                        <td id=\"T_2bbaed82_eaea_11eb_9475_6030d4635d48row4_col4\" class=\"data row4 col4\" >0.707589</td>\n",
       "            </tr>\n",
       "            <tr>\n",
       "                        <th id=\"T_2bbaed82_eaea_11eb_9475_6030d4635d48level0_row5\" class=\"row_heading level0 row5\" >5</th>\n",
       "                        <td id=\"T_2bbaed82_eaea_11eb_9475_6030d4635d48row5_col0\" class=\"data row5 col0\" >Bihar****</td>\n",
       "                        <td id=\"T_2bbaed82_eaea_11eb_9475_6030d4635d48row5_col1\" class=\"data row5 col1\" >1430909</td>\n",
       "                        <td id=\"T_2bbaed82_eaea_11eb_9475_6030d4635d48row5_col2\" class=\"data row5 col2\" >1402468</td>\n",
       "                        <td id=\"T_2bbaed82_eaea_11eb_9475_6030d4635d48row5_col3\" class=\"data row5 col3\" >18881</td>\n",
       "                        <td id=\"T_2bbaed82_eaea_11eb_9475_6030d4635d48row5_col4\" class=\"data row5 col4\" >1.319511</td>\n",
       "            </tr>\n",
       "            <tr>\n",
       "                        <th id=\"T_2bbaed82_eaea_11eb_9475_6030d4635d48level0_row6\" class=\"row_heading level0 row6\" >6</th>\n",
       "                        <td id=\"T_2bbaed82_eaea_11eb_9475_6030d4635d48row6_col0\" class=\"data row6 col0\" >Cases being reassigned to states</td>\n",
       "                        <td id=\"T_2bbaed82_eaea_11eb_9475_6030d4635d48row6_col1\" class=\"data row6 col1\" >345565</td>\n",
       "                        <td id=\"T_2bbaed82_eaea_11eb_9475_6030d4635d48row6_col2\" class=\"data row6 col2\" >0</td>\n",
       "                        <td id=\"T_2bbaed82_eaea_11eb_9475_6030d4635d48row6_col3\" class=\"data row6 col3\" >0</td>\n",
       "                        <td id=\"T_2bbaed82_eaea_11eb_9475_6030d4635d48row6_col4\" class=\"data row6 col4\" >0.000000</td>\n",
       "            </tr>\n",
       "            <tr>\n",
       "                        <th id=\"T_2bbaed82_eaea_11eb_9475_6030d4635d48level0_row7\" class=\"row_heading level0 row7\" >7</th>\n",
       "                        <td id=\"T_2bbaed82_eaea_11eb_9475_6030d4635d48row7_col0\" class=\"data row7 col0\" >Chandigarh</td>\n",
       "                        <td id=\"T_2bbaed82_eaea_11eb_9475_6030d4635d48row7_col1\" class=\"data row7 col1\" >8691806</td>\n",
       "                        <td id=\"T_2bbaed82_eaea_11eb_9475_6030d4635d48row7_col2\" class=\"data row7 col2\" >7980284</td>\n",
       "                        <td id=\"T_2bbaed82_eaea_11eb_9475_6030d4635d48row7_col3\" class=\"data row7 col3\" >119356</td>\n",
       "                        <td id=\"T_2bbaed82_eaea_11eb_9475_6030d4635d48row7_col4\" class=\"data row7 col4\" >1.373201</td>\n",
       "            </tr>\n",
       "            <tr>\n",
       "                        <th id=\"T_2bbaed82_eaea_11eb_9475_6030d4635d48level0_row8\" class=\"row_heading level0 row8\" >8</th>\n",
       "                        <td id=\"T_2bbaed82_eaea_11eb_9475_6030d4635d48row8_col0\" class=\"data row8 col0\" >Chhattisgarh</td>\n",
       "                        <td id=\"T_2bbaed82_eaea_11eb_9475_6030d4635d48row8_col1\" class=\"data row8 col1\" >128751782</td>\n",
       "                        <td id=\"T_2bbaed82_eaea_11eb_9475_6030d4635d48row8_col2\" class=\"data row8 col2\" >117163544</td>\n",
       "                        <td id=\"T_2bbaed82_eaea_11eb_9475_6030d4635d48row8_col3\" class=\"data row8 col3\" >1591126</td>\n",
       "                        <td id=\"T_2bbaed82_eaea_11eb_9475_6030d4635d48row8_col4\" class=\"data row8 col4\" >1.235809</td>\n",
       "            </tr>\n",
       "            <tr>\n",
       "                        <th id=\"T_2bbaed82_eaea_11eb_9475_6030d4635d48level0_row9\" class=\"row_heading level0 row9\" >9</th>\n",
       "                        <td id=\"T_2bbaed82_eaea_11eb_9475_6030d4635d48row9_col0\" class=\"data row9 col0\" >Dadra and Nagar Haveli</td>\n",
       "                        <td id=\"T_2bbaed82_eaea_11eb_9475_6030d4635d48row9_col1\" class=\"data row9 col1\" >20722</td>\n",
       "                        <td id=\"T_2bbaed82_eaea_11eb_9475_6030d4635d48row9_col2\" class=\"data row9 col2\" >20352</td>\n",
       "                        <td id=\"T_2bbaed82_eaea_11eb_9475_6030d4635d48row9_col3\" class=\"data row9 col3\" >8</td>\n",
       "                        <td id=\"T_2bbaed82_eaea_11eb_9475_6030d4635d48row9_col4\" class=\"data row9 col4\" >0.038606</td>\n",
       "            </tr>\n",
       "            <tr>\n",
       "                        <th id=\"T_2bbaed82_eaea_11eb_9475_6030d4635d48level0_row10\" class=\"row_heading level0 row10\" >10</th>\n",
       "                        <td id=\"T_2bbaed82_eaea_11eb_9475_6030d4635d48row10_col0\" class=\"data row10 col0\" >Dadra and Nagar Haveli and Daman and Diu</td>\n",
       "                        <td id=\"T_2bbaed82_eaea_11eb_9475_6030d4635d48row10_col1\" class=\"data row10 col1\" >1566846</td>\n",
       "                        <td id=\"T_2bbaed82_eaea_11eb_9475_6030d4635d48row10_col2\" class=\"data row10 col2\" >1470986</td>\n",
       "                        <td id=\"T_2bbaed82_eaea_11eb_9475_6030d4635d48row10_col3\" class=\"data row10 col3\" >874</td>\n",
       "                        <td id=\"T_2bbaed82_eaea_11eb_9475_6030d4635d48row10_col4\" class=\"data row10 col4\" >0.055781</td>\n",
       "            </tr>\n",
       "            <tr>\n",
       "                        <th id=\"T_2bbaed82_eaea_11eb_9475_6030d4635d48level0_row11\" class=\"row_heading level0 row11\" >11</th>\n",
       "                        <td id=\"T_2bbaed82_eaea_11eb_9475_6030d4635d48row11_col0\" class=\"data row11 col0\" >Daman & Diu</td>\n",
       "                        <td id=\"T_2bbaed82_eaea_11eb_9475_6030d4635d48row11_col1\" class=\"data row11 col1\" >2</td>\n",
       "                        <td id=\"T_2bbaed82_eaea_11eb_9475_6030d4635d48row11_col2\" class=\"data row11 col2\" >0</td>\n",
       "                        <td id=\"T_2bbaed82_eaea_11eb_9475_6030d4635d48row11_col3\" class=\"data row11 col3\" >0</td>\n",
       "                        <td id=\"T_2bbaed82_eaea_11eb_9475_6030d4635d48row11_col4\" class=\"data row11 col4\" >0.000000</td>\n",
       "            </tr>\n",
       "            <tr>\n",
       "                        <th id=\"T_2bbaed82_eaea_11eb_9475_6030d4635d48level0_row12\" class=\"row_heading level0 row12\" >12</th>\n",
       "                        <td id=\"T_2bbaed82_eaea_11eb_9475_6030d4635d48row12_col0\" class=\"data row12 col0\" >Delhi</td>\n",
       "                        <td id=\"T_2bbaed82_eaea_11eb_9475_6030d4635d48row12_col1\" class=\"data row12 col1\" >236972842</td>\n",
       "                        <td id=\"T_2bbaed82_eaea_11eb_9475_6030d4635d48row12_col2\" class=\"data row12 col2\" >224062704</td>\n",
       "                        <td id=\"T_2bbaed82_eaea_11eb_9475_6030d4635d48row12_col3\" class=\"data row12 col3\" >4066907</td>\n",
       "                        <td id=\"T_2bbaed82_eaea_11eb_9475_6030d4635d48row12_col4\" class=\"data row12 col4\" >1.716191</td>\n",
       "            </tr>\n",
       "            <tr>\n",
       "                        <th id=\"T_2bbaed82_eaea_11eb_9475_6030d4635d48level0_row13\" class=\"row_heading level0 row13\" >13</th>\n",
       "                        <td id=\"T_2bbaed82_eaea_11eb_9475_6030d4635d48row13_col0\" class=\"data row13 col0\" >Goa</td>\n",
       "                        <td id=\"T_2bbaed82_eaea_11eb_9475_6030d4635d48row13_col1\" class=\"data row13 col1\" >22280065</td>\n",
       "                        <td id=\"T_2bbaed82_eaea_11eb_9475_6030d4635d48row13_col2\" class=\"data row13 col2\" >20224042</td>\n",
       "                        <td id=\"T_2bbaed82_eaea_11eb_9475_6030d4635d48row13_col3\" class=\"data row13 col3\" >338359</td>\n",
       "                        <td id=\"T_2bbaed82_eaea_11eb_9475_6030d4635d48row13_col4\" class=\"data row13 col4\" >1.518663</td>\n",
       "            </tr>\n",
       "            <tr>\n",
       "                        <th id=\"T_2bbaed82_eaea_11eb_9475_6030d4635d48level0_row14\" class=\"row_heading level0 row14\" >14</th>\n",
       "                        <td id=\"T_2bbaed82_eaea_11eb_9475_6030d4635d48row14_col0\" class=\"data row14 col0\" >Gujarat</td>\n",
       "                        <td id=\"T_2bbaed82_eaea_11eb_9475_6030d4635d48row14_col1\" class=\"data row14 col1\" >114557615</td>\n",
       "                        <td id=\"T_2bbaed82_eaea_11eb_9475_6030d4635d48row14_col2\" class=\"data row14 col2\" >103995131</td>\n",
       "                        <td id=\"T_2bbaed82_eaea_11eb_9475_6030d4635d48row14_col3\" class=\"data row14 col3\" >1866811</td>\n",
       "                        <td id=\"T_2bbaed82_eaea_11eb_9475_6030d4635d48row14_col4\" class=\"data row14 col4\" >1.629583</td>\n",
       "            </tr>\n",
       "            <tr>\n",
       "                        <th id=\"T_2bbaed82_eaea_11eb_9475_6030d4635d48level0_row15\" class=\"row_heading level0 row15\" >15</th>\n",
       "                        <td id=\"T_2bbaed82_eaea_11eb_9475_6030d4635d48row15_col0\" class=\"data row15 col0\" >Haryana</td>\n",
       "                        <td id=\"T_2bbaed82_eaea_11eb_9475_6030d4635d48row15_col1\" class=\"data row15 col1\" >107408371</td>\n",
       "                        <td id=\"T_2bbaed82_eaea_11eb_9475_6030d4635d48row15_col2\" class=\"data row15 col2\" >100010131</td>\n",
       "                        <td id=\"T_2bbaed82_eaea_11eb_9475_6030d4635d48row15_col3\" class=\"data row15 col3\" >1166573</td>\n",
       "                        <td id=\"T_2bbaed82_eaea_11eb_9475_6030d4635d48row15_col4\" class=\"data row15 col4\" >1.086110</td>\n",
       "            </tr>\n",
       "            <tr>\n",
       "                        <th id=\"T_2bbaed82_eaea_11eb_9475_6030d4635d48level0_row16\" class=\"row_heading level0 row16\" >16</th>\n",
       "                        <td id=\"T_2bbaed82_eaea_11eb_9475_6030d4635d48row16_col0\" class=\"data row16 col0\" >Himachal Pradesh</td>\n",
       "                        <td id=\"T_2bbaed82_eaea_11eb_9475_6030d4635d48row16_col1\" class=\"data row16 col1\" >23052151</td>\n",
       "                        <td id=\"T_2bbaed82_eaea_11eb_9475_6030d4635d48row16_col2\" class=\"data row16 col2\" >20682770</td>\n",
       "                        <td id=\"T_2bbaed82_eaea_11eb_9475_6030d4635d48row16_col3\" class=\"data row16 col3\" >371931</td>\n",
       "                        <td id=\"T_2bbaed82_eaea_11eb_9475_6030d4635d48row16_col4\" class=\"data row16 col4\" >1.613433</td>\n",
       "            </tr>\n",
       "            <tr>\n",
       "                        <th id=\"T_2bbaed82_eaea_11eb_9475_6030d4635d48level0_row17\" class=\"row_heading level0 row17\" >17</th>\n",
       "                        <td id=\"T_2bbaed82_eaea_11eb_9475_6030d4635d48row17_col0\" class=\"data row17 col0\" >Jammu and Kashmir</td>\n",
       "                        <td id=\"T_2bbaed82_eaea_11eb_9475_6030d4635d48row17_col1\" class=\"data row17 col1\" >46899925</td>\n",
       "                        <td id=\"T_2bbaed82_eaea_11eb_9475_6030d4635d48row17_col2\" class=\"data row17 col2\" >42295048</td>\n",
       "                        <td id=\"T_2bbaed82_eaea_11eb_9475_6030d4635d48row17_col3\" class=\"data row17 col3\" >686680</td>\n",
       "                        <td id=\"T_2bbaed82_eaea_11eb_9475_6030d4635d48row17_col4\" class=\"data row17 col4\" >1.464139</td>\n",
       "            </tr>\n",
       "            <tr>\n",
       "                        <th id=\"T_2bbaed82_eaea_11eb_9475_6030d4635d48level0_row18\" class=\"row_heading level0 row18\" >18</th>\n",
       "                        <td id=\"T_2bbaed82_eaea_11eb_9475_6030d4635d48row18_col0\" class=\"data row18 col0\" >Jharkhand</td>\n",
       "                        <td id=\"T_2bbaed82_eaea_11eb_9475_6030d4635d48row18_col1\" class=\"data row18 col1\" >49971564</td>\n",
       "                        <td id=\"T_2bbaed82_eaea_11eb_9475_6030d4635d48row18_col2\" class=\"data row18 col2\" >46083978</td>\n",
       "                        <td id=\"T_2bbaed82_eaea_11eb_9475_6030d4635d48row18_col3\" class=\"data row18 col3\" >569298</td>\n",
       "                        <td id=\"T_2bbaed82_eaea_11eb_9475_6030d4635d48row18_col4\" class=\"data row18 col4\" >1.139244</td>\n",
       "            </tr>\n",
       "            <tr>\n",
       "                        <th id=\"T_2bbaed82_eaea_11eb_9475_6030d4635d48level0_row19\" class=\"row_heading level0 row19\" >19</th>\n",
       "                        <td id=\"T_2bbaed82_eaea_11eb_9475_6030d4635d48row19_col0\" class=\"data row19 col0\" >Karnataka</td>\n",
       "                        <td id=\"T_2bbaed82_eaea_11eb_9475_6030d4635d48row19_col1\" class=\"data row19 col1\" >387597335</td>\n",
       "                        <td id=\"T_2bbaed82_eaea_11eb_9475_6030d4635d48row19_col2\" class=\"data row19 col2\" >345648926</td>\n",
       "                        <td id=\"T_2bbaed82_eaea_11eb_9475_6030d4635d48row19_col3\" class=\"data row19 col3\" >4819018</td>\n",
       "                        <td id=\"T_2bbaed82_eaea_11eb_9475_6030d4635d48row19_col4\" class=\"data row19 col4\" >1.243305</td>\n",
       "            </tr>\n",
       "            <tr>\n",
       "                        <th id=\"T_2bbaed82_eaea_11eb_9475_6030d4635d48level0_row20\" class=\"row_heading level0 row20\" >20</th>\n",
       "                        <td id=\"T_2bbaed82_eaea_11eb_9475_6030d4635d48row20_col0\" class=\"data row20 col0\" >Kerala</td>\n",
       "                        <td id=\"T_2bbaed82_eaea_11eb_9475_6030d4635d48row20_col1\" class=\"data row20 col1\" >344319045</td>\n",
       "                        <td id=\"T_2bbaed82_eaea_11eb_9475_6030d4635d48row20_col2\" class=\"data row20 col2\" >311127643</td>\n",
       "                        <td id=\"T_2bbaed82_eaea_11eb_9475_6030d4635d48row20_col3\" class=\"data row20 col3\" >1327754</td>\n",
       "                        <td id=\"T_2bbaed82_eaea_11eb_9475_6030d4635d48row20_col4\" class=\"data row20 col4\" >0.385617</td>\n",
       "            </tr>\n",
       "            <tr>\n",
       "                        <th id=\"T_2bbaed82_eaea_11eb_9475_6030d4635d48level0_row21\" class=\"row_heading level0 row21\" >21</th>\n",
       "                        <td id=\"T_2bbaed82_eaea_11eb_9475_6030d4635d48row21_col0\" class=\"data row21 col0\" >Ladakh</td>\n",
       "                        <td id=\"T_2bbaed82_eaea_11eb_9475_6030d4635d48row21_col1\" class=\"data row21 col1\" >3344131</td>\n",
       "                        <td id=\"T_2bbaed82_eaea_11eb_9475_6030d4635d48row21_col2\" class=\"data row21 col2\" >3059045</td>\n",
       "                        <td id=\"T_2bbaed82_eaea_11eb_9475_6030d4635d48row21_col3\" class=\"data row21 col3\" >38578</td>\n",
       "                        <td id=\"T_2bbaed82_eaea_11eb_9475_6030d4635d48row21_col4\" class=\"data row21 col4\" >1.153603</td>\n",
       "            </tr>\n",
       "            <tr>\n",
       "                        <th id=\"T_2bbaed82_eaea_11eb_9475_6030d4635d48level0_row22\" class=\"row_heading level0 row22\" >22</th>\n",
       "                        <td id=\"T_2bbaed82_eaea_11eb_9475_6030d4635d48row22_col0\" class=\"data row22 col0\" >Lakshadweep</td>\n",
       "                        <td id=\"T_2bbaed82_eaea_11eb_9475_6030d4635d48row22_col1\" class=\"data row22 col1\" >561459</td>\n",
       "                        <td id=\"T_2bbaed82_eaea_11eb_9475_6030d4635d48row22_col2\" class=\"data row22 col2\" >471712</td>\n",
       "                        <td id=\"T_2bbaed82_eaea_11eb_9475_6030d4635d48row22_col3\" class=\"data row22 col3\" >2178</td>\n",
       "                        <td id=\"T_2bbaed82_eaea_11eb_9475_6030d4635d48row22_col4\" class=\"data row22 col4\" >0.387918</td>\n",
       "            </tr>\n",
       "            <tr>\n",
       "                        <th id=\"T_2bbaed82_eaea_11eb_9475_6030d4635d48level0_row23\" class=\"row_heading level0 row23\" >23</th>\n",
       "                        <td id=\"T_2bbaed82_eaea_11eb_9475_6030d4635d48row23_col0\" class=\"data row23 col0\" >Madhya Pradesh</td>\n",
       "                        <td id=\"T_2bbaed82_eaea_11eb_9475_6030d4635d48row23_col1\" class=\"data row23 col1\" >108712983</td>\n",
       "                        <td id=\"T_2bbaed82_eaea_11eb_9475_6030d4635d48row23_col2\" class=\"data row23 col2\" >100169697</td>\n",
       "                        <td id=\"T_2bbaed82_eaea_11eb_9475_6030d4635d48row23_col3\" class=\"data row23 col3\" >1427780</td>\n",
       "                        <td id=\"T_2bbaed82_eaea_11eb_9475_6030d4635d48row23_col4\" class=\"data row23 col4\" >1.313348</td>\n",
       "            </tr>\n",
       "            <tr>\n",
       "                        <th id=\"T_2bbaed82_eaea_11eb_9475_6030d4635d48level0_row24\" class=\"row_heading level0 row24\" >24</th>\n",
       "                        <td id=\"T_2bbaed82_eaea_11eb_9475_6030d4635d48row24_col0\" class=\"data row24 col0\" >Maharashtra</td>\n",
       "                        <td id=\"T_2bbaed82_eaea_11eb_9475_6030d4635d48row24_col1\" class=\"data row24 col1\" >908892470</td>\n",
       "                        <td id=\"T_2bbaed82_eaea_11eb_9475_6030d4635d48row24_col2\" class=\"data row24 col2\" >813788907</td>\n",
       "                        <td id=\"T_2bbaed82_eaea_11eb_9475_6030d4635d48row24_col3\" class=\"data row24 col3\" >19314532</td>\n",
       "                        <td id=\"T_2bbaed82_eaea_11eb_9475_6030d4635d48row24_col4\" class=\"data row24 col4\" >2.125062</td>\n",
       "            </tr>\n",
       "            <tr>\n",
       "                        <th id=\"T_2bbaed82_eaea_11eb_9475_6030d4635d48level0_row25\" class=\"row_heading level0 row25\" >25</th>\n",
       "                        <td id=\"T_2bbaed82_eaea_11eb_9475_6030d4635d48row25_col0\" class=\"data row25 col0\" >Manipur</td>\n",
       "                        <td id=\"T_2bbaed82_eaea_11eb_9475_6030d4635d48row25_col1\" class=\"data row25 col1\" >9440912</td>\n",
       "                        <td id=\"T_2bbaed82_eaea_11eb_9475_6030d4635d48row25_col2\" class=\"data row25 col2\" >8420223</td>\n",
       "                        <td id=\"T_2bbaed82_eaea_11eb_9475_6030d4635d48row25_col3\" class=\"data row25 col3\" >122089</td>\n",
       "                        <td id=\"T_2bbaed82_eaea_11eb_9475_6030d4635d48row25_col4\" class=\"data row25 col4\" >1.293191</td>\n",
       "            </tr>\n",
       "            <tr>\n",
       "                        <th id=\"T_2bbaed82_eaea_11eb_9475_6030d4635d48level0_row26\" class=\"row_heading level0 row26\" >26</th>\n",
       "                        <td id=\"T_2bbaed82_eaea_11eb_9475_6030d4635d48row26_col0\" class=\"data row26 col0\" >Meghalaya</td>\n",
       "                        <td id=\"T_2bbaed82_eaea_11eb_9475_6030d4635d48row26_col1\" class=\"data row26 col1\" >5221064</td>\n",
       "                        <td id=\"T_2bbaed82_eaea_11eb_9475_6030d4635d48row26_col2\" class=\"data row26 col2\" >4606548</td>\n",
       "                        <td id=\"T_2bbaed82_eaea_11eb_9475_6030d4635d48row26_col3\" class=\"data row26 col3\" >66293</td>\n",
       "                        <td id=\"T_2bbaed82_eaea_11eb_9475_6030d4635d48row26_col4\" class=\"data row26 col4\" >1.269722</td>\n",
       "            </tr>\n",
       "            <tr>\n",
       "                        <th id=\"T_2bbaed82_eaea_11eb_9475_6030d4635d48level0_row27\" class=\"row_heading level0 row27\" >27</th>\n",
       "                        <td id=\"T_2bbaed82_eaea_11eb_9475_6030d4635d48row27_col0\" class=\"data row27 col0\" >Mizoram</td>\n",
       "                        <td id=\"T_2bbaed82_eaea_11eb_9475_6030d4635d48row27_col1\" class=\"data row27 col1\" >1822190</td>\n",
       "                        <td id=\"T_2bbaed82_eaea_11eb_9475_6030d4635d48row27_col2\" class=\"data row27 col2\" >1534630</td>\n",
       "                        <td id=\"T_2bbaed82_eaea_11eb_9475_6030d4635d48row27_col3\" class=\"data row27 col3\" >5073</td>\n",
       "                        <td id=\"T_2bbaed82_eaea_11eb_9475_6030d4635d48row27_col4\" class=\"data row27 col4\" >0.278401</td>\n",
       "            </tr>\n",
       "            <tr>\n",
       "                        <th id=\"T_2bbaed82_eaea_11eb_9475_6030d4635d48level0_row28\" class=\"row_heading level0 row28\" >28</th>\n",
       "                        <td id=\"T_2bbaed82_eaea_11eb_9475_6030d4635d48row28_col0\" class=\"data row28 col0\" >Nagaland</td>\n",
       "                        <td id=\"T_2bbaed82_eaea_11eb_9475_6030d4635d48row28_col1\" class=\"data row28 col1\" >4089547</td>\n",
       "                        <td id=\"T_2bbaed82_eaea_11eb_9475_6030d4635d48row28_col2\" class=\"data row28 col2\" >3628619</td>\n",
       "                        <td id=\"T_2bbaed82_eaea_11eb_9475_6030d4635d48row28_col3\" class=\"data row28 col3\" >39420</td>\n",
       "                        <td id=\"T_2bbaed82_eaea_11eb_9475_6030d4635d48row28_col4\" class=\"data row28 col4\" >0.963921</td>\n",
       "            </tr>\n",
       "            <tr>\n",
       "                        <th id=\"T_2bbaed82_eaea_11eb_9475_6030d4635d48level0_row29\" class=\"row_heading level0 row29\" >29</th>\n",
       "                        <td id=\"T_2bbaed82_eaea_11eb_9475_6030d4635d48row29_col0\" class=\"data row29 col0\" >Odisha</td>\n",
       "                        <td id=\"T_2bbaed82_eaea_11eb_9475_6030d4635d48row29_col1\" class=\"data row29 col1\" >126408397</td>\n",
       "                        <td id=\"T_2bbaed82_eaea_11eb_9475_6030d4635d48row29_col2\" class=\"data row29 col2\" >117984789</td>\n",
       "                        <td id=\"T_2bbaed82_eaea_11eb_9475_6030d4635d48row29_col3\" class=\"data row29 col3\" >600149</td>\n",
       "                        <td id=\"T_2bbaed82_eaea_11eb_9475_6030d4635d48row29_col4\" class=\"data row29 col4\" >0.474770</td>\n",
       "            </tr>\n",
       "            <tr>\n",
       "                        <th id=\"T_2bbaed82_eaea_11eb_9475_6030d4635d48level0_row30\" class=\"row_heading level0 row30\" >30</th>\n",
       "                        <td id=\"T_2bbaed82_eaea_11eb_9475_6030d4635d48row30_col0\" class=\"data row30 col0\" >Puducherry</td>\n",
       "                        <td id=\"T_2bbaed82_eaea_11eb_9475_6030d4635d48row30_col1\" class=\"data row30 col1\" >15858688</td>\n",
       "                        <td id=\"T_2bbaed82_eaea_11eb_9475_6030d4635d48row30_col2\" class=\"data row30 col2\" >14376916</td>\n",
       "                        <td id=\"T_2bbaed82_eaea_11eb_9475_6030d4635d48row30_col3\" class=\"data row30 col3\" >249683</td>\n",
       "                        <td id=\"T_2bbaed82_eaea_11eb_9475_6030d4635d48row30_col4\" class=\"data row30 col4\" >1.574424</td>\n",
       "            </tr>\n",
       "            <tr>\n",
       "                        <th id=\"T_2bbaed82_eaea_11eb_9475_6030d4635d48level0_row31\" class=\"row_heading level0 row31\" >31</th>\n",
       "                        <td id=\"T_2bbaed82_eaea_11eb_9475_6030d4635d48row31_col0\" class=\"data row31 col0\" >Punjab</td>\n",
       "                        <td id=\"T_2bbaed82_eaea_11eb_9475_6030d4635d48row31_col1\" class=\"data row31 col1\" >78999515</td>\n",
       "                        <td id=\"T_2bbaed82_eaea_11eb_9475_6030d4635d48row31_col2\" class=\"data row31 col2\" >71108712</td>\n",
       "                        <td id=\"T_2bbaed82_eaea_11eb_9475_6030d4635d48row31_col3\" class=\"data row31 col3\" >2216735</td>\n",
       "                        <td id=\"T_2bbaed82_eaea_11eb_9475_6030d4635d48row31_col4\" class=\"data row31 col4\" >2.806011</td>\n",
       "            </tr>\n",
       "            <tr>\n",
       "                        <th id=\"T_2bbaed82_eaea_11eb_9475_6030d4635d48level0_row32\" class=\"row_heading level0 row32\" >32</th>\n",
       "                        <td id=\"T_2bbaed82_eaea_11eb_9475_6030d4635d48row32_col0\" class=\"data row32 col0\" >Rajasthan</td>\n",
       "                        <td id=\"T_2bbaed82_eaea_11eb_9475_6030d4635d48row32_col1\" class=\"data row32 col1\" >128998101</td>\n",
       "                        <td id=\"T_2bbaed82_eaea_11eb_9475_6030d4635d48row32_col2\" class=\"data row32 col2\" >117312772</td>\n",
       "                        <td id=\"T_2bbaed82_eaea_11eb_9475_6030d4635d48row32_col3\" class=\"data row32 col3\" >1159823</td>\n",
       "                        <td id=\"T_2bbaed82_eaea_11eb_9475_6030d4635d48row32_col4\" class=\"data row32 col4\" >0.899101</td>\n",
       "            </tr>\n",
       "            <tr>\n",
       "                        <th id=\"T_2bbaed82_eaea_11eb_9475_6030d4635d48level0_row33\" class=\"row_heading level0 row33\" >33</th>\n",
       "                        <td id=\"T_2bbaed82_eaea_11eb_9475_6030d4635d48row33_col0\" class=\"data row33 col0\" >Sikkim</td>\n",
       "                        <td id=\"T_2bbaed82_eaea_11eb_9475_6030d4635d48row33_col1\" class=\"data row33 col1\" >2315519</td>\n",
       "                        <td id=\"T_2bbaed82_eaea_11eb_9475_6030d4635d48row33_col2\" class=\"data row33 col2\" >1983899</td>\n",
       "                        <td id=\"T_2bbaed82_eaea_11eb_9475_6030d4635d48row33_col3\" class=\"data row33 col3\" >41530</td>\n",
       "                        <td id=\"T_2bbaed82_eaea_11eb_9475_6030d4635d48row33_col4\" class=\"data row33 col4\" >1.793550</td>\n",
       "            </tr>\n",
       "            <tr>\n",
       "                        <th id=\"T_2bbaed82_eaea_11eb_9475_6030d4635d48level0_row34\" class=\"row_heading level0 row34\" >34</th>\n",
       "                        <td id=\"T_2bbaed82_eaea_11eb_9475_6030d4635d48row34_col0\" class=\"data row34 col0\" >Tamil Nadu</td>\n",
       "                        <td id=\"T_2bbaed82_eaea_11eb_9475_6030d4635d48row34_col1\" class=\"data row34 col1\" >342829697</td>\n",
       "                        <td id=\"T_2bbaed82_eaea_11eb_9475_6030d4635d48row34_col2\" class=\"data row34 col2\" >317067499</td>\n",
       "                        <td id=\"T_2bbaed82_eaea_11eb_9475_6030d4635d48row34_col3\" class=\"data row34 col3\" >4731627</td>\n",
       "                        <td id=\"T_2bbaed82_eaea_11eb_9475_6030d4635d48row34_col4\" class=\"data row34 col4\" >1.380168</td>\n",
       "            </tr>\n",
       "            <tr>\n",
       "                        <th id=\"T_2bbaed82_eaea_11eb_9475_6030d4635d48level0_row35\" class=\"row_heading level0 row35\" >35</th>\n",
       "                        <td id=\"T_2bbaed82_eaea_11eb_9475_6030d4635d48row35_col0\" class=\"data row35 col0\" >Telangana</td>\n",
       "                        <td id=\"T_2bbaed82_eaea_11eb_9475_6030d4635d48row35_col1\" class=\"data row35 col1\" >38162058</td>\n",
       "                        <td id=\"T_2bbaed82_eaea_11eb_9475_6030d4635d48row35_col2\" class=\"data row35 col2\" >35544978</td>\n",
       "                        <td id=\"T_2bbaed82_eaea_11eb_9475_6030d4635d48row35_col3\" class=\"data row35 col3\" >217455</td>\n",
       "                        <td id=\"T_2bbaed82_eaea_11eb_9475_6030d4635d48row35_col4\" class=\"data row35 col4\" >0.569820</td>\n",
       "            </tr>\n",
       "            <tr>\n",
       "                        <th id=\"T_2bbaed82_eaea_11eb_9475_6030d4635d48level0_row36\" class=\"row_heading level0 row36\" >36</th>\n",
       "                        <td id=\"T_2bbaed82_eaea_11eb_9475_6030d4635d48row36_col0\" class=\"data row36 col0\" >Telengana</td>\n",
       "                        <td id=\"T_2bbaed82_eaea_11eb_9475_6030d4635d48row36_col1\" class=\"data row36 col1\" >69990668</td>\n",
       "                        <td id=\"T_2bbaed82_eaea_11eb_9475_6030d4635d48row36_col2\" class=\"data row36 col2\" >64666267</td>\n",
       "                        <td id=\"T_2bbaed82_eaea_11eb_9475_6030d4635d48row36_col3\" class=\"data row36 col3\" >400427</td>\n",
       "                        <td id=\"T_2bbaed82_eaea_11eb_9475_6030d4635d48row36_col4\" class=\"data row36 col4\" >0.572115</td>\n",
       "            </tr>\n",
       "            <tr>\n",
       "                        <th id=\"T_2bbaed82_eaea_11eb_9475_6030d4635d48level0_row37\" class=\"row_heading level0 row37\" >37</th>\n",
       "                        <td id=\"T_2bbaed82_eaea_11eb_9475_6030d4635d48row37_col0\" class=\"data row37 col0\" >Tripura</td>\n",
       "                        <td id=\"T_2bbaed82_eaea_11eb_9475_6030d4635d48row37_col1\" class=\"data row37 col1\" >11397656</td>\n",
       "                        <td id=\"T_2bbaed82_eaea_11eb_9475_6030d4635d48row37_col2\" class=\"data row37 col2\" >10479169</td>\n",
       "                        <td id=\"T_2bbaed82_eaea_11eb_9475_6030d4635d48row37_col3\" class=\"data row37 col3\" >124444</td>\n",
       "                        <td id=\"T_2bbaed82_eaea_11eb_9475_6030d4635d48row37_col4\" class=\"data row37 col4\" >1.091839</td>\n",
       "            </tr>\n",
       "            <tr>\n",
       "                        <th id=\"T_2bbaed82_eaea_11eb_9475_6030d4635d48level0_row38\" class=\"row_heading level0 row38\" >38</th>\n",
       "                        <td id=\"T_2bbaed82_eaea_11eb_9475_6030d4635d48row38_col0\" class=\"data row38 col0\" >Unassigned</td>\n",
       "                        <td id=\"T_2bbaed82_eaea_11eb_9475_6030d4635d48row38_col1\" class=\"data row38 col1\" >161</td>\n",
       "                        <td id=\"T_2bbaed82_eaea_11eb_9475_6030d4635d48row38_col2\" class=\"data row38 col2\" >0</td>\n",
       "                        <td id=\"T_2bbaed82_eaea_11eb_9475_6030d4635d48row38_col3\" class=\"data row38 col3\" >0</td>\n",
       "                        <td id=\"T_2bbaed82_eaea_11eb_9475_6030d4635d48row38_col4\" class=\"data row38 col4\" >0.000000</td>\n",
       "            </tr>\n",
       "            <tr>\n",
       "                        <th id=\"T_2bbaed82_eaea_11eb_9475_6030d4635d48level0_row39\" class=\"row_heading level0 row39\" >39</th>\n",
       "                        <td id=\"T_2bbaed82_eaea_11eb_9475_6030d4635d48row39_col0\" class=\"data row39 col0\" >Uttar Pradesh</td>\n",
       "                        <td id=\"T_2bbaed82_eaea_11eb_9475_6030d4635d48row39_col1\" class=\"data row39 col1\" >252843682</td>\n",
       "                        <td id=\"T_2bbaed82_eaea_11eb_9475_6030d4635d48row39_col2\" class=\"data row39 col2\" >232529439</td>\n",
       "                        <td id=\"T_2bbaed82_eaea_11eb_9475_6030d4635d48row39_col3\" class=\"data row39 col3\" >3347656</td>\n",
       "                        <td id=\"T_2bbaed82_eaea_11eb_9475_6030d4635d48row39_col4\" class=\"data row39 col4\" >1.324002</td>\n",
       "            </tr>\n",
       "            <tr>\n",
       "                        <th id=\"T_2bbaed82_eaea_11eb_9475_6030d4635d48level0_row40\" class=\"row_heading level0 row40\" >40</th>\n",
       "                        <td id=\"T_2bbaed82_eaea_11eb_9475_6030d4635d48row40_col0\" class=\"data row40 col0\" >Uttarakhand</td>\n",
       "                        <td id=\"T_2bbaed82_eaea_11eb_9475_6030d4635d48row40_col1\" class=\"data row40 col1\" >41179396</td>\n",
       "                        <td id=\"T_2bbaed82_eaea_11eb_9475_6030d4635d48row40_col2\" class=\"data row40 col2\" >36684388</td>\n",
       "                        <td id=\"T_2bbaed82_eaea_11eb_9475_6030d4635d48row40_col3\" class=\"data row40 col3\" >728512</td>\n",
       "                        <td id=\"T_2bbaed82_eaea_11eb_9475_6030d4635d48row40_col4\" class=\"data row40 col4\" >1.769118</td>\n",
       "            </tr>\n",
       "            <tr>\n",
       "                        <th id=\"T_2bbaed82_eaea_11eb_9475_6030d4635d48level0_row41\" class=\"row_heading level0 row41\" >41</th>\n",
       "                        <td id=\"T_2bbaed82_eaea_11eb_9475_6030d4635d48row41_col0\" class=\"data row41 col0\" >West Bengal</td>\n",
       "                        <td id=\"T_2bbaed82_eaea_11eb_9475_6030d4635d48row41_col1\" class=\"data row41 col1\" >209822848</td>\n",
       "                        <td id=\"T_2bbaed82_eaea_11eb_9475_6030d4635d48row41_col2\" class=\"data row41 col2\" >195296839</td>\n",
       "                        <td id=\"T_2bbaed82_eaea_11eb_9475_6030d4635d48row41_col3\" class=\"data row41 col3\" >3214840</td>\n",
       "                        <td id=\"T_2bbaed82_eaea_11eb_9475_6030d4635d48row41_col4\" class=\"data row41 col4\" >1.532169</td>\n",
       "            </tr>\n",
       "    </tbody></table>"
      ],
      "text/plain": [
       "<pandas.io.formats.style.Styler at 0x7f9bfe384f28>"
      ]
     },
     "execution_count": 110,
     "metadata": {},
     "output_type": "execute_result"
    }
   ],
   "source": [
    "state_wise = df.groupby('State/UnionTerritory')['Confirmed','Cured','Deaths'].sum().reset_index()\n",
    "state_wise[\"Death_percentage\"] = ((state_wise[\"Deaths\"] / state_wise[\"Confirmed\"]) * 100)\n",
    "state_wise.style.background_gradient(cmap='magma')"
   ]
  },
  {
   "cell_type": "code",
   "execution_count": 111,
   "metadata": {},
   "outputs": [
    {
     "data": {
      "application/vnd.plotly.v1+json": {
       "config": {
        "plotlyServerURL": "https://plot.ly"
       },
       "data": [
        {
         "alignmentgroup": "True",
         "hovertemplate": "x=%{x}<br>y=%{y}<extra></extra>",
         "legendgroup": "",
         "marker": {
          "color": "rgb(0,0,255)"
         },
         "name": "",
         "offsetgroup": "",
         "orientation": "v",
         "showlegend": false,
         "textposition": "auto",
         "type": "bar",
         "x": [
          "Maharashtra",
          "Karnataka",
          "Kerala",
          "Tamil Nadu",
          "Andhra Pradesh",
          "Uttar Pradesh",
          "Delhi",
          "West Bengal",
          "Rajasthan",
          "Chhattisgarh"
         ],
         "xaxis": "x",
         "y": [
          908892470,
          387597335,
          344319045,
          342829697,
          324146783,
          252843682,
          236972842,
          209822848,
          128998101,
          128751782
         ],
         "yaxis": "y"
        }
       ],
       "layout": {
        "barmode": "relative",
        "legend": {
         "tracegroupgap": 0
        },
        "template": {
         "data": {
          "bar": [
           {
            "error_x": {
             "color": "#2a3f5f"
            },
            "error_y": {
             "color": "#2a3f5f"
            },
            "marker": {
             "line": {
              "color": "#E5ECF6",
              "width": 0.5
             }
            },
            "type": "bar"
           }
          ],
          "barpolar": [
           {
            "marker": {
             "line": {
              "color": "#E5ECF6",
              "width": 0.5
             }
            },
            "type": "barpolar"
           }
          ],
          "carpet": [
           {
            "aaxis": {
             "endlinecolor": "#2a3f5f",
             "gridcolor": "white",
             "linecolor": "white",
             "minorgridcolor": "white",
             "startlinecolor": "#2a3f5f"
            },
            "baxis": {
             "endlinecolor": "#2a3f5f",
             "gridcolor": "white",
             "linecolor": "white",
             "minorgridcolor": "white",
             "startlinecolor": "#2a3f5f"
            },
            "type": "carpet"
           }
          ],
          "choropleth": [
           {
            "colorbar": {
             "outlinewidth": 0,
             "ticks": ""
            },
            "type": "choropleth"
           }
          ],
          "contour": [
           {
            "colorbar": {
             "outlinewidth": 0,
             "ticks": ""
            },
            "colorscale": [
             [
              0,
              "#0d0887"
             ],
             [
              0.1111111111111111,
              "#46039f"
             ],
             [
              0.2222222222222222,
              "#7201a8"
             ],
             [
              0.3333333333333333,
              "#9c179e"
             ],
             [
              0.4444444444444444,
              "#bd3786"
             ],
             [
              0.5555555555555556,
              "#d8576b"
             ],
             [
              0.6666666666666666,
              "#ed7953"
             ],
             [
              0.7777777777777778,
              "#fb9f3a"
             ],
             [
              0.8888888888888888,
              "#fdca26"
             ],
             [
              1,
              "#f0f921"
             ]
            ],
            "type": "contour"
           }
          ],
          "contourcarpet": [
           {
            "colorbar": {
             "outlinewidth": 0,
             "ticks": ""
            },
            "type": "contourcarpet"
           }
          ],
          "heatmap": [
           {
            "colorbar": {
             "outlinewidth": 0,
             "ticks": ""
            },
            "colorscale": [
             [
              0,
              "#0d0887"
             ],
             [
              0.1111111111111111,
              "#46039f"
             ],
             [
              0.2222222222222222,
              "#7201a8"
             ],
             [
              0.3333333333333333,
              "#9c179e"
             ],
             [
              0.4444444444444444,
              "#bd3786"
             ],
             [
              0.5555555555555556,
              "#d8576b"
             ],
             [
              0.6666666666666666,
              "#ed7953"
             ],
             [
              0.7777777777777778,
              "#fb9f3a"
             ],
             [
              0.8888888888888888,
              "#fdca26"
             ],
             [
              1,
              "#f0f921"
             ]
            ],
            "type": "heatmap"
           }
          ],
          "heatmapgl": [
           {
            "colorbar": {
             "outlinewidth": 0,
             "ticks": ""
            },
            "colorscale": [
             [
              0,
              "#0d0887"
             ],
             [
              0.1111111111111111,
              "#46039f"
             ],
             [
              0.2222222222222222,
              "#7201a8"
             ],
             [
              0.3333333333333333,
              "#9c179e"
             ],
             [
              0.4444444444444444,
              "#bd3786"
             ],
             [
              0.5555555555555556,
              "#d8576b"
             ],
             [
              0.6666666666666666,
              "#ed7953"
             ],
             [
              0.7777777777777778,
              "#fb9f3a"
             ],
             [
              0.8888888888888888,
              "#fdca26"
             ],
             [
              1,
              "#f0f921"
             ]
            ],
            "type": "heatmapgl"
           }
          ],
          "histogram": [
           {
            "marker": {
             "colorbar": {
              "outlinewidth": 0,
              "ticks": ""
             }
            },
            "type": "histogram"
           }
          ],
          "histogram2d": [
           {
            "colorbar": {
             "outlinewidth": 0,
             "ticks": ""
            },
            "colorscale": [
             [
              0,
              "#0d0887"
             ],
             [
              0.1111111111111111,
              "#46039f"
             ],
             [
              0.2222222222222222,
              "#7201a8"
             ],
             [
              0.3333333333333333,
              "#9c179e"
             ],
             [
              0.4444444444444444,
              "#bd3786"
             ],
             [
              0.5555555555555556,
              "#d8576b"
             ],
             [
              0.6666666666666666,
              "#ed7953"
             ],
             [
              0.7777777777777778,
              "#fb9f3a"
             ],
             [
              0.8888888888888888,
              "#fdca26"
             ],
             [
              1,
              "#f0f921"
             ]
            ],
            "type": "histogram2d"
           }
          ],
          "histogram2dcontour": [
           {
            "colorbar": {
             "outlinewidth": 0,
             "ticks": ""
            },
            "colorscale": [
             [
              0,
              "#0d0887"
             ],
             [
              0.1111111111111111,
              "#46039f"
             ],
             [
              0.2222222222222222,
              "#7201a8"
             ],
             [
              0.3333333333333333,
              "#9c179e"
             ],
             [
              0.4444444444444444,
              "#bd3786"
             ],
             [
              0.5555555555555556,
              "#d8576b"
             ],
             [
              0.6666666666666666,
              "#ed7953"
             ],
             [
              0.7777777777777778,
              "#fb9f3a"
             ],
             [
              0.8888888888888888,
              "#fdca26"
             ],
             [
              1,
              "#f0f921"
             ]
            ],
            "type": "histogram2dcontour"
           }
          ],
          "mesh3d": [
           {
            "colorbar": {
             "outlinewidth": 0,
             "ticks": ""
            },
            "type": "mesh3d"
           }
          ],
          "parcoords": [
           {
            "line": {
             "colorbar": {
              "outlinewidth": 0,
              "ticks": ""
             }
            },
            "type": "parcoords"
           }
          ],
          "pie": [
           {
            "automargin": true,
            "type": "pie"
           }
          ],
          "scatter": [
           {
            "marker": {
             "colorbar": {
              "outlinewidth": 0,
              "ticks": ""
             }
            },
            "type": "scatter"
           }
          ],
          "scatter3d": [
           {
            "line": {
             "colorbar": {
              "outlinewidth": 0,
              "ticks": ""
             }
            },
            "marker": {
             "colorbar": {
              "outlinewidth": 0,
              "ticks": ""
             }
            },
            "type": "scatter3d"
           }
          ],
          "scattercarpet": [
           {
            "marker": {
             "colorbar": {
              "outlinewidth": 0,
              "ticks": ""
             }
            },
            "type": "scattercarpet"
           }
          ],
          "scattergeo": [
           {
            "marker": {
             "colorbar": {
              "outlinewidth": 0,
              "ticks": ""
             }
            },
            "type": "scattergeo"
           }
          ],
          "scattergl": [
           {
            "marker": {
             "colorbar": {
              "outlinewidth": 0,
              "ticks": ""
             }
            },
            "type": "scattergl"
           }
          ],
          "scattermapbox": [
           {
            "marker": {
             "colorbar": {
              "outlinewidth": 0,
              "ticks": ""
             }
            },
            "type": "scattermapbox"
           }
          ],
          "scatterpolar": [
           {
            "marker": {
             "colorbar": {
              "outlinewidth": 0,
              "ticks": ""
             }
            },
            "type": "scatterpolar"
           }
          ],
          "scatterpolargl": [
           {
            "marker": {
             "colorbar": {
              "outlinewidth": 0,
              "ticks": ""
             }
            },
            "type": "scatterpolargl"
           }
          ],
          "scatterternary": [
           {
            "marker": {
             "colorbar": {
              "outlinewidth": 0,
              "ticks": ""
             }
            },
            "type": "scatterternary"
           }
          ],
          "surface": [
           {
            "colorbar": {
             "outlinewidth": 0,
             "ticks": ""
            },
            "colorscale": [
             [
              0,
              "#0d0887"
             ],
             [
              0.1111111111111111,
              "#46039f"
             ],
             [
              0.2222222222222222,
              "#7201a8"
             ],
             [
              0.3333333333333333,
              "#9c179e"
             ],
             [
              0.4444444444444444,
              "#bd3786"
             ],
             [
              0.5555555555555556,
              "#d8576b"
             ],
             [
              0.6666666666666666,
              "#ed7953"
             ],
             [
              0.7777777777777778,
              "#fb9f3a"
             ],
             [
              0.8888888888888888,
              "#fdca26"
             ],
             [
              1,
              "#f0f921"
             ]
            ],
            "type": "surface"
           }
          ],
          "table": [
           {
            "cells": {
             "fill": {
              "color": "#EBF0F8"
             },
             "line": {
              "color": "white"
             }
            },
            "header": {
             "fill": {
              "color": "#C8D4E3"
             },
             "line": {
              "color": "white"
             }
            },
            "type": "table"
           }
          ]
         },
         "layout": {
          "annotationdefaults": {
           "arrowcolor": "#2a3f5f",
           "arrowhead": 0,
           "arrowwidth": 1
          },
          "coloraxis": {
           "colorbar": {
            "outlinewidth": 0,
            "ticks": ""
           }
          },
          "colorscale": {
           "diverging": [
            [
             0,
             "#8e0152"
            ],
            [
             0.1,
             "#c51b7d"
            ],
            [
             0.2,
             "#de77ae"
            ],
            [
             0.3,
             "#f1b6da"
            ],
            [
             0.4,
             "#fde0ef"
            ],
            [
             0.5,
             "#f7f7f7"
            ],
            [
             0.6,
             "#e6f5d0"
            ],
            [
             0.7,
             "#b8e186"
            ],
            [
             0.8,
             "#7fbc41"
            ],
            [
             0.9,
             "#4d9221"
            ],
            [
             1,
             "#276419"
            ]
           ],
           "sequential": [
            [
             0,
             "#0d0887"
            ],
            [
             0.1111111111111111,
             "#46039f"
            ],
            [
             0.2222222222222222,
             "#7201a8"
            ],
            [
             0.3333333333333333,
             "#9c179e"
            ],
            [
             0.4444444444444444,
             "#bd3786"
            ],
            [
             0.5555555555555556,
             "#d8576b"
            ],
            [
             0.6666666666666666,
             "#ed7953"
            ],
            [
             0.7777777777777778,
             "#fb9f3a"
            ],
            [
             0.8888888888888888,
             "#fdca26"
            ],
            [
             1,
             "#f0f921"
            ]
           ],
           "sequentialminus": [
            [
             0,
             "#0d0887"
            ],
            [
             0.1111111111111111,
             "#46039f"
            ],
            [
             0.2222222222222222,
             "#7201a8"
            ],
            [
             0.3333333333333333,
             "#9c179e"
            ],
            [
             0.4444444444444444,
             "#bd3786"
            ],
            [
             0.5555555555555556,
             "#d8576b"
            ],
            [
             0.6666666666666666,
             "#ed7953"
            ],
            [
             0.7777777777777778,
             "#fb9f3a"
            ],
            [
             0.8888888888888888,
             "#fdca26"
            ],
            [
             1,
             "#f0f921"
            ]
           ]
          },
          "colorway": [
           "#636efa",
           "#EF553B",
           "#00cc96",
           "#ab63fa",
           "#FFA15A",
           "#19d3f3",
           "#FF6692",
           "#B6E880",
           "#FF97FF",
           "#FECB52"
          ],
          "font": {
           "color": "#2a3f5f"
          },
          "geo": {
           "bgcolor": "white",
           "lakecolor": "white",
           "landcolor": "#E5ECF6",
           "showlakes": true,
           "showland": true,
           "subunitcolor": "white"
          },
          "hoverlabel": {
           "align": "left"
          },
          "hovermode": "closest",
          "mapbox": {
           "style": "light"
          },
          "paper_bgcolor": "white",
          "plot_bgcolor": "#E5ECF6",
          "polar": {
           "angularaxis": {
            "gridcolor": "white",
            "linecolor": "white",
            "ticks": ""
           },
           "bgcolor": "#E5ECF6",
           "radialaxis": {
            "gridcolor": "white",
            "linecolor": "white",
            "ticks": ""
           }
          },
          "scene": {
           "xaxis": {
            "backgroundcolor": "#E5ECF6",
            "gridcolor": "white",
            "gridwidth": 2,
            "linecolor": "white",
            "showbackground": true,
            "ticks": "",
            "zerolinecolor": "white"
           },
           "yaxis": {
            "backgroundcolor": "#E5ECF6",
            "gridcolor": "white",
            "gridwidth": 2,
            "linecolor": "white",
            "showbackground": true,
            "ticks": "",
            "zerolinecolor": "white"
           },
           "zaxis": {
            "backgroundcolor": "#E5ECF6",
            "gridcolor": "white",
            "gridwidth": 2,
            "linecolor": "white",
            "showbackground": true,
            "ticks": "",
            "zerolinecolor": "white"
           }
          },
          "shapedefaults": {
           "line": {
            "color": "#2a3f5f"
           }
          },
          "ternary": {
           "aaxis": {
            "gridcolor": "white",
            "linecolor": "white",
            "ticks": ""
           },
           "baxis": {
            "gridcolor": "white",
            "linecolor": "white",
            "ticks": ""
           },
           "bgcolor": "#E5ECF6",
           "caxis": {
            "gridcolor": "white",
            "linecolor": "white",
            "ticks": ""
           }
          },
          "title": {
           "x": 0.05
          },
          "xaxis": {
           "automargin": true,
           "gridcolor": "white",
           "linecolor": "white",
           "ticks": "",
           "title": {
            "standoff": 15
           },
           "zerolinecolor": "white",
           "zerolinewidth": 2
          },
          "yaxis": {
           "automargin": true,
           "gridcolor": "white",
           "linecolor": "white",
           "ticks": "",
           "title": {
            "standoff": 15
           },
           "zerolinecolor": "white",
           "zerolinewidth": 2
          }
         }
        },
        "title": {
         "text": "Top 10 states with highest number of Confirmed cases"
        },
        "xaxis": {
         "anchor": "y",
         "domain": [
          0,
          1
         ],
         "title": {
          "text": "x"
         }
        },
        "yaxis": {
         "anchor": "x",
         "domain": [
          0,
          1
         ],
         "title": {
          "text": "y"
         }
        }
       }
      },
      "text/html": [
       "<div>                            <div id=\"d3972073-19f6-432a-af68-53fa49b1cd3a\" class=\"plotly-graph-div\" style=\"height:525px; width:100%;\"></div>            <script type=\"text/javascript\">                require([\"plotly\"], function(Plotly) {                    window.PLOTLYENV=window.PLOTLYENV || {};                                    if (document.getElementById(\"d3972073-19f6-432a-af68-53fa49b1cd3a\")) {                    Plotly.newPlot(                        \"d3972073-19f6-432a-af68-53fa49b1cd3a\",                        [{\"alignmentgroup\": \"True\", \"hovertemplate\": \"x=%{x}<br>y=%{y}<extra></extra>\", \"legendgroup\": \"\", \"marker\": {\"color\": \"rgb(0,0,255)\"}, \"name\": \"\", \"offsetgroup\": \"\", \"orientation\": \"v\", \"showlegend\": false, \"textposition\": \"auto\", \"type\": \"bar\", \"x\": [\"Maharashtra\", \"Karnataka\", \"Kerala\", \"Tamil Nadu\", \"Andhra Pradesh\", \"Uttar Pradesh\", \"Delhi\", \"West Bengal\", \"Rajasthan\", \"Chhattisgarh\"], \"xaxis\": \"x\", \"y\": [908892470, 387597335, 344319045, 342829697, 324146783, 252843682, 236972842, 209822848, 128998101, 128751782], \"yaxis\": \"y\"}],                        {\"barmode\": \"relative\", \"legend\": {\"tracegroupgap\": 0}, \"template\": {\"data\": {\"bar\": [{\"error_x\": {\"color\": \"#2a3f5f\"}, \"error_y\": {\"color\": \"#2a3f5f\"}, \"marker\": {\"line\": {\"color\": \"#E5ECF6\", \"width\": 0.5}}, \"type\": \"bar\"}], \"barpolar\": [{\"marker\": {\"line\": {\"color\": \"#E5ECF6\", \"width\": 0.5}}, \"type\": \"barpolar\"}], \"carpet\": [{\"aaxis\": {\"endlinecolor\": \"#2a3f5f\", \"gridcolor\": \"white\", \"linecolor\": \"white\", \"minorgridcolor\": \"white\", \"startlinecolor\": \"#2a3f5f\"}, \"baxis\": {\"endlinecolor\": \"#2a3f5f\", \"gridcolor\": \"white\", \"linecolor\": \"white\", \"minorgridcolor\": \"white\", \"startlinecolor\": \"#2a3f5f\"}, \"type\": \"carpet\"}], \"choropleth\": [{\"colorbar\": {\"outlinewidth\": 0, \"ticks\": \"\"}, \"type\": \"choropleth\"}], \"contour\": [{\"colorbar\": {\"outlinewidth\": 0, \"ticks\": \"\"}, \"colorscale\": [[0.0, \"#0d0887\"], [0.1111111111111111, \"#46039f\"], [0.2222222222222222, \"#7201a8\"], [0.3333333333333333, \"#9c179e\"], [0.4444444444444444, \"#bd3786\"], [0.5555555555555556, \"#d8576b\"], [0.6666666666666666, \"#ed7953\"], [0.7777777777777778, \"#fb9f3a\"], [0.8888888888888888, \"#fdca26\"], [1.0, \"#f0f921\"]], \"type\": \"contour\"}], \"contourcarpet\": [{\"colorbar\": {\"outlinewidth\": 0, \"ticks\": \"\"}, \"type\": \"contourcarpet\"}], \"heatmap\": [{\"colorbar\": {\"outlinewidth\": 0, \"ticks\": \"\"}, \"colorscale\": [[0.0, \"#0d0887\"], [0.1111111111111111, \"#46039f\"], [0.2222222222222222, \"#7201a8\"], [0.3333333333333333, \"#9c179e\"], [0.4444444444444444, \"#bd3786\"], [0.5555555555555556, \"#d8576b\"], [0.6666666666666666, \"#ed7953\"], [0.7777777777777778, \"#fb9f3a\"], [0.8888888888888888, \"#fdca26\"], [1.0, \"#f0f921\"]], \"type\": \"heatmap\"}], \"heatmapgl\": [{\"colorbar\": {\"outlinewidth\": 0, \"ticks\": \"\"}, \"colorscale\": [[0.0, \"#0d0887\"], [0.1111111111111111, \"#46039f\"], [0.2222222222222222, \"#7201a8\"], [0.3333333333333333, \"#9c179e\"], [0.4444444444444444, \"#bd3786\"], [0.5555555555555556, \"#d8576b\"], [0.6666666666666666, \"#ed7953\"], [0.7777777777777778, \"#fb9f3a\"], [0.8888888888888888, \"#fdca26\"], [1.0, \"#f0f921\"]], \"type\": \"heatmapgl\"}], \"histogram\": [{\"marker\": {\"colorbar\": {\"outlinewidth\": 0, \"ticks\": \"\"}}, \"type\": \"histogram\"}], \"histogram2d\": [{\"colorbar\": {\"outlinewidth\": 0, \"ticks\": \"\"}, \"colorscale\": [[0.0, \"#0d0887\"], [0.1111111111111111, \"#46039f\"], [0.2222222222222222, \"#7201a8\"], [0.3333333333333333, \"#9c179e\"], [0.4444444444444444, \"#bd3786\"], [0.5555555555555556, \"#d8576b\"], [0.6666666666666666, \"#ed7953\"], [0.7777777777777778, \"#fb9f3a\"], [0.8888888888888888, \"#fdca26\"], [1.0, \"#f0f921\"]], \"type\": \"histogram2d\"}], \"histogram2dcontour\": [{\"colorbar\": {\"outlinewidth\": 0, \"ticks\": \"\"}, \"colorscale\": [[0.0, \"#0d0887\"], [0.1111111111111111, \"#46039f\"], [0.2222222222222222, \"#7201a8\"], [0.3333333333333333, \"#9c179e\"], [0.4444444444444444, \"#bd3786\"], [0.5555555555555556, \"#d8576b\"], [0.6666666666666666, \"#ed7953\"], [0.7777777777777778, \"#fb9f3a\"], [0.8888888888888888, \"#fdca26\"], [1.0, \"#f0f921\"]], \"type\": \"histogram2dcontour\"}], \"mesh3d\": [{\"colorbar\": {\"outlinewidth\": 0, \"ticks\": \"\"}, \"type\": \"mesh3d\"}], \"parcoords\": [{\"line\": {\"colorbar\": {\"outlinewidth\": 0, \"ticks\": \"\"}}, \"type\": \"parcoords\"}], \"pie\": [{\"automargin\": true, \"type\": \"pie\"}], \"scatter\": [{\"marker\": {\"colorbar\": {\"outlinewidth\": 0, \"ticks\": \"\"}}, \"type\": \"scatter\"}], \"scatter3d\": [{\"line\": {\"colorbar\": {\"outlinewidth\": 0, \"ticks\": \"\"}}, \"marker\": {\"colorbar\": {\"outlinewidth\": 0, \"ticks\": \"\"}}, \"type\": \"scatter3d\"}], \"scattercarpet\": [{\"marker\": {\"colorbar\": {\"outlinewidth\": 0, \"ticks\": \"\"}}, \"type\": \"scattercarpet\"}], \"scattergeo\": [{\"marker\": {\"colorbar\": {\"outlinewidth\": 0, \"ticks\": \"\"}}, \"type\": \"scattergeo\"}], \"scattergl\": [{\"marker\": {\"colorbar\": {\"outlinewidth\": 0, \"ticks\": \"\"}}, \"type\": \"scattergl\"}], \"scattermapbox\": [{\"marker\": {\"colorbar\": {\"outlinewidth\": 0, \"ticks\": \"\"}}, \"type\": \"scattermapbox\"}], \"scatterpolar\": [{\"marker\": {\"colorbar\": {\"outlinewidth\": 0, \"ticks\": \"\"}}, \"type\": \"scatterpolar\"}], \"scatterpolargl\": [{\"marker\": {\"colorbar\": {\"outlinewidth\": 0, \"ticks\": \"\"}}, \"type\": \"scatterpolargl\"}], \"scatterternary\": [{\"marker\": {\"colorbar\": {\"outlinewidth\": 0, \"ticks\": \"\"}}, \"type\": \"scatterternary\"}], \"surface\": [{\"colorbar\": {\"outlinewidth\": 0, \"ticks\": \"\"}, \"colorscale\": [[0.0, \"#0d0887\"], [0.1111111111111111, \"#46039f\"], [0.2222222222222222, \"#7201a8\"], [0.3333333333333333, \"#9c179e\"], [0.4444444444444444, \"#bd3786\"], [0.5555555555555556, \"#d8576b\"], [0.6666666666666666, \"#ed7953\"], [0.7777777777777778, \"#fb9f3a\"], [0.8888888888888888, \"#fdca26\"], [1.0, \"#f0f921\"]], \"type\": \"surface\"}], \"table\": [{\"cells\": {\"fill\": {\"color\": \"#EBF0F8\"}, \"line\": {\"color\": \"white\"}}, \"header\": {\"fill\": {\"color\": \"#C8D4E3\"}, \"line\": {\"color\": \"white\"}}, \"type\": \"table\"}]}, \"layout\": {\"annotationdefaults\": {\"arrowcolor\": \"#2a3f5f\", \"arrowhead\": 0, \"arrowwidth\": 1}, \"coloraxis\": {\"colorbar\": {\"outlinewidth\": 0, \"ticks\": \"\"}}, \"colorscale\": {\"diverging\": [[0, \"#8e0152\"], [0.1, \"#c51b7d\"], [0.2, \"#de77ae\"], [0.3, \"#f1b6da\"], [0.4, \"#fde0ef\"], [0.5, \"#f7f7f7\"], [0.6, \"#e6f5d0\"], [0.7, \"#b8e186\"], [0.8, \"#7fbc41\"], [0.9, \"#4d9221\"], [1, \"#276419\"]], \"sequential\": [[0.0, \"#0d0887\"], [0.1111111111111111, \"#46039f\"], [0.2222222222222222, \"#7201a8\"], [0.3333333333333333, \"#9c179e\"], [0.4444444444444444, \"#bd3786\"], [0.5555555555555556, \"#d8576b\"], [0.6666666666666666, \"#ed7953\"], [0.7777777777777778, \"#fb9f3a\"], [0.8888888888888888, \"#fdca26\"], [1.0, \"#f0f921\"]], \"sequentialminus\": [[0.0, \"#0d0887\"], [0.1111111111111111, \"#46039f\"], [0.2222222222222222, \"#7201a8\"], [0.3333333333333333, \"#9c179e\"], [0.4444444444444444, \"#bd3786\"], [0.5555555555555556, \"#d8576b\"], [0.6666666666666666, \"#ed7953\"], [0.7777777777777778, \"#fb9f3a\"], [0.8888888888888888, \"#fdca26\"], [1.0, \"#f0f921\"]]}, \"colorway\": [\"#636efa\", \"#EF553B\", \"#00cc96\", \"#ab63fa\", \"#FFA15A\", \"#19d3f3\", \"#FF6692\", \"#B6E880\", \"#FF97FF\", \"#FECB52\"], \"font\": {\"color\": \"#2a3f5f\"}, \"geo\": {\"bgcolor\": \"white\", \"lakecolor\": \"white\", \"landcolor\": \"#E5ECF6\", \"showlakes\": true, \"showland\": true, \"subunitcolor\": \"white\"}, \"hoverlabel\": {\"align\": \"left\"}, \"hovermode\": \"closest\", \"mapbox\": {\"style\": \"light\"}, \"paper_bgcolor\": \"white\", \"plot_bgcolor\": \"#E5ECF6\", \"polar\": {\"angularaxis\": {\"gridcolor\": \"white\", \"linecolor\": \"white\", \"ticks\": \"\"}, \"bgcolor\": \"#E5ECF6\", \"radialaxis\": {\"gridcolor\": \"white\", \"linecolor\": \"white\", \"ticks\": \"\"}}, \"scene\": {\"xaxis\": {\"backgroundcolor\": \"#E5ECF6\", \"gridcolor\": \"white\", \"gridwidth\": 2, \"linecolor\": \"white\", \"showbackground\": true, \"ticks\": \"\", \"zerolinecolor\": \"white\"}, \"yaxis\": {\"backgroundcolor\": \"#E5ECF6\", \"gridcolor\": \"white\", \"gridwidth\": 2, \"linecolor\": \"white\", \"showbackground\": true, \"ticks\": \"\", \"zerolinecolor\": \"white\"}, \"zaxis\": {\"backgroundcolor\": \"#E5ECF6\", \"gridcolor\": \"white\", \"gridwidth\": 2, \"linecolor\": \"white\", \"showbackground\": true, \"ticks\": \"\", \"zerolinecolor\": \"white\"}}, \"shapedefaults\": {\"line\": {\"color\": \"#2a3f5f\"}}, \"ternary\": {\"aaxis\": {\"gridcolor\": \"white\", \"linecolor\": \"white\", \"ticks\": \"\"}, \"baxis\": {\"gridcolor\": \"white\", \"linecolor\": \"white\", \"ticks\": \"\"}, \"bgcolor\": \"#E5ECF6\", \"caxis\": {\"gridcolor\": \"white\", \"linecolor\": \"white\", \"ticks\": \"\"}}, \"title\": {\"x\": 0.05}, \"xaxis\": {\"automargin\": true, \"gridcolor\": \"white\", \"linecolor\": \"white\", \"ticks\": \"\", \"title\": {\"standoff\": 15}, \"zerolinecolor\": \"white\", \"zerolinewidth\": 2}, \"yaxis\": {\"automargin\": true, \"gridcolor\": \"white\", \"linecolor\": \"white\", \"ticks\": \"\", \"title\": {\"standoff\": 15}, \"zerolinecolor\": \"white\", \"zerolinewidth\": 2}}}, \"title\": {\"text\": \"Top 10 states with highest number of Confirmed cases\"}, \"xaxis\": {\"anchor\": \"y\", \"domain\": [0.0, 1.0], \"title\": {\"text\": \"x\"}}, \"yaxis\": {\"anchor\": \"x\", \"domain\": [0.0, 1.0], \"title\": {\"text\": \"y\"}}},                        {\"responsive\": true}                    ).then(function(){\n",
       "                            \n",
       "var gd = document.getElementById('d3972073-19f6-432a-af68-53fa49b1cd3a');\n",
       "var x = new MutationObserver(function (mutations, observer) {{\n",
       "        var display = window.getComputedStyle(gd).display;\n",
       "        if (!display || display === 'none') {{\n",
       "            console.log([gd, 'removed!']);\n",
       "            Plotly.purge(gd);\n",
       "            observer.disconnect();\n",
       "        }}\n",
       "}});\n",
       "\n",
       "// Listen for the removal of the full notebook cells\n",
       "var notebookContainer = gd.closest('#notebook-container');\n",
       "if (notebookContainer) {{\n",
       "    x.observe(notebookContainer, {childList: true});\n",
       "}}\n",
       "\n",
       "// Listen for the clearing of the current output cell\n",
       "var outputEl = gd.closest('.output');\n",
       "if (outputEl) {{\n",
       "    x.observe(outputEl, {childList: true});\n",
       "}}\n",
       "\n",
       "                        })                };                });            </script>        </div>"
      ]
     },
     "metadata": {},
     "output_type": "display_data"
    }
   ],
   "source": [
    "px.bar(x=state_wise.nlargest(10,\"Confirmed\")[\"State/UnionTerritory\"],\n",
    "       y = state_wise.nlargest(10,\"Confirmed\")[\"Confirmed\"],\n",
    "       color_discrete_sequence=px.colors.diverging.Picnic,\n",
    "       title=\"Top 10 states with highest number of Confirmed cases\")"
   ]
  },
  {
   "cell_type": "code",
   "execution_count": 112,
   "metadata": {},
   "outputs": [
    {
     "data": {
      "application/vnd.plotly.v1+json": {
       "config": {
        "plotlyServerURL": "https://plot.ly"
       },
       "data": [
        {
         "alignmentgroup": "True",
         "hovertemplate": "x=%{x}<br>y=%{y}<extra></extra>",
         "legendgroup": "",
         "marker": {
          "color": "rgb(243, 231, 155)"
         },
         "name": "",
         "offsetgroup": "",
         "orientation": "v",
         "showlegend": false,
         "textposition": "auto",
         "type": "bar",
         "x": [
          "Maharashtra",
          "Karnataka",
          "Tamil Nadu",
          "Kerala",
          "Andhra Pradesh",
          "Uttar Pradesh",
          "Delhi",
          "West Bengal",
          "Odisha",
          "Rajasthan"
         ],
         "xaxis": "x",
         "y": [
          813788907,
          345648926,
          317067499,
          311127643,
          303427899,
          232529439,
          224062704,
          195296839,
          117984789,
          117312772
         ],
         "yaxis": "y"
        }
       ],
       "layout": {
        "barmode": "relative",
        "legend": {
         "tracegroupgap": 0
        },
        "template": {
         "data": {
          "bar": [
           {
            "error_x": {
             "color": "#2a3f5f"
            },
            "error_y": {
             "color": "#2a3f5f"
            },
            "marker": {
             "line": {
              "color": "#E5ECF6",
              "width": 0.5
             }
            },
            "type": "bar"
           }
          ],
          "barpolar": [
           {
            "marker": {
             "line": {
              "color": "#E5ECF6",
              "width": 0.5
             }
            },
            "type": "barpolar"
           }
          ],
          "carpet": [
           {
            "aaxis": {
             "endlinecolor": "#2a3f5f",
             "gridcolor": "white",
             "linecolor": "white",
             "minorgridcolor": "white",
             "startlinecolor": "#2a3f5f"
            },
            "baxis": {
             "endlinecolor": "#2a3f5f",
             "gridcolor": "white",
             "linecolor": "white",
             "minorgridcolor": "white",
             "startlinecolor": "#2a3f5f"
            },
            "type": "carpet"
           }
          ],
          "choropleth": [
           {
            "colorbar": {
             "outlinewidth": 0,
             "ticks": ""
            },
            "type": "choropleth"
           }
          ],
          "contour": [
           {
            "colorbar": {
             "outlinewidth": 0,
             "ticks": ""
            },
            "colorscale": [
             [
              0,
              "#0d0887"
             ],
             [
              0.1111111111111111,
              "#46039f"
             ],
             [
              0.2222222222222222,
              "#7201a8"
             ],
             [
              0.3333333333333333,
              "#9c179e"
             ],
             [
              0.4444444444444444,
              "#bd3786"
             ],
             [
              0.5555555555555556,
              "#d8576b"
             ],
             [
              0.6666666666666666,
              "#ed7953"
             ],
             [
              0.7777777777777778,
              "#fb9f3a"
             ],
             [
              0.8888888888888888,
              "#fdca26"
             ],
             [
              1,
              "#f0f921"
             ]
            ],
            "type": "contour"
           }
          ],
          "contourcarpet": [
           {
            "colorbar": {
             "outlinewidth": 0,
             "ticks": ""
            },
            "type": "contourcarpet"
           }
          ],
          "heatmap": [
           {
            "colorbar": {
             "outlinewidth": 0,
             "ticks": ""
            },
            "colorscale": [
             [
              0,
              "#0d0887"
             ],
             [
              0.1111111111111111,
              "#46039f"
             ],
             [
              0.2222222222222222,
              "#7201a8"
             ],
             [
              0.3333333333333333,
              "#9c179e"
             ],
             [
              0.4444444444444444,
              "#bd3786"
             ],
             [
              0.5555555555555556,
              "#d8576b"
             ],
             [
              0.6666666666666666,
              "#ed7953"
             ],
             [
              0.7777777777777778,
              "#fb9f3a"
             ],
             [
              0.8888888888888888,
              "#fdca26"
             ],
             [
              1,
              "#f0f921"
             ]
            ],
            "type": "heatmap"
           }
          ],
          "heatmapgl": [
           {
            "colorbar": {
             "outlinewidth": 0,
             "ticks": ""
            },
            "colorscale": [
             [
              0,
              "#0d0887"
             ],
             [
              0.1111111111111111,
              "#46039f"
             ],
             [
              0.2222222222222222,
              "#7201a8"
             ],
             [
              0.3333333333333333,
              "#9c179e"
             ],
             [
              0.4444444444444444,
              "#bd3786"
             ],
             [
              0.5555555555555556,
              "#d8576b"
             ],
             [
              0.6666666666666666,
              "#ed7953"
             ],
             [
              0.7777777777777778,
              "#fb9f3a"
             ],
             [
              0.8888888888888888,
              "#fdca26"
             ],
             [
              1,
              "#f0f921"
             ]
            ],
            "type": "heatmapgl"
           }
          ],
          "histogram": [
           {
            "marker": {
             "colorbar": {
              "outlinewidth": 0,
              "ticks": ""
             }
            },
            "type": "histogram"
           }
          ],
          "histogram2d": [
           {
            "colorbar": {
             "outlinewidth": 0,
             "ticks": ""
            },
            "colorscale": [
             [
              0,
              "#0d0887"
             ],
             [
              0.1111111111111111,
              "#46039f"
             ],
             [
              0.2222222222222222,
              "#7201a8"
             ],
             [
              0.3333333333333333,
              "#9c179e"
             ],
             [
              0.4444444444444444,
              "#bd3786"
             ],
             [
              0.5555555555555556,
              "#d8576b"
             ],
             [
              0.6666666666666666,
              "#ed7953"
             ],
             [
              0.7777777777777778,
              "#fb9f3a"
             ],
             [
              0.8888888888888888,
              "#fdca26"
             ],
             [
              1,
              "#f0f921"
             ]
            ],
            "type": "histogram2d"
           }
          ],
          "histogram2dcontour": [
           {
            "colorbar": {
             "outlinewidth": 0,
             "ticks": ""
            },
            "colorscale": [
             [
              0,
              "#0d0887"
             ],
             [
              0.1111111111111111,
              "#46039f"
             ],
             [
              0.2222222222222222,
              "#7201a8"
             ],
             [
              0.3333333333333333,
              "#9c179e"
             ],
             [
              0.4444444444444444,
              "#bd3786"
             ],
             [
              0.5555555555555556,
              "#d8576b"
             ],
             [
              0.6666666666666666,
              "#ed7953"
             ],
             [
              0.7777777777777778,
              "#fb9f3a"
             ],
             [
              0.8888888888888888,
              "#fdca26"
             ],
             [
              1,
              "#f0f921"
             ]
            ],
            "type": "histogram2dcontour"
           }
          ],
          "mesh3d": [
           {
            "colorbar": {
             "outlinewidth": 0,
             "ticks": ""
            },
            "type": "mesh3d"
           }
          ],
          "parcoords": [
           {
            "line": {
             "colorbar": {
              "outlinewidth": 0,
              "ticks": ""
             }
            },
            "type": "parcoords"
           }
          ],
          "pie": [
           {
            "automargin": true,
            "type": "pie"
           }
          ],
          "scatter": [
           {
            "marker": {
             "colorbar": {
              "outlinewidth": 0,
              "ticks": ""
             }
            },
            "type": "scatter"
           }
          ],
          "scatter3d": [
           {
            "line": {
             "colorbar": {
              "outlinewidth": 0,
              "ticks": ""
             }
            },
            "marker": {
             "colorbar": {
              "outlinewidth": 0,
              "ticks": ""
             }
            },
            "type": "scatter3d"
           }
          ],
          "scattercarpet": [
           {
            "marker": {
             "colorbar": {
              "outlinewidth": 0,
              "ticks": ""
             }
            },
            "type": "scattercarpet"
           }
          ],
          "scattergeo": [
           {
            "marker": {
             "colorbar": {
              "outlinewidth": 0,
              "ticks": ""
             }
            },
            "type": "scattergeo"
           }
          ],
          "scattergl": [
           {
            "marker": {
             "colorbar": {
              "outlinewidth": 0,
              "ticks": ""
             }
            },
            "type": "scattergl"
           }
          ],
          "scattermapbox": [
           {
            "marker": {
             "colorbar": {
              "outlinewidth": 0,
              "ticks": ""
             }
            },
            "type": "scattermapbox"
           }
          ],
          "scatterpolar": [
           {
            "marker": {
             "colorbar": {
              "outlinewidth": 0,
              "ticks": ""
             }
            },
            "type": "scatterpolar"
           }
          ],
          "scatterpolargl": [
           {
            "marker": {
             "colorbar": {
              "outlinewidth": 0,
              "ticks": ""
             }
            },
            "type": "scatterpolargl"
           }
          ],
          "scatterternary": [
           {
            "marker": {
             "colorbar": {
              "outlinewidth": 0,
              "ticks": ""
             }
            },
            "type": "scatterternary"
           }
          ],
          "surface": [
           {
            "colorbar": {
             "outlinewidth": 0,
             "ticks": ""
            },
            "colorscale": [
             [
              0,
              "#0d0887"
             ],
             [
              0.1111111111111111,
              "#46039f"
             ],
             [
              0.2222222222222222,
              "#7201a8"
             ],
             [
              0.3333333333333333,
              "#9c179e"
             ],
             [
              0.4444444444444444,
              "#bd3786"
             ],
             [
              0.5555555555555556,
              "#d8576b"
             ],
             [
              0.6666666666666666,
              "#ed7953"
             ],
             [
              0.7777777777777778,
              "#fb9f3a"
             ],
             [
              0.8888888888888888,
              "#fdca26"
             ],
             [
              1,
              "#f0f921"
             ]
            ],
            "type": "surface"
           }
          ],
          "table": [
           {
            "cells": {
             "fill": {
              "color": "#EBF0F8"
             },
             "line": {
              "color": "white"
             }
            },
            "header": {
             "fill": {
              "color": "#C8D4E3"
             },
             "line": {
              "color": "white"
             }
            },
            "type": "table"
           }
          ]
         },
         "layout": {
          "annotationdefaults": {
           "arrowcolor": "#2a3f5f",
           "arrowhead": 0,
           "arrowwidth": 1
          },
          "coloraxis": {
           "colorbar": {
            "outlinewidth": 0,
            "ticks": ""
           }
          },
          "colorscale": {
           "diverging": [
            [
             0,
             "#8e0152"
            ],
            [
             0.1,
             "#c51b7d"
            ],
            [
             0.2,
             "#de77ae"
            ],
            [
             0.3,
             "#f1b6da"
            ],
            [
             0.4,
             "#fde0ef"
            ],
            [
             0.5,
             "#f7f7f7"
            ],
            [
             0.6,
             "#e6f5d0"
            ],
            [
             0.7,
             "#b8e186"
            ],
            [
             0.8,
             "#7fbc41"
            ],
            [
             0.9,
             "#4d9221"
            ],
            [
             1,
             "#276419"
            ]
           ],
           "sequential": [
            [
             0,
             "#0d0887"
            ],
            [
             0.1111111111111111,
             "#46039f"
            ],
            [
             0.2222222222222222,
             "#7201a8"
            ],
            [
             0.3333333333333333,
             "#9c179e"
            ],
            [
             0.4444444444444444,
             "#bd3786"
            ],
            [
             0.5555555555555556,
             "#d8576b"
            ],
            [
             0.6666666666666666,
             "#ed7953"
            ],
            [
             0.7777777777777778,
             "#fb9f3a"
            ],
            [
             0.8888888888888888,
             "#fdca26"
            ],
            [
             1,
             "#f0f921"
            ]
           ],
           "sequentialminus": [
            [
             0,
             "#0d0887"
            ],
            [
             0.1111111111111111,
             "#46039f"
            ],
            [
             0.2222222222222222,
             "#7201a8"
            ],
            [
             0.3333333333333333,
             "#9c179e"
            ],
            [
             0.4444444444444444,
             "#bd3786"
            ],
            [
             0.5555555555555556,
             "#d8576b"
            ],
            [
             0.6666666666666666,
             "#ed7953"
            ],
            [
             0.7777777777777778,
             "#fb9f3a"
            ],
            [
             0.8888888888888888,
             "#fdca26"
            ],
            [
             1,
             "#f0f921"
            ]
           ]
          },
          "colorway": [
           "#636efa",
           "#EF553B",
           "#00cc96",
           "#ab63fa",
           "#FFA15A",
           "#19d3f3",
           "#FF6692",
           "#B6E880",
           "#FF97FF",
           "#FECB52"
          ],
          "font": {
           "color": "#2a3f5f"
          },
          "geo": {
           "bgcolor": "white",
           "lakecolor": "white",
           "landcolor": "#E5ECF6",
           "showlakes": true,
           "showland": true,
           "subunitcolor": "white"
          },
          "hoverlabel": {
           "align": "left"
          },
          "hovermode": "closest",
          "mapbox": {
           "style": "light"
          },
          "paper_bgcolor": "white",
          "plot_bgcolor": "#E5ECF6",
          "polar": {
           "angularaxis": {
            "gridcolor": "white",
            "linecolor": "white",
            "ticks": ""
           },
           "bgcolor": "#E5ECF6",
           "radialaxis": {
            "gridcolor": "white",
            "linecolor": "white",
            "ticks": ""
           }
          },
          "scene": {
           "xaxis": {
            "backgroundcolor": "#E5ECF6",
            "gridcolor": "white",
            "gridwidth": 2,
            "linecolor": "white",
            "showbackground": true,
            "ticks": "",
            "zerolinecolor": "white"
           },
           "yaxis": {
            "backgroundcolor": "#E5ECF6",
            "gridcolor": "white",
            "gridwidth": 2,
            "linecolor": "white",
            "showbackground": true,
            "ticks": "",
            "zerolinecolor": "white"
           },
           "zaxis": {
            "backgroundcolor": "#E5ECF6",
            "gridcolor": "white",
            "gridwidth": 2,
            "linecolor": "white",
            "showbackground": true,
            "ticks": "",
            "zerolinecolor": "white"
           }
          },
          "shapedefaults": {
           "line": {
            "color": "#2a3f5f"
           }
          },
          "ternary": {
           "aaxis": {
            "gridcolor": "white",
            "linecolor": "white",
            "ticks": ""
           },
           "baxis": {
            "gridcolor": "white",
            "linecolor": "white",
            "ticks": ""
           },
           "bgcolor": "#E5ECF6",
           "caxis": {
            "gridcolor": "white",
            "linecolor": "white",
            "ticks": ""
           }
          },
          "title": {
           "x": 0.05
          },
          "xaxis": {
           "automargin": true,
           "gridcolor": "white",
           "linecolor": "white",
           "ticks": "",
           "title": {
            "standoff": 15
           },
           "zerolinecolor": "white",
           "zerolinewidth": 2
          },
          "yaxis": {
           "automargin": true,
           "gridcolor": "white",
           "linecolor": "white",
           "ticks": "",
           "title": {
            "standoff": 15
           },
           "zerolinecolor": "white",
           "zerolinewidth": 2
          }
         }
        },
        "title": {
         "text": "Top 10 states with highest number of Cured cases"
        },
        "xaxis": {
         "anchor": "y",
         "domain": [
          0,
          1
         ],
         "title": {
          "text": "x"
         }
        },
        "yaxis": {
         "anchor": "x",
         "domain": [
          0,
          1
         ],
         "title": {
          "text": "y"
         }
        }
       }
      },
      "text/html": [
       "<div>                            <div id=\"0b6664e0-3e2c-40dc-b07b-8b41f9ecc876\" class=\"plotly-graph-div\" style=\"height:525px; width:100%;\"></div>            <script type=\"text/javascript\">                require([\"plotly\"], function(Plotly) {                    window.PLOTLYENV=window.PLOTLYENV || {};                                    if (document.getElementById(\"0b6664e0-3e2c-40dc-b07b-8b41f9ecc876\")) {                    Plotly.newPlot(                        \"0b6664e0-3e2c-40dc-b07b-8b41f9ecc876\",                        [{\"alignmentgroup\": \"True\", \"hovertemplate\": \"x=%{x}<br>y=%{y}<extra></extra>\", \"legendgroup\": \"\", \"marker\": {\"color\": \"rgb(243, 231, 155)\"}, \"name\": \"\", \"offsetgroup\": \"\", \"orientation\": \"v\", \"showlegend\": false, \"textposition\": \"auto\", \"type\": \"bar\", \"x\": [\"Maharashtra\", \"Karnataka\", \"Tamil Nadu\", \"Kerala\", \"Andhra Pradesh\", \"Uttar Pradesh\", \"Delhi\", \"West Bengal\", \"Odisha\", \"Rajasthan\"], \"xaxis\": \"x\", \"y\": [813788907, 345648926, 317067499, 311127643, 303427899, 232529439, 224062704, 195296839, 117984789, 117312772], \"yaxis\": \"y\"}],                        {\"barmode\": \"relative\", \"legend\": {\"tracegroupgap\": 0}, \"template\": {\"data\": {\"bar\": [{\"error_x\": {\"color\": \"#2a3f5f\"}, \"error_y\": {\"color\": \"#2a3f5f\"}, \"marker\": {\"line\": {\"color\": \"#E5ECF6\", \"width\": 0.5}}, \"type\": \"bar\"}], \"barpolar\": [{\"marker\": {\"line\": {\"color\": \"#E5ECF6\", \"width\": 0.5}}, \"type\": \"barpolar\"}], \"carpet\": [{\"aaxis\": {\"endlinecolor\": \"#2a3f5f\", \"gridcolor\": \"white\", \"linecolor\": \"white\", \"minorgridcolor\": \"white\", \"startlinecolor\": \"#2a3f5f\"}, \"baxis\": {\"endlinecolor\": \"#2a3f5f\", \"gridcolor\": \"white\", \"linecolor\": \"white\", \"minorgridcolor\": \"white\", \"startlinecolor\": \"#2a3f5f\"}, \"type\": \"carpet\"}], \"choropleth\": [{\"colorbar\": {\"outlinewidth\": 0, \"ticks\": \"\"}, \"type\": \"choropleth\"}], \"contour\": [{\"colorbar\": {\"outlinewidth\": 0, \"ticks\": \"\"}, \"colorscale\": [[0.0, \"#0d0887\"], [0.1111111111111111, \"#46039f\"], [0.2222222222222222, \"#7201a8\"], [0.3333333333333333, \"#9c179e\"], [0.4444444444444444, \"#bd3786\"], [0.5555555555555556, \"#d8576b\"], [0.6666666666666666, \"#ed7953\"], [0.7777777777777778, \"#fb9f3a\"], [0.8888888888888888, \"#fdca26\"], [1.0, \"#f0f921\"]], \"type\": \"contour\"}], \"contourcarpet\": [{\"colorbar\": {\"outlinewidth\": 0, \"ticks\": \"\"}, \"type\": \"contourcarpet\"}], \"heatmap\": [{\"colorbar\": {\"outlinewidth\": 0, \"ticks\": \"\"}, \"colorscale\": [[0.0, \"#0d0887\"], [0.1111111111111111, \"#46039f\"], [0.2222222222222222, \"#7201a8\"], [0.3333333333333333, \"#9c179e\"], [0.4444444444444444, \"#bd3786\"], [0.5555555555555556, \"#d8576b\"], [0.6666666666666666, \"#ed7953\"], [0.7777777777777778, \"#fb9f3a\"], [0.8888888888888888, \"#fdca26\"], [1.0, \"#f0f921\"]], \"type\": \"heatmap\"}], \"heatmapgl\": [{\"colorbar\": {\"outlinewidth\": 0, \"ticks\": \"\"}, \"colorscale\": [[0.0, \"#0d0887\"], [0.1111111111111111, \"#46039f\"], [0.2222222222222222, \"#7201a8\"], [0.3333333333333333, \"#9c179e\"], [0.4444444444444444, \"#bd3786\"], [0.5555555555555556, \"#d8576b\"], [0.6666666666666666, \"#ed7953\"], [0.7777777777777778, \"#fb9f3a\"], [0.8888888888888888, \"#fdca26\"], [1.0, \"#f0f921\"]], \"type\": \"heatmapgl\"}], \"histogram\": [{\"marker\": {\"colorbar\": {\"outlinewidth\": 0, \"ticks\": \"\"}}, \"type\": \"histogram\"}], \"histogram2d\": [{\"colorbar\": {\"outlinewidth\": 0, \"ticks\": \"\"}, \"colorscale\": [[0.0, \"#0d0887\"], [0.1111111111111111, \"#46039f\"], [0.2222222222222222, \"#7201a8\"], [0.3333333333333333, \"#9c179e\"], [0.4444444444444444, \"#bd3786\"], [0.5555555555555556, \"#d8576b\"], [0.6666666666666666, \"#ed7953\"], [0.7777777777777778, \"#fb9f3a\"], [0.8888888888888888, \"#fdca26\"], [1.0, \"#f0f921\"]], \"type\": \"histogram2d\"}], \"histogram2dcontour\": [{\"colorbar\": {\"outlinewidth\": 0, \"ticks\": \"\"}, \"colorscale\": [[0.0, \"#0d0887\"], [0.1111111111111111, \"#46039f\"], [0.2222222222222222, \"#7201a8\"], [0.3333333333333333, \"#9c179e\"], [0.4444444444444444, \"#bd3786\"], [0.5555555555555556, \"#d8576b\"], [0.6666666666666666, \"#ed7953\"], [0.7777777777777778, \"#fb9f3a\"], [0.8888888888888888, \"#fdca26\"], [1.0, \"#f0f921\"]], \"type\": \"histogram2dcontour\"}], \"mesh3d\": [{\"colorbar\": {\"outlinewidth\": 0, \"ticks\": \"\"}, \"type\": \"mesh3d\"}], \"parcoords\": [{\"line\": {\"colorbar\": {\"outlinewidth\": 0, \"ticks\": \"\"}}, \"type\": \"parcoords\"}], \"pie\": [{\"automargin\": true, \"type\": \"pie\"}], \"scatter\": [{\"marker\": {\"colorbar\": {\"outlinewidth\": 0, \"ticks\": \"\"}}, \"type\": \"scatter\"}], \"scatter3d\": [{\"line\": {\"colorbar\": {\"outlinewidth\": 0, \"ticks\": \"\"}}, \"marker\": {\"colorbar\": {\"outlinewidth\": 0, \"ticks\": \"\"}}, \"type\": \"scatter3d\"}], \"scattercarpet\": [{\"marker\": {\"colorbar\": {\"outlinewidth\": 0, \"ticks\": \"\"}}, \"type\": \"scattercarpet\"}], \"scattergeo\": [{\"marker\": {\"colorbar\": {\"outlinewidth\": 0, \"ticks\": \"\"}}, \"type\": \"scattergeo\"}], \"scattergl\": [{\"marker\": {\"colorbar\": {\"outlinewidth\": 0, \"ticks\": \"\"}}, \"type\": \"scattergl\"}], \"scattermapbox\": [{\"marker\": {\"colorbar\": {\"outlinewidth\": 0, \"ticks\": \"\"}}, \"type\": \"scattermapbox\"}], \"scatterpolar\": [{\"marker\": {\"colorbar\": {\"outlinewidth\": 0, \"ticks\": \"\"}}, \"type\": \"scatterpolar\"}], \"scatterpolargl\": [{\"marker\": {\"colorbar\": {\"outlinewidth\": 0, \"ticks\": \"\"}}, \"type\": \"scatterpolargl\"}], \"scatterternary\": [{\"marker\": {\"colorbar\": {\"outlinewidth\": 0, \"ticks\": \"\"}}, \"type\": \"scatterternary\"}], \"surface\": [{\"colorbar\": {\"outlinewidth\": 0, \"ticks\": \"\"}, \"colorscale\": [[0.0, \"#0d0887\"], [0.1111111111111111, \"#46039f\"], [0.2222222222222222, \"#7201a8\"], [0.3333333333333333, \"#9c179e\"], [0.4444444444444444, \"#bd3786\"], [0.5555555555555556, \"#d8576b\"], [0.6666666666666666, \"#ed7953\"], [0.7777777777777778, \"#fb9f3a\"], [0.8888888888888888, \"#fdca26\"], [1.0, \"#f0f921\"]], \"type\": \"surface\"}], \"table\": [{\"cells\": {\"fill\": {\"color\": \"#EBF0F8\"}, \"line\": {\"color\": \"white\"}}, \"header\": {\"fill\": {\"color\": \"#C8D4E3\"}, \"line\": {\"color\": \"white\"}}, \"type\": \"table\"}]}, \"layout\": {\"annotationdefaults\": {\"arrowcolor\": \"#2a3f5f\", \"arrowhead\": 0, \"arrowwidth\": 1}, \"coloraxis\": {\"colorbar\": {\"outlinewidth\": 0, \"ticks\": \"\"}}, \"colorscale\": {\"diverging\": [[0, \"#8e0152\"], [0.1, \"#c51b7d\"], [0.2, \"#de77ae\"], [0.3, \"#f1b6da\"], [0.4, \"#fde0ef\"], [0.5, \"#f7f7f7\"], [0.6, \"#e6f5d0\"], [0.7, \"#b8e186\"], [0.8, \"#7fbc41\"], [0.9, \"#4d9221\"], [1, \"#276419\"]], \"sequential\": [[0.0, \"#0d0887\"], [0.1111111111111111, \"#46039f\"], [0.2222222222222222, \"#7201a8\"], [0.3333333333333333, \"#9c179e\"], [0.4444444444444444, \"#bd3786\"], [0.5555555555555556, \"#d8576b\"], [0.6666666666666666, \"#ed7953\"], [0.7777777777777778, \"#fb9f3a\"], [0.8888888888888888, \"#fdca26\"], [1.0, \"#f0f921\"]], \"sequentialminus\": [[0.0, \"#0d0887\"], [0.1111111111111111, \"#46039f\"], [0.2222222222222222, \"#7201a8\"], [0.3333333333333333, \"#9c179e\"], [0.4444444444444444, \"#bd3786\"], [0.5555555555555556, \"#d8576b\"], [0.6666666666666666, \"#ed7953\"], [0.7777777777777778, \"#fb9f3a\"], [0.8888888888888888, \"#fdca26\"], [1.0, \"#f0f921\"]]}, \"colorway\": [\"#636efa\", \"#EF553B\", \"#00cc96\", \"#ab63fa\", \"#FFA15A\", \"#19d3f3\", \"#FF6692\", \"#B6E880\", \"#FF97FF\", \"#FECB52\"], \"font\": {\"color\": \"#2a3f5f\"}, \"geo\": {\"bgcolor\": \"white\", \"lakecolor\": \"white\", \"landcolor\": \"#E5ECF6\", \"showlakes\": true, \"showland\": true, \"subunitcolor\": \"white\"}, \"hoverlabel\": {\"align\": \"left\"}, \"hovermode\": \"closest\", \"mapbox\": {\"style\": \"light\"}, \"paper_bgcolor\": \"white\", \"plot_bgcolor\": \"#E5ECF6\", \"polar\": {\"angularaxis\": {\"gridcolor\": \"white\", \"linecolor\": \"white\", \"ticks\": \"\"}, \"bgcolor\": \"#E5ECF6\", \"radialaxis\": {\"gridcolor\": \"white\", \"linecolor\": \"white\", \"ticks\": \"\"}}, \"scene\": {\"xaxis\": {\"backgroundcolor\": \"#E5ECF6\", \"gridcolor\": \"white\", \"gridwidth\": 2, \"linecolor\": \"white\", \"showbackground\": true, \"ticks\": \"\", \"zerolinecolor\": \"white\"}, \"yaxis\": {\"backgroundcolor\": \"#E5ECF6\", \"gridcolor\": \"white\", \"gridwidth\": 2, \"linecolor\": \"white\", \"showbackground\": true, \"ticks\": \"\", \"zerolinecolor\": \"white\"}, \"zaxis\": {\"backgroundcolor\": \"#E5ECF6\", \"gridcolor\": \"white\", \"gridwidth\": 2, \"linecolor\": \"white\", \"showbackground\": true, \"ticks\": \"\", \"zerolinecolor\": \"white\"}}, \"shapedefaults\": {\"line\": {\"color\": \"#2a3f5f\"}}, \"ternary\": {\"aaxis\": {\"gridcolor\": \"white\", \"linecolor\": \"white\", \"ticks\": \"\"}, \"baxis\": {\"gridcolor\": \"white\", \"linecolor\": \"white\", \"ticks\": \"\"}, \"bgcolor\": \"#E5ECF6\", \"caxis\": {\"gridcolor\": \"white\", \"linecolor\": \"white\", \"ticks\": \"\"}}, \"title\": {\"x\": 0.05}, \"xaxis\": {\"automargin\": true, \"gridcolor\": \"white\", \"linecolor\": \"white\", \"ticks\": \"\", \"title\": {\"standoff\": 15}, \"zerolinecolor\": \"white\", \"zerolinewidth\": 2}, \"yaxis\": {\"automargin\": true, \"gridcolor\": \"white\", \"linecolor\": \"white\", \"ticks\": \"\", \"title\": {\"standoff\": 15}, \"zerolinecolor\": \"white\", \"zerolinewidth\": 2}}}, \"title\": {\"text\": \"Top 10 states with highest number of Cured cases\"}, \"xaxis\": {\"anchor\": \"y\", \"domain\": [0.0, 1.0], \"title\": {\"text\": \"x\"}}, \"yaxis\": {\"anchor\": \"x\", \"domain\": [0.0, 1.0], \"title\": {\"text\": \"y\"}}},                        {\"responsive\": true}                    ).then(function(){\n",
       "                            \n",
       "var gd = document.getElementById('0b6664e0-3e2c-40dc-b07b-8b41f9ecc876');\n",
       "var x = new MutationObserver(function (mutations, observer) {{\n",
       "        var display = window.getComputedStyle(gd).display;\n",
       "        if (!display || display === 'none') {{\n",
       "            console.log([gd, 'removed!']);\n",
       "            Plotly.purge(gd);\n",
       "            observer.disconnect();\n",
       "        }}\n",
       "}});\n",
       "\n",
       "// Listen for the removal of the full notebook cells\n",
       "var notebookContainer = gd.closest('#notebook-container');\n",
       "if (notebookContainer) {{\n",
       "    x.observe(notebookContainer, {childList: true});\n",
       "}}\n",
       "\n",
       "// Listen for the clearing of the current output cell\n",
       "var outputEl = gd.closest('.output');\n",
       "if (outputEl) {{\n",
       "    x.observe(outputEl, {childList: true});\n",
       "}}\n",
       "\n",
       "                        })                };                });            </script>        </div>"
      ]
     },
     "metadata": {},
     "output_type": "display_data"
    }
   ],
   "source": [
    "px.bar(x=state_wise.nlargest(10,\"Cured\")[\"State/UnionTerritory\"],\n",
    "       y = state_wise.nlargest(10,\"Cured\")[\"Cured\"],\n",
    "       color_discrete_sequence=px.colors.sequential.Sunset,\n",
    "       title=\"Top 10 states with highest number of Cured cases\")"
   ]
  },
  {
   "cell_type": "code",
   "execution_count": 113,
   "metadata": {},
   "outputs": [
    {
     "data": {
      "application/vnd.plotly.v1+json": {
       "config": {
        "plotlyServerURL": "https://plot.ly"
       },
       "data": [
        {
         "alignmentgroup": "True",
         "hovertemplate": "x=%{x}<br>y=%{y}<extra></extra>",
         "legendgroup": "",
         "marker": {
          "color": "rgb(20, 29, 67)"
         },
         "name": "",
         "offsetgroup": "",
         "orientation": "v",
         "showlegend": false,
         "textposition": "auto",
         "type": "bar",
         "x": [
          "Maharashtra",
          "Karnataka",
          "Tamil Nadu",
          "Delhi",
          "Uttar Pradesh",
          "West Bengal",
          "Andhra Pradesh",
          "Punjab",
          "Gujarat",
          "Chhattisgarh"
         ],
         "xaxis": "x",
         "y": [
          19314532,
          4819018,
          4731627,
          4066907,
          3347656,
          3214840,
          2475816,
          2216735,
          1866811,
          1591126
         ],
         "yaxis": "y"
        }
       ],
       "layout": {
        "barmode": "relative",
        "legend": {
         "tracegroupgap": 0
        },
        "template": {
         "data": {
          "bar": [
           {
            "error_x": {
             "color": "#2a3f5f"
            },
            "error_y": {
             "color": "#2a3f5f"
            },
            "marker": {
             "line": {
              "color": "#E5ECF6",
              "width": 0.5
             }
            },
            "type": "bar"
           }
          ],
          "barpolar": [
           {
            "marker": {
             "line": {
              "color": "#E5ECF6",
              "width": 0.5
             }
            },
            "type": "barpolar"
           }
          ],
          "carpet": [
           {
            "aaxis": {
             "endlinecolor": "#2a3f5f",
             "gridcolor": "white",
             "linecolor": "white",
             "minorgridcolor": "white",
             "startlinecolor": "#2a3f5f"
            },
            "baxis": {
             "endlinecolor": "#2a3f5f",
             "gridcolor": "white",
             "linecolor": "white",
             "minorgridcolor": "white",
             "startlinecolor": "#2a3f5f"
            },
            "type": "carpet"
           }
          ],
          "choropleth": [
           {
            "colorbar": {
             "outlinewidth": 0,
             "ticks": ""
            },
            "type": "choropleth"
           }
          ],
          "contour": [
           {
            "colorbar": {
             "outlinewidth": 0,
             "ticks": ""
            },
            "colorscale": [
             [
              0,
              "#0d0887"
             ],
             [
              0.1111111111111111,
              "#46039f"
             ],
             [
              0.2222222222222222,
              "#7201a8"
             ],
             [
              0.3333333333333333,
              "#9c179e"
             ],
             [
              0.4444444444444444,
              "#bd3786"
             ],
             [
              0.5555555555555556,
              "#d8576b"
             ],
             [
              0.6666666666666666,
              "#ed7953"
             ],
             [
              0.7777777777777778,
              "#fb9f3a"
             ],
             [
              0.8888888888888888,
              "#fdca26"
             ],
             [
              1,
              "#f0f921"
             ]
            ],
            "type": "contour"
           }
          ],
          "contourcarpet": [
           {
            "colorbar": {
             "outlinewidth": 0,
             "ticks": ""
            },
            "type": "contourcarpet"
           }
          ],
          "heatmap": [
           {
            "colorbar": {
             "outlinewidth": 0,
             "ticks": ""
            },
            "colorscale": [
             [
              0,
              "#0d0887"
             ],
             [
              0.1111111111111111,
              "#46039f"
             ],
             [
              0.2222222222222222,
              "#7201a8"
             ],
             [
              0.3333333333333333,
              "#9c179e"
             ],
             [
              0.4444444444444444,
              "#bd3786"
             ],
             [
              0.5555555555555556,
              "#d8576b"
             ],
             [
              0.6666666666666666,
              "#ed7953"
             ],
             [
              0.7777777777777778,
              "#fb9f3a"
             ],
             [
              0.8888888888888888,
              "#fdca26"
             ],
             [
              1,
              "#f0f921"
             ]
            ],
            "type": "heatmap"
           }
          ],
          "heatmapgl": [
           {
            "colorbar": {
             "outlinewidth": 0,
             "ticks": ""
            },
            "colorscale": [
             [
              0,
              "#0d0887"
             ],
             [
              0.1111111111111111,
              "#46039f"
             ],
             [
              0.2222222222222222,
              "#7201a8"
             ],
             [
              0.3333333333333333,
              "#9c179e"
             ],
             [
              0.4444444444444444,
              "#bd3786"
             ],
             [
              0.5555555555555556,
              "#d8576b"
             ],
             [
              0.6666666666666666,
              "#ed7953"
             ],
             [
              0.7777777777777778,
              "#fb9f3a"
             ],
             [
              0.8888888888888888,
              "#fdca26"
             ],
             [
              1,
              "#f0f921"
             ]
            ],
            "type": "heatmapgl"
           }
          ],
          "histogram": [
           {
            "marker": {
             "colorbar": {
              "outlinewidth": 0,
              "ticks": ""
             }
            },
            "type": "histogram"
           }
          ],
          "histogram2d": [
           {
            "colorbar": {
             "outlinewidth": 0,
             "ticks": ""
            },
            "colorscale": [
             [
              0,
              "#0d0887"
             ],
             [
              0.1111111111111111,
              "#46039f"
             ],
             [
              0.2222222222222222,
              "#7201a8"
             ],
             [
              0.3333333333333333,
              "#9c179e"
             ],
             [
              0.4444444444444444,
              "#bd3786"
             ],
             [
              0.5555555555555556,
              "#d8576b"
             ],
             [
              0.6666666666666666,
              "#ed7953"
             ],
             [
              0.7777777777777778,
              "#fb9f3a"
             ],
             [
              0.8888888888888888,
              "#fdca26"
             ],
             [
              1,
              "#f0f921"
             ]
            ],
            "type": "histogram2d"
           }
          ],
          "histogram2dcontour": [
           {
            "colorbar": {
             "outlinewidth": 0,
             "ticks": ""
            },
            "colorscale": [
             [
              0,
              "#0d0887"
             ],
             [
              0.1111111111111111,
              "#46039f"
             ],
             [
              0.2222222222222222,
              "#7201a8"
             ],
             [
              0.3333333333333333,
              "#9c179e"
             ],
             [
              0.4444444444444444,
              "#bd3786"
             ],
             [
              0.5555555555555556,
              "#d8576b"
             ],
             [
              0.6666666666666666,
              "#ed7953"
             ],
             [
              0.7777777777777778,
              "#fb9f3a"
             ],
             [
              0.8888888888888888,
              "#fdca26"
             ],
             [
              1,
              "#f0f921"
             ]
            ],
            "type": "histogram2dcontour"
           }
          ],
          "mesh3d": [
           {
            "colorbar": {
             "outlinewidth": 0,
             "ticks": ""
            },
            "type": "mesh3d"
           }
          ],
          "parcoords": [
           {
            "line": {
             "colorbar": {
              "outlinewidth": 0,
              "ticks": ""
             }
            },
            "type": "parcoords"
           }
          ],
          "pie": [
           {
            "automargin": true,
            "type": "pie"
           }
          ],
          "scatter": [
           {
            "marker": {
             "colorbar": {
              "outlinewidth": 0,
              "ticks": ""
             }
            },
            "type": "scatter"
           }
          ],
          "scatter3d": [
           {
            "line": {
             "colorbar": {
              "outlinewidth": 0,
              "ticks": ""
             }
            },
            "marker": {
             "colorbar": {
              "outlinewidth": 0,
              "ticks": ""
             }
            },
            "type": "scatter3d"
           }
          ],
          "scattercarpet": [
           {
            "marker": {
             "colorbar": {
              "outlinewidth": 0,
              "ticks": ""
             }
            },
            "type": "scattercarpet"
           }
          ],
          "scattergeo": [
           {
            "marker": {
             "colorbar": {
              "outlinewidth": 0,
              "ticks": ""
             }
            },
            "type": "scattergeo"
           }
          ],
          "scattergl": [
           {
            "marker": {
             "colorbar": {
              "outlinewidth": 0,
              "ticks": ""
             }
            },
            "type": "scattergl"
           }
          ],
          "scattermapbox": [
           {
            "marker": {
             "colorbar": {
              "outlinewidth": 0,
              "ticks": ""
             }
            },
            "type": "scattermapbox"
           }
          ],
          "scatterpolar": [
           {
            "marker": {
             "colorbar": {
              "outlinewidth": 0,
              "ticks": ""
             }
            },
            "type": "scatterpolar"
           }
          ],
          "scatterpolargl": [
           {
            "marker": {
             "colorbar": {
              "outlinewidth": 0,
              "ticks": ""
             }
            },
            "type": "scatterpolargl"
           }
          ],
          "scatterternary": [
           {
            "marker": {
             "colorbar": {
              "outlinewidth": 0,
              "ticks": ""
             }
            },
            "type": "scatterternary"
           }
          ],
          "surface": [
           {
            "colorbar": {
             "outlinewidth": 0,
             "ticks": ""
            },
            "colorscale": [
             [
              0,
              "#0d0887"
             ],
             [
              0.1111111111111111,
              "#46039f"
             ],
             [
              0.2222222222222222,
              "#7201a8"
             ],
             [
              0.3333333333333333,
              "#9c179e"
             ],
             [
              0.4444444444444444,
              "#bd3786"
             ],
             [
              0.5555555555555556,
              "#d8576b"
             ],
             [
              0.6666666666666666,
              "#ed7953"
             ],
             [
              0.7777777777777778,
              "#fb9f3a"
             ],
             [
              0.8888888888888888,
              "#fdca26"
             ],
             [
              1,
              "#f0f921"
             ]
            ],
            "type": "surface"
           }
          ],
          "table": [
           {
            "cells": {
             "fill": {
              "color": "#EBF0F8"
             },
             "line": {
              "color": "white"
             }
            },
            "header": {
             "fill": {
              "color": "#C8D4E3"
             },
             "line": {
              "color": "white"
             }
            },
            "type": "table"
           }
          ]
         },
         "layout": {
          "annotationdefaults": {
           "arrowcolor": "#2a3f5f",
           "arrowhead": 0,
           "arrowwidth": 1
          },
          "coloraxis": {
           "colorbar": {
            "outlinewidth": 0,
            "ticks": ""
           }
          },
          "colorscale": {
           "diverging": [
            [
             0,
             "#8e0152"
            ],
            [
             0.1,
             "#c51b7d"
            ],
            [
             0.2,
             "#de77ae"
            ],
            [
             0.3,
             "#f1b6da"
            ],
            [
             0.4,
             "#fde0ef"
            ],
            [
             0.5,
             "#f7f7f7"
            ],
            [
             0.6,
             "#e6f5d0"
            ],
            [
             0.7,
             "#b8e186"
            ],
            [
             0.8,
             "#7fbc41"
            ],
            [
             0.9,
             "#4d9221"
            ],
            [
             1,
             "#276419"
            ]
           ],
           "sequential": [
            [
             0,
             "#0d0887"
            ],
            [
             0.1111111111111111,
             "#46039f"
            ],
            [
             0.2222222222222222,
             "#7201a8"
            ],
            [
             0.3333333333333333,
             "#9c179e"
            ],
            [
             0.4444444444444444,
             "#bd3786"
            ],
            [
             0.5555555555555556,
             "#d8576b"
            ],
            [
             0.6666666666666666,
             "#ed7953"
            ],
            [
             0.7777777777777778,
             "#fb9f3a"
            ],
            [
             0.8888888888888888,
             "#fdca26"
            ],
            [
             1,
             "#f0f921"
            ]
           ],
           "sequentialminus": [
            [
             0,
             "#0d0887"
            ],
            [
             0.1111111111111111,
             "#46039f"
            ],
            [
             0.2222222222222222,
             "#7201a8"
            ],
            [
             0.3333333333333333,
             "#9c179e"
            ],
            [
             0.4444444444444444,
             "#bd3786"
            ],
            [
             0.5555555555555556,
             "#d8576b"
            ],
            [
             0.6666666666666666,
             "#ed7953"
            ],
            [
             0.7777777777777778,
             "#fb9f3a"
            ],
            [
             0.8888888888888888,
             "#fdca26"
            ],
            [
             1,
             "#f0f921"
            ]
           ]
          },
          "colorway": [
           "#636efa",
           "#EF553B",
           "#00cc96",
           "#ab63fa",
           "#FFA15A",
           "#19d3f3",
           "#FF6692",
           "#B6E880",
           "#FF97FF",
           "#FECB52"
          ],
          "font": {
           "color": "#2a3f5f"
          },
          "geo": {
           "bgcolor": "white",
           "lakecolor": "white",
           "landcolor": "#E5ECF6",
           "showlakes": true,
           "showland": true,
           "subunitcolor": "white"
          },
          "hoverlabel": {
           "align": "left"
          },
          "hovermode": "closest",
          "mapbox": {
           "style": "light"
          },
          "paper_bgcolor": "white",
          "plot_bgcolor": "#E5ECF6",
          "polar": {
           "angularaxis": {
            "gridcolor": "white",
            "linecolor": "white",
            "ticks": ""
           },
           "bgcolor": "#E5ECF6",
           "radialaxis": {
            "gridcolor": "white",
            "linecolor": "white",
            "ticks": ""
           }
          },
          "scene": {
           "xaxis": {
            "backgroundcolor": "#E5ECF6",
            "gridcolor": "white",
            "gridwidth": 2,
            "linecolor": "white",
            "showbackground": true,
            "ticks": "",
            "zerolinecolor": "white"
           },
           "yaxis": {
            "backgroundcolor": "#E5ECF6",
            "gridcolor": "white",
            "gridwidth": 2,
            "linecolor": "white",
            "showbackground": true,
            "ticks": "",
            "zerolinecolor": "white"
           },
           "zaxis": {
            "backgroundcolor": "#E5ECF6",
            "gridcolor": "white",
            "gridwidth": 2,
            "linecolor": "white",
            "showbackground": true,
            "ticks": "",
            "zerolinecolor": "white"
           }
          },
          "shapedefaults": {
           "line": {
            "color": "#2a3f5f"
           }
          },
          "ternary": {
           "aaxis": {
            "gridcolor": "white",
            "linecolor": "white",
            "ticks": ""
           },
           "baxis": {
            "gridcolor": "white",
            "linecolor": "white",
            "ticks": ""
           },
           "bgcolor": "#E5ECF6",
           "caxis": {
            "gridcolor": "white",
            "linecolor": "white",
            "ticks": ""
           }
          },
          "title": {
           "x": 0.05
          },
          "xaxis": {
           "automargin": true,
           "gridcolor": "white",
           "linecolor": "white",
           "ticks": "",
           "title": {
            "standoff": 15
           },
           "zerolinecolor": "white",
           "zerolinewidth": 2
          },
          "yaxis": {
           "automargin": true,
           "gridcolor": "white",
           "linecolor": "white",
           "ticks": "",
           "title": {
            "standoff": 15
           },
           "zerolinecolor": "white",
           "zerolinewidth": 2
          }
         }
        },
        "title": {
         "text": "Top 10 states with highest number of Deaths"
        },
        "xaxis": {
         "anchor": "y",
         "domain": [
          0,
          1
         ],
         "title": {
          "text": "x"
         }
        },
        "yaxis": {
         "anchor": "x",
         "domain": [
          0,
          1
         ],
         "title": {
          "text": "y"
         }
        }
       }
      },
      "text/html": [
       "<div>                            <div id=\"7e729999-d16c-4a95-826b-2a8cdbc9cbcb\" class=\"plotly-graph-div\" style=\"height:525px; width:100%;\"></div>            <script type=\"text/javascript\">                require([\"plotly\"], function(Plotly) {                    window.PLOTLYENV=window.PLOTLYENV || {};                                    if (document.getElementById(\"7e729999-d16c-4a95-826b-2a8cdbc9cbcb\")) {                    Plotly.newPlot(                        \"7e729999-d16c-4a95-826b-2a8cdbc9cbcb\",                        [{\"alignmentgroup\": \"True\", \"hovertemplate\": \"x=%{x}<br>y=%{y}<extra></extra>\", \"legendgroup\": \"\", \"marker\": {\"color\": \"rgb(20, 29, 67)\"}, \"name\": \"\", \"offsetgroup\": \"\", \"orientation\": \"v\", \"showlegend\": false, \"textposition\": \"auto\", \"type\": \"bar\", \"x\": [\"Maharashtra\", \"Karnataka\", \"Tamil Nadu\", \"Delhi\", \"Uttar Pradesh\", \"West Bengal\", \"Andhra Pradesh\", \"Punjab\", \"Gujarat\", \"Chhattisgarh\"], \"xaxis\": \"x\", \"y\": [19314532, 4819018, 4731627, 4066907, 3347656, 3214840, 2475816, 2216735, 1866811, 1591126], \"yaxis\": \"y\"}],                        {\"barmode\": \"relative\", \"legend\": {\"tracegroupgap\": 0}, \"template\": {\"data\": {\"bar\": [{\"error_x\": {\"color\": \"#2a3f5f\"}, \"error_y\": {\"color\": \"#2a3f5f\"}, \"marker\": {\"line\": {\"color\": \"#E5ECF6\", \"width\": 0.5}}, \"type\": \"bar\"}], \"barpolar\": [{\"marker\": {\"line\": {\"color\": \"#E5ECF6\", \"width\": 0.5}}, \"type\": \"barpolar\"}], \"carpet\": [{\"aaxis\": {\"endlinecolor\": \"#2a3f5f\", \"gridcolor\": \"white\", \"linecolor\": \"white\", \"minorgridcolor\": \"white\", \"startlinecolor\": \"#2a3f5f\"}, \"baxis\": {\"endlinecolor\": \"#2a3f5f\", \"gridcolor\": \"white\", \"linecolor\": \"white\", \"minorgridcolor\": \"white\", \"startlinecolor\": \"#2a3f5f\"}, \"type\": \"carpet\"}], \"choropleth\": [{\"colorbar\": {\"outlinewidth\": 0, \"ticks\": \"\"}, \"type\": \"choropleth\"}], \"contour\": [{\"colorbar\": {\"outlinewidth\": 0, \"ticks\": \"\"}, \"colorscale\": [[0.0, \"#0d0887\"], [0.1111111111111111, \"#46039f\"], [0.2222222222222222, \"#7201a8\"], [0.3333333333333333, \"#9c179e\"], [0.4444444444444444, \"#bd3786\"], [0.5555555555555556, \"#d8576b\"], [0.6666666666666666, \"#ed7953\"], [0.7777777777777778, \"#fb9f3a\"], [0.8888888888888888, \"#fdca26\"], [1.0, \"#f0f921\"]], \"type\": \"contour\"}], \"contourcarpet\": [{\"colorbar\": {\"outlinewidth\": 0, \"ticks\": \"\"}, \"type\": \"contourcarpet\"}], \"heatmap\": [{\"colorbar\": {\"outlinewidth\": 0, \"ticks\": \"\"}, \"colorscale\": [[0.0, \"#0d0887\"], [0.1111111111111111, \"#46039f\"], [0.2222222222222222, \"#7201a8\"], [0.3333333333333333, \"#9c179e\"], [0.4444444444444444, \"#bd3786\"], [0.5555555555555556, \"#d8576b\"], [0.6666666666666666, \"#ed7953\"], [0.7777777777777778, \"#fb9f3a\"], [0.8888888888888888, \"#fdca26\"], [1.0, \"#f0f921\"]], \"type\": \"heatmap\"}], \"heatmapgl\": [{\"colorbar\": {\"outlinewidth\": 0, \"ticks\": \"\"}, \"colorscale\": [[0.0, \"#0d0887\"], [0.1111111111111111, \"#46039f\"], [0.2222222222222222, \"#7201a8\"], [0.3333333333333333, \"#9c179e\"], [0.4444444444444444, \"#bd3786\"], [0.5555555555555556, \"#d8576b\"], [0.6666666666666666, \"#ed7953\"], [0.7777777777777778, \"#fb9f3a\"], [0.8888888888888888, \"#fdca26\"], [1.0, \"#f0f921\"]], \"type\": \"heatmapgl\"}], \"histogram\": [{\"marker\": {\"colorbar\": {\"outlinewidth\": 0, \"ticks\": \"\"}}, \"type\": \"histogram\"}], \"histogram2d\": [{\"colorbar\": {\"outlinewidth\": 0, \"ticks\": \"\"}, \"colorscale\": [[0.0, \"#0d0887\"], [0.1111111111111111, \"#46039f\"], [0.2222222222222222, \"#7201a8\"], [0.3333333333333333, \"#9c179e\"], [0.4444444444444444, \"#bd3786\"], [0.5555555555555556, \"#d8576b\"], [0.6666666666666666, \"#ed7953\"], [0.7777777777777778, \"#fb9f3a\"], [0.8888888888888888, \"#fdca26\"], [1.0, \"#f0f921\"]], \"type\": \"histogram2d\"}], \"histogram2dcontour\": [{\"colorbar\": {\"outlinewidth\": 0, \"ticks\": \"\"}, \"colorscale\": [[0.0, \"#0d0887\"], [0.1111111111111111, \"#46039f\"], [0.2222222222222222, \"#7201a8\"], [0.3333333333333333, \"#9c179e\"], [0.4444444444444444, \"#bd3786\"], [0.5555555555555556, \"#d8576b\"], [0.6666666666666666, \"#ed7953\"], [0.7777777777777778, \"#fb9f3a\"], [0.8888888888888888, \"#fdca26\"], [1.0, \"#f0f921\"]], \"type\": \"histogram2dcontour\"}], \"mesh3d\": [{\"colorbar\": {\"outlinewidth\": 0, \"ticks\": \"\"}, \"type\": \"mesh3d\"}], \"parcoords\": [{\"line\": {\"colorbar\": {\"outlinewidth\": 0, \"ticks\": \"\"}}, \"type\": \"parcoords\"}], \"pie\": [{\"automargin\": true, \"type\": \"pie\"}], \"scatter\": [{\"marker\": {\"colorbar\": {\"outlinewidth\": 0, \"ticks\": \"\"}}, \"type\": \"scatter\"}], \"scatter3d\": [{\"line\": {\"colorbar\": {\"outlinewidth\": 0, \"ticks\": \"\"}}, \"marker\": {\"colorbar\": {\"outlinewidth\": 0, \"ticks\": \"\"}}, \"type\": \"scatter3d\"}], \"scattercarpet\": [{\"marker\": {\"colorbar\": {\"outlinewidth\": 0, \"ticks\": \"\"}}, \"type\": \"scattercarpet\"}], \"scattergeo\": [{\"marker\": {\"colorbar\": {\"outlinewidth\": 0, \"ticks\": \"\"}}, \"type\": \"scattergeo\"}], \"scattergl\": [{\"marker\": {\"colorbar\": {\"outlinewidth\": 0, \"ticks\": \"\"}}, \"type\": \"scattergl\"}], \"scattermapbox\": [{\"marker\": {\"colorbar\": {\"outlinewidth\": 0, \"ticks\": \"\"}}, \"type\": \"scattermapbox\"}], \"scatterpolar\": [{\"marker\": {\"colorbar\": {\"outlinewidth\": 0, \"ticks\": \"\"}}, \"type\": \"scatterpolar\"}], \"scatterpolargl\": [{\"marker\": {\"colorbar\": {\"outlinewidth\": 0, \"ticks\": \"\"}}, \"type\": \"scatterpolargl\"}], \"scatterternary\": [{\"marker\": {\"colorbar\": {\"outlinewidth\": 0, \"ticks\": \"\"}}, \"type\": \"scatterternary\"}], \"surface\": [{\"colorbar\": {\"outlinewidth\": 0, \"ticks\": \"\"}, \"colorscale\": [[0.0, \"#0d0887\"], [0.1111111111111111, \"#46039f\"], [0.2222222222222222, \"#7201a8\"], [0.3333333333333333, \"#9c179e\"], [0.4444444444444444, \"#bd3786\"], [0.5555555555555556, \"#d8576b\"], [0.6666666666666666, \"#ed7953\"], [0.7777777777777778, \"#fb9f3a\"], [0.8888888888888888, \"#fdca26\"], [1.0, \"#f0f921\"]], \"type\": \"surface\"}], \"table\": [{\"cells\": {\"fill\": {\"color\": \"#EBF0F8\"}, \"line\": {\"color\": \"white\"}}, \"header\": {\"fill\": {\"color\": \"#C8D4E3\"}, \"line\": {\"color\": \"white\"}}, \"type\": \"table\"}]}, \"layout\": {\"annotationdefaults\": {\"arrowcolor\": \"#2a3f5f\", \"arrowhead\": 0, \"arrowwidth\": 1}, \"coloraxis\": {\"colorbar\": {\"outlinewidth\": 0, \"ticks\": \"\"}}, \"colorscale\": {\"diverging\": [[0, \"#8e0152\"], [0.1, \"#c51b7d\"], [0.2, \"#de77ae\"], [0.3, \"#f1b6da\"], [0.4, \"#fde0ef\"], [0.5, \"#f7f7f7\"], [0.6, \"#e6f5d0\"], [0.7, \"#b8e186\"], [0.8, \"#7fbc41\"], [0.9, \"#4d9221\"], [1, \"#276419\"]], \"sequential\": [[0.0, \"#0d0887\"], [0.1111111111111111, \"#46039f\"], [0.2222222222222222, \"#7201a8\"], [0.3333333333333333, \"#9c179e\"], [0.4444444444444444, \"#bd3786\"], [0.5555555555555556, \"#d8576b\"], [0.6666666666666666, \"#ed7953\"], [0.7777777777777778, \"#fb9f3a\"], [0.8888888888888888, \"#fdca26\"], [1.0, \"#f0f921\"]], \"sequentialminus\": [[0.0, \"#0d0887\"], [0.1111111111111111, \"#46039f\"], [0.2222222222222222, \"#7201a8\"], [0.3333333333333333, \"#9c179e\"], [0.4444444444444444, \"#bd3786\"], [0.5555555555555556, \"#d8576b\"], [0.6666666666666666, \"#ed7953\"], [0.7777777777777778, \"#fb9f3a\"], [0.8888888888888888, \"#fdca26\"], [1.0, \"#f0f921\"]]}, \"colorway\": [\"#636efa\", \"#EF553B\", \"#00cc96\", \"#ab63fa\", \"#FFA15A\", \"#19d3f3\", \"#FF6692\", \"#B6E880\", \"#FF97FF\", \"#FECB52\"], \"font\": {\"color\": \"#2a3f5f\"}, \"geo\": {\"bgcolor\": \"white\", \"lakecolor\": \"white\", \"landcolor\": \"#E5ECF6\", \"showlakes\": true, \"showland\": true, \"subunitcolor\": \"white\"}, \"hoverlabel\": {\"align\": \"left\"}, \"hovermode\": \"closest\", \"mapbox\": {\"style\": \"light\"}, \"paper_bgcolor\": \"white\", \"plot_bgcolor\": \"#E5ECF6\", \"polar\": {\"angularaxis\": {\"gridcolor\": \"white\", \"linecolor\": \"white\", \"ticks\": \"\"}, \"bgcolor\": \"#E5ECF6\", \"radialaxis\": {\"gridcolor\": \"white\", \"linecolor\": \"white\", \"ticks\": \"\"}}, \"scene\": {\"xaxis\": {\"backgroundcolor\": \"#E5ECF6\", \"gridcolor\": \"white\", \"gridwidth\": 2, \"linecolor\": \"white\", \"showbackground\": true, \"ticks\": \"\", \"zerolinecolor\": \"white\"}, \"yaxis\": {\"backgroundcolor\": \"#E5ECF6\", \"gridcolor\": \"white\", \"gridwidth\": 2, \"linecolor\": \"white\", \"showbackground\": true, \"ticks\": \"\", \"zerolinecolor\": \"white\"}, \"zaxis\": {\"backgroundcolor\": \"#E5ECF6\", \"gridcolor\": \"white\", \"gridwidth\": 2, \"linecolor\": \"white\", \"showbackground\": true, \"ticks\": \"\", \"zerolinecolor\": \"white\"}}, \"shapedefaults\": {\"line\": {\"color\": \"#2a3f5f\"}}, \"ternary\": {\"aaxis\": {\"gridcolor\": \"white\", \"linecolor\": \"white\", \"ticks\": \"\"}, \"baxis\": {\"gridcolor\": \"white\", \"linecolor\": \"white\", \"ticks\": \"\"}, \"bgcolor\": \"#E5ECF6\", \"caxis\": {\"gridcolor\": \"white\", \"linecolor\": \"white\", \"ticks\": \"\"}}, \"title\": {\"x\": 0.05}, \"xaxis\": {\"automargin\": true, \"gridcolor\": \"white\", \"linecolor\": \"white\", \"ticks\": \"\", \"title\": {\"standoff\": 15}, \"zerolinecolor\": \"white\", \"zerolinewidth\": 2}, \"yaxis\": {\"automargin\": true, \"gridcolor\": \"white\", \"linecolor\": \"white\", \"ticks\": \"\", \"title\": {\"standoff\": 15}, \"zerolinecolor\": \"white\", \"zerolinewidth\": 2}}}, \"title\": {\"text\": \"Top 10 states with highest number of Deaths\"}, \"xaxis\": {\"anchor\": \"y\", \"domain\": [0.0, 1.0], \"title\": {\"text\": \"x\"}}, \"yaxis\": {\"anchor\": \"x\", \"domain\": [0.0, 1.0], \"title\": {\"text\": \"y\"}}},                        {\"responsive\": true}                    ).then(function(){\n",
       "                            \n",
       "var gd = document.getElementById('7e729999-d16c-4a95-826b-2a8cdbc9cbcb');\n",
       "var x = new MutationObserver(function (mutations, observer) {{\n",
       "        var display = window.getComputedStyle(gd).display;\n",
       "        if (!display || display === 'none') {{\n",
       "            console.log([gd, 'removed!']);\n",
       "            Plotly.purge(gd);\n",
       "            observer.disconnect();\n",
       "        }}\n",
       "}});\n",
       "\n",
       "// Listen for the removal of the full notebook cells\n",
       "var notebookContainer = gd.closest('#notebook-container');\n",
       "if (notebookContainer) {{\n",
       "    x.observe(notebookContainer, {childList: true});\n",
       "}}\n",
       "\n",
       "// Listen for the clearing of the current output cell\n",
       "var outputEl = gd.closest('.output');\n",
       "if (outputEl) {{\n",
       "    x.observe(outputEl, {childList: true});\n",
       "}}\n",
       "\n",
       "                        })                };                });            </script>        </div>"
      ]
     },
     "metadata": {},
     "output_type": "display_data"
    }
   ],
   "source": [
    "px.bar(x=state_wise.nlargest(10,\"Deaths\")[\"State/UnionTerritory\"],\n",
    "       y = state_wise.nlargest(10,\"Deaths\")[\"Deaths\"],\n",
    "       color_discrete_sequence=px.colors.diverging.curl,\n",
    "       title=\"Top 10 states with highest number of Deaths\")"
   ]
  },
  {
   "cell_type": "code",
   "execution_count": 114,
   "metadata": {},
   "outputs": [
    {
     "data": {
      "application/vnd.plotly.v1+json": {
       "config": {
        "plotlyServerURL": "https://plot.ly"
       },
       "data": [
        {
         "alignmentgroup": "True",
         "hovertemplate": "x=%{x}<br>y=%{y}<extra></extra>",
         "legendgroup": "",
         "marker": {
          "color": "rgb(0, 128, 128)"
         },
         "name": "",
         "offsetgroup": "",
         "orientation": "v",
         "showlegend": false,
         "textposition": "auto",
         "type": "bar",
         "x": [
          "Punjab",
          "Maharashtra",
          "Sikkim",
          "Uttarakhand",
          "Delhi",
          "Gujarat",
          "Himachal Pradesh",
          "Puducherry",
          "West Bengal",
          "Goa"
         ],
         "xaxis": "x",
         "y": [
          2.80601089766184,
          2.1250623849925834,
          1.7935503876236818,
          1.7691177403379106,
          1.716191174345624,
          1.6295826340309196,
          1.6134329503567801,
          1.574424063327307,
          1.5321686988063379,
          1.5186625353202514
         ],
         "yaxis": "y"
        }
       ],
       "layout": {
        "barmode": "relative",
        "legend": {
         "tracegroupgap": 0
        },
        "template": {
         "data": {
          "bar": [
           {
            "error_x": {
             "color": "#2a3f5f"
            },
            "error_y": {
             "color": "#2a3f5f"
            },
            "marker": {
             "line": {
              "color": "#E5ECF6",
              "width": 0.5
             }
            },
            "type": "bar"
           }
          ],
          "barpolar": [
           {
            "marker": {
             "line": {
              "color": "#E5ECF6",
              "width": 0.5
             }
            },
            "type": "barpolar"
           }
          ],
          "carpet": [
           {
            "aaxis": {
             "endlinecolor": "#2a3f5f",
             "gridcolor": "white",
             "linecolor": "white",
             "minorgridcolor": "white",
             "startlinecolor": "#2a3f5f"
            },
            "baxis": {
             "endlinecolor": "#2a3f5f",
             "gridcolor": "white",
             "linecolor": "white",
             "minorgridcolor": "white",
             "startlinecolor": "#2a3f5f"
            },
            "type": "carpet"
           }
          ],
          "choropleth": [
           {
            "colorbar": {
             "outlinewidth": 0,
             "ticks": ""
            },
            "type": "choropleth"
           }
          ],
          "contour": [
           {
            "colorbar": {
             "outlinewidth": 0,
             "ticks": ""
            },
            "colorscale": [
             [
              0,
              "#0d0887"
             ],
             [
              0.1111111111111111,
              "#46039f"
             ],
             [
              0.2222222222222222,
              "#7201a8"
             ],
             [
              0.3333333333333333,
              "#9c179e"
             ],
             [
              0.4444444444444444,
              "#bd3786"
             ],
             [
              0.5555555555555556,
              "#d8576b"
             ],
             [
              0.6666666666666666,
              "#ed7953"
             ],
             [
              0.7777777777777778,
              "#fb9f3a"
             ],
             [
              0.8888888888888888,
              "#fdca26"
             ],
             [
              1,
              "#f0f921"
             ]
            ],
            "type": "contour"
           }
          ],
          "contourcarpet": [
           {
            "colorbar": {
             "outlinewidth": 0,
             "ticks": ""
            },
            "type": "contourcarpet"
           }
          ],
          "heatmap": [
           {
            "colorbar": {
             "outlinewidth": 0,
             "ticks": ""
            },
            "colorscale": [
             [
              0,
              "#0d0887"
             ],
             [
              0.1111111111111111,
              "#46039f"
             ],
             [
              0.2222222222222222,
              "#7201a8"
             ],
             [
              0.3333333333333333,
              "#9c179e"
             ],
             [
              0.4444444444444444,
              "#bd3786"
             ],
             [
              0.5555555555555556,
              "#d8576b"
             ],
             [
              0.6666666666666666,
              "#ed7953"
             ],
             [
              0.7777777777777778,
              "#fb9f3a"
             ],
             [
              0.8888888888888888,
              "#fdca26"
             ],
             [
              1,
              "#f0f921"
             ]
            ],
            "type": "heatmap"
           }
          ],
          "heatmapgl": [
           {
            "colorbar": {
             "outlinewidth": 0,
             "ticks": ""
            },
            "colorscale": [
             [
              0,
              "#0d0887"
             ],
             [
              0.1111111111111111,
              "#46039f"
             ],
             [
              0.2222222222222222,
              "#7201a8"
             ],
             [
              0.3333333333333333,
              "#9c179e"
             ],
             [
              0.4444444444444444,
              "#bd3786"
             ],
             [
              0.5555555555555556,
              "#d8576b"
             ],
             [
              0.6666666666666666,
              "#ed7953"
             ],
             [
              0.7777777777777778,
              "#fb9f3a"
             ],
             [
              0.8888888888888888,
              "#fdca26"
             ],
             [
              1,
              "#f0f921"
             ]
            ],
            "type": "heatmapgl"
           }
          ],
          "histogram": [
           {
            "marker": {
             "colorbar": {
              "outlinewidth": 0,
              "ticks": ""
             }
            },
            "type": "histogram"
           }
          ],
          "histogram2d": [
           {
            "colorbar": {
             "outlinewidth": 0,
             "ticks": ""
            },
            "colorscale": [
             [
              0,
              "#0d0887"
             ],
             [
              0.1111111111111111,
              "#46039f"
             ],
             [
              0.2222222222222222,
              "#7201a8"
             ],
             [
              0.3333333333333333,
              "#9c179e"
             ],
             [
              0.4444444444444444,
              "#bd3786"
             ],
             [
              0.5555555555555556,
              "#d8576b"
             ],
             [
              0.6666666666666666,
              "#ed7953"
             ],
             [
              0.7777777777777778,
              "#fb9f3a"
             ],
             [
              0.8888888888888888,
              "#fdca26"
             ],
             [
              1,
              "#f0f921"
             ]
            ],
            "type": "histogram2d"
           }
          ],
          "histogram2dcontour": [
           {
            "colorbar": {
             "outlinewidth": 0,
             "ticks": ""
            },
            "colorscale": [
             [
              0,
              "#0d0887"
             ],
             [
              0.1111111111111111,
              "#46039f"
             ],
             [
              0.2222222222222222,
              "#7201a8"
             ],
             [
              0.3333333333333333,
              "#9c179e"
             ],
             [
              0.4444444444444444,
              "#bd3786"
             ],
             [
              0.5555555555555556,
              "#d8576b"
             ],
             [
              0.6666666666666666,
              "#ed7953"
             ],
             [
              0.7777777777777778,
              "#fb9f3a"
             ],
             [
              0.8888888888888888,
              "#fdca26"
             ],
             [
              1,
              "#f0f921"
             ]
            ],
            "type": "histogram2dcontour"
           }
          ],
          "mesh3d": [
           {
            "colorbar": {
             "outlinewidth": 0,
             "ticks": ""
            },
            "type": "mesh3d"
           }
          ],
          "parcoords": [
           {
            "line": {
             "colorbar": {
              "outlinewidth": 0,
              "ticks": ""
             }
            },
            "type": "parcoords"
           }
          ],
          "pie": [
           {
            "automargin": true,
            "type": "pie"
           }
          ],
          "scatter": [
           {
            "marker": {
             "colorbar": {
              "outlinewidth": 0,
              "ticks": ""
             }
            },
            "type": "scatter"
           }
          ],
          "scatter3d": [
           {
            "line": {
             "colorbar": {
              "outlinewidth": 0,
              "ticks": ""
             }
            },
            "marker": {
             "colorbar": {
              "outlinewidth": 0,
              "ticks": ""
             }
            },
            "type": "scatter3d"
           }
          ],
          "scattercarpet": [
           {
            "marker": {
             "colorbar": {
              "outlinewidth": 0,
              "ticks": ""
             }
            },
            "type": "scattercarpet"
           }
          ],
          "scattergeo": [
           {
            "marker": {
             "colorbar": {
              "outlinewidth": 0,
              "ticks": ""
             }
            },
            "type": "scattergeo"
           }
          ],
          "scattergl": [
           {
            "marker": {
             "colorbar": {
              "outlinewidth": 0,
              "ticks": ""
             }
            },
            "type": "scattergl"
           }
          ],
          "scattermapbox": [
           {
            "marker": {
             "colorbar": {
              "outlinewidth": 0,
              "ticks": ""
             }
            },
            "type": "scattermapbox"
           }
          ],
          "scatterpolar": [
           {
            "marker": {
             "colorbar": {
              "outlinewidth": 0,
              "ticks": ""
             }
            },
            "type": "scatterpolar"
           }
          ],
          "scatterpolargl": [
           {
            "marker": {
             "colorbar": {
              "outlinewidth": 0,
              "ticks": ""
             }
            },
            "type": "scatterpolargl"
           }
          ],
          "scatterternary": [
           {
            "marker": {
             "colorbar": {
              "outlinewidth": 0,
              "ticks": ""
             }
            },
            "type": "scatterternary"
           }
          ],
          "surface": [
           {
            "colorbar": {
             "outlinewidth": 0,
             "ticks": ""
            },
            "colorscale": [
             [
              0,
              "#0d0887"
             ],
             [
              0.1111111111111111,
              "#46039f"
             ],
             [
              0.2222222222222222,
              "#7201a8"
             ],
             [
              0.3333333333333333,
              "#9c179e"
             ],
             [
              0.4444444444444444,
              "#bd3786"
             ],
             [
              0.5555555555555556,
              "#d8576b"
             ],
             [
              0.6666666666666666,
              "#ed7953"
             ],
             [
              0.7777777777777778,
              "#fb9f3a"
             ],
             [
              0.8888888888888888,
              "#fdca26"
             ],
             [
              1,
              "#f0f921"
             ]
            ],
            "type": "surface"
           }
          ],
          "table": [
           {
            "cells": {
             "fill": {
              "color": "#EBF0F8"
             },
             "line": {
              "color": "white"
             }
            },
            "header": {
             "fill": {
              "color": "#C8D4E3"
             },
             "line": {
              "color": "white"
             }
            },
            "type": "table"
           }
          ]
         },
         "layout": {
          "annotationdefaults": {
           "arrowcolor": "#2a3f5f",
           "arrowhead": 0,
           "arrowwidth": 1
          },
          "coloraxis": {
           "colorbar": {
            "outlinewidth": 0,
            "ticks": ""
           }
          },
          "colorscale": {
           "diverging": [
            [
             0,
             "#8e0152"
            ],
            [
             0.1,
             "#c51b7d"
            ],
            [
             0.2,
             "#de77ae"
            ],
            [
             0.3,
             "#f1b6da"
            ],
            [
             0.4,
             "#fde0ef"
            ],
            [
             0.5,
             "#f7f7f7"
            ],
            [
             0.6,
             "#e6f5d0"
            ],
            [
             0.7,
             "#b8e186"
            ],
            [
             0.8,
             "#7fbc41"
            ],
            [
             0.9,
             "#4d9221"
            ],
            [
             1,
             "#276419"
            ]
           ],
           "sequential": [
            [
             0,
             "#0d0887"
            ],
            [
             0.1111111111111111,
             "#46039f"
            ],
            [
             0.2222222222222222,
             "#7201a8"
            ],
            [
             0.3333333333333333,
             "#9c179e"
            ],
            [
             0.4444444444444444,
             "#bd3786"
            ],
            [
             0.5555555555555556,
             "#d8576b"
            ],
            [
             0.6666666666666666,
             "#ed7953"
            ],
            [
             0.7777777777777778,
             "#fb9f3a"
            ],
            [
             0.8888888888888888,
             "#fdca26"
            ],
            [
             1,
             "#f0f921"
            ]
           ],
           "sequentialminus": [
            [
             0,
             "#0d0887"
            ],
            [
             0.1111111111111111,
             "#46039f"
            ],
            [
             0.2222222222222222,
             "#7201a8"
            ],
            [
             0.3333333333333333,
             "#9c179e"
            ],
            [
             0.4444444444444444,
             "#bd3786"
            ],
            [
             0.5555555555555556,
             "#d8576b"
            ],
            [
             0.6666666666666666,
             "#ed7953"
            ],
            [
             0.7777777777777778,
             "#fb9f3a"
            ],
            [
             0.8888888888888888,
             "#fdca26"
            ],
            [
             1,
             "#f0f921"
            ]
           ]
          },
          "colorway": [
           "#636efa",
           "#EF553B",
           "#00cc96",
           "#ab63fa",
           "#FFA15A",
           "#19d3f3",
           "#FF6692",
           "#B6E880",
           "#FF97FF",
           "#FECB52"
          ],
          "font": {
           "color": "#2a3f5f"
          },
          "geo": {
           "bgcolor": "white",
           "lakecolor": "white",
           "landcolor": "#E5ECF6",
           "showlakes": true,
           "showland": true,
           "subunitcolor": "white"
          },
          "hoverlabel": {
           "align": "left"
          },
          "hovermode": "closest",
          "mapbox": {
           "style": "light"
          },
          "paper_bgcolor": "white",
          "plot_bgcolor": "#E5ECF6",
          "polar": {
           "angularaxis": {
            "gridcolor": "white",
            "linecolor": "white",
            "ticks": ""
           },
           "bgcolor": "#E5ECF6",
           "radialaxis": {
            "gridcolor": "white",
            "linecolor": "white",
            "ticks": ""
           }
          },
          "scene": {
           "xaxis": {
            "backgroundcolor": "#E5ECF6",
            "gridcolor": "white",
            "gridwidth": 2,
            "linecolor": "white",
            "showbackground": true,
            "ticks": "",
            "zerolinecolor": "white"
           },
           "yaxis": {
            "backgroundcolor": "#E5ECF6",
            "gridcolor": "white",
            "gridwidth": 2,
            "linecolor": "white",
            "showbackground": true,
            "ticks": "",
            "zerolinecolor": "white"
           },
           "zaxis": {
            "backgroundcolor": "#E5ECF6",
            "gridcolor": "white",
            "gridwidth": 2,
            "linecolor": "white",
            "showbackground": true,
            "ticks": "",
            "zerolinecolor": "white"
           }
          },
          "shapedefaults": {
           "line": {
            "color": "#2a3f5f"
           }
          },
          "ternary": {
           "aaxis": {
            "gridcolor": "white",
            "linecolor": "white",
            "ticks": ""
           },
           "baxis": {
            "gridcolor": "white",
            "linecolor": "white",
            "ticks": ""
           },
           "bgcolor": "#E5ECF6",
           "caxis": {
            "gridcolor": "white",
            "linecolor": "white",
            "ticks": ""
           }
          },
          "title": {
           "x": 0.05
          },
          "xaxis": {
           "automargin": true,
           "gridcolor": "white",
           "linecolor": "white",
           "ticks": "",
           "title": {
            "standoff": 15
           },
           "zerolinecolor": "white",
           "zerolinewidth": 2
          },
          "yaxis": {
           "automargin": true,
           "gridcolor": "white",
           "linecolor": "white",
           "ticks": "",
           "title": {
            "standoff": 15
           },
           "zerolinecolor": "white",
           "zerolinewidth": 2
          }
         }
        },
        "title": {
         "text": "Top 10 states with highest of Death percentage"
        },
        "xaxis": {
         "anchor": "y",
         "domain": [
          0,
          1
         ],
         "title": {
          "text": "x"
         }
        },
        "yaxis": {
         "anchor": "x",
         "domain": [
          0,
          1
         ],
         "title": {
          "text": "y"
         }
        }
       }
      },
      "text/html": [
       "<div>                            <div id=\"bf7ae4a7-a1e9-40ed-9dd4-293b49760d43\" class=\"plotly-graph-div\" style=\"height:525px; width:100%;\"></div>            <script type=\"text/javascript\">                require([\"plotly\"], function(Plotly) {                    window.PLOTLYENV=window.PLOTLYENV || {};                                    if (document.getElementById(\"bf7ae4a7-a1e9-40ed-9dd4-293b49760d43\")) {                    Plotly.newPlot(                        \"bf7ae4a7-a1e9-40ed-9dd4-293b49760d43\",                        [{\"alignmentgroup\": \"True\", \"hovertemplate\": \"x=%{x}<br>y=%{y}<extra></extra>\", \"legendgroup\": \"\", \"marker\": {\"color\": \"rgb(0, 128, 128)\"}, \"name\": \"\", \"offsetgroup\": \"\", \"orientation\": \"v\", \"showlegend\": false, \"textposition\": \"auto\", \"type\": \"bar\", \"x\": [\"Punjab\", \"Maharashtra\", \"Sikkim\", \"Uttarakhand\", \"Delhi\", \"Gujarat\", \"Himachal Pradesh\", \"Puducherry\", \"West Bengal\", \"Goa\"], \"xaxis\": \"x\", \"y\": [2.80601089766184, 2.1250623849925834, 1.7935503876236818, 1.7691177403379106, 1.716191174345624, 1.6295826340309196, 1.6134329503567801, 1.574424063327307, 1.5321686988063379, 1.5186625353202514], \"yaxis\": \"y\"}],                        {\"barmode\": \"relative\", \"legend\": {\"tracegroupgap\": 0}, \"template\": {\"data\": {\"bar\": [{\"error_x\": {\"color\": \"#2a3f5f\"}, \"error_y\": {\"color\": \"#2a3f5f\"}, \"marker\": {\"line\": {\"color\": \"#E5ECF6\", \"width\": 0.5}}, \"type\": \"bar\"}], \"barpolar\": [{\"marker\": {\"line\": {\"color\": \"#E5ECF6\", \"width\": 0.5}}, \"type\": \"barpolar\"}], \"carpet\": [{\"aaxis\": {\"endlinecolor\": \"#2a3f5f\", \"gridcolor\": \"white\", \"linecolor\": \"white\", \"minorgridcolor\": \"white\", \"startlinecolor\": \"#2a3f5f\"}, \"baxis\": {\"endlinecolor\": \"#2a3f5f\", \"gridcolor\": \"white\", \"linecolor\": \"white\", \"minorgridcolor\": \"white\", \"startlinecolor\": \"#2a3f5f\"}, \"type\": \"carpet\"}], \"choropleth\": [{\"colorbar\": {\"outlinewidth\": 0, \"ticks\": \"\"}, \"type\": \"choropleth\"}], \"contour\": [{\"colorbar\": {\"outlinewidth\": 0, \"ticks\": \"\"}, \"colorscale\": [[0.0, \"#0d0887\"], [0.1111111111111111, \"#46039f\"], [0.2222222222222222, \"#7201a8\"], [0.3333333333333333, \"#9c179e\"], [0.4444444444444444, \"#bd3786\"], [0.5555555555555556, \"#d8576b\"], [0.6666666666666666, \"#ed7953\"], [0.7777777777777778, \"#fb9f3a\"], [0.8888888888888888, \"#fdca26\"], [1.0, \"#f0f921\"]], \"type\": \"contour\"}], \"contourcarpet\": [{\"colorbar\": {\"outlinewidth\": 0, \"ticks\": \"\"}, \"type\": \"contourcarpet\"}], \"heatmap\": [{\"colorbar\": {\"outlinewidth\": 0, \"ticks\": \"\"}, \"colorscale\": [[0.0, \"#0d0887\"], [0.1111111111111111, \"#46039f\"], [0.2222222222222222, \"#7201a8\"], [0.3333333333333333, \"#9c179e\"], [0.4444444444444444, \"#bd3786\"], [0.5555555555555556, \"#d8576b\"], [0.6666666666666666, \"#ed7953\"], [0.7777777777777778, \"#fb9f3a\"], [0.8888888888888888, \"#fdca26\"], [1.0, \"#f0f921\"]], \"type\": \"heatmap\"}], \"heatmapgl\": [{\"colorbar\": {\"outlinewidth\": 0, \"ticks\": \"\"}, \"colorscale\": [[0.0, \"#0d0887\"], [0.1111111111111111, \"#46039f\"], [0.2222222222222222, \"#7201a8\"], [0.3333333333333333, \"#9c179e\"], [0.4444444444444444, \"#bd3786\"], [0.5555555555555556, \"#d8576b\"], [0.6666666666666666, \"#ed7953\"], [0.7777777777777778, \"#fb9f3a\"], [0.8888888888888888, \"#fdca26\"], [1.0, \"#f0f921\"]], \"type\": \"heatmapgl\"}], \"histogram\": [{\"marker\": {\"colorbar\": {\"outlinewidth\": 0, \"ticks\": \"\"}}, \"type\": \"histogram\"}], \"histogram2d\": [{\"colorbar\": {\"outlinewidth\": 0, \"ticks\": \"\"}, \"colorscale\": [[0.0, \"#0d0887\"], [0.1111111111111111, \"#46039f\"], [0.2222222222222222, \"#7201a8\"], [0.3333333333333333, \"#9c179e\"], [0.4444444444444444, \"#bd3786\"], [0.5555555555555556, \"#d8576b\"], [0.6666666666666666, \"#ed7953\"], [0.7777777777777778, \"#fb9f3a\"], [0.8888888888888888, \"#fdca26\"], [1.0, \"#f0f921\"]], \"type\": \"histogram2d\"}], \"histogram2dcontour\": [{\"colorbar\": {\"outlinewidth\": 0, \"ticks\": \"\"}, \"colorscale\": [[0.0, \"#0d0887\"], [0.1111111111111111, \"#46039f\"], [0.2222222222222222, \"#7201a8\"], [0.3333333333333333, \"#9c179e\"], [0.4444444444444444, \"#bd3786\"], [0.5555555555555556, \"#d8576b\"], [0.6666666666666666, \"#ed7953\"], [0.7777777777777778, \"#fb9f3a\"], [0.8888888888888888, \"#fdca26\"], [1.0, \"#f0f921\"]], \"type\": \"histogram2dcontour\"}], \"mesh3d\": [{\"colorbar\": {\"outlinewidth\": 0, \"ticks\": \"\"}, \"type\": \"mesh3d\"}], \"parcoords\": [{\"line\": {\"colorbar\": {\"outlinewidth\": 0, \"ticks\": \"\"}}, \"type\": \"parcoords\"}], \"pie\": [{\"automargin\": true, \"type\": \"pie\"}], \"scatter\": [{\"marker\": {\"colorbar\": {\"outlinewidth\": 0, \"ticks\": \"\"}}, \"type\": \"scatter\"}], \"scatter3d\": [{\"line\": {\"colorbar\": {\"outlinewidth\": 0, \"ticks\": \"\"}}, \"marker\": {\"colorbar\": {\"outlinewidth\": 0, \"ticks\": \"\"}}, \"type\": \"scatter3d\"}], \"scattercarpet\": [{\"marker\": {\"colorbar\": {\"outlinewidth\": 0, \"ticks\": \"\"}}, \"type\": \"scattercarpet\"}], \"scattergeo\": [{\"marker\": {\"colorbar\": {\"outlinewidth\": 0, \"ticks\": \"\"}}, \"type\": \"scattergeo\"}], \"scattergl\": [{\"marker\": {\"colorbar\": {\"outlinewidth\": 0, \"ticks\": \"\"}}, \"type\": \"scattergl\"}], \"scattermapbox\": [{\"marker\": {\"colorbar\": {\"outlinewidth\": 0, \"ticks\": \"\"}}, \"type\": \"scattermapbox\"}], \"scatterpolar\": [{\"marker\": {\"colorbar\": {\"outlinewidth\": 0, \"ticks\": \"\"}}, \"type\": \"scatterpolar\"}], \"scatterpolargl\": [{\"marker\": {\"colorbar\": {\"outlinewidth\": 0, \"ticks\": \"\"}}, \"type\": \"scatterpolargl\"}], \"scatterternary\": [{\"marker\": {\"colorbar\": {\"outlinewidth\": 0, \"ticks\": \"\"}}, \"type\": \"scatterternary\"}], \"surface\": [{\"colorbar\": {\"outlinewidth\": 0, \"ticks\": \"\"}, \"colorscale\": [[0.0, \"#0d0887\"], [0.1111111111111111, \"#46039f\"], [0.2222222222222222, \"#7201a8\"], [0.3333333333333333, \"#9c179e\"], [0.4444444444444444, \"#bd3786\"], [0.5555555555555556, \"#d8576b\"], [0.6666666666666666, \"#ed7953\"], [0.7777777777777778, \"#fb9f3a\"], [0.8888888888888888, \"#fdca26\"], [1.0, \"#f0f921\"]], \"type\": \"surface\"}], \"table\": [{\"cells\": {\"fill\": {\"color\": \"#EBF0F8\"}, \"line\": {\"color\": \"white\"}}, \"header\": {\"fill\": {\"color\": \"#C8D4E3\"}, \"line\": {\"color\": \"white\"}}, \"type\": \"table\"}]}, \"layout\": {\"annotationdefaults\": {\"arrowcolor\": \"#2a3f5f\", \"arrowhead\": 0, \"arrowwidth\": 1}, \"coloraxis\": {\"colorbar\": {\"outlinewidth\": 0, \"ticks\": \"\"}}, \"colorscale\": {\"diverging\": [[0, \"#8e0152\"], [0.1, \"#c51b7d\"], [0.2, \"#de77ae\"], [0.3, \"#f1b6da\"], [0.4, \"#fde0ef\"], [0.5, \"#f7f7f7\"], [0.6, \"#e6f5d0\"], [0.7, \"#b8e186\"], [0.8, \"#7fbc41\"], [0.9, \"#4d9221\"], [1, \"#276419\"]], \"sequential\": [[0.0, \"#0d0887\"], [0.1111111111111111, \"#46039f\"], [0.2222222222222222, \"#7201a8\"], [0.3333333333333333, \"#9c179e\"], [0.4444444444444444, \"#bd3786\"], [0.5555555555555556, \"#d8576b\"], [0.6666666666666666, \"#ed7953\"], [0.7777777777777778, \"#fb9f3a\"], [0.8888888888888888, \"#fdca26\"], [1.0, \"#f0f921\"]], \"sequentialminus\": [[0.0, \"#0d0887\"], [0.1111111111111111, \"#46039f\"], [0.2222222222222222, \"#7201a8\"], [0.3333333333333333, \"#9c179e\"], [0.4444444444444444, \"#bd3786\"], [0.5555555555555556, \"#d8576b\"], [0.6666666666666666, \"#ed7953\"], [0.7777777777777778, \"#fb9f3a\"], [0.8888888888888888, \"#fdca26\"], [1.0, \"#f0f921\"]]}, \"colorway\": [\"#636efa\", \"#EF553B\", \"#00cc96\", \"#ab63fa\", \"#FFA15A\", \"#19d3f3\", \"#FF6692\", \"#B6E880\", \"#FF97FF\", \"#FECB52\"], \"font\": {\"color\": \"#2a3f5f\"}, \"geo\": {\"bgcolor\": \"white\", \"lakecolor\": \"white\", \"landcolor\": \"#E5ECF6\", \"showlakes\": true, \"showland\": true, \"subunitcolor\": \"white\"}, \"hoverlabel\": {\"align\": \"left\"}, \"hovermode\": \"closest\", \"mapbox\": {\"style\": \"light\"}, \"paper_bgcolor\": \"white\", \"plot_bgcolor\": \"#E5ECF6\", \"polar\": {\"angularaxis\": {\"gridcolor\": \"white\", \"linecolor\": \"white\", \"ticks\": \"\"}, \"bgcolor\": \"#E5ECF6\", \"radialaxis\": {\"gridcolor\": \"white\", \"linecolor\": \"white\", \"ticks\": \"\"}}, \"scene\": {\"xaxis\": {\"backgroundcolor\": \"#E5ECF6\", \"gridcolor\": \"white\", \"gridwidth\": 2, \"linecolor\": \"white\", \"showbackground\": true, \"ticks\": \"\", \"zerolinecolor\": \"white\"}, \"yaxis\": {\"backgroundcolor\": \"#E5ECF6\", \"gridcolor\": \"white\", \"gridwidth\": 2, \"linecolor\": \"white\", \"showbackground\": true, \"ticks\": \"\", \"zerolinecolor\": \"white\"}, \"zaxis\": {\"backgroundcolor\": \"#E5ECF6\", \"gridcolor\": \"white\", \"gridwidth\": 2, \"linecolor\": \"white\", \"showbackground\": true, \"ticks\": \"\", \"zerolinecolor\": \"white\"}}, \"shapedefaults\": {\"line\": {\"color\": \"#2a3f5f\"}}, \"ternary\": {\"aaxis\": {\"gridcolor\": \"white\", \"linecolor\": \"white\", \"ticks\": \"\"}, \"baxis\": {\"gridcolor\": \"white\", \"linecolor\": \"white\", \"ticks\": \"\"}, \"bgcolor\": \"#E5ECF6\", \"caxis\": {\"gridcolor\": \"white\", \"linecolor\": \"white\", \"ticks\": \"\"}}, \"title\": {\"x\": 0.05}, \"xaxis\": {\"automargin\": true, \"gridcolor\": \"white\", \"linecolor\": \"white\", \"ticks\": \"\", \"title\": {\"standoff\": 15}, \"zerolinecolor\": \"white\", \"zerolinewidth\": 2}, \"yaxis\": {\"automargin\": true, \"gridcolor\": \"white\", \"linecolor\": \"white\", \"ticks\": \"\", \"title\": {\"standoff\": 15}, \"zerolinecolor\": \"white\", \"zerolinewidth\": 2}}}, \"title\": {\"text\": \"Top 10 states with highest of Death percentage\"}, \"xaxis\": {\"anchor\": \"y\", \"domain\": [0.0, 1.0], \"title\": {\"text\": \"x\"}}, \"yaxis\": {\"anchor\": \"x\", \"domain\": [0.0, 1.0], \"title\": {\"text\": \"y\"}}},                        {\"responsive\": true}                    ).then(function(){\n",
       "                            \n",
       "var gd = document.getElementById('bf7ae4a7-a1e9-40ed-9dd4-293b49760d43');\n",
       "var x = new MutationObserver(function (mutations, observer) {{\n",
       "        var display = window.getComputedStyle(gd).display;\n",
       "        if (!display || display === 'none') {{\n",
       "            console.log([gd, 'removed!']);\n",
       "            Plotly.purge(gd);\n",
       "            observer.disconnect();\n",
       "        }}\n",
       "}});\n",
       "\n",
       "// Listen for the removal of the full notebook cells\n",
       "var notebookContainer = gd.closest('#notebook-container');\n",
       "if (notebookContainer) {{\n",
       "    x.observe(notebookContainer, {childList: true});\n",
       "}}\n",
       "\n",
       "// Listen for the clearing of the current output cell\n",
       "var outputEl = gd.closest('.output');\n",
       "if (outputEl) {{\n",
       "    x.observe(outputEl, {childList: true});\n",
       "}}\n",
       "\n",
       "                        })                };                });            </script>        </div>"
      ]
     },
     "metadata": {},
     "output_type": "display_data"
    }
   ],
   "source": [
    "px.bar(x=state_wise.nlargest(10,\"Death_percentage\")[\"State/UnionTerritory\"],\n",
    "       y = state_wise.nlargest(10,\"Death_percentage\")[\"Death_percentage\"],\n",
    "       color_discrete_sequence=px.colors.diverging.Geyser,\n",
    "       title=\"Top 10 states with highest of Death percentage\")"
   ]
  },
  {
   "cell_type": "markdown",
   "metadata": {},
   "source": [
    "Exploratory Data Analysis of StatewiseTestingDetails Dataset\n",
    "\n"
   ]
  },
  {
   "cell_type": "code",
   "execution_count": 115,
   "metadata": {},
   "outputs": [
    {
     "data": {
      "text/html": [
       "<div>\n",
       "<style scoped>\n",
       "    .dataframe tbody tr th:only-of-type {\n",
       "        vertical-align: middle;\n",
       "    }\n",
       "\n",
       "    .dataframe tbody tr th {\n",
       "        vertical-align: top;\n",
       "    }\n",
       "\n",
       "    .dataframe thead th {\n",
       "        text-align: right;\n",
       "    }\n",
       "</style>\n",
       "<table border=\"1\" class=\"dataframe\">\n",
       "  <thead>\n",
       "    <tr style=\"text-align: right;\">\n",
       "      <th></th>\n",
       "      <th>Date</th>\n",
       "      <th>State</th>\n",
       "      <th>TotalSamples</th>\n",
       "      <th>Negative</th>\n",
       "      <th>Positive</th>\n",
       "    </tr>\n",
       "  </thead>\n",
       "  <tbody>\n",
       "    <tr>\n",
       "      <th>5079</th>\n",
       "      <td>2020-09-06</td>\n",
       "      <td>West Bengal</td>\n",
       "      <td>2158690.0</td>\n",
       "      <td>NaN</td>\n",
       "      <td>NaN</td>\n",
       "    </tr>\n",
       "    <tr>\n",
       "      <th>5080</th>\n",
       "      <td>2020-09-07</td>\n",
       "      <td>West Bengal</td>\n",
       "      <td>2200906.0</td>\n",
       "      <td>NaN</td>\n",
       "      <td>NaN</td>\n",
       "    </tr>\n",
       "    <tr>\n",
       "      <th>5081</th>\n",
       "      <td>2020-09-08</td>\n",
       "      <td>West Bengal</td>\n",
       "      <td>2243294.0</td>\n",
       "      <td>NaN</td>\n",
       "      <td>NaN</td>\n",
       "    </tr>\n",
       "    <tr>\n",
       "      <th>5082</th>\n",
       "      <td>2020-09-09</td>\n",
       "      <td>West Bengal</td>\n",
       "      <td>2285936.0</td>\n",
       "      <td>NaN</td>\n",
       "      <td>NaN</td>\n",
       "    </tr>\n",
       "    <tr>\n",
       "      <th>5083</th>\n",
       "      <td>2020-09-10</td>\n",
       "      <td>West Bengal</td>\n",
       "      <td>2330283.0</td>\n",
       "      <td>NaN</td>\n",
       "      <td>NaN</td>\n",
       "    </tr>\n",
       "  </tbody>\n",
       "</table>\n",
       "</div>"
      ],
      "text/plain": [
       "           Date        State  TotalSamples Negative  Positive\n",
       "5079 2020-09-06  West Bengal     2158690.0      NaN       NaN\n",
       "5080 2020-09-07  West Bengal     2200906.0      NaN       NaN\n",
       "5081 2020-09-08  West Bengal     2243294.0      NaN       NaN\n",
       "5082 2020-09-09  West Bengal     2285936.0      NaN       NaN\n",
       "5083 2020-09-10  West Bengal     2330283.0      NaN       NaN"
      ]
     },
     "execution_count": 115,
     "metadata": {},
     "output_type": "execute_result"
    }
   ],
   "source": [
    "covid_testing = pd.read_csv(\"StatewiseTestingDetails.csv\")\n",
    "covid_testing['Date'] = covid_testing['Date'].astype('datetime64[ns]')\n",
    "covid_testing.tail()"
   ]
  },
  {
   "cell_type": "code",
   "execution_count": 116,
   "metadata": {},
   "outputs": [
    {
     "data": {
      "text/plain": [
       "(5084, 5)"
      ]
     },
     "execution_count": 116,
     "metadata": {},
     "output_type": "execute_result"
    }
   ],
   "source": [
    "covid_testing.shape"
   ]
  },
  {
   "cell_type": "code",
   "execution_count": 117,
   "metadata": {},
   "outputs": [
    {
     "name": "stdout",
     "output_type": "stream",
     "text": [
      "<class 'pandas.core.frame.DataFrame'>\n",
      "RangeIndex: 5084 entries, 0 to 5083\n",
      "Data columns (total 5 columns):\n",
      " #   Column        Non-Null Count  Dtype         \n",
      "---  ------        --------------  -----         \n",
      " 0   Date          5084 non-null   datetime64[ns]\n",
      " 1   State         5084 non-null   object        \n",
      " 2   TotalSamples  5084 non-null   float64       \n",
      " 3   Negative      3062 non-null   object        \n",
      " 4   Positive      4326 non-null   float64       \n",
      "dtypes: datetime64[ns](1), float64(2), object(2)\n",
      "memory usage: 198.7+ KB\n"
     ]
    }
   ],
   "source": [
    "covid_testing.info()"
   ]
  },
  {
   "cell_type": "code",
   "execution_count": 118,
   "metadata": {},
   "outputs": [
    {
     "name": "stdout",
     "output_type": "stream",
     "text": [
      "<class 'pandas.core.frame.DataFrame'>\n",
      "Int64Index: 4326 entries, 0 to 5064\n",
      "Data columns (total 5 columns):\n",
      " #   Column        Non-Null Count  Dtype         \n",
      "---  ------        --------------  -----         \n",
      " 0   Date          4326 non-null   datetime64[ns]\n",
      " 1   State         4326 non-null   object        \n",
      " 2   TotalSamples  4326 non-null   float64       \n",
      " 3   Negative      4326 non-null   float64       \n",
      " 4   Positive      4326 non-null   float64       \n",
      "dtypes: datetime64[ns](1), float64(3), object(1)\n",
      "memory usage: 202.8+ KB\n"
     ]
    }
   ],
   "source": [
    "covid_testing['Negative'] = covid_testing['TotalSamples'] - covid_testing['Positive']\n",
    "covid_testing = covid_testing.dropna()\n",
    "covid_testing.info()"
   ]
  },
  {
   "cell_type": "code",
   "execution_count": 119,
   "metadata": {},
   "outputs": [
    {
     "name": "stderr",
     "output_type": "stream",
     "text": [
      "/Users/aakanksha/anaconda3/lib/python3.6/site-packages/ipykernel_launcher.py:1: FutureWarning:\n",
      "\n",
      "Indexing with multiple keys (implicitly converted to a tuple of keys) will be deprecated, use a list instead.\n",
      "\n"
     ]
    },
    {
     "data": {
      "text/html": [
       "<style  type=\"text/css\" >\n",
       "#T_32589786_eaea_11eb_9657_6030d4635d48row0_col1,#T_32589786_eaea_11eb_9657_6030d4635d48row0_col2,#T_32589786_eaea_11eb_9657_6030d4635d48row0_col3,#T_32589786_eaea_11eb_9657_6030d4635d48row12_col3,#T_32589786_eaea_11eb_9657_6030d4635d48row20_col3,#T_32589786_eaea_11eb_9657_6030d4635d48row23_col1,#T_32589786_eaea_11eb_9657_6030d4635d48row23_col3{\n",
       "            background-color:  #f6faff;\n",
       "            color:  #000000;\n",
       "        }#T_32589786_eaea_11eb_9657_6030d4635d48row0_col4{\n",
       "            background-color:  #4090c5;\n",
       "            color:  #000000;\n",
       "        }#T_32589786_eaea_11eb_9657_6030d4635d48row1_col1{\n",
       "            background-color:  #4292c6;\n",
       "            color:  #000000;\n",
       "        }#T_32589786_eaea_11eb_9657_6030d4635d48row1_col2{\n",
       "            background-color:  #4493c7;\n",
       "            color:  #000000;\n",
       "        }#T_32589786_eaea_11eb_9657_6030d4635d48row1_col3{\n",
       "            background-color:  #99c7e0;\n",
       "            color:  #000000;\n",
       "        }#T_32589786_eaea_11eb_9657_6030d4635d48row1_col4{\n",
       "            background-color:  #135fa7;\n",
       "            color:  #f1f1f1;\n",
       "        }#T_32589786_eaea_11eb_9657_6030d4635d48row2_col1,#T_32589786_eaea_11eb_9657_6030d4635d48row2_col2,#T_32589786_eaea_11eb_9657_6030d4635d48row20_col1,#T_32589786_eaea_11eb_9657_6030d4635d48row20_col2,#T_32589786_eaea_11eb_9657_6030d4635d48row24_col4,#T_32589786_eaea_11eb_9657_6030d4635d48row29_col4,#T_32589786_eaea_11eb_9657_6030d4635d48row31_col3,#T_32589786_eaea_11eb_9657_6030d4635d48row32_col4{\n",
       "            background-color:  #f2f8fd;\n",
       "            color:  #000000;\n",
       "        }#T_32589786_eaea_11eb_9657_6030d4635d48row2_col3,#T_32589786_eaea_11eb_9657_6030d4635d48row5_col1,#T_32589786_eaea_11eb_9657_6030d4635d48row5_col2,#T_32589786_eaea_11eb_9657_6030d4635d48row5_col3,#T_32589786_eaea_11eb_9657_6030d4635d48row7_col3,#T_32589786_eaea_11eb_9657_6030d4635d48row17_col1,#T_32589786_eaea_11eb_9657_6030d4635d48row17_col2,#T_32589786_eaea_11eb_9657_6030d4635d48row17_col3,#T_32589786_eaea_11eb_9657_6030d4635d48row21_col3,#T_32589786_eaea_11eb_9657_6030d4635d48row22_col1,#T_32589786_eaea_11eb_9657_6030d4635d48row22_col2,#T_32589786_eaea_11eb_9657_6030d4635d48row22_col3,#T_32589786_eaea_11eb_9657_6030d4635d48row26_col4,#T_32589786_eaea_11eb_9657_6030d4635d48row28_col1,#T_32589786_eaea_11eb_9657_6030d4635d48row28_col2,#T_32589786_eaea_11eb_9657_6030d4635d48row28_col3,#T_32589786_eaea_11eb_9657_6030d4635d48row31_col4{\n",
       "            background-color:  #f7fbff;\n",
       "            color:  #000000;\n",
       "        }#T_32589786_eaea_11eb_9657_6030d4635d48row2_col4,#T_32589786_eaea_11eb_9657_6030d4635d48row19_col3,#T_32589786_eaea_11eb_9657_6030d4635d48row29_col1,#T_32589786_eaea_11eb_9657_6030d4635d48row29_col2{\n",
       "            background-color:  #08306b;\n",
       "            color:  #f1f1f1;\n",
       "        }#T_32589786_eaea_11eb_9657_6030d4635d48row3_col1{\n",
       "            background-color:  #77b5d9;\n",
       "            color:  #000000;\n",
       "        }#T_32589786_eaea_11eb_9657_6030d4635d48row3_col2,#T_32589786_eaea_11eb_9657_6030d4635d48row16_col1{\n",
       "            background-color:  #6dafd7;\n",
       "            color:  #000000;\n",
       "        }#T_32589786_eaea_11eb_9657_6030d4635d48row3_col3{\n",
       "            background-color:  #dbe9f6;\n",
       "            color:  #000000;\n",
       "        }#T_32589786_eaea_11eb_9657_6030d4635d48row3_col4{\n",
       "            background-color:  #3888c1;\n",
       "            color:  #000000;\n",
       "        }#T_32589786_eaea_11eb_9657_6030d4635d48row4_col1{\n",
       "            background-color:  #b3d3e8;\n",
       "            color:  #000000;\n",
       "        }#T_32589786_eaea_11eb_9657_6030d4635d48row4_col2,#T_32589786_eaea_11eb_9657_6030d4635d48row8_col1,#T_32589786_eaea_11eb_9657_6030d4635d48row11_col1{\n",
       "            background-color:  #b2d2e8;\n",
       "            color:  #000000;\n",
       "        }#T_32589786_eaea_11eb_9657_6030d4635d48row4_col3,#T_32589786_eaea_11eb_9657_6030d4635d48row8_col4{\n",
       "            background-color:  #dae8f6;\n",
       "            color:  #000000;\n",
       "        }#T_32589786_eaea_11eb_9657_6030d4635d48row4_col4{\n",
       "            background-color:  #d1e2f3;\n",
       "            color:  #000000;\n",
       "        }#T_32589786_eaea_11eb_9657_6030d4635d48row5_col4{\n",
       "            background-color:  #d6e5f4;\n",
       "            color:  #000000;\n",
       "        }#T_32589786_eaea_11eb_9657_6030d4635d48row6_col1,#T_32589786_eaea_11eb_9657_6030d4635d48row14_col2,#T_32589786_eaea_11eb_9657_6030d4635d48row27_col3{\n",
       "            background-color:  #e1edf8;\n",
       "            color:  #000000;\n",
       "        }#T_32589786_eaea_11eb_9657_6030d4635d48row6_col2,#T_32589786_eaea_11eb_9657_6030d4635d48row17_col4{\n",
       "            background-color:  #e0ecf8;\n",
       "            color:  #000000;\n",
       "        }#T_32589786_eaea_11eb_9657_6030d4635d48row6_col3,#T_32589786_eaea_11eb_9657_6030d4635d48row34_col4{\n",
       "            background-color:  #f2f7fd;\n",
       "            color:  #000000;\n",
       "        }#T_32589786_eaea_11eb_9657_6030d4635d48row6_col4{\n",
       "            background-color:  #d8e7f5;\n",
       "            color:  #000000;\n",
       "        }#T_32589786_eaea_11eb_9657_6030d4635d48row7_col1,#T_32589786_eaea_11eb_9657_6030d4635d48row7_col2,#T_32589786_eaea_11eb_9657_6030d4635d48row23_col2,#T_32589786_eaea_11eb_9657_6030d4635d48row25_col1,#T_32589786_eaea_11eb_9657_6030d4635d48row25_col2{\n",
       "            background-color:  #f5fafe;\n",
       "            color:  #000000;\n",
       "        }#T_32589786_eaea_11eb_9657_6030d4635d48row7_col4{\n",
       "            background-color:  #d9e7f5;\n",
       "            color:  #000000;\n",
       "        }#T_32589786_eaea_11eb_9657_6030d4635d48row8_col2{\n",
       "            background-color:  #b5d4e9;\n",
       "            color:  #000000;\n",
       "        }#T_32589786_eaea_11eb_9657_6030d4635d48row8_col3{\n",
       "            background-color:  #c7dbef;\n",
       "            color:  #000000;\n",
       "        }#T_32589786_eaea_11eb_9657_6030d4635d48row9_col1,#T_32589786_eaea_11eb_9657_6030d4635d48row12_col1,#T_32589786_eaea_11eb_9657_6030d4635d48row14_col3,#T_32589786_eaea_11eb_9657_6030d4635d48row23_col4{\n",
       "            background-color:  #f0f6fd;\n",
       "            color:  #000000;\n",
       "        }#T_32589786_eaea_11eb_9657_6030d4635d48row9_col2,#T_32589786_eaea_11eb_9657_6030d4635d48row12_col2{\n",
       "            background-color:  #eff6fc;\n",
       "            color:  #000000;\n",
       "        }#T_32589786_eaea_11eb_9657_6030d4635d48row9_col3,#T_32589786_eaea_11eb_9657_6030d4635d48row27_col4{\n",
       "            background-color:  #f4f9fe;\n",
       "            color:  #000000;\n",
       "        }#T_32589786_eaea_11eb_9657_6030d4635d48row9_col4,#T_32589786_eaea_11eb_9657_6030d4635d48row10_col4,#T_32589786_eaea_11eb_9657_6030d4635d48row11_col4{\n",
       "            background-color:  #dce9f6;\n",
       "            color:  #000000;\n",
       "        }#T_32589786_eaea_11eb_9657_6030d4635d48row10_col1{\n",
       "            background-color:  #206fb4;\n",
       "            color:  #f1f1f1;\n",
       "        }#T_32589786_eaea_11eb_9657_6030d4635d48row10_col2{\n",
       "            background-color:  #1663aa;\n",
       "            color:  #f1f1f1;\n",
       "        }#T_32589786_eaea_11eb_9657_6030d4635d48row10_col3{\n",
       "            background-color:  #d4e4f4;\n",
       "            color:  #000000;\n",
       "        }#T_32589786_eaea_11eb_9657_6030d4635d48row11_col2{\n",
       "            background-color:  #aed1e7;\n",
       "            color:  #000000;\n",
       "        }#T_32589786_eaea_11eb_9657_6030d4635d48row11_col3,#T_32589786_eaea_11eb_9657_6030d4635d48row15_col4,#T_32589786_eaea_11eb_9657_6030d4635d48row16_col4{\n",
       "            background-color:  #dfebf7;\n",
       "            color:  #000000;\n",
       "        }#T_32589786_eaea_11eb_9657_6030d4635d48row12_col4{\n",
       "            background-color:  #ddeaf7;\n",
       "            color:  #000000;\n",
       "        }#T_32589786_eaea_11eb_9657_6030d4635d48row13_col1,#T_32589786_eaea_11eb_9657_6030d4635d48row30_col3{\n",
       "            background-color:  #cfe1f2;\n",
       "            color:  #000000;\n",
       "        }#T_32589786_eaea_11eb_9657_6030d4635d48row13_col2{\n",
       "            background-color:  #cddff1;\n",
       "            color:  #000000;\n",
       "        }#T_32589786_eaea_11eb_9657_6030d4635d48row13_col3,#T_32589786_eaea_11eb_9657_6030d4635d48row28_col4,#T_32589786_eaea_11eb_9657_6030d4635d48row33_col4{\n",
       "            background-color:  #eef5fc;\n",
       "            color:  #000000;\n",
       "        }#T_32589786_eaea_11eb_9657_6030d4635d48row13_col4,#T_32589786_eaea_11eb_9657_6030d4635d48row14_col4{\n",
       "            background-color:  #deebf7;\n",
       "            color:  #000000;\n",
       "        }#T_32589786_eaea_11eb_9657_6030d4635d48row14_col1,#T_32589786_eaea_11eb_9657_6030d4635d48row18_col4{\n",
       "            background-color:  #e2edf8;\n",
       "            color:  #000000;\n",
       "        }#T_32589786_eaea_11eb_9657_6030d4635d48row15_col1{\n",
       "            background-color:  #549fcd;\n",
       "            color:  #000000;\n",
       "        }#T_32589786_eaea_11eb_9657_6030d4635d48row15_col2{\n",
       "            background-color:  #5aa2cf;\n",
       "            color:  #000000;\n",
       "        }#T_32589786_eaea_11eb_9657_6030d4635d48row15_col3{\n",
       "            background-color:  #85bcdc;\n",
       "            color:  #000000;\n",
       "        }#T_32589786_eaea_11eb_9657_6030d4635d48row16_col2{\n",
       "            background-color:  #65aad4;\n",
       "            color:  #000000;\n",
       "        }#T_32589786_eaea_11eb_9657_6030d4635d48row16_col3,#T_32589786_eaea_11eb_9657_6030d4635d48row24_col3{\n",
       "            background-color:  #d7e6f5;\n",
       "            color:  #000000;\n",
       "        }#T_32589786_eaea_11eb_9657_6030d4635d48row18_col1{\n",
       "            background-color:  #bed8ec;\n",
       "            color:  #000000;\n",
       "        }#T_32589786_eaea_11eb_9657_6030d4635d48row18_col2{\n",
       "            background-color:  #b9d6ea;\n",
       "            color:  #000000;\n",
       "        }#T_32589786_eaea_11eb_9657_6030d4635d48row18_col3{\n",
       "            background-color:  #e7f0fa;\n",
       "            color:  #000000;\n",
       "        }#T_32589786_eaea_11eb_9657_6030d4635d48row19_col1{\n",
       "            background-color:  #1b69af;\n",
       "            color:  #f1f1f1;\n",
       "        }#T_32589786_eaea_11eb_9657_6030d4635d48row19_col2{\n",
       "            background-color:  #3181bd;\n",
       "            color:  #000000;\n",
       "        }#T_32589786_eaea_11eb_9657_6030d4635d48row19_col4{\n",
       "            background-color:  #e6f0f9;\n",
       "            color:  #000000;\n",
       "        }#T_32589786_eaea_11eb_9657_6030d4635d48row20_col4,#T_32589786_eaea_11eb_9657_6030d4635d48row31_col2{\n",
       "            background-color:  #e8f1fa;\n",
       "            color:  #000000;\n",
       "        }#T_32589786_eaea_11eb_9657_6030d4635d48row21_col1,#T_32589786_eaea_11eb_9657_6030d4635d48row21_col2,#T_32589786_eaea_11eb_9657_6030d4635d48row25_col3,#T_32589786_eaea_11eb_9657_6030d4635d48row30_col4{\n",
       "            background-color:  #f5f9fe;\n",
       "            color:  #000000;\n",
       "        }#T_32589786_eaea_11eb_9657_6030d4635d48row21_col4,#T_32589786_eaea_11eb_9657_6030d4635d48row33_col1{\n",
       "            background-color:  #eaf2fb;\n",
       "            color:  #000000;\n",
       "        }#T_32589786_eaea_11eb_9657_6030d4635d48row22_col4{\n",
       "            background-color:  #edf4fc;\n",
       "            color:  #000000;\n",
       "        }#T_32589786_eaea_11eb_9657_6030d4635d48row24_col1{\n",
       "            background-color:  #91c3de;\n",
       "            color:  #000000;\n",
       "        }#T_32589786_eaea_11eb_9657_6030d4635d48row24_col2{\n",
       "            background-color:  #8abfdd;\n",
       "            color:  #000000;\n",
       "        }#T_32589786_eaea_11eb_9657_6030d4635d48row25_col4,#T_32589786_eaea_11eb_9657_6030d4635d48row33_col3{\n",
       "            background-color:  #f3f8fe;\n",
       "            color:  #000000;\n",
       "        }#T_32589786_eaea_11eb_9657_6030d4635d48row26_col1,#T_32589786_eaea_11eb_9657_6030d4635d48row32_col3{\n",
       "            background-color:  #cee0f2;\n",
       "            color:  #000000;\n",
       "        }#T_32589786_eaea_11eb_9657_6030d4635d48row26_col2,#T_32589786_eaea_11eb_9657_6030d4635d48row34_col3{\n",
       "            background-color:  #ccdff1;\n",
       "            color:  #000000;\n",
       "        }#T_32589786_eaea_11eb_9657_6030d4635d48row26_col3{\n",
       "            background-color:  #eaf3fb;\n",
       "            color:  #000000;\n",
       "        }#T_32589786_eaea_11eb_9657_6030d4635d48row27_col1{\n",
       "            background-color:  #69add5;\n",
       "            color:  #000000;\n",
       "        }#T_32589786_eaea_11eb_9657_6030d4635d48row27_col2{\n",
       "            background-color:  #5fa6d1;\n",
       "            color:  #000000;\n",
       "        }#T_32589786_eaea_11eb_9657_6030d4635d48row29_col3{\n",
       "            background-color:  #4997c9;\n",
       "            color:  #000000;\n",
       "        }#T_32589786_eaea_11eb_9657_6030d4635d48row30_col1,#T_32589786_eaea_11eb_9657_6030d4635d48row30_col2{\n",
       "            background-color:  #abd0e6;\n",
       "            color:  #000000;\n",
       "        }#T_32589786_eaea_11eb_9657_6030d4635d48row31_col1,#T_32589786_eaea_11eb_9657_6030d4635d48row33_col2{\n",
       "            background-color:  #e9f2fa;\n",
       "            color:  #000000;\n",
       "        }#T_32589786_eaea_11eb_9657_6030d4635d48row32_col1{\n",
       "            background-color:  #1967ad;\n",
       "            color:  #f1f1f1;\n",
       "        }#T_32589786_eaea_11eb_9657_6030d4635d48row32_col2{\n",
       "            background-color:  #105ba4;\n",
       "            color:  #f1f1f1;\n",
       "        }#T_32589786_eaea_11eb_9657_6030d4635d48row34_col1,#T_32589786_eaea_11eb_9657_6030d4635d48row34_col2{\n",
       "            background-color:  #9fcae1;\n",
       "            color:  #000000;\n",
       "        }</style><table id=\"T_32589786_eaea_11eb_9657_6030d4635d48\" ><thead>    <tr>        <th class=\"blank level0\" ></th>        <th class=\"col_heading level0 col0\" >State</th>        <th class=\"col_heading level0 col1\" >TotalSamples</th>        <th class=\"col_heading level0 col2\" >Negative</th>        <th class=\"col_heading level0 col3\" >Positive</th>        <th class=\"col_heading level0 col4\" >Positive_percentage</th>    </tr></thead><tbody>\n",
       "                <tr>\n",
       "                        <th id=\"T_32589786_eaea_11eb_9657_6030d4635d48level0_row0\" class=\"row_heading level0 row0\" >0</th>\n",
       "                        <td id=\"T_32589786_eaea_11eb_9657_6030d4635d48row0_col0\" class=\"data row0 col0\" >Andaman and Nicobar Islands</td>\n",
       "                        <td id=\"T_32589786_eaea_11eb_9657_6030d4635d48row0_col1\" class=\"data row0 col1\" >41776.000000</td>\n",
       "                        <td id=\"T_32589786_eaea_11eb_9657_6030d4635d48row0_col2\" class=\"data row0 col2\" >38350.000000</td>\n",
       "                        <td id=\"T_32589786_eaea_11eb_9657_6030d4635d48row0_col3\" class=\"data row0 col3\" >3426.000000</td>\n",
       "                        <td id=\"T_32589786_eaea_11eb_9657_6030d4635d48row0_col4\" class=\"data row0 col4\" >0.855310</td>\n",
       "            </tr>\n",
       "            <tr>\n",
       "                        <th id=\"T_32589786_eaea_11eb_9657_6030d4635d48level0_row1\" class=\"row_heading level0 row1\" >1</th>\n",
       "                        <td id=\"T_32589786_eaea_11eb_9657_6030d4635d48row1_col0\" class=\"data row1 col0\" >Andhra Pradesh</td>\n",
       "                        <td id=\"T_32589786_eaea_11eb_9657_6030d4635d48row1_col1\" class=\"data row1 col1\" >2534304.000000</td>\n",
       "                        <td id=\"T_32589786_eaea_11eb_9657_6030d4635d48row1_col2\" class=\"data row1 col2\" >2298779.000000</td>\n",
       "                        <td id=\"T_32589786_eaea_11eb_9657_6030d4635d48row1_col3\" class=\"data row1 col3\" >235525.000000</td>\n",
       "                        <td id=\"T_32589786_eaea_11eb_9657_6030d4635d48row1_col4\" class=\"data row1 col4\" >1.007839</td>\n",
       "            </tr>\n",
       "            <tr>\n",
       "                        <th id=\"T_32589786_eaea_11eb_9657_6030d4635d48level0_row2\" class=\"row_heading level0 row2\" >2</th>\n",
       "                        <td id=\"T_32589786_eaea_11eb_9657_6030d4635d48row2_col0\" class=\"data row2 col0\" >Arunachal Pradesh</td>\n",
       "                        <td id=\"T_32589786_eaea_11eb_9657_6030d4635d48row2_col1\" class=\"data row2 col1\" >122854.000000</td>\n",
       "                        <td id=\"T_32589786_eaea_11eb_9657_6030d4635d48row2_col2\" class=\"data row2 col2\" >120196.000000</td>\n",
       "                        <td id=\"T_32589786_eaea_11eb_9657_6030d4635d48row2_col3\" class=\"data row2 col3\" >2658.000000</td>\n",
       "                        <td id=\"T_32589786_eaea_11eb_9657_6030d4635d48row2_col4\" class=\"data row2 col4\" >1.158708</td>\n",
       "            </tr>\n",
       "            <tr>\n",
       "                        <th id=\"T_32589786_eaea_11eb_9657_6030d4635d48level0_row3\" class=\"row_heading level0 row3\" >3</th>\n",
       "                        <td id=\"T_32589786_eaea_11eb_9657_6030d4635d48row3_col0\" class=\"data row3 col0\" >Assam</td>\n",
       "                        <td id=\"T_32589786_eaea_11eb_9657_6030d4635d48row3_col1\" class=\"data row3 col1\" >1930764.000000</td>\n",
       "                        <td id=\"T_32589786_eaea_11eb_9657_6030d4635d48row3_col2\" class=\"data row3 col2\" >1842856.000000</td>\n",
       "                        <td id=\"T_32589786_eaea_11eb_9657_6030d4635d48row3_col3\" class=\"data row3 col3\" >87908.000000</td>\n",
       "                        <td id=\"T_32589786_eaea_11eb_9657_6030d4635d48row3_col4\" class=\"data row3 col4\" >0.879062</td>\n",
       "            </tr>\n",
       "            <tr>\n",
       "                        <th id=\"T_32589786_eaea_11eb_9657_6030d4635d48level0_row4\" class=\"row_heading level0 row4\" >4</th>\n",
       "                        <td id=\"T_32589786_eaea_11eb_9657_6030d4635d48row4_col0\" class=\"data row4 col0\" >Bihar</td>\n",
       "                        <td id=\"T_32589786_eaea_11eb_9657_6030d4635d48row4_col1\" class=\"data row4 col1\" >1272980.000000</td>\n",
       "                        <td id=\"T_32589786_eaea_11eb_9657_6030d4635d48row4_col2\" class=\"data row4 col2\" >1182427.000000</td>\n",
       "                        <td id=\"T_32589786_eaea_11eb_9657_6030d4635d48row4_col3\" class=\"data row4 col3\" >90553.000000</td>\n",
       "                        <td id=\"T_32589786_eaea_11eb_9657_6030d4635d48row4_col4\" class=\"data row4 col4\" >0.494234</td>\n",
       "            </tr>\n",
       "            <tr>\n",
       "                        <th id=\"T_32589786_eaea_11eb_9657_6030d4635d48level0_row5\" class=\"row_heading level0 row5\" >5</th>\n",
       "                        <td id=\"T_32589786_eaea_11eb_9657_6030d4635d48row5_col0\" class=\"data row5 col0\" >Chandigarh</td>\n",
       "                        <td id=\"T_32589786_eaea_11eb_9657_6030d4635d48row5_col1\" class=\"data row5 col1\" >22198.000000</td>\n",
       "                        <td id=\"T_32589786_eaea_11eb_9657_6030d4635d48row5_col2\" class=\"data row5 col2\" >19893.000000</td>\n",
       "                        <td id=\"T_32589786_eaea_11eb_9657_6030d4635d48row5_col3\" class=\"data row5 col3\" >2305.000000</td>\n",
       "                        <td id=\"T_32589786_eaea_11eb_9657_6030d4635d48row5_col4\" class=\"data row5 col4\" >0.473798</td>\n",
       "            </tr>\n",
       "            <tr>\n",
       "                        <th id=\"T_32589786_eaea_11eb_9657_6030d4635d48level0_row6\" class=\"row_heading level0 row6\" >6</th>\n",
       "                        <td id=\"T_32589786_eaea_11eb_9657_6030d4635d48row6_col0\" class=\"data row6 col0\" >Chhattisgarh</td>\n",
       "                        <td id=\"T_32589786_eaea_11eb_9657_6030d4635d48row6_col1\" class=\"data row6 col1\" >468099.000000</td>\n",
       "                        <td id=\"T_32589786_eaea_11eb_9657_6030d4635d48row6_col2\" class=\"data row6 col2\" >448640.000000</td>\n",
       "                        <td id=\"T_32589786_eaea_11eb_9657_6030d4635d48row6_col3\" class=\"data row6 col3\" >19459.000000</td>\n",
       "                        <td id=\"T_32589786_eaea_11eb_9657_6030d4635d48row6_col4\" class=\"data row6 col4\" >0.465970</td>\n",
       "            </tr>\n",
       "            <tr>\n",
       "                        <th id=\"T_32589786_eaea_11eb_9657_6030d4635d48level0_row7\" class=\"row_heading level0 row7\" >7</th>\n",
       "                        <td id=\"T_32589786_eaea_11eb_9657_6030d4635d48row7_col0\" class=\"data row7 col0\" >Dadra and Nagar Haveli and Daman and Diu</td>\n",
       "                        <td id=\"T_32589786_eaea_11eb_9657_6030d4635d48row7_col1\" class=\"data row7 col1\" >53769.000000</td>\n",
       "                        <td id=\"T_32589786_eaea_11eb_9657_6030d4635d48row7_col2\" class=\"data row7 col2\" >51429.000000</td>\n",
       "                        <td id=\"T_32589786_eaea_11eb_9657_6030d4635d48row7_col3\" class=\"data row7 col3\" >2340.000000</td>\n",
       "                        <td id=\"T_32589786_eaea_11eb_9657_6030d4635d48row7_col4\" class=\"data row7 col4\" >0.460444</td>\n",
       "            </tr>\n",
       "            <tr>\n",
       "                        <th id=\"T_32589786_eaea_11eb_9657_6030d4635d48level0_row8\" class=\"row_heading level0 row8\" >8</th>\n",
       "                        <td id=\"T_32589786_eaea_11eb_9657_6030d4635d48row8_col0\" class=\"data row8 col0\" >Delhi</td>\n",
       "                        <td id=\"T_32589786_eaea_11eb_9657_6030d4635d48row8_col1\" class=\"data row8 col1\" >1291411.000000</td>\n",
       "                        <td id=\"T_32589786_eaea_11eb_9657_6030d4635d48row8_col2\" class=\"data row8 col2\" >1139483.000000</td>\n",
       "                        <td id=\"T_32589786_eaea_11eb_9657_6030d4635d48row8_col3\" class=\"data row8 col3\" >151928.000000</td>\n",
       "                        <td id=\"T_32589786_eaea_11eb_9657_6030d4635d48row8_col4\" class=\"data row8 col4\" >0.454358</td>\n",
       "            </tr>\n",
       "            <tr>\n",
       "                        <th id=\"T_32589786_eaea_11eb_9657_6030d4635d48level0_row9\" class=\"row_heading level0 row9\" >9</th>\n",
       "                        <td id=\"T_32589786_eaea_11eb_9657_6030d4635d48row9_col0\" class=\"data row9 col0\" >Goa</td>\n",
       "                        <td id=\"T_32589786_eaea_11eb_9657_6030d4635d48row9_col1\" class=\"data row9 col1\" >178175.000000</td>\n",
       "                        <td id=\"T_32589786_eaea_11eb_9657_6030d4635d48row9_col2\" class=\"data row9 col2\" >176827.000000</td>\n",
       "                        <td id=\"T_32589786_eaea_11eb_9657_6030d4635d48row9_col3\" class=\"data row9 col3\" >12333.000000</td>\n",
       "                        <td id=\"T_32589786_eaea_11eb_9657_6030d4635d48row9_col4\" class=\"data row9 col4\" >0.450389</td>\n",
       "            </tr>\n",
       "            <tr>\n",
       "                        <th id=\"T_32589786_eaea_11eb_9657_6030d4635d48level0_row10\" class=\"row_heading level0 row10\" >10</th>\n",
       "                        <td id=\"T_32589786_eaea_11eb_9657_6030d4635d48row10_col0\" class=\"data row10 col0\" >Gujarat</td>\n",
       "                        <td id=\"T_32589786_eaea_11eb_9657_6030d4635d48row10_col1\" class=\"data row10 col1\" >3073534.000000</td>\n",
       "                        <td id=\"T_32589786_eaea_11eb_9657_6030d4635d48row10_col2\" class=\"data row10 col2\" >2963907.000000</td>\n",
       "                        <td id=\"T_32589786_eaea_11eb_9657_6030d4635d48row10_col3\" class=\"data row10 col3\" >109627.000000</td>\n",
       "                        <td id=\"T_32589786_eaea_11eb_9657_6030d4635d48row10_col4\" class=\"data row10 col4\" >0.450389</td>\n",
       "            </tr>\n",
       "            <tr>\n",
       "                        <th id=\"T_32589786_eaea_11eb_9657_6030d4635d48level0_row11\" class=\"row_heading level0 row11\" >11</th>\n",
       "                        <td id=\"T_32589786_eaea_11eb_9657_6030d4635d48row11_col0\" class=\"data row11 col0\" >Haryana</td>\n",
       "                        <td id=\"T_32589786_eaea_11eb_9657_6030d4635d48row11_col1\" class=\"data row11 col1\" >1294598.000000</td>\n",
       "                        <td id=\"T_32589786_eaea_11eb_9657_6030d4635d48row11_col2\" class=\"data row11 col2\" >1218049.000000</td>\n",
       "                        <td id=\"T_32589786_eaea_11eb_9657_6030d4635d48row11_col3\" class=\"data row11 col3\" >76549.000000</td>\n",
       "                        <td id=\"T_32589786_eaea_11eb_9657_6030d4635d48row11_col4\" class=\"data row11 col4\" >0.448187</td>\n",
       "            </tr>\n",
       "            <tr>\n",
       "                        <th id=\"T_32589786_eaea_11eb_9657_6030d4635d48level0_row12\" class=\"row_heading level0 row12\" >12</th>\n",
       "                        <td id=\"T_32589786_eaea_11eb_9657_6030d4635d48row12_col0\" class=\"data row12 col0\" >Himachal Pradesh</td>\n",
       "                        <td id=\"T_32589786_eaea_11eb_9657_6030d4635d48row12_col1\" class=\"data row12 col1\" >178075.000000</td>\n",
       "                        <td id=\"T_32589786_eaea_11eb_9657_6030d4635d48row12_col2\" class=\"data row12 col2\" >174082.000000</td>\n",
       "                        <td id=\"T_32589786_eaea_11eb_9657_6030d4635d48row12_col3\" class=\"data row12 col3\" >3993.000000</td>\n",
       "                        <td id=\"T_32589786_eaea_11eb_9657_6030d4635d48row12_col4\" class=\"data row12 col4\" >0.443072</td>\n",
       "            </tr>\n",
       "            <tr>\n",
       "                        <th id=\"T_32589786_eaea_11eb_9657_6030d4635d48level0_row13\" class=\"row_heading level0 row13\" >13</th>\n",
       "                        <td id=\"T_32589786_eaea_11eb_9657_6030d4635d48row13_col0\" class=\"data row13 col0\" >Jammu and Kashmir</td>\n",
       "                        <td id=\"T_32589786_eaea_11eb_9657_6030d4635d48row13_col1\" class=\"data row13 col1\" >844641.000000</td>\n",
       "                        <td id=\"T_32589786_eaea_11eb_9657_6030d4635d48row13_col2\" class=\"data row13 col2\" >813270.000000</td>\n",
       "                        <td id=\"T_32589786_eaea_11eb_9657_6030d4635d48row13_col3\" class=\"data row13 col3\" >31371.000000</td>\n",
       "                        <td id=\"T_32589786_eaea_11eb_9657_6030d4635d48row13_col4\" class=\"data row13 col4\" >0.440059</td>\n",
       "            </tr>\n",
       "            <tr>\n",
       "                        <th id=\"T_32589786_eaea_11eb_9657_6030d4635d48level0_row14\" class=\"row_heading level0 row14\" >14</th>\n",
       "                        <td id=\"T_32589786_eaea_11eb_9657_6030d4635d48row14_col0\" class=\"data row14 col0\" >Jharkhand</td>\n",
       "                        <td id=\"T_32589786_eaea_11eb_9657_6030d4635d48row14_col1\" class=\"data row14 col1\" >455715.000000</td>\n",
       "                        <td id=\"T_32589786_eaea_11eb_9657_6030d4635d48row14_col2\" class=\"data row14 col2\" >432491.000000</td>\n",
       "                        <td id=\"T_32589786_eaea_11eb_9657_6030d4635d48row14_col3\" class=\"data row14 col3\" >23224.000000</td>\n",
       "                        <td id=\"T_32589786_eaea_11eb_9657_6030d4635d48row14_col4\" class=\"data row14 col4\" >0.438888</td>\n",
       "            </tr>\n",
       "            <tr>\n",
       "                        <th id=\"T_32589786_eaea_11eb_9657_6030d4635d48level0_row15\" class=\"row_heading level0 row15\" >15</th>\n",
       "                        <td id=\"T_32589786_eaea_11eb_9657_6030d4635d48row15_col0\" class=\"data row15 col0\" >Karnataka</td>\n",
       "                        <td id=\"T_32589786_eaea_11eb_9657_6030d4635d48row15_col1\" class=\"data row15 col1\" >2314485.000000</td>\n",
       "                        <td id=\"T_32589786_eaea_11eb_9657_6030d4635d48row15_col2\" class=\"data row15 col2\" >2049939.000000</td>\n",
       "                        <td id=\"T_32589786_eaea_11eb_9657_6030d4635d48row15_col3\" class=\"data row15 col3\" >264546.000000</td>\n",
       "                        <td id=\"T_32589786_eaea_11eb_9657_6030d4635d48row15_col4\" class=\"data row15 col4\" >0.436104</td>\n",
       "            </tr>\n",
       "            <tr>\n",
       "                        <th id=\"T_32589786_eaea_11eb_9657_6030d4635d48level0_row16\" class=\"row_heading level0 row16\" >16</th>\n",
       "                        <td id=\"T_32589786_eaea_11eb_9657_6030d4635d48row16_col0\" class=\"data row16 col0\" >Kerala</td>\n",
       "                        <td id=\"T_32589786_eaea_11eb_9657_6030d4635d48row16_col1\" class=\"data row16 col1\" >2018921.000000</td>\n",
       "                        <td id=\"T_32589786_eaea_11eb_9657_6030d4635d48row16_col2\" class=\"data row16 col2\" >1919654.000000</td>\n",
       "                        <td id=\"T_32589786_eaea_11eb_9657_6030d4635d48row16_col3\" class=\"data row16 col3\" >99267.000000</td>\n",
       "                        <td id=\"T_32589786_eaea_11eb_9657_6030d4635d48row16_col4\" class=\"data row16 col4\" >0.436104</td>\n",
       "            </tr>\n",
       "            <tr>\n",
       "                        <th id=\"T_32589786_eaea_11eb_9657_6030d4635d48level0_row17\" class=\"row_heading level0 row17\" >17</th>\n",
       "                        <td id=\"T_32589786_eaea_11eb_9657_6030d4635d48row17_col0\" class=\"data row17 col0\" >Ladakh</td>\n",
       "                        <td id=\"T_32589786_eaea_11eb_9657_6030d4635d48row17_col1\" class=\"data row17 col1\" >24253.000000</td>\n",
       "                        <td id=\"T_32589786_eaea_11eb_9657_6030d4635d48row17_col2\" class=\"data row17 col2\" >22344.000000</td>\n",
       "                        <td id=\"T_32589786_eaea_11eb_9657_6030d4635d48row17_col3\" class=\"data row17 col3\" >1909.000000</td>\n",
       "                        <td id=\"T_32589786_eaea_11eb_9657_6030d4635d48row17_col4\" class=\"data row17 col4\" >0.428238</td>\n",
       "            </tr>\n",
       "            <tr>\n",
       "                        <th id=\"T_32589786_eaea_11eb_9657_6030d4635d48level0_row18\" class=\"row_heading level0 row18\" >18</th>\n",
       "                        <td id=\"T_32589786_eaea_11eb_9657_6030d4635d48row18_col0\" class=\"data row18 col0\" >Madhya Pradesh</td>\n",
       "                        <td id=\"T_32589786_eaea_11eb_9657_6030d4635d48row18_col1\" class=\"data row18 col1\" >1133826.000000</td>\n",
       "                        <td id=\"T_32589786_eaea_11eb_9657_6030d4635d48row18_col2\" class=\"data row18 col2\" >1083186.000000</td>\n",
       "                        <td id=\"T_32589786_eaea_11eb_9657_6030d4635d48row18_col3\" class=\"data row18 col3\" >50640.000000</td>\n",
       "                        <td id=\"T_32589786_eaea_11eb_9657_6030d4635d48row18_col4\" class=\"data row18 col4\" >0.422806</td>\n",
       "            </tr>\n",
       "            <tr>\n",
       "                        <th id=\"T_32589786_eaea_11eb_9657_6030d4635d48level0_row19\" class=\"row_heading level0 row19\" >19</th>\n",
       "                        <td id=\"T_32589786_eaea_11eb_9657_6030d4635d48row19_col0\" class=\"data row19 col0\" >Maharashtra</td>\n",
       "                        <td id=\"T_32589786_eaea_11eb_9657_6030d4635d48row19_col1\" class=\"data row19 col1\" >3165550.000000</td>\n",
       "                        <td id=\"T_32589786_eaea_11eb_9657_6030d4635d48row19_col2\" class=\"data row19 col2\" >2557919.000000</td>\n",
       "                        <td id=\"T_32589786_eaea_11eb_9657_6030d4635d48row19_col3\" class=\"data row19 col3\" >607631.000000</td>\n",
       "                        <td id=\"T_32589786_eaea_11eb_9657_6030d4635d48row19_col4\" class=\"data row19 col4\" >0.408113</td>\n",
       "            </tr>\n",
       "            <tr>\n",
       "                        <th id=\"T_32589786_eaea_11eb_9657_6030d4635d48level0_row20\" class=\"row_heading level0 row20\" >20</th>\n",
       "                        <td id=\"T_32589786_eaea_11eb_9657_6030d4635d48row20_col0\" class=\"data row20 col0\" >Manipur</td>\n",
       "                        <td id=\"T_32589786_eaea_11eb_9657_6030d4635d48row20_col1\" class=\"data row20 col1\" >117299.000000</td>\n",
       "                        <td id=\"T_32589786_eaea_11eb_9657_6030d4635d48row20_col2\" class=\"data row20 col2\" >112534.000000</td>\n",
       "                        <td id=\"T_32589786_eaea_11eb_9657_6030d4635d48row20_col3\" class=\"data row20 col3\" >4765.000000</td>\n",
       "                        <td id=\"T_32589786_eaea_11eb_9657_6030d4635d48row20_col4\" class=\"data row20 col4\" >0.397830</td>\n",
       "            </tr>\n",
       "            <tr>\n",
       "                        <th id=\"T_32589786_eaea_11eb_9657_6030d4635d48level0_row21\" class=\"row_heading level0 row21\" >21</th>\n",
       "                        <td id=\"T_32589786_eaea_11eb_9657_6030d4635d48row21_col0\" class=\"data row21 col0\" >Meghalaya</td>\n",
       "                        <td id=\"T_32589786_eaea_11eb_9657_6030d4635d48row21_col1\" class=\"data row21 col1\" >70413.000000</td>\n",
       "                        <td id=\"T_32589786_eaea_11eb_9657_6030d4635d48row21_col2\" class=\"data row21 col2\" >68695.000000</td>\n",
       "                        <td id=\"T_32589786_eaea_11eb_9657_6030d4635d48row21_col3\" class=\"data row21 col3\" >1718.000000</td>\n",
       "                        <td id=\"T_32589786_eaea_11eb_9657_6030d4635d48row21_col4\" class=\"data row21 col4\" >0.392250</td>\n",
       "            </tr>\n",
       "            <tr>\n",
       "                        <th id=\"T_32589786_eaea_11eb_9657_6030d4635d48level0_row22\" class=\"row_heading level0 row22\" >22</th>\n",
       "                        <td id=\"T_32589786_eaea_11eb_9657_6030d4635d48row22_col0\" class=\"data row22 col0\" >Mizoram</td>\n",
       "                        <td id=\"T_32589786_eaea_11eb_9657_6030d4635d48row22_col1\" class=\"data row22 col1\" >25929.000000</td>\n",
       "                        <td id=\"T_32589786_eaea_11eb_9657_6030d4635d48row22_col2\" class=\"data row22 col2\" >25216.000000</td>\n",
       "                        <td id=\"T_32589786_eaea_11eb_9657_6030d4635d48row22_col3\" class=\"data row22 col3\" >713.000000</td>\n",
       "                        <td id=\"T_32589786_eaea_11eb_9657_6030d4635d48row22_col4\" class=\"data row22 col4\" >0.379572</td>\n",
       "            </tr>\n",
       "            <tr>\n",
       "                        <th id=\"T_32589786_eaea_11eb_9657_6030d4635d48level0_row23\" class=\"row_heading level0 row23\" >23</th>\n",
       "                        <td id=\"T_32589786_eaea_11eb_9657_6030d4635d48row23_col0\" class=\"data row23 col0\" >Nagaland</td>\n",
       "                        <td id=\"T_32589786_eaea_11eb_9657_6030d4635d48row23_col1\" class=\"data row23 col1\" >52139.000000</td>\n",
       "                        <td id=\"T_32589786_eaea_11eb_9657_6030d4635d48row23_col2\" class=\"data row23 col2\" >48619.000000</td>\n",
       "                        <td id=\"T_32589786_eaea_11eb_9657_6030d4635d48row23_col3\" class=\"data row23 col3\" >3520.000000</td>\n",
       "                        <td id=\"T_32589786_eaea_11eb_9657_6030d4635d48row23_col4\" class=\"data row23 col4\" >0.365165</td>\n",
       "            </tr>\n",
       "            <tr>\n",
       "                        <th id=\"T_32589786_eaea_11eb_9657_6030d4635d48level0_row24\" class=\"row_heading level0 row24\" >24</th>\n",
       "                        <td id=\"T_32589786_eaea_11eb_9657_6030d4635d48row24_col0\" class=\"data row24 col0\" >Odisha</td>\n",
       "                        <td id=\"T_32589786_eaea_11eb_9657_6030d4635d48row24_col1\" class=\"data row24 col1\" >1670910.000000</td>\n",
       "                        <td id=\"T_32589786_eaea_11eb_9657_6030d4635d48row24_col2\" class=\"data row24 col2\" >1572990.000000</td>\n",
       "                        <td id=\"T_32589786_eaea_11eb_9657_6030d4635d48row24_col3\" class=\"data row24 col3\" >97920.000000</td>\n",
       "                        <td id=\"T_32589786_eaea_11eb_9657_6030d4635d48row24_col4\" class=\"data row24 col4\" >0.357066</td>\n",
       "            </tr>\n",
       "            <tr>\n",
       "                        <th id=\"T_32589786_eaea_11eb_9657_6030d4635d48level0_row25\" class=\"row_heading level0 row25\" >25</th>\n",
       "                        <td id=\"T_32589786_eaea_11eb_9657_6030d4635d48row25_col0\" class=\"data row25 col0\" >Puducherry</td>\n",
       "                        <td id=\"T_32589786_eaea_11eb_9657_6030d4635d48row25_col1\" class=\"data row25 col1\" >63590.000000</td>\n",
       "                        <td id=\"T_32589786_eaea_11eb_9657_6030d4635d48row25_col2\" class=\"data row25 col2\" >53478.000000</td>\n",
       "                        <td id=\"T_32589786_eaea_11eb_9657_6030d4635d48row25_col3\" class=\"data row25 col3\" >10112.000000</td>\n",
       "                        <td id=\"T_32589786_eaea_11eb_9657_6030d4635d48row25_col4\" class=\"data row25 col4\" >0.353281</td>\n",
       "            </tr>\n",
       "            <tr>\n",
       "                        <th id=\"T_32589786_eaea_11eb_9657_6030d4635d48level0_row26\" class=\"row_heading level0 row26\" >26</th>\n",
       "                        <td id=\"T_32589786_eaea_11eb_9657_6030d4635d48row26_col0\" class=\"data row26 col0\" >Punjab</td>\n",
       "                        <td id=\"T_32589786_eaea_11eb_9657_6030d4635d48row26_col1\" class=\"data row26 col1\" >863840.000000</td>\n",
       "                        <td id=\"T_32589786_eaea_11eb_9657_6030d4635d48row26_col2\" class=\"data row26 col2\" >824513.000000</td>\n",
       "                        <td id=\"T_32589786_eaea_11eb_9657_6030d4635d48row26_col3\" class=\"data row26 col3\" >39327.000000</td>\n",
       "                        <td id=\"T_32589786_eaea_11eb_9657_6030d4635d48row26_col4\" class=\"data row26 col4\" >0.334720</td>\n",
       "            </tr>\n",
       "            <tr>\n",
       "                        <th id=\"T_32589786_eaea_11eb_9657_6030d4635d48level0_row27\" class=\"row_heading level0 row27\" >27</th>\n",
       "                        <td id=\"T_32589786_eaea_11eb_9657_6030d4635d48row27_col0\" class=\"data row27 col0\" >Rajasthan</td>\n",
       "                        <td id=\"T_32589786_eaea_11eb_9657_6030d4635d48row27_col1\" class=\"data row27 col1\" >2062109.000000</td>\n",
       "                        <td id=\"T_32589786_eaea_11eb_9657_6030d4635d48row27_col2\" class=\"data row27 col2\" >1994155.000000</td>\n",
       "                        <td id=\"T_32589786_eaea_11eb_9657_6030d4635d48row27_col3\" class=\"data row27 col3\" >67954.000000</td>\n",
       "                        <td id=\"T_32589786_eaea_11eb_9657_6030d4635d48row27_col4\" class=\"data row27 col4\" >0.349650</td>\n",
       "            </tr>\n",
       "            <tr>\n",
       "                        <th id=\"T_32589786_eaea_11eb_9657_6030d4635d48level0_row28\" class=\"row_heading level0 row28\" >28</th>\n",
       "                        <td id=\"T_32589786_eaea_11eb_9657_6030d4635d48row28_col0\" class=\"data row28 col0\" >Sikkim</td>\n",
       "                        <td id=\"T_32589786_eaea_11eb_9657_6030d4635d48row28_col1\" class=\"data row28 col1\" >31193.000000</td>\n",
       "                        <td id=\"T_32589786_eaea_11eb_9657_6030d4635d48row28_col2\" class=\"data row28 col2\" >30283.000000</td>\n",
       "                        <td id=\"T_32589786_eaea_11eb_9657_6030d4635d48row28_col3\" class=\"data row28 col3\" >910.000000</td>\n",
       "                        <td id=\"T_32589786_eaea_11eb_9657_6030d4635d48row28_col4\" class=\"data row28 col4\" >0.371602</td>\n",
       "            </tr>\n",
       "            <tr>\n",
       "                        <th id=\"T_32589786_eaea_11eb_9657_6030d4635d48level0_row29\" class=\"row_heading level0 row29\" >29</th>\n",
       "                        <td id=\"T_32589786_eaea_11eb_9657_6030d4635d48row29_col0\" class=\"data row29 col0\" >Tamil Nadu</td>\n",
       "                        <td id=\"T_32589786_eaea_11eb_9657_6030d4635d48row29_col1\" class=\"data row29 col1\" >4062943.000000</td>\n",
       "                        <td id=\"T_32589786_eaea_11eb_9657_6030d4635d48row29_col2\" class=\"data row29 col2\" >3695513.000000</td>\n",
       "                        <td id=\"T_32589786_eaea_11eb_9657_6030d4635d48row29_col3\" class=\"data row29 col3\" >367430.000000</td>\n",
       "                        <td id=\"T_32589786_eaea_11eb_9657_6030d4635d48row29_col4\" class=\"data row29 col4\" >0.355240</td>\n",
       "            </tr>\n",
       "            <tr>\n",
       "                        <th id=\"T_32589786_eaea_11eb_9657_6030d4635d48level0_row30\" class=\"row_heading level0 row30\" >30</th>\n",
       "                        <td id=\"T_32589786_eaea_11eb_9657_6030d4635d48row30_col0\" class=\"data row30 col0\" >Telangana</td>\n",
       "                        <td id=\"T_32589786_eaea_11eb_9657_6030d4635d48row30_col1\" class=\"data row30 col1\" >1365582.000000</td>\n",
       "                        <td id=\"T_32589786_eaea_11eb_9657_6030d4635d48row30_col2\" class=\"data row30 col2\" >1240619.000000</td>\n",
       "                        <td id=\"T_32589786_eaea_11eb_9657_6030d4635d48row30_col3\" class=\"data row30 col3\" >124963.000000</td>\n",
       "                        <td id=\"T_32589786_eaea_11eb_9657_6030d4635d48row30_col4\" class=\"data row30 col4\" >0.346874</td>\n",
       "            </tr>\n",
       "            <tr>\n",
       "                        <th id=\"T_32589786_eaea_11eb_9657_6030d4635d48level0_row31\" class=\"row_heading level0 row31\" >31</th>\n",
       "                        <td id=\"T_32589786_eaea_11eb_9657_6030d4635d48row31_col0\" class=\"data row31 col0\" >Tripura</td>\n",
       "                        <td id=\"T_32589786_eaea_11eb_9657_6030d4635d48row31_col1\" class=\"data row31 col1\" >313816.000000</td>\n",
       "                        <td id=\"T_32589786_eaea_11eb_9657_6030d4635d48row31_col2\" class=\"data row31 col2\" >296545.000000</td>\n",
       "                        <td id=\"T_32589786_eaea_11eb_9657_6030d4635d48row31_col3\" class=\"data row31 col3\" >17271.000000</td>\n",
       "                        <td id=\"T_32589786_eaea_11eb_9657_6030d4635d48row31_col4\" class=\"data row31 col4\" >0.334625</td>\n",
       "            </tr>\n",
       "            <tr>\n",
       "                        <th id=\"T_32589786_eaea_11eb_9657_6030d4635d48level0_row32\" class=\"row_heading level0 row32\" >32</th>\n",
       "                        <td id=\"T_32589786_eaea_11eb_9657_6030d4635d48row32_col0\" class=\"data row32 col0\" >Uttar Pradesh</td>\n",
       "                        <td id=\"T_32589786_eaea_11eb_9657_6030d4635d48row32_col1\" class=\"data row32 col1\" >3209587.000000</td>\n",
       "                        <td id=\"T_32589786_eaea_11eb_9657_6030d4635d48row32_col2\" class=\"data row32 col2\" >3082865.000000</td>\n",
       "                        <td id=\"T_32589786_eaea_11eb_9657_6030d4635d48row32_col3\" class=\"data row32 col3\" >126722.000000</td>\n",
       "                        <td id=\"T_32589786_eaea_11eb_9657_6030d4635d48row32_col4\" class=\"data row32 col4\" >0.355965</td>\n",
       "            </tr>\n",
       "            <tr>\n",
       "                        <th id=\"T_32589786_eaea_11eb_9657_6030d4635d48level0_row33\" class=\"row_heading level0 row33\" >33</th>\n",
       "                        <td id=\"T_32589786_eaea_11eb_9657_6030d4635d48row33_col0\" class=\"data row33 col0\" >Uttarakhand</td>\n",
       "                        <td id=\"T_32589786_eaea_11eb_9657_6030d4635d48row33_col1\" class=\"data row33 col1\" >294279.000000</td>\n",
       "                        <td id=\"T_32589786_eaea_11eb_9657_6030d4635d48row33_col2\" class=\"data row33 col2\" >280196.000000</td>\n",
       "                        <td id=\"T_32589786_eaea_11eb_9657_6030d4635d48row33_col3\" class=\"data row33 col3\" >14083.000000</td>\n",
       "                        <td id=\"T_32589786_eaea_11eb_9657_6030d4635d48row33_col4\" class=\"data row33 col4\" >0.372597</td>\n",
       "            </tr>\n",
       "            <tr>\n",
       "                        <th id=\"T_32589786_eaea_11eb_9657_6030d4635d48level0_row34\" class=\"row_heading level0 row34\" >34</th>\n",
       "                        <td id=\"T_32589786_eaea_11eb_9657_6030d4635d48row34_col0\" class=\"data row34 col0\" >West Bengal</td>\n",
       "                        <td id=\"T_32589786_eaea_11eb_9657_6030d4635d48row34_col1\" class=\"data row34 col1\" >1524162.000000</td>\n",
       "                        <td id=\"T_32589786_eaea_11eb_9657_6030d4635d48row34_col2\" class=\"data row34 col2\" >1388566.000000</td>\n",
       "                        <td id=\"T_32589786_eaea_11eb_9657_6030d4635d48row34_col3\" class=\"data row34 col3\" >135596.000000</td>\n",
       "                        <td id=\"T_32589786_eaea_11eb_9657_6030d4635d48row34_col4\" class=\"data row34 col4\" >0.359506</td>\n",
       "            </tr>\n",
       "    </tbody></table>"
      ],
      "text/plain": [
       "<pandas.io.formats.style.Styler at 0x7f9c0037a588>"
      ]
     },
     "execution_count": 119,
     "metadata": {},
     "output_type": "execute_result"
    }
   ],
   "source": [
    "covid_testing_state = covid_testing.groupby('State')['TotalSamples','Negative','Positive'].max().reset_index()\n",
    "covid_testing_state[\"Positive_percentage\"] = ((covid_testing[\"Positive\"] / covid_testing[\"TotalSamples\"]) * 100)\n",
    "covid_testing_state.style.background_gradient(cmap='Blues')"
   ]
  },
  {
   "cell_type": "code",
   "execution_count": 120,
   "metadata": {},
   "outputs": [
    {
     "data": {
      "application/vnd.plotly.v1+json": {
       "config": {
        "plotlyServerURL": "https://plot.ly"
       },
       "data": [
        {
         "alignmentgroup": "True",
         "hovertemplate": "State=%{x}<br>Total Samples=%{y}<extra></extra>",
         "legendgroup": "",
         "marker": {
          "color": "rgb(41, 24, 107)"
         },
         "name": "",
         "offsetgroup": "",
         "orientation": "v",
         "showlegend": false,
         "textposition": "auto",
         "type": "bar",
         "x": [
          "Tamil Nadu",
          "Uttar Pradesh",
          "Maharashtra",
          "Gujarat",
          "Andhra Pradesh",
          "Karnataka",
          "Rajasthan",
          "Kerala",
          "Assam",
          "Odisha"
         ],
         "xaxis": "x",
         "y": [
          4062943,
          3209587,
          3165550,
          3073534,
          2534304,
          2314485,
          2062109,
          2018921,
          1930764,
          1670910
         ],
         "yaxis": "y"
        }
       ],
       "layout": {
        "barmode": "relative",
        "legend": {
         "tracegroupgap": 0
        },
        "template": {
         "data": {
          "bar": [
           {
            "error_x": {
             "color": "#2a3f5f"
            },
            "error_y": {
             "color": "#2a3f5f"
            },
            "marker": {
             "line": {
              "color": "#E5ECF6",
              "width": 0.5
             }
            },
            "type": "bar"
           }
          ],
          "barpolar": [
           {
            "marker": {
             "line": {
              "color": "#E5ECF6",
              "width": 0.5
             }
            },
            "type": "barpolar"
           }
          ],
          "carpet": [
           {
            "aaxis": {
             "endlinecolor": "#2a3f5f",
             "gridcolor": "white",
             "linecolor": "white",
             "minorgridcolor": "white",
             "startlinecolor": "#2a3f5f"
            },
            "baxis": {
             "endlinecolor": "#2a3f5f",
             "gridcolor": "white",
             "linecolor": "white",
             "minorgridcolor": "white",
             "startlinecolor": "#2a3f5f"
            },
            "type": "carpet"
           }
          ],
          "choropleth": [
           {
            "colorbar": {
             "outlinewidth": 0,
             "ticks": ""
            },
            "type": "choropleth"
           }
          ],
          "contour": [
           {
            "colorbar": {
             "outlinewidth": 0,
             "ticks": ""
            },
            "colorscale": [
             [
              0,
              "#0d0887"
             ],
             [
              0.1111111111111111,
              "#46039f"
             ],
             [
              0.2222222222222222,
              "#7201a8"
             ],
             [
              0.3333333333333333,
              "#9c179e"
             ],
             [
              0.4444444444444444,
              "#bd3786"
             ],
             [
              0.5555555555555556,
              "#d8576b"
             ],
             [
              0.6666666666666666,
              "#ed7953"
             ],
             [
              0.7777777777777778,
              "#fb9f3a"
             ],
             [
              0.8888888888888888,
              "#fdca26"
             ],
             [
              1,
              "#f0f921"
             ]
            ],
            "type": "contour"
           }
          ],
          "contourcarpet": [
           {
            "colorbar": {
             "outlinewidth": 0,
             "ticks": ""
            },
            "type": "contourcarpet"
           }
          ],
          "heatmap": [
           {
            "colorbar": {
             "outlinewidth": 0,
             "ticks": ""
            },
            "colorscale": [
             [
              0,
              "#0d0887"
             ],
             [
              0.1111111111111111,
              "#46039f"
             ],
             [
              0.2222222222222222,
              "#7201a8"
             ],
             [
              0.3333333333333333,
              "#9c179e"
             ],
             [
              0.4444444444444444,
              "#bd3786"
             ],
             [
              0.5555555555555556,
              "#d8576b"
             ],
             [
              0.6666666666666666,
              "#ed7953"
             ],
             [
              0.7777777777777778,
              "#fb9f3a"
             ],
             [
              0.8888888888888888,
              "#fdca26"
             ],
             [
              1,
              "#f0f921"
             ]
            ],
            "type": "heatmap"
           }
          ],
          "heatmapgl": [
           {
            "colorbar": {
             "outlinewidth": 0,
             "ticks": ""
            },
            "colorscale": [
             [
              0,
              "#0d0887"
             ],
             [
              0.1111111111111111,
              "#46039f"
             ],
             [
              0.2222222222222222,
              "#7201a8"
             ],
             [
              0.3333333333333333,
              "#9c179e"
             ],
             [
              0.4444444444444444,
              "#bd3786"
             ],
             [
              0.5555555555555556,
              "#d8576b"
             ],
             [
              0.6666666666666666,
              "#ed7953"
             ],
             [
              0.7777777777777778,
              "#fb9f3a"
             ],
             [
              0.8888888888888888,
              "#fdca26"
             ],
             [
              1,
              "#f0f921"
             ]
            ],
            "type": "heatmapgl"
           }
          ],
          "histogram": [
           {
            "marker": {
             "colorbar": {
              "outlinewidth": 0,
              "ticks": ""
             }
            },
            "type": "histogram"
           }
          ],
          "histogram2d": [
           {
            "colorbar": {
             "outlinewidth": 0,
             "ticks": ""
            },
            "colorscale": [
             [
              0,
              "#0d0887"
             ],
             [
              0.1111111111111111,
              "#46039f"
             ],
             [
              0.2222222222222222,
              "#7201a8"
             ],
             [
              0.3333333333333333,
              "#9c179e"
             ],
             [
              0.4444444444444444,
              "#bd3786"
             ],
             [
              0.5555555555555556,
              "#d8576b"
             ],
             [
              0.6666666666666666,
              "#ed7953"
             ],
             [
              0.7777777777777778,
              "#fb9f3a"
             ],
             [
              0.8888888888888888,
              "#fdca26"
             ],
             [
              1,
              "#f0f921"
             ]
            ],
            "type": "histogram2d"
           }
          ],
          "histogram2dcontour": [
           {
            "colorbar": {
             "outlinewidth": 0,
             "ticks": ""
            },
            "colorscale": [
             [
              0,
              "#0d0887"
             ],
             [
              0.1111111111111111,
              "#46039f"
             ],
             [
              0.2222222222222222,
              "#7201a8"
             ],
             [
              0.3333333333333333,
              "#9c179e"
             ],
             [
              0.4444444444444444,
              "#bd3786"
             ],
             [
              0.5555555555555556,
              "#d8576b"
             ],
             [
              0.6666666666666666,
              "#ed7953"
             ],
             [
              0.7777777777777778,
              "#fb9f3a"
             ],
             [
              0.8888888888888888,
              "#fdca26"
             ],
             [
              1,
              "#f0f921"
             ]
            ],
            "type": "histogram2dcontour"
           }
          ],
          "mesh3d": [
           {
            "colorbar": {
             "outlinewidth": 0,
             "ticks": ""
            },
            "type": "mesh3d"
           }
          ],
          "parcoords": [
           {
            "line": {
             "colorbar": {
              "outlinewidth": 0,
              "ticks": ""
             }
            },
            "type": "parcoords"
           }
          ],
          "pie": [
           {
            "automargin": true,
            "type": "pie"
           }
          ],
          "scatter": [
           {
            "marker": {
             "colorbar": {
              "outlinewidth": 0,
              "ticks": ""
             }
            },
            "type": "scatter"
           }
          ],
          "scatter3d": [
           {
            "line": {
             "colorbar": {
              "outlinewidth": 0,
              "ticks": ""
             }
            },
            "marker": {
             "colorbar": {
              "outlinewidth": 0,
              "ticks": ""
             }
            },
            "type": "scatter3d"
           }
          ],
          "scattercarpet": [
           {
            "marker": {
             "colorbar": {
              "outlinewidth": 0,
              "ticks": ""
             }
            },
            "type": "scattercarpet"
           }
          ],
          "scattergeo": [
           {
            "marker": {
             "colorbar": {
              "outlinewidth": 0,
              "ticks": ""
             }
            },
            "type": "scattergeo"
           }
          ],
          "scattergl": [
           {
            "marker": {
             "colorbar": {
              "outlinewidth": 0,
              "ticks": ""
             }
            },
            "type": "scattergl"
           }
          ],
          "scattermapbox": [
           {
            "marker": {
             "colorbar": {
              "outlinewidth": 0,
              "ticks": ""
             }
            },
            "type": "scattermapbox"
           }
          ],
          "scatterpolar": [
           {
            "marker": {
             "colorbar": {
              "outlinewidth": 0,
              "ticks": ""
             }
            },
            "type": "scatterpolar"
           }
          ],
          "scatterpolargl": [
           {
            "marker": {
             "colorbar": {
              "outlinewidth": 0,
              "ticks": ""
             }
            },
            "type": "scatterpolargl"
           }
          ],
          "scatterternary": [
           {
            "marker": {
             "colorbar": {
              "outlinewidth": 0,
              "ticks": ""
             }
            },
            "type": "scatterternary"
           }
          ],
          "surface": [
           {
            "colorbar": {
             "outlinewidth": 0,
             "ticks": ""
            },
            "colorscale": [
             [
              0,
              "#0d0887"
             ],
             [
              0.1111111111111111,
              "#46039f"
             ],
             [
              0.2222222222222222,
              "#7201a8"
             ],
             [
              0.3333333333333333,
              "#9c179e"
             ],
             [
              0.4444444444444444,
              "#bd3786"
             ],
             [
              0.5555555555555556,
              "#d8576b"
             ],
             [
              0.6666666666666666,
              "#ed7953"
             ],
             [
              0.7777777777777778,
              "#fb9f3a"
             ],
             [
              0.8888888888888888,
              "#fdca26"
             ],
             [
              1,
              "#f0f921"
             ]
            ],
            "type": "surface"
           }
          ],
          "table": [
           {
            "cells": {
             "fill": {
              "color": "#EBF0F8"
             },
             "line": {
              "color": "white"
             }
            },
            "header": {
             "fill": {
              "color": "#C8D4E3"
             },
             "line": {
              "color": "white"
             }
            },
            "type": "table"
           }
          ]
         },
         "layout": {
          "annotationdefaults": {
           "arrowcolor": "#2a3f5f",
           "arrowhead": 0,
           "arrowwidth": 1
          },
          "coloraxis": {
           "colorbar": {
            "outlinewidth": 0,
            "ticks": ""
           }
          },
          "colorscale": {
           "diverging": [
            [
             0,
             "#8e0152"
            ],
            [
             0.1,
             "#c51b7d"
            ],
            [
             0.2,
             "#de77ae"
            ],
            [
             0.3,
             "#f1b6da"
            ],
            [
             0.4,
             "#fde0ef"
            ],
            [
             0.5,
             "#f7f7f7"
            ],
            [
             0.6,
             "#e6f5d0"
            ],
            [
             0.7,
             "#b8e186"
            ],
            [
             0.8,
             "#7fbc41"
            ],
            [
             0.9,
             "#4d9221"
            ],
            [
             1,
             "#276419"
            ]
           ],
           "sequential": [
            [
             0,
             "#0d0887"
            ],
            [
             0.1111111111111111,
             "#46039f"
            ],
            [
             0.2222222222222222,
             "#7201a8"
            ],
            [
             0.3333333333333333,
             "#9c179e"
            ],
            [
             0.4444444444444444,
             "#bd3786"
            ],
            [
             0.5555555555555556,
             "#d8576b"
            ],
            [
             0.6666666666666666,
             "#ed7953"
            ],
            [
             0.7777777777777778,
             "#fb9f3a"
            ],
            [
             0.8888888888888888,
             "#fdca26"
            ],
            [
             1,
             "#f0f921"
            ]
           ],
           "sequentialminus": [
            [
             0,
             "#0d0887"
            ],
            [
             0.1111111111111111,
             "#46039f"
            ],
            [
             0.2222222222222222,
             "#7201a8"
            ],
            [
             0.3333333333333333,
             "#9c179e"
            ],
            [
             0.4444444444444444,
             "#bd3786"
            ],
            [
             0.5555555555555556,
             "#d8576b"
            ],
            [
             0.6666666666666666,
             "#ed7953"
            ],
            [
             0.7777777777777778,
             "#fb9f3a"
            ],
            [
             0.8888888888888888,
             "#fdca26"
            ],
            [
             1,
             "#f0f921"
            ]
           ]
          },
          "colorway": [
           "#636efa",
           "#EF553B",
           "#00cc96",
           "#ab63fa",
           "#FFA15A",
           "#19d3f3",
           "#FF6692",
           "#B6E880",
           "#FF97FF",
           "#FECB52"
          ],
          "font": {
           "color": "#2a3f5f"
          },
          "geo": {
           "bgcolor": "white",
           "lakecolor": "white",
           "landcolor": "#E5ECF6",
           "showlakes": true,
           "showland": true,
           "subunitcolor": "white"
          },
          "hoverlabel": {
           "align": "left"
          },
          "hovermode": "closest",
          "mapbox": {
           "style": "light"
          },
          "paper_bgcolor": "white",
          "plot_bgcolor": "#E5ECF6",
          "polar": {
           "angularaxis": {
            "gridcolor": "white",
            "linecolor": "white",
            "ticks": ""
           },
           "bgcolor": "#E5ECF6",
           "radialaxis": {
            "gridcolor": "white",
            "linecolor": "white",
            "ticks": ""
           }
          },
          "scene": {
           "xaxis": {
            "backgroundcolor": "#E5ECF6",
            "gridcolor": "white",
            "gridwidth": 2,
            "linecolor": "white",
            "showbackground": true,
            "ticks": "",
            "zerolinecolor": "white"
           },
           "yaxis": {
            "backgroundcolor": "#E5ECF6",
            "gridcolor": "white",
            "gridwidth": 2,
            "linecolor": "white",
            "showbackground": true,
            "ticks": "",
            "zerolinecolor": "white"
           },
           "zaxis": {
            "backgroundcolor": "#E5ECF6",
            "gridcolor": "white",
            "gridwidth": 2,
            "linecolor": "white",
            "showbackground": true,
            "ticks": "",
            "zerolinecolor": "white"
           }
          },
          "shapedefaults": {
           "line": {
            "color": "#2a3f5f"
           }
          },
          "ternary": {
           "aaxis": {
            "gridcolor": "white",
            "linecolor": "white",
            "ticks": ""
           },
           "baxis": {
            "gridcolor": "white",
            "linecolor": "white",
            "ticks": ""
           },
           "bgcolor": "#E5ECF6",
           "caxis": {
            "gridcolor": "white",
            "linecolor": "white",
            "ticks": ""
           }
          },
          "title": {
           "x": 0.05
          },
          "xaxis": {
           "automargin": true,
           "gridcolor": "white",
           "linecolor": "white",
           "ticks": "",
           "title": {
            "standoff": 15
           },
           "zerolinecolor": "white",
           "zerolinewidth": 2
          },
          "yaxis": {
           "automargin": true,
           "gridcolor": "white",
           "linecolor": "white",
           "ticks": "",
           "title": {
            "standoff": 15
           },
           "zerolinecolor": "white",
           "zerolinewidth": 2
          }
         }
        },
        "title": {
         "text": "Top 10 states with highest number of Total Samples"
        },
        "xaxis": {
         "anchor": "y",
         "domain": [
          0,
          1
         ],
         "title": {
          "text": "State"
         }
        },
        "yaxis": {
         "anchor": "x",
         "domain": [
          0,
          1
         ],
         "title": {
          "text": "Total Samples"
         }
        }
       }
      },
      "text/html": [
       "<div>                            <div id=\"ac044812-ce51-42c0-99e5-1c65d75d27d8\" class=\"plotly-graph-div\" style=\"height:525px; width:100%;\"></div>            <script type=\"text/javascript\">                require([\"plotly\"], function(Plotly) {                    window.PLOTLYENV=window.PLOTLYENV || {};                                    if (document.getElementById(\"ac044812-ce51-42c0-99e5-1c65d75d27d8\")) {                    Plotly.newPlot(                        \"ac044812-ce51-42c0-99e5-1c65d75d27d8\",                        [{\"alignmentgroup\": \"True\", \"hovertemplate\": \"State=%{x}<br>Total Samples=%{y}<extra></extra>\", \"legendgroup\": \"\", \"marker\": {\"color\": \"rgb(41, 24, 107)\"}, \"name\": \"\", \"offsetgroup\": \"\", \"orientation\": \"v\", \"showlegend\": false, \"textposition\": \"auto\", \"type\": \"bar\", \"x\": [\"Tamil Nadu\", \"Uttar Pradesh\", \"Maharashtra\", \"Gujarat\", \"Andhra Pradesh\", \"Karnataka\", \"Rajasthan\", \"Kerala\", \"Assam\", \"Odisha\"], \"xaxis\": \"x\", \"y\": [4062943.0, 3209587.0, 3165550.0, 3073534.0, 2534304.0, 2314485.0, 2062109.0, 2018921.0, 1930764.0, 1670910.0], \"yaxis\": \"y\"}],                        {\"barmode\": \"relative\", \"legend\": {\"tracegroupgap\": 0}, \"template\": {\"data\": {\"bar\": [{\"error_x\": {\"color\": \"#2a3f5f\"}, \"error_y\": {\"color\": \"#2a3f5f\"}, \"marker\": {\"line\": {\"color\": \"#E5ECF6\", \"width\": 0.5}}, \"type\": \"bar\"}], \"barpolar\": [{\"marker\": {\"line\": {\"color\": \"#E5ECF6\", \"width\": 0.5}}, \"type\": \"barpolar\"}], \"carpet\": [{\"aaxis\": {\"endlinecolor\": \"#2a3f5f\", \"gridcolor\": \"white\", \"linecolor\": \"white\", \"minorgridcolor\": \"white\", \"startlinecolor\": \"#2a3f5f\"}, \"baxis\": {\"endlinecolor\": \"#2a3f5f\", \"gridcolor\": \"white\", \"linecolor\": \"white\", \"minorgridcolor\": \"white\", \"startlinecolor\": \"#2a3f5f\"}, \"type\": \"carpet\"}], \"choropleth\": [{\"colorbar\": {\"outlinewidth\": 0, \"ticks\": \"\"}, \"type\": \"choropleth\"}], \"contour\": [{\"colorbar\": {\"outlinewidth\": 0, \"ticks\": \"\"}, \"colorscale\": [[0.0, \"#0d0887\"], [0.1111111111111111, \"#46039f\"], [0.2222222222222222, \"#7201a8\"], [0.3333333333333333, \"#9c179e\"], [0.4444444444444444, \"#bd3786\"], [0.5555555555555556, \"#d8576b\"], [0.6666666666666666, \"#ed7953\"], [0.7777777777777778, \"#fb9f3a\"], [0.8888888888888888, \"#fdca26\"], [1.0, \"#f0f921\"]], \"type\": \"contour\"}], \"contourcarpet\": [{\"colorbar\": {\"outlinewidth\": 0, \"ticks\": \"\"}, \"type\": \"contourcarpet\"}], \"heatmap\": [{\"colorbar\": {\"outlinewidth\": 0, \"ticks\": \"\"}, \"colorscale\": [[0.0, \"#0d0887\"], [0.1111111111111111, \"#46039f\"], [0.2222222222222222, \"#7201a8\"], [0.3333333333333333, \"#9c179e\"], [0.4444444444444444, \"#bd3786\"], [0.5555555555555556, \"#d8576b\"], [0.6666666666666666, \"#ed7953\"], [0.7777777777777778, \"#fb9f3a\"], [0.8888888888888888, \"#fdca26\"], [1.0, \"#f0f921\"]], \"type\": \"heatmap\"}], \"heatmapgl\": [{\"colorbar\": {\"outlinewidth\": 0, \"ticks\": \"\"}, \"colorscale\": [[0.0, \"#0d0887\"], [0.1111111111111111, \"#46039f\"], [0.2222222222222222, \"#7201a8\"], [0.3333333333333333, \"#9c179e\"], [0.4444444444444444, \"#bd3786\"], [0.5555555555555556, \"#d8576b\"], [0.6666666666666666, \"#ed7953\"], [0.7777777777777778, \"#fb9f3a\"], [0.8888888888888888, \"#fdca26\"], [1.0, \"#f0f921\"]], \"type\": \"heatmapgl\"}], \"histogram\": [{\"marker\": {\"colorbar\": {\"outlinewidth\": 0, \"ticks\": \"\"}}, \"type\": \"histogram\"}], \"histogram2d\": [{\"colorbar\": {\"outlinewidth\": 0, \"ticks\": \"\"}, \"colorscale\": [[0.0, \"#0d0887\"], [0.1111111111111111, \"#46039f\"], [0.2222222222222222, \"#7201a8\"], [0.3333333333333333, \"#9c179e\"], [0.4444444444444444, \"#bd3786\"], [0.5555555555555556, \"#d8576b\"], [0.6666666666666666, \"#ed7953\"], [0.7777777777777778, \"#fb9f3a\"], [0.8888888888888888, \"#fdca26\"], [1.0, \"#f0f921\"]], \"type\": \"histogram2d\"}], \"histogram2dcontour\": [{\"colorbar\": {\"outlinewidth\": 0, \"ticks\": \"\"}, \"colorscale\": [[0.0, \"#0d0887\"], [0.1111111111111111, \"#46039f\"], [0.2222222222222222, \"#7201a8\"], [0.3333333333333333, \"#9c179e\"], [0.4444444444444444, \"#bd3786\"], [0.5555555555555556, \"#d8576b\"], [0.6666666666666666, \"#ed7953\"], [0.7777777777777778, \"#fb9f3a\"], [0.8888888888888888, \"#fdca26\"], [1.0, \"#f0f921\"]], \"type\": \"histogram2dcontour\"}], \"mesh3d\": [{\"colorbar\": {\"outlinewidth\": 0, \"ticks\": \"\"}, \"type\": \"mesh3d\"}], \"parcoords\": [{\"line\": {\"colorbar\": {\"outlinewidth\": 0, \"ticks\": \"\"}}, \"type\": \"parcoords\"}], \"pie\": [{\"automargin\": true, \"type\": \"pie\"}], \"scatter\": [{\"marker\": {\"colorbar\": {\"outlinewidth\": 0, \"ticks\": \"\"}}, \"type\": \"scatter\"}], \"scatter3d\": [{\"line\": {\"colorbar\": {\"outlinewidth\": 0, \"ticks\": \"\"}}, \"marker\": {\"colorbar\": {\"outlinewidth\": 0, \"ticks\": \"\"}}, \"type\": \"scatter3d\"}], \"scattercarpet\": [{\"marker\": {\"colorbar\": {\"outlinewidth\": 0, \"ticks\": \"\"}}, \"type\": \"scattercarpet\"}], \"scattergeo\": [{\"marker\": {\"colorbar\": {\"outlinewidth\": 0, \"ticks\": \"\"}}, \"type\": \"scattergeo\"}], \"scattergl\": [{\"marker\": {\"colorbar\": {\"outlinewidth\": 0, \"ticks\": \"\"}}, \"type\": \"scattergl\"}], \"scattermapbox\": [{\"marker\": {\"colorbar\": {\"outlinewidth\": 0, \"ticks\": \"\"}}, \"type\": \"scattermapbox\"}], \"scatterpolar\": [{\"marker\": {\"colorbar\": {\"outlinewidth\": 0, \"ticks\": \"\"}}, \"type\": \"scatterpolar\"}], \"scatterpolargl\": [{\"marker\": {\"colorbar\": {\"outlinewidth\": 0, \"ticks\": \"\"}}, \"type\": \"scatterpolargl\"}], \"scatterternary\": [{\"marker\": {\"colorbar\": {\"outlinewidth\": 0, \"ticks\": \"\"}}, \"type\": \"scatterternary\"}], \"surface\": [{\"colorbar\": {\"outlinewidth\": 0, \"ticks\": \"\"}, \"colorscale\": [[0.0, \"#0d0887\"], [0.1111111111111111, \"#46039f\"], [0.2222222222222222, \"#7201a8\"], [0.3333333333333333, \"#9c179e\"], [0.4444444444444444, \"#bd3786\"], [0.5555555555555556, \"#d8576b\"], [0.6666666666666666, \"#ed7953\"], [0.7777777777777778, \"#fb9f3a\"], [0.8888888888888888, \"#fdca26\"], [1.0, \"#f0f921\"]], \"type\": \"surface\"}], \"table\": [{\"cells\": {\"fill\": {\"color\": \"#EBF0F8\"}, \"line\": {\"color\": \"white\"}}, \"header\": {\"fill\": {\"color\": \"#C8D4E3\"}, \"line\": {\"color\": \"white\"}}, \"type\": \"table\"}]}, \"layout\": {\"annotationdefaults\": {\"arrowcolor\": \"#2a3f5f\", \"arrowhead\": 0, \"arrowwidth\": 1}, \"coloraxis\": {\"colorbar\": {\"outlinewidth\": 0, \"ticks\": \"\"}}, \"colorscale\": {\"diverging\": [[0, \"#8e0152\"], [0.1, \"#c51b7d\"], [0.2, \"#de77ae\"], [0.3, \"#f1b6da\"], [0.4, \"#fde0ef\"], [0.5, \"#f7f7f7\"], [0.6, \"#e6f5d0\"], [0.7, \"#b8e186\"], [0.8, \"#7fbc41\"], [0.9, \"#4d9221\"], [1, \"#276419\"]], \"sequential\": [[0.0, \"#0d0887\"], [0.1111111111111111, \"#46039f\"], [0.2222222222222222, \"#7201a8\"], [0.3333333333333333, \"#9c179e\"], [0.4444444444444444, \"#bd3786\"], [0.5555555555555556, \"#d8576b\"], [0.6666666666666666, \"#ed7953\"], [0.7777777777777778, \"#fb9f3a\"], [0.8888888888888888, \"#fdca26\"], [1.0, \"#f0f921\"]], \"sequentialminus\": [[0.0, \"#0d0887\"], [0.1111111111111111, \"#46039f\"], [0.2222222222222222, \"#7201a8\"], [0.3333333333333333, \"#9c179e\"], [0.4444444444444444, \"#bd3786\"], [0.5555555555555556, \"#d8576b\"], [0.6666666666666666, \"#ed7953\"], [0.7777777777777778, \"#fb9f3a\"], [0.8888888888888888, \"#fdca26\"], [1.0, \"#f0f921\"]]}, \"colorway\": [\"#636efa\", \"#EF553B\", \"#00cc96\", \"#ab63fa\", \"#FFA15A\", \"#19d3f3\", \"#FF6692\", \"#B6E880\", \"#FF97FF\", \"#FECB52\"], \"font\": {\"color\": \"#2a3f5f\"}, \"geo\": {\"bgcolor\": \"white\", \"lakecolor\": \"white\", \"landcolor\": \"#E5ECF6\", \"showlakes\": true, \"showland\": true, \"subunitcolor\": \"white\"}, \"hoverlabel\": {\"align\": \"left\"}, \"hovermode\": \"closest\", \"mapbox\": {\"style\": \"light\"}, \"paper_bgcolor\": \"white\", \"plot_bgcolor\": \"#E5ECF6\", \"polar\": {\"angularaxis\": {\"gridcolor\": \"white\", \"linecolor\": \"white\", \"ticks\": \"\"}, \"bgcolor\": \"#E5ECF6\", \"radialaxis\": {\"gridcolor\": \"white\", \"linecolor\": \"white\", \"ticks\": \"\"}}, \"scene\": {\"xaxis\": {\"backgroundcolor\": \"#E5ECF6\", \"gridcolor\": \"white\", \"gridwidth\": 2, \"linecolor\": \"white\", \"showbackground\": true, \"ticks\": \"\", \"zerolinecolor\": \"white\"}, \"yaxis\": {\"backgroundcolor\": \"#E5ECF6\", \"gridcolor\": \"white\", \"gridwidth\": 2, \"linecolor\": \"white\", \"showbackground\": true, \"ticks\": \"\", \"zerolinecolor\": \"white\"}, \"zaxis\": {\"backgroundcolor\": \"#E5ECF6\", \"gridcolor\": \"white\", \"gridwidth\": 2, \"linecolor\": \"white\", \"showbackground\": true, \"ticks\": \"\", \"zerolinecolor\": \"white\"}}, \"shapedefaults\": {\"line\": {\"color\": \"#2a3f5f\"}}, \"ternary\": {\"aaxis\": {\"gridcolor\": \"white\", \"linecolor\": \"white\", \"ticks\": \"\"}, \"baxis\": {\"gridcolor\": \"white\", \"linecolor\": \"white\", \"ticks\": \"\"}, \"bgcolor\": \"#E5ECF6\", \"caxis\": {\"gridcolor\": \"white\", \"linecolor\": \"white\", \"ticks\": \"\"}}, \"title\": {\"x\": 0.05}, \"xaxis\": {\"automargin\": true, \"gridcolor\": \"white\", \"linecolor\": \"white\", \"ticks\": \"\", \"title\": {\"standoff\": 15}, \"zerolinecolor\": \"white\", \"zerolinewidth\": 2}, \"yaxis\": {\"automargin\": true, \"gridcolor\": \"white\", \"linecolor\": \"white\", \"ticks\": \"\", \"title\": {\"standoff\": 15}, \"zerolinecolor\": \"white\", \"zerolinewidth\": 2}}}, \"title\": {\"text\": \"Top 10 states with highest number of Total Samples\"}, \"xaxis\": {\"anchor\": \"y\", \"domain\": [0.0, 1.0], \"title\": {\"text\": \"State\"}}, \"yaxis\": {\"anchor\": \"x\", \"domain\": [0.0, 1.0], \"title\": {\"text\": \"Total Samples\"}}},                        {\"responsive\": true}                    ).then(function(){\n",
       "                            \n",
       "var gd = document.getElementById('ac044812-ce51-42c0-99e5-1c65d75d27d8');\n",
       "var x = new MutationObserver(function (mutations, observer) {{\n",
       "        var display = window.getComputedStyle(gd).display;\n",
       "        if (!display || display === 'none') {{\n",
       "            console.log([gd, 'removed!']);\n",
       "            Plotly.purge(gd);\n",
       "            observer.disconnect();\n",
       "        }}\n",
       "}});\n",
       "\n",
       "// Listen for the removal of the full notebook cells\n",
       "var notebookContainer = gd.closest('#notebook-container');\n",
       "if (notebookContainer) {{\n",
       "    x.observe(notebookContainer, {childList: true});\n",
       "}}\n",
       "\n",
       "// Listen for the clearing of the current output cell\n",
       "var outputEl = gd.closest('.output');\n",
       "if (outputEl) {{\n",
       "    x.observe(outputEl, {childList: true});\n",
       "}}\n",
       "\n",
       "                        })                };                });            </script>        </div>"
      ]
     },
     "metadata": {},
     "output_type": "display_data"
    }
   ],
   "source": [
    "px.bar(x=covid_testing_state.nlargest(10,\"TotalSamples\")[\"State\"],\n",
    "       y = covid_testing_state.nlargest(10,\"TotalSamples\")[\"TotalSamples\"],\n",
    "       labels={'y':'Total Samples','x':'State'},\n",
    "       color_discrete_sequence=px.colors.sequential.haline,\n",
    "       title=\"Top 10 states with highest number of Total Samples\")"
   ]
  },
  {
   "cell_type": "code",
   "execution_count": 121,
   "metadata": {},
   "outputs": [
    {
     "data": {
      "application/vnd.plotly.v1+json": {
       "config": {
        "plotlyServerURL": "https://plot.ly"
       },
       "data": [
        {
         "alignmentgroup": "True",
         "hovertemplate": "State=%{x}<br>Total Negative cases=%{y}<extra></extra>",
         "legendgroup": "",
         "marker": {
          "color": "rgb(254, 252, 205)"
         },
         "name": "",
         "offsetgroup": "",
         "orientation": "v",
         "showlegend": false,
         "textposition": "auto",
         "type": "bar",
         "x": [
          "Tamil Nadu",
          "Uttar Pradesh",
          "Gujarat",
          "Maharashtra",
          "Andhra Pradesh",
          "Karnataka",
          "Rajasthan",
          "Kerala",
          "Assam",
          "Odisha"
         ],
         "xaxis": "x",
         "y": [
          3695513,
          3082865,
          2963907,
          2557919,
          2298779,
          2049939,
          1994155,
          1919654,
          1842856,
          1572990
         ],
         "yaxis": "y"
        }
       ],
       "layout": {
        "barmode": "relative",
        "legend": {
         "tracegroupgap": 0
        },
        "template": {
         "data": {
          "bar": [
           {
            "error_x": {
             "color": "#2a3f5f"
            },
            "error_y": {
             "color": "#2a3f5f"
            },
            "marker": {
             "line": {
              "color": "#E5ECF6",
              "width": 0.5
             }
            },
            "type": "bar"
           }
          ],
          "barpolar": [
           {
            "marker": {
             "line": {
              "color": "#E5ECF6",
              "width": 0.5
             }
            },
            "type": "barpolar"
           }
          ],
          "carpet": [
           {
            "aaxis": {
             "endlinecolor": "#2a3f5f",
             "gridcolor": "white",
             "linecolor": "white",
             "minorgridcolor": "white",
             "startlinecolor": "#2a3f5f"
            },
            "baxis": {
             "endlinecolor": "#2a3f5f",
             "gridcolor": "white",
             "linecolor": "white",
             "minorgridcolor": "white",
             "startlinecolor": "#2a3f5f"
            },
            "type": "carpet"
           }
          ],
          "choropleth": [
           {
            "colorbar": {
             "outlinewidth": 0,
             "ticks": ""
            },
            "type": "choropleth"
           }
          ],
          "contour": [
           {
            "colorbar": {
             "outlinewidth": 0,
             "ticks": ""
            },
            "colorscale": [
             [
              0,
              "#0d0887"
             ],
             [
              0.1111111111111111,
              "#46039f"
             ],
             [
              0.2222222222222222,
              "#7201a8"
             ],
             [
              0.3333333333333333,
              "#9c179e"
             ],
             [
              0.4444444444444444,
              "#bd3786"
             ],
             [
              0.5555555555555556,
              "#d8576b"
             ],
             [
              0.6666666666666666,
              "#ed7953"
             ],
             [
              0.7777777777777778,
              "#fb9f3a"
             ],
             [
              0.8888888888888888,
              "#fdca26"
             ],
             [
              1,
              "#f0f921"
             ]
            ],
            "type": "contour"
           }
          ],
          "contourcarpet": [
           {
            "colorbar": {
             "outlinewidth": 0,
             "ticks": ""
            },
            "type": "contourcarpet"
           }
          ],
          "heatmap": [
           {
            "colorbar": {
             "outlinewidth": 0,
             "ticks": ""
            },
            "colorscale": [
             [
              0,
              "#0d0887"
             ],
             [
              0.1111111111111111,
              "#46039f"
             ],
             [
              0.2222222222222222,
              "#7201a8"
             ],
             [
              0.3333333333333333,
              "#9c179e"
             ],
             [
              0.4444444444444444,
              "#bd3786"
             ],
             [
              0.5555555555555556,
              "#d8576b"
             ],
             [
              0.6666666666666666,
              "#ed7953"
             ],
             [
              0.7777777777777778,
              "#fb9f3a"
             ],
             [
              0.8888888888888888,
              "#fdca26"
             ],
             [
              1,
              "#f0f921"
             ]
            ],
            "type": "heatmap"
           }
          ],
          "heatmapgl": [
           {
            "colorbar": {
             "outlinewidth": 0,
             "ticks": ""
            },
            "colorscale": [
             [
              0,
              "#0d0887"
             ],
             [
              0.1111111111111111,
              "#46039f"
             ],
             [
              0.2222222222222222,
              "#7201a8"
             ],
             [
              0.3333333333333333,
              "#9c179e"
             ],
             [
              0.4444444444444444,
              "#bd3786"
             ],
             [
              0.5555555555555556,
              "#d8576b"
             ],
             [
              0.6666666666666666,
              "#ed7953"
             ],
             [
              0.7777777777777778,
              "#fb9f3a"
             ],
             [
              0.8888888888888888,
              "#fdca26"
             ],
             [
              1,
              "#f0f921"
             ]
            ],
            "type": "heatmapgl"
           }
          ],
          "histogram": [
           {
            "marker": {
             "colorbar": {
              "outlinewidth": 0,
              "ticks": ""
             }
            },
            "type": "histogram"
           }
          ],
          "histogram2d": [
           {
            "colorbar": {
             "outlinewidth": 0,
             "ticks": ""
            },
            "colorscale": [
             [
              0,
              "#0d0887"
             ],
             [
              0.1111111111111111,
              "#46039f"
             ],
             [
              0.2222222222222222,
              "#7201a8"
             ],
             [
              0.3333333333333333,
              "#9c179e"
             ],
             [
              0.4444444444444444,
              "#bd3786"
             ],
             [
              0.5555555555555556,
              "#d8576b"
             ],
             [
              0.6666666666666666,
              "#ed7953"
             ],
             [
              0.7777777777777778,
              "#fb9f3a"
             ],
             [
              0.8888888888888888,
              "#fdca26"
             ],
             [
              1,
              "#f0f921"
             ]
            ],
            "type": "histogram2d"
           }
          ],
          "histogram2dcontour": [
           {
            "colorbar": {
             "outlinewidth": 0,
             "ticks": ""
            },
            "colorscale": [
             [
              0,
              "#0d0887"
             ],
             [
              0.1111111111111111,
              "#46039f"
             ],
             [
              0.2222222222222222,
              "#7201a8"
             ],
             [
              0.3333333333333333,
              "#9c179e"
             ],
             [
              0.4444444444444444,
              "#bd3786"
             ],
             [
              0.5555555555555556,
              "#d8576b"
             ],
             [
              0.6666666666666666,
              "#ed7953"
             ],
             [
              0.7777777777777778,
              "#fb9f3a"
             ],
             [
              0.8888888888888888,
              "#fdca26"
             ],
             [
              1,
              "#f0f921"
             ]
            ],
            "type": "histogram2dcontour"
           }
          ],
          "mesh3d": [
           {
            "colorbar": {
             "outlinewidth": 0,
             "ticks": ""
            },
            "type": "mesh3d"
           }
          ],
          "parcoords": [
           {
            "line": {
             "colorbar": {
              "outlinewidth": 0,
              "ticks": ""
             }
            },
            "type": "parcoords"
           }
          ],
          "pie": [
           {
            "automargin": true,
            "type": "pie"
           }
          ],
          "scatter": [
           {
            "marker": {
             "colorbar": {
              "outlinewidth": 0,
              "ticks": ""
             }
            },
            "type": "scatter"
           }
          ],
          "scatter3d": [
           {
            "line": {
             "colorbar": {
              "outlinewidth": 0,
              "ticks": ""
             }
            },
            "marker": {
             "colorbar": {
              "outlinewidth": 0,
              "ticks": ""
             }
            },
            "type": "scatter3d"
           }
          ],
          "scattercarpet": [
           {
            "marker": {
             "colorbar": {
              "outlinewidth": 0,
              "ticks": ""
             }
            },
            "type": "scattercarpet"
           }
          ],
          "scattergeo": [
           {
            "marker": {
             "colorbar": {
              "outlinewidth": 0,
              "ticks": ""
             }
            },
            "type": "scattergeo"
           }
          ],
          "scattergl": [
           {
            "marker": {
             "colorbar": {
              "outlinewidth": 0,
              "ticks": ""
             }
            },
            "type": "scattergl"
           }
          ],
          "scattermapbox": [
           {
            "marker": {
             "colorbar": {
              "outlinewidth": 0,
              "ticks": ""
             }
            },
            "type": "scattermapbox"
           }
          ],
          "scatterpolar": [
           {
            "marker": {
             "colorbar": {
              "outlinewidth": 0,
              "ticks": ""
             }
            },
            "type": "scatterpolar"
           }
          ],
          "scatterpolargl": [
           {
            "marker": {
             "colorbar": {
              "outlinewidth": 0,
              "ticks": ""
             }
            },
            "type": "scatterpolargl"
           }
          ],
          "scatterternary": [
           {
            "marker": {
             "colorbar": {
              "outlinewidth": 0,
              "ticks": ""
             }
            },
            "type": "scatterternary"
           }
          ],
          "surface": [
           {
            "colorbar": {
             "outlinewidth": 0,
             "ticks": ""
            },
            "colorscale": [
             [
              0,
              "#0d0887"
             ],
             [
              0.1111111111111111,
              "#46039f"
             ],
             [
              0.2222222222222222,
              "#7201a8"
             ],
             [
              0.3333333333333333,
              "#9c179e"
             ],
             [
              0.4444444444444444,
              "#bd3786"
             ],
             [
              0.5555555555555556,
              "#d8576b"
             ],
             [
              0.6666666666666666,
              "#ed7953"
             ],
             [
              0.7777777777777778,
              "#fb9f3a"
             ],
             [
              0.8888888888888888,
              "#fdca26"
             ],
             [
              1,
              "#f0f921"
             ]
            ],
            "type": "surface"
           }
          ],
          "table": [
           {
            "cells": {
             "fill": {
              "color": "#EBF0F8"
             },
             "line": {
              "color": "white"
             }
            },
            "header": {
             "fill": {
              "color": "#C8D4E3"
             },
             "line": {
              "color": "white"
             }
            },
            "type": "table"
           }
          ]
         },
         "layout": {
          "annotationdefaults": {
           "arrowcolor": "#2a3f5f",
           "arrowhead": 0,
           "arrowwidth": 1
          },
          "coloraxis": {
           "colorbar": {
            "outlinewidth": 0,
            "ticks": ""
           }
          },
          "colorscale": {
           "diverging": [
            [
             0,
             "#8e0152"
            ],
            [
             0.1,
             "#c51b7d"
            ],
            [
             0.2,
             "#de77ae"
            ],
            [
             0.3,
             "#f1b6da"
            ],
            [
             0.4,
             "#fde0ef"
            ],
            [
             0.5,
             "#f7f7f7"
            ],
            [
             0.6,
             "#e6f5d0"
            ],
            [
             0.7,
             "#b8e186"
            ],
            [
             0.8,
             "#7fbc41"
            ],
            [
             0.9,
             "#4d9221"
            ],
            [
             1,
             "#276419"
            ]
           ],
           "sequential": [
            [
             0,
             "#0d0887"
            ],
            [
             0.1111111111111111,
             "#46039f"
            ],
            [
             0.2222222222222222,
             "#7201a8"
            ],
            [
             0.3333333333333333,
             "#9c179e"
            ],
            [
             0.4444444444444444,
             "#bd3786"
            ],
            [
             0.5555555555555556,
             "#d8576b"
            ],
            [
             0.6666666666666666,
             "#ed7953"
            ],
            [
             0.7777777777777778,
             "#fb9f3a"
            ],
            [
             0.8888888888888888,
             "#fdca26"
            ],
            [
             1,
             "#f0f921"
            ]
           ],
           "sequentialminus": [
            [
             0,
             "#0d0887"
            ],
            [
             0.1111111111111111,
             "#46039f"
            ],
            [
             0.2222222222222222,
             "#7201a8"
            ],
            [
             0.3333333333333333,
             "#9c179e"
            ],
            [
             0.4444444444444444,
             "#bd3786"
            ],
            [
             0.5555555555555556,
             "#d8576b"
            ],
            [
             0.6666666666666666,
             "#ed7953"
            ],
            [
             0.7777777777777778,
             "#fb9f3a"
            ],
            [
             0.8888888888888888,
             "#fdca26"
            ],
            [
             1,
             "#f0f921"
            ]
           ]
          },
          "colorway": [
           "#636efa",
           "#EF553B",
           "#00cc96",
           "#ab63fa",
           "#FFA15A",
           "#19d3f3",
           "#FF6692",
           "#B6E880",
           "#FF97FF",
           "#FECB52"
          ],
          "font": {
           "color": "#2a3f5f"
          },
          "geo": {
           "bgcolor": "white",
           "lakecolor": "white",
           "landcolor": "#E5ECF6",
           "showlakes": true,
           "showland": true,
           "subunitcolor": "white"
          },
          "hoverlabel": {
           "align": "left"
          },
          "hovermode": "closest",
          "mapbox": {
           "style": "light"
          },
          "paper_bgcolor": "white",
          "plot_bgcolor": "#E5ECF6",
          "polar": {
           "angularaxis": {
            "gridcolor": "white",
            "linecolor": "white",
            "ticks": ""
           },
           "bgcolor": "#E5ECF6",
           "radialaxis": {
            "gridcolor": "white",
            "linecolor": "white",
            "ticks": ""
           }
          },
          "scene": {
           "xaxis": {
            "backgroundcolor": "#E5ECF6",
            "gridcolor": "white",
            "gridwidth": 2,
            "linecolor": "white",
            "showbackground": true,
            "ticks": "",
            "zerolinecolor": "white"
           },
           "yaxis": {
            "backgroundcolor": "#E5ECF6",
            "gridcolor": "white",
            "gridwidth": 2,
            "linecolor": "white",
            "showbackground": true,
            "ticks": "",
            "zerolinecolor": "white"
           },
           "zaxis": {
            "backgroundcolor": "#E5ECF6",
            "gridcolor": "white",
            "gridwidth": 2,
            "linecolor": "white",
            "showbackground": true,
            "ticks": "",
            "zerolinecolor": "white"
           }
          },
          "shapedefaults": {
           "line": {
            "color": "#2a3f5f"
           }
          },
          "ternary": {
           "aaxis": {
            "gridcolor": "white",
            "linecolor": "white",
            "ticks": ""
           },
           "baxis": {
            "gridcolor": "white",
            "linecolor": "white",
            "ticks": ""
           },
           "bgcolor": "#E5ECF6",
           "caxis": {
            "gridcolor": "white",
            "linecolor": "white",
            "ticks": ""
           }
          },
          "title": {
           "x": 0.05
          },
          "xaxis": {
           "automargin": true,
           "gridcolor": "white",
           "linecolor": "white",
           "ticks": "",
           "title": {
            "standoff": 15
           },
           "zerolinecolor": "white",
           "zerolinewidth": 2
          },
          "yaxis": {
           "automargin": true,
           "gridcolor": "white",
           "linecolor": "white",
           "ticks": "",
           "title": {
            "standoff": 15
           },
           "zerolinecolor": "white",
           "zerolinewidth": 2
          }
         }
        },
        "title": {
         "text": "Top 10 states with highest number of Negative cases"
        },
        "xaxis": {
         "anchor": "y",
         "domain": [
          0,
          1
         ],
         "title": {
          "text": "State"
         }
        },
        "yaxis": {
         "anchor": "x",
         "domain": [
          0,
          1
         ],
         "title": {
          "text": "Total Negative cases"
         }
        }
       }
      },
      "text/html": [
       "<div>                            <div id=\"a6310e52-7a0f-428c-b029-ad628acfe479\" class=\"plotly-graph-div\" style=\"height:525px; width:100%;\"></div>            <script type=\"text/javascript\">                require([\"plotly\"], function(Plotly) {                    window.PLOTLYENV=window.PLOTLYENV || {};                                    if (document.getElementById(\"a6310e52-7a0f-428c-b029-ad628acfe479\")) {                    Plotly.newPlot(                        \"a6310e52-7a0f-428c-b029-ad628acfe479\",                        [{\"alignmentgroup\": \"True\", \"hovertemplate\": \"State=%{x}<br>Total Negative cases=%{y}<extra></extra>\", \"legendgroup\": \"\", \"marker\": {\"color\": \"rgb(254, 252, 205)\"}, \"name\": \"\", \"offsetgroup\": \"\", \"orientation\": \"v\", \"showlegend\": false, \"textposition\": \"auto\", \"type\": \"bar\", \"x\": [\"Tamil Nadu\", \"Uttar Pradesh\", \"Gujarat\", \"Maharashtra\", \"Andhra Pradesh\", \"Karnataka\", \"Rajasthan\", \"Kerala\", \"Assam\", \"Odisha\"], \"xaxis\": \"x\", \"y\": [3695513.0, 3082865.0, 2963907.0, 2557919.0, 2298779.0, 2049939.0, 1994155.0, 1919654.0, 1842856.0, 1572990.0], \"yaxis\": \"y\"}],                        {\"barmode\": \"relative\", \"legend\": {\"tracegroupgap\": 0}, \"template\": {\"data\": {\"bar\": [{\"error_x\": {\"color\": \"#2a3f5f\"}, \"error_y\": {\"color\": \"#2a3f5f\"}, \"marker\": {\"line\": {\"color\": \"#E5ECF6\", \"width\": 0.5}}, \"type\": \"bar\"}], \"barpolar\": [{\"marker\": {\"line\": {\"color\": \"#E5ECF6\", \"width\": 0.5}}, \"type\": \"barpolar\"}], \"carpet\": [{\"aaxis\": {\"endlinecolor\": \"#2a3f5f\", \"gridcolor\": \"white\", \"linecolor\": \"white\", \"minorgridcolor\": \"white\", \"startlinecolor\": \"#2a3f5f\"}, \"baxis\": {\"endlinecolor\": \"#2a3f5f\", \"gridcolor\": \"white\", \"linecolor\": \"white\", \"minorgridcolor\": \"white\", \"startlinecolor\": \"#2a3f5f\"}, \"type\": \"carpet\"}], \"choropleth\": [{\"colorbar\": {\"outlinewidth\": 0, \"ticks\": \"\"}, \"type\": \"choropleth\"}], \"contour\": [{\"colorbar\": {\"outlinewidth\": 0, \"ticks\": \"\"}, \"colorscale\": [[0.0, \"#0d0887\"], [0.1111111111111111, \"#46039f\"], [0.2222222222222222, \"#7201a8\"], [0.3333333333333333, \"#9c179e\"], [0.4444444444444444, \"#bd3786\"], [0.5555555555555556, \"#d8576b\"], [0.6666666666666666, \"#ed7953\"], [0.7777777777777778, \"#fb9f3a\"], [0.8888888888888888, \"#fdca26\"], [1.0, \"#f0f921\"]], \"type\": \"contour\"}], \"contourcarpet\": [{\"colorbar\": {\"outlinewidth\": 0, \"ticks\": \"\"}, \"type\": \"contourcarpet\"}], \"heatmap\": [{\"colorbar\": {\"outlinewidth\": 0, \"ticks\": \"\"}, \"colorscale\": [[0.0, \"#0d0887\"], [0.1111111111111111, \"#46039f\"], [0.2222222222222222, \"#7201a8\"], [0.3333333333333333, \"#9c179e\"], [0.4444444444444444, \"#bd3786\"], [0.5555555555555556, \"#d8576b\"], [0.6666666666666666, \"#ed7953\"], [0.7777777777777778, \"#fb9f3a\"], [0.8888888888888888, \"#fdca26\"], [1.0, \"#f0f921\"]], \"type\": \"heatmap\"}], \"heatmapgl\": [{\"colorbar\": {\"outlinewidth\": 0, \"ticks\": \"\"}, \"colorscale\": [[0.0, \"#0d0887\"], [0.1111111111111111, \"#46039f\"], [0.2222222222222222, \"#7201a8\"], [0.3333333333333333, \"#9c179e\"], [0.4444444444444444, \"#bd3786\"], [0.5555555555555556, \"#d8576b\"], [0.6666666666666666, \"#ed7953\"], [0.7777777777777778, \"#fb9f3a\"], [0.8888888888888888, \"#fdca26\"], [1.0, \"#f0f921\"]], \"type\": \"heatmapgl\"}], \"histogram\": [{\"marker\": {\"colorbar\": {\"outlinewidth\": 0, \"ticks\": \"\"}}, \"type\": \"histogram\"}], \"histogram2d\": [{\"colorbar\": {\"outlinewidth\": 0, \"ticks\": \"\"}, \"colorscale\": [[0.0, \"#0d0887\"], [0.1111111111111111, \"#46039f\"], [0.2222222222222222, \"#7201a8\"], [0.3333333333333333, \"#9c179e\"], [0.4444444444444444, \"#bd3786\"], [0.5555555555555556, \"#d8576b\"], [0.6666666666666666, \"#ed7953\"], [0.7777777777777778, \"#fb9f3a\"], [0.8888888888888888, \"#fdca26\"], [1.0, \"#f0f921\"]], \"type\": \"histogram2d\"}], \"histogram2dcontour\": [{\"colorbar\": {\"outlinewidth\": 0, \"ticks\": \"\"}, \"colorscale\": [[0.0, \"#0d0887\"], [0.1111111111111111, \"#46039f\"], [0.2222222222222222, \"#7201a8\"], [0.3333333333333333, \"#9c179e\"], [0.4444444444444444, \"#bd3786\"], [0.5555555555555556, \"#d8576b\"], [0.6666666666666666, \"#ed7953\"], [0.7777777777777778, \"#fb9f3a\"], [0.8888888888888888, \"#fdca26\"], [1.0, \"#f0f921\"]], \"type\": \"histogram2dcontour\"}], \"mesh3d\": [{\"colorbar\": {\"outlinewidth\": 0, \"ticks\": \"\"}, \"type\": \"mesh3d\"}], \"parcoords\": [{\"line\": {\"colorbar\": {\"outlinewidth\": 0, \"ticks\": \"\"}}, \"type\": \"parcoords\"}], \"pie\": [{\"automargin\": true, \"type\": \"pie\"}], \"scatter\": [{\"marker\": {\"colorbar\": {\"outlinewidth\": 0, \"ticks\": \"\"}}, \"type\": \"scatter\"}], \"scatter3d\": [{\"line\": {\"colorbar\": {\"outlinewidth\": 0, \"ticks\": \"\"}}, \"marker\": {\"colorbar\": {\"outlinewidth\": 0, \"ticks\": \"\"}}, \"type\": \"scatter3d\"}], \"scattercarpet\": [{\"marker\": {\"colorbar\": {\"outlinewidth\": 0, \"ticks\": \"\"}}, \"type\": \"scattercarpet\"}], \"scattergeo\": [{\"marker\": {\"colorbar\": {\"outlinewidth\": 0, \"ticks\": \"\"}}, \"type\": \"scattergeo\"}], \"scattergl\": [{\"marker\": {\"colorbar\": {\"outlinewidth\": 0, \"ticks\": \"\"}}, \"type\": \"scattergl\"}], \"scattermapbox\": [{\"marker\": {\"colorbar\": {\"outlinewidth\": 0, \"ticks\": \"\"}}, \"type\": \"scattermapbox\"}], \"scatterpolar\": [{\"marker\": {\"colorbar\": {\"outlinewidth\": 0, \"ticks\": \"\"}}, \"type\": \"scatterpolar\"}], \"scatterpolargl\": [{\"marker\": {\"colorbar\": {\"outlinewidth\": 0, \"ticks\": \"\"}}, \"type\": \"scatterpolargl\"}], \"scatterternary\": [{\"marker\": {\"colorbar\": {\"outlinewidth\": 0, \"ticks\": \"\"}}, \"type\": \"scatterternary\"}], \"surface\": [{\"colorbar\": {\"outlinewidth\": 0, \"ticks\": \"\"}, \"colorscale\": [[0.0, \"#0d0887\"], [0.1111111111111111, \"#46039f\"], [0.2222222222222222, \"#7201a8\"], [0.3333333333333333, \"#9c179e\"], [0.4444444444444444, \"#bd3786\"], [0.5555555555555556, \"#d8576b\"], [0.6666666666666666, \"#ed7953\"], [0.7777777777777778, \"#fb9f3a\"], [0.8888888888888888, \"#fdca26\"], [1.0, \"#f0f921\"]], \"type\": \"surface\"}], \"table\": [{\"cells\": {\"fill\": {\"color\": \"#EBF0F8\"}, \"line\": {\"color\": \"white\"}}, \"header\": {\"fill\": {\"color\": \"#C8D4E3\"}, \"line\": {\"color\": \"white\"}}, \"type\": \"table\"}]}, \"layout\": {\"annotationdefaults\": {\"arrowcolor\": \"#2a3f5f\", \"arrowhead\": 0, \"arrowwidth\": 1}, \"coloraxis\": {\"colorbar\": {\"outlinewidth\": 0, \"ticks\": \"\"}}, \"colorscale\": {\"diverging\": [[0, \"#8e0152\"], [0.1, \"#c51b7d\"], [0.2, \"#de77ae\"], [0.3, \"#f1b6da\"], [0.4, \"#fde0ef\"], [0.5, \"#f7f7f7\"], [0.6, \"#e6f5d0\"], [0.7, \"#b8e186\"], [0.8, \"#7fbc41\"], [0.9, \"#4d9221\"], [1, \"#276419\"]], \"sequential\": [[0.0, \"#0d0887\"], [0.1111111111111111, \"#46039f\"], [0.2222222222222222, \"#7201a8\"], [0.3333333333333333, \"#9c179e\"], [0.4444444444444444, \"#bd3786\"], [0.5555555555555556, \"#d8576b\"], [0.6666666666666666, \"#ed7953\"], [0.7777777777777778, \"#fb9f3a\"], [0.8888888888888888, \"#fdca26\"], [1.0, \"#f0f921\"]], \"sequentialminus\": [[0.0, \"#0d0887\"], [0.1111111111111111, \"#46039f\"], [0.2222222222222222, \"#7201a8\"], [0.3333333333333333, \"#9c179e\"], [0.4444444444444444, \"#bd3786\"], [0.5555555555555556, \"#d8576b\"], [0.6666666666666666, \"#ed7953\"], [0.7777777777777778, \"#fb9f3a\"], [0.8888888888888888, \"#fdca26\"], [1.0, \"#f0f921\"]]}, \"colorway\": [\"#636efa\", \"#EF553B\", \"#00cc96\", \"#ab63fa\", \"#FFA15A\", \"#19d3f3\", \"#FF6692\", \"#B6E880\", \"#FF97FF\", \"#FECB52\"], \"font\": {\"color\": \"#2a3f5f\"}, \"geo\": {\"bgcolor\": \"white\", \"lakecolor\": \"white\", \"landcolor\": \"#E5ECF6\", \"showlakes\": true, \"showland\": true, \"subunitcolor\": \"white\"}, \"hoverlabel\": {\"align\": \"left\"}, \"hovermode\": \"closest\", \"mapbox\": {\"style\": \"light\"}, \"paper_bgcolor\": \"white\", \"plot_bgcolor\": \"#E5ECF6\", \"polar\": {\"angularaxis\": {\"gridcolor\": \"white\", \"linecolor\": \"white\", \"ticks\": \"\"}, \"bgcolor\": \"#E5ECF6\", \"radialaxis\": {\"gridcolor\": \"white\", \"linecolor\": \"white\", \"ticks\": \"\"}}, \"scene\": {\"xaxis\": {\"backgroundcolor\": \"#E5ECF6\", \"gridcolor\": \"white\", \"gridwidth\": 2, \"linecolor\": \"white\", \"showbackground\": true, \"ticks\": \"\", \"zerolinecolor\": \"white\"}, \"yaxis\": {\"backgroundcolor\": \"#E5ECF6\", \"gridcolor\": \"white\", \"gridwidth\": 2, \"linecolor\": \"white\", \"showbackground\": true, \"ticks\": \"\", \"zerolinecolor\": \"white\"}, \"zaxis\": {\"backgroundcolor\": \"#E5ECF6\", \"gridcolor\": \"white\", \"gridwidth\": 2, \"linecolor\": \"white\", \"showbackground\": true, \"ticks\": \"\", \"zerolinecolor\": \"white\"}}, \"shapedefaults\": {\"line\": {\"color\": \"#2a3f5f\"}}, \"ternary\": {\"aaxis\": {\"gridcolor\": \"white\", \"linecolor\": \"white\", \"ticks\": \"\"}, \"baxis\": {\"gridcolor\": \"white\", \"linecolor\": \"white\", \"ticks\": \"\"}, \"bgcolor\": \"#E5ECF6\", \"caxis\": {\"gridcolor\": \"white\", \"linecolor\": \"white\", \"ticks\": \"\"}}, \"title\": {\"x\": 0.05}, \"xaxis\": {\"automargin\": true, \"gridcolor\": \"white\", \"linecolor\": \"white\", \"ticks\": \"\", \"title\": {\"standoff\": 15}, \"zerolinecolor\": \"white\", \"zerolinewidth\": 2}, \"yaxis\": {\"automargin\": true, \"gridcolor\": \"white\", \"linecolor\": \"white\", \"ticks\": \"\", \"title\": {\"standoff\": 15}, \"zerolinecolor\": \"white\", \"zerolinewidth\": 2}}}, \"title\": {\"text\": \"Top 10 states with highest number of Negative cases\"}, \"xaxis\": {\"anchor\": \"y\", \"domain\": [0.0, 1.0], \"title\": {\"text\": \"State\"}}, \"yaxis\": {\"anchor\": \"x\", \"domain\": [0.0, 1.0], \"title\": {\"text\": \"Total Negative cases\"}}},                        {\"responsive\": true}                    ).then(function(){\n",
       "                            \n",
       "var gd = document.getElementById('a6310e52-7a0f-428c-b029-ad628acfe479');\n",
       "var x = new MutationObserver(function (mutations, observer) {{\n",
       "        var display = window.getComputedStyle(gd).display;\n",
       "        if (!display || display === 'none') {{\n",
       "            console.log([gd, 'removed!']);\n",
       "            Plotly.purge(gd);\n",
       "            observer.disconnect();\n",
       "        }}\n",
       "}});\n",
       "\n",
       "// Listen for the removal of the full notebook cells\n",
       "var notebookContainer = gd.closest('#notebook-container');\n",
       "if (notebookContainer) {{\n",
       "    x.observe(notebookContainer, {childList: true});\n",
       "}}\n",
       "\n",
       "// Listen for the clearing of the current output cell\n",
       "var outputEl = gd.closest('.output');\n",
       "if (outputEl) {{\n",
       "    x.observe(outputEl, {childList: true});\n",
       "}}\n",
       "\n",
       "                        })                };                });            </script>        </div>"
      ]
     },
     "metadata": {},
     "output_type": "display_data"
    }
   ],
   "source": [
    "px.bar(x=covid_testing_state.nlargest(10,\"Negative\")[\"State\"],\n",
    "       y = covid_testing_state.nlargest(10,\"Negative\")[\"Negative\"],\n",
    "       labels={'y':'Total Negative cases','x':'State'},\n",
    "       color_discrete_sequence=px.colors.sequential.speed,\n",
    "       title=\"Top 10 states with highest number of Negative cases\")"
   ]
  },
  {
   "cell_type": "code",
   "execution_count": 122,
   "metadata": {},
   "outputs": [
    {
     "data": {
      "application/vnd.plotly.v1+json": {
       "config": {
        "plotlyServerURL": "https://plot.ly"
       },
       "data": [
        {
         "alignmentgroup": "True",
         "hovertemplate": "State=%{x}<br>Total Positive Cases=%{y}<extra></extra>",
         "legendgroup": "",
         "marker": {
          "color": "rgb(0,0,0)"
         },
         "name": "",
         "offsetgroup": "",
         "orientation": "v",
         "showlegend": false,
         "textposition": "auto",
         "type": "bar",
         "x": [
          "Maharashtra",
          "Tamil Nadu",
          "Karnataka",
          "Andhra Pradesh",
          "Delhi",
          "West Bengal",
          "Uttar Pradesh",
          "Telangana",
          "Gujarat",
          "Kerala",
          "Odisha",
          "Bihar",
          "Assam",
          "Haryana",
          "Rajasthan"
         ],
         "xaxis": "x",
         "y": [
          607631,
          367430,
          264546,
          235525,
          151928,
          135596,
          126722,
          124963,
          109627,
          99267,
          97920,
          90553,
          87908,
          76549,
          67954
         ],
         "yaxis": "y"
        }
       ],
       "layout": {
        "barmode": "relative",
        "legend": {
         "tracegroupgap": 0
        },
        "template": {
         "data": {
          "bar": [
           {
            "error_x": {
             "color": "#2a3f5f"
            },
            "error_y": {
             "color": "#2a3f5f"
            },
            "marker": {
             "line": {
              "color": "#E5ECF6",
              "width": 0.5
             }
            },
            "type": "bar"
           }
          ],
          "barpolar": [
           {
            "marker": {
             "line": {
              "color": "#E5ECF6",
              "width": 0.5
             }
            },
            "type": "barpolar"
           }
          ],
          "carpet": [
           {
            "aaxis": {
             "endlinecolor": "#2a3f5f",
             "gridcolor": "white",
             "linecolor": "white",
             "minorgridcolor": "white",
             "startlinecolor": "#2a3f5f"
            },
            "baxis": {
             "endlinecolor": "#2a3f5f",
             "gridcolor": "white",
             "linecolor": "white",
             "minorgridcolor": "white",
             "startlinecolor": "#2a3f5f"
            },
            "type": "carpet"
           }
          ],
          "choropleth": [
           {
            "colorbar": {
             "outlinewidth": 0,
             "ticks": ""
            },
            "type": "choropleth"
           }
          ],
          "contour": [
           {
            "colorbar": {
             "outlinewidth": 0,
             "ticks": ""
            },
            "colorscale": [
             [
              0,
              "#0d0887"
             ],
             [
              0.1111111111111111,
              "#46039f"
             ],
             [
              0.2222222222222222,
              "#7201a8"
             ],
             [
              0.3333333333333333,
              "#9c179e"
             ],
             [
              0.4444444444444444,
              "#bd3786"
             ],
             [
              0.5555555555555556,
              "#d8576b"
             ],
             [
              0.6666666666666666,
              "#ed7953"
             ],
             [
              0.7777777777777778,
              "#fb9f3a"
             ],
             [
              0.8888888888888888,
              "#fdca26"
             ],
             [
              1,
              "#f0f921"
             ]
            ],
            "type": "contour"
           }
          ],
          "contourcarpet": [
           {
            "colorbar": {
             "outlinewidth": 0,
             "ticks": ""
            },
            "type": "contourcarpet"
           }
          ],
          "heatmap": [
           {
            "colorbar": {
             "outlinewidth": 0,
             "ticks": ""
            },
            "colorscale": [
             [
              0,
              "#0d0887"
             ],
             [
              0.1111111111111111,
              "#46039f"
             ],
             [
              0.2222222222222222,
              "#7201a8"
             ],
             [
              0.3333333333333333,
              "#9c179e"
             ],
             [
              0.4444444444444444,
              "#bd3786"
             ],
             [
              0.5555555555555556,
              "#d8576b"
             ],
             [
              0.6666666666666666,
              "#ed7953"
             ],
             [
              0.7777777777777778,
              "#fb9f3a"
             ],
             [
              0.8888888888888888,
              "#fdca26"
             ],
             [
              1,
              "#f0f921"
             ]
            ],
            "type": "heatmap"
           }
          ],
          "heatmapgl": [
           {
            "colorbar": {
             "outlinewidth": 0,
             "ticks": ""
            },
            "colorscale": [
             [
              0,
              "#0d0887"
             ],
             [
              0.1111111111111111,
              "#46039f"
             ],
             [
              0.2222222222222222,
              "#7201a8"
             ],
             [
              0.3333333333333333,
              "#9c179e"
             ],
             [
              0.4444444444444444,
              "#bd3786"
             ],
             [
              0.5555555555555556,
              "#d8576b"
             ],
             [
              0.6666666666666666,
              "#ed7953"
             ],
             [
              0.7777777777777778,
              "#fb9f3a"
             ],
             [
              0.8888888888888888,
              "#fdca26"
             ],
             [
              1,
              "#f0f921"
             ]
            ],
            "type": "heatmapgl"
           }
          ],
          "histogram": [
           {
            "marker": {
             "colorbar": {
              "outlinewidth": 0,
              "ticks": ""
             }
            },
            "type": "histogram"
           }
          ],
          "histogram2d": [
           {
            "colorbar": {
             "outlinewidth": 0,
             "ticks": ""
            },
            "colorscale": [
             [
              0,
              "#0d0887"
             ],
             [
              0.1111111111111111,
              "#46039f"
             ],
             [
              0.2222222222222222,
              "#7201a8"
             ],
             [
              0.3333333333333333,
              "#9c179e"
             ],
             [
              0.4444444444444444,
              "#bd3786"
             ],
             [
              0.5555555555555556,
              "#d8576b"
             ],
             [
              0.6666666666666666,
              "#ed7953"
             ],
             [
              0.7777777777777778,
              "#fb9f3a"
             ],
             [
              0.8888888888888888,
              "#fdca26"
             ],
             [
              1,
              "#f0f921"
             ]
            ],
            "type": "histogram2d"
           }
          ],
          "histogram2dcontour": [
           {
            "colorbar": {
             "outlinewidth": 0,
             "ticks": ""
            },
            "colorscale": [
             [
              0,
              "#0d0887"
             ],
             [
              0.1111111111111111,
              "#46039f"
             ],
             [
              0.2222222222222222,
              "#7201a8"
             ],
             [
              0.3333333333333333,
              "#9c179e"
             ],
             [
              0.4444444444444444,
              "#bd3786"
             ],
             [
              0.5555555555555556,
              "#d8576b"
             ],
             [
              0.6666666666666666,
              "#ed7953"
             ],
             [
              0.7777777777777778,
              "#fb9f3a"
             ],
             [
              0.8888888888888888,
              "#fdca26"
             ],
             [
              1,
              "#f0f921"
             ]
            ],
            "type": "histogram2dcontour"
           }
          ],
          "mesh3d": [
           {
            "colorbar": {
             "outlinewidth": 0,
             "ticks": ""
            },
            "type": "mesh3d"
           }
          ],
          "parcoords": [
           {
            "line": {
             "colorbar": {
              "outlinewidth": 0,
              "ticks": ""
             }
            },
            "type": "parcoords"
           }
          ],
          "pie": [
           {
            "automargin": true,
            "type": "pie"
           }
          ],
          "scatter": [
           {
            "marker": {
             "colorbar": {
              "outlinewidth": 0,
              "ticks": ""
             }
            },
            "type": "scatter"
           }
          ],
          "scatter3d": [
           {
            "line": {
             "colorbar": {
              "outlinewidth": 0,
              "ticks": ""
             }
            },
            "marker": {
             "colorbar": {
              "outlinewidth": 0,
              "ticks": ""
             }
            },
            "type": "scatter3d"
           }
          ],
          "scattercarpet": [
           {
            "marker": {
             "colorbar": {
              "outlinewidth": 0,
              "ticks": ""
             }
            },
            "type": "scattercarpet"
           }
          ],
          "scattergeo": [
           {
            "marker": {
             "colorbar": {
              "outlinewidth": 0,
              "ticks": ""
             }
            },
            "type": "scattergeo"
           }
          ],
          "scattergl": [
           {
            "marker": {
             "colorbar": {
              "outlinewidth": 0,
              "ticks": ""
             }
            },
            "type": "scattergl"
           }
          ],
          "scattermapbox": [
           {
            "marker": {
             "colorbar": {
              "outlinewidth": 0,
              "ticks": ""
             }
            },
            "type": "scattermapbox"
           }
          ],
          "scatterpolar": [
           {
            "marker": {
             "colorbar": {
              "outlinewidth": 0,
              "ticks": ""
             }
            },
            "type": "scatterpolar"
           }
          ],
          "scatterpolargl": [
           {
            "marker": {
             "colorbar": {
              "outlinewidth": 0,
              "ticks": ""
             }
            },
            "type": "scatterpolargl"
           }
          ],
          "scatterternary": [
           {
            "marker": {
             "colorbar": {
              "outlinewidth": 0,
              "ticks": ""
             }
            },
            "type": "scatterternary"
           }
          ],
          "surface": [
           {
            "colorbar": {
             "outlinewidth": 0,
             "ticks": ""
            },
            "colorscale": [
             [
              0,
              "#0d0887"
             ],
             [
              0.1111111111111111,
              "#46039f"
             ],
             [
              0.2222222222222222,
              "#7201a8"
             ],
             [
              0.3333333333333333,
              "#9c179e"
             ],
             [
              0.4444444444444444,
              "#bd3786"
             ],
             [
              0.5555555555555556,
              "#d8576b"
             ],
             [
              0.6666666666666666,
              "#ed7953"
             ],
             [
              0.7777777777777778,
              "#fb9f3a"
             ],
             [
              0.8888888888888888,
              "#fdca26"
             ],
             [
              1,
              "#f0f921"
             ]
            ],
            "type": "surface"
           }
          ],
          "table": [
           {
            "cells": {
             "fill": {
              "color": "#EBF0F8"
             },
             "line": {
              "color": "white"
             }
            },
            "header": {
             "fill": {
              "color": "#C8D4E3"
             },
             "line": {
              "color": "white"
             }
            },
            "type": "table"
           }
          ]
         },
         "layout": {
          "annotationdefaults": {
           "arrowcolor": "#2a3f5f",
           "arrowhead": 0,
           "arrowwidth": 1
          },
          "coloraxis": {
           "colorbar": {
            "outlinewidth": 0,
            "ticks": ""
           }
          },
          "colorscale": {
           "diverging": [
            [
             0,
             "#8e0152"
            ],
            [
             0.1,
             "#c51b7d"
            ],
            [
             0.2,
             "#de77ae"
            ],
            [
             0.3,
             "#f1b6da"
            ],
            [
             0.4,
             "#fde0ef"
            ],
            [
             0.5,
             "#f7f7f7"
            ],
            [
             0.6,
             "#e6f5d0"
            ],
            [
             0.7,
             "#b8e186"
            ],
            [
             0.8,
             "#7fbc41"
            ],
            [
             0.9,
             "#4d9221"
            ],
            [
             1,
             "#276419"
            ]
           ],
           "sequential": [
            [
             0,
             "#0d0887"
            ],
            [
             0.1111111111111111,
             "#46039f"
            ],
            [
             0.2222222222222222,
             "#7201a8"
            ],
            [
             0.3333333333333333,
             "#9c179e"
            ],
            [
             0.4444444444444444,
             "#bd3786"
            ],
            [
             0.5555555555555556,
             "#d8576b"
            ],
            [
             0.6666666666666666,
             "#ed7953"
            ],
            [
             0.7777777777777778,
             "#fb9f3a"
            ],
            [
             0.8888888888888888,
             "#fdca26"
            ],
            [
             1,
             "#f0f921"
            ]
           ],
           "sequentialminus": [
            [
             0,
             "#0d0887"
            ],
            [
             0.1111111111111111,
             "#46039f"
            ],
            [
             0.2222222222222222,
             "#7201a8"
            ],
            [
             0.3333333333333333,
             "#9c179e"
            ],
            [
             0.4444444444444444,
             "#bd3786"
            ],
            [
             0.5555555555555556,
             "#d8576b"
            ],
            [
             0.6666666666666666,
             "#ed7953"
            ],
            [
             0.7777777777777778,
             "#fb9f3a"
            ],
            [
             0.8888888888888888,
             "#fdca26"
            ],
            [
             1,
             "#f0f921"
            ]
           ]
          },
          "colorway": [
           "#636efa",
           "#EF553B",
           "#00cc96",
           "#ab63fa",
           "#FFA15A",
           "#19d3f3",
           "#FF6692",
           "#B6E880",
           "#FF97FF",
           "#FECB52"
          ],
          "font": {
           "color": "#2a3f5f"
          },
          "geo": {
           "bgcolor": "white",
           "lakecolor": "white",
           "landcolor": "#E5ECF6",
           "showlakes": true,
           "showland": true,
           "subunitcolor": "white"
          },
          "hoverlabel": {
           "align": "left"
          },
          "hovermode": "closest",
          "mapbox": {
           "style": "light"
          },
          "paper_bgcolor": "white",
          "plot_bgcolor": "#E5ECF6",
          "polar": {
           "angularaxis": {
            "gridcolor": "white",
            "linecolor": "white",
            "ticks": ""
           },
           "bgcolor": "#E5ECF6",
           "radialaxis": {
            "gridcolor": "white",
            "linecolor": "white",
            "ticks": ""
           }
          },
          "scene": {
           "xaxis": {
            "backgroundcolor": "#E5ECF6",
            "gridcolor": "white",
            "gridwidth": 2,
            "linecolor": "white",
            "showbackground": true,
            "ticks": "",
            "zerolinecolor": "white"
           },
           "yaxis": {
            "backgroundcolor": "#E5ECF6",
            "gridcolor": "white",
            "gridwidth": 2,
            "linecolor": "white",
            "showbackground": true,
            "ticks": "",
            "zerolinecolor": "white"
           },
           "zaxis": {
            "backgroundcolor": "#E5ECF6",
            "gridcolor": "white",
            "gridwidth": 2,
            "linecolor": "white",
            "showbackground": true,
            "ticks": "",
            "zerolinecolor": "white"
           }
          },
          "shapedefaults": {
           "line": {
            "color": "#2a3f5f"
           }
          },
          "ternary": {
           "aaxis": {
            "gridcolor": "white",
            "linecolor": "white",
            "ticks": ""
           },
           "baxis": {
            "gridcolor": "white",
            "linecolor": "white",
            "ticks": ""
           },
           "bgcolor": "#E5ECF6",
           "caxis": {
            "gridcolor": "white",
            "linecolor": "white",
            "ticks": ""
           }
          },
          "title": {
           "x": 0.05
          },
          "xaxis": {
           "automargin": true,
           "gridcolor": "white",
           "linecolor": "white",
           "ticks": "",
           "title": {
            "standoff": 15
           },
           "zerolinecolor": "white",
           "zerolinewidth": 2
          },
          "yaxis": {
           "automargin": true,
           "gridcolor": "white",
           "linecolor": "white",
           "ticks": "",
           "title": {
            "standoff": 15
           },
           "zerolinecolor": "white",
           "zerolinewidth": 2
          }
         }
        },
        "title": {
         "text": "Top 15 states with highest number of Positive cases"
        },
        "xaxis": {
         "anchor": "y",
         "domain": [
          0,
          1
         ],
         "title": {
          "text": "State"
         }
        },
        "yaxis": {
         "anchor": "x",
         "domain": [
          0,
          1
         ],
         "title": {
          "text": "Total Positive Cases"
         }
        }
       }
      },
      "text/html": [
       "<div>                            <div id=\"cc553738-4a26-46af-8f4e-ac1869a5e781\" class=\"plotly-graph-div\" style=\"height:525px; width:100%;\"></div>            <script type=\"text/javascript\">                require([\"plotly\"], function(Plotly) {                    window.PLOTLYENV=window.PLOTLYENV || {};                                    if (document.getElementById(\"cc553738-4a26-46af-8f4e-ac1869a5e781\")) {                    Plotly.newPlot(                        \"cc553738-4a26-46af-8f4e-ac1869a5e781\",                        [{\"alignmentgroup\": \"True\", \"hovertemplate\": \"State=%{x}<br>Total Positive Cases=%{y}<extra></extra>\", \"legendgroup\": \"\", \"marker\": {\"color\": \"rgb(0,0,0)\"}, \"name\": \"\", \"offsetgroup\": \"\", \"orientation\": \"v\", \"showlegend\": false, \"textposition\": \"auto\", \"type\": \"bar\", \"x\": [\"Maharashtra\", \"Tamil Nadu\", \"Karnataka\", \"Andhra Pradesh\", \"Delhi\", \"West Bengal\", \"Uttar Pradesh\", \"Telangana\", \"Gujarat\", \"Kerala\", \"Odisha\", \"Bihar\", \"Assam\", \"Haryana\", \"Rajasthan\"], \"xaxis\": \"x\", \"y\": [607631.0, 367430.0, 264546.0, 235525.0, 151928.0, 135596.0, 126722.0, 124963.0, 109627.0, 99267.0, 97920.0, 90553.0, 87908.0, 76549.0, 67954.0], \"yaxis\": \"y\"}],                        {\"barmode\": \"relative\", \"legend\": {\"tracegroupgap\": 0}, \"template\": {\"data\": {\"bar\": [{\"error_x\": {\"color\": \"#2a3f5f\"}, \"error_y\": {\"color\": \"#2a3f5f\"}, \"marker\": {\"line\": {\"color\": \"#E5ECF6\", \"width\": 0.5}}, \"type\": \"bar\"}], \"barpolar\": [{\"marker\": {\"line\": {\"color\": \"#E5ECF6\", \"width\": 0.5}}, \"type\": \"barpolar\"}], \"carpet\": [{\"aaxis\": {\"endlinecolor\": \"#2a3f5f\", \"gridcolor\": \"white\", \"linecolor\": \"white\", \"minorgridcolor\": \"white\", \"startlinecolor\": \"#2a3f5f\"}, \"baxis\": {\"endlinecolor\": \"#2a3f5f\", \"gridcolor\": \"white\", \"linecolor\": \"white\", \"minorgridcolor\": \"white\", \"startlinecolor\": \"#2a3f5f\"}, \"type\": \"carpet\"}], \"choropleth\": [{\"colorbar\": {\"outlinewidth\": 0, \"ticks\": \"\"}, \"type\": \"choropleth\"}], \"contour\": [{\"colorbar\": {\"outlinewidth\": 0, \"ticks\": \"\"}, \"colorscale\": [[0.0, \"#0d0887\"], [0.1111111111111111, \"#46039f\"], [0.2222222222222222, \"#7201a8\"], [0.3333333333333333, \"#9c179e\"], [0.4444444444444444, \"#bd3786\"], [0.5555555555555556, \"#d8576b\"], [0.6666666666666666, \"#ed7953\"], [0.7777777777777778, \"#fb9f3a\"], [0.8888888888888888, \"#fdca26\"], [1.0, \"#f0f921\"]], \"type\": \"contour\"}], \"contourcarpet\": [{\"colorbar\": {\"outlinewidth\": 0, \"ticks\": \"\"}, \"type\": \"contourcarpet\"}], \"heatmap\": [{\"colorbar\": {\"outlinewidth\": 0, \"ticks\": \"\"}, \"colorscale\": [[0.0, \"#0d0887\"], [0.1111111111111111, \"#46039f\"], [0.2222222222222222, \"#7201a8\"], [0.3333333333333333, \"#9c179e\"], [0.4444444444444444, \"#bd3786\"], [0.5555555555555556, \"#d8576b\"], [0.6666666666666666, \"#ed7953\"], [0.7777777777777778, \"#fb9f3a\"], [0.8888888888888888, \"#fdca26\"], [1.0, \"#f0f921\"]], \"type\": \"heatmap\"}], \"heatmapgl\": [{\"colorbar\": {\"outlinewidth\": 0, \"ticks\": \"\"}, \"colorscale\": [[0.0, \"#0d0887\"], [0.1111111111111111, \"#46039f\"], [0.2222222222222222, \"#7201a8\"], [0.3333333333333333, \"#9c179e\"], [0.4444444444444444, \"#bd3786\"], [0.5555555555555556, \"#d8576b\"], [0.6666666666666666, \"#ed7953\"], [0.7777777777777778, \"#fb9f3a\"], [0.8888888888888888, \"#fdca26\"], [1.0, \"#f0f921\"]], \"type\": \"heatmapgl\"}], \"histogram\": [{\"marker\": {\"colorbar\": {\"outlinewidth\": 0, \"ticks\": \"\"}}, \"type\": \"histogram\"}], \"histogram2d\": [{\"colorbar\": {\"outlinewidth\": 0, \"ticks\": \"\"}, \"colorscale\": [[0.0, \"#0d0887\"], [0.1111111111111111, \"#46039f\"], [0.2222222222222222, \"#7201a8\"], [0.3333333333333333, \"#9c179e\"], [0.4444444444444444, \"#bd3786\"], [0.5555555555555556, \"#d8576b\"], [0.6666666666666666, \"#ed7953\"], [0.7777777777777778, \"#fb9f3a\"], [0.8888888888888888, \"#fdca26\"], [1.0, \"#f0f921\"]], \"type\": \"histogram2d\"}], \"histogram2dcontour\": [{\"colorbar\": {\"outlinewidth\": 0, \"ticks\": \"\"}, \"colorscale\": [[0.0, \"#0d0887\"], [0.1111111111111111, \"#46039f\"], [0.2222222222222222, \"#7201a8\"], [0.3333333333333333, \"#9c179e\"], [0.4444444444444444, \"#bd3786\"], [0.5555555555555556, \"#d8576b\"], [0.6666666666666666, \"#ed7953\"], [0.7777777777777778, \"#fb9f3a\"], [0.8888888888888888, \"#fdca26\"], [1.0, \"#f0f921\"]], \"type\": \"histogram2dcontour\"}], \"mesh3d\": [{\"colorbar\": {\"outlinewidth\": 0, \"ticks\": \"\"}, \"type\": \"mesh3d\"}], \"parcoords\": [{\"line\": {\"colorbar\": {\"outlinewidth\": 0, \"ticks\": \"\"}}, \"type\": \"parcoords\"}], \"pie\": [{\"automargin\": true, \"type\": \"pie\"}], \"scatter\": [{\"marker\": {\"colorbar\": {\"outlinewidth\": 0, \"ticks\": \"\"}}, \"type\": \"scatter\"}], \"scatter3d\": [{\"line\": {\"colorbar\": {\"outlinewidth\": 0, \"ticks\": \"\"}}, \"marker\": {\"colorbar\": {\"outlinewidth\": 0, \"ticks\": \"\"}}, \"type\": \"scatter3d\"}], \"scattercarpet\": [{\"marker\": {\"colorbar\": {\"outlinewidth\": 0, \"ticks\": \"\"}}, \"type\": \"scattercarpet\"}], \"scattergeo\": [{\"marker\": {\"colorbar\": {\"outlinewidth\": 0, \"ticks\": \"\"}}, \"type\": \"scattergeo\"}], \"scattergl\": [{\"marker\": {\"colorbar\": {\"outlinewidth\": 0, \"ticks\": \"\"}}, \"type\": \"scattergl\"}], \"scattermapbox\": [{\"marker\": {\"colorbar\": {\"outlinewidth\": 0, \"ticks\": \"\"}}, \"type\": \"scattermapbox\"}], \"scatterpolar\": [{\"marker\": {\"colorbar\": {\"outlinewidth\": 0, \"ticks\": \"\"}}, \"type\": \"scatterpolar\"}], \"scatterpolargl\": [{\"marker\": {\"colorbar\": {\"outlinewidth\": 0, \"ticks\": \"\"}}, \"type\": \"scatterpolargl\"}], \"scatterternary\": [{\"marker\": {\"colorbar\": {\"outlinewidth\": 0, \"ticks\": \"\"}}, \"type\": \"scatterternary\"}], \"surface\": [{\"colorbar\": {\"outlinewidth\": 0, \"ticks\": \"\"}, \"colorscale\": [[0.0, \"#0d0887\"], [0.1111111111111111, \"#46039f\"], [0.2222222222222222, \"#7201a8\"], [0.3333333333333333, \"#9c179e\"], [0.4444444444444444, \"#bd3786\"], [0.5555555555555556, \"#d8576b\"], [0.6666666666666666, \"#ed7953\"], [0.7777777777777778, \"#fb9f3a\"], [0.8888888888888888, \"#fdca26\"], [1.0, \"#f0f921\"]], \"type\": \"surface\"}], \"table\": [{\"cells\": {\"fill\": {\"color\": \"#EBF0F8\"}, \"line\": {\"color\": \"white\"}}, \"header\": {\"fill\": {\"color\": \"#C8D4E3\"}, \"line\": {\"color\": \"white\"}}, \"type\": \"table\"}]}, \"layout\": {\"annotationdefaults\": {\"arrowcolor\": \"#2a3f5f\", \"arrowhead\": 0, \"arrowwidth\": 1}, \"coloraxis\": {\"colorbar\": {\"outlinewidth\": 0, \"ticks\": \"\"}}, \"colorscale\": {\"diverging\": [[0, \"#8e0152\"], [0.1, \"#c51b7d\"], [0.2, \"#de77ae\"], [0.3, \"#f1b6da\"], [0.4, \"#fde0ef\"], [0.5, \"#f7f7f7\"], [0.6, \"#e6f5d0\"], [0.7, \"#b8e186\"], [0.8, \"#7fbc41\"], [0.9, \"#4d9221\"], [1, \"#276419\"]], \"sequential\": [[0.0, \"#0d0887\"], [0.1111111111111111, \"#46039f\"], [0.2222222222222222, \"#7201a8\"], [0.3333333333333333, \"#9c179e\"], [0.4444444444444444, \"#bd3786\"], [0.5555555555555556, \"#d8576b\"], [0.6666666666666666, \"#ed7953\"], [0.7777777777777778, \"#fb9f3a\"], [0.8888888888888888, \"#fdca26\"], [1.0, \"#f0f921\"]], \"sequentialminus\": [[0.0, \"#0d0887\"], [0.1111111111111111, \"#46039f\"], [0.2222222222222222, \"#7201a8\"], [0.3333333333333333, \"#9c179e\"], [0.4444444444444444, \"#bd3786\"], [0.5555555555555556, \"#d8576b\"], [0.6666666666666666, \"#ed7953\"], [0.7777777777777778, \"#fb9f3a\"], [0.8888888888888888, \"#fdca26\"], [1.0, \"#f0f921\"]]}, \"colorway\": [\"#636efa\", \"#EF553B\", \"#00cc96\", \"#ab63fa\", \"#FFA15A\", \"#19d3f3\", \"#FF6692\", \"#B6E880\", \"#FF97FF\", \"#FECB52\"], \"font\": {\"color\": \"#2a3f5f\"}, \"geo\": {\"bgcolor\": \"white\", \"lakecolor\": \"white\", \"landcolor\": \"#E5ECF6\", \"showlakes\": true, \"showland\": true, \"subunitcolor\": \"white\"}, \"hoverlabel\": {\"align\": \"left\"}, \"hovermode\": \"closest\", \"mapbox\": {\"style\": \"light\"}, \"paper_bgcolor\": \"white\", \"plot_bgcolor\": \"#E5ECF6\", \"polar\": {\"angularaxis\": {\"gridcolor\": \"white\", \"linecolor\": \"white\", \"ticks\": \"\"}, \"bgcolor\": \"#E5ECF6\", \"radialaxis\": {\"gridcolor\": \"white\", \"linecolor\": \"white\", \"ticks\": \"\"}}, \"scene\": {\"xaxis\": {\"backgroundcolor\": \"#E5ECF6\", \"gridcolor\": \"white\", \"gridwidth\": 2, \"linecolor\": \"white\", \"showbackground\": true, \"ticks\": \"\", \"zerolinecolor\": \"white\"}, \"yaxis\": {\"backgroundcolor\": \"#E5ECF6\", \"gridcolor\": \"white\", \"gridwidth\": 2, \"linecolor\": \"white\", \"showbackground\": true, \"ticks\": \"\", \"zerolinecolor\": \"white\"}, \"zaxis\": {\"backgroundcolor\": \"#E5ECF6\", \"gridcolor\": \"white\", \"gridwidth\": 2, \"linecolor\": \"white\", \"showbackground\": true, \"ticks\": \"\", \"zerolinecolor\": \"white\"}}, \"shapedefaults\": {\"line\": {\"color\": \"#2a3f5f\"}}, \"ternary\": {\"aaxis\": {\"gridcolor\": \"white\", \"linecolor\": \"white\", \"ticks\": \"\"}, \"baxis\": {\"gridcolor\": \"white\", \"linecolor\": \"white\", \"ticks\": \"\"}, \"bgcolor\": \"#E5ECF6\", \"caxis\": {\"gridcolor\": \"white\", \"linecolor\": \"white\", \"ticks\": \"\"}}, \"title\": {\"x\": 0.05}, \"xaxis\": {\"automargin\": true, \"gridcolor\": \"white\", \"linecolor\": \"white\", \"ticks\": \"\", \"title\": {\"standoff\": 15}, \"zerolinecolor\": \"white\", \"zerolinewidth\": 2}, \"yaxis\": {\"automargin\": true, \"gridcolor\": \"white\", \"linecolor\": \"white\", \"ticks\": \"\", \"title\": {\"standoff\": 15}, \"zerolinecolor\": \"white\", \"zerolinewidth\": 2}}}, \"title\": {\"text\": \"Top 15 states with highest number of Positive cases\"}, \"xaxis\": {\"anchor\": \"y\", \"domain\": [0.0, 1.0], \"title\": {\"text\": \"State\"}}, \"yaxis\": {\"anchor\": \"x\", \"domain\": [0.0, 1.0], \"title\": {\"text\": \"Total Positive Cases\"}}},                        {\"responsive\": true}                    ).then(function(){\n",
       "                            \n",
       "var gd = document.getElementById('cc553738-4a26-46af-8f4e-ac1869a5e781');\n",
       "var x = new MutationObserver(function (mutations, observer) {{\n",
       "        var display = window.getComputedStyle(gd).display;\n",
       "        if (!display || display === 'none') {{\n",
       "            console.log([gd, 'removed!']);\n",
       "            Plotly.purge(gd);\n",
       "            observer.disconnect();\n",
       "        }}\n",
       "}});\n",
       "\n",
       "// Listen for the removal of the full notebook cells\n",
       "var notebookContainer = gd.closest('#notebook-container');\n",
       "if (notebookContainer) {{\n",
       "    x.observe(notebookContainer, {childList: true});\n",
       "}}\n",
       "\n",
       "// Listen for the clearing of the current output cell\n",
       "var outputEl = gd.closest('.output');\n",
       "if (outputEl) {{\n",
       "    x.observe(outputEl, {childList: true});\n",
       "}}\n",
       "\n",
       "                        })                };                });            </script>        </div>"
      ]
     },
     "metadata": {},
     "output_type": "display_data"
    }
   ],
   "source": [
    "px.bar(x=covid_testing_state.nlargest(15,\"Positive\")[\"State\"],\n",
    "       y = covid_testing_state.nlargest(15,\"Positive\")[\"Positive\"],\n",
    "       labels={'y':'Total Positive Cases','x':'State'},\n",
    "       color_discrete_sequence=px.colors.sequential.Blackbody,\n",
    "       title=\"Top 15 states with highest number of Positive cases\")"
   ]
  },
  {
   "cell_type": "code",
   "execution_count": 123,
   "metadata": {},
   "outputs": [
    {
     "data": {
      "application/vnd.plotly.v1+json": {
       "config": {
        "plotlyServerURL": "https://plot.ly"
       },
       "data": [
        {
         "alignmentgroup": "True",
         "hovertemplate": "State=%{x}<br>Positive Percentage=%{y}<extra></extra>",
         "legendgroup": "",
         "marker": {
          "color": "rgb(36, 86, 104)"
         },
         "name": "",
         "offsetgroup": "",
         "orientation": "v",
         "showlegend": false,
         "textposition": "auto",
         "type": "bar",
         "x": [
          "Arunachal Pradesh",
          "Andhra Pradesh",
          "Assam",
          "Andaman and Nicobar Islands",
          "Bihar",
          "Chandigarh",
          "Chhattisgarh",
          "Dadra and Nagar Haveli and Daman and Diu",
          "Delhi",
          "Goa",
          "Gujarat",
          "Haryana",
          "Himachal Pradesh",
          "Jammu and Kashmir",
          "Jharkhand"
         ],
         "xaxis": "x",
         "y": [
          1.1587078651685394,
          1.007838745800672,
          0.8790623335109218,
          0.8553100498930863,
          0.4942339373970346,
          0.47379755922469485,
          0.465970064953403,
          0.46044370029300963,
          0.45435770342833537,
          0.4503889722942541,
          0.4503889722942541,
          0.4481868803476844,
          0.4430719656283566,
          0.44005867448993197,
          0.43888815001994946
         ],
         "yaxis": "y"
        }
       ],
       "layout": {
        "barmode": "relative",
        "height": 800,
        "legend": {
         "tracegroupgap": 0
        },
        "template": {
         "data": {
          "bar": [
           {
            "error_x": {
             "color": "#2a3f5f"
            },
            "error_y": {
             "color": "#2a3f5f"
            },
            "marker": {
             "line": {
              "color": "#E5ECF6",
              "width": 0.5
             }
            },
            "type": "bar"
           }
          ],
          "barpolar": [
           {
            "marker": {
             "line": {
              "color": "#E5ECF6",
              "width": 0.5
             }
            },
            "type": "barpolar"
           }
          ],
          "carpet": [
           {
            "aaxis": {
             "endlinecolor": "#2a3f5f",
             "gridcolor": "white",
             "linecolor": "white",
             "minorgridcolor": "white",
             "startlinecolor": "#2a3f5f"
            },
            "baxis": {
             "endlinecolor": "#2a3f5f",
             "gridcolor": "white",
             "linecolor": "white",
             "minorgridcolor": "white",
             "startlinecolor": "#2a3f5f"
            },
            "type": "carpet"
           }
          ],
          "choropleth": [
           {
            "colorbar": {
             "outlinewidth": 0,
             "ticks": ""
            },
            "type": "choropleth"
           }
          ],
          "contour": [
           {
            "colorbar": {
             "outlinewidth": 0,
             "ticks": ""
            },
            "colorscale": [
             [
              0,
              "#0d0887"
             ],
             [
              0.1111111111111111,
              "#46039f"
             ],
             [
              0.2222222222222222,
              "#7201a8"
             ],
             [
              0.3333333333333333,
              "#9c179e"
             ],
             [
              0.4444444444444444,
              "#bd3786"
             ],
             [
              0.5555555555555556,
              "#d8576b"
             ],
             [
              0.6666666666666666,
              "#ed7953"
             ],
             [
              0.7777777777777778,
              "#fb9f3a"
             ],
             [
              0.8888888888888888,
              "#fdca26"
             ],
             [
              1,
              "#f0f921"
             ]
            ],
            "type": "contour"
           }
          ],
          "contourcarpet": [
           {
            "colorbar": {
             "outlinewidth": 0,
             "ticks": ""
            },
            "type": "contourcarpet"
           }
          ],
          "heatmap": [
           {
            "colorbar": {
             "outlinewidth": 0,
             "ticks": ""
            },
            "colorscale": [
             [
              0,
              "#0d0887"
             ],
             [
              0.1111111111111111,
              "#46039f"
             ],
             [
              0.2222222222222222,
              "#7201a8"
             ],
             [
              0.3333333333333333,
              "#9c179e"
             ],
             [
              0.4444444444444444,
              "#bd3786"
             ],
             [
              0.5555555555555556,
              "#d8576b"
             ],
             [
              0.6666666666666666,
              "#ed7953"
             ],
             [
              0.7777777777777778,
              "#fb9f3a"
             ],
             [
              0.8888888888888888,
              "#fdca26"
             ],
             [
              1,
              "#f0f921"
             ]
            ],
            "type": "heatmap"
           }
          ],
          "heatmapgl": [
           {
            "colorbar": {
             "outlinewidth": 0,
             "ticks": ""
            },
            "colorscale": [
             [
              0,
              "#0d0887"
             ],
             [
              0.1111111111111111,
              "#46039f"
             ],
             [
              0.2222222222222222,
              "#7201a8"
             ],
             [
              0.3333333333333333,
              "#9c179e"
             ],
             [
              0.4444444444444444,
              "#bd3786"
             ],
             [
              0.5555555555555556,
              "#d8576b"
             ],
             [
              0.6666666666666666,
              "#ed7953"
             ],
             [
              0.7777777777777778,
              "#fb9f3a"
             ],
             [
              0.8888888888888888,
              "#fdca26"
             ],
             [
              1,
              "#f0f921"
             ]
            ],
            "type": "heatmapgl"
           }
          ],
          "histogram": [
           {
            "marker": {
             "colorbar": {
              "outlinewidth": 0,
              "ticks": ""
             }
            },
            "type": "histogram"
           }
          ],
          "histogram2d": [
           {
            "colorbar": {
             "outlinewidth": 0,
             "ticks": ""
            },
            "colorscale": [
             [
              0,
              "#0d0887"
             ],
             [
              0.1111111111111111,
              "#46039f"
             ],
             [
              0.2222222222222222,
              "#7201a8"
             ],
             [
              0.3333333333333333,
              "#9c179e"
             ],
             [
              0.4444444444444444,
              "#bd3786"
             ],
             [
              0.5555555555555556,
              "#d8576b"
             ],
             [
              0.6666666666666666,
              "#ed7953"
             ],
             [
              0.7777777777777778,
              "#fb9f3a"
             ],
             [
              0.8888888888888888,
              "#fdca26"
             ],
             [
              1,
              "#f0f921"
             ]
            ],
            "type": "histogram2d"
           }
          ],
          "histogram2dcontour": [
           {
            "colorbar": {
             "outlinewidth": 0,
             "ticks": ""
            },
            "colorscale": [
             [
              0,
              "#0d0887"
             ],
             [
              0.1111111111111111,
              "#46039f"
             ],
             [
              0.2222222222222222,
              "#7201a8"
             ],
             [
              0.3333333333333333,
              "#9c179e"
             ],
             [
              0.4444444444444444,
              "#bd3786"
             ],
             [
              0.5555555555555556,
              "#d8576b"
             ],
             [
              0.6666666666666666,
              "#ed7953"
             ],
             [
              0.7777777777777778,
              "#fb9f3a"
             ],
             [
              0.8888888888888888,
              "#fdca26"
             ],
             [
              1,
              "#f0f921"
             ]
            ],
            "type": "histogram2dcontour"
           }
          ],
          "mesh3d": [
           {
            "colorbar": {
             "outlinewidth": 0,
             "ticks": ""
            },
            "type": "mesh3d"
           }
          ],
          "parcoords": [
           {
            "line": {
             "colorbar": {
              "outlinewidth": 0,
              "ticks": ""
             }
            },
            "type": "parcoords"
           }
          ],
          "pie": [
           {
            "automargin": true,
            "type": "pie"
           }
          ],
          "scatter": [
           {
            "marker": {
             "colorbar": {
              "outlinewidth": 0,
              "ticks": ""
             }
            },
            "type": "scatter"
           }
          ],
          "scatter3d": [
           {
            "line": {
             "colorbar": {
              "outlinewidth": 0,
              "ticks": ""
             }
            },
            "marker": {
             "colorbar": {
              "outlinewidth": 0,
              "ticks": ""
             }
            },
            "type": "scatter3d"
           }
          ],
          "scattercarpet": [
           {
            "marker": {
             "colorbar": {
              "outlinewidth": 0,
              "ticks": ""
             }
            },
            "type": "scattercarpet"
           }
          ],
          "scattergeo": [
           {
            "marker": {
             "colorbar": {
              "outlinewidth": 0,
              "ticks": ""
             }
            },
            "type": "scattergeo"
           }
          ],
          "scattergl": [
           {
            "marker": {
             "colorbar": {
              "outlinewidth": 0,
              "ticks": ""
             }
            },
            "type": "scattergl"
           }
          ],
          "scattermapbox": [
           {
            "marker": {
             "colorbar": {
              "outlinewidth": 0,
              "ticks": ""
             }
            },
            "type": "scattermapbox"
           }
          ],
          "scatterpolar": [
           {
            "marker": {
             "colorbar": {
              "outlinewidth": 0,
              "ticks": ""
             }
            },
            "type": "scatterpolar"
           }
          ],
          "scatterpolargl": [
           {
            "marker": {
             "colorbar": {
              "outlinewidth": 0,
              "ticks": ""
             }
            },
            "type": "scatterpolargl"
           }
          ],
          "scatterternary": [
           {
            "marker": {
             "colorbar": {
              "outlinewidth": 0,
              "ticks": ""
             }
            },
            "type": "scatterternary"
           }
          ],
          "surface": [
           {
            "colorbar": {
             "outlinewidth": 0,
             "ticks": ""
            },
            "colorscale": [
             [
              0,
              "#0d0887"
             ],
             [
              0.1111111111111111,
              "#46039f"
             ],
             [
              0.2222222222222222,
              "#7201a8"
             ],
             [
              0.3333333333333333,
              "#9c179e"
             ],
             [
              0.4444444444444444,
              "#bd3786"
             ],
             [
              0.5555555555555556,
              "#d8576b"
             ],
             [
              0.6666666666666666,
              "#ed7953"
             ],
             [
              0.7777777777777778,
              "#fb9f3a"
             ],
             [
              0.8888888888888888,
              "#fdca26"
             ],
             [
              1,
              "#f0f921"
             ]
            ],
            "type": "surface"
           }
          ],
          "table": [
           {
            "cells": {
             "fill": {
              "color": "#EBF0F8"
             },
             "line": {
              "color": "white"
             }
            },
            "header": {
             "fill": {
              "color": "#C8D4E3"
             },
             "line": {
              "color": "white"
             }
            },
            "type": "table"
           }
          ]
         },
         "layout": {
          "annotationdefaults": {
           "arrowcolor": "#2a3f5f",
           "arrowhead": 0,
           "arrowwidth": 1
          },
          "coloraxis": {
           "colorbar": {
            "outlinewidth": 0,
            "ticks": ""
           }
          },
          "colorscale": {
           "diverging": [
            [
             0,
             "#8e0152"
            ],
            [
             0.1,
             "#c51b7d"
            ],
            [
             0.2,
             "#de77ae"
            ],
            [
             0.3,
             "#f1b6da"
            ],
            [
             0.4,
             "#fde0ef"
            ],
            [
             0.5,
             "#f7f7f7"
            ],
            [
             0.6,
             "#e6f5d0"
            ],
            [
             0.7,
             "#b8e186"
            ],
            [
             0.8,
             "#7fbc41"
            ],
            [
             0.9,
             "#4d9221"
            ],
            [
             1,
             "#276419"
            ]
           ],
           "sequential": [
            [
             0,
             "#0d0887"
            ],
            [
             0.1111111111111111,
             "#46039f"
            ],
            [
             0.2222222222222222,
             "#7201a8"
            ],
            [
             0.3333333333333333,
             "#9c179e"
            ],
            [
             0.4444444444444444,
             "#bd3786"
            ],
            [
             0.5555555555555556,
             "#d8576b"
            ],
            [
             0.6666666666666666,
             "#ed7953"
            ],
            [
             0.7777777777777778,
             "#fb9f3a"
            ],
            [
             0.8888888888888888,
             "#fdca26"
            ],
            [
             1,
             "#f0f921"
            ]
           ],
           "sequentialminus": [
            [
             0,
             "#0d0887"
            ],
            [
             0.1111111111111111,
             "#46039f"
            ],
            [
             0.2222222222222222,
             "#7201a8"
            ],
            [
             0.3333333333333333,
             "#9c179e"
            ],
            [
             0.4444444444444444,
             "#bd3786"
            ],
            [
             0.5555555555555556,
             "#d8576b"
            ],
            [
             0.6666666666666666,
             "#ed7953"
            ],
            [
             0.7777777777777778,
             "#fb9f3a"
            ],
            [
             0.8888888888888888,
             "#fdca26"
            ],
            [
             1,
             "#f0f921"
            ]
           ]
          },
          "colorway": [
           "#636efa",
           "#EF553B",
           "#00cc96",
           "#ab63fa",
           "#FFA15A",
           "#19d3f3",
           "#FF6692",
           "#B6E880",
           "#FF97FF",
           "#FECB52"
          ],
          "font": {
           "color": "#2a3f5f"
          },
          "geo": {
           "bgcolor": "white",
           "lakecolor": "white",
           "landcolor": "#E5ECF6",
           "showlakes": true,
           "showland": true,
           "subunitcolor": "white"
          },
          "hoverlabel": {
           "align": "left"
          },
          "hovermode": "closest",
          "mapbox": {
           "style": "light"
          },
          "paper_bgcolor": "white",
          "plot_bgcolor": "#E5ECF6",
          "polar": {
           "angularaxis": {
            "gridcolor": "white",
            "linecolor": "white",
            "ticks": ""
           },
           "bgcolor": "#E5ECF6",
           "radialaxis": {
            "gridcolor": "white",
            "linecolor": "white",
            "ticks": ""
           }
          },
          "scene": {
           "xaxis": {
            "backgroundcolor": "#E5ECF6",
            "gridcolor": "white",
            "gridwidth": 2,
            "linecolor": "white",
            "showbackground": true,
            "ticks": "",
            "zerolinecolor": "white"
           },
           "yaxis": {
            "backgroundcolor": "#E5ECF6",
            "gridcolor": "white",
            "gridwidth": 2,
            "linecolor": "white",
            "showbackground": true,
            "ticks": "",
            "zerolinecolor": "white"
           },
           "zaxis": {
            "backgroundcolor": "#E5ECF6",
            "gridcolor": "white",
            "gridwidth": 2,
            "linecolor": "white",
            "showbackground": true,
            "ticks": "",
            "zerolinecolor": "white"
           }
          },
          "shapedefaults": {
           "line": {
            "color": "#2a3f5f"
           }
          },
          "ternary": {
           "aaxis": {
            "gridcolor": "white",
            "linecolor": "white",
            "ticks": ""
           },
           "baxis": {
            "gridcolor": "white",
            "linecolor": "white",
            "ticks": ""
           },
           "bgcolor": "#E5ECF6",
           "caxis": {
            "gridcolor": "white",
            "linecolor": "white",
            "ticks": ""
           }
          },
          "title": {
           "x": 0.05
          },
          "xaxis": {
           "automargin": true,
           "gridcolor": "white",
           "linecolor": "white",
           "ticks": "",
           "title": {
            "standoff": 15
           },
           "zerolinecolor": "white",
           "zerolinewidth": 2
          },
          "yaxis": {
           "automargin": true,
           "gridcolor": "white",
           "linecolor": "white",
           "ticks": "",
           "title": {
            "standoff": 15
           },
           "zerolinecolor": "white",
           "zerolinewidth": 2
          }
         }
        },
        "title": {
         "text": "Top 15 states with highest Positive percentage"
        },
        "xaxis": {
         "anchor": "y",
         "domain": [
          0,
          1
         ],
         "title": {
          "text": "State"
         }
        },
        "yaxis": {
         "anchor": "x",
         "domain": [
          0,
          1
         ],
         "title": {
          "text": "Positive Percentage"
         }
        }
       }
      },
      "text/html": [
       "<div>                            <div id=\"1f11748a-e3f5-4bf8-a135-7f9d9f39e461\" class=\"plotly-graph-div\" style=\"height:800px; width:100%;\"></div>            <script type=\"text/javascript\">                require([\"plotly\"], function(Plotly) {                    window.PLOTLYENV=window.PLOTLYENV || {};                                    if (document.getElementById(\"1f11748a-e3f5-4bf8-a135-7f9d9f39e461\")) {                    Plotly.newPlot(                        \"1f11748a-e3f5-4bf8-a135-7f9d9f39e461\",                        [{\"alignmentgroup\": \"True\", \"hovertemplate\": \"State=%{x}<br>Positive Percentage=%{y}<extra></extra>\", \"legendgroup\": \"\", \"marker\": {\"color\": \"rgb(36, 86, 104)\"}, \"name\": \"\", \"offsetgroup\": \"\", \"orientation\": \"v\", \"showlegend\": false, \"textposition\": \"auto\", \"type\": \"bar\", \"x\": [\"Arunachal Pradesh\", \"Andhra Pradesh\", \"Assam\", \"Andaman and Nicobar Islands\", \"Bihar\", \"Chandigarh\", \"Chhattisgarh\", \"Dadra and Nagar Haveli and Daman and Diu\", \"Delhi\", \"Goa\", \"Gujarat\", \"Haryana\", \"Himachal Pradesh\", \"Jammu and Kashmir\", \"Jharkhand\"], \"xaxis\": \"x\", \"y\": [1.1587078651685394, 1.007838745800672, 0.8790623335109218, 0.8553100498930863, 0.4942339373970346, 0.47379755922469485, 0.465970064953403, 0.46044370029300963, 0.45435770342833537, 0.4503889722942541, 0.4503889722942541, 0.4481868803476844, 0.4430719656283566, 0.44005867448993197, 0.43888815001994946], \"yaxis\": \"y\"}],                        {\"barmode\": \"relative\", \"height\": 800, \"legend\": {\"tracegroupgap\": 0}, \"template\": {\"data\": {\"bar\": [{\"error_x\": {\"color\": \"#2a3f5f\"}, \"error_y\": {\"color\": \"#2a3f5f\"}, \"marker\": {\"line\": {\"color\": \"#E5ECF6\", \"width\": 0.5}}, \"type\": \"bar\"}], \"barpolar\": [{\"marker\": {\"line\": {\"color\": \"#E5ECF6\", \"width\": 0.5}}, \"type\": \"barpolar\"}], \"carpet\": [{\"aaxis\": {\"endlinecolor\": \"#2a3f5f\", \"gridcolor\": \"white\", \"linecolor\": \"white\", \"minorgridcolor\": \"white\", \"startlinecolor\": \"#2a3f5f\"}, \"baxis\": {\"endlinecolor\": \"#2a3f5f\", \"gridcolor\": \"white\", \"linecolor\": \"white\", \"minorgridcolor\": \"white\", \"startlinecolor\": \"#2a3f5f\"}, \"type\": \"carpet\"}], \"choropleth\": [{\"colorbar\": {\"outlinewidth\": 0, \"ticks\": \"\"}, \"type\": \"choropleth\"}], \"contour\": [{\"colorbar\": {\"outlinewidth\": 0, \"ticks\": \"\"}, \"colorscale\": [[0.0, \"#0d0887\"], [0.1111111111111111, \"#46039f\"], [0.2222222222222222, \"#7201a8\"], [0.3333333333333333, \"#9c179e\"], [0.4444444444444444, \"#bd3786\"], [0.5555555555555556, \"#d8576b\"], [0.6666666666666666, \"#ed7953\"], [0.7777777777777778, \"#fb9f3a\"], [0.8888888888888888, \"#fdca26\"], [1.0, \"#f0f921\"]], \"type\": \"contour\"}], \"contourcarpet\": [{\"colorbar\": {\"outlinewidth\": 0, \"ticks\": \"\"}, \"type\": \"contourcarpet\"}], \"heatmap\": [{\"colorbar\": {\"outlinewidth\": 0, \"ticks\": \"\"}, \"colorscale\": [[0.0, \"#0d0887\"], [0.1111111111111111, \"#46039f\"], [0.2222222222222222, \"#7201a8\"], [0.3333333333333333, \"#9c179e\"], [0.4444444444444444, \"#bd3786\"], [0.5555555555555556, \"#d8576b\"], [0.6666666666666666, \"#ed7953\"], [0.7777777777777778, \"#fb9f3a\"], [0.8888888888888888, \"#fdca26\"], [1.0, \"#f0f921\"]], \"type\": \"heatmap\"}], \"heatmapgl\": [{\"colorbar\": {\"outlinewidth\": 0, \"ticks\": \"\"}, \"colorscale\": [[0.0, \"#0d0887\"], [0.1111111111111111, \"#46039f\"], [0.2222222222222222, \"#7201a8\"], [0.3333333333333333, \"#9c179e\"], [0.4444444444444444, \"#bd3786\"], [0.5555555555555556, \"#d8576b\"], [0.6666666666666666, \"#ed7953\"], [0.7777777777777778, \"#fb9f3a\"], [0.8888888888888888, \"#fdca26\"], [1.0, \"#f0f921\"]], \"type\": \"heatmapgl\"}], \"histogram\": [{\"marker\": {\"colorbar\": {\"outlinewidth\": 0, \"ticks\": \"\"}}, \"type\": \"histogram\"}], \"histogram2d\": [{\"colorbar\": {\"outlinewidth\": 0, \"ticks\": \"\"}, \"colorscale\": [[0.0, \"#0d0887\"], [0.1111111111111111, \"#46039f\"], [0.2222222222222222, \"#7201a8\"], [0.3333333333333333, \"#9c179e\"], [0.4444444444444444, \"#bd3786\"], [0.5555555555555556, \"#d8576b\"], [0.6666666666666666, \"#ed7953\"], [0.7777777777777778, \"#fb9f3a\"], [0.8888888888888888, \"#fdca26\"], [1.0, \"#f0f921\"]], \"type\": \"histogram2d\"}], \"histogram2dcontour\": [{\"colorbar\": {\"outlinewidth\": 0, \"ticks\": \"\"}, \"colorscale\": [[0.0, \"#0d0887\"], [0.1111111111111111, \"#46039f\"], [0.2222222222222222, \"#7201a8\"], [0.3333333333333333, \"#9c179e\"], [0.4444444444444444, \"#bd3786\"], [0.5555555555555556, \"#d8576b\"], [0.6666666666666666, \"#ed7953\"], [0.7777777777777778, \"#fb9f3a\"], [0.8888888888888888, \"#fdca26\"], [1.0, \"#f0f921\"]], \"type\": \"histogram2dcontour\"}], \"mesh3d\": [{\"colorbar\": {\"outlinewidth\": 0, \"ticks\": \"\"}, \"type\": \"mesh3d\"}], \"parcoords\": [{\"line\": {\"colorbar\": {\"outlinewidth\": 0, \"ticks\": \"\"}}, \"type\": \"parcoords\"}], \"pie\": [{\"automargin\": true, \"type\": \"pie\"}], \"scatter\": [{\"marker\": {\"colorbar\": {\"outlinewidth\": 0, \"ticks\": \"\"}}, \"type\": \"scatter\"}], \"scatter3d\": [{\"line\": {\"colorbar\": {\"outlinewidth\": 0, \"ticks\": \"\"}}, \"marker\": {\"colorbar\": {\"outlinewidth\": 0, \"ticks\": \"\"}}, \"type\": \"scatter3d\"}], \"scattercarpet\": [{\"marker\": {\"colorbar\": {\"outlinewidth\": 0, \"ticks\": \"\"}}, \"type\": \"scattercarpet\"}], \"scattergeo\": [{\"marker\": {\"colorbar\": {\"outlinewidth\": 0, \"ticks\": \"\"}}, \"type\": \"scattergeo\"}], \"scattergl\": [{\"marker\": {\"colorbar\": {\"outlinewidth\": 0, \"ticks\": \"\"}}, \"type\": \"scattergl\"}], \"scattermapbox\": [{\"marker\": {\"colorbar\": {\"outlinewidth\": 0, \"ticks\": \"\"}}, \"type\": \"scattermapbox\"}], \"scatterpolar\": [{\"marker\": {\"colorbar\": {\"outlinewidth\": 0, \"ticks\": \"\"}}, \"type\": \"scatterpolar\"}], \"scatterpolargl\": [{\"marker\": {\"colorbar\": {\"outlinewidth\": 0, \"ticks\": \"\"}}, \"type\": \"scatterpolargl\"}], \"scatterternary\": [{\"marker\": {\"colorbar\": {\"outlinewidth\": 0, \"ticks\": \"\"}}, \"type\": \"scatterternary\"}], \"surface\": [{\"colorbar\": {\"outlinewidth\": 0, \"ticks\": \"\"}, \"colorscale\": [[0.0, \"#0d0887\"], [0.1111111111111111, \"#46039f\"], [0.2222222222222222, \"#7201a8\"], [0.3333333333333333, \"#9c179e\"], [0.4444444444444444, \"#bd3786\"], [0.5555555555555556, \"#d8576b\"], [0.6666666666666666, \"#ed7953\"], [0.7777777777777778, \"#fb9f3a\"], [0.8888888888888888, \"#fdca26\"], [1.0, \"#f0f921\"]], \"type\": \"surface\"}], \"table\": [{\"cells\": {\"fill\": {\"color\": \"#EBF0F8\"}, \"line\": {\"color\": \"white\"}}, \"header\": {\"fill\": {\"color\": \"#C8D4E3\"}, \"line\": {\"color\": \"white\"}}, \"type\": \"table\"}]}, \"layout\": {\"annotationdefaults\": {\"arrowcolor\": \"#2a3f5f\", \"arrowhead\": 0, \"arrowwidth\": 1}, \"coloraxis\": {\"colorbar\": {\"outlinewidth\": 0, \"ticks\": \"\"}}, \"colorscale\": {\"diverging\": [[0, \"#8e0152\"], [0.1, \"#c51b7d\"], [0.2, \"#de77ae\"], [0.3, \"#f1b6da\"], [0.4, \"#fde0ef\"], [0.5, \"#f7f7f7\"], [0.6, \"#e6f5d0\"], [0.7, \"#b8e186\"], [0.8, \"#7fbc41\"], [0.9, \"#4d9221\"], [1, \"#276419\"]], \"sequential\": [[0.0, \"#0d0887\"], [0.1111111111111111, \"#46039f\"], [0.2222222222222222, \"#7201a8\"], [0.3333333333333333, \"#9c179e\"], [0.4444444444444444, \"#bd3786\"], [0.5555555555555556, \"#d8576b\"], [0.6666666666666666, \"#ed7953\"], [0.7777777777777778, \"#fb9f3a\"], [0.8888888888888888, \"#fdca26\"], [1.0, \"#f0f921\"]], \"sequentialminus\": [[0.0, \"#0d0887\"], [0.1111111111111111, \"#46039f\"], [0.2222222222222222, \"#7201a8\"], [0.3333333333333333, \"#9c179e\"], [0.4444444444444444, \"#bd3786\"], [0.5555555555555556, \"#d8576b\"], [0.6666666666666666, \"#ed7953\"], [0.7777777777777778, \"#fb9f3a\"], [0.8888888888888888, \"#fdca26\"], [1.0, \"#f0f921\"]]}, \"colorway\": [\"#636efa\", \"#EF553B\", \"#00cc96\", \"#ab63fa\", \"#FFA15A\", \"#19d3f3\", \"#FF6692\", \"#B6E880\", \"#FF97FF\", \"#FECB52\"], \"font\": {\"color\": \"#2a3f5f\"}, \"geo\": {\"bgcolor\": \"white\", \"lakecolor\": \"white\", \"landcolor\": \"#E5ECF6\", \"showlakes\": true, \"showland\": true, \"subunitcolor\": \"white\"}, \"hoverlabel\": {\"align\": \"left\"}, \"hovermode\": \"closest\", \"mapbox\": {\"style\": \"light\"}, \"paper_bgcolor\": \"white\", \"plot_bgcolor\": \"#E5ECF6\", \"polar\": {\"angularaxis\": {\"gridcolor\": \"white\", \"linecolor\": \"white\", \"ticks\": \"\"}, \"bgcolor\": \"#E5ECF6\", \"radialaxis\": {\"gridcolor\": \"white\", \"linecolor\": \"white\", \"ticks\": \"\"}}, \"scene\": {\"xaxis\": {\"backgroundcolor\": \"#E5ECF6\", \"gridcolor\": \"white\", \"gridwidth\": 2, \"linecolor\": \"white\", \"showbackground\": true, \"ticks\": \"\", \"zerolinecolor\": \"white\"}, \"yaxis\": {\"backgroundcolor\": \"#E5ECF6\", \"gridcolor\": \"white\", \"gridwidth\": 2, \"linecolor\": \"white\", \"showbackground\": true, \"ticks\": \"\", \"zerolinecolor\": \"white\"}, \"zaxis\": {\"backgroundcolor\": \"#E5ECF6\", \"gridcolor\": \"white\", \"gridwidth\": 2, \"linecolor\": \"white\", \"showbackground\": true, \"ticks\": \"\", \"zerolinecolor\": \"white\"}}, \"shapedefaults\": {\"line\": {\"color\": \"#2a3f5f\"}}, \"ternary\": {\"aaxis\": {\"gridcolor\": \"white\", \"linecolor\": \"white\", \"ticks\": \"\"}, \"baxis\": {\"gridcolor\": \"white\", \"linecolor\": \"white\", \"ticks\": \"\"}, \"bgcolor\": \"#E5ECF6\", \"caxis\": {\"gridcolor\": \"white\", \"linecolor\": \"white\", \"ticks\": \"\"}}, \"title\": {\"x\": 0.05}, \"xaxis\": {\"automargin\": true, \"gridcolor\": \"white\", \"linecolor\": \"white\", \"ticks\": \"\", \"title\": {\"standoff\": 15}, \"zerolinecolor\": \"white\", \"zerolinewidth\": 2}, \"yaxis\": {\"automargin\": true, \"gridcolor\": \"white\", \"linecolor\": \"white\", \"ticks\": \"\", \"title\": {\"standoff\": 15}, \"zerolinecolor\": \"white\", \"zerolinewidth\": 2}}}, \"title\": {\"text\": \"Top 15 states with highest Positive percentage\"}, \"xaxis\": {\"anchor\": \"y\", \"domain\": [0.0, 1.0], \"title\": {\"text\": \"State\"}}, \"yaxis\": {\"anchor\": \"x\", \"domain\": [0.0, 1.0], \"title\": {\"text\": \"Positive Percentage\"}}},                        {\"responsive\": true}                    ).then(function(){\n",
       "                            \n",
       "var gd = document.getElementById('1f11748a-e3f5-4bf8-a135-7f9d9f39e461');\n",
       "var x = new MutationObserver(function (mutations, observer) {{\n",
       "        var display = window.getComputedStyle(gd).display;\n",
       "        if (!display || display === 'none') {{\n",
       "            console.log([gd, 'removed!']);\n",
       "            Plotly.purge(gd);\n",
       "            observer.disconnect();\n",
       "        }}\n",
       "}});\n",
       "\n",
       "// Listen for the removal of the full notebook cells\n",
       "var notebookContainer = gd.closest('#notebook-container');\n",
       "if (notebookContainer) {{\n",
       "    x.observe(notebookContainer, {childList: true});\n",
       "}}\n",
       "\n",
       "// Listen for the clearing of the current output cell\n",
       "var outputEl = gd.closest('.output');\n",
       "if (outputEl) {{\n",
       "    x.observe(outputEl, {childList: true});\n",
       "}}\n",
       "\n",
       "                        })                };                });            </script>        </div>"
      ]
     },
     "metadata": {},
     "output_type": "display_data"
    }
   ],
   "source": [
    "px.bar(x=covid_testing_state.nlargest(15,\"Positive_percentage\")[\"State\"],\n",
    "       y = covid_testing_state.nlargest(15,\"Positive_percentage\")[\"Positive_percentage\"],\n",
    "       labels={'y':'Positive Percentage','x':'State'},\n",
    "       color_discrete_sequence=px.colors.sequential.Aggrnyl,\n",
    "       title=\"Top 15 states with highest Positive percentage\",\n",
    "       height = 800)"
   ]
  },
  {
   "cell_type": "markdown",
   "metadata": {},
   "source": [
    "Vaccinations analysis"
   ]
  },
  {
   "cell_type": "code",
   "execution_count": 124,
   "metadata": {},
   "outputs": [
    {
     "data": {
      "text/html": [
       "<div>\n",
       "<style scoped>\n",
       "    .dataframe tbody tr th:only-of-type {\n",
       "        vertical-align: middle;\n",
       "    }\n",
       "\n",
       "    .dataframe tbody tr th {\n",
       "        vertical-align: top;\n",
       "    }\n",
       "\n",
       "    .dataframe thead th {\n",
       "        text-align: right;\n",
       "    }\n",
       "</style>\n",
       "<table border=\"1\" class=\"dataframe\">\n",
       "  <thead>\n",
       "    <tr style=\"text-align: right;\">\n",
       "      <th></th>\n",
       "      <th>Updated On</th>\n",
       "      <th>State</th>\n",
       "      <th>Total Doses Administered</th>\n",
       "      <th>Total Sessions Conducted</th>\n",
       "      <th>Total Sites</th>\n",
       "      <th>First Dose Administered</th>\n",
       "      <th>Second Dose Administered</th>\n",
       "      <th>Male(Individuals Vaccinated)</th>\n",
       "      <th>Female(Individuals Vaccinated)</th>\n",
       "      <th>Transgender(Individuals Vaccinated)</th>\n",
       "      <th>Total Covaxin Administered</th>\n",
       "      <th>Total CoviShield Administered</th>\n",
       "      <th>Total Sputnik V Administered</th>\n",
       "      <th>AEFI</th>\n",
       "      <th>18-45 years (Age)</th>\n",
       "      <th>45-60 years (Age)</th>\n",
       "      <th>60+ years (Age)</th>\n",
       "      <th>Total Individuals Vaccinated</th>\n",
       "    </tr>\n",
       "  </thead>\n",
       "  <tbody>\n",
       "    <tr>\n",
       "      <th>0</th>\n",
       "      <td>16/01/2021</td>\n",
       "      <td>India</td>\n",
       "      <td>48276.0</td>\n",
       "      <td>3455.0</td>\n",
       "      <td>2957.0</td>\n",
       "      <td>48276.0</td>\n",
       "      <td>0.0</td>\n",
       "      <td>23757.0</td>\n",
       "      <td>24517.0</td>\n",
       "      <td>2.0</td>\n",
       "      <td>579.0</td>\n",
       "      <td>47697.0</td>\n",
       "      <td>NaN</td>\n",
       "      <td>NaN</td>\n",
       "      <td>NaN</td>\n",
       "      <td>NaN</td>\n",
       "      <td>NaN</td>\n",
       "      <td>48276.0</td>\n",
       "    </tr>\n",
       "    <tr>\n",
       "      <th>1</th>\n",
       "      <td>17/01/2021</td>\n",
       "      <td>India</td>\n",
       "      <td>58604.0</td>\n",
       "      <td>8532.0</td>\n",
       "      <td>4954.0</td>\n",
       "      <td>58604.0</td>\n",
       "      <td>0.0</td>\n",
       "      <td>27348.0</td>\n",
       "      <td>31252.0</td>\n",
       "      <td>4.0</td>\n",
       "      <td>635.0</td>\n",
       "      <td>57969.0</td>\n",
       "      <td>NaN</td>\n",
       "      <td>NaN</td>\n",
       "      <td>NaN</td>\n",
       "      <td>NaN</td>\n",
       "      <td>NaN</td>\n",
       "      <td>58604.0</td>\n",
       "    </tr>\n",
       "    <tr>\n",
       "      <th>2</th>\n",
       "      <td>18/01/2021</td>\n",
       "      <td>India</td>\n",
       "      <td>99449.0</td>\n",
       "      <td>13611.0</td>\n",
       "      <td>6583.0</td>\n",
       "      <td>99449.0</td>\n",
       "      <td>0.0</td>\n",
       "      <td>41361.0</td>\n",
       "      <td>58083.0</td>\n",
       "      <td>5.0</td>\n",
       "      <td>1299.0</td>\n",
       "      <td>98150.0</td>\n",
       "      <td>NaN</td>\n",
       "      <td>NaN</td>\n",
       "      <td>NaN</td>\n",
       "      <td>NaN</td>\n",
       "      <td>NaN</td>\n",
       "      <td>99449.0</td>\n",
       "    </tr>\n",
       "    <tr>\n",
       "      <th>3</th>\n",
       "      <td>19/01/2021</td>\n",
       "      <td>India</td>\n",
       "      <td>195525.0</td>\n",
       "      <td>17855.0</td>\n",
       "      <td>7951.0</td>\n",
       "      <td>195525.0</td>\n",
       "      <td>0.0</td>\n",
       "      <td>81901.0</td>\n",
       "      <td>113613.0</td>\n",
       "      <td>11.0</td>\n",
       "      <td>3017.0</td>\n",
       "      <td>192508.0</td>\n",
       "      <td>NaN</td>\n",
       "      <td>NaN</td>\n",
       "      <td>NaN</td>\n",
       "      <td>NaN</td>\n",
       "      <td>NaN</td>\n",
       "      <td>195525.0</td>\n",
       "    </tr>\n",
       "    <tr>\n",
       "      <th>4</th>\n",
       "      <td>20/01/2021</td>\n",
       "      <td>India</td>\n",
       "      <td>251280.0</td>\n",
       "      <td>25472.0</td>\n",
       "      <td>10504.0</td>\n",
       "      <td>251280.0</td>\n",
       "      <td>0.0</td>\n",
       "      <td>98111.0</td>\n",
       "      <td>153145.0</td>\n",
       "      <td>24.0</td>\n",
       "      <td>3946.0</td>\n",
       "      <td>247334.0</td>\n",
       "      <td>NaN</td>\n",
       "      <td>NaN</td>\n",
       "      <td>NaN</td>\n",
       "      <td>NaN</td>\n",
       "      <td>NaN</td>\n",
       "      <td>251280.0</td>\n",
       "    </tr>\n",
       "  </tbody>\n",
       "</table>\n",
       "</div>"
      ],
      "text/plain": [
       "   Updated On  State  Total Doses Administered  Total Sessions Conducted  \\\n",
       "0  16/01/2021  India                   48276.0                    3455.0   \n",
       "1  17/01/2021  India                   58604.0                    8532.0   \n",
       "2  18/01/2021  India                   99449.0                   13611.0   \n",
       "3  19/01/2021  India                  195525.0                   17855.0   \n",
       "4  20/01/2021  India                  251280.0                   25472.0   \n",
       "\n",
       "   Total Sites   First Dose Administered  Second Dose Administered  \\\n",
       "0        2957.0                  48276.0                       0.0   \n",
       "1        4954.0                  58604.0                       0.0   \n",
       "2        6583.0                  99449.0                       0.0   \n",
       "3        7951.0                 195525.0                       0.0   \n",
       "4       10504.0                 251280.0                       0.0   \n",
       "\n",
       "   Male(Individuals Vaccinated)  Female(Individuals Vaccinated)  \\\n",
       "0                       23757.0                         24517.0   \n",
       "1                       27348.0                         31252.0   \n",
       "2                       41361.0                         58083.0   \n",
       "3                       81901.0                        113613.0   \n",
       "4                       98111.0                        153145.0   \n",
       "\n",
       "   Transgender(Individuals Vaccinated)  Total Covaxin Administered  \\\n",
       "0                                  2.0                       579.0   \n",
       "1                                  4.0                       635.0   \n",
       "2                                  5.0                      1299.0   \n",
       "3                                 11.0                      3017.0   \n",
       "4                                 24.0                      3946.0   \n",
       "\n",
       "   Total CoviShield Administered  Total Sputnik V Administered  AEFI  \\\n",
       "0                        47697.0                           NaN   NaN   \n",
       "1                        57969.0                           NaN   NaN   \n",
       "2                        98150.0                           NaN   NaN   \n",
       "3                       192508.0                           NaN   NaN   \n",
       "4                       247334.0                           NaN   NaN   \n",
       "\n",
       "   18-45 years (Age)  45-60 years (Age)  60+ years (Age)  \\\n",
       "0                NaN                NaN              NaN   \n",
       "1                NaN                NaN              NaN   \n",
       "2                NaN                NaN              NaN   \n",
       "3                NaN                NaN              NaN   \n",
       "4                NaN                NaN              NaN   \n",
       "\n",
       "   Total Individuals Vaccinated  \n",
       "0                       48276.0  \n",
       "1                       58604.0  \n",
       "2                       99449.0  \n",
       "3                      195525.0  \n",
       "4                      251280.0  "
      ]
     },
     "execution_count": 124,
     "metadata": {},
     "output_type": "execute_result"
    }
   ],
   "source": [
    "vaccination = pd.read_csv(r\"covid_vaccine_statewise.csv\")\n",
    "vaccination.head()"
   ]
  },
  {
   "cell_type": "code",
   "execution_count": 125,
   "metadata": {},
   "outputs": [
    {
     "data": {
      "text/plain": [
       "(6699, 18)"
      ]
     },
     "execution_count": 125,
     "metadata": {},
     "output_type": "execute_result"
    }
   ],
   "source": [
    "vaccination.shape\n"
   ]
  },
  {
   "cell_type": "code",
   "execution_count": 126,
   "metadata": {},
   "outputs": [
    {
     "data": {
      "text/html": [
       "<div>\n",
       "<style scoped>\n",
       "    .dataframe tbody tr th:only-of-type {\n",
       "        vertical-align: middle;\n",
       "    }\n",
       "\n",
       "    .dataframe tbody tr th {\n",
       "        vertical-align: top;\n",
       "    }\n",
       "\n",
       "    .dataframe thead th {\n",
       "        text-align: right;\n",
       "    }\n",
       "</style>\n",
       "<table border=\"1\" class=\"dataframe\">\n",
       "  <thead>\n",
       "    <tr style=\"text-align: right;\">\n",
       "      <th></th>\n",
       "      <th>Total Doses Administered</th>\n",
       "      <th>Total Sessions Conducted</th>\n",
       "      <th>Total Sites</th>\n",
       "      <th>First Dose Administered</th>\n",
       "      <th>Second Dose Administered</th>\n",
       "      <th>Male(Individuals Vaccinated)</th>\n",
       "      <th>Female(Individuals Vaccinated)</th>\n",
       "      <th>Transgender(Individuals Vaccinated)</th>\n",
       "      <th>Total Covaxin Administered</th>\n",
       "      <th>Total CoviShield Administered</th>\n",
       "      <th>Total Sputnik V Administered</th>\n",
       "      <th>AEFI</th>\n",
       "      <th>18-45 years (Age)</th>\n",
       "      <th>45-60 years (Age)</th>\n",
       "      <th>60+ years (Age)</th>\n",
       "      <th>Total Individuals Vaccinated</th>\n",
       "    </tr>\n",
       "  </thead>\n",
       "  <tbody>\n",
       "    <tr>\n",
       "      <th>count</th>\n",
       "      <td>6.364000e+03</td>\n",
       "      <td>6.363000e+03</td>\n",
       "      <td>6363.000000</td>\n",
       "      <td>6.363000e+03</td>\n",
       "      <td>6.363000e+03</td>\n",
       "      <td>6.363000e+03</td>\n",
       "      <td>6.363000e+03</td>\n",
       "      <td>6363.000000</td>\n",
       "      <td>6.363000e+03</td>\n",
       "      <td>6.363000e+03</td>\n",
       "      <td>1737.000000</td>\n",
       "      <td>4180.000000</td>\n",
       "      <td>4.177000e+03</td>\n",
       "      <td>4.178000e+03</td>\n",
       "      <td>4.178000e+03</td>\n",
       "      <td>6.363000e+03</td>\n",
       "    </tr>\n",
       "    <tr>\n",
       "      <th>mean</th>\n",
       "      <td>6.413310e+06</td>\n",
       "      <td>3.957716e+05</td>\n",
       "      <td>2360.343549</td>\n",
       "      <td>5.254151e+06</td>\n",
       "      <td>1.160167e+06</td>\n",
       "      <td>2.919990e+06</td>\n",
       "      <td>2.568098e+06</td>\n",
       "      <td>835.393368</td>\n",
       "      <td>6.928136e+05</td>\n",
       "      <td>5.707424e+06</td>\n",
       "      <td>2066.254462</td>\n",
       "      <td>1073.564833</td>\n",
       "      <td>1.955834e+06</td>\n",
       "      <td>3.275439e+06</td>\n",
       "      <td>2.887759e+06</td>\n",
       "      <td>5.265380e+06</td>\n",
       "    </tr>\n",
       "    <tr>\n",
       "      <th>std</th>\n",
       "      <td>2.615880e+07</td>\n",
       "      <td>1.656387e+06</td>\n",
       "      <td>7508.979436</td>\n",
       "      <td>2.132565e+07</td>\n",
       "      <td>4.882363e+06</td>\n",
       "      <td>1.225694e+07</td>\n",
       "      <td>1.064744e+07</td>\n",
       "      <td>3737.993697</td>\n",
       "      <td>2.991176e+06</td>\n",
       "      <td>2.319046e+07</td>\n",
       "      <td>9614.132634</td>\n",
       "      <td>3246.612821</td>\n",
       "      <td>8.448696e+06</td>\n",
       "      <td>1.095290e+07</td>\n",
       "      <td>9.204842e+06</td>\n",
       "      <td>2.132828e+07</td>\n",
       "    </tr>\n",
       "    <tr>\n",
       "      <th>min</th>\n",
       "      <td>0.000000e+00</td>\n",
       "      <td>0.000000e+00</td>\n",
       "      <td>0.000000</td>\n",
       "      <td>7.000000e+00</td>\n",
       "      <td>0.000000e+00</td>\n",
       "      <td>0.000000e+00</td>\n",
       "      <td>2.000000e+00</td>\n",
       "      <td>0.000000</td>\n",
       "      <td>0.000000e+00</td>\n",
       "      <td>7.000000e+00</td>\n",
       "      <td>0.000000</td>\n",
       "      <td>0.000000</td>\n",
       "      <td>1.059000e+03</td>\n",
       "      <td>1.136000e+03</td>\n",
       "      <td>5.580000e+02</td>\n",
       "      <td>7.000000e+00</td>\n",
       "    </tr>\n",
       "    <tr>\n",
       "      <th>25%</th>\n",
       "      <td>9.749425e+04</td>\n",
       "      <td>4.498000e+03</td>\n",
       "      <td>70.500000</td>\n",
       "      <td>8.277550e+04</td>\n",
       "      <td>6.405500e+03</td>\n",
       "      <td>4.299600e+04</td>\n",
       "      <td>3.760850e+04</td>\n",
       "      <td>4.000000</td>\n",
       "      <td>0.000000e+00</td>\n",
       "      <td>9.561450e+04</td>\n",
       "      <td>0.000000</td>\n",
       "      <td>94.000000</td>\n",
       "      <td>6.454900e+04</td>\n",
       "      <td>1.017950e+05</td>\n",
       "      <td>6.404975e+04</td>\n",
       "      <td>8.277550e+04</td>\n",
       "    </tr>\n",
       "    <tr>\n",
       "      <th>50%</th>\n",
       "      <td>5.369145e+05</td>\n",
       "      <td>2.588400e+04</td>\n",
       "      <td>616.000000</td>\n",
       "      <td>4.589680e+05</td>\n",
       "      <td>7.715800e+04</td>\n",
       "      <td>2.581390e+05</td>\n",
       "      <td>2.392390e+05</td>\n",
       "      <td>69.000000</td>\n",
       "      <td>4.760000e+03</td>\n",
       "      <td>4.989140e+05</td>\n",
       "      <td>0.000000</td>\n",
       "      <td>283.000000</td>\n",
       "      <td>3.382580e+05</td>\n",
       "      <td>9.198940e+05</td>\n",
       "      <td>8.211470e+05</td>\n",
       "      <td>4.705490e+05</td>\n",
       "    </tr>\n",
       "    <tr>\n",
       "      <th>75%</th>\n",
       "      <td>4.872305e+06</td>\n",
       "      <td>2.613895e+05</td>\n",
       "      <td>1790.000000</td>\n",
       "      <td>4.119336e+06</td>\n",
       "      <td>7.264175e+05</td>\n",
       "      <td>2.203892e+06</td>\n",
       "      <td>1.961909e+06</td>\n",
       "      <td>562.000000</td>\n",
       "      <td>4.669140e+05</td>\n",
       "      <td>4.258910e+06</td>\n",
       "      <td>79.000000</td>\n",
       "      <td>716.000000</td>\n",
       "      <td>1.068349e+06</td>\n",
       "      <td>2.727498e+06</td>\n",
       "      <td>2.533357e+06</td>\n",
       "      <td>4.119336e+06</td>\n",
       "    </tr>\n",
       "    <tr>\n",
       "      <th>max</th>\n",
       "      <td>3.561929e+08</td>\n",
       "      <td>3.501031e+07</td>\n",
       "      <td>73933.000000</td>\n",
       "      <td>2.901329e+08</td>\n",
       "      <td>6.606008e+07</td>\n",
       "      <td>1.911604e+08</td>\n",
       "      <td>1.649711e+08</td>\n",
       "      <td>61451.000000</td>\n",
       "      <td>4.401880e+07</td>\n",
       "      <td>3.120454e+08</td>\n",
       "      <td>128733.000000</td>\n",
       "      <td>23960.000000</td>\n",
       "      <td>1.361586e+08</td>\n",
       "      <td>1.229163e+08</td>\n",
       "      <td>9.711800e+07</td>\n",
       "      <td>2.901329e+08</td>\n",
       "    </tr>\n",
       "  </tbody>\n",
       "</table>\n",
       "</div>"
      ],
      "text/plain": [
       "       Total Doses Administered  Total Sessions Conducted  Total Sites   \\\n",
       "count              6.364000e+03              6.363000e+03   6363.000000   \n",
       "mean               6.413310e+06              3.957716e+05   2360.343549   \n",
       "std                2.615880e+07              1.656387e+06   7508.979436   \n",
       "min                0.000000e+00              0.000000e+00      0.000000   \n",
       "25%                9.749425e+04              4.498000e+03     70.500000   \n",
       "50%                5.369145e+05              2.588400e+04    616.000000   \n",
       "75%                4.872305e+06              2.613895e+05   1790.000000   \n",
       "max                3.561929e+08              3.501031e+07  73933.000000   \n",
       "\n",
       "       First Dose Administered  Second Dose Administered  \\\n",
       "count             6.363000e+03              6.363000e+03   \n",
       "mean              5.254151e+06              1.160167e+06   \n",
       "std               2.132565e+07              4.882363e+06   \n",
       "min               7.000000e+00              0.000000e+00   \n",
       "25%               8.277550e+04              6.405500e+03   \n",
       "50%               4.589680e+05              7.715800e+04   \n",
       "75%               4.119336e+06              7.264175e+05   \n",
       "max               2.901329e+08              6.606008e+07   \n",
       "\n",
       "       Male(Individuals Vaccinated)  Female(Individuals Vaccinated)  \\\n",
       "count                  6.363000e+03                    6.363000e+03   \n",
       "mean                   2.919990e+06                    2.568098e+06   \n",
       "std                    1.225694e+07                    1.064744e+07   \n",
       "min                    0.000000e+00                    2.000000e+00   \n",
       "25%                    4.299600e+04                    3.760850e+04   \n",
       "50%                    2.581390e+05                    2.392390e+05   \n",
       "75%                    2.203892e+06                    1.961909e+06   \n",
       "max                    1.911604e+08                    1.649711e+08   \n",
       "\n",
       "       Transgender(Individuals Vaccinated)  Total Covaxin Administered  \\\n",
       "count                          6363.000000                6.363000e+03   \n",
       "mean                            835.393368                6.928136e+05   \n",
       "std                            3737.993697                2.991176e+06   \n",
       "min                               0.000000                0.000000e+00   \n",
       "25%                               4.000000                0.000000e+00   \n",
       "50%                              69.000000                4.760000e+03   \n",
       "75%                             562.000000                4.669140e+05   \n",
       "max                           61451.000000                4.401880e+07   \n",
       "\n",
       "       Total CoviShield Administered  Total Sputnik V Administered  \\\n",
       "count                   6.363000e+03                   1737.000000   \n",
       "mean                    5.707424e+06                   2066.254462   \n",
       "std                     2.319046e+07                   9614.132634   \n",
       "min                     7.000000e+00                      0.000000   \n",
       "25%                     9.561450e+04                      0.000000   \n",
       "50%                     4.989140e+05                      0.000000   \n",
       "75%                     4.258910e+06                     79.000000   \n",
       "max                     3.120454e+08                 128733.000000   \n",
       "\n",
       "               AEFI  18-45 years (Age)  45-60 years (Age)  60+ years (Age)  \\\n",
       "count   4180.000000       4.177000e+03       4.178000e+03     4.178000e+03   \n",
       "mean    1073.564833       1.955834e+06       3.275439e+06     2.887759e+06   \n",
       "std     3246.612821       8.448696e+06       1.095290e+07     9.204842e+06   \n",
       "min        0.000000       1.059000e+03       1.136000e+03     5.580000e+02   \n",
       "25%       94.000000       6.454900e+04       1.017950e+05     6.404975e+04   \n",
       "50%      283.000000       3.382580e+05       9.198940e+05     8.211470e+05   \n",
       "75%      716.000000       1.068349e+06       2.727498e+06     2.533357e+06   \n",
       "max    23960.000000       1.361586e+08       1.229163e+08     9.711800e+07   \n",
       "\n",
       "       Total Individuals Vaccinated  \n",
       "count                  6.363000e+03  \n",
       "mean                   5.265380e+06  \n",
       "std                    2.132828e+07  \n",
       "min                    7.000000e+00  \n",
       "25%                    8.277550e+04  \n",
       "50%                    4.705490e+05  \n",
       "75%                    4.119336e+06  \n",
       "max                    2.901329e+08  "
      ]
     },
     "execution_count": 126,
     "metadata": {},
     "output_type": "execute_result"
    }
   ],
   "source": [
    "vaccination.describe()\n"
   ]
  },
  {
   "cell_type": "code",
   "execution_count": 127,
   "metadata": {},
   "outputs": [
    {
     "data": {
      "text/plain": [
       "Updated On                                0\n",
       "State                                     0\n",
       "Total Doses Administered                335\n",
       "Total Sessions Conducted                336\n",
       "Total Sites                             336\n",
       "First Dose Administered                 336\n",
       "Second Dose Administered                336\n",
       "Male(Individuals Vaccinated)            336\n",
       "Female(Individuals Vaccinated)          336\n",
       "Transgender(Individuals Vaccinated)     336\n",
       "Total Covaxin Administered              336\n",
       "Total CoviShield Administered           336\n",
       "Total Sputnik V Administered           4962\n",
       "AEFI                                   2519\n",
       "18-45 years (Age)                      2522\n",
       "45-60 years (Age)                      2521\n",
       "60+ years (Age)                        2521\n",
       "Total Individuals Vaccinated            336\n",
       "dtype: int64"
      ]
     },
     "execution_count": 127,
     "metadata": {},
     "output_type": "execute_result"
    }
   ],
   "source": [
    "vaccination.isnull().sum()\n"
   ]
  },
  {
   "cell_type": "code",
   "execution_count": 128,
   "metadata": {},
   "outputs": [
    {
     "data": {
      "text/html": [
       "<div>\n",
       "<style scoped>\n",
       "    .dataframe tbody tr th:only-of-type {\n",
       "        vertical-align: middle;\n",
       "    }\n",
       "\n",
       "    .dataframe tbody tr th {\n",
       "        vertical-align: top;\n",
       "    }\n",
       "\n",
       "    .dataframe thead th {\n",
       "        text-align: right;\n",
       "    }\n",
       "</style>\n",
       "<table border=\"1\" class=\"dataframe\">\n",
       "  <thead>\n",
       "    <tr style=\"text-align: right;\">\n",
       "      <th></th>\n",
       "      <th>Updated On</th>\n",
       "      <th>State</th>\n",
       "      <th>Total Doses Administered</th>\n",
       "      <th>Total Sessions Conducted</th>\n",
       "      <th>Total Sites</th>\n",
       "      <th>First Dose Administered</th>\n",
       "      <th>Second Dose Administered</th>\n",
       "      <th>Male(Individuals Vaccinated)</th>\n",
       "      <th>Female(Individuals Vaccinated)</th>\n",
       "      <th>Transgender(Individuals Vaccinated)</th>\n",
       "      <th>Total Covaxin Administered</th>\n",
       "      <th>Total CoviShield Administered</th>\n",
       "      <th>Total Sputnik V Administered</th>\n",
       "      <th>AEFI</th>\n",
       "      <th>18-45 years (Age)</th>\n",
       "      <th>45-60 years (Age)</th>\n",
       "      <th>60+ years (Age)</th>\n",
       "      <th>Total Individuals Vaccinated</th>\n",
       "    </tr>\n",
       "  </thead>\n",
       "  <tbody>\n",
       "    <tr>\n",
       "      <th>0</th>\n",
       "      <td>16/01/2021</td>\n",
       "      <td>India</td>\n",
       "      <td>48276.0</td>\n",
       "      <td>3455.0</td>\n",
       "      <td>2957.0</td>\n",
       "      <td>48276.0</td>\n",
       "      <td>0.0</td>\n",
       "      <td>23757.0</td>\n",
       "      <td>24517.0</td>\n",
       "      <td>2.0</td>\n",
       "      <td>579.0</td>\n",
       "      <td>47697.0</td>\n",
       "      <td>NaN</td>\n",
       "      <td>NaN</td>\n",
       "      <td>NaN</td>\n",
       "      <td>NaN</td>\n",
       "      <td>NaN</td>\n",
       "      <td>48276.0</td>\n",
       "    </tr>\n",
       "    <tr>\n",
       "      <th>1</th>\n",
       "      <td>17/01/2021</td>\n",
       "      <td>India</td>\n",
       "      <td>58604.0</td>\n",
       "      <td>8532.0</td>\n",
       "      <td>4954.0</td>\n",
       "      <td>58604.0</td>\n",
       "      <td>0.0</td>\n",
       "      <td>27348.0</td>\n",
       "      <td>31252.0</td>\n",
       "      <td>4.0</td>\n",
       "      <td>635.0</td>\n",
       "      <td>57969.0</td>\n",
       "      <td>NaN</td>\n",
       "      <td>NaN</td>\n",
       "      <td>NaN</td>\n",
       "      <td>NaN</td>\n",
       "      <td>NaN</td>\n",
       "      <td>58604.0</td>\n",
       "    </tr>\n",
       "    <tr>\n",
       "      <th>2</th>\n",
       "      <td>18/01/2021</td>\n",
       "      <td>India</td>\n",
       "      <td>99449.0</td>\n",
       "      <td>13611.0</td>\n",
       "      <td>6583.0</td>\n",
       "      <td>99449.0</td>\n",
       "      <td>0.0</td>\n",
       "      <td>41361.0</td>\n",
       "      <td>58083.0</td>\n",
       "      <td>5.0</td>\n",
       "      <td>1299.0</td>\n",
       "      <td>98150.0</td>\n",
       "      <td>NaN</td>\n",
       "      <td>NaN</td>\n",
       "      <td>NaN</td>\n",
       "      <td>NaN</td>\n",
       "      <td>NaN</td>\n",
       "      <td>99449.0</td>\n",
       "    </tr>\n",
       "    <tr>\n",
       "      <th>3</th>\n",
       "      <td>19/01/2021</td>\n",
       "      <td>India</td>\n",
       "      <td>195525.0</td>\n",
       "      <td>17855.0</td>\n",
       "      <td>7951.0</td>\n",
       "      <td>195525.0</td>\n",
       "      <td>0.0</td>\n",
       "      <td>81901.0</td>\n",
       "      <td>113613.0</td>\n",
       "      <td>11.0</td>\n",
       "      <td>3017.0</td>\n",
       "      <td>192508.0</td>\n",
       "      <td>NaN</td>\n",
       "      <td>NaN</td>\n",
       "      <td>NaN</td>\n",
       "      <td>NaN</td>\n",
       "      <td>NaN</td>\n",
       "      <td>195525.0</td>\n",
       "    </tr>\n",
       "    <tr>\n",
       "      <th>4</th>\n",
       "      <td>20/01/2021</td>\n",
       "      <td>India</td>\n",
       "      <td>251280.0</td>\n",
       "      <td>25472.0</td>\n",
       "      <td>10504.0</td>\n",
       "      <td>251280.0</td>\n",
       "      <td>0.0</td>\n",
       "      <td>98111.0</td>\n",
       "      <td>153145.0</td>\n",
       "      <td>24.0</td>\n",
       "      <td>3946.0</td>\n",
       "      <td>247334.0</td>\n",
       "      <td>NaN</td>\n",
       "      <td>NaN</td>\n",
       "      <td>NaN</td>\n",
       "      <td>NaN</td>\n",
       "      <td>NaN</td>\n",
       "      <td>251280.0</td>\n",
       "    </tr>\n",
       "  </tbody>\n",
       "</table>\n",
       "</div>"
      ],
      "text/plain": [
       "   Updated On  State  Total Doses Administered  Total Sessions Conducted  \\\n",
       "0  16/01/2021  India                   48276.0                    3455.0   \n",
       "1  17/01/2021  India                   58604.0                    8532.0   \n",
       "2  18/01/2021  India                   99449.0                   13611.0   \n",
       "3  19/01/2021  India                  195525.0                   17855.0   \n",
       "4  20/01/2021  India                  251280.0                   25472.0   \n",
       "\n",
       "   Total Sites   First Dose Administered  Second Dose Administered  \\\n",
       "0        2957.0                  48276.0                       0.0   \n",
       "1        4954.0                  58604.0                       0.0   \n",
       "2        6583.0                  99449.0                       0.0   \n",
       "3        7951.0                 195525.0                       0.0   \n",
       "4       10504.0                 251280.0                       0.0   \n",
       "\n",
       "   Male(Individuals Vaccinated)  Female(Individuals Vaccinated)  \\\n",
       "0                       23757.0                         24517.0   \n",
       "1                       27348.0                         31252.0   \n",
       "2                       41361.0                         58083.0   \n",
       "3                       81901.0                        113613.0   \n",
       "4                       98111.0                        153145.0   \n",
       "\n",
       "   Transgender(Individuals Vaccinated)  Total Covaxin Administered  \\\n",
       "0                                  2.0                       579.0   \n",
       "1                                  4.0                       635.0   \n",
       "2                                  5.0                      1299.0   \n",
       "3                                 11.0                      3017.0   \n",
       "4                                 24.0                      3946.0   \n",
       "\n",
       "   Total CoviShield Administered  Total Sputnik V Administered  AEFI  \\\n",
       "0                        47697.0                           NaN   NaN   \n",
       "1                        57969.0                           NaN   NaN   \n",
       "2                        98150.0                           NaN   NaN   \n",
       "3                       192508.0                           NaN   NaN   \n",
       "4                       247334.0                           NaN   NaN   \n",
       "\n",
       "   18-45 years (Age)  45-60 years (Age)  60+ years (Age)  \\\n",
       "0                NaN                NaN              NaN   \n",
       "1                NaN                NaN              NaN   \n",
       "2                NaN                NaN              NaN   \n",
       "3                NaN                NaN              NaN   \n",
       "4                NaN                NaN              NaN   \n",
       "\n",
       "   Total Individuals Vaccinated  \n",
       "0                       48276.0  \n",
       "1                       58604.0  \n",
       "2                       99449.0  \n",
       "3                      195525.0  \n",
       "4                      251280.0  "
      ]
     },
     "execution_count": 128,
     "metadata": {},
     "output_type": "execute_result"
    }
   ],
   "source": [
    "vaccination.head()"
   ]
  },
  {
   "cell_type": "code",
   "execution_count": 129,
   "metadata": {},
   "outputs": [],
   "source": [
    "vaccination = vaccination.drop(['Total Sputnik V Administered','AEFI', '18-45 years (Age)','45-60 years (Age)','60+ years (Age)'], axis=1)\n"
   ]
  },
  {
   "cell_type": "code",
   "execution_count": 140,
   "metadata": {},
   "outputs": [
    {
     "data": {
      "application/vnd.plotly.v1+json": {
       "config": {
        "plotlyServerURL": "https://plot.ly"
       },
       "data": [
        {
         "domain": {
          "x": [
           0,
           1
          ],
          "y": [
           0,
           1
          ]
         },
         "hovertemplate": "label=%{label}<br>value=%{value}<extra></extra>",
         "labels": [
          "Male Vaccinated",
          "Female Vaccinated",
          "Trans Gender"
         ],
         "legendgroup": "",
         "name": "",
         "showlegend": true,
         "type": "pie",
         "values": [
          18579894484,
          16340809968,
          5315608
         ]
        }
       ],
       "layout": {
        "legend": {
         "tracegroupgap": 0
        },
        "piecolorway": [
         "#000004",
         "#180f3d",
         "#440f76",
         "#721f81",
         "#9e2f7f",
         "#cd4071",
         "#f1605d",
         "#fd9668",
         "#feca8d",
         "#fcfdbf"
        ],
        "template": {
         "data": {
          "bar": [
           {
            "error_x": {
             "color": "#2a3f5f"
            },
            "error_y": {
             "color": "#2a3f5f"
            },
            "marker": {
             "line": {
              "color": "#E5ECF6",
              "width": 0.5
             }
            },
            "type": "bar"
           }
          ],
          "barpolar": [
           {
            "marker": {
             "line": {
              "color": "#E5ECF6",
              "width": 0.5
             }
            },
            "type": "barpolar"
           }
          ],
          "carpet": [
           {
            "aaxis": {
             "endlinecolor": "#2a3f5f",
             "gridcolor": "white",
             "linecolor": "white",
             "minorgridcolor": "white",
             "startlinecolor": "#2a3f5f"
            },
            "baxis": {
             "endlinecolor": "#2a3f5f",
             "gridcolor": "white",
             "linecolor": "white",
             "minorgridcolor": "white",
             "startlinecolor": "#2a3f5f"
            },
            "type": "carpet"
           }
          ],
          "choropleth": [
           {
            "colorbar": {
             "outlinewidth": 0,
             "ticks": ""
            },
            "type": "choropleth"
           }
          ],
          "contour": [
           {
            "colorbar": {
             "outlinewidth": 0,
             "ticks": ""
            },
            "colorscale": [
             [
              0,
              "#0d0887"
             ],
             [
              0.1111111111111111,
              "#46039f"
             ],
             [
              0.2222222222222222,
              "#7201a8"
             ],
             [
              0.3333333333333333,
              "#9c179e"
             ],
             [
              0.4444444444444444,
              "#bd3786"
             ],
             [
              0.5555555555555556,
              "#d8576b"
             ],
             [
              0.6666666666666666,
              "#ed7953"
             ],
             [
              0.7777777777777778,
              "#fb9f3a"
             ],
             [
              0.8888888888888888,
              "#fdca26"
             ],
             [
              1,
              "#f0f921"
             ]
            ],
            "type": "contour"
           }
          ],
          "contourcarpet": [
           {
            "colorbar": {
             "outlinewidth": 0,
             "ticks": ""
            },
            "type": "contourcarpet"
           }
          ],
          "heatmap": [
           {
            "colorbar": {
             "outlinewidth": 0,
             "ticks": ""
            },
            "colorscale": [
             [
              0,
              "#0d0887"
             ],
             [
              0.1111111111111111,
              "#46039f"
             ],
             [
              0.2222222222222222,
              "#7201a8"
             ],
             [
              0.3333333333333333,
              "#9c179e"
             ],
             [
              0.4444444444444444,
              "#bd3786"
             ],
             [
              0.5555555555555556,
              "#d8576b"
             ],
             [
              0.6666666666666666,
              "#ed7953"
             ],
             [
              0.7777777777777778,
              "#fb9f3a"
             ],
             [
              0.8888888888888888,
              "#fdca26"
             ],
             [
              1,
              "#f0f921"
             ]
            ],
            "type": "heatmap"
           }
          ],
          "heatmapgl": [
           {
            "colorbar": {
             "outlinewidth": 0,
             "ticks": ""
            },
            "colorscale": [
             [
              0,
              "#0d0887"
             ],
             [
              0.1111111111111111,
              "#46039f"
             ],
             [
              0.2222222222222222,
              "#7201a8"
             ],
             [
              0.3333333333333333,
              "#9c179e"
             ],
             [
              0.4444444444444444,
              "#bd3786"
             ],
             [
              0.5555555555555556,
              "#d8576b"
             ],
             [
              0.6666666666666666,
              "#ed7953"
             ],
             [
              0.7777777777777778,
              "#fb9f3a"
             ],
             [
              0.8888888888888888,
              "#fdca26"
             ],
             [
              1,
              "#f0f921"
             ]
            ],
            "type": "heatmapgl"
           }
          ],
          "histogram": [
           {
            "marker": {
             "colorbar": {
              "outlinewidth": 0,
              "ticks": ""
             }
            },
            "type": "histogram"
           }
          ],
          "histogram2d": [
           {
            "colorbar": {
             "outlinewidth": 0,
             "ticks": ""
            },
            "colorscale": [
             [
              0,
              "#0d0887"
             ],
             [
              0.1111111111111111,
              "#46039f"
             ],
             [
              0.2222222222222222,
              "#7201a8"
             ],
             [
              0.3333333333333333,
              "#9c179e"
             ],
             [
              0.4444444444444444,
              "#bd3786"
             ],
             [
              0.5555555555555556,
              "#d8576b"
             ],
             [
              0.6666666666666666,
              "#ed7953"
             ],
             [
              0.7777777777777778,
              "#fb9f3a"
             ],
             [
              0.8888888888888888,
              "#fdca26"
             ],
             [
              1,
              "#f0f921"
             ]
            ],
            "type": "histogram2d"
           }
          ],
          "histogram2dcontour": [
           {
            "colorbar": {
             "outlinewidth": 0,
             "ticks": ""
            },
            "colorscale": [
             [
              0,
              "#0d0887"
             ],
             [
              0.1111111111111111,
              "#46039f"
             ],
             [
              0.2222222222222222,
              "#7201a8"
             ],
             [
              0.3333333333333333,
              "#9c179e"
             ],
             [
              0.4444444444444444,
              "#bd3786"
             ],
             [
              0.5555555555555556,
              "#d8576b"
             ],
             [
              0.6666666666666666,
              "#ed7953"
             ],
             [
              0.7777777777777778,
              "#fb9f3a"
             ],
             [
              0.8888888888888888,
              "#fdca26"
             ],
             [
              1,
              "#f0f921"
             ]
            ],
            "type": "histogram2dcontour"
           }
          ],
          "mesh3d": [
           {
            "colorbar": {
             "outlinewidth": 0,
             "ticks": ""
            },
            "type": "mesh3d"
           }
          ],
          "parcoords": [
           {
            "line": {
             "colorbar": {
              "outlinewidth": 0,
              "ticks": ""
             }
            },
            "type": "parcoords"
           }
          ],
          "pie": [
           {
            "automargin": true,
            "type": "pie"
           }
          ],
          "scatter": [
           {
            "marker": {
             "colorbar": {
              "outlinewidth": 0,
              "ticks": ""
             }
            },
            "type": "scatter"
           }
          ],
          "scatter3d": [
           {
            "line": {
             "colorbar": {
              "outlinewidth": 0,
              "ticks": ""
             }
            },
            "marker": {
             "colorbar": {
              "outlinewidth": 0,
              "ticks": ""
             }
            },
            "type": "scatter3d"
           }
          ],
          "scattercarpet": [
           {
            "marker": {
             "colorbar": {
              "outlinewidth": 0,
              "ticks": ""
             }
            },
            "type": "scattercarpet"
           }
          ],
          "scattergeo": [
           {
            "marker": {
             "colorbar": {
              "outlinewidth": 0,
              "ticks": ""
             }
            },
            "type": "scattergeo"
           }
          ],
          "scattergl": [
           {
            "marker": {
             "colorbar": {
              "outlinewidth": 0,
              "ticks": ""
             }
            },
            "type": "scattergl"
           }
          ],
          "scattermapbox": [
           {
            "marker": {
             "colorbar": {
              "outlinewidth": 0,
              "ticks": ""
             }
            },
            "type": "scattermapbox"
           }
          ],
          "scatterpolar": [
           {
            "marker": {
             "colorbar": {
              "outlinewidth": 0,
              "ticks": ""
             }
            },
            "type": "scatterpolar"
           }
          ],
          "scatterpolargl": [
           {
            "marker": {
             "colorbar": {
              "outlinewidth": 0,
              "ticks": ""
             }
            },
            "type": "scatterpolargl"
           }
          ],
          "scatterternary": [
           {
            "marker": {
             "colorbar": {
              "outlinewidth": 0,
              "ticks": ""
             }
            },
            "type": "scatterternary"
           }
          ],
          "surface": [
           {
            "colorbar": {
             "outlinewidth": 0,
             "ticks": ""
            },
            "colorscale": [
             [
              0,
              "#0d0887"
             ],
             [
              0.1111111111111111,
              "#46039f"
             ],
             [
              0.2222222222222222,
              "#7201a8"
             ],
             [
              0.3333333333333333,
              "#9c179e"
             ],
             [
              0.4444444444444444,
              "#bd3786"
             ],
             [
              0.5555555555555556,
              "#d8576b"
             ],
             [
              0.6666666666666666,
              "#ed7953"
             ],
             [
              0.7777777777777778,
              "#fb9f3a"
             ],
             [
              0.8888888888888888,
              "#fdca26"
             ],
             [
              1,
              "#f0f921"
             ]
            ],
            "type": "surface"
           }
          ],
          "table": [
           {
            "cells": {
             "fill": {
              "color": "#EBF0F8"
             },
             "line": {
              "color": "white"
             }
            },
            "header": {
             "fill": {
              "color": "#C8D4E3"
             },
             "line": {
              "color": "white"
             }
            },
            "type": "table"
           }
          ]
         },
         "layout": {
          "annotationdefaults": {
           "arrowcolor": "#2a3f5f",
           "arrowhead": 0,
           "arrowwidth": 1
          },
          "coloraxis": {
           "colorbar": {
            "outlinewidth": 0,
            "ticks": ""
           }
          },
          "colorscale": {
           "diverging": [
            [
             0,
             "#8e0152"
            ],
            [
             0.1,
             "#c51b7d"
            ],
            [
             0.2,
             "#de77ae"
            ],
            [
             0.3,
             "#f1b6da"
            ],
            [
             0.4,
             "#fde0ef"
            ],
            [
             0.5,
             "#f7f7f7"
            ],
            [
             0.6,
             "#e6f5d0"
            ],
            [
             0.7,
             "#b8e186"
            ],
            [
             0.8,
             "#7fbc41"
            ],
            [
             0.9,
             "#4d9221"
            ],
            [
             1,
             "#276419"
            ]
           ],
           "sequential": [
            [
             0,
             "#0d0887"
            ],
            [
             0.1111111111111111,
             "#46039f"
            ],
            [
             0.2222222222222222,
             "#7201a8"
            ],
            [
             0.3333333333333333,
             "#9c179e"
            ],
            [
             0.4444444444444444,
             "#bd3786"
            ],
            [
             0.5555555555555556,
             "#d8576b"
            ],
            [
             0.6666666666666666,
             "#ed7953"
            ],
            [
             0.7777777777777778,
             "#fb9f3a"
            ],
            [
             0.8888888888888888,
             "#fdca26"
            ],
            [
             1,
             "#f0f921"
            ]
           ],
           "sequentialminus": [
            [
             0,
             "#0d0887"
            ],
            [
             0.1111111111111111,
             "#46039f"
            ],
            [
             0.2222222222222222,
             "#7201a8"
            ],
            [
             0.3333333333333333,
             "#9c179e"
            ],
            [
             0.4444444444444444,
             "#bd3786"
            ],
            [
             0.5555555555555556,
             "#d8576b"
            ],
            [
             0.6666666666666666,
             "#ed7953"
            ],
            [
             0.7777777777777778,
             "#fb9f3a"
            ],
            [
             0.8888888888888888,
             "#fdca26"
            ],
            [
             1,
             "#f0f921"
            ]
           ]
          },
          "colorway": [
           "#636efa",
           "#EF553B",
           "#00cc96",
           "#ab63fa",
           "#FFA15A",
           "#19d3f3",
           "#FF6692",
           "#B6E880",
           "#FF97FF",
           "#FECB52"
          ],
          "font": {
           "color": "#2a3f5f"
          },
          "geo": {
           "bgcolor": "white",
           "lakecolor": "white",
           "landcolor": "#E5ECF6",
           "showlakes": true,
           "showland": true,
           "subunitcolor": "white"
          },
          "hoverlabel": {
           "align": "left"
          },
          "hovermode": "closest",
          "mapbox": {
           "style": "light"
          },
          "paper_bgcolor": "white",
          "plot_bgcolor": "#E5ECF6",
          "polar": {
           "angularaxis": {
            "gridcolor": "white",
            "linecolor": "white",
            "ticks": ""
           },
           "bgcolor": "#E5ECF6",
           "radialaxis": {
            "gridcolor": "white",
            "linecolor": "white",
            "ticks": ""
           }
          },
          "scene": {
           "xaxis": {
            "backgroundcolor": "#E5ECF6",
            "gridcolor": "white",
            "gridwidth": 2,
            "linecolor": "white",
            "showbackground": true,
            "ticks": "",
            "zerolinecolor": "white"
           },
           "yaxis": {
            "backgroundcolor": "#E5ECF6",
            "gridcolor": "white",
            "gridwidth": 2,
            "linecolor": "white",
            "showbackground": true,
            "ticks": "",
            "zerolinecolor": "white"
           },
           "zaxis": {
            "backgroundcolor": "#E5ECF6",
            "gridcolor": "white",
            "gridwidth": 2,
            "linecolor": "white",
            "showbackground": true,
            "ticks": "",
            "zerolinecolor": "white"
           }
          },
          "shapedefaults": {
           "line": {
            "color": "#2a3f5f"
           }
          },
          "ternary": {
           "aaxis": {
            "gridcolor": "white",
            "linecolor": "white",
            "ticks": ""
           },
           "baxis": {
            "gridcolor": "white",
            "linecolor": "white",
            "ticks": ""
           },
           "bgcolor": "#E5ECF6",
           "caxis": {
            "gridcolor": "white",
            "linecolor": "white",
            "ticks": ""
           }
          },
          "title": {
           "x": 0.05
          },
          "xaxis": {
           "automargin": true,
           "gridcolor": "white",
           "linecolor": "white",
           "ticks": "",
           "title": {
            "standoff": 15
           },
           "zerolinecolor": "white",
           "zerolinewidth": 2
          },
          "yaxis": {
           "automargin": true,
           "gridcolor": "white",
           "linecolor": "white",
           "ticks": "",
           "title": {
            "standoff": 15
           },
           "zerolinecolor": "white",
           "zerolinewidth": 2
          }
         }
        },
        "title": {
         "text": "Male and Female Vaccinated ratio for Covid19"
        }
       }
      },
      "text/html": [
       "<div>                            <div id=\"76df3563-fbd9-4431-8ded-e7c8fee2c4f8\" class=\"plotly-graph-div\" style=\"height:525px; width:100%;\"></div>            <script type=\"text/javascript\">                require([\"plotly\"], function(Plotly) {                    window.PLOTLYENV=window.PLOTLYENV || {};                                    if (document.getElementById(\"76df3563-fbd9-4431-8ded-e7c8fee2c4f8\")) {                    Plotly.newPlot(                        \"76df3563-fbd9-4431-8ded-e7c8fee2c4f8\",                        [{\"domain\": {\"x\": [0.0, 1.0], \"y\": [0.0, 1.0]}, \"hovertemplate\": \"label=%{label}<br>value=%{value}<extra></extra>\", \"labels\": [\"Male Vaccinated\", \"Female Vaccinated\", \"Trans Gender\"], \"legendgroup\": \"\", \"name\": \"\", \"showlegend\": true, \"type\": \"pie\", \"values\": [18579894484.0, 16340809968.0, 5315608.0]}],                        {\"legend\": {\"tracegroupgap\": 0}, \"piecolorway\": [\"#000004\", \"#180f3d\", \"#440f76\", \"#721f81\", \"#9e2f7f\", \"#cd4071\", \"#f1605d\", \"#fd9668\", \"#feca8d\", \"#fcfdbf\"], \"template\": {\"data\": {\"bar\": [{\"error_x\": {\"color\": \"#2a3f5f\"}, \"error_y\": {\"color\": \"#2a3f5f\"}, \"marker\": {\"line\": {\"color\": \"#E5ECF6\", \"width\": 0.5}}, \"type\": \"bar\"}], \"barpolar\": [{\"marker\": {\"line\": {\"color\": \"#E5ECF6\", \"width\": 0.5}}, \"type\": \"barpolar\"}], \"carpet\": [{\"aaxis\": {\"endlinecolor\": \"#2a3f5f\", \"gridcolor\": \"white\", \"linecolor\": \"white\", \"minorgridcolor\": \"white\", \"startlinecolor\": \"#2a3f5f\"}, \"baxis\": {\"endlinecolor\": \"#2a3f5f\", \"gridcolor\": \"white\", \"linecolor\": \"white\", \"minorgridcolor\": \"white\", \"startlinecolor\": \"#2a3f5f\"}, \"type\": \"carpet\"}], \"choropleth\": [{\"colorbar\": {\"outlinewidth\": 0, \"ticks\": \"\"}, \"type\": \"choropleth\"}], \"contour\": [{\"colorbar\": {\"outlinewidth\": 0, \"ticks\": \"\"}, \"colorscale\": [[0.0, \"#0d0887\"], [0.1111111111111111, \"#46039f\"], [0.2222222222222222, \"#7201a8\"], [0.3333333333333333, \"#9c179e\"], [0.4444444444444444, \"#bd3786\"], [0.5555555555555556, \"#d8576b\"], [0.6666666666666666, \"#ed7953\"], [0.7777777777777778, \"#fb9f3a\"], [0.8888888888888888, \"#fdca26\"], [1.0, \"#f0f921\"]], \"type\": \"contour\"}], \"contourcarpet\": [{\"colorbar\": {\"outlinewidth\": 0, \"ticks\": \"\"}, \"type\": \"contourcarpet\"}], \"heatmap\": [{\"colorbar\": {\"outlinewidth\": 0, \"ticks\": \"\"}, \"colorscale\": [[0.0, \"#0d0887\"], [0.1111111111111111, \"#46039f\"], [0.2222222222222222, \"#7201a8\"], [0.3333333333333333, \"#9c179e\"], [0.4444444444444444, \"#bd3786\"], [0.5555555555555556, \"#d8576b\"], [0.6666666666666666, \"#ed7953\"], [0.7777777777777778, \"#fb9f3a\"], [0.8888888888888888, \"#fdca26\"], [1.0, \"#f0f921\"]], \"type\": \"heatmap\"}], \"heatmapgl\": [{\"colorbar\": {\"outlinewidth\": 0, \"ticks\": \"\"}, \"colorscale\": [[0.0, \"#0d0887\"], [0.1111111111111111, \"#46039f\"], [0.2222222222222222, \"#7201a8\"], [0.3333333333333333, \"#9c179e\"], [0.4444444444444444, \"#bd3786\"], [0.5555555555555556, \"#d8576b\"], [0.6666666666666666, \"#ed7953\"], [0.7777777777777778, \"#fb9f3a\"], [0.8888888888888888, \"#fdca26\"], [1.0, \"#f0f921\"]], \"type\": \"heatmapgl\"}], \"histogram\": [{\"marker\": {\"colorbar\": {\"outlinewidth\": 0, \"ticks\": \"\"}}, \"type\": \"histogram\"}], \"histogram2d\": [{\"colorbar\": {\"outlinewidth\": 0, \"ticks\": \"\"}, \"colorscale\": [[0.0, \"#0d0887\"], [0.1111111111111111, \"#46039f\"], [0.2222222222222222, \"#7201a8\"], [0.3333333333333333, \"#9c179e\"], [0.4444444444444444, \"#bd3786\"], [0.5555555555555556, \"#d8576b\"], [0.6666666666666666, \"#ed7953\"], [0.7777777777777778, \"#fb9f3a\"], [0.8888888888888888, \"#fdca26\"], [1.0, \"#f0f921\"]], \"type\": \"histogram2d\"}], \"histogram2dcontour\": [{\"colorbar\": {\"outlinewidth\": 0, \"ticks\": \"\"}, \"colorscale\": [[0.0, \"#0d0887\"], [0.1111111111111111, \"#46039f\"], [0.2222222222222222, \"#7201a8\"], [0.3333333333333333, \"#9c179e\"], [0.4444444444444444, \"#bd3786\"], [0.5555555555555556, \"#d8576b\"], [0.6666666666666666, \"#ed7953\"], [0.7777777777777778, \"#fb9f3a\"], [0.8888888888888888, \"#fdca26\"], [1.0, \"#f0f921\"]], \"type\": \"histogram2dcontour\"}], \"mesh3d\": [{\"colorbar\": {\"outlinewidth\": 0, \"ticks\": \"\"}, \"type\": \"mesh3d\"}], \"parcoords\": [{\"line\": {\"colorbar\": {\"outlinewidth\": 0, \"ticks\": \"\"}}, \"type\": \"parcoords\"}], \"pie\": [{\"automargin\": true, \"type\": \"pie\"}], \"scatter\": [{\"marker\": {\"colorbar\": {\"outlinewidth\": 0, \"ticks\": \"\"}}, \"type\": \"scatter\"}], \"scatter3d\": [{\"line\": {\"colorbar\": {\"outlinewidth\": 0, \"ticks\": \"\"}}, \"marker\": {\"colorbar\": {\"outlinewidth\": 0, \"ticks\": \"\"}}, \"type\": \"scatter3d\"}], \"scattercarpet\": [{\"marker\": {\"colorbar\": {\"outlinewidth\": 0, \"ticks\": \"\"}}, \"type\": \"scattercarpet\"}], \"scattergeo\": [{\"marker\": {\"colorbar\": {\"outlinewidth\": 0, \"ticks\": \"\"}}, \"type\": \"scattergeo\"}], \"scattergl\": [{\"marker\": {\"colorbar\": {\"outlinewidth\": 0, \"ticks\": \"\"}}, \"type\": \"scattergl\"}], \"scattermapbox\": [{\"marker\": {\"colorbar\": {\"outlinewidth\": 0, \"ticks\": \"\"}}, \"type\": \"scattermapbox\"}], \"scatterpolar\": [{\"marker\": {\"colorbar\": {\"outlinewidth\": 0, \"ticks\": \"\"}}, \"type\": \"scatterpolar\"}], \"scatterpolargl\": [{\"marker\": {\"colorbar\": {\"outlinewidth\": 0, \"ticks\": \"\"}}, \"type\": \"scatterpolargl\"}], \"scatterternary\": [{\"marker\": {\"colorbar\": {\"outlinewidth\": 0, \"ticks\": \"\"}}, \"type\": \"scatterternary\"}], \"surface\": [{\"colorbar\": {\"outlinewidth\": 0, \"ticks\": \"\"}, \"colorscale\": [[0.0, \"#0d0887\"], [0.1111111111111111, \"#46039f\"], [0.2222222222222222, \"#7201a8\"], [0.3333333333333333, \"#9c179e\"], [0.4444444444444444, \"#bd3786\"], [0.5555555555555556, \"#d8576b\"], [0.6666666666666666, \"#ed7953\"], [0.7777777777777778, \"#fb9f3a\"], [0.8888888888888888, \"#fdca26\"], [1.0, \"#f0f921\"]], \"type\": \"surface\"}], \"table\": [{\"cells\": {\"fill\": {\"color\": \"#EBF0F8\"}, \"line\": {\"color\": \"white\"}}, \"header\": {\"fill\": {\"color\": \"#C8D4E3\"}, \"line\": {\"color\": \"white\"}}, \"type\": \"table\"}]}, \"layout\": {\"annotationdefaults\": {\"arrowcolor\": \"#2a3f5f\", \"arrowhead\": 0, \"arrowwidth\": 1}, \"coloraxis\": {\"colorbar\": {\"outlinewidth\": 0, \"ticks\": \"\"}}, \"colorscale\": {\"diverging\": [[0, \"#8e0152\"], [0.1, \"#c51b7d\"], [0.2, \"#de77ae\"], [0.3, \"#f1b6da\"], [0.4, \"#fde0ef\"], [0.5, \"#f7f7f7\"], [0.6, \"#e6f5d0\"], [0.7, \"#b8e186\"], [0.8, \"#7fbc41\"], [0.9, \"#4d9221\"], [1, \"#276419\"]], \"sequential\": [[0.0, \"#0d0887\"], [0.1111111111111111, \"#46039f\"], [0.2222222222222222, \"#7201a8\"], [0.3333333333333333, \"#9c179e\"], [0.4444444444444444, \"#bd3786\"], [0.5555555555555556, \"#d8576b\"], [0.6666666666666666, \"#ed7953\"], [0.7777777777777778, \"#fb9f3a\"], [0.8888888888888888, \"#fdca26\"], [1.0, \"#f0f921\"]], \"sequentialminus\": [[0.0, \"#0d0887\"], [0.1111111111111111, \"#46039f\"], [0.2222222222222222, \"#7201a8\"], [0.3333333333333333, \"#9c179e\"], [0.4444444444444444, \"#bd3786\"], [0.5555555555555556, \"#d8576b\"], [0.6666666666666666, \"#ed7953\"], [0.7777777777777778, \"#fb9f3a\"], [0.8888888888888888, \"#fdca26\"], [1.0, \"#f0f921\"]]}, \"colorway\": [\"#636efa\", \"#EF553B\", \"#00cc96\", \"#ab63fa\", \"#FFA15A\", \"#19d3f3\", \"#FF6692\", \"#B6E880\", \"#FF97FF\", \"#FECB52\"], \"font\": {\"color\": \"#2a3f5f\"}, \"geo\": {\"bgcolor\": \"white\", \"lakecolor\": \"white\", \"landcolor\": \"#E5ECF6\", \"showlakes\": true, \"showland\": true, \"subunitcolor\": \"white\"}, \"hoverlabel\": {\"align\": \"left\"}, \"hovermode\": \"closest\", \"mapbox\": {\"style\": \"light\"}, \"paper_bgcolor\": \"white\", \"plot_bgcolor\": \"#E5ECF6\", \"polar\": {\"angularaxis\": {\"gridcolor\": \"white\", \"linecolor\": \"white\", \"ticks\": \"\"}, \"bgcolor\": \"#E5ECF6\", \"radialaxis\": {\"gridcolor\": \"white\", \"linecolor\": \"white\", \"ticks\": \"\"}}, \"scene\": {\"xaxis\": {\"backgroundcolor\": \"#E5ECF6\", \"gridcolor\": \"white\", \"gridwidth\": 2, \"linecolor\": \"white\", \"showbackground\": true, \"ticks\": \"\", \"zerolinecolor\": \"white\"}, \"yaxis\": {\"backgroundcolor\": \"#E5ECF6\", \"gridcolor\": \"white\", \"gridwidth\": 2, \"linecolor\": \"white\", \"showbackground\": true, \"ticks\": \"\", \"zerolinecolor\": \"white\"}, \"zaxis\": {\"backgroundcolor\": \"#E5ECF6\", \"gridcolor\": \"white\", \"gridwidth\": 2, \"linecolor\": \"white\", \"showbackground\": true, \"ticks\": \"\", \"zerolinecolor\": \"white\"}}, \"shapedefaults\": {\"line\": {\"color\": \"#2a3f5f\"}}, \"ternary\": {\"aaxis\": {\"gridcolor\": \"white\", \"linecolor\": \"white\", \"ticks\": \"\"}, \"baxis\": {\"gridcolor\": \"white\", \"linecolor\": \"white\", \"ticks\": \"\"}, \"bgcolor\": \"#E5ECF6\", \"caxis\": {\"gridcolor\": \"white\", \"linecolor\": \"white\", \"ticks\": \"\"}}, \"title\": {\"x\": 0.05}, \"xaxis\": {\"automargin\": true, \"gridcolor\": \"white\", \"linecolor\": \"white\", \"ticks\": \"\", \"title\": {\"standoff\": 15}, \"zerolinecolor\": \"white\", \"zerolinewidth\": 2}, \"yaxis\": {\"automargin\": true, \"gridcolor\": \"white\", \"linecolor\": \"white\", \"ticks\": \"\", \"title\": {\"standoff\": 15}, \"zerolinecolor\": \"white\", \"zerolinewidth\": 2}}}, \"title\": {\"text\": \"Male and Female Vaccinated ratio for Covid19\"}},                        {\"responsive\": true}                    ).then(function(){\n",
       "                            \n",
       "var gd = document.getElementById('76df3563-fbd9-4431-8ded-e7c8fee2c4f8');\n",
       "var x = new MutationObserver(function (mutations, observer) {{\n",
       "        var display = window.getComputedStyle(gd).display;\n",
       "        if (!display || display === 'none') {{\n",
       "            console.log([gd, 'removed!']);\n",
       "            Plotly.purge(gd);\n",
       "            observer.disconnect();\n",
       "        }}\n",
       "}});\n",
       "\n",
       "// Listen for the removal of the full notebook cells\n",
       "var notebookContainer = gd.closest('#notebook-container');\n",
       "if (notebookContainer) {{\n",
       "    x.observe(notebookContainer, {childList: true});\n",
       "}}\n",
       "\n",
       "// Listen for the clearing of the current output cell\n",
       "var outputEl = gd.closest('.output');\n",
       "if (outputEl) {{\n",
       "    x.observe(outputEl, {childList: true});\n",
       "}}\n",
       "\n",
       "                        })                };                });            </script>        </div>"
      ]
     },
     "metadata": {},
     "output_type": "display_data"
    }
   ],
   "source": [
    "male = vaccination[\"Male(Individuals Vaccinated)\"].sum() \n",
    "female = vaccination[\"Female(Individuals Vaccinated)\"].sum()  \n",
    "trans = vaccination[\"Transgender(Individuals Vaccinated)\"].sum()\n",
    "px.pie(names=[\"Male Vaccinated\",\"Female Vaccinated\",\"Trans Gender\"],values=[male,female,trans],title=\"Male and Female Vaccinated ratio for Covid19\",\n",
    "       color_discrete_sequence=px.colors.sequential.Magma)"
   ]
  },
  {
   "cell_type": "code",
   "execution_count": 148,
   "metadata": {},
   "outputs": [
    {
     "data": {
      "application/vnd.plotly.v1+json": {
       "config": {
        "plotlyServerURL": "https://plot.ly"
       },
       "data": [
        {
         "domain": {
          "x": [
           0,
           1
          ],
          "y": [
           0,
           1
          ]
         },
         "hovertemplate": "label=%{label}<br>value=%{value}<extra></extra>",
         "labels": [
          "Covaxin Vaccinated",
          "Covishield Vaccinated"
         ],
         "legendgroup": "",
         "name": "",
         "showlegend": true,
         "type": "pie",
         "values": [
          4408372879,
          36316339316
         ]
        }
       ],
       "layout": {
        "legend": {
         "tracegroupgap": 0
        },
        "piecolorway": [
         "rgb(0,0,0)",
         "rgb(230,0,0)",
         "rgb(255,210,0)",
         "rgb(255,255,255)"
        ],
        "template": {
         "data": {
          "bar": [
           {
            "error_x": {
             "color": "#2a3f5f"
            },
            "error_y": {
             "color": "#2a3f5f"
            },
            "marker": {
             "line": {
              "color": "#E5ECF6",
              "width": 0.5
             }
            },
            "type": "bar"
           }
          ],
          "barpolar": [
           {
            "marker": {
             "line": {
              "color": "#E5ECF6",
              "width": 0.5
             }
            },
            "type": "barpolar"
           }
          ],
          "carpet": [
           {
            "aaxis": {
             "endlinecolor": "#2a3f5f",
             "gridcolor": "white",
             "linecolor": "white",
             "minorgridcolor": "white",
             "startlinecolor": "#2a3f5f"
            },
            "baxis": {
             "endlinecolor": "#2a3f5f",
             "gridcolor": "white",
             "linecolor": "white",
             "minorgridcolor": "white",
             "startlinecolor": "#2a3f5f"
            },
            "type": "carpet"
           }
          ],
          "choropleth": [
           {
            "colorbar": {
             "outlinewidth": 0,
             "ticks": ""
            },
            "type": "choropleth"
           }
          ],
          "contour": [
           {
            "colorbar": {
             "outlinewidth": 0,
             "ticks": ""
            },
            "colorscale": [
             [
              0,
              "#0d0887"
             ],
             [
              0.1111111111111111,
              "#46039f"
             ],
             [
              0.2222222222222222,
              "#7201a8"
             ],
             [
              0.3333333333333333,
              "#9c179e"
             ],
             [
              0.4444444444444444,
              "#bd3786"
             ],
             [
              0.5555555555555556,
              "#d8576b"
             ],
             [
              0.6666666666666666,
              "#ed7953"
             ],
             [
              0.7777777777777778,
              "#fb9f3a"
             ],
             [
              0.8888888888888888,
              "#fdca26"
             ],
             [
              1,
              "#f0f921"
             ]
            ],
            "type": "contour"
           }
          ],
          "contourcarpet": [
           {
            "colorbar": {
             "outlinewidth": 0,
             "ticks": ""
            },
            "type": "contourcarpet"
           }
          ],
          "heatmap": [
           {
            "colorbar": {
             "outlinewidth": 0,
             "ticks": ""
            },
            "colorscale": [
             [
              0,
              "#0d0887"
             ],
             [
              0.1111111111111111,
              "#46039f"
             ],
             [
              0.2222222222222222,
              "#7201a8"
             ],
             [
              0.3333333333333333,
              "#9c179e"
             ],
             [
              0.4444444444444444,
              "#bd3786"
             ],
             [
              0.5555555555555556,
              "#d8576b"
             ],
             [
              0.6666666666666666,
              "#ed7953"
             ],
             [
              0.7777777777777778,
              "#fb9f3a"
             ],
             [
              0.8888888888888888,
              "#fdca26"
             ],
             [
              1,
              "#f0f921"
             ]
            ],
            "type": "heatmap"
           }
          ],
          "heatmapgl": [
           {
            "colorbar": {
             "outlinewidth": 0,
             "ticks": ""
            },
            "colorscale": [
             [
              0,
              "#0d0887"
             ],
             [
              0.1111111111111111,
              "#46039f"
             ],
             [
              0.2222222222222222,
              "#7201a8"
             ],
             [
              0.3333333333333333,
              "#9c179e"
             ],
             [
              0.4444444444444444,
              "#bd3786"
             ],
             [
              0.5555555555555556,
              "#d8576b"
             ],
             [
              0.6666666666666666,
              "#ed7953"
             ],
             [
              0.7777777777777778,
              "#fb9f3a"
             ],
             [
              0.8888888888888888,
              "#fdca26"
             ],
             [
              1,
              "#f0f921"
             ]
            ],
            "type": "heatmapgl"
           }
          ],
          "histogram": [
           {
            "marker": {
             "colorbar": {
              "outlinewidth": 0,
              "ticks": ""
             }
            },
            "type": "histogram"
           }
          ],
          "histogram2d": [
           {
            "colorbar": {
             "outlinewidth": 0,
             "ticks": ""
            },
            "colorscale": [
             [
              0,
              "#0d0887"
             ],
             [
              0.1111111111111111,
              "#46039f"
             ],
             [
              0.2222222222222222,
              "#7201a8"
             ],
             [
              0.3333333333333333,
              "#9c179e"
             ],
             [
              0.4444444444444444,
              "#bd3786"
             ],
             [
              0.5555555555555556,
              "#d8576b"
             ],
             [
              0.6666666666666666,
              "#ed7953"
             ],
             [
              0.7777777777777778,
              "#fb9f3a"
             ],
             [
              0.8888888888888888,
              "#fdca26"
             ],
             [
              1,
              "#f0f921"
             ]
            ],
            "type": "histogram2d"
           }
          ],
          "histogram2dcontour": [
           {
            "colorbar": {
             "outlinewidth": 0,
             "ticks": ""
            },
            "colorscale": [
             [
              0,
              "#0d0887"
             ],
             [
              0.1111111111111111,
              "#46039f"
             ],
             [
              0.2222222222222222,
              "#7201a8"
             ],
             [
              0.3333333333333333,
              "#9c179e"
             ],
             [
              0.4444444444444444,
              "#bd3786"
             ],
             [
              0.5555555555555556,
              "#d8576b"
             ],
             [
              0.6666666666666666,
              "#ed7953"
             ],
             [
              0.7777777777777778,
              "#fb9f3a"
             ],
             [
              0.8888888888888888,
              "#fdca26"
             ],
             [
              1,
              "#f0f921"
             ]
            ],
            "type": "histogram2dcontour"
           }
          ],
          "mesh3d": [
           {
            "colorbar": {
             "outlinewidth": 0,
             "ticks": ""
            },
            "type": "mesh3d"
           }
          ],
          "parcoords": [
           {
            "line": {
             "colorbar": {
              "outlinewidth": 0,
              "ticks": ""
             }
            },
            "type": "parcoords"
           }
          ],
          "pie": [
           {
            "automargin": true,
            "type": "pie"
           }
          ],
          "scatter": [
           {
            "marker": {
             "colorbar": {
              "outlinewidth": 0,
              "ticks": ""
             }
            },
            "type": "scatter"
           }
          ],
          "scatter3d": [
           {
            "line": {
             "colorbar": {
              "outlinewidth": 0,
              "ticks": ""
             }
            },
            "marker": {
             "colorbar": {
              "outlinewidth": 0,
              "ticks": ""
             }
            },
            "type": "scatter3d"
           }
          ],
          "scattercarpet": [
           {
            "marker": {
             "colorbar": {
              "outlinewidth": 0,
              "ticks": ""
             }
            },
            "type": "scattercarpet"
           }
          ],
          "scattergeo": [
           {
            "marker": {
             "colorbar": {
              "outlinewidth": 0,
              "ticks": ""
             }
            },
            "type": "scattergeo"
           }
          ],
          "scattergl": [
           {
            "marker": {
             "colorbar": {
              "outlinewidth": 0,
              "ticks": ""
             }
            },
            "type": "scattergl"
           }
          ],
          "scattermapbox": [
           {
            "marker": {
             "colorbar": {
              "outlinewidth": 0,
              "ticks": ""
             }
            },
            "type": "scattermapbox"
           }
          ],
          "scatterpolar": [
           {
            "marker": {
             "colorbar": {
              "outlinewidth": 0,
              "ticks": ""
             }
            },
            "type": "scatterpolar"
           }
          ],
          "scatterpolargl": [
           {
            "marker": {
             "colorbar": {
              "outlinewidth": 0,
              "ticks": ""
             }
            },
            "type": "scatterpolargl"
           }
          ],
          "scatterternary": [
           {
            "marker": {
             "colorbar": {
              "outlinewidth": 0,
              "ticks": ""
             }
            },
            "type": "scatterternary"
           }
          ],
          "surface": [
           {
            "colorbar": {
             "outlinewidth": 0,
             "ticks": ""
            },
            "colorscale": [
             [
              0,
              "#0d0887"
             ],
             [
              0.1111111111111111,
              "#46039f"
             ],
             [
              0.2222222222222222,
              "#7201a8"
             ],
             [
              0.3333333333333333,
              "#9c179e"
             ],
             [
              0.4444444444444444,
              "#bd3786"
             ],
             [
              0.5555555555555556,
              "#d8576b"
             ],
             [
              0.6666666666666666,
              "#ed7953"
             ],
             [
              0.7777777777777778,
              "#fb9f3a"
             ],
             [
              0.8888888888888888,
              "#fdca26"
             ],
             [
              1,
              "#f0f921"
             ]
            ],
            "type": "surface"
           }
          ],
          "table": [
           {
            "cells": {
             "fill": {
              "color": "#EBF0F8"
             },
             "line": {
              "color": "white"
             }
            },
            "header": {
             "fill": {
              "color": "#C8D4E3"
             },
             "line": {
              "color": "white"
             }
            },
            "type": "table"
           }
          ]
         },
         "layout": {
          "annotationdefaults": {
           "arrowcolor": "#2a3f5f",
           "arrowhead": 0,
           "arrowwidth": 1
          },
          "coloraxis": {
           "colorbar": {
            "outlinewidth": 0,
            "ticks": ""
           }
          },
          "colorscale": {
           "diverging": [
            [
             0,
             "#8e0152"
            ],
            [
             0.1,
             "#c51b7d"
            ],
            [
             0.2,
             "#de77ae"
            ],
            [
             0.3,
             "#f1b6da"
            ],
            [
             0.4,
             "#fde0ef"
            ],
            [
             0.5,
             "#f7f7f7"
            ],
            [
             0.6,
             "#e6f5d0"
            ],
            [
             0.7,
             "#b8e186"
            ],
            [
             0.8,
             "#7fbc41"
            ],
            [
             0.9,
             "#4d9221"
            ],
            [
             1,
             "#276419"
            ]
           ],
           "sequential": [
            [
             0,
             "#0d0887"
            ],
            [
             0.1111111111111111,
             "#46039f"
            ],
            [
             0.2222222222222222,
             "#7201a8"
            ],
            [
             0.3333333333333333,
             "#9c179e"
            ],
            [
             0.4444444444444444,
             "#bd3786"
            ],
            [
             0.5555555555555556,
             "#d8576b"
            ],
            [
             0.6666666666666666,
             "#ed7953"
            ],
            [
             0.7777777777777778,
             "#fb9f3a"
            ],
            [
             0.8888888888888888,
             "#fdca26"
            ],
            [
             1,
             "#f0f921"
            ]
           ],
           "sequentialminus": [
            [
             0,
             "#0d0887"
            ],
            [
             0.1111111111111111,
             "#46039f"
            ],
            [
             0.2222222222222222,
             "#7201a8"
            ],
            [
             0.3333333333333333,
             "#9c179e"
            ],
            [
             0.4444444444444444,
             "#bd3786"
            ],
            [
             0.5555555555555556,
             "#d8576b"
            ],
            [
             0.6666666666666666,
             "#ed7953"
            ],
            [
             0.7777777777777778,
             "#fb9f3a"
            ],
            [
             0.8888888888888888,
             "#fdca26"
            ],
            [
             1,
             "#f0f921"
            ]
           ]
          },
          "colorway": [
           "#636efa",
           "#EF553B",
           "#00cc96",
           "#ab63fa",
           "#FFA15A",
           "#19d3f3",
           "#FF6692",
           "#B6E880",
           "#FF97FF",
           "#FECB52"
          ],
          "font": {
           "color": "#2a3f5f"
          },
          "geo": {
           "bgcolor": "white",
           "lakecolor": "white",
           "landcolor": "#E5ECF6",
           "showlakes": true,
           "showland": true,
           "subunitcolor": "white"
          },
          "hoverlabel": {
           "align": "left"
          },
          "hovermode": "closest",
          "mapbox": {
           "style": "light"
          },
          "paper_bgcolor": "white",
          "plot_bgcolor": "#E5ECF6",
          "polar": {
           "angularaxis": {
            "gridcolor": "white",
            "linecolor": "white",
            "ticks": ""
           },
           "bgcolor": "#E5ECF6",
           "radialaxis": {
            "gridcolor": "white",
            "linecolor": "white",
            "ticks": ""
           }
          },
          "scene": {
           "xaxis": {
            "backgroundcolor": "#E5ECF6",
            "gridcolor": "white",
            "gridwidth": 2,
            "linecolor": "white",
            "showbackground": true,
            "ticks": "",
            "zerolinecolor": "white"
           },
           "yaxis": {
            "backgroundcolor": "#E5ECF6",
            "gridcolor": "white",
            "gridwidth": 2,
            "linecolor": "white",
            "showbackground": true,
            "ticks": "",
            "zerolinecolor": "white"
           },
           "zaxis": {
            "backgroundcolor": "#E5ECF6",
            "gridcolor": "white",
            "gridwidth": 2,
            "linecolor": "white",
            "showbackground": true,
            "ticks": "",
            "zerolinecolor": "white"
           }
          },
          "shapedefaults": {
           "line": {
            "color": "#2a3f5f"
           }
          },
          "ternary": {
           "aaxis": {
            "gridcolor": "white",
            "linecolor": "white",
            "ticks": ""
           },
           "baxis": {
            "gridcolor": "white",
            "linecolor": "white",
            "ticks": ""
           },
           "bgcolor": "#E5ECF6",
           "caxis": {
            "gridcolor": "white",
            "linecolor": "white",
            "ticks": ""
           }
          },
          "title": {
           "x": 0.05
          },
          "xaxis": {
           "automargin": true,
           "gridcolor": "white",
           "linecolor": "white",
           "ticks": "",
           "title": {
            "standoff": 15
           },
           "zerolinecolor": "white",
           "zerolinewidth": 2
          },
          "yaxis": {
           "automargin": true,
           "gridcolor": "white",
           "linecolor": "white",
           "ticks": "",
           "title": {
            "standoff": 15
           },
           "zerolinecolor": "white",
           "zerolinewidth": 2
          }
         }
        },
        "title": {
         "text": "Covaxin and Covishield Vaccination"
        }
       }
      },
      "text/html": [
       "<div>                            <div id=\"867ca49f-9a69-4114-934a-9171a7cb7229\" class=\"plotly-graph-div\" style=\"height:525px; width:100%;\"></div>            <script type=\"text/javascript\">                require([\"plotly\"], function(Plotly) {                    window.PLOTLYENV=window.PLOTLYENV || {};                                    if (document.getElementById(\"867ca49f-9a69-4114-934a-9171a7cb7229\")) {                    Plotly.newPlot(                        \"867ca49f-9a69-4114-934a-9171a7cb7229\",                        [{\"domain\": {\"x\": [0.0, 1.0], \"y\": [0.0, 1.0]}, \"hovertemplate\": \"label=%{label}<br>value=%{value}<extra></extra>\", \"labels\": [\"Covaxin Vaccinated\", \"Covishield Vaccinated\"], \"legendgroup\": \"\", \"name\": \"\", \"showlegend\": true, \"type\": \"pie\", \"values\": [4408372879.0, 36316339316.0]}],                        {\"legend\": {\"tracegroupgap\": 0}, \"piecolorway\": [\"rgb(0,0,0)\", \"rgb(230,0,0)\", \"rgb(255,210,0)\", \"rgb(255,255,255)\"], \"template\": {\"data\": {\"bar\": [{\"error_x\": {\"color\": \"#2a3f5f\"}, \"error_y\": {\"color\": \"#2a3f5f\"}, \"marker\": {\"line\": {\"color\": \"#E5ECF6\", \"width\": 0.5}}, \"type\": \"bar\"}], \"barpolar\": [{\"marker\": {\"line\": {\"color\": \"#E5ECF6\", \"width\": 0.5}}, \"type\": \"barpolar\"}], \"carpet\": [{\"aaxis\": {\"endlinecolor\": \"#2a3f5f\", \"gridcolor\": \"white\", \"linecolor\": \"white\", \"minorgridcolor\": \"white\", \"startlinecolor\": \"#2a3f5f\"}, \"baxis\": {\"endlinecolor\": \"#2a3f5f\", \"gridcolor\": \"white\", \"linecolor\": \"white\", \"minorgridcolor\": \"white\", \"startlinecolor\": \"#2a3f5f\"}, \"type\": \"carpet\"}], \"choropleth\": [{\"colorbar\": {\"outlinewidth\": 0, \"ticks\": \"\"}, \"type\": \"choropleth\"}], \"contour\": [{\"colorbar\": {\"outlinewidth\": 0, \"ticks\": \"\"}, \"colorscale\": [[0.0, \"#0d0887\"], [0.1111111111111111, \"#46039f\"], [0.2222222222222222, \"#7201a8\"], [0.3333333333333333, \"#9c179e\"], [0.4444444444444444, \"#bd3786\"], [0.5555555555555556, \"#d8576b\"], [0.6666666666666666, \"#ed7953\"], [0.7777777777777778, \"#fb9f3a\"], [0.8888888888888888, \"#fdca26\"], [1.0, \"#f0f921\"]], \"type\": \"contour\"}], \"contourcarpet\": [{\"colorbar\": {\"outlinewidth\": 0, \"ticks\": \"\"}, \"type\": \"contourcarpet\"}], \"heatmap\": [{\"colorbar\": {\"outlinewidth\": 0, \"ticks\": \"\"}, \"colorscale\": [[0.0, \"#0d0887\"], [0.1111111111111111, \"#46039f\"], [0.2222222222222222, \"#7201a8\"], [0.3333333333333333, \"#9c179e\"], [0.4444444444444444, \"#bd3786\"], [0.5555555555555556, \"#d8576b\"], [0.6666666666666666, \"#ed7953\"], [0.7777777777777778, \"#fb9f3a\"], [0.8888888888888888, \"#fdca26\"], [1.0, \"#f0f921\"]], \"type\": \"heatmap\"}], \"heatmapgl\": [{\"colorbar\": {\"outlinewidth\": 0, \"ticks\": \"\"}, \"colorscale\": [[0.0, \"#0d0887\"], [0.1111111111111111, \"#46039f\"], [0.2222222222222222, \"#7201a8\"], [0.3333333333333333, \"#9c179e\"], [0.4444444444444444, \"#bd3786\"], [0.5555555555555556, \"#d8576b\"], [0.6666666666666666, \"#ed7953\"], [0.7777777777777778, \"#fb9f3a\"], [0.8888888888888888, \"#fdca26\"], [1.0, \"#f0f921\"]], \"type\": \"heatmapgl\"}], \"histogram\": [{\"marker\": {\"colorbar\": {\"outlinewidth\": 0, \"ticks\": \"\"}}, \"type\": \"histogram\"}], \"histogram2d\": [{\"colorbar\": {\"outlinewidth\": 0, \"ticks\": \"\"}, \"colorscale\": [[0.0, \"#0d0887\"], [0.1111111111111111, \"#46039f\"], [0.2222222222222222, \"#7201a8\"], [0.3333333333333333, \"#9c179e\"], [0.4444444444444444, \"#bd3786\"], [0.5555555555555556, \"#d8576b\"], [0.6666666666666666, \"#ed7953\"], [0.7777777777777778, \"#fb9f3a\"], [0.8888888888888888, \"#fdca26\"], [1.0, \"#f0f921\"]], \"type\": \"histogram2d\"}], \"histogram2dcontour\": [{\"colorbar\": {\"outlinewidth\": 0, \"ticks\": \"\"}, \"colorscale\": [[0.0, \"#0d0887\"], [0.1111111111111111, \"#46039f\"], [0.2222222222222222, \"#7201a8\"], [0.3333333333333333, \"#9c179e\"], [0.4444444444444444, \"#bd3786\"], [0.5555555555555556, \"#d8576b\"], [0.6666666666666666, \"#ed7953\"], [0.7777777777777778, \"#fb9f3a\"], [0.8888888888888888, \"#fdca26\"], [1.0, \"#f0f921\"]], \"type\": \"histogram2dcontour\"}], \"mesh3d\": [{\"colorbar\": {\"outlinewidth\": 0, \"ticks\": \"\"}, \"type\": \"mesh3d\"}], \"parcoords\": [{\"line\": {\"colorbar\": {\"outlinewidth\": 0, \"ticks\": \"\"}}, \"type\": \"parcoords\"}], \"pie\": [{\"automargin\": true, \"type\": \"pie\"}], \"scatter\": [{\"marker\": {\"colorbar\": {\"outlinewidth\": 0, \"ticks\": \"\"}}, \"type\": \"scatter\"}], \"scatter3d\": [{\"line\": {\"colorbar\": {\"outlinewidth\": 0, \"ticks\": \"\"}}, \"marker\": {\"colorbar\": {\"outlinewidth\": 0, \"ticks\": \"\"}}, \"type\": \"scatter3d\"}], \"scattercarpet\": [{\"marker\": {\"colorbar\": {\"outlinewidth\": 0, \"ticks\": \"\"}}, \"type\": \"scattercarpet\"}], \"scattergeo\": [{\"marker\": {\"colorbar\": {\"outlinewidth\": 0, \"ticks\": \"\"}}, \"type\": \"scattergeo\"}], \"scattergl\": [{\"marker\": {\"colorbar\": {\"outlinewidth\": 0, \"ticks\": \"\"}}, \"type\": \"scattergl\"}], \"scattermapbox\": [{\"marker\": {\"colorbar\": {\"outlinewidth\": 0, \"ticks\": \"\"}}, \"type\": \"scattermapbox\"}], \"scatterpolar\": [{\"marker\": {\"colorbar\": {\"outlinewidth\": 0, \"ticks\": \"\"}}, \"type\": \"scatterpolar\"}], \"scatterpolargl\": [{\"marker\": {\"colorbar\": {\"outlinewidth\": 0, \"ticks\": \"\"}}, \"type\": \"scatterpolargl\"}], \"scatterternary\": [{\"marker\": {\"colorbar\": {\"outlinewidth\": 0, \"ticks\": \"\"}}, \"type\": \"scatterternary\"}], \"surface\": [{\"colorbar\": {\"outlinewidth\": 0, \"ticks\": \"\"}, \"colorscale\": [[0.0, \"#0d0887\"], [0.1111111111111111, \"#46039f\"], [0.2222222222222222, \"#7201a8\"], [0.3333333333333333, \"#9c179e\"], [0.4444444444444444, \"#bd3786\"], [0.5555555555555556, \"#d8576b\"], [0.6666666666666666, \"#ed7953\"], [0.7777777777777778, \"#fb9f3a\"], [0.8888888888888888, \"#fdca26\"], [1.0, \"#f0f921\"]], \"type\": \"surface\"}], \"table\": [{\"cells\": {\"fill\": {\"color\": \"#EBF0F8\"}, \"line\": {\"color\": \"white\"}}, \"header\": {\"fill\": {\"color\": \"#C8D4E3\"}, \"line\": {\"color\": \"white\"}}, \"type\": \"table\"}]}, \"layout\": {\"annotationdefaults\": {\"arrowcolor\": \"#2a3f5f\", \"arrowhead\": 0, \"arrowwidth\": 1}, \"coloraxis\": {\"colorbar\": {\"outlinewidth\": 0, \"ticks\": \"\"}}, \"colorscale\": {\"diverging\": [[0, \"#8e0152\"], [0.1, \"#c51b7d\"], [0.2, \"#de77ae\"], [0.3, \"#f1b6da\"], [0.4, \"#fde0ef\"], [0.5, \"#f7f7f7\"], [0.6, \"#e6f5d0\"], [0.7, \"#b8e186\"], [0.8, \"#7fbc41\"], [0.9, \"#4d9221\"], [1, \"#276419\"]], \"sequential\": [[0.0, \"#0d0887\"], [0.1111111111111111, \"#46039f\"], [0.2222222222222222, \"#7201a8\"], [0.3333333333333333, \"#9c179e\"], [0.4444444444444444, \"#bd3786\"], [0.5555555555555556, \"#d8576b\"], [0.6666666666666666, \"#ed7953\"], [0.7777777777777778, \"#fb9f3a\"], [0.8888888888888888, \"#fdca26\"], [1.0, \"#f0f921\"]], \"sequentialminus\": [[0.0, \"#0d0887\"], [0.1111111111111111, \"#46039f\"], [0.2222222222222222, \"#7201a8\"], [0.3333333333333333, \"#9c179e\"], [0.4444444444444444, \"#bd3786\"], [0.5555555555555556, \"#d8576b\"], [0.6666666666666666, \"#ed7953\"], [0.7777777777777778, \"#fb9f3a\"], [0.8888888888888888, \"#fdca26\"], [1.0, \"#f0f921\"]]}, \"colorway\": [\"#636efa\", \"#EF553B\", \"#00cc96\", \"#ab63fa\", \"#FFA15A\", \"#19d3f3\", \"#FF6692\", \"#B6E880\", \"#FF97FF\", \"#FECB52\"], \"font\": {\"color\": \"#2a3f5f\"}, \"geo\": {\"bgcolor\": \"white\", \"lakecolor\": \"white\", \"landcolor\": \"#E5ECF6\", \"showlakes\": true, \"showland\": true, \"subunitcolor\": \"white\"}, \"hoverlabel\": {\"align\": \"left\"}, \"hovermode\": \"closest\", \"mapbox\": {\"style\": \"light\"}, \"paper_bgcolor\": \"white\", \"plot_bgcolor\": \"#E5ECF6\", \"polar\": {\"angularaxis\": {\"gridcolor\": \"white\", \"linecolor\": \"white\", \"ticks\": \"\"}, \"bgcolor\": \"#E5ECF6\", \"radialaxis\": {\"gridcolor\": \"white\", \"linecolor\": \"white\", \"ticks\": \"\"}}, \"scene\": {\"xaxis\": {\"backgroundcolor\": \"#E5ECF6\", \"gridcolor\": \"white\", \"gridwidth\": 2, \"linecolor\": \"white\", \"showbackground\": true, \"ticks\": \"\", \"zerolinecolor\": \"white\"}, \"yaxis\": {\"backgroundcolor\": \"#E5ECF6\", \"gridcolor\": \"white\", \"gridwidth\": 2, \"linecolor\": \"white\", \"showbackground\": true, \"ticks\": \"\", \"zerolinecolor\": \"white\"}, \"zaxis\": {\"backgroundcolor\": \"#E5ECF6\", \"gridcolor\": \"white\", \"gridwidth\": 2, \"linecolor\": \"white\", \"showbackground\": true, \"ticks\": \"\", \"zerolinecolor\": \"white\"}}, \"shapedefaults\": {\"line\": {\"color\": \"#2a3f5f\"}}, \"ternary\": {\"aaxis\": {\"gridcolor\": \"white\", \"linecolor\": \"white\", \"ticks\": \"\"}, \"baxis\": {\"gridcolor\": \"white\", \"linecolor\": \"white\", \"ticks\": \"\"}, \"bgcolor\": \"#E5ECF6\", \"caxis\": {\"gridcolor\": \"white\", \"linecolor\": \"white\", \"ticks\": \"\"}}, \"title\": {\"x\": 0.05}, \"xaxis\": {\"automargin\": true, \"gridcolor\": \"white\", \"linecolor\": \"white\", \"ticks\": \"\", \"title\": {\"standoff\": 15}, \"zerolinecolor\": \"white\", \"zerolinewidth\": 2}, \"yaxis\": {\"automargin\": true, \"gridcolor\": \"white\", \"linecolor\": \"white\", \"ticks\": \"\", \"title\": {\"standoff\": 15}, \"zerolinecolor\": \"white\", \"zerolinewidth\": 2}}}, \"title\": {\"text\": \"Covaxin and Covishield Vaccination\"}},                        {\"responsive\": true}                    ).then(function(){\n",
       "                            \n",
       "var gd = document.getElementById('867ca49f-9a69-4114-934a-9171a7cb7229');\n",
       "var x = new MutationObserver(function (mutations, observer) {{\n",
       "        var display = window.getComputedStyle(gd).display;\n",
       "        if (!display || display === 'none') {{\n",
       "            console.log([gd, 'removed!']);\n",
       "            Plotly.purge(gd);\n",
       "            observer.disconnect();\n",
       "        }}\n",
       "}});\n",
       "\n",
       "// Listen for the removal of the full notebook cells\n",
       "var notebookContainer = gd.closest('#notebook-container');\n",
       "if (notebookContainer) {{\n",
       "    x.observe(notebookContainer, {childList: true});\n",
       "}}\n",
       "\n",
       "// Listen for the clearing of the current output cell\n",
       "var outputEl = gd.closest('.output');\n",
       "if (outputEl) {{\n",
       "    x.observe(outputEl, {childList: true});\n",
       "}}\n",
       "\n",
       "                        })                };                });            </script>        </div>"
      ]
     },
     "metadata": {},
     "output_type": "display_data"
    }
   ],
   "source": [
    "Covaxin = vaccination[\"Total Covaxin Administered\"].sum() \n",
    "Covishield = vaccination[\"Total CoviShield Administered\"].sum()  \n",
    "px.pie(names=[\"Covaxin Vaccinated\",\"Covishield Vaccinated\"],values=[Covaxin,Covishield],title=\"Covaxin and Covishield Vaccination\",\n",
    "      color_discrete_sequence=px.colors.sequential.Hot)"
   ]
  },
  {
   "cell_type": "code",
   "execution_count": 153,
   "metadata": {},
   "outputs": [
    {
     "data": {
      "application/vnd.plotly.v1+json": {
       "config": {
        "plotlyServerURL": "https://plot.ly"
       },
       "data": [
        {
         "domain": {
          "x": [
           0,
           1
          ],
          "y": [
           0,
           1
          ]
         },
         "hovertemplate": "label=%{label}<br>value=%{value}<extra></extra>",
         "labels": [
          "Doses Administered",
          "People Vaccinated"
         ],
         "legendgroup": "",
         "name": "",
         "showlegend": true,
         "type": "pie",
         "values": [
          40814304071,
          33503614338
         ]
        }
       ],
       "layout": {
        "legend": {
         "tracegroupgap": 0
        },
        "piecolorway": [
         "rgb(247,244,249)",
         "rgb(231,225,239)",
         "rgb(212,185,218)",
         "rgb(201,148,199)",
         "rgb(223,101,176)",
         "rgb(231,41,138)",
         "rgb(206,18,86)",
         "rgb(152,0,67)",
         "rgb(103,0,31)"
        ],
        "template": {
         "data": {
          "bar": [
           {
            "error_x": {
             "color": "#2a3f5f"
            },
            "error_y": {
             "color": "#2a3f5f"
            },
            "marker": {
             "line": {
              "color": "#E5ECF6",
              "width": 0.5
             }
            },
            "type": "bar"
           }
          ],
          "barpolar": [
           {
            "marker": {
             "line": {
              "color": "#E5ECF6",
              "width": 0.5
             }
            },
            "type": "barpolar"
           }
          ],
          "carpet": [
           {
            "aaxis": {
             "endlinecolor": "#2a3f5f",
             "gridcolor": "white",
             "linecolor": "white",
             "minorgridcolor": "white",
             "startlinecolor": "#2a3f5f"
            },
            "baxis": {
             "endlinecolor": "#2a3f5f",
             "gridcolor": "white",
             "linecolor": "white",
             "minorgridcolor": "white",
             "startlinecolor": "#2a3f5f"
            },
            "type": "carpet"
           }
          ],
          "choropleth": [
           {
            "colorbar": {
             "outlinewidth": 0,
             "ticks": ""
            },
            "type": "choropleth"
           }
          ],
          "contour": [
           {
            "colorbar": {
             "outlinewidth": 0,
             "ticks": ""
            },
            "colorscale": [
             [
              0,
              "#0d0887"
             ],
             [
              0.1111111111111111,
              "#46039f"
             ],
             [
              0.2222222222222222,
              "#7201a8"
             ],
             [
              0.3333333333333333,
              "#9c179e"
             ],
             [
              0.4444444444444444,
              "#bd3786"
             ],
             [
              0.5555555555555556,
              "#d8576b"
             ],
             [
              0.6666666666666666,
              "#ed7953"
             ],
             [
              0.7777777777777778,
              "#fb9f3a"
             ],
             [
              0.8888888888888888,
              "#fdca26"
             ],
             [
              1,
              "#f0f921"
             ]
            ],
            "type": "contour"
           }
          ],
          "contourcarpet": [
           {
            "colorbar": {
             "outlinewidth": 0,
             "ticks": ""
            },
            "type": "contourcarpet"
           }
          ],
          "heatmap": [
           {
            "colorbar": {
             "outlinewidth": 0,
             "ticks": ""
            },
            "colorscale": [
             [
              0,
              "#0d0887"
             ],
             [
              0.1111111111111111,
              "#46039f"
             ],
             [
              0.2222222222222222,
              "#7201a8"
             ],
             [
              0.3333333333333333,
              "#9c179e"
             ],
             [
              0.4444444444444444,
              "#bd3786"
             ],
             [
              0.5555555555555556,
              "#d8576b"
             ],
             [
              0.6666666666666666,
              "#ed7953"
             ],
             [
              0.7777777777777778,
              "#fb9f3a"
             ],
             [
              0.8888888888888888,
              "#fdca26"
             ],
             [
              1,
              "#f0f921"
             ]
            ],
            "type": "heatmap"
           }
          ],
          "heatmapgl": [
           {
            "colorbar": {
             "outlinewidth": 0,
             "ticks": ""
            },
            "colorscale": [
             [
              0,
              "#0d0887"
             ],
             [
              0.1111111111111111,
              "#46039f"
             ],
             [
              0.2222222222222222,
              "#7201a8"
             ],
             [
              0.3333333333333333,
              "#9c179e"
             ],
             [
              0.4444444444444444,
              "#bd3786"
             ],
             [
              0.5555555555555556,
              "#d8576b"
             ],
             [
              0.6666666666666666,
              "#ed7953"
             ],
             [
              0.7777777777777778,
              "#fb9f3a"
             ],
             [
              0.8888888888888888,
              "#fdca26"
             ],
             [
              1,
              "#f0f921"
             ]
            ],
            "type": "heatmapgl"
           }
          ],
          "histogram": [
           {
            "marker": {
             "colorbar": {
              "outlinewidth": 0,
              "ticks": ""
             }
            },
            "type": "histogram"
           }
          ],
          "histogram2d": [
           {
            "colorbar": {
             "outlinewidth": 0,
             "ticks": ""
            },
            "colorscale": [
             [
              0,
              "#0d0887"
             ],
             [
              0.1111111111111111,
              "#46039f"
             ],
             [
              0.2222222222222222,
              "#7201a8"
             ],
             [
              0.3333333333333333,
              "#9c179e"
             ],
             [
              0.4444444444444444,
              "#bd3786"
             ],
             [
              0.5555555555555556,
              "#d8576b"
             ],
             [
              0.6666666666666666,
              "#ed7953"
             ],
             [
              0.7777777777777778,
              "#fb9f3a"
             ],
             [
              0.8888888888888888,
              "#fdca26"
             ],
             [
              1,
              "#f0f921"
             ]
            ],
            "type": "histogram2d"
           }
          ],
          "histogram2dcontour": [
           {
            "colorbar": {
             "outlinewidth": 0,
             "ticks": ""
            },
            "colorscale": [
             [
              0,
              "#0d0887"
             ],
             [
              0.1111111111111111,
              "#46039f"
             ],
             [
              0.2222222222222222,
              "#7201a8"
             ],
             [
              0.3333333333333333,
              "#9c179e"
             ],
             [
              0.4444444444444444,
              "#bd3786"
             ],
             [
              0.5555555555555556,
              "#d8576b"
             ],
             [
              0.6666666666666666,
              "#ed7953"
             ],
             [
              0.7777777777777778,
              "#fb9f3a"
             ],
             [
              0.8888888888888888,
              "#fdca26"
             ],
             [
              1,
              "#f0f921"
             ]
            ],
            "type": "histogram2dcontour"
           }
          ],
          "mesh3d": [
           {
            "colorbar": {
             "outlinewidth": 0,
             "ticks": ""
            },
            "type": "mesh3d"
           }
          ],
          "parcoords": [
           {
            "line": {
             "colorbar": {
              "outlinewidth": 0,
              "ticks": ""
             }
            },
            "type": "parcoords"
           }
          ],
          "pie": [
           {
            "automargin": true,
            "type": "pie"
           }
          ],
          "scatter": [
           {
            "marker": {
             "colorbar": {
              "outlinewidth": 0,
              "ticks": ""
             }
            },
            "type": "scatter"
           }
          ],
          "scatter3d": [
           {
            "line": {
             "colorbar": {
              "outlinewidth": 0,
              "ticks": ""
             }
            },
            "marker": {
             "colorbar": {
              "outlinewidth": 0,
              "ticks": ""
             }
            },
            "type": "scatter3d"
           }
          ],
          "scattercarpet": [
           {
            "marker": {
             "colorbar": {
              "outlinewidth": 0,
              "ticks": ""
             }
            },
            "type": "scattercarpet"
           }
          ],
          "scattergeo": [
           {
            "marker": {
             "colorbar": {
              "outlinewidth": 0,
              "ticks": ""
             }
            },
            "type": "scattergeo"
           }
          ],
          "scattergl": [
           {
            "marker": {
             "colorbar": {
              "outlinewidth": 0,
              "ticks": ""
             }
            },
            "type": "scattergl"
           }
          ],
          "scattermapbox": [
           {
            "marker": {
             "colorbar": {
              "outlinewidth": 0,
              "ticks": ""
             }
            },
            "type": "scattermapbox"
           }
          ],
          "scatterpolar": [
           {
            "marker": {
             "colorbar": {
              "outlinewidth": 0,
              "ticks": ""
             }
            },
            "type": "scatterpolar"
           }
          ],
          "scatterpolargl": [
           {
            "marker": {
             "colorbar": {
              "outlinewidth": 0,
              "ticks": ""
             }
            },
            "type": "scatterpolargl"
           }
          ],
          "scatterternary": [
           {
            "marker": {
             "colorbar": {
              "outlinewidth": 0,
              "ticks": ""
             }
            },
            "type": "scatterternary"
           }
          ],
          "surface": [
           {
            "colorbar": {
             "outlinewidth": 0,
             "ticks": ""
            },
            "colorscale": [
             [
              0,
              "#0d0887"
             ],
             [
              0.1111111111111111,
              "#46039f"
             ],
             [
              0.2222222222222222,
              "#7201a8"
             ],
             [
              0.3333333333333333,
              "#9c179e"
             ],
             [
              0.4444444444444444,
              "#bd3786"
             ],
             [
              0.5555555555555556,
              "#d8576b"
             ],
             [
              0.6666666666666666,
              "#ed7953"
             ],
             [
              0.7777777777777778,
              "#fb9f3a"
             ],
             [
              0.8888888888888888,
              "#fdca26"
             ],
             [
              1,
              "#f0f921"
             ]
            ],
            "type": "surface"
           }
          ],
          "table": [
           {
            "cells": {
             "fill": {
              "color": "#EBF0F8"
             },
             "line": {
              "color": "white"
             }
            },
            "header": {
             "fill": {
              "color": "#C8D4E3"
             },
             "line": {
              "color": "white"
             }
            },
            "type": "table"
           }
          ]
         },
         "layout": {
          "annotationdefaults": {
           "arrowcolor": "#2a3f5f",
           "arrowhead": 0,
           "arrowwidth": 1
          },
          "coloraxis": {
           "colorbar": {
            "outlinewidth": 0,
            "ticks": ""
           }
          },
          "colorscale": {
           "diverging": [
            [
             0,
             "#8e0152"
            ],
            [
             0.1,
             "#c51b7d"
            ],
            [
             0.2,
             "#de77ae"
            ],
            [
             0.3,
             "#f1b6da"
            ],
            [
             0.4,
             "#fde0ef"
            ],
            [
             0.5,
             "#f7f7f7"
            ],
            [
             0.6,
             "#e6f5d0"
            ],
            [
             0.7,
             "#b8e186"
            ],
            [
             0.8,
             "#7fbc41"
            ],
            [
             0.9,
             "#4d9221"
            ],
            [
             1,
             "#276419"
            ]
           ],
           "sequential": [
            [
             0,
             "#0d0887"
            ],
            [
             0.1111111111111111,
             "#46039f"
            ],
            [
             0.2222222222222222,
             "#7201a8"
            ],
            [
             0.3333333333333333,
             "#9c179e"
            ],
            [
             0.4444444444444444,
             "#bd3786"
            ],
            [
             0.5555555555555556,
             "#d8576b"
            ],
            [
             0.6666666666666666,
             "#ed7953"
            ],
            [
             0.7777777777777778,
             "#fb9f3a"
            ],
            [
             0.8888888888888888,
             "#fdca26"
            ],
            [
             1,
             "#f0f921"
            ]
           ],
           "sequentialminus": [
            [
             0,
             "#0d0887"
            ],
            [
             0.1111111111111111,
             "#46039f"
            ],
            [
             0.2222222222222222,
             "#7201a8"
            ],
            [
             0.3333333333333333,
             "#9c179e"
            ],
            [
             0.4444444444444444,
             "#bd3786"
            ],
            [
             0.5555555555555556,
             "#d8576b"
            ],
            [
             0.6666666666666666,
             "#ed7953"
            ],
            [
             0.7777777777777778,
             "#fb9f3a"
            ],
            [
             0.8888888888888888,
             "#fdca26"
            ],
            [
             1,
             "#f0f921"
            ]
           ]
          },
          "colorway": [
           "#636efa",
           "#EF553B",
           "#00cc96",
           "#ab63fa",
           "#FFA15A",
           "#19d3f3",
           "#FF6692",
           "#B6E880",
           "#FF97FF",
           "#FECB52"
          ],
          "font": {
           "color": "#2a3f5f"
          },
          "geo": {
           "bgcolor": "white",
           "lakecolor": "white",
           "landcolor": "#E5ECF6",
           "showlakes": true,
           "showland": true,
           "subunitcolor": "white"
          },
          "hoverlabel": {
           "align": "left"
          },
          "hovermode": "closest",
          "mapbox": {
           "style": "light"
          },
          "paper_bgcolor": "white",
          "plot_bgcolor": "#E5ECF6",
          "polar": {
           "angularaxis": {
            "gridcolor": "white",
            "linecolor": "white",
            "ticks": ""
           },
           "bgcolor": "#E5ECF6",
           "radialaxis": {
            "gridcolor": "white",
            "linecolor": "white",
            "ticks": ""
           }
          },
          "scene": {
           "xaxis": {
            "backgroundcolor": "#E5ECF6",
            "gridcolor": "white",
            "gridwidth": 2,
            "linecolor": "white",
            "showbackground": true,
            "ticks": "",
            "zerolinecolor": "white"
           },
           "yaxis": {
            "backgroundcolor": "#E5ECF6",
            "gridcolor": "white",
            "gridwidth": 2,
            "linecolor": "white",
            "showbackground": true,
            "ticks": "",
            "zerolinecolor": "white"
           },
           "zaxis": {
            "backgroundcolor": "#E5ECF6",
            "gridcolor": "white",
            "gridwidth": 2,
            "linecolor": "white",
            "showbackground": true,
            "ticks": "",
            "zerolinecolor": "white"
           }
          },
          "shapedefaults": {
           "line": {
            "color": "#2a3f5f"
           }
          },
          "ternary": {
           "aaxis": {
            "gridcolor": "white",
            "linecolor": "white",
            "ticks": ""
           },
           "baxis": {
            "gridcolor": "white",
            "linecolor": "white",
            "ticks": ""
           },
           "bgcolor": "#E5ECF6",
           "caxis": {
            "gridcolor": "white",
            "linecolor": "white",
            "ticks": ""
           }
          },
          "title": {
           "x": 0.05
          },
          "xaxis": {
           "automargin": true,
           "gridcolor": "white",
           "linecolor": "white",
           "ticks": "",
           "title": {
            "standoff": 15
           },
           "zerolinecolor": "white",
           "zerolinewidth": 2
          },
          "yaxis": {
           "automargin": true,
           "gridcolor": "white",
           "linecolor": "white",
           "ticks": "",
           "title": {
            "standoff": 15
           },
           "zerolinecolor": "white",
           "zerolinewidth": 2
          }
         }
        },
        "title": {
         "text": "Doses administered vs People Vaccinated"
        }
       }
      },
      "text/html": [
       "<div>                            <div id=\"ccaea31b-6405-49a5-81ca-68844f475d9d\" class=\"plotly-graph-div\" style=\"height:525px; width:100%;\"></div>            <script type=\"text/javascript\">                require([\"plotly\"], function(Plotly) {                    window.PLOTLYENV=window.PLOTLYENV || {};                                    if (document.getElementById(\"ccaea31b-6405-49a5-81ca-68844f475d9d\")) {                    Plotly.newPlot(                        \"ccaea31b-6405-49a5-81ca-68844f475d9d\",                        [{\"domain\": {\"x\": [0.0, 1.0], \"y\": [0.0, 1.0]}, \"hovertemplate\": \"label=%{label}<br>value=%{value}<extra></extra>\", \"labels\": [\"Doses Administered\", \"People Vaccinated\"], \"legendgroup\": \"\", \"name\": \"\", \"showlegend\": true, \"type\": \"pie\", \"values\": [40814304071.0, 33503614338.0]}],                        {\"legend\": {\"tracegroupgap\": 0}, \"piecolorway\": [\"rgb(247,244,249)\", \"rgb(231,225,239)\", \"rgb(212,185,218)\", \"rgb(201,148,199)\", \"rgb(223,101,176)\", \"rgb(231,41,138)\", \"rgb(206,18,86)\", \"rgb(152,0,67)\", \"rgb(103,0,31)\"], \"template\": {\"data\": {\"bar\": [{\"error_x\": {\"color\": \"#2a3f5f\"}, \"error_y\": {\"color\": \"#2a3f5f\"}, \"marker\": {\"line\": {\"color\": \"#E5ECF6\", \"width\": 0.5}}, \"type\": \"bar\"}], \"barpolar\": [{\"marker\": {\"line\": {\"color\": \"#E5ECF6\", \"width\": 0.5}}, \"type\": \"barpolar\"}], \"carpet\": [{\"aaxis\": {\"endlinecolor\": \"#2a3f5f\", \"gridcolor\": \"white\", \"linecolor\": \"white\", \"minorgridcolor\": \"white\", \"startlinecolor\": \"#2a3f5f\"}, \"baxis\": {\"endlinecolor\": \"#2a3f5f\", \"gridcolor\": \"white\", \"linecolor\": \"white\", \"minorgridcolor\": \"white\", \"startlinecolor\": \"#2a3f5f\"}, \"type\": \"carpet\"}], \"choropleth\": [{\"colorbar\": {\"outlinewidth\": 0, \"ticks\": \"\"}, \"type\": \"choropleth\"}], \"contour\": [{\"colorbar\": {\"outlinewidth\": 0, \"ticks\": \"\"}, \"colorscale\": [[0.0, \"#0d0887\"], [0.1111111111111111, \"#46039f\"], [0.2222222222222222, \"#7201a8\"], [0.3333333333333333, \"#9c179e\"], [0.4444444444444444, \"#bd3786\"], [0.5555555555555556, \"#d8576b\"], [0.6666666666666666, \"#ed7953\"], [0.7777777777777778, \"#fb9f3a\"], [0.8888888888888888, \"#fdca26\"], [1.0, \"#f0f921\"]], \"type\": \"contour\"}], \"contourcarpet\": [{\"colorbar\": {\"outlinewidth\": 0, \"ticks\": \"\"}, \"type\": \"contourcarpet\"}], \"heatmap\": [{\"colorbar\": {\"outlinewidth\": 0, \"ticks\": \"\"}, \"colorscale\": [[0.0, \"#0d0887\"], [0.1111111111111111, \"#46039f\"], [0.2222222222222222, \"#7201a8\"], [0.3333333333333333, \"#9c179e\"], [0.4444444444444444, \"#bd3786\"], [0.5555555555555556, \"#d8576b\"], [0.6666666666666666, \"#ed7953\"], [0.7777777777777778, \"#fb9f3a\"], [0.8888888888888888, \"#fdca26\"], [1.0, \"#f0f921\"]], \"type\": \"heatmap\"}], \"heatmapgl\": [{\"colorbar\": {\"outlinewidth\": 0, \"ticks\": \"\"}, \"colorscale\": [[0.0, \"#0d0887\"], [0.1111111111111111, \"#46039f\"], [0.2222222222222222, \"#7201a8\"], [0.3333333333333333, \"#9c179e\"], [0.4444444444444444, \"#bd3786\"], [0.5555555555555556, \"#d8576b\"], [0.6666666666666666, \"#ed7953\"], [0.7777777777777778, \"#fb9f3a\"], [0.8888888888888888, \"#fdca26\"], [1.0, \"#f0f921\"]], \"type\": \"heatmapgl\"}], \"histogram\": [{\"marker\": {\"colorbar\": {\"outlinewidth\": 0, \"ticks\": \"\"}}, \"type\": \"histogram\"}], \"histogram2d\": [{\"colorbar\": {\"outlinewidth\": 0, \"ticks\": \"\"}, \"colorscale\": [[0.0, \"#0d0887\"], [0.1111111111111111, \"#46039f\"], [0.2222222222222222, \"#7201a8\"], [0.3333333333333333, \"#9c179e\"], [0.4444444444444444, \"#bd3786\"], [0.5555555555555556, \"#d8576b\"], [0.6666666666666666, \"#ed7953\"], [0.7777777777777778, \"#fb9f3a\"], [0.8888888888888888, \"#fdca26\"], [1.0, \"#f0f921\"]], \"type\": \"histogram2d\"}], \"histogram2dcontour\": [{\"colorbar\": {\"outlinewidth\": 0, \"ticks\": \"\"}, \"colorscale\": [[0.0, \"#0d0887\"], [0.1111111111111111, \"#46039f\"], [0.2222222222222222, \"#7201a8\"], [0.3333333333333333, \"#9c179e\"], [0.4444444444444444, \"#bd3786\"], [0.5555555555555556, \"#d8576b\"], [0.6666666666666666, \"#ed7953\"], [0.7777777777777778, \"#fb9f3a\"], [0.8888888888888888, \"#fdca26\"], [1.0, \"#f0f921\"]], \"type\": \"histogram2dcontour\"}], \"mesh3d\": [{\"colorbar\": {\"outlinewidth\": 0, \"ticks\": \"\"}, \"type\": \"mesh3d\"}], \"parcoords\": [{\"line\": {\"colorbar\": {\"outlinewidth\": 0, \"ticks\": \"\"}}, \"type\": \"parcoords\"}], \"pie\": [{\"automargin\": true, \"type\": \"pie\"}], \"scatter\": [{\"marker\": {\"colorbar\": {\"outlinewidth\": 0, \"ticks\": \"\"}}, \"type\": \"scatter\"}], \"scatter3d\": [{\"line\": {\"colorbar\": {\"outlinewidth\": 0, \"ticks\": \"\"}}, \"marker\": {\"colorbar\": {\"outlinewidth\": 0, \"ticks\": \"\"}}, \"type\": \"scatter3d\"}], \"scattercarpet\": [{\"marker\": {\"colorbar\": {\"outlinewidth\": 0, \"ticks\": \"\"}}, \"type\": \"scattercarpet\"}], \"scattergeo\": [{\"marker\": {\"colorbar\": {\"outlinewidth\": 0, \"ticks\": \"\"}}, \"type\": \"scattergeo\"}], \"scattergl\": [{\"marker\": {\"colorbar\": {\"outlinewidth\": 0, \"ticks\": \"\"}}, \"type\": \"scattergl\"}], \"scattermapbox\": [{\"marker\": {\"colorbar\": {\"outlinewidth\": 0, \"ticks\": \"\"}}, \"type\": \"scattermapbox\"}], \"scatterpolar\": [{\"marker\": {\"colorbar\": {\"outlinewidth\": 0, \"ticks\": \"\"}}, \"type\": \"scatterpolar\"}], \"scatterpolargl\": [{\"marker\": {\"colorbar\": {\"outlinewidth\": 0, \"ticks\": \"\"}}, \"type\": \"scatterpolargl\"}], \"scatterternary\": [{\"marker\": {\"colorbar\": {\"outlinewidth\": 0, \"ticks\": \"\"}}, \"type\": \"scatterternary\"}], \"surface\": [{\"colorbar\": {\"outlinewidth\": 0, \"ticks\": \"\"}, \"colorscale\": [[0.0, \"#0d0887\"], [0.1111111111111111, \"#46039f\"], [0.2222222222222222, \"#7201a8\"], [0.3333333333333333, \"#9c179e\"], [0.4444444444444444, \"#bd3786\"], [0.5555555555555556, \"#d8576b\"], [0.6666666666666666, \"#ed7953\"], [0.7777777777777778, \"#fb9f3a\"], [0.8888888888888888, \"#fdca26\"], [1.0, \"#f0f921\"]], \"type\": \"surface\"}], \"table\": [{\"cells\": {\"fill\": {\"color\": \"#EBF0F8\"}, \"line\": {\"color\": \"white\"}}, \"header\": {\"fill\": {\"color\": \"#C8D4E3\"}, \"line\": {\"color\": \"white\"}}, \"type\": \"table\"}]}, \"layout\": {\"annotationdefaults\": {\"arrowcolor\": \"#2a3f5f\", \"arrowhead\": 0, \"arrowwidth\": 1}, \"coloraxis\": {\"colorbar\": {\"outlinewidth\": 0, \"ticks\": \"\"}}, \"colorscale\": {\"diverging\": [[0, \"#8e0152\"], [0.1, \"#c51b7d\"], [0.2, \"#de77ae\"], [0.3, \"#f1b6da\"], [0.4, \"#fde0ef\"], [0.5, \"#f7f7f7\"], [0.6, \"#e6f5d0\"], [0.7, \"#b8e186\"], [0.8, \"#7fbc41\"], [0.9, \"#4d9221\"], [1, \"#276419\"]], \"sequential\": [[0.0, \"#0d0887\"], [0.1111111111111111, \"#46039f\"], [0.2222222222222222, \"#7201a8\"], [0.3333333333333333, \"#9c179e\"], [0.4444444444444444, \"#bd3786\"], [0.5555555555555556, \"#d8576b\"], [0.6666666666666666, \"#ed7953\"], [0.7777777777777778, \"#fb9f3a\"], [0.8888888888888888, \"#fdca26\"], [1.0, \"#f0f921\"]], \"sequentialminus\": [[0.0, \"#0d0887\"], [0.1111111111111111, \"#46039f\"], [0.2222222222222222, \"#7201a8\"], [0.3333333333333333, \"#9c179e\"], [0.4444444444444444, \"#bd3786\"], [0.5555555555555556, \"#d8576b\"], [0.6666666666666666, \"#ed7953\"], [0.7777777777777778, \"#fb9f3a\"], [0.8888888888888888, \"#fdca26\"], [1.0, \"#f0f921\"]]}, \"colorway\": [\"#636efa\", \"#EF553B\", \"#00cc96\", \"#ab63fa\", \"#FFA15A\", \"#19d3f3\", \"#FF6692\", \"#B6E880\", \"#FF97FF\", \"#FECB52\"], \"font\": {\"color\": \"#2a3f5f\"}, \"geo\": {\"bgcolor\": \"white\", \"lakecolor\": \"white\", \"landcolor\": \"#E5ECF6\", \"showlakes\": true, \"showland\": true, \"subunitcolor\": \"white\"}, \"hoverlabel\": {\"align\": \"left\"}, \"hovermode\": \"closest\", \"mapbox\": {\"style\": \"light\"}, \"paper_bgcolor\": \"white\", \"plot_bgcolor\": \"#E5ECF6\", \"polar\": {\"angularaxis\": {\"gridcolor\": \"white\", \"linecolor\": \"white\", \"ticks\": \"\"}, \"bgcolor\": \"#E5ECF6\", \"radialaxis\": {\"gridcolor\": \"white\", \"linecolor\": \"white\", \"ticks\": \"\"}}, \"scene\": {\"xaxis\": {\"backgroundcolor\": \"#E5ECF6\", \"gridcolor\": \"white\", \"gridwidth\": 2, \"linecolor\": \"white\", \"showbackground\": true, \"ticks\": \"\", \"zerolinecolor\": \"white\"}, \"yaxis\": {\"backgroundcolor\": \"#E5ECF6\", \"gridcolor\": \"white\", \"gridwidth\": 2, \"linecolor\": \"white\", \"showbackground\": true, \"ticks\": \"\", \"zerolinecolor\": \"white\"}, \"zaxis\": {\"backgroundcolor\": \"#E5ECF6\", \"gridcolor\": \"white\", \"gridwidth\": 2, \"linecolor\": \"white\", \"showbackground\": true, \"ticks\": \"\", \"zerolinecolor\": \"white\"}}, \"shapedefaults\": {\"line\": {\"color\": \"#2a3f5f\"}}, \"ternary\": {\"aaxis\": {\"gridcolor\": \"white\", \"linecolor\": \"white\", \"ticks\": \"\"}, \"baxis\": {\"gridcolor\": \"white\", \"linecolor\": \"white\", \"ticks\": \"\"}, \"bgcolor\": \"#E5ECF6\", \"caxis\": {\"gridcolor\": \"white\", \"linecolor\": \"white\", \"ticks\": \"\"}}, \"title\": {\"x\": 0.05}, \"xaxis\": {\"automargin\": true, \"gridcolor\": \"white\", \"linecolor\": \"white\", \"ticks\": \"\", \"title\": {\"standoff\": 15}, \"zerolinecolor\": \"white\", \"zerolinewidth\": 2}, \"yaxis\": {\"automargin\": true, \"gridcolor\": \"white\", \"linecolor\": \"white\", \"ticks\": \"\", \"title\": {\"standoff\": 15}, \"zerolinecolor\": \"white\", \"zerolinewidth\": 2}}}, \"title\": {\"text\": \"Doses administered vs People Vaccinated\"}},                        {\"responsive\": true}                    ).then(function(){\n",
       "                            \n",
       "var gd = document.getElementById('ccaea31b-6405-49a5-81ca-68844f475d9d');\n",
       "var x = new MutationObserver(function (mutations, observer) {{\n",
       "        var display = window.getComputedStyle(gd).display;\n",
       "        if (!display || display === 'none') {{\n",
       "            console.log([gd, 'removed!']);\n",
       "            Plotly.purge(gd);\n",
       "            observer.disconnect();\n",
       "        }}\n",
       "}});\n",
       "\n",
       "// Listen for the removal of the full notebook cells\n",
       "var notebookContainer = gd.closest('#notebook-container');\n",
       "if (notebookContainer) {{\n",
       "    x.observe(notebookContainer, {childList: true});\n",
       "}}\n",
       "\n",
       "// Listen for the clearing of the current output cell\n",
       "var outputEl = gd.closest('.output');\n",
       "if (outputEl) {{\n",
       "    x.observe(outputEl, {childList: true});\n",
       "}}\n",
       "\n",
       "                        })                };                });            </script>        </div>"
      ]
     },
     "metadata": {},
     "output_type": "display_data"
    }
   ],
   "source": [
    "Doses = vaccination[\"Total Doses Administered\"].sum() \n",
    "Vaccinated = vaccination[\"Total Individuals Vaccinated\"].sum()  \n",
    "px.pie(names=[\"Doses Administered\",\"People Vaccinated\"],values=[Doses,Vaccinated],title=\"Doses administered vs People Vaccinated\",\n",
    "          color_discrete_sequence=px.colors.sequential.PuRd)"
   ]
  },
  {
   "cell_type": "code",
   "execution_count": null,
   "metadata": {},
   "outputs": [],
   "source": []
  }
 ],
 "metadata": {
  "kernelspec": {
   "display_name": "Python 3 (ipykernel)",
   "language": "python",
   "name": "python3"
  },
  "language_info": {
   "codemirror_mode": {
    "name": "ipython",
    "version": 3
   },
   "file_extension": ".py",
   "mimetype": "text/x-python",
   "name": "python",
   "nbconvert_exporter": "python",
   "pygments_lexer": "ipython3",
   "version": "3.9.6"
  }
 },
 "nbformat": 4,
 "nbformat_minor": 2
}
