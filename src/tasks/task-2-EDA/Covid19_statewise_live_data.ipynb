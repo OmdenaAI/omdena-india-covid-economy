{
 "cells": [
  {
   "cell_type": "markdown",
   "metadata": {},
   "source": [
    "### Import packages"
   ]
  },
  {
   "cell_type": "code",
   "execution_count": 230,
   "metadata": {},
   "outputs": [],
   "source": [
    "import json\n",
    "import requests\n",
    "import pandas as pd\n",
    "import numpy as np\n",
    "import matplotlib.pyplot as plt\n",
    "\n",
    "pd.options.mode.chained_assignment = None  # default='warn'\n",
    "np.set_printoptions(suppress=True)\n",
    "pd.set_option('display.float_format', '{:.2f}'.format)"
   ]
  },
  {
   "cell_type": "markdown",
   "metadata": {},
   "source": [
    "### Import Statewise Covid19 data from api"
   ]
  },
  {
   "cell_type": "code",
   "execution_count": 231,
   "metadata": {},
   "outputs": [],
   "source": [
    "#import data for statewise total cases till date \n",
    "\n",
    "#https://stackoverflow.com/questions/67642291/i-am-not-getting-any-output-in-web-scraping-using-beautiful-soup-and-python-and\n",
    "#Current day numbers across districts and states.\n",
    "\n",
    "import requests\n",
    "import pandas as pd\n",
    "\n",
    "response = requests.get(\"https://api.covid19india.org/v4/min/data.min.json\")\n",
    "if response.status_code == 200:\n",
    "    current_day_numbers = response.json()\n",
    "    DATE = []\n",
    "    STATE = []\n",
    "    POPULATION = []\n",
    "    TOTAL_CASES = []\n",
    "    DECEASED = []\n",
    "    DISCHAGED = []\n",
    "    TESTED = []\n",
    "    VACCINATED_DOSE1 = []\n",
    "    VACCINATED_DOSE2 = []\n",
    "\n",
    "    for state in current_day_numbers.keys():\n",
    "        DATE.append(current_day_numbers[state][\"meta\"][\"date\"])\n",
    "        STATE.append(state)\n",
    "        POPULATION.append(current_day_numbers[state][\"meta\"][\"population\"])\n",
    "        TOTAL_CASES.append(current_day_numbers[state][\"total\"][\"confirmed\"])\n",
    "        DECEASED.append(current_day_numbers[state][\"total\"][\"deceased\"])\n",
    "        DISCHAGED.append(current_day_numbers[state][\"total\"][\"recovered\"])\n",
    "        TESTED.append(current_day_numbers[state][\"total\"][\"tested\"])\n",
    "        VACCINATED_DOSE1.append(current_day_numbers[state][\"total\"][\"vaccinated1\"])\n",
    "        VACCINATED_DOSE2.append(current_day_numbers[state][\"total\"][\"vaccinated2\"])\n",
    "\n",
    "    Covid19_data = pd.DataFrame(\n",
    "        {\n",
    "            \"DATE\": DATE,\n",
    "            \"STATE/UT\": STATE,\n",
    "            \"POPULATION\":POPULATION,\n",
    "            \"TOTAL_CASES\": TOTAL_CASES,\n",
    "            \"DECEASED\": DECEASED,\n",
    "            \"RECOVERED\": RECOVERED,\n",
    "            \"TESTED\": TESTED,\n",
    "            \"VACCINATED_DOSE1\": VACCINATED_DOSE1,\n",
    "            \"VACCINATED_DOSE2\": VACCINATED_DOSE2,\n",
    "        }\n",
    "    )\n",
    "    #print(data.head())\n",
    "\n",
    "else:\n",
    "    print(\"Error while calling API: {}\".format(response.status_code, response.reason))"
   ]
  },
  {
   "cell_type": "markdown",
   "metadata": {},
   "source": [
    "### Data Check and manipulation"
   ]
  },
  {
   "cell_type": "code",
   "execution_count": 232,
   "metadata": {},
   "outputs": [
    {
     "data": {
      "text/html": [
       "<div>\n",
       "<style scoped>\n",
       "    .dataframe tbody tr th:only-of-type {\n",
       "        vertical-align: middle;\n",
       "    }\n",
       "\n",
       "    .dataframe tbody tr th {\n",
       "        vertical-align: top;\n",
       "    }\n",
       "\n",
       "    .dataframe thead th {\n",
       "        text-align: right;\n",
       "    }\n",
       "</style>\n",
       "<table border=\"1\" class=\"dataframe\">\n",
       "  <thead>\n",
       "    <tr style=\"text-align: right;\">\n",
       "      <th></th>\n",
       "      <th>DATE</th>\n",
       "      <th>STATE/UT</th>\n",
       "      <th>POPULATION</th>\n",
       "      <th>TOTAL_CASES</th>\n",
       "      <th>DECEASED</th>\n",
       "      <th>RECOVERED</th>\n",
       "      <th>TESTED</th>\n",
       "      <th>VACCINATED_DOSE1</th>\n",
       "      <th>VACCINATED_DOSE2</th>\n",
       "    </tr>\n",
       "  </thead>\n",
       "  <tbody>\n",
       "    <tr>\n",
       "      <th>0</th>\n",
       "      <td>2021-07-25</td>\n",
       "      <td>AN</td>\n",
       "      <td>397000</td>\n",
       "      <td>7525</td>\n",
       "      <td>129</td>\n",
       "      <td>7382</td>\n",
       "      <td>431486</td>\n",
       "      <td>192718</td>\n",
       "      <td>86477</td>\n",
       "    </tr>\n",
       "    <tr>\n",
       "      <th>1</th>\n",
       "      <td>2021-07-25</td>\n",
       "      <td>AP</td>\n",
       "      <td>52221000</td>\n",
       "      <td>1954765</td>\n",
       "      <td>13256</td>\n",
       "      <td>1919354</td>\n",
       "      <td>24134961</td>\n",
       "      <td>14910383</td>\n",
       "      <td>4655273</td>\n",
       "    </tr>\n",
       "    <tr>\n",
       "      <th>2</th>\n",
       "      <td>2021-07-25</td>\n",
       "      <td>AR</td>\n",
       "      <td>1504000</td>\n",
       "      <td>45703</td>\n",
       "      <td>213</td>\n",
       "      <td>41025</td>\n",
       "      <td>898083</td>\n",
       "      <td>653436</td>\n",
       "      <td>159286</td>\n",
       "    </tr>\n",
       "    <tr>\n",
       "      <th>3</th>\n",
       "      <td>2021-07-25</td>\n",
       "      <td>AS</td>\n",
       "      <td>34293000</td>\n",
       "      <td>557437</td>\n",
       "      <td>5114</td>\n",
       "      <td>536597</td>\n",
       "      <td>17774829</td>\n",
       "      <td>7958759</td>\n",
       "      <td>1711690</td>\n",
       "    </tr>\n",
       "    <tr>\n",
       "      <th>4</th>\n",
       "      <td>2021-07-25</td>\n",
       "      <td>BR</td>\n",
       "      <td>119520000</td>\n",
       "      <td>724390</td>\n",
       "      <td>9637</td>\n",
       "      <td>714223</td>\n",
       "      <td>36305828</td>\n",
       "      <td>18654946</td>\n",
       "      <td>3403520</td>\n",
       "    </tr>\n",
       "  </tbody>\n",
       "</table>\n",
       "</div>"
      ],
      "text/plain": [
       "         DATE STATE/UT  POPULATION  TOTAL_CASES  DECEASED  RECOVERED  \\\n",
       "0  2021-07-25       AN      397000         7525       129       7382   \n",
       "1  2021-07-25       AP    52221000      1954765     13256    1919354   \n",
       "2  2021-07-25       AR     1504000        45703       213      41025   \n",
       "3  2021-07-25       AS    34293000       557437      5114     536597   \n",
       "4  2021-07-25       BR   119520000       724390      9637     714223   \n",
       "\n",
       "     TESTED  VACCINATED_DOSE1  VACCINATED_DOSE2  \n",
       "0    431486            192718             86477  \n",
       "1  24134961          14910383           4655273  \n",
       "2    898083            653436            159286  \n",
       "3  17774829           7958759           1711690  \n",
       "4  36305828          18654946           3403520  "
      ]
     },
     "execution_count": 232,
     "metadata": {},
     "output_type": "execute_result"
    }
   ],
   "source": [
    "#Print a sample data\n",
    "Covid19_data.head()"
   ]
  },
  {
   "cell_type": "code",
   "execution_count": 233,
   "metadata": {},
   "outputs": [
    {
     "name": "stdout",
     "output_type": "stream",
     "text": [
      "2665798000\n"
     ]
    }
   ],
   "source": [
    "#Note:\n",
    "#population: This gives the population of the state (based on NCP projections)\n",
    "\n",
    "#There is some issue with the population as the sum crosses 2 billion which is not correct\n",
    "Total_population = Covid19_data['POPULATION'].sum()\n",
    "\n",
    "print(Total_population) # Coming to 2 billion"
   ]
  },
  {
   "cell_type": "code",
   "execution_count": 234,
   "metadata": {},
   "outputs": [
    {
     "name": "stdout",
     "output_type": "stream",
     "text": [
      "<class 'pandas.core.frame.DataFrame'>\n",
      "RangeIndex: 37 entries, 0 to 36\n",
      "Data columns (total 9 columns):\n",
      " #   Column            Non-Null Count  Dtype \n",
      "---  ------            --------------  ----- \n",
      " 0   DATE              37 non-null     object\n",
      " 1   STATE/UT          37 non-null     object\n",
      " 2   POPULATION        37 non-null     int64 \n",
      " 3   TOTAL_CASES       37 non-null     int64 \n",
      " 4   DECEASED          37 non-null     int64 \n",
      " 5   RECOVERED         37 non-null     int64 \n",
      " 6   TESTED            37 non-null     int64 \n",
      " 7   VACCINATED_DOSE1  37 non-null     int64 \n",
      " 8   VACCINATED_DOSE2  37 non-null     int64 \n",
      "dtypes: int64(7), object(2)\n",
      "memory usage: 2.7+ KB\n"
     ]
    }
   ],
   "source": [
    "#Print the structure\n",
    "Covid19_data.info()"
   ]
  },
  {
   "cell_type": "code",
   "execution_count": 235,
   "metadata": {},
   "outputs": [],
   "source": [
    "#Changing DATE column format\n",
    "Covid19_data['DATE']= pd.to_datetime(Covid19_data['DATE'], format = '%Y-%m-%d')"
   ]
  },
  {
   "cell_type": "code",
   "execution_count": 236,
   "metadata": {},
   "outputs": [],
   "source": [
    "#Change state names from abbrevations to full name\n",
    "dict_states={'WB': 'West Bengal', 'DL': 'Delhi', 'KL': 'Kerala', 'PB': 'Punjab', 'AP':'Andhra Pradesh', \n",
    "             'TN': 'Tamil Nadu', 'KA': 'Karnataka', 'JK': 'Jammu and Kashmir', 'UP': 'Uttar Pradesh', 'MP': 'Madhya Pradesh', \n",
    "             'MH': 'Maharashtra', 'BR': 'Bihar', 'HR': 'Haryana', 'OR': 'Orissa', 'RJ': 'Rajasthan', 'GJ': 'Gujarat', \n",
    "             'HP': 'Himachal Pradesh', 'AS': 'Assam', 'TG': 'Telangana', 'JH': 'Jharkhand', 'ML': 'Meghalaya', \n",
    "             'UT': 'Uttarakhand', 'CH': 'Chandigarh', 'CT': 'Chhattisgarh', 'LA': 'Lakshadweep', 'TR': 'Tripura', \n",
    "             'PY': 'Pondicherry', 'GA': 'Goa', 'AR': 'Arunachal Pradesh', 'DN': 'Dadra and Nagar Haveli', \n",
    "             'NL': 'Nagaland', 'SK':'Sikkim', 'AN': 'Andaman and Nicobar Islands', 'MN': 'Manipur', 'MZ': 'Mizoram', \n",
    "             'LD': 'Lakshadweep'}\n",
    "\n",
    "Covid19_data = Covid19_data.replace({'STATE/UT':dict_states})"
   ]
  },
  {
   "cell_type": "code",
   "execution_count": 237,
   "metadata": {},
   "outputs": [
    {
     "data": {
      "text/html": [
       "<div>\n",
       "<style scoped>\n",
       "    .dataframe tbody tr th:only-of-type {\n",
       "        vertical-align: middle;\n",
       "    }\n",
       "\n",
       "    .dataframe tbody tr th {\n",
       "        vertical-align: top;\n",
       "    }\n",
       "\n",
       "    .dataframe thead th {\n",
       "        text-align: right;\n",
       "    }\n",
       "</style>\n",
       "<table border=\"1\" class=\"dataframe\">\n",
       "  <thead>\n",
       "    <tr style=\"text-align: right;\">\n",
       "      <th></th>\n",
       "      <th>DATE</th>\n",
       "      <th>STATE/UT</th>\n",
       "      <th>POPULATION</th>\n",
       "      <th>TOTAL_CASES</th>\n",
       "      <th>DECEASED</th>\n",
       "      <th>RECOVERED</th>\n",
       "      <th>TESTED</th>\n",
       "      <th>VACCINATED_DOSE1</th>\n",
       "      <th>VACCINATED_DOSE2</th>\n",
       "    </tr>\n",
       "  </thead>\n",
       "  <tbody>\n",
       "    <tr>\n",
       "      <th>0</th>\n",
       "      <td>2021-07-25</td>\n",
       "      <td>Andaman and Nicobar Islands</td>\n",
       "      <td>397000</td>\n",
       "      <td>7525</td>\n",
       "      <td>129</td>\n",
       "      <td>7382</td>\n",
       "      <td>431486</td>\n",
       "      <td>192718</td>\n",
       "      <td>86477</td>\n",
       "    </tr>\n",
       "    <tr>\n",
       "      <th>1</th>\n",
       "      <td>2021-07-25</td>\n",
       "      <td>Andhra Pradesh</td>\n",
       "      <td>52221000</td>\n",
       "      <td>1954765</td>\n",
       "      <td>13256</td>\n",
       "      <td>1919354</td>\n",
       "      <td>24134961</td>\n",
       "      <td>14910383</td>\n",
       "      <td>4655273</td>\n",
       "    </tr>\n",
       "    <tr>\n",
       "      <th>2</th>\n",
       "      <td>2021-07-25</td>\n",
       "      <td>Arunachal Pradesh</td>\n",
       "      <td>1504000</td>\n",
       "      <td>45703</td>\n",
       "      <td>213</td>\n",
       "      <td>41025</td>\n",
       "      <td>898083</td>\n",
       "      <td>653436</td>\n",
       "      <td>159286</td>\n",
       "    </tr>\n",
       "    <tr>\n",
       "      <th>3</th>\n",
       "      <td>2021-07-25</td>\n",
       "      <td>Assam</td>\n",
       "      <td>34293000</td>\n",
       "      <td>557437</td>\n",
       "      <td>5114</td>\n",
       "      <td>536597</td>\n",
       "      <td>17774829</td>\n",
       "      <td>7958759</td>\n",
       "      <td>1711690</td>\n",
       "    </tr>\n",
       "    <tr>\n",
       "      <th>4</th>\n",
       "      <td>2021-07-25</td>\n",
       "      <td>Bihar</td>\n",
       "      <td>119520000</td>\n",
       "      <td>724390</td>\n",
       "      <td>9637</td>\n",
       "      <td>714223</td>\n",
       "      <td>36305828</td>\n",
       "      <td>18654946</td>\n",
       "      <td>3403520</td>\n",
       "    </tr>\n",
       "  </tbody>\n",
       "</table>\n",
       "</div>"
      ],
      "text/plain": [
       "        DATE                     STATE/UT  POPULATION  TOTAL_CASES  DECEASED  \\\n",
       "0 2021-07-25  Andaman and Nicobar Islands      397000         7525       129   \n",
       "1 2021-07-25               Andhra Pradesh    52221000      1954765     13256   \n",
       "2 2021-07-25            Arunachal Pradesh     1504000        45703       213   \n",
       "3 2021-07-25                        Assam    34293000       557437      5114   \n",
       "4 2021-07-25                        Bihar   119520000       724390      9637   \n",
       "\n",
       "   RECOVERED    TESTED  VACCINATED_DOSE1  VACCINATED_DOSE2  \n",
       "0       7382    431486            192718             86477  \n",
       "1    1919354  24134961          14910383           4655273  \n",
       "2      41025    898083            653436            159286  \n",
       "3     536597  17774829           7958759           1711690  \n",
       "4     714223  36305828          18654946           3403520  "
      ]
     },
     "execution_count": 237,
     "metadata": {},
     "output_type": "execute_result"
    }
   ],
   "source": [
    "#Print a sample data\n",
    "Covid19_data.head()"
   ]
  },
  {
   "cell_type": "code",
   "execution_count": 238,
   "metadata": {},
   "outputs": [],
   "source": [
    "#Adding column for Total Active cases\n",
    "Covid19_data['ACTIVE'] = Covid19_data['TOTAL_CASES'] - Covid19_data['DECEASED'] - Covid19_data['RECOVERED']"
   ]
  },
  {
   "cell_type": "code",
   "execution_count": 239,
   "metadata": {},
   "outputs": [],
   "source": [
    "#Adding column for Total Vaccinated\n",
    "Covid19_data['TOTAL_VACCINATION'] = Covid19_data['VACCINATED_DOSE1'] + Covid19_data['VACCINATED_DOSE2']"
   ]
  },
  {
   "cell_type": "code",
   "execution_count": 240,
   "metadata": {},
   "outputs": [
    {
     "name": "stdout",
     "output_type": "stream",
     "text": [
      "DATE                          NaT\n",
      "STATE/UT                      NaN\n",
      "POPULATION          2665798000.00\n",
      "TOTAL_CASES           62814190.00\n",
      "DECEASED                841862.00\n",
      "RECOVERED             61080136.00\n",
      "TESTED               948025394.00\n",
      "VACCINATED_DOSE1     679031966.00\n",
      "VACCINATED_DOSE2     183984865.00\n",
      "ACTIVE                  892192.00\n",
      "TOTAL_VACCINATION    863016831.00\n",
      "Name: Total, dtype: object\n"
     ]
    }
   ],
   "source": [
    "#Add a row with Total values\n",
    "Covid19_data.loc['Total']= Covid19_data.sum(numeric_only=True)\n",
    "print(Covid19_data.loc['Total',:])"
   ]
  },
  {
   "cell_type": "markdown",
   "metadata": {},
   "source": [
    "### Create two dataset\n",
    "    1) Statewise vaccine dataset\n",
    "    2) Statewise staus dataset"
   ]
  },
  {
   "cell_type": "code",
   "execution_count": 241,
   "metadata": {},
   "outputs": [],
   "source": [
    "#Statewise Vaccination data\n",
    "Covid19_vacination_data = Covid19_data[['STATE/UT', 'POPULATION','TOTAL_VACCINATION', 'VACCINATED_DOSE1', 'VACCINATED_DOSE2']]"
   ]
  },
  {
   "cell_type": "code",
   "execution_count": 242,
   "metadata": {},
   "outputs": [
    {
     "data": {
      "text/html": [
       "<div>\n",
       "<style scoped>\n",
       "    .dataframe tbody tr th:only-of-type {\n",
       "        vertical-align: middle;\n",
       "    }\n",
       "\n",
       "    .dataframe tbody tr th {\n",
       "        vertical-align: top;\n",
       "    }\n",
       "\n",
       "    .dataframe thead th {\n",
       "        text-align: right;\n",
       "    }\n",
       "</style>\n",
       "<table border=\"1\" class=\"dataframe\">\n",
       "  <thead>\n",
       "    <tr style=\"text-align: right;\">\n",
       "      <th></th>\n",
       "      <th>STATE/UT</th>\n",
       "      <th>POPULATION</th>\n",
       "      <th>TOTAL_VACCINATION</th>\n",
       "      <th>VACCINATED_DOSE1</th>\n",
       "      <th>VACCINATED_DOSE2</th>\n",
       "    </tr>\n",
       "  </thead>\n",
       "  <tbody>\n",
       "    <tr>\n",
       "      <th>0</th>\n",
       "      <td>Andaman and Nicobar Islands</td>\n",
       "      <td>397000.00</td>\n",
       "      <td>279195.00</td>\n",
       "      <td>192718.00</td>\n",
       "      <td>86477.00</td>\n",
       "    </tr>\n",
       "    <tr>\n",
       "      <th>1</th>\n",
       "      <td>Andhra Pradesh</td>\n",
       "      <td>52221000.00</td>\n",
       "      <td>19565656.00</td>\n",
       "      <td>14910383.00</td>\n",
       "      <td>4655273.00</td>\n",
       "    </tr>\n",
       "    <tr>\n",
       "      <th>2</th>\n",
       "      <td>Arunachal Pradesh</td>\n",
       "      <td>1504000.00</td>\n",
       "      <td>812722.00</td>\n",
       "      <td>653436.00</td>\n",
       "      <td>159286.00</td>\n",
       "    </tr>\n",
       "    <tr>\n",
       "      <th>3</th>\n",
       "      <td>Assam</td>\n",
       "      <td>34293000.00</td>\n",
       "      <td>9670449.00</td>\n",
       "      <td>7958759.00</td>\n",
       "      <td>1711690.00</td>\n",
       "    </tr>\n",
       "    <tr>\n",
       "      <th>4</th>\n",
       "      <td>Bihar</td>\n",
       "      <td>119520000.00</td>\n",
       "      <td>22058466.00</td>\n",
       "      <td>18654946.00</td>\n",
       "      <td>3403520.00</td>\n",
       "    </tr>\n",
       "  </tbody>\n",
       "</table>\n",
       "</div>"
      ],
      "text/plain": [
       "                      STATE/UT   POPULATION  TOTAL_VACCINATION  \\\n",
       "0  Andaman and Nicobar Islands    397000.00          279195.00   \n",
       "1               Andhra Pradesh  52221000.00        19565656.00   \n",
       "2            Arunachal Pradesh   1504000.00          812722.00   \n",
       "3                        Assam  34293000.00         9670449.00   \n",
       "4                        Bihar 119520000.00        22058466.00   \n",
       "\n",
       "   VACCINATED_DOSE1  VACCINATED_DOSE2  \n",
       "0         192718.00          86477.00  \n",
       "1       14910383.00        4655273.00  \n",
       "2         653436.00         159286.00  \n",
       "3        7958759.00        1711690.00  \n",
       "4       18654946.00        3403520.00  "
      ]
     },
     "execution_count": 242,
     "metadata": {},
     "output_type": "execute_result"
    }
   ],
   "source": [
    "Covid19_vacination_data.head()"
   ]
  },
  {
   "cell_type": "code",
   "execution_count": 243,
   "metadata": {},
   "outputs": [],
   "source": [
    "#Creating percentage columns\n",
    "Covid19_vacination_data['PERC_VACCINATED'] = (Covid19_vacination_data['TOTAL_VACCINATION']/Covid19_vacination_data['POPULATION'])*100\n",
    "\n",
    "\n",
    "Covid19_vacination_data['PERC_VACCINATED_DOSE1'] = (Covid19_vacination_data['VACCINATED_DOSE1']/Covid19_vacination_data['POPULATION'])*100\n",
    "\n",
    "\n",
    "Covid19_vacination_data['PERC_VACCINATED_DOSE2'] = (Covid19_vacination_data['VACCINATED_DOSE2']/Covid19_vacination_data['POPULATION'])*100\n"
   ]
  },
  {
   "cell_type": "code",
   "execution_count": 244,
   "metadata": {},
   "outputs": [
    {
     "data": {
      "text/html": [
       "<div>\n",
       "<style scoped>\n",
       "    .dataframe tbody tr th:only-of-type {\n",
       "        vertical-align: middle;\n",
       "    }\n",
       "\n",
       "    .dataframe tbody tr th {\n",
       "        vertical-align: top;\n",
       "    }\n",
       "\n",
       "    .dataframe thead th {\n",
       "        text-align: right;\n",
       "    }\n",
       "</style>\n",
       "<table border=\"1\" class=\"dataframe\">\n",
       "  <thead>\n",
       "    <tr style=\"text-align: right;\">\n",
       "      <th></th>\n",
       "      <th>STATE/UT</th>\n",
       "      <th>POPULATION</th>\n",
       "      <th>TOTAL_VACCINATION</th>\n",
       "      <th>VACCINATED_DOSE1</th>\n",
       "      <th>VACCINATED_DOSE2</th>\n",
       "      <th>PERC_VACCINATED</th>\n",
       "      <th>PERC_VACCINATED_DOSE1</th>\n",
       "      <th>PERC_VACCINATED_DOSE2</th>\n",
       "    </tr>\n",
       "  </thead>\n",
       "  <tbody>\n",
       "    <tr>\n",
       "      <th>0</th>\n",
       "      <td>Andaman and Nicobar Islands</td>\n",
       "      <td>397000.00</td>\n",
       "      <td>279195.00</td>\n",
       "      <td>192718.00</td>\n",
       "      <td>86477.00</td>\n",
       "      <td>70.33</td>\n",
       "      <td>48.54</td>\n",
       "      <td>21.78</td>\n",
       "    </tr>\n",
       "    <tr>\n",
       "      <th>1</th>\n",
       "      <td>Andhra Pradesh</td>\n",
       "      <td>52221000.00</td>\n",
       "      <td>19565656.00</td>\n",
       "      <td>14910383.00</td>\n",
       "      <td>4655273.00</td>\n",
       "      <td>37.47</td>\n",
       "      <td>28.55</td>\n",
       "      <td>8.91</td>\n",
       "    </tr>\n",
       "    <tr>\n",
       "      <th>2</th>\n",
       "      <td>Arunachal Pradesh</td>\n",
       "      <td>1504000.00</td>\n",
       "      <td>812722.00</td>\n",
       "      <td>653436.00</td>\n",
       "      <td>159286.00</td>\n",
       "      <td>54.04</td>\n",
       "      <td>43.45</td>\n",
       "      <td>10.59</td>\n",
       "    </tr>\n",
       "    <tr>\n",
       "      <th>3</th>\n",
       "      <td>Assam</td>\n",
       "      <td>34293000.00</td>\n",
       "      <td>9670449.00</td>\n",
       "      <td>7958759.00</td>\n",
       "      <td>1711690.00</td>\n",
       "      <td>28.20</td>\n",
       "      <td>23.21</td>\n",
       "      <td>4.99</td>\n",
       "    </tr>\n",
       "    <tr>\n",
       "      <th>4</th>\n",
       "      <td>Bihar</td>\n",
       "      <td>119520000.00</td>\n",
       "      <td>22058466.00</td>\n",
       "      <td>18654946.00</td>\n",
       "      <td>3403520.00</td>\n",
       "      <td>18.46</td>\n",
       "      <td>15.61</td>\n",
       "      <td>2.85</td>\n",
       "    </tr>\n",
       "  </tbody>\n",
       "</table>\n",
       "</div>"
      ],
      "text/plain": [
       "                      STATE/UT   POPULATION  TOTAL_VACCINATION  \\\n",
       "0  Andaman and Nicobar Islands    397000.00          279195.00   \n",
       "1               Andhra Pradesh  52221000.00        19565656.00   \n",
       "2            Arunachal Pradesh   1504000.00          812722.00   \n",
       "3                        Assam  34293000.00         9670449.00   \n",
       "4                        Bihar 119520000.00        22058466.00   \n",
       "\n",
       "   VACCINATED_DOSE1  VACCINATED_DOSE2  PERC_VACCINATED  PERC_VACCINATED_DOSE1  \\\n",
       "0         192718.00          86477.00            70.33                  48.54   \n",
       "1       14910383.00        4655273.00            37.47                  28.55   \n",
       "2         653436.00         159286.00            54.04                  43.45   \n",
       "3        7958759.00        1711690.00            28.20                  23.21   \n",
       "4       18654946.00        3403520.00            18.46                  15.61   \n",
       "\n",
       "   PERC_VACCINATED_DOSE2  \n",
       "0                  21.78  \n",
       "1                   8.91  \n",
       "2                  10.59  \n",
       "3                   4.99  \n",
       "4                   2.85  "
      ]
     },
     "execution_count": 244,
     "metadata": {},
     "output_type": "execute_result"
    }
   ],
   "source": [
    "Covid19_vacination_data.head()"
   ]
  },
  {
   "cell_type": "code",
   "execution_count": 245,
   "metadata": {},
   "outputs": [
    {
     "name": "stdout",
     "output_type": "stream",
     "text": [
      "STATE/UT                          NaN\n",
      "POPULATION              2665798000.00\n",
      "TOTAL_VACCINATION        863016831.00\n",
      "VACCINATED_DOSE1         679031966.00\n",
      "VACCINATED_DOSE2         183984865.00\n",
      "PERC_VACCINATED                 32.37\n",
      "PERC_VACCINATED_DOSE1           25.47\n",
      "PERC_VACCINATED_DOSE2            6.90\n",
      "Name: Total, dtype: object\n"
     ]
    }
   ],
   "source": [
    "#Add a row with Total values\n",
    "print(Covid19_vaacination_data.loc['Total',:])"
   ]
  },
  {
   "cell_type": "code",
   "execution_count": 246,
   "metadata": {},
   "outputs": [
    {
     "data": {
      "text/plain": [
       "Index(['DATE', 'STATE/UT', 'POPULATION', 'TOTAL_CASES', 'DECEASED',\n",
       "       'RECOVERED', 'TESTED', 'VACCINATED_DOSE1', 'VACCINATED_DOSE2', 'ACTIVE',\n",
       "       'TOTAL_VACCINATION'],\n",
       "      dtype='object')"
      ]
     },
     "execution_count": 246,
     "metadata": {},
     "output_type": "execute_result"
    }
   ],
   "source": [
    "Covid19_data.columns"
   ]
  },
  {
   "cell_type": "code",
   "execution_count": 247,
   "metadata": {},
   "outputs": [],
   "source": [
    "#Statewise Status data\n",
    "Covid19_status_data = Covid19_data[['STATE/UT', 'POPULATION','TOTAL_CASES', 'ACTIVE', 'RECOVERED', 'DECEASED']]"
   ]
  },
  {
   "cell_type": "code",
   "execution_count": 248,
   "metadata": {},
   "outputs": [],
   "source": [
    "#Creating percentage columns\n",
    "Covid19_status_data['ACTIVE_RATIO'] = (Covid19_status_data['ACTIVE']/Covid19_status_data['TOTAL_CASES'])*100\n",
    "\n",
    "\n",
    "Covid19_status_data['RECOVERED_RATIO'] = (Covid19_status_data['RECOVERED']/Covid19_status_data['TOTAL_CASES'])*100\n",
    "\n",
    "\n",
    "Covid19_status_data['DECEASED_RATIO'] = (Covid19_status_data['DECEASED']/Covid19_status_data['TOTAL_CASES'])*100\n"
   ]
  },
  {
   "cell_type": "code",
   "execution_count": 249,
   "metadata": {},
   "outputs": [
    {
     "data": {
      "text/html": [
       "<div>\n",
       "<style scoped>\n",
       "    .dataframe tbody tr th:only-of-type {\n",
       "        vertical-align: middle;\n",
       "    }\n",
       "\n",
       "    .dataframe tbody tr th {\n",
       "        vertical-align: top;\n",
       "    }\n",
       "\n",
       "    .dataframe thead th {\n",
       "        text-align: right;\n",
       "    }\n",
       "</style>\n",
       "<table border=\"1\" class=\"dataframe\">\n",
       "  <thead>\n",
       "    <tr style=\"text-align: right;\">\n",
       "      <th></th>\n",
       "      <th>STATE/UT</th>\n",
       "      <th>POPULATION</th>\n",
       "      <th>TOTAL_CASES</th>\n",
       "      <th>ACTIVE</th>\n",
       "      <th>RECOVERED</th>\n",
       "      <th>DECEASED</th>\n",
       "      <th>ACTIVE_RATIO</th>\n",
       "      <th>RECOVERED_RATIO</th>\n",
       "      <th>DECEASED_RATIO</th>\n",
       "    </tr>\n",
       "  </thead>\n",
       "  <tbody>\n",
       "    <tr>\n",
       "      <th>0</th>\n",
       "      <td>Andaman and Nicobar Islands</td>\n",
       "      <td>397000.00</td>\n",
       "      <td>7525.00</td>\n",
       "      <td>14.00</td>\n",
       "      <td>7382.00</td>\n",
       "      <td>129.00</td>\n",
       "      <td>0.19</td>\n",
       "      <td>98.10</td>\n",
       "      <td>1.71</td>\n",
       "    </tr>\n",
       "    <tr>\n",
       "      <th>1</th>\n",
       "      <td>Andhra Pradesh</td>\n",
       "      <td>52221000.00</td>\n",
       "      <td>1954765.00</td>\n",
       "      <td>22155.00</td>\n",
       "      <td>1919354.00</td>\n",
       "      <td>13256.00</td>\n",
       "      <td>1.13</td>\n",
       "      <td>98.19</td>\n",
       "      <td>0.68</td>\n",
       "    </tr>\n",
       "    <tr>\n",
       "      <th>2</th>\n",
       "      <td>Arunachal Pradesh</td>\n",
       "      <td>1504000.00</td>\n",
       "      <td>45703.00</td>\n",
       "      <td>4465.00</td>\n",
       "      <td>41025.00</td>\n",
       "      <td>213.00</td>\n",
       "      <td>9.77</td>\n",
       "      <td>89.76</td>\n",
       "      <td>0.47</td>\n",
       "    </tr>\n",
       "    <tr>\n",
       "      <th>3</th>\n",
       "      <td>Assam</td>\n",
       "      <td>34293000.00</td>\n",
       "      <td>557437.00</td>\n",
       "      <td>15726.00</td>\n",
       "      <td>536597.00</td>\n",
       "      <td>5114.00</td>\n",
       "      <td>2.82</td>\n",
       "      <td>96.26</td>\n",
       "      <td>0.92</td>\n",
       "    </tr>\n",
       "    <tr>\n",
       "      <th>4</th>\n",
       "      <td>Bihar</td>\n",
       "      <td>119520000.00</td>\n",
       "      <td>724390.00</td>\n",
       "      <td>530.00</td>\n",
       "      <td>714223.00</td>\n",
       "      <td>9637.00</td>\n",
       "      <td>0.07</td>\n",
       "      <td>98.60</td>\n",
       "      <td>1.33</td>\n",
       "    </tr>\n",
       "  </tbody>\n",
       "</table>\n",
       "</div>"
      ],
      "text/plain": [
       "                      STATE/UT   POPULATION  TOTAL_CASES   ACTIVE  RECOVERED  \\\n",
       "0  Andaman and Nicobar Islands    397000.00      7525.00    14.00    7382.00   \n",
       "1               Andhra Pradesh  52221000.00   1954765.00 22155.00 1919354.00   \n",
       "2            Arunachal Pradesh   1504000.00     45703.00  4465.00   41025.00   \n",
       "3                        Assam  34293000.00    557437.00 15726.00  536597.00   \n",
       "4                        Bihar 119520000.00    724390.00   530.00  714223.00   \n",
       "\n",
       "   DECEASED  ACTIVE_RATIO  RECOVERED_RATIO  DECEASED_RATIO  \n",
       "0    129.00          0.19            98.10            1.71  \n",
       "1  13256.00          1.13            98.19            0.68  \n",
       "2    213.00          9.77            89.76            0.47  \n",
       "3   5114.00          2.82            96.26            0.92  \n",
       "4   9637.00          0.07            98.60            1.33  "
      ]
     },
     "execution_count": 249,
     "metadata": {},
     "output_type": "execute_result"
    }
   ],
   "source": [
    "Covid19_status_data.head()"
   ]
  },
  {
   "cell_type": "code",
   "execution_count": 250,
   "metadata": {},
   "outputs": [
    {
     "name": "stdout",
     "output_type": "stream",
     "text": [
      "STATE/UT                    NaN\n",
      "POPULATION        2665798000.00\n",
      "TOTAL_CASES         62814190.00\n",
      "ACTIVE                892192.00\n",
      "RECOVERED           61080136.00\n",
      "DECEASED              841862.00\n",
      "ACTIVE_RATIO               1.42\n",
      "RECOVERED_RATIO           97.24\n",
      "DECEASED_RATIO             1.34\n",
      "Name: Total, dtype: object\n"
     ]
    }
   ],
   "source": [
    "#Add a row with Total values\n",
    "print(Covid19_status_data.loc['Total',:])"
   ]
  },
  {
   "cell_type": "code",
   "execution_count": null,
   "metadata": {},
   "outputs": [],
   "source": []
  }
 ],
 "metadata": {
  "kernelspec": {
   "display_name": "Python 3",
   "language": "python",
   "name": "python3"
  },
  "language_info": {
   "codemirror_mode": {
    "name": "ipython",
    "version": 3
   },
   "file_extension": ".py",
   "mimetype": "text/x-python",
   "name": "python",
   "nbconvert_exporter": "python",
   "pygments_lexer": "ipython3",
   "version": "3.7.1"
  }
 },
 "nbformat": 4,
 "nbformat_minor": 4
}
