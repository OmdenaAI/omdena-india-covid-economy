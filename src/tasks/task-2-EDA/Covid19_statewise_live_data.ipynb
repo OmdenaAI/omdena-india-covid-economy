{
 "cells": [
  {
   "cell_type": "markdown",
   "metadata": {},
   "source": [
    "### Import packages"
   ]
  },
  {
   "cell_type": "code",
   "execution_count": 160,
   "metadata": {
    "scrolled": true
   },
   "outputs": [],
   "source": [
    "import json\n",
    "import requests\n",
    "import pandas as pd\n",
    "import numpy as np\n",
    "import datetime\n",
    "import matplotlib.pyplot as plt\n",
    "import matplotlib.ticker as ticker\n",
    "import seaborn as sns\n",
    "sns.set()\n",
    "\n",
    "import plotly.express as px\n",
    "import plotly.graph_objects as go\n",
    "\n",
    "pd.options.mode.chained_assignment = None  # default='warn'\n",
    "np.set_printoptions(suppress=True)\n",
    "pd.set_option('display.float_format', '{:.2f}'.format)\n",
    "\n",
    "import dash\n",
    "import dash_core_components as dcc\n",
    "import dash_html_components as html\n",
    "from dash.dependencies import Input, Output"
   ]
  },
  {
   "cell_type": "markdown",
   "metadata": {},
   "source": [
    "### Import Statewise Covid19 data from api"
   ]
  },
  {
   "cell_type": "code",
   "execution_count": 68,
   "metadata": {},
   "outputs": [],
   "source": [
    "#import data for statewise total cases till date \n",
    "\n",
    "#https://stackoverflow.com/questions/67642291/i-am-not-getting-any-output-in-web-scraping-using-beautiful-soup-and-python-and\n",
    "#Current day numbers across districts and states.\n",
    "\n",
    "import requests\n",
    "import pandas as pd\n",
    "\n",
    "response = requests.get(\"https://api.covid19india.org/v4/min/data.min.json\")\n",
    "if response.status_code == 200:\n",
    "    current_day_numbers = response.json()\n",
    "    DATE = []\n",
    "    STATE = []\n",
    "    POPULATION = []\n",
    "    TOTAL_CASES = []\n",
    "    DECEASED = []\n",
    "    RECOVERED = []\n",
    "    TESTED = []\n",
    "    VACCINATED_DOSE1 = []\n",
    "    VACCINATED_DOSE2 = []\n",
    "\n",
    "    for state in current_day_numbers.keys():\n",
    "        DATE.append(current_day_numbers[state][\"meta\"][\"date\"])\n",
    "        STATE.append(state)\n",
    "        POPULATION.append(current_day_numbers[state][\"meta\"][\"population\"])\n",
    "        TOTAL_CASES.append(current_day_numbers[state][\"total\"][\"confirmed\"])\n",
    "        DECEASED.append(current_day_numbers[state][\"total\"][\"deceased\"])\n",
    "        RECOVERED.append(current_day_numbers[state][\"total\"][\"recovered\"])\n",
    "        TESTED.append(current_day_numbers[state][\"total\"][\"tested\"])\n",
    "        VACCINATED_DOSE1.append(current_day_numbers[state][\"total\"][\"vaccinated1\"])\n",
    "        VACCINATED_DOSE2.append(current_day_numbers[state][\"total\"][\"vaccinated2\"])\n",
    "\n",
    "    Covid19_data = pd.DataFrame(\n",
    "        {\n",
    "            \"DATE\": DATE,\n",
    "            \"STATE/UT\": STATE,\n",
    "            \"POPULATION\":POPULATION,\n",
    "            \"TOTAL_CASES\": TOTAL_CASES,\n",
    "            \"DECEASED\": DECEASED,\n",
    "            \"RECOVERED\": RECOVERED,\n",
    "            \"TESTED\": TESTED,\n",
    "            \"VACCINATED_DOSE1\": VACCINATED_DOSE1,\n",
    "            \"VACCINATED_DOSE2\": VACCINATED_DOSE2,\n",
    "        }\n",
    "    )\n",
    "    #print(data.head())\n",
    "\n",
    "else:\n",
    "    print(\"Error while calling API: {}\".format(response.status_code, response.reason))"
   ]
  },
  {
   "cell_type": "markdown",
   "metadata": {},
   "source": [
    "### Data Check and manipulation"
   ]
  },
  {
   "cell_type": "code",
   "execution_count": 69,
   "metadata": {},
   "outputs": [
    {
     "data": {
      "text/html": [
       "<div>\n",
       "<style scoped>\n",
       "    .dataframe tbody tr th:only-of-type {\n",
       "        vertical-align: middle;\n",
       "    }\n",
       "\n",
       "    .dataframe tbody tr th {\n",
       "        vertical-align: top;\n",
       "    }\n",
       "\n",
       "    .dataframe thead th {\n",
       "        text-align: right;\n",
       "    }\n",
       "</style>\n",
       "<table border=\"1\" class=\"dataframe\">\n",
       "  <thead>\n",
       "    <tr style=\"text-align: right;\">\n",
       "      <th></th>\n",
       "      <th>DATE</th>\n",
       "      <th>STATE/UT</th>\n",
       "      <th>POPULATION</th>\n",
       "      <th>TOTAL_CASES</th>\n",
       "      <th>DECEASED</th>\n",
       "      <th>RECOVERED</th>\n",
       "      <th>TESTED</th>\n",
       "      <th>VACCINATED_DOSE1</th>\n",
       "      <th>VACCINATED_DOSE2</th>\n",
       "    </tr>\n",
       "  </thead>\n",
       "  <tbody>\n",
       "    <tr>\n",
       "      <th>0</th>\n",
       "      <td>2021-08-01</td>\n",
       "      <td>AN</td>\n",
       "      <td>397000</td>\n",
       "      <td>7539</td>\n",
       "      <td>129</td>\n",
       "      <td>7403</td>\n",
       "      <td>440870</td>\n",
       "      <td>209744</td>\n",
       "      <td>91633</td>\n",
       "    </tr>\n",
       "    <tr>\n",
       "      <th>1</th>\n",
       "      <td>2021-08-01</td>\n",
       "      <td>AP</td>\n",
       "      <td>52221000</td>\n",
       "      <td>1968462</td>\n",
       "      <td>13395</td>\n",
       "      <td>1934048</td>\n",
       "      <td>24648899</td>\n",
       "      <td>16301408</td>\n",
       "      <td>5586517</td>\n",
       "    </tr>\n",
       "    <tr>\n",
       "      <th>2</th>\n",
       "      <td>2021-08-01</td>\n",
       "      <td>AR</td>\n",
       "      <td>1504000</td>\n",
       "      <td>48260</td>\n",
       "      <td>231</td>\n",
       "      <td>44354</td>\n",
       "      <td>942207</td>\n",
       "      <td>672715</td>\n",
       "      <td>174809</td>\n",
       "    </tr>\n",
       "    <tr>\n",
       "      <th>3</th>\n",
       "      <td>2021-08-01</td>\n",
       "      <td>AS</td>\n",
       "      <td>34293000</td>\n",
       "      <td>566982</td>\n",
       "      <td>5275</td>\n",
       "      <td>549065</td>\n",
       "      <td>18722233</td>\n",
       "      <td>8878074</td>\n",
       "      <td>1949091</td>\n",
       "    </tr>\n",
       "    <tr>\n",
       "      <th>4</th>\n",
       "      <td>2021-08-01</td>\n",
       "      <td>BR</td>\n",
       "      <td>119520000</td>\n",
       "      <td>724880</td>\n",
       "      <td>9644</td>\n",
       "      <td>714801</td>\n",
       "      <td>37498366</td>\n",
       "      <td>20782782</td>\n",
       "      <td>3919266</td>\n",
       "    </tr>\n",
       "  </tbody>\n",
       "</table>\n",
       "</div>"
      ],
      "text/plain": [
       "         DATE STATE/UT  POPULATION  TOTAL_CASES  DECEASED  RECOVERED  \\\n",
       "0  2021-08-01       AN      397000         7539       129       7403   \n",
       "1  2021-08-01       AP    52221000      1968462     13395    1934048   \n",
       "2  2021-08-01       AR     1504000        48260       231      44354   \n",
       "3  2021-08-01       AS    34293000       566982      5275     549065   \n",
       "4  2021-08-01       BR   119520000       724880      9644     714801   \n",
       "\n",
       "     TESTED  VACCINATED_DOSE1  VACCINATED_DOSE2  \n",
       "0    440870            209744             91633  \n",
       "1  24648899          16301408           5586517  \n",
       "2    942207            672715            174809  \n",
       "3  18722233           8878074           1949091  \n",
       "4  37498366          20782782           3919266  "
      ]
     },
     "execution_count": 69,
     "metadata": {},
     "output_type": "execute_result"
    }
   ],
   "source": [
    "#Print a sample data\n",
    "Covid19_data.head()"
   ]
  },
  {
   "cell_type": "code",
   "execution_count": 70,
   "metadata": {},
   "outputs": [
    {
     "name": "stdout",
     "output_type": "stream",
     "text": [
      "2665798000\n"
     ]
    }
   ],
   "source": [
    "#Note:\n",
    "#population: This gives the population of the state (based on NCP projections)\n",
    "\n",
    "#There is some issue with the population as the sum crosses 2 billion which is not correct\n",
    "Total_population = Covid19_data['POPULATION'].sum()\n",
    "\n",
    "print(Total_population) # Coming to 2 billion"
   ]
  },
  {
   "cell_type": "code",
   "execution_count": 71,
   "metadata": {},
   "outputs": [
    {
     "name": "stdout",
     "output_type": "stream",
     "text": [
      "<class 'pandas.core.frame.DataFrame'>\n",
      "RangeIndex: 37 entries, 0 to 36\n",
      "Data columns (total 9 columns):\n",
      " #   Column            Non-Null Count  Dtype \n",
      "---  ------            --------------  ----- \n",
      " 0   DATE              37 non-null     object\n",
      " 1   STATE/UT          37 non-null     object\n",
      " 2   POPULATION        37 non-null     int64 \n",
      " 3   TOTAL_CASES       37 non-null     int64 \n",
      " 4   DECEASED          37 non-null     int64 \n",
      " 5   RECOVERED         37 non-null     int64 \n",
      " 6   TESTED            37 non-null     int64 \n",
      " 7   VACCINATED_DOSE1  37 non-null     int64 \n",
      " 8   VACCINATED_DOSE2  37 non-null     int64 \n",
      "dtypes: int64(7), object(2)\n",
      "memory usage: 2.7+ KB\n"
     ]
    }
   ],
   "source": [
    "#Print the structure\n",
    "Covid19_data.info()"
   ]
  },
  {
   "cell_type": "code",
   "execution_count": 72,
   "metadata": {},
   "outputs": [],
   "source": [
    "#Changing DATE column format\n",
    "Covid19_data['DATE']= pd.to_datetime(Covid19_data['DATE'], format = '%Y-%m-%d')"
   ]
  },
  {
   "cell_type": "code",
   "execution_count": 73,
   "metadata": {},
   "outputs": [],
   "source": [
    "#Change state names from abbrevations to full name\n",
    "dict_states={'WB': 'West Bengal', 'DL': 'Delhi', 'KL': 'Kerala', 'PB': 'Punjab', 'AP':'Andhra Pradesh', \n",
    "             'TN': 'Tamil Nadu', 'KA': 'Karnataka', 'JK': 'Jammu and Kashmir', 'UP': 'Uttar Pradesh', 'MP': 'Madhya Pradesh', \n",
    "             'MH': 'Maharashtra', 'BR': 'Bihar', 'HR': 'Haryana', 'OR': 'Orissa', 'RJ': 'Rajasthan', 'GJ': 'Gujarat', \n",
    "             'HP': 'Himachal Pradesh', 'AS': 'Assam', 'TG': 'Telangana', 'JH': 'Jharkhand', 'ML': 'Meghalaya', \n",
    "             'UT': 'Uttarakhand', 'CH': 'Chandigarh', 'CT': 'Chhattisgarh', 'LA': 'Lakshadweep', 'TR': 'Tripura', \n",
    "             'PY': 'Pondicherry', 'GA': 'Goa', 'AR': 'Arunachal Pradesh', 'DN': 'Dadra and Nagar Haveli', \n",
    "             'NL': 'Nagaland', 'SK':'Sikkim', 'AN': 'Andaman and Nicobar Islands', 'MN': 'Manipur', 'MZ': 'Mizoram', \n",
    "             'LD': 'Lakshadweep', 'TT': 'Total'}\n",
    "\n",
    "Covid19_data = Covid19_data.replace({'STATE/UT':dict_states})"
   ]
  },
  {
   "cell_type": "code",
   "execution_count": 74,
   "metadata": {},
   "outputs": [
    {
     "data": {
      "text/html": [
       "<div>\n",
       "<style scoped>\n",
       "    .dataframe tbody tr th:only-of-type {\n",
       "        vertical-align: middle;\n",
       "    }\n",
       "\n",
       "    .dataframe tbody tr th {\n",
       "        vertical-align: top;\n",
       "    }\n",
       "\n",
       "    .dataframe thead th {\n",
       "        text-align: right;\n",
       "    }\n",
       "</style>\n",
       "<table border=\"1\" class=\"dataframe\">\n",
       "  <thead>\n",
       "    <tr style=\"text-align: right;\">\n",
       "      <th></th>\n",
       "      <th>DATE</th>\n",
       "      <th>STATE/UT</th>\n",
       "      <th>POPULATION</th>\n",
       "      <th>TOTAL_CASES</th>\n",
       "      <th>DECEASED</th>\n",
       "      <th>RECOVERED</th>\n",
       "      <th>TESTED</th>\n",
       "      <th>VACCINATED_DOSE1</th>\n",
       "      <th>VACCINATED_DOSE2</th>\n",
       "    </tr>\n",
       "  </thead>\n",
       "  <tbody>\n",
       "    <tr>\n",
       "      <th>0</th>\n",
       "      <td>2021-08-01</td>\n",
       "      <td>Andaman and Nicobar Islands</td>\n",
       "      <td>397000</td>\n",
       "      <td>7539</td>\n",
       "      <td>129</td>\n",
       "      <td>7403</td>\n",
       "      <td>440870</td>\n",
       "      <td>209744</td>\n",
       "      <td>91633</td>\n",
       "    </tr>\n",
       "    <tr>\n",
       "      <th>1</th>\n",
       "      <td>2021-08-01</td>\n",
       "      <td>Andhra Pradesh</td>\n",
       "      <td>52221000</td>\n",
       "      <td>1968462</td>\n",
       "      <td>13395</td>\n",
       "      <td>1934048</td>\n",
       "      <td>24648899</td>\n",
       "      <td>16301408</td>\n",
       "      <td>5586517</td>\n",
       "    </tr>\n",
       "    <tr>\n",
       "      <th>2</th>\n",
       "      <td>2021-08-01</td>\n",
       "      <td>Arunachal Pradesh</td>\n",
       "      <td>1504000</td>\n",
       "      <td>48260</td>\n",
       "      <td>231</td>\n",
       "      <td>44354</td>\n",
       "      <td>942207</td>\n",
       "      <td>672715</td>\n",
       "      <td>174809</td>\n",
       "    </tr>\n",
       "    <tr>\n",
       "      <th>3</th>\n",
       "      <td>2021-08-01</td>\n",
       "      <td>Assam</td>\n",
       "      <td>34293000</td>\n",
       "      <td>566982</td>\n",
       "      <td>5275</td>\n",
       "      <td>549065</td>\n",
       "      <td>18722233</td>\n",
       "      <td>8878074</td>\n",
       "      <td>1949091</td>\n",
       "    </tr>\n",
       "    <tr>\n",
       "      <th>4</th>\n",
       "      <td>2021-08-01</td>\n",
       "      <td>Bihar</td>\n",
       "      <td>119520000</td>\n",
       "      <td>724880</td>\n",
       "      <td>9644</td>\n",
       "      <td>714801</td>\n",
       "      <td>37498366</td>\n",
       "      <td>20782782</td>\n",
       "      <td>3919266</td>\n",
       "    </tr>\n",
       "  </tbody>\n",
       "</table>\n",
       "</div>"
      ],
      "text/plain": [
       "        DATE                     STATE/UT  POPULATION  TOTAL_CASES  DECEASED  \\\n",
       "0 2021-08-01  Andaman and Nicobar Islands      397000         7539       129   \n",
       "1 2021-08-01               Andhra Pradesh    52221000      1968462     13395   \n",
       "2 2021-08-01            Arunachal Pradesh     1504000        48260       231   \n",
       "3 2021-08-01                        Assam    34293000       566982      5275   \n",
       "4 2021-08-01                        Bihar   119520000       724880      9644   \n",
       "\n",
       "   RECOVERED    TESTED  VACCINATED_DOSE1  VACCINATED_DOSE2  \n",
       "0       7403    440870            209744             91633  \n",
       "1    1934048  24648899          16301408           5586517  \n",
       "2      44354    942207            672715            174809  \n",
       "3     549065  18722233           8878074           1949091  \n",
       "4     714801  37498366          20782782           3919266  "
      ]
     },
     "execution_count": 74,
     "metadata": {},
     "output_type": "execute_result"
    }
   ],
   "source": [
    "#Print a sample data\n",
    "Covid19_data.head()"
   ]
  },
  {
   "cell_type": "code",
   "execution_count": 75,
   "metadata": {},
   "outputs": [],
   "source": [
    "#Adding column for Total Active cases\n",
    "Covid19_data['ACTIVE'] = Covid19_data['TOTAL_CASES'] - Covid19_data['DECEASED'] - Covid19_data['RECOVERED']"
   ]
  },
  {
   "cell_type": "code",
   "execution_count": 76,
   "metadata": {},
   "outputs": [],
   "source": [
    "#Adding column for Total Vaccinated\n",
    "Covid19_data['TOTAL_VACCINATION'] = Covid19_data['VACCINATED_DOSE1'] + Covid19_data['VACCINATED_DOSE2']"
   ]
  },
  {
   "cell_type": "code",
   "execution_count": 77,
   "metadata": {},
   "outputs": [],
   "source": [
    "#Add a row with Total values\n",
    "#Covid19_data.loc['Total']= Covid19_data.sum(numeric_only=True)\n",
    "#print(Covid19_data.loc['Total',:])"
   ]
  },
  {
   "cell_type": "markdown",
   "metadata": {},
   "source": [
    "### Create two dataset\n",
    "    1) Statewise vaccine dataset\n",
    "    2) Statewise staus dataset"
   ]
  },
  {
   "cell_type": "code",
   "execution_count": 78,
   "metadata": {},
   "outputs": [],
   "source": [
    "#Statewise Vaccination data\n",
    "Covid19_vacination_data = Covid19_data[['STATE/UT', 'POPULATION','TOTAL_VACCINATION', 'VACCINATED_DOSE1', 'VACCINATED_DOSE2']]"
   ]
  },
  {
   "cell_type": "code",
   "execution_count": 79,
   "metadata": {
    "scrolled": true
   },
   "outputs": [
    {
     "data": {
      "text/html": [
       "<div>\n",
       "<style scoped>\n",
       "    .dataframe tbody tr th:only-of-type {\n",
       "        vertical-align: middle;\n",
       "    }\n",
       "\n",
       "    .dataframe tbody tr th {\n",
       "        vertical-align: top;\n",
       "    }\n",
       "\n",
       "    .dataframe thead th {\n",
       "        text-align: right;\n",
       "    }\n",
       "</style>\n",
       "<table border=\"1\" class=\"dataframe\">\n",
       "  <thead>\n",
       "    <tr style=\"text-align: right;\">\n",
       "      <th></th>\n",
       "      <th>STATE/UT</th>\n",
       "      <th>POPULATION</th>\n",
       "      <th>TOTAL_VACCINATION</th>\n",
       "      <th>VACCINATED_DOSE1</th>\n",
       "      <th>VACCINATED_DOSE2</th>\n",
       "    </tr>\n",
       "  </thead>\n",
       "  <tbody>\n",
       "    <tr>\n",
       "      <th>0</th>\n",
       "      <td>Andaman and Nicobar Islands</td>\n",
       "      <td>397000</td>\n",
       "      <td>301377</td>\n",
       "      <td>209744</td>\n",
       "      <td>91633</td>\n",
       "    </tr>\n",
       "    <tr>\n",
       "      <th>1</th>\n",
       "      <td>Andhra Pradesh</td>\n",
       "      <td>52221000</td>\n",
       "      <td>21887925</td>\n",
       "      <td>16301408</td>\n",
       "      <td>5586517</td>\n",
       "    </tr>\n",
       "    <tr>\n",
       "      <th>2</th>\n",
       "      <td>Arunachal Pradesh</td>\n",
       "      <td>1504000</td>\n",
       "      <td>847524</td>\n",
       "      <td>672715</td>\n",
       "      <td>174809</td>\n",
       "    </tr>\n",
       "    <tr>\n",
       "      <th>3</th>\n",
       "      <td>Assam</td>\n",
       "      <td>34293000</td>\n",
       "      <td>10827165</td>\n",
       "      <td>8878074</td>\n",
       "      <td>1949091</td>\n",
       "    </tr>\n",
       "    <tr>\n",
       "      <th>4</th>\n",
       "      <td>Bihar</td>\n",
       "      <td>119520000</td>\n",
       "      <td>24702048</td>\n",
       "      <td>20782782</td>\n",
       "      <td>3919266</td>\n",
       "    </tr>\n",
       "  </tbody>\n",
       "</table>\n",
       "</div>"
      ],
      "text/plain": [
       "                      STATE/UT  POPULATION  TOTAL_VACCINATION  \\\n",
       "0  Andaman and Nicobar Islands      397000             301377   \n",
       "1               Andhra Pradesh    52221000           21887925   \n",
       "2            Arunachal Pradesh     1504000             847524   \n",
       "3                        Assam    34293000           10827165   \n",
       "4                        Bihar   119520000           24702048   \n",
       "\n",
       "   VACCINATED_DOSE1  VACCINATED_DOSE2  \n",
       "0            209744             91633  \n",
       "1          16301408           5586517  \n",
       "2            672715            174809  \n",
       "3           8878074           1949091  \n",
       "4          20782782           3919266  "
      ]
     },
     "execution_count": 79,
     "metadata": {},
     "output_type": "execute_result"
    }
   ],
   "source": [
    "Covid19_vacination_data.head()"
   ]
  },
  {
   "cell_type": "code",
   "execution_count": 80,
   "metadata": {},
   "outputs": [],
   "source": [
    "#Creating percentage columns\n",
    "Covid19_vacination_data['PERC_VACCINATED'] = (Covid19_vacination_data['TOTAL_VACCINATION']/Covid19_vacination_data['POPULATION'])*100\n",
    "\n",
    "\n",
    "Covid19_vacination_data['PERC_VACCINATED_DOSE1'] = (Covid19_vacination_data['VACCINATED_DOSE1']/Covid19_vacination_data['POPULATION'])*100\n",
    "\n",
    "\n",
    "Covid19_vacination_data['PERC_VACCINATED_DOSE2'] = (Covid19_vacination_data['VACCINATED_DOSE2']/Covid19_vacination_data['POPULATION'])*100\n"
   ]
  },
  {
   "cell_type": "code",
   "execution_count": 81,
   "metadata": {},
   "outputs": [
    {
     "data": {
      "text/html": [
       "<div>\n",
       "<style scoped>\n",
       "    .dataframe tbody tr th:only-of-type {\n",
       "        vertical-align: middle;\n",
       "    }\n",
       "\n",
       "    .dataframe tbody tr th {\n",
       "        vertical-align: top;\n",
       "    }\n",
       "\n",
       "    .dataframe thead th {\n",
       "        text-align: right;\n",
       "    }\n",
       "</style>\n",
       "<table border=\"1\" class=\"dataframe\">\n",
       "  <thead>\n",
       "    <tr style=\"text-align: right;\">\n",
       "      <th></th>\n",
       "      <th>STATE/UT</th>\n",
       "      <th>POPULATION</th>\n",
       "      <th>TOTAL_VACCINATION</th>\n",
       "      <th>VACCINATED_DOSE1</th>\n",
       "      <th>VACCINATED_DOSE2</th>\n",
       "      <th>PERC_VACCINATED</th>\n",
       "      <th>PERC_VACCINATED_DOSE1</th>\n",
       "      <th>PERC_VACCINATED_DOSE2</th>\n",
       "    </tr>\n",
       "  </thead>\n",
       "  <tbody>\n",
       "    <tr>\n",
       "      <th>0</th>\n",
       "      <td>Andaman and Nicobar Islands</td>\n",
       "      <td>397000</td>\n",
       "      <td>301377</td>\n",
       "      <td>209744</td>\n",
       "      <td>91633</td>\n",
       "      <td>75.91</td>\n",
       "      <td>52.83</td>\n",
       "      <td>23.08</td>\n",
       "    </tr>\n",
       "    <tr>\n",
       "      <th>1</th>\n",
       "      <td>Andhra Pradesh</td>\n",
       "      <td>52221000</td>\n",
       "      <td>21887925</td>\n",
       "      <td>16301408</td>\n",
       "      <td>5586517</td>\n",
       "      <td>41.91</td>\n",
       "      <td>31.22</td>\n",
       "      <td>10.70</td>\n",
       "    </tr>\n",
       "    <tr>\n",
       "      <th>2</th>\n",
       "      <td>Arunachal Pradesh</td>\n",
       "      <td>1504000</td>\n",
       "      <td>847524</td>\n",
       "      <td>672715</td>\n",
       "      <td>174809</td>\n",
       "      <td>56.35</td>\n",
       "      <td>44.73</td>\n",
       "      <td>11.62</td>\n",
       "    </tr>\n",
       "    <tr>\n",
       "      <th>3</th>\n",
       "      <td>Assam</td>\n",
       "      <td>34293000</td>\n",
       "      <td>10827165</td>\n",
       "      <td>8878074</td>\n",
       "      <td>1949091</td>\n",
       "      <td>31.57</td>\n",
       "      <td>25.89</td>\n",
       "      <td>5.68</td>\n",
       "    </tr>\n",
       "    <tr>\n",
       "      <th>4</th>\n",
       "      <td>Bihar</td>\n",
       "      <td>119520000</td>\n",
       "      <td>24702048</td>\n",
       "      <td>20782782</td>\n",
       "      <td>3919266</td>\n",
       "      <td>20.67</td>\n",
       "      <td>17.39</td>\n",
       "      <td>3.28</td>\n",
       "    </tr>\n",
       "  </tbody>\n",
       "</table>\n",
       "</div>"
      ],
      "text/plain": [
       "                      STATE/UT  POPULATION  TOTAL_VACCINATION  \\\n",
       "0  Andaman and Nicobar Islands      397000             301377   \n",
       "1               Andhra Pradesh    52221000           21887925   \n",
       "2            Arunachal Pradesh     1504000             847524   \n",
       "3                        Assam    34293000           10827165   \n",
       "4                        Bihar   119520000           24702048   \n",
       "\n",
       "   VACCINATED_DOSE1  VACCINATED_DOSE2  PERC_VACCINATED  PERC_VACCINATED_DOSE1  \\\n",
       "0            209744             91633            75.91                  52.83   \n",
       "1          16301408           5586517            41.91                  31.22   \n",
       "2            672715            174809            56.35                  44.73   \n",
       "3           8878074           1949091            31.57                  25.89   \n",
       "4          20782782           3919266            20.67                  17.39   \n",
       "\n",
       "   PERC_VACCINATED_DOSE2  \n",
       "0                  23.08  \n",
       "1                  10.70  \n",
       "2                  11.62  \n",
       "3                   5.68  \n",
       "4                   3.28  "
      ]
     },
     "execution_count": 81,
     "metadata": {},
     "output_type": "execute_result"
    }
   ],
   "source": [
    "Covid19_vacination_data.head()"
   ]
  },
  {
   "cell_type": "code",
   "execution_count": 82,
   "metadata": {},
   "outputs": [],
   "source": [
    "#Add a row with Total values\n",
    "#print(Covid19_vacination_data.loc['Total',:])"
   ]
  },
  {
   "cell_type": "code",
   "execution_count": 83,
   "metadata": {},
   "outputs": [
    {
     "data": {
      "text/plain": [
       "Index(['DATE', 'STATE/UT', 'POPULATION', 'TOTAL_CASES', 'DECEASED',\n",
       "       'RECOVERED', 'TESTED', 'VACCINATED_DOSE1', 'VACCINATED_DOSE2', 'ACTIVE',\n",
       "       'TOTAL_VACCINATION'],\n",
       "      dtype='object')"
      ]
     },
     "execution_count": 83,
     "metadata": {},
     "output_type": "execute_result"
    }
   ],
   "source": [
    "Covid19_data.columns"
   ]
  },
  {
   "cell_type": "code",
   "execution_count": 84,
   "metadata": {},
   "outputs": [],
   "source": [
    "#Statewise Status data\n",
    "Covid19_status_data = Covid19_data[['STATE/UT', 'POPULATION','TOTAL_CASES', 'ACTIVE', 'RECOVERED', 'DECEASED']]"
   ]
  },
  {
   "cell_type": "code",
   "execution_count": 85,
   "metadata": {},
   "outputs": [],
   "source": [
    "#Creating percentage columns\n",
    "Covid19_status_data['ACTIVE_RATIO'] = (Covid19_status_data['ACTIVE']/Covid19_status_data['TOTAL_CASES'])*100\n",
    "\n",
    "\n",
    "Covid19_status_data['RECOVERED_RATIO'] = (Covid19_status_data['RECOVERED']/Covid19_status_data['TOTAL_CASES'])*100\n",
    "\n",
    "\n",
    "Covid19_status_data['DECEASED_RATIO'] = (Covid19_status_data['DECEASED']/Covid19_status_data['TOTAL_CASES'])*100\n"
   ]
  },
  {
   "cell_type": "code",
   "execution_count": 86,
   "metadata": {},
   "outputs": [
    {
     "data": {
      "text/html": [
       "<div>\n",
       "<style scoped>\n",
       "    .dataframe tbody tr th:only-of-type {\n",
       "        vertical-align: middle;\n",
       "    }\n",
       "\n",
       "    .dataframe tbody tr th {\n",
       "        vertical-align: top;\n",
       "    }\n",
       "\n",
       "    .dataframe thead th {\n",
       "        text-align: right;\n",
       "    }\n",
       "</style>\n",
       "<table border=\"1\" class=\"dataframe\">\n",
       "  <thead>\n",
       "    <tr style=\"text-align: right;\">\n",
       "      <th></th>\n",
       "      <th>STATE/UT</th>\n",
       "      <th>POPULATION</th>\n",
       "      <th>TOTAL_CASES</th>\n",
       "      <th>ACTIVE</th>\n",
       "      <th>RECOVERED</th>\n",
       "      <th>DECEASED</th>\n",
       "      <th>ACTIVE_RATIO</th>\n",
       "      <th>RECOVERED_RATIO</th>\n",
       "      <th>DECEASED_RATIO</th>\n",
       "    </tr>\n",
       "  </thead>\n",
       "  <tbody>\n",
       "    <tr>\n",
       "      <th>0</th>\n",
       "      <td>Andaman and Nicobar Islands</td>\n",
       "      <td>397000</td>\n",
       "      <td>7539</td>\n",
       "      <td>7</td>\n",
       "      <td>7403</td>\n",
       "      <td>129</td>\n",
       "      <td>0.09</td>\n",
       "      <td>98.20</td>\n",
       "      <td>1.71</td>\n",
       "    </tr>\n",
       "    <tr>\n",
       "      <th>1</th>\n",
       "      <td>Andhra Pradesh</td>\n",
       "      <td>52221000</td>\n",
       "      <td>1968462</td>\n",
       "      <td>21019</td>\n",
       "      <td>1934048</td>\n",
       "      <td>13395</td>\n",
       "      <td>1.07</td>\n",
       "      <td>98.25</td>\n",
       "      <td>0.68</td>\n",
       "    </tr>\n",
       "    <tr>\n",
       "      <th>2</th>\n",
       "      <td>Arunachal Pradesh</td>\n",
       "      <td>1504000</td>\n",
       "      <td>48260</td>\n",
       "      <td>3675</td>\n",
       "      <td>44354</td>\n",
       "      <td>231</td>\n",
       "      <td>7.62</td>\n",
       "      <td>91.91</td>\n",
       "      <td>0.48</td>\n",
       "    </tr>\n",
       "    <tr>\n",
       "      <th>3</th>\n",
       "      <td>Assam</td>\n",
       "      <td>34293000</td>\n",
       "      <td>566982</td>\n",
       "      <td>12642</td>\n",
       "      <td>549065</td>\n",
       "      <td>5275</td>\n",
       "      <td>2.23</td>\n",
       "      <td>96.84</td>\n",
       "      <td>0.93</td>\n",
       "    </tr>\n",
       "    <tr>\n",
       "      <th>4</th>\n",
       "      <td>Bihar</td>\n",
       "      <td>119520000</td>\n",
       "      <td>724880</td>\n",
       "      <td>435</td>\n",
       "      <td>714801</td>\n",
       "      <td>9644</td>\n",
       "      <td>0.06</td>\n",
       "      <td>98.61</td>\n",
       "      <td>1.33</td>\n",
       "    </tr>\n",
       "  </tbody>\n",
       "</table>\n",
       "</div>"
      ],
      "text/plain": [
       "                      STATE/UT  POPULATION  TOTAL_CASES  ACTIVE  RECOVERED  \\\n",
       "0  Andaman and Nicobar Islands      397000         7539       7       7403   \n",
       "1               Andhra Pradesh    52221000      1968462   21019    1934048   \n",
       "2            Arunachal Pradesh     1504000        48260    3675      44354   \n",
       "3                        Assam    34293000       566982   12642     549065   \n",
       "4                        Bihar   119520000       724880     435     714801   \n",
       "\n",
       "   DECEASED  ACTIVE_RATIO  RECOVERED_RATIO  DECEASED_RATIO  \n",
       "0       129          0.09            98.20            1.71  \n",
       "1     13395          1.07            98.25            0.68  \n",
       "2       231          7.62            91.91            0.48  \n",
       "3      5275          2.23            96.84            0.93  \n",
       "4      9644          0.06            98.61            1.33  "
      ]
     },
     "execution_count": 86,
     "metadata": {},
     "output_type": "execute_result"
    }
   ],
   "source": [
    "Covid19_status_data.head()"
   ]
  },
  {
   "cell_type": "code",
   "execution_count": 87,
   "metadata": {},
   "outputs": [],
   "source": [
    "#Add a row with Total values\n",
    "#print(Covid19_status_data.loc['Total',:])"
   ]
  },
  {
   "cell_type": "markdown",
   "metadata": {},
   "source": [
    "### Distribution of cases"
   ]
  },
  {
   "cell_type": "code",
   "execution_count": 88,
   "metadata": {},
   "outputs": [],
   "source": [
    "# cases_grouped = Covid19_status_data[Covid19_status_data['STATE/UT'] != 'Total'].groupby('STATE/UT')['ACTIVE'].sum().sort_values(ascending=False).to_frame()\n",
    "# cases_grouped.style.background_gradient(cmap='Reds')"
   ]
  },
  {
   "cell_type": "code",
   "execution_count": 194,
   "metadata": {},
   "outputs": [
    {
     "data": {
      "text/html": [
       "<style  type=\"text/css\" >\n",
       "    #T_f6e19e06_f392_11eb_bb45_fc3fdb5c71c1row0_col0 {\n",
       "            background-color:  #67000d;\n",
       "            color:  #f1f1f1;\n",
       "        }    #T_f6e19e06_f392_11eb_bb45_fc3fdb5c71c1row1_col0 {\n",
       "            background-color:  #fc8464;\n",
       "            color:  #000000;\n",
       "        }    #T_f6e19e06_f392_11eb_bb45_fc3fdb5c71c1row2_col0 {\n",
       "            background-color:  #fff1ea;\n",
       "            color:  #000000;\n",
       "        }    #T_f6e19e06_f392_11eb_bb45_fc3fdb5c71c1row3_col0 {\n",
       "            background-color:  #fff5f0;\n",
       "            color:  #000000;\n",
       "        }    #T_f6e19e06_f392_11eb_bb45_fc3fdb5c71c1row4_col0 {\n",
       "            background-color:  #fff5f0;\n",
       "            color:  #000000;\n",
       "        }</style><table id=\"T_f6e19e06_f392_11eb_bb45_fc3fdb5c71c1\" ><thead>    <tr>        <th class=\"blank level0\" ></th>        <th class=\"col_heading level0 col0\" >ACTIVE</th>    </tr>    <tr>        <th class=\"index_name level0\" >STATE/UT</th>        <th class=\"blank\" ></th>    </tr></thead><tbody>\n",
       "                <tr>\n",
       "                        <th id=\"T_f6e19e06_f392_11eb_bb45_fc3fdb5c71c1level0_row0\" class=\"row_heading level0 row0\" >Kerala</th>\n",
       "                        <td id=\"T_f6e19e06_f392_11eb_bb45_fc3fdb5c71c1row0_col0\" class=\"data row0 col0\" >167890</td>\n",
       "            </tr>\n",
       "            <tr>\n",
       "                        <th id=\"T_f6e19e06_f392_11eb_bb45_fc3fdb5c71c1level0_row1\" class=\"row_heading level0 row1\" >Maharashtra</th>\n",
       "                        <td id=\"T_f6e19e06_f392_11eb_bb45_fc3fdb5c71c1row1_col0\" class=\"data row1 col0\" >82350</td>\n",
       "            </tr>\n",
       "            <tr>\n",
       "                        <th id=\"T_f6e19e06_f392_11eb_bb45_fc3fdb5c71c1level0_row2\" class=\"row_heading level0 row2\" >Karnataka</th>\n",
       "                        <td id=\"T_f6e19e06_f392_11eb_bb45_fc3fdb5c71c1row2_col0\" class=\"data row2 col0\" >24168</td>\n",
       "            </tr>\n",
       "            <tr>\n",
       "                        <th id=\"T_f6e19e06_f392_11eb_bb45_fc3fdb5c71c1level0_row3\" class=\"row_heading level0 row3\" >Andhra Pradesh</th>\n",
       "                        <td id=\"T_f6e19e06_f392_11eb_bb45_fc3fdb5c71c1row3_col0\" class=\"data row3 col0\" >21019</td>\n",
       "            </tr>\n",
       "            <tr>\n",
       "                        <th id=\"T_f6e19e06_f392_11eb_bb45_fc3fdb5c71c1level0_row4\" class=\"row_heading level0 row4\" >Tamil Nadu</th>\n",
       "                        <td id=\"T_f6e19e06_f392_11eb_bb45_fc3fdb5c71c1row4_col0\" class=\"data row4 col0\" >20524</td>\n",
       "            </tr>\n",
       "    </tbody></table>"
      ],
      "text/plain": [
       "<pandas.io.formats.style.Styler at 0x29005cd0a58>"
      ]
     },
     "execution_count": 194,
     "metadata": {},
     "output_type": "execute_result"
    }
   ],
   "source": [
    "#Top 5 Active states\n",
    "Top_active = Covid19_status_data[Covid19_status_data['STATE/UT'] != 'Total'].groupby('STATE/UT')['ACTIVE'].sum().sort_values(ascending=False).to_frame()\n",
    "Top_5_active = Top_active[0:5:]\n",
    "Top_5_active.style.background_gradient(cmap='Reds')"
   ]
  },
  {
   "cell_type": "code",
   "execution_count": 195,
   "metadata": {},
   "outputs": [
    {
     "data": {
      "text/html": [
       "<style  type=\"text/css\" >\n",
       "    #T_1b92b836_f393_11eb_9c0b_fc3fdb5c71c1row0_col0 {\n",
       "            background-color:  #67000d;\n",
       "            color:  #f1f1f1;\n",
       "        }    #T_1b92b836_f393_11eb_9c0b_fc3fdb5c71c1row1_col0 {\n",
       "            background-color:  #fca082;\n",
       "            color:  #000000;\n",
       "        }    #T_1b92b836_f393_11eb_9c0b_fc3fdb5c71c1row2_col0 {\n",
       "            background-color:  #fdc5ae;\n",
       "            color:  #000000;\n",
       "        }    #T_1b92b836_f393_11eb_9c0b_fc3fdb5c71c1row3_col0 {\n",
       "            background-color:  #fedecf;\n",
       "            color:  #000000;\n",
       "        }    #T_1b92b836_f393_11eb_9c0b_fc3fdb5c71c1row4_col0 {\n",
       "            background-color:  #fff5f0;\n",
       "            color:  #000000;\n",
       "        }</style><table id=\"T_1b92b836_f393_11eb_9c0b_fc3fdb5c71c1\" ><thead>    <tr>        <th class=\"blank level0\" ></th>        <th class=\"col_heading level0 col0\" >TOTAL_CASES</th>    </tr>    <tr>        <th class=\"index_name level0\" >STATE/UT</th>        <th class=\"blank\" ></th>    </tr></thead><tbody>\n",
       "                <tr>\n",
       "                        <th id=\"T_1b92b836_f393_11eb_9c0b_fc3fdb5c71c1level0_row0\" class=\"row_heading level0 row0\" >Maharashtra</th>\n",
       "                        <td id=\"T_1b92b836_f393_11eb_9c0b_fc3fdb5c71c1row0_col0\" class=\"data row0 col0\" >6310194</td>\n",
       "            </tr>\n",
       "            <tr>\n",
       "                        <th id=\"T_1b92b836_f393_11eb_9c0b_fc3fdb5c71c1level0_row1\" class=\"row_heading level0 row1\" >Kerala</th>\n",
       "                        <td id=\"T_1b92b836_f393_11eb_9c0b_fc3fdb5c71c1row1_col0\" class=\"data row1 col0\" >3411489</td>\n",
       "            </tr>\n",
       "            <tr>\n",
       "                        <th id=\"T_1b92b836_f393_11eb_9c0b_fc3fdb5c71c1level0_row2\" class=\"row_heading level0 row2\" >Karnataka</th>\n",
       "                        <td id=\"T_1b92b836_f393_11eb_9c0b_fc3fdb5c71c1row2_col0\" class=\"data row2 col0\" >2906999</td>\n",
       "            </tr>\n",
       "            <tr>\n",
       "                        <th id=\"T_1b92b836_f393_11eb_9c0b_fc3fdb5c71c1level0_row3\" class=\"row_heading level0 row3\" >Tamil Nadu</th>\n",
       "                        <td id=\"T_1b92b836_f393_11eb_9c0b_fc3fdb5c71c1row3_col0\" class=\"data row3 col0\" >2561587</td>\n",
       "            </tr>\n",
       "            <tr>\n",
       "                        <th id=\"T_1b92b836_f393_11eb_9c0b_fc3fdb5c71c1level0_row4\" class=\"row_heading level0 row4\" >Andhra Pradesh</th>\n",
       "                        <td id=\"T_1b92b836_f393_11eb_9c0b_fc3fdb5c71c1row4_col0\" class=\"data row4 col0\" >1968462</td>\n",
       "            </tr>\n",
       "    </tbody></table>"
      ],
      "text/plain": [
       "<pandas.io.formats.style.Styler at 0x29005cd04a8>"
      ]
     },
     "execution_count": 195,
     "metadata": {},
     "output_type": "execute_result"
    }
   ],
   "source": [
    "#Top 5 states with most cases\n",
    "Top_cases = Covid19_status_data[Covid19_status_data['STATE/UT'] != 'Total'].groupby('STATE/UT')['TOTAL_CASES'].sum().sort_values(ascending=False).to_frame()\n",
    "Top_5_cases = Top_cases[0:5:]\n",
    "Top_5_cases.style.background_gradient(cmap='Reds')"
   ]
  },
  {
   "cell_type": "code",
   "execution_count": 196,
   "metadata": {},
   "outputs": [
    {
     "data": {
      "text/html": [
       "<style  type=\"text/css\" >\n",
       "    #T_5aa73eb4_f393_11eb_8530_fc3fdb5c71c1row0_col0 {\n",
       "            background-color:  #67000d;\n",
       "            color:  #f1f1f1;\n",
       "        }    #T_5aa73eb4_f393_11eb_8530_fc3fdb5c71c1row1_col0 {\n",
       "            background-color:  #fca78b;\n",
       "            color:  #000000;\n",
       "        }    #T_5aa73eb4_f393_11eb_8530_fc3fdb5c71c1row2_col0 {\n",
       "            background-color:  #fcc4ad;\n",
       "            color:  #000000;\n",
       "        }    #T_5aa73eb4_f393_11eb_8530_fc3fdb5c71c1row3_col0 {\n",
       "            background-color:  #fedccd;\n",
       "            color:  #000000;\n",
       "        }    #T_5aa73eb4_f393_11eb_8530_fc3fdb5c71c1row4_col0 {\n",
       "            background-color:  #fff5f0;\n",
       "            color:  #000000;\n",
       "        }</style><table id=\"T_5aa73eb4_f393_11eb_8530_fc3fdb5c71c1\" ><thead>    <tr>        <th class=\"blank level0\" ></th>        <th class=\"col_heading level0 col0\" >RECOVERED</th>    </tr>    <tr>        <th class=\"index_name level0\" >STATE/UT</th>        <th class=\"blank\" ></th>    </tr></thead><tbody>\n",
       "                <tr>\n",
       "                        <th id=\"T_5aa73eb4_f393_11eb_8530_fc3fdb5c71c1level0_row0\" class=\"row_heading level0 row0\" >Maharashtra</th>\n",
       "                        <td id=\"T_5aa73eb4_f393_11eb_8530_fc3fdb5c71c1row0_col0\" class=\"data row0 col0\" >6094896</td>\n",
       "            </tr>\n",
       "            <tr>\n",
       "                        <th id=\"T_5aa73eb4_f393_11eb_8530_fc3fdb5c71c1level0_row1\" class=\"row_heading level0 row1\" >Kerala</th>\n",
       "                        <td id=\"T_5aa73eb4_f393_11eb_8530_fc3fdb5c71c1row1_col0\" class=\"data row1 col0\" >3226761</td>\n",
       "            </tr>\n",
       "            <tr>\n",
       "                        <th id=\"T_5aa73eb4_f393_11eb_8530_fc3fdb5c71c1level0_row2\" class=\"row_heading level0 row2\" >Karnataka</th>\n",
       "                        <td id=\"T_5aa73eb4_f393_11eb_8530_fc3fdb5c71c1row2_col0\" class=\"data row2 col0\" >2846244</td>\n",
       "            </tr>\n",
       "            <tr>\n",
       "                        <th id=\"T_5aa73eb4_f393_11eb_8530_fc3fdb5c71c1level0_row3\" class=\"row_heading level0 row3\" >Tamil Nadu</th>\n",
       "                        <td id=\"T_5aa73eb4_f393_11eb_8530_fc3fdb5c71c1row3_col0\" class=\"data row3 col0\" >2506961</td>\n",
       "            </tr>\n",
       "            <tr>\n",
       "                        <th id=\"T_5aa73eb4_f393_11eb_8530_fc3fdb5c71c1level0_row4\" class=\"row_heading level0 row4\" >Andhra Pradesh</th>\n",
       "                        <td id=\"T_5aa73eb4_f393_11eb_8530_fc3fdb5c71c1row4_col0\" class=\"data row4 col0\" >1934048</td>\n",
       "            </tr>\n",
       "    </tbody></table>"
      ],
      "text/plain": [
       "<pandas.io.formats.style.Styler at 0x29005cd0e10>"
      ]
     },
     "execution_count": 196,
     "metadata": {},
     "output_type": "execute_result"
    }
   ],
   "source": [
    "#Top 5 states with recovered cases\n",
    "Top_recovered = Covid19_status_data[Covid19_status_data['STATE/UT'] != 'Total'].groupby('STATE/UT')['RECOVERED'].sum().sort_values(ascending=False).to_frame()\n",
    "Top_5_recovered = Top_recovered[0:5:]\n",
    "Top_5_recovered.style.background_gradient(cmap='Reds')"
   ]
  },
  {
   "cell_type": "code",
   "execution_count": 61,
   "metadata": {},
   "outputs": [],
   "source": [
    "# #Retreiving Latitude and Longitude coordinates\n",
    "# info = pd.read_html(\"http://www.quickgs.com/latitudinal-and-longitudinal-extents-of-india-indian-states-and-cities/\") \n",
    "\n",
    "# #convering the table data into DataFrame\n",
    "# coordinates = pd.DataFrame(info[0])\n",
    "\n",
    "# coordinates.head()"
   ]
  },
  {
   "cell_type": "code",
   "execution_count": 175,
   "metadata": {},
   "outputs": [],
   "source": [
    "#Get the date \n",
    "date = Covid19_data['DATE'][0].strftime('%b %d,%Y')"
   ]
  },
  {
   "cell_type": "markdown",
   "metadata": {},
   "source": [
    "### Total Active cases"
   ]
  },
  {
   "cell_type": "code",
   "execution_count": 182,
   "metadata": {
    "scrolled": true
   },
   "outputs": [
    {
     "data": {
      "application/vnd.plotly.v1+json": {
       "config": {
        "plotlyServerURL": "https://plot.ly"
       },
       "data": [
        {
         "alignmentgroup": "True",
         "hovertemplate": "ACTIVE=%{text}<br>STATE/UT=%{y}<extra></extra>",
         "legendgroup": "",
         "marker": {
          "color": "#46cdcf",
          "pattern": {
           "shape": ""
          }
         },
         "name": "",
         "offsetgroup": "",
         "opacity": 0.8,
         "orientation": "h",
         "showlegend": false,
         "text": [
          "7",
          "30",
          "58",
          "62",
          "115",
          "125",
          "245",
          "254",
          "254",
          "435",
          "504",
          "582",
          "664",
          "715",
          "982",
          "1011",
          "1211",
          "1268",
          "1919",
          "2131",
          "3545",
          "3675",
          "3723",
          "6043",
          "6646",
          "8873",
          "10405",
          "10974",
          "11751",
          "12642",
          "14085",
          "20524",
          "21019",
          "24168",
          "82350",
          "167890"
         ],
         "textposition": "inside",
         "type": "bar",
         "x": [
          7,
          30,
          58,
          62,
          115,
          125,
          245,
          254,
          254,
          435,
          504,
          582,
          664,
          715,
          982,
          1011,
          1211,
          1268,
          1919,
          2131,
          3545,
          3675,
          3723,
          6043,
          6646,
          8873,
          10405,
          10974,
          11751,
          12642,
          14085,
          20524,
          21019,
          24168,
          82350,
          167890
         ],
         "xaxis": "x",
         "y": [
          "Andaman and Nicobar Islands",
          "Chandigarh",
          "Dadra and Nagar Haveli",
          "Lakshadweep",
          "Lakshadweep",
          "Madhya Pradesh",
          "Rajasthan",
          "Gujarat",
          "Jharkhand",
          "Bihar",
          "Punjab",
          "Delhi",
          "Uttar Pradesh",
          "Haryana",
          "Pondicherry",
          "Goa",
          "Jammu and Kashmir",
          "Himachal Pradesh",
          "Chhattisgarh",
          "Nagaland",
          "Tripura",
          "Arunachal Pradesh",
          "Sikkim",
          "Meghalaya",
          "Uttarakhand",
          "Telangana",
          "Manipur",
          "West Bengal",
          "Mizoram",
          "Assam",
          "Orissa",
          "Tamil Nadu",
          "Andhra Pradesh",
          "Karnataka",
          "Maharashtra",
          "Kerala"
         ],
         "yaxis": "y"
        }
       ],
       "layout": {
        "barmode": "relative",
        "height": 700,
        "legend": {
         "tracegroupgap": 0
        },
        "plot_bgcolor": "rgb(250, 242, 242)",
        "template": {
         "data": {
          "bar": [
           {
            "error_x": {
             "color": "#2a3f5f"
            },
            "error_y": {
             "color": "#2a3f5f"
            },
            "marker": {
             "line": {
              "color": "#E5ECF6",
              "width": 0.5
             },
             "pattern": {
              "fillmode": "overlay",
              "size": 10,
              "solidity": 0.2
             }
            },
            "type": "bar"
           }
          ],
          "barpolar": [
           {
            "marker": {
             "line": {
              "color": "#E5ECF6",
              "width": 0.5
             },
             "pattern": {
              "fillmode": "overlay",
              "size": 10,
              "solidity": 0.2
             }
            },
            "type": "barpolar"
           }
          ],
          "carpet": [
           {
            "aaxis": {
             "endlinecolor": "#2a3f5f",
             "gridcolor": "white",
             "linecolor": "white",
             "minorgridcolor": "white",
             "startlinecolor": "#2a3f5f"
            },
            "baxis": {
             "endlinecolor": "#2a3f5f",
             "gridcolor": "white",
             "linecolor": "white",
             "minorgridcolor": "white",
             "startlinecolor": "#2a3f5f"
            },
            "type": "carpet"
           }
          ],
          "choropleth": [
           {
            "colorbar": {
             "outlinewidth": 0,
             "ticks": ""
            },
            "type": "choropleth"
           }
          ],
          "contour": [
           {
            "colorbar": {
             "outlinewidth": 0,
             "ticks": ""
            },
            "colorscale": [
             [
              0,
              "#0d0887"
             ],
             [
              0.1111111111111111,
              "#46039f"
             ],
             [
              0.2222222222222222,
              "#7201a8"
             ],
             [
              0.3333333333333333,
              "#9c179e"
             ],
             [
              0.4444444444444444,
              "#bd3786"
             ],
             [
              0.5555555555555556,
              "#d8576b"
             ],
             [
              0.6666666666666666,
              "#ed7953"
             ],
             [
              0.7777777777777778,
              "#fb9f3a"
             ],
             [
              0.8888888888888888,
              "#fdca26"
             ],
             [
              1,
              "#f0f921"
             ]
            ],
            "type": "contour"
           }
          ],
          "contourcarpet": [
           {
            "colorbar": {
             "outlinewidth": 0,
             "ticks": ""
            },
            "type": "contourcarpet"
           }
          ],
          "heatmap": [
           {
            "colorbar": {
             "outlinewidth": 0,
             "ticks": ""
            },
            "colorscale": [
             [
              0,
              "#0d0887"
             ],
             [
              0.1111111111111111,
              "#46039f"
             ],
             [
              0.2222222222222222,
              "#7201a8"
             ],
             [
              0.3333333333333333,
              "#9c179e"
             ],
             [
              0.4444444444444444,
              "#bd3786"
             ],
             [
              0.5555555555555556,
              "#d8576b"
             ],
             [
              0.6666666666666666,
              "#ed7953"
             ],
             [
              0.7777777777777778,
              "#fb9f3a"
             ],
             [
              0.8888888888888888,
              "#fdca26"
             ],
             [
              1,
              "#f0f921"
             ]
            ],
            "type": "heatmap"
           }
          ],
          "heatmapgl": [
           {
            "colorbar": {
             "outlinewidth": 0,
             "ticks": ""
            },
            "colorscale": [
             [
              0,
              "#0d0887"
             ],
             [
              0.1111111111111111,
              "#46039f"
             ],
             [
              0.2222222222222222,
              "#7201a8"
             ],
             [
              0.3333333333333333,
              "#9c179e"
             ],
             [
              0.4444444444444444,
              "#bd3786"
             ],
             [
              0.5555555555555556,
              "#d8576b"
             ],
             [
              0.6666666666666666,
              "#ed7953"
             ],
             [
              0.7777777777777778,
              "#fb9f3a"
             ],
             [
              0.8888888888888888,
              "#fdca26"
             ],
             [
              1,
              "#f0f921"
             ]
            ],
            "type": "heatmapgl"
           }
          ],
          "histogram": [
           {
            "marker": {
             "pattern": {
              "fillmode": "overlay",
              "size": 10,
              "solidity": 0.2
             }
            },
            "type": "histogram"
           }
          ],
          "histogram2d": [
           {
            "colorbar": {
             "outlinewidth": 0,
             "ticks": ""
            },
            "colorscale": [
             [
              0,
              "#0d0887"
             ],
             [
              0.1111111111111111,
              "#46039f"
             ],
             [
              0.2222222222222222,
              "#7201a8"
             ],
             [
              0.3333333333333333,
              "#9c179e"
             ],
             [
              0.4444444444444444,
              "#bd3786"
             ],
             [
              0.5555555555555556,
              "#d8576b"
             ],
             [
              0.6666666666666666,
              "#ed7953"
             ],
             [
              0.7777777777777778,
              "#fb9f3a"
             ],
             [
              0.8888888888888888,
              "#fdca26"
             ],
             [
              1,
              "#f0f921"
             ]
            ],
            "type": "histogram2d"
           }
          ],
          "histogram2dcontour": [
           {
            "colorbar": {
             "outlinewidth": 0,
             "ticks": ""
            },
            "colorscale": [
             [
              0,
              "#0d0887"
             ],
             [
              0.1111111111111111,
              "#46039f"
             ],
             [
              0.2222222222222222,
              "#7201a8"
             ],
             [
              0.3333333333333333,
              "#9c179e"
             ],
             [
              0.4444444444444444,
              "#bd3786"
             ],
             [
              0.5555555555555556,
              "#d8576b"
             ],
             [
              0.6666666666666666,
              "#ed7953"
             ],
             [
              0.7777777777777778,
              "#fb9f3a"
             ],
             [
              0.8888888888888888,
              "#fdca26"
             ],
             [
              1,
              "#f0f921"
             ]
            ],
            "type": "histogram2dcontour"
           }
          ],
          "mesh3d": [
           {
            "colorbar": {
             "outlinewidth": 0,
             "ticks": ""
            },
            "type": "mesh3d"
           }
          ],
          "parcoords": [
           {
            "line": {
             "colorbar": {
              "outlinewidth": 0,
              "ticks": ""
             }
            },
            "type": "parcoords"
           }
          ],
          "pie": [
           {
            "automargin": true,
            "type": "pie"
           }
          ],
          "scatter": [
           {
            "marker": {
             "colorbar": {
              "outlinewidth": 0,
              "ticks": ""
             }
            },
            "type": "scatter"
           }
          ],
          "scatter3d": [
           {
            "line": {
             "colorbar": {
              "outlinewidth": 0,
              "ticks": ""
             }
            },
            "marker": {
             "colorbar": {
              "outlinewidth": 0,
              "ticks": ""
             }
            },
            "type": "scatter3d"
           }
          ],
          "scattercarpet": [
           {
            "marker": {
             "colorbar": {
              "outlinewidth": 0,
              "ticks": ""
             }
            },
            "type": "scattercarpet"
           }
          ],
          "scattergeo": [
           {
            "marker": {
             "colorbar": {
              "outlinewidth": 0,
              "ticks": ""
             }
            },
            "type": "scattergeo"
           }
          ],
          "scattergl": [
           {
            "marker": {
             "colorbar": {
              "outlinewidth": 0,
              "ticks": ""
             }
            },
            "type": "scattergl"
           }
          ],
          "scattermapbox": [
           {
            "marker": {
             "colorbar": {
              "outlinewidth": 0,
              "ticks": ""
             }
            },
            "type": "scattermapbox"
           }
          ],
          "scatterpolar": [
           {
            "marker": {
             "colorbar": {
              "outlinewidth": 0,
              "ticks": ""
             }
            },
            "type": "scatterpolar"
           }
          ],
          "scatterpolargl": [
           {
            "marker": {
             "colorbar": {
              "outlinewidth": 0,
              "ticks": ""
             }
            },
            "type": "scatterpolargl"
           }
          ],
          "scatterternary": [
           {
            "marker": {
             "colorbar": {
              "outlinewidth": 0,
              "ticks": ""
             }
            },
            "type": "scatterternary"
           }
          ],
          "surface": [
           {
            "colorbar": {
             "outlinewidth": 0,
             "ticks": ""
            },
            "colorscale": [
             [
              0,
              "#0d0887"
             ],
             [
              0.1111111111111111,
              "#46039f"
             ],
             [
              0.2222222222222222,
              "#7201a8"
             ],
             [
              0.3333333333333333,
              "#9c179e"
             ],
             [
              0.4444444444444444,
              "#bd3786"
             ],
             [
              0.5555555555555556,
              "#d8576b"
             ],
             [
              0.6666666666666666,
              "#ed7953"
             ],
             [
              0.7777777777777778,
              "#fb9f3a"
             ],
             [
              0.8888888888888888,
              "#fdca26"
             ],
             [
              1,
              "#f0f921"
             ]
            ],
            "type": "surface"
           }
          ],
          "table": [
           {
            "cells": {
             "fill": {
              "color": "#EBF0F8"
             },
             "line": {
              "color": "white"
             }
            },
            "header": {
             "fill": {
              "color": "#C8D4E3"
             },
             "line": {
              "color": "white"
             }
            },
            "type": "table"
           }
          ]
         },
         "layout": {
          "annotationdefaults": {
           "arrowcolor": "#2a3f5f",
           "arrowhead": 0,
           "arrowwidth": 1
          },
          "autotypenumbers": "strict",
          "coloraxis": {
           "colorbar": {
            "outlinewidth": 0,
            "ticks": ""
           }
          },
          "colorscale": {
           "diverging": [
            [
             0,
             "#8e0152"
            ],
            [
             0.1,
             "#c51b7d"
            ],
            [
             0.2,
             "#de77ae"
            ],
            [
             0.3,
             "#f1b6da"
            ],
            [
             0.4,
             "#fde0ef"
            ],
            [
             0.5,
             "#f7f7f7"
            ],
            [
             0.6,
             "#e6f5d0"
            ],
            [
             0.7,
             "#b8e186"
            ],
            [
             0.8,
             "#7fbc41"
            ],
            [
             0.9,
             "#4d9221"
            ],
            [
             1,
             "#276419"
            ]
           ],
           "sequential": [
            [
             0,
             "#0d0887"
            ],
            [
             0.1111111111111111,
             "#46039f"
            ],
            [
             0.2222222222222222,
             "#7201a8"
            ],
            [
             0.3333333333333333,
             "#9c179e"
            ],
            [
             0.4444444444444444,
             "#bd3786"
            ],
            [
             0.5555555555555556,
             "#d8576b"
            ],
            [
             0.6666666666666666,
             "#ed7953"
            ],
            [
             0.7777777777777778,
             "#fb9f3a"
            ],
            [
             0.8888888888888888,
             "#fdca26"
            ],
            [
             1,
             "#f0f921"
            ]
           ],
           "sequentialminus": [
            [
             0,
             "#0d0887"
            ],
            [
             0.1111111111111111,
             "#46039f"
            ],
            [
             0.2222222222222222,
             "#7201a8"
            ],
            [
             0.3333333333333333,
             "#9c179e"
            ],
            [
             0.4444444444444444,
             "#bd3786"
            ],
            [
             0.5555555555555556,
             "#d8576b"
            ],
            [
             0.6666666666666666,
             "#ed7953"
            ],
            [
             0.7777777777777778,
             "#fb9f3a"
            ],
            [
             0.8888888888888888,
             "#fdca26"
            ],
            [
             1,
             "#f0f921"
            ]
           ]
          },
          "colorway": [
           "#636efa",
           "#EF553B",
           "#00cc96",
           "#ab63fa",
           "#FFA15A",
           "#19d3f3",
           "#FF6692",
           "#B6E880",
           "#FF97FF",
           "#FECB52"
          ],
          "font": {
           "color": "#2a3f5f"
          },
          "geo": {
           "bgcolor": "white",
           "lakecolor": "white",
           "landcolor": "#E5ECF6",
           "showlakes": true,
           "showland": true,
           "subunitcolor": "white"
          },
          "hoverlabel": {
           "align": "left"
          },
          "hovermode": "closest",
          "mapbox": {
           "style": "light"
          },
          "paper_bgcolor": "white",
          "plot_bgcolor": "#E5ECF6",
          "polar": {
           "angularaxis": {
            "gridcolor": "white",
            "linecolor": "white",
            "ticks": ""
           },
           "bgcolor": "#E5ECF6",
           "radialaxis": {
            "gridcolor": "white",
            "linecolor": "white",
            "ticks": ""
           }
          },
          "scene": {
           "xaxis": {
            "backgroundcolor": "#E5ECF6",
            "gridcolor": "white",
            "gridwidth": 2,
            "linecolor": "white",
            "showbackground": true,
            "ticks": "",
            "zerolinecolor": "white"
           },
           "yaxis": {
            "backgroundcolor": "#E5ECF6",
            "gridcolor": "white",
            "gridwidth": 2,
            "linecolor": "white",
            "showbackground": true,
            "ticks": "",
            "zerolinecolor": "white"
           },
           "zaxis": {
            "backgroundcolor": "#E5ECF6",
            "gridcolor": "white",
            "gridwidth": 2,
            "linecolor": "white",
            "showbackground": true,
            "ticks": "",
            "zerolinecolor": "white"
           }
          },
          "shapedefaults": {
           "line": {
            "color": "#2a3f5f"
           }
          },
          "ternary": {
           "aaxis": {
            "gridcolor": "white",
            "linecolor": "white",
            "ticks": ""
           },
           "baxis": {
            "gridcolor": "white",
            "linecolor": "white",
            "ticks": ""
           },
           "bgcolor": "#E5ECF6",
           "caxis": {
            "gridcolor": "white",
            "linecolor": "white",
            "ticks": ""
           }
          },
          "title": {
           "x": 0.05
          },
          "xaxis": {
           "automargin": true,
           "gridcolor": "white",
           "linecolor": "white",
           "ticks": "",
           "title": {
            "standoff": 15
           },
           "zerolinecolor": "white",
           "zerolinewidth": 2
          },
          "yaxis": {
           "automargin": true,
           "gridcolor": "white",
           "linecolor": "white",
           "ticks": "",
           "title": {
            "standoff": 15
           },
           "zerolinecolor": "white",
           "zerolinewidth": 2
          }
         }
        },
        "title": {
         "text": "Total Active Cases as of Aug 01,2021"
        },
        "width": 1000,
        "xaxis": {
         "anchor": "y",
         "domain": [
          0,
          1
         ],
         "range": [
          0,
          177890
         ],
         "title": {
          "text": "ACTIVE"
         }
        },
        "yaxis": {
         "anchor": "x",
         "domain": [
          0,
          1
         ],
         "title": {
          "text": "STATE/UT"
         }
        }
       }
      },
      "text/html": [
       "<div>                            <div id=\"f2cf35dc-e47d-4f0d-b5b0-ffa9aa4d3c12\" class=\"plotly-graph-div\" style=\"height:700px; width:1000px;\"></div>            <script type=\"text/javascript\">                require([\"plotly\"], function(Plotly) {                    window.PLOTLYENV=window.PLOTLYENV || {};                                    if (document.getElementById(\"f2cf35dc-e47d-4f0d-b5b0-ffa9aa4d3c12\")) {                    Plotly.newPlot(                        \"f2cf35dc-e47d-4f0d-b5b0-ffa9aa4d3c12\",                        [{\"alignmentgroup\":\"True\",\"hovertemplate\":\"ACTIVE=%{text}<br>STATE/UT=%{y}<extra></extra>\",\"legendgroup\":\"\",\"marker\":{\"color\":\"#46cdcf\",\"pattern\":{\"shape\":\"\"}},\"name\":\"\",\"offsetgroup\":\"\",\"opacity\":0.8,\"orientation\":\"h\",\"showlegend\":false,\"text\":[\"7\",\"30\",\"58\",\"62\",\"115\",\"125\",\"245\",\"254\",\"254\",\"435\",\"504\",\"582\",\"664\",\"715\",\"982\",\"1011\",\"1211\",\"1268\",\"1919\",\"2131\",\"3545\",\"3675\",\"3723\",\"6043\",\"6646\",\"8873\",\"10405\",\"10974\",\"11751\",\"12642\",\"14085\",\"20524\",\"21019\",\"24168\",\"82350\",\"167890\"],\"textposition\":\"inside\",\"type\":\"bar\",\"x\":[7,30,58,62,115,125,245,254,254,435,504,582,664,715,982,1011,1211,1268,1919,2131,3545,3675,3723,6043,6646,8873,10405,10974,11751,12642,14085,20524,21019,24168,82350,167890],\"xaxis\":\"x\",\"y\":[\"Andaman and Nicobar Islands\",\"Chandigarh\",\"Dadra and Nagar Haveli\",\"Lakshadweep\",\"Lakshadweep\",\"Madhya Pradesh\",\"Rajasthan\",\"Gujarat\",\"Jharkhand\",\"Bihar\",\"Punjab\",\"Delhi\",\"Uttar Pradesh\",\"Haryana\",\"Pondicherry\",\"Goa\",\"Jammu and Kashmir\",\"Himachal Pradesh\",\"Chhattisgarh\",\"Nagaland\",\"Tripura\",\"Arunachal Pradesh\",\"Sikkim\",\"Meghalaya\",\"Uttarakhand\",\"Telangana\",\"Manipur\",\"West Bengal\",\"Mizoram\",\"Assam\",\"Orissa\",\"Tamil Nadu\",\"Andhra Pradesh\",\"Karnataka\",\"Maharashtra\",\"Kerala\"],\"yaxis\":\"y\"}],                        {\"barmode\":\"relative\",\"height\":700,\"legend\":{\"tracegroupgap\":0},\"plot_bgcolor\":\"rgb(250, 242, 242)\",\"template\":{\"data\":{\"bar\":[{\"error_x\":{\"color\":\"#2a3f5f\"},\"error_y\":{\"color\":\"#2a3f5f\"},\"marker\":{\"line\":{\"color\":\"#E5ECF6\",\"width\":0.5},\"pattern\":{\"fillmode\":\"overlay\",\"size\":10,\"solidity\":0.2}},\"type\":\"bar\"}],\"barpolar\":[{\"marker\":{\"line\":{\"color\":\"#E5ECF6\",\"width\":0.5},\"pattern\":{\"fillmode\":\"overlay\",\"size\":10,\"solidity\":0.2}},\"type\":\"barpolar\"}],\"carpet\":[{\"aaxis\":{\"endlinecolor\":\"#2a3f5f\",\"gridcolor\":\"white\",\"linecolor\":\"white\",\"minorgridcolor\":\"white\",\"startlinecolor\":\"#2a3f5f\"},\"baxis\":{\"endlinecolor\":\"#2a3f5f\",\"gridcolor\":\"white\",\"linecolor\":\"white\",\"minorgridcolor\":\"white\",\"startlinecolor\":\"#2a3f5f\"},\"type\":\"carpet\"}],\"choropleth\":[{\"colorbar\":{\"outlinewidth\":0,\"ticks\":\"\"},\"type\":\"choropleth\"}],\"contour\":[{\"colorbar\":{\"outlinewidth\":0,\"ticks\":\"\"},\"colorscale\":[[0.0,\"#0d0887\"],[0.1111111111111111,\"#46039f\"],[0.2222222222222222,\"#7201a8\"],[0.3333333333333333,\"#9c179e\"],[0.4444444444444444,\"#bd3786\"],[0.5555555555555556,\"#d8576b\"],[0.6666666666666666,\"#ed7953\"],[0.7777777777777778,\"#fb9f3a\"],[0.8888888888888888,\"#fdca26\"],[1.0,\"#f0f921\"]],\"type\":\"contour\"}],\"contourcarpet\":[{\"colorbar\":{\"outlinewidth\":0,\"ticks\":\"\"},\"type\":\"contourcarpet\"}],\"heatmap\":[{\"colorbar\":{\"outlinewidth\":0,\"ticks\":\"\"},\"colorscale\":[[0.0,\"#0d0887\"],[0.1111111111111111,\"#46039f\"],[0.2222222222222222,\"#7201a8\"],[0.3333333333333333,\"#9c179e\"],[0.4444444444444444,\"#bd3786\"],[0.5555555555555556,\"#d8576b\"],[0.6666666666666666,\"#ed7953\"],[0.7777777777777778,\"#fb9f3a\"],[0.8888888888888888,\"#fdca26\"],[1.0,\"#f0f921\"]],\"type\":\"heatmap\"}],\"heatmapgl\":[{\"colorbar\":{\"outlinewidth\":0,\"ticks\":\"\"},\"colorscale\":[[0.0,\"#0d0887\"],[0.1111111111111111,\"#46039f\"],[0.2222222222222222,\"#7201a8\"],[0.3333333333333333,\"#9c179e\"],[0.4444444444444444,\"#bd3786\"],[0.5555555555555556,\"#d8576b\"],[0.6666666666666666,\"#ed7953\"],[0.7777777777777778,\"#fb9f3a\"],[0.8888888888888888,\"#fdca26\"],[1.0,\"#f0f921\"]],\"type\":\"heatmapgl\"}],\"histogram\":[{\"marker\":{\"pattern\":{\"fillmode\":\"overlay\",\"size\":10,\"solidity\":0.2}},\"type\":\"histogram\"}],\"histogram2d\":[{\"colorbar\":{\"outlinewidth\":0,\"ticks\":\"\"},\"colorscale\":[[0.0,\"#0d0887\"],[0.1111111111111111,\"#46039f\"],[0.2222222222222222,\"#7201a8\"],[0.3333333333333333,\"#9c179e\"],[0.4444444444444444,\"#bd3786\"],[0.5555555555555556,\"#d8576b\"],[0.6666666666666666,\"#ed7953\"],[0.7777777777777778,\"#fb9f3a\"],[0.8888888888888888,\"#fdca26\"],[1.0,\"#f0f921\"]],\"type\":\"histogram2d\"}],\"histogram2dcontour\":[{\"colorbar\":{\"outlinewidth\":0,\"ticks\":\"\"},\"colorscale\":[[0.0,\"#0d0887\"],[0.1111111111111111,\"#46039f\"],[0.2222222222222222,\"#7201a8\"],[0.3333333333333333,\"#9c179e\"],[0.4444444444444444,\"#bd3786\"],[0.5555555555555556,\"#d8576b\"],[0.6666666666666666,\"#ed7953\"],[0.7777777777777778,\"#fb9f3a\"],[0.8888888888888888,\"#fdca26\"],[1.0,\"#f0f921\"]],\"type\":\"histogram2dcontour\"}],\"mesh3d\":[{\"colorbar\":{\"outlinewidth\":0,\"ticks\":\"\"},\"type\":\"mesh3d\"}],\"parcoords\":[{\"line\":{\"colorbar\":{\"outlinewidth\":0,\"ticks\":\"\"}},\"type\":\"parcoords\"}],\"pie\":[{\"automargin\":true,\"type\":\"pie\"}],\"scatter\":[{\"marker\":{\"colorbar\":{\"outlinewidth\":0,\"ticks\":\"\"}},\"type\":\"scatter\"}],\"scatter3d\":[{\"line\":{\"colorbar\":{\"outlinewidth\":0,\"ticks\":\"\"}},\"marker\":{\"colorbar\":{\"outlinewidth\":0,\"ticks\":\"\"}},\"type\":\"scatter3d\"}],\"scattercarpet\":[{\"marker\":{\"colorbar\":{\"outlinewidth\":0,\"ticks\":\"\"}},\"type\":\"scattercarpet\"}],\"scattergeo\":[{\"marker\":{\"colorbar\":{\"outlinewidth\":0,\"ticks\":\"\"}},\"type\":\"scattergeo\"}],\"scattergl\":[{\"marker\":{\"colorbar\":{\"outlinewidth\":0,\"ticks\":\"\"}},\"type\":\"scattergl\"}],\"scattermapbox\":[{\"marker\":{\"colorbar\":{\"outlinewidth\":0,\"ticks\":\"\"}},\"type\":\"scattermapbox\"}],\"scatterpolar\":[{\"marker\":{\"colorbar\":{\"outlinewidth\":0,\"ticks\":\"\"}},\"type\":\"scatterpolar\"}],\"scatterpolargl\":[{\"marker\":{\"colorbar\":{\"outlinewidth\":0,\"ticks\":\"\"}},\"type\":\"scatterpolargl\"}],\"scatterternary\":[{\"marker\":{\"colorbar\":{\"outlinewidth\":0,\"ticks\":\"\"}},\"type\":\"scatterternary\"}],\"surface\":[{\"colorbar\":{\"outlinewidth\":0,\"ticks\":\"\"},\"colorscale\":[[0.0,\"#0d0887\"],[0.1111111111111111,\"#46039f\"],[0.2222222222222222,\"#7201a8\"],[0.3333333333333333,\"#9c179e\"],[0.4444444444444444,\"#bd3786\"],[0.5555555555555556,\"#d8576b\"],[0.6666666666666666,\"#ed7953\"],[0.7777777777777778,\"#fb9f3a\"],[0.8888888888888888,\"#fdca26\"],[1.0,\"#f0f921\"]],\"type\":\"surface\"}],\"table\":[{\"cells\":{\"fill\":{\"color\":\"#EBF0F8\"},\"line\":{\"color\":\"white\"}},\"header\":{\"fill\":{\"color\":\"#C8D4E3\"},\"line\":{\"color\":\"white\"}},\"type\":\"table\"}]},\"layout\":{\"annotationdefaults\":{\"arrowcolor\":\"#2a3f5f\",\"arrowhead\":0,\"arrowwidth\":1},\"autotypenumbers\":\"strict\",\"coloraxis\":{\"colorbar\":{\"outlinewidth\":0,\"ticks\":\"\"}},\"colorscale\":{\"diverging\":[[0,\"#8e0152\"],[0.1,\"#c51b7d\"],[0.2,\"#de77ae\"],[0.3,\"#f1b6da\"],[0.4,\"#fde0ef\"],[0.5,\"#f7f7f7\"],[0.6,\"#e6f5d0\"],[0.7,\"#b8e186\"],[0.8,\"#7fbc41\"],[0.9,\"#4d9221\"],[1,\"#276419\"]],\"sequential\":[[0.0,\"#0d0887\"],[0.1111111111111111,\"#46039f\"],[0.2222222222222222,\"#7201a8\"],[0.3333333333333333,\"#9c179e\"],[0.4444444444444444,\"#bd3786\"],[0.5555555555555556,\"#d8576b\"],[0.6666666666666666,\"#ed7953\"],[0.7777777777777778,\"#fb9f3a\"],[0.8888888888888888,\"#fdca26\"],[1.0,\"#f0f921\"]],\"sequentialminus\":[[0.0,\"#0d0887\"],[0.1111111111111111,\"#46039f\"],[0.2222222222222222,\"#7201a8\"],[0.3333333333333333,\"#9c179e\"],[0.4444444444444444,\"#bd3786\"],[0.5555555555555556,\"#d8576b\"],[0.6666666666666666,\"#ed7953\"],[0.7777777777777778,\"#fb9f3a\"],[0.8888888888888888,\"#fdca26\"],[1.0,\"#f0f921\"]]},\"colorway\":[\"#636efa\",\"#EF553B\",\"#00cc96\",\"#ab63fa\",\"#FFA15A\",\"#19d3f3\",\"#FF6692\",\"#B6E880\",\"#FF97FF\",\"#FECB52\"],\"font\":{\"color\":\"#2a3f5f\"},\"geo\":{\"bgcolor\":\"white\",\"lakecolor\":\"white\",\"landcolor\":\"#E5ECF6\",\"showlakes\":true,\"showland\":true,\"subunitcolor\":\"white\"},\"hoverlabel\":{\"align\":\"left\"},\"hovermode\":\"closest\",\"mapbox\":{\"style\":\"light\"},\"paper_bgcolor\":\"white\",\"plot_bgcolor\":\"#E5ECF6\",\"polar\":{\"angularaxis\":{\"gridcolor\":\"white\",\"linecolor\":\"white\",\"ticks\":\"\"},\"bgcolor\":\"#E5ECF6\",\"radialaxis\":{\"gridcolor\":\"white\",\"linecolor\":\"white\",\"ticks\":\"\"}},\"scene\":{\"xaxis\":{\"backgroundcolor\":\"#E5ECF6\",\"gridcolor\":\"white\",\"gridwidth\":2,\"linecolor\":\"white\",\"showbackground\":true,\"ticks\":\"\",\"zerolinecolor\":\"white\"},\"yaxis\":{\"backgroundcolor\":\"#E5ECF6\",\"gridcolor\":\"white\",\"gridwidth\":2,\"linecolor\":\"white\",\"showbackground\":true,\"ticks\":\"\",\"zerolinecolor\":\"white\"},\"zaxis\":{\"backgroundcolor\":\"#E5ECF6\",\"gridcolor\":\"white\",\"gridwidth\":2,\"linecolor\":\"white\",\"showbackground\":true,\"ticks\":\"\",\"zerolinecolor\":\"white\"}},\"shapedefaults\":{\"line\":{\"color\":\"#2a3f5f\"}},\"ternary\":{\"aaxis\":{\"gridcolor\":\"white\",\"linecolor\":\"white\",\"ticks\":\"\"},\"baxis\":{\"gridcolor\":\"white\",\"linecolor\":\"white\",\"ticks\":\"\"},\"bgcolor\":\"#E5ECF6\",\"caxis\":{\"gridcolor\":\"white\",\"linecolor\":\"white\",\"ticks\":\"\"}},\"title\":{\"x\":0.05},\"xaxis\":{\"automargin\":true,\"gridcolor\":\"white\",\"linecolor\":\"white\",\"ticks\":\"\",\"title\":{\"standoff\":15},\"zerolinecolor\":\"white\",\"zerolinewidth\":2},\"yaxis\":{\"automargin\":true,\"gridcolor\":\"white\",\"linecolor\":\"white\",\"ticks\":\"\",\"title\":{\"standoff\":15},\"zerolinecolor\":\"white\",\"zerolinewidth\":2}}},\"title\":{\"text\":\"Total Active Cases as of Aug 01,2021\"},\"width\":1000,\"xaxis\":{\"anchor\":\"y\",\"domain\":[0.0,1.0],\"range\":[0,177890],\"title\":{\"text\":\"ACTIVE\"}},\"yaxis\":{\"anchor\":\"x\",\"domain\":[0.0,1.0],\"title\":{\"text\":\"STATE/UT\"}}},                        {\"responsive\": true}                    ).then(function(){\n",
       "                            \n",
       "var gd = document.getElementById('f2cf35dc-e47d-4f0d-b5b0-ffa9aa4d3c12');\n",
       "var x = new MutationObserver(function (mutations, observer) {{\n",
       "        var display = window.getComputedStyle(gd).display;\n",
       "        if (!display || display === 'none') {{\n",
       "            console.log([gd, 'removed!']);\n",
       "            Plotly.purge(gd);\n",
       "            observer.disconnect();\n",
       "        }}\n",
       "}});\n",
       "\n",
       "// Listen for the removal of the full notebook cells\n",
       "var notebookContainer = gd.closest('#notebook-container');\n",
       "if (notebookContainer) {{\n",
       "    x.observe(notebookContainer, {childList: true});\n",
       "}}\n",
       "\n",
       "// Listen for the clearing of the current output cell\n",
       "var outputEl = gd.closest('.output');\n",
       "if (outputEl) {{\n",
       "    x.observe(outputEl, {childList: true});\n",
       "}}\n",
       "\n",
       "                        })                };                });            </script>        </div>"
      ]
     },
     "metadata": {},
     "output_type": "display_data"
    }
   ],
   "source": [
    "fig = px.bar(Covid19_status_data[Covid19_status_data['STATE/UT'] != 'Total'].sort_values('ACTIVE', ascending=False).sort_values('ACTIVE', ascending=True), \n",
    "             x=\"ACTIVE\", y=\"STATE/UT\", \n",
    "             title= f'Total Active Cases as of {date}', \n",
    "             text='ACTIVE', \n",
    "             orientation='h', \n",
    "             width=1000, height=700, range_x = [0, max(Covid19_status_data[Covid19_status_data['STATE/UT'] != 'Total']['ACTIVE']) + 10000])\n",
    "fig.update_traces(marker_color='#46cdcf', opacity=0.8, textposition='inside')\n",
    "\n",
    "fig.update_layout(plot_bgcolor='rgb(250, 242, 242)')\n",
    "fig.show()"
   ]
  },
  {
   "cell_type": "markdown",
   "metadata": {},
   "source": [
    "### Confirmed vs Recovered figures"
   ]
  },
  {
   "cell_type": "code",
   "execution_count": 178,
   "metadata": {},
   "outputs": [
    {
     "data": {
      "image/png": "[encoded data removed]",
      "text/plain": [
       "<Figure size 864x576 with 1 Axes>"
      ]
     },
     "metadata": {},
     "output_type": "display_data"
    }
   ],
   "source": [
    "f, ax = plt.subplots(figsize=(12, 8))\n",
    "data = Covid19_status_data[Covid19_status_data['STATE/UT'] != 'Total']\n",
    "data = data[['STATE/UT','TOTAL_CASES','RECOVERED','DECEASED']]\n",
    "data.sort_values('TOTAL_CASES',ascending=False,inplace=True)\n",
    "sns.set_color_codes(\"pastel\")\n",
    "sns.barplot(x=\"TOTAL_CASES\", y=\"STATE/UT\", data=data,\n",
    "            label=\"Total\", color=\"r\")\n",
    "\n",
    "sns.set_color_codes(\"muted\")\n",
    "sns.barplot(x=\"RECOVERED\", y=\"STATE/UT\", data=data,\n",
    "            label=\"Recovered\", color=\"g\")\n",
    "\n",
    "\n",
    "# Add a legend and informative axis label\n",
    "ax.legend(ncol=2, loc=\"lower right\", frameon=True)\n",
    "ax.set(xlim=(0, max(Covid19_status_data[Covid19_status_data['STATE/UT'] != 'Total']['TOTAL_CASES'])), ylabel=\"STATES / UT\",\n",
    "       xlabel=\"Cases\", title = f'Confirmed vs Recovered Cases as of {date}')\n",
    "xlabels = ['{:,.0f}'.format(x) + 'K' for x in ax.get_xticks()/1000]\n",
    "ax.set_xticklabels(xlabels)\n",
    "sns.despine(left=True, bottom=True)\n"
   ]
  },
  {
   "cell_type": "markdown",
   "metadata": {},
   "source": [
    "### Total vaccinated vs Dose 2 Vaccinated"
   ]
  },
  {
   "cell_type": "code",
   "execution_count": 200,
   "metadata": {},
   "outputs": [
    {
     "data": {
      "image/png": "[encoded data removed]",
      "text/plain": [
       "<Figure size 864x576 with 1 Axes>"
      ]
     },
     "metadata": {},
     "output_type": "display_data"
    }
   ],
   "source": [
    "f, ax = plt.subplots(figsize=(12, 8))\n",
    "data = Covid19_vacination_data[Covid19_vacination_data['STATE/UT'] != 'Total']\n",
    "data = data[['STATE/UT','TOTAL_VACCINATION', 'VACCINATED_DOSE2']]\n",
    "data.sort_values('TOTAL_VACCINATION',ascending=False,inplace=True)\n",
    "sns.set_color_codes(\"pastel\")\n",
    "sns.barplot(x=\"TOTAL_VACCINATION\", y=\"STATE/UT\", data=data,\n",
    "            label=\"Total Vaccinated\", color=\"b\")\n",
    "\n",
    "sns.set_color_codes(\"muted\")\n",
    "sns.barplot(x=\"VACCINATED_DOSE2\", y=\"STATE/UT\", data=data,\n",
    "            label=\"Dose2 vaccinated\", color=\"g\")\n",
    "\n",
    "\n",
    "# Add a legend and informative axis label\n",
    "ax.legend(ncol=2, loc=\"lower right\", frameon=True)\n",
    "ax.set(xlim=(0, max(Covid19_vacination_data[Covid19_vacination_data['STATE/UT'] != 'Total']['TOTAL_VACCINATION'])), ylabel=\"STATES / UT\",\n",
    "       xlabel=\"Cases\", title = f'Total vaccinated vs Dose2 vaccinated as of {date}')\n",
    "xlabels = ['{:,.0f}'.format(x) + 'K' for x in ax.get_xticks()/1000]\n",
    "ax.set_xticklabels(xlabels)\n",
    "sns.despine(left=True, bottom=True)"
   ]
  },
  {
   "cell_type": "code",
   "execution_count": null,
   "metadata": {},
   "outputs": [],
   "source": []
  }
 ],
 "metadata": {
  "kernelspec": {
   "display_name": "Python 3",
   "language": "python",
   "name": "python3"
  },
  "language_info": {
   "codemirror_mode": {
    "name": "ipython",
    "version": 3
   },
   "file_extension": ".py",
   "mimetype": "text/x-python",
   "name": "python",
   "nbconvert_exporter": "python",
   "pygments_lexer": "ipython3",
   "version": "3.7.1"
  }
 },
 "nbformat": 4,
 "nbformat_minor": 4
}
