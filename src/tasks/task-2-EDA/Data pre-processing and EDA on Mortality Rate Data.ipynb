{
 "cells": [
  {
   "cell_type": "markdown",
   "id": "5b92b3d5",
   "metadata": {},
   "source": [
    "## Data Pre-Processing & EDA on Mortality_Rate dataset\n",
    "- The data is fetched from the following API: https://api.covid19india.org/\n",
    "- The data used is real-time and the code for extracting the csv file from covid-India api is present in task-1 folder \n",
    "- The steps performed in this file are:    \n",
    "    1. Data Cleaning and Data pre-processing on the dataset\n",
    "    2. Statistical Analysis on data (state-wise)\n",
    "    3. Summing up the daily state-wise data and plotting the graphs \n",
    "    4. Observations\n",
    "    \n",
    "    \n",
    "- Notebook by Aditi Aggrawal "
   ]
  },
  {
   "cell_type": "code",
   "execution_count": 1,
   "id": "ebf0ffe8",
   "metadata": {},
   "outputs": [],
   "source": [
    "import pandas as pd\n",
    "import numpy as np\n",
    "import matplotlib.pyplot as plt\n",
    "import seaborn as sns\n",
    "import plotly.express as px\n",
    "import datetime\n",
    "import cv2\n",
    "import plotly.io as pio\n"
   ]
  },
  {
   "cell_type": "markdown",
   "id": "d2c1ccbf",
   "metadata": {},
   "source": [
    "### Reading the data"
   ]
  },
  {
   "cell_type": "code",
   "execution_count": 2,
   "id": "e948cb77",
   "metadata": {},
   "outputs": [
    {
     "data": {
      "text/html": [
       "<div>\n",
       "<style scoped>\n",
       "    .dataframe tbody tr th:only-of-type {\n",
       "        vertical-align: middle;\n",
       "    }\n",
       "\n",
       "    .dataframe tbody tr th {\n",
       "        vertical-align: top;\n",
       "    }\n",
       "\n",
       "    .dataframe thead th {\n",
       "        text-align: right;\n",
       "    }\n",
       "</style>\n",
       "<table border=\"1\" class=\"dataframe\">\n",
       "  <thead>\n",
       "    <tr style=\"text-align: right;\">\n",
       "      <th></th>\n",
       "      <th>State</th>\n",
       "      <th>Date</th>\n",
       "      <th>Confirmed</th>\n",
       "      <th>Recovered</th>\n",
       "      <th>Deceased</th>\n",
       "      <th>Tested</th>\n",
       "    </tr>\n",
       "  </thead>\n",
       "  <tbody>\n",
       "    <tr>\n",
       "      <th>0</th>\n",
       "      <td>AN</td>\n",
       "      <td>2020-03-26</td>\n",
       "      <td>1.0</td>\n",
       "      <td>NaN</td>\n",
       "      <td>NaN</td>\n",
       "      <td>NaN</td>\n",
       "    </tr>\n",
       "    <tr>\n",
       "      <th>1</th>\n",
       "      <td>AN</td>\n",
       "      <td>2020-03-27</td>\n",
       "      <td>6.0</td>\n",
       "      <td>NaN</td>\n",
       "      <td>NaN</td>\n",
       "      <td>NaN</td>\n",
       "    </tr>\n",
       "    <tr>\n",
       "      <th>2</th>\n",
       "      <td>AN</td>\n",
       "      <td>2020-03-28</td>\n",
       "      <td>9.0</td>\n",
       "      <td>NaN</td>\n",
       "      <td>NaN</td>\n",
       "      <td>NaN</td>\n",
       "    </tr>\n",
       "    <tr>\n",
       "      <th>3</th>\n",
       "      <td>AN</td>\n",
       "      <td>2020-03-29</td>\n",
       "      <td>9.0</td>\n",
       "      <td>NaN</td>\n",
       "      <td>NaN</td>\n",
       "      <td>NaN</td>\n",
       "    </tr>\n",
       "    <tr>\n",
       "      <th>4</th>\n",
       "      <td>AN</td>\n",
       "      <td>2020-03-30</td>\n",
       "      <td>10.0</td>\n",
       "      <td>NaN</td>\n",
       "      <td>NaN</td>\n",
       "      <td>NaN</td>\n",
       "    </tr>\n",
       "    <tr>\n",
       "      <th>5</th>\n",
       "      <td>AN</td>\n",
       "      <td>2020-03-31</td>\n",
       "      <td>10.0</td>\n",
       "      <td>NaN</td>\n",
       "      <td>NaN</td>\n",
       "      <td>NaN</td>\n",
       "    </tr>\n",
       "    <tr>\n",
       "      <th>6</th>\n",
       "      <td>AN</td>\n",
       "      <td>2020-04-01</td>\n",
       "      <td>10.0</td>\n",
       "      <td>NaN</td>\n",
       "      <td>NaN</td>\n",
       "      <td>NaN</td>\n",
       "    </tr>\n",
       "    <tr>\n",
       "      <th>7</th>\n",
       "      <td>AN</td>\n",
       "      <td>2020-04-02</td>\n",
       "      <td>10.0</td>\n",
       "      <td>NaN</td>\n",
       "      <td>NaN</td>\n",
       "      <td>NaN</td>\n",
       "    </tr>\n",
       "    <tr>\n",
       "      <th>8</th>\n",
       "      <td>AN</td>\n",
       "      <td>2020-04-03</td>\n",
       "      <td>10.0</td>\n",
       "      <td>NaN</td>\n",
       "      <td>NaN</td>\n",
       "      <td>NaN</td>\n",
       "    </tr>\n",
       "    <tr>\n",
       "      <th>9</th>\n",
       "      <td>AN</td>\n",
       "      <td>2020-04-04</td>\n",
       "      <td>10.0</td>\n",
       "      <td>NaN</td>\n",
       "      <td>NaN</td>\n",
       "      <td>NaN</td>\n",
       "    </tr>\n",
       "  </tbody>\n",
       "</table>\n",
       "</div>"
      ],
      "text/plain": [
       "  State       Date  Confirmed  Recovered  Deceased  Tested\n",
       "0    AN 2020-03-26        1.0        NaN       NaN     NaN\n",
       "1    AN 2020-03-27        6.0        NaN       NaN     NaN\n",
       "2    AN 2020-03-28        9.0        NaN       NaN     NaN\n",
       "3    AN 2020-03-29        9.0        NaN       NaN     NaN\n",
       "4    AN 2020-03-30       10.0        NaN       NaN     NaN\n",
       "5    AN 2020-03-31       10.0        NaN       NaN     NaN\n",
       "6    AN 2020-04-01       10.0        NaN       NaN     NaN\n",
       "7    AN 2020-04-02       10.0        NaN       NaN     NaN\n",
       "8    AN 2020-04-03       10.0        NaN       NaN     NaN\n",
       "9    AN 2020-04-04       10.0        NaN       NaN     NaN"
      ]
     },
     "execution_count": 2,
     "metadata": {},
     "output_type": "execute_result"
    }
   ],
   "source": [
    "df = pd.read_csv('./covid-india-data.csv', parse_dates=['Date'])\n",
    "df.head(10)"
   ]
  },
  {
   "cell_type": "markdown",
   "id": "b83ff4e0",
   "metadata": {},
   "source": [
    "### Data pre-processing"
   ]
  },
  {
   "cell_type": "code",
   "execution_count": 3,
   "id": "68392c16",
   "metadata": {},
   "outputs": [
    {
     "data": {
      "text/plain": [
       "State           0\n",
       "Date            0\n",
       "Confirmed     102\n",
       "Recovered     776\n",
       "Deceased     1818\n",
       "Tested        756\n",
       "dtype: int64"
      ]
     },
     "execution_count": 3,
     "metadata": {},
     "output_type": "execute_result"
    }
   ],
   "source": [
    "#Checking for NULL values\n",
    "df.isna().sum()"
   ]
  },
  {
   "cell_type": "code",
   "execution_count": 4,
   "id": "6dcfe2dd",
   "metadata": {},
   "outputs": [],
   "source": [
    "df.dropna(inplace=True)\n",
    "df.Confirmed = df.Confirmed.astype(int)\n",
    "df.Recovered = df.Recovered.astype(int)\n",
    "df.Deceased = df.Deceased.astype(int)\n",
    "df.Tested = df.Tested.astype(int)"
   ]
  },
  {
   "cell_type": "code",
   "execution_count": 5,
   "id": "6e141e10",
   "metadata": {},
   "outputs": [
    {
     "data": {
      "text/plain": [
       "State        0\n",
       "Date         0\n",
       "Confirmed    0\n",
       "Recovered    0\n",
       "Deceased     0\n",
       "Tested       0\n",
       "dtype: int64"
      ]
     },
     "execution_count": 5,
     "metadata": {},
     "output_type": "execute_result"
    }
   ],
   "source": [
    "df.isna().sum()"
   ]
  },
  {
   "cell_type": "code",
   "execution_count": 6,
   "id": "ef05fc05",
   "metadata": {},
   "outputs": [
    {
     "data": {
      "text/plain": [
       "37"
      ]
     },
     "execution_count": 6,
     "metadata": {},
     "output_type": "execute_result"
    }
   ],
   "source": [
    "dict_states={'TT': 'Total', 'WB': 'West Bengal', 'DL': 'Delhi', 'KL': 'Kerala', 'PB': 'Punjab', 'AP':'Andhra Pradesh', \n",
    "             'TN': 'Tamil Nadu', 'KA': 'Karnataka', 'JK': 'Jammu and Kashmir', 'UP': 'Uttar Pradesh', 'MP': 'Madhya Pradesh', \n",
    "             'MH': 'Maharashtra', 'BR': 'Bihar', 'HR': 'Haryana', 'OR': 'Orissa', 'RJ': 'Rajasthan', 'GJ': 'Gujarat', \n",
    "             'HP': 'Himachal Pradesh', 'AS': 'Assam', 'TG': 'Telangana', 'JH': 'Jharkhand', 'ML': 'Meghalaya', \n",
    "             'UT': 'Uttarakhand', 'CH': 'Chandigarh', 'CT': 'Chhattisgarh', 'LA': 'Lakshadweep', 'TR': 'Tripura', \n",
    "             'PY': 'Pondicherry', 'GA': 'Goa', 'AR': 'Arunachal Pradesh', 'DN': 'Dadra and Nagar Haveli', \n",
    "             'NL': 'Nagaland', 'SK':'Sikkim', 'AN': 'Andaman and Nicobar Islands', 'MN': 'Manipur', 'MZ': 'Mizoram', \n",
    "             'LD': 'Lakshadweep'}\n",
    "len(dict_states)"
   ]
  },
  {
   "cell_type": "code",
   "execution_count": 7,
   "id": "d2ed1915",
   "metadata": {},
   "outputs": [
    {
     "data": {
      "text/html": [
       "<div>\n",
       "<style scoped>\n",
       "    .dataframe tbody tr th:only-of-type {\n",
       "        vertical-align: middle;\n",
       "    }\n",
       "\n",
       "    .dataframe tbody tr th {\n",
       "        vertical-align: top;\n",
       "    }\n",
       "\n",
       "    .dataframe thead th {\n",
       "        text-align: right;\n",
       "    }\n",
       "</style>\n",
       "<table border=\"1\" class=\"dataframe\">\n",
       "  <thead>\n",
       "    <tr style=\"text-align: right;\">\n",
       "      <th></th>\n",
       "      <th>State</th>\n",
       "      <th>Date</th>\n",
       "      <th>Confirmed</th>\n",
       "      <th>Recovered</th>\n",
       "      <th>Deceased</th>\n",
       "      <th>Tested</th>\n",
       "    </tr>\n",
       "  </thead>\n",
       "  <tbody>\n",
       "    <tr>\n",
       "      <th>123</th>\n",
       "      <td>Andaman and Nicobar Islands</td>\n",
       "      <td>2020-07-27</td>\n",
       "      <td>338</td>\n",
       "      <td>192</td>\n",
       "      <td>1</td>\n",
       "      <td>22548</td>\n",
       "    </tr>\n",
       "    <tr>\n",
       "      <th>124</th>\n",
       "      <td>Andaman and Nicobar Islands</td>\n",
       "      <td>2020-07-28</td>\n",
       "      <td>363</td>\n",
       "      <td>196</td>\n",
       "      <td>1</td>\n",
       "      <td>22925</td>\n",
       "    </tr>\n",
       "    <tr>\n",
       "      <th>125</th>\n",
       "      <td>Andaman and Nicobar Islands</td>\n",
       "      <td>2020-07-29</td>\n",
       "      <td>428</td>\n",
       "      <td>201</td>\n",
       "      <td>2</td>\n",
       "      <td>23217</td>\n",
       "    </tr>\n",
       "    <tr>\n",
       "      <th>126</th>\n",
       "      <td>Andaman and Nicobar Islands</td>\n",
       "      <td>2020-07-30</td>\n",
       "      <td>470</td>\n",
       "      <td>201</td>\n",
       "      <td>3</td>\n",
       "      <td>23615</td>\n",
       "    </tr>\n",
       "    <tr>\n",
       "      <th>127</th>\n",
       "      <td>Andaman and Nicobar Islands</td>\n",
       "      <td>2020-07-31</td>\n",
       "      <td>548</td>\n",
       "      <td>214</td>\n",
       "      <td>5</td>\n",
       "      <td>24038</td>\n",
       "    </tr>\n",
       "    <tr>\n",
       "      <th>128</th>\n",
       "      <td>Andaman and Nicobar Islands</td>\n",
       "      <td>2020-08-01</td>\n",
       "      <td>636</td>\n",
       "      <td>226</td>\n",
       "      <td>7</td>\n",
       "      <td>24308</td>\n",
       "    </tr>\n",
       "    <tr>\n",
       "      <th>129</th>\n",
       "      <td>Andaman and Nicobar Islands</td>\n",
       "      <td>2020-08-02</td>\n",
       "      <td>734</td>\n",
       "      <td>242</td>\n",
       "      <td>8</td>\n",
       "      <td>24580</td>\n",
       "    </tr>\n",
       "    <tr>\n",
       "      <th>130</th>\n",
       "      <td>Andaman and Nicobar Islands</td>\n",
       "      <td>2020-08-03</td>\n",
       "      <td>830</td>\n",
       "      <td>263</td>\n",
       "      <td>10</td>\n",
       "      <td>25034</td>\n",
       "    </tr>\n",
       "    <tr>\n",
       "      <th>131</th>\n",
       "      <td>Andaman and Nicobar Islands</td>\n",
       "      <td>2020-08-04</td>\n",
       "      <td>928</td>\n",
       "      <td>277</td>\n",
       "      <td>12</td>\n",
       "      <td>25492</td>\n",
       "    </tr>\n",
       "    <tr>\n",
       "      <th>132</th>\n",
       "      <td>Andaman and Nicobar Islands</td>\n",
       "      <td>2020-08-05</td>\n",
       "      <td>1027</td>\n",
       "      <td>326</td>\n",
       "      <td>14</td>\n",
       "      <td>25826</td>\n",
       "    </tr>\n",
       "  </tbody>\n",
       "</table>\n",
       "</div>"
      ],
      "text/plain": [
       "                           State       Date  Confirmed  Recovered  Deceased  \\\n",
       "123  Andaman and Nicobar Islands 2020-07-27        338        192         1   \n",
       "124  Andaman and Nicobar Islands 2020-07-28        363        196         1   \n",
       "125  Andaman and Nicobar Islands 2020-07-29        428        201         2   \n",
       "126  Andaman and Nicobar Islands 2020-07-30        470        201         3   \n",
       "127  Andaman and Nicobar Islands 2020-07-31        548        214         5   \n",
       "128  Andaman and Nicobar Islands 2020-08-01        636        226         7   \n",
       "129  Andaman and Nicobar Islands 2020-08-02        734        242         8   \n",
       "130  Andaman and Nicobar Islands 2020-08-03        830        263        10   \n",
       "131  Andaman and Nicobar Islands 2020-08-04        928        277        12   \n",
       "132  Andaman and Nicobar Islands 2020-08-05       1027        326        14   \n",
       "\n",
       "     Tested  \n",
       "123   22548  \n",
       "124   22925  \n",
       "125   23217  \n",
       "126   23615  \n",
       "127   24038  \n",
       "128   24308  \n",
       "129   24580  \n",
       "130   25034  \n",
       "131   25492  \n",
       "132   25826  "
      ]
     },
     "execution_count": 7,
     "metadata": {},
     "output_type": "execute_result"
    }
   ],
   "source": [
    "df = df.replace({'State':dict_states})\n",
    "df.head(10)"
   ]
  },
  {
   "cell_type": "code",
   "execution_count": 8,
   "id": "421f4f4a",
   "metadata": {},
   "outputs": [
    {
     "data": {
      "text/plain": [
       "Lakshadweep                    566\n",
       "Total                          499\n",
       "West Bengal                    479\n",
       "Delhi                          479\n",
       "Kerala                         479\n",
       "Punjab                         478\n",
       "Tamil Nadu                     477\n",
       "Andhra Pradesh                 477\n",
       "Karnataka                      477\n",
       "Jammu and Kashmir              475\n",
       "Uttar Pradesh                  475\n",
       "Madhya Pradesh                 475\n",
       "Maharashtra                    475\n",
       "Bihar                          475\n",
       "Orissa                         474\n",
       "Haryana                        474\n",
       "Rajasthan                      473\n",
       "Gujarat                        472\n",
       "Himachal Pradesh               470\n",
       "Assam                          465\n",
       "Telangana                      461\n",
       "Jharkhand                      460\n",
       "Meghalaya                      449\n",
       "Uttarakhand                    449\n",
       "Chandigarh                     447\n",
       "Chhattisgarh                   421\n",
       "Tripura                        411\n",
       "Pondicherry                    409\n",
       "Goa                            397\n",
       "Arunachal Pradesh              395\n",
       "Dadra and Nagar Haveli         382\n",
       "Nagaland                       365\n",
       "Sikkim                         363\n",
       "Andaman and Nicobar Islands    362\n",
       "Manipur                        360\n",
       "Mizoram                        270\n",
       "Name: State, dtype: int64"
      ]
     },
     "execution_count": 8,
     "metadata": {},
     "output_type": "execute_result"
    }
   ],
   "source": [
    "df.State.value_counts() \n"
   ]
  },
  {
   "cell_type": "code",
   "execution_count": 9,
   "id": "56be3940",
   "metadata": {},
   "outputs": [
    {
     "data": {
      "text/plain": [
       "Index(['State', 'Date', 'Confirmed', 'Recovered', 'Deceased', 'Tested'], dtype='object')"
      ]
     },
     "execution_count": 9,
     "metadata": {},
     "output_type": "execute_result"
    }
   ],
   "source": [
    "df.columns"
   ]
  },
  {
   "cell_type": "markdown",
   "id": "2e464393",
   "metadata": {},
   "source": [
    "### Data Analysis"
   ]
  },
  {
   "cell_type": "code",
   "execution_count": 10,
   "id": "49460f26",
   "metadata": {},
   "outputs": [
    {
     "data": {
      "text/html": [
       "<div>\n",
       "<style scoped>\n",
       "    .dataframe tbody tr th:only-of-type {\n",
       "        vertical-align: middle;\n",
       "    }\n",
       "\n",
       "    .dataframe tbody tr th {\n",
       "        vertical-align: top;\n",
       "    }\n",
       "\n",
       "    .dataframe thead th {\n",
       "        text-align: right;\n",
       "    }\n",
       "</style>\n",
       "<table border=\"1\" class=\"dataframe\">\n",
       "  <thead>\n",
       "    <tr style=\"text-align: right;\">\n",
       "      <th></th>\n",
       "      <th>State</th>\n",
       "      <th>Date</th>\n",
       "      <th>Confirmed</th>\n",
       "      <th>Recovered</th>\n",
       "      <th>Deceased</th>\n",
       "      <th>Tested</th>\n",
       "    </tr>\n",
       "  </thead>\n",
       "  <tbody>\n",
       "    <tr>\n",
       "      <th>15925</th>\n",
       "      <td>Total</td>\n",
       "      <td>2020-03-13</td>\n",
       "      <td>91</td>\n",
       "      <td>3</td>\n",
       "      <td>1</td>\n",
       "      <td>6500</td>\n",
       "    </tr>\n",
       "    <tr>\n",
       "      <th>15926</th>\n",
       "      <td>Total</td>\n",
       "      <td>2020-03-14</td>\n",
       "      <td>102</td>\n",
       "      <td>3</td>\n",
       "      <td>1</td>\n",
       "      <td>6500</td>\n",
       "    </tr>\n",
       "    <tr>\n",
       "      <th>15927</th>\n",
       "      <td>Total</td>\n",
       "      <td>2020-03-15</td>\n",
       "      <td>112</td>\n",
       "      <td>3</td>\n",
       "      <td>1</td>\n",
       "      <td>6500</td>\n",
       "    </tr>\n",
       "    <tr>\n",
       "      <th>15928</th>\n",
       "      <td>Total</td>\n",
       "      <td>2020-03-16</td>\n",
       "      <td>126</td>\n",
       "      <td>3</td>\n",
       "      <td>1</td>\n",
       "      <td>6500</td>\n",
       "    </tr>\n",
       "    <tr>\n",
       "      <th>15929</th>\n",
       "      <td>Total</td>\n",
       "      <td>2020-03-17</td>\n",
       "      <td>146</td>\n",
       "      <td>3</td>\n",
       "      <td>1</td>\n",
       "      <td>6500</td>\n",
       "    </tr>\n",
       "    <tr>\n",
       "      <th>15930</th>\n",
       "      <td>Total</td>\n",
       "      <td>2020-03-18</td>\n",
       "      <td>171</td>\n",
       "      <td>3</td>\n",
       "      <td>1</td>\n",
       "      <td>13125</td>\n",
       "    </tr>\n",
       "    <tr>\n",
       "      <th>15931</th>\n",
       "      <td>Total</td>\n",
       "      <td>2020-03-19</td>\n",
       "      <td>198</td>\n",
       "      <td>3</td>\n",
       "      <td>1</td>\n",
       "      <td>14175</td>\n",
       "    </tr>\n",
       "    <tr>\n",
       "      <th>15932</th>\n",
       "      <td>Total</td>\n",
       "      <td>2020-03-20</td>\n",
       "      <td>256</td>\n",
       "      <td>4</td>\n",
       "      <td>1</td>\n",
       "      <td>15404</td>\n",
       "    </tr>\n",
       "    <tr>\n",
       "      <th>15933</th>\n",
       "      <td>Total</td>\n",
       "      <td>2020-03-21</td>\n",
       "      <td>334</td>\n",
       "      <td>4</td>\n",
       "      <td>1</td>\n",
       "      <td>16911</td>\n",
       "    </tr>\n",
       "    <tr>\n",
       "      <th>15934</th>\n",
       "      <td>Total</td>\n",
       "      <td>2020-03-22</td>\n",
       "      <td>403</td>\n",
       "      <td>4</td>\n",
       "      <td>1</td>\n",
       "      <td>18127</td>\n",
       "    </tr>\n",
       "  </tbody>\n",
       "</table>\n",
       "</div>"
      ],
      "text/plain": [
       "       State       Date  Confirmed  Recovered  Deceased  Tested\n",
       "15925  Total 2020-03-13         91          3         1    6500\n",
       "15926  Total 2020-03-14        102          3         1    6500\n",
       "15927  Total 2020-03-15        112          3         1    6500\n",
       "15928  Total 2020-03-16        126          3         1    6500\n",
       "15929  Total 2020-03-17        146          3         1    6500\n",
       "15930  Total 2020-03-18        171          3         1   13125\n",
       "15931  Total 2020-03-19        198          3         1   14175\n",
       "15932  Total 2020-03-20        256          4         1   15404\n",
       "15933  Total 2020-03-21        334          4         1   16911\n",
       "15934  Total 2020-03-22        403          4         1   18127"
      ]
     },
     "execution_count": 10,
     "metadata": {},
     "output_type": "execute_result"
    }
   ],
   "source": [
    "df_Total = df.loc[df['State'] == 'Total']\n",
    "df_Total.head(10)"
   ]
  },
  {
   "cell_type": "code",
   "execution_count": 11,
   "id": "7b079f0e",
   "metadata": {},
   "outputs": [
    {
     "data": {
      "image/png": "[encoded data removed]",
      "text/plain": [
       "<Figure size 432x288 with 1 Axes>"
      ]
     },
     "metadata": {
      "needs_background": "light"
     },
     "output_type": "display_data"
    }
   ],
   "source": [
    "x=df_Total['Date']\n",
    "plt.plot(x, df_Total['Confirmed'], label='Confirmed')\n",
    "plt.plot(x, df_Total['Recovered'], label='Recovered')\n",
    "plt.xticks(rotation=45) \n",
    "\n",
    "plt.legend()\n",
    "\n",
    "plt.show()"
   ]
  },
  {
   "cell_type": "code",
   "execution_count": 13,
   "id": "fd19b87f",
   "metadata": {
    "scrolled": true
   },
   "outputs": [
    {
     "data": {
      "image/png": "[encoded data removed]",
      "text/plain": [
       "<Figure size 432x288 with 1 Axes>"
      ]
     },
     "metadata": {
      "needs_background": "light"
     },
     "output_type": "display_data"
    }
   ],
   "source": [
    "x=df_Total['Date']\n",
    "plt.plot(x, df_Total['Deceased'], label='Deceased')\n",
    "plt.xticks(rotation=45) \n",
    "\n",
    "plt.legend()\n",
    "\n",
    "plt.show()"
   ]
  },
  {
   "cell_type": "markdown",
   "id": "d19a8343",
   "metadata": {},
   "source": [
    "### Statistical Analysis"
   ]
  },
  {
   "cell_type": "code",
   "execution_count": 14,
   "id": "6eca2c8b",
   "metadata": {},
   "outputs": [
    {
     "data": {
      "text/html": [
       "<div>\n",
       "<style scoped>\n",
       "    .dataframe tbody tr th:only-of-type {\n",
       "        vertical-align: middle;\n",
       "    }\n",
       "\n",
       "    .dataframe tbody tr th {\n",
       "        vertical-align: top;\n",
       "    }\n",
       "\n",
       "    .dataframe thead th {\n",
       "        text-align: right;\n",
       "    }\n",
       "</style>\n",
       "<table border=\"1\" class=\"dataframe\">\n",
       "  <thead>\n",
       "    <tr style=\"text-align: right;\">\n",
       "      <th></th>\n",
       "      <th>count</th>\n",
       "      <th>mean</th>\n",
       "      <th>std</th>\n",
       "      <th>min</th>\n",
       "      <th>25%</th>\n",
       "      <th>50%</th>\n",
       "      <th>75%</th>\n",
       "      <th>max</th>\n",
       "    </tr>\n",
       "  </thead>\n",
       "  <tbody>\n",
       "    <tr>\n",
       "      <th>Confirmed</th>\n",
       "      <td>16015.0</td>\n",
       "      <td>611494.75</td>\n",
       "      <td>2447067.21</td>\n",
       "      <td>12.0</td>\n",
       "      <td>9553.5</td>\n",
       "      <td>66677.0</td>\n",
       "      <td>339108.5</td>\n",
       "      <td>31334149.0</td>\n",
       "    </tr>\n",
       "    <tr>\n",
       "      <th>Recovered</th>\n",
       "      <td>16015.0</td>\n",
       "      <td>562587.06</td>\n",
       "      <td>2284194.28</td>\n",
       "      <td>1.0</td>\n",
       "      <td>6908.0</td>\n",
       "      <td>56479.0</td>\n",
       "      <td>319761.5</td>\n",
       "      <td>30496122.0</td>\n",
       "    </tr>\n",
       "    <tr>\n",
       "      <th>Deceased</th>\n",
       "      <td>16015.0</td>\n",
       "      <td>8238.44</td>\n",
       "      <td>32202.87</td>\n",
       "      <td>1.0</td>\n",
       "      <td>91.0</td>\n",
       "      <td>912.0</td>\n",
       "      <td>4362.5</td>\n",
       "      <td>420120.0</td>\n",
       "    </tr>\n",
       "    <tr>\n",
       "      <th>Tested</th>\n",
       "      <td>16015.0</td>\n",
       "      <td>9513421.86</td>\n",
       "      <td>35179855.56</td>\n",
       "      <td>659.0</td>\n",
       "      <td>193119.0</td>\n",
       "      <td>1020869.0</td>\n",
       "      <td>7621514.0</td>\n",
       "      <td>454570811.0</td>\n",
       "    </tr>\n",
       "  </tbody>\n",
       "</table>\n",
       "</div>"
      ],
      "text/plain": [
       "             count        mean          std    min       25%        50%  \\\n",
       "Confirmed  16015.0   611494.75   2447067.21   12.0    9553.5    66677.0   \n",
       "Recovered  16015.0   562587.06   2284194.28    1.0    6908.0    56479.0   \n",
       "Deceased   16015.0     8238.44     32202.87    1.0      91.0      912.0   \n",
       "Tested     16015.0  9513421.86  35179855.56  659.0  193119.0  1020869.0   \n",
       "\n",
       "                 75%          max  \n",
       "Confirmed   339108.5   31334149.0  \n",
       "Recovered   319761.5   30496122.0  \n",
       "Deceased      4362.5     420120.0  \n",
       "Tested     7621514.0  454570811.0  "
      ]
     },
     "execution_count": 14,
     "metadata": {},
     "output_type": "execute_result"
    }
   ],
   "source": [
    " df_stats = df[['Confirmed', 'Recovered', 'Deceased', 'Tested']]\n",
    "\n",
    "round(df_stats.describe().T, 2)"
   ]
  },
  {
   "cell_type": "code",
   "execution_count": 15,
   "id": "aee55a64",
   "metadata": {},
   "outputs": [
    {
     "data": {
      "text/html": [
       "<div>\n",
       "<style scoped>\n",
       "    .dataframe tbody tr th:only-of-type {\n",
       "        vertical-align: middle;\n",
       "    }\n",
       "\n",
       "    .dataframe tbody tr th {\n",
       "        vertical-align: top;\n",
       "    }\n",
       "\n",
       "    .dataframe thead th {\n",
       "        text-align: right;\n",
       "    }\n",
       "</style>\n",
       "<table border=\"1\" class=\"dataframe\">\n",
       "  <thead>\n",
       "    <tr style=\"text-align: right;\">\n",
       "      <th></th>\n",
       "      <th>State</th>\n",
       "      <th>Confirmed</th>\n",
       "      <th>Recovered</th>\n",
       "      <th>Deceased</th>\n",
       "      <th>Tested</th>\n",
       "    </tr>\n",
       "  </thead>\n",
       "  <tbody>\n",
       "    <tr>\n",
       "      <th>0</th>\n",
       "      <td>Andaman and Nicobar Islands</td>\n",
       "      <td>4959.15</td>\n",
       "      <td>4723.21</td>\n",
       "      <td>68.54</td>\n",
       "      <td>2.182138e+05</td>\n",
       "    </tr>\n",
       "    <tr>\n",
       "      <th>1</th>\n",
       "      <td>Andhra Pradesh</td>\n",
       "      <td>748396.17</td>\n",
       "      <td>703556.61</td>\n",
       "      <td>5656.43</td>\n",
       "      <td>9.483778e+06</td>\n",
       "    </tr>\n",
       "    <tr>\n",
       "      <th>2</th>\n",
       "      <td>Arunachal Pradesh</td>\n",
       "      <td>15961.53</td>\n",
       "      <td>14649.71</td>\n",
       "      <td>57.34</td>\n",
       "      <td>3.708222e+05</td>\n",
       "    </tr>\n",
       "    <tr>\n",
       "      <th>3</th>\n",
       "      <td>Assam</td>\n",
       "      <td>192779.92</td>\n",
       "      <td>178071.88</td>\n",
       "      <td>1168.54</td>\n",
       "      <td>5.411253e+06</td>\n",
       "    </tr>\n",
       "    <tr>\n",
       "      <th>4</th>\n",
       "      <td>Bihar</td>\n",
       "      <td>254135.42</td>\n",
       "      <td>239467.44</td>\n",
       "      <td>1980.66</td>\n",
       "      <td>1.414074e+07</td>\n",
       "    </tr>\n",
       "    <tr>\n",
       "      <th>5</th>\n",
       "      <td>Chandigarh</td>\n",
       "      <td>21795.60</td>\n",
       "      <td>20172.31</td>\n",
       "      <td>297.70</td>\n",
       "      <td>2.030975e+05</td>\n",
       "    </tr>\n",
       "    <tr>\n",
       "      <th>6</th>\n",
       "      <td>Chhattisgarh</td>\n",
       "      <td>346163.05</td>\n",
       "      <td>317922.20</td>\n",
       "      <td>4324.12</td>\n",
       "      <td>3.933914e+06</td>\n",
       "    </tr>\n",
       "    <tr>\n",
       "      <th>7</th>\n",
       "      <td>Dadra and Nagar Haveli</td>\n",
       "      <td>4623.57</td>\n",
       "      <td>4340.64</td>\n",
       "      <td>2.50</td>\n",
       "      <td>6.711193e+04</td>\n",
       "    </tr>\n",
       "    <tr>\n",
       "      <th>8</th>\n",
       "      <td>Delhi</td>\n",
       "      <td>545688.66</td>\n",
       "      <td>517808.59</td>\n",
       "      <td>9378.54</td>\n",
       "      <td>8.106347e+06</td>\n",
       "    </tr>\n",
       "    <tr>\n",
       "      <th>9</th>\n",
       "      <td>Goa</td>\n",
       "      <td>63344.13</td>\n",
       "      <td>57980.25</td>\n",
       "      <td>985.21</td>\n",
       "      <td>4.476908e+05</td>\n",
       "    </tr>\n",
       "    <tr>\n",
       "      <th>10</th>\n",
       "      <td>Gujarat</td>\n",
       "      <td>272436.08</td>\n",
       "      <td>249690.59</td>\n",
       "      <td>4318.41</td>\n",
       "      <td>8.863734e+06</td>\n",
       "    </tr>\n",
       "    <tr>\n",
       "      <th>11</th>\n",
       "      <td>Haryana</td>\n",
       "      <td>254195.38</td>\n",
       "      <td>238204.83</td>\n",
       "      <td>2804.50</td>\n",
       "      <td>3.924716e+06</td>\n",
       "    </tr>\n",
       "    <tr>\n",
       "      <th>12</th>\n",
       "      <td>Himachal Pradesh</td>\n",
       "      <td>56430.03</td>\n",
       "      <td>51205.60</td>\n",
       "      <td>910.24</td>\n",
       "      <td>7.996692e+05</td>\n",
       "    </tr>\n",
       "    <tr>\n",
       "      <th>13</th>\n",
       "      <td>Jammu and Kashmir</td>\n",
       "      <td>110163.03</td>\n",
       "      <td>100230.02</td>\n",
       "      <td>1601.72</td>\n",
       "      <td>3.679515e+06</td>\n",
       "    </tr>\n",
       "    <tr>\n",
       "      <th>14</th>\n",
       "      <td>Jharkhand</td>\n",
       "      <td>121463.27</td>\n",
       "      <td>112801.40</td>\n",
       "      <td>1426.95</td>\n",
       "      <td>4.016233e+06</td>\n",
       "    </tr>\n",
       "    <tr>\n",
       "      <th>15</th>\n",
       "      <td>Karnataka</td>\n",
       "      <td>915169.56</td>\n",
       "      <td>824776.94</td>\n",
       "      <td>11385.94</td>\n",
       "      <td>1.273467e+07</td>\n",
       "    </tr>\n",
       "    <tr>\n",
       "      <th>16</th>\n",
       "      <td>Kerala</td>\n",
       "      <td>829549.32</td>\n",
       "      <td>755457.07</td>\n",
       "      <td>3305.59</td>\n",
       "      <td>7.880530e+06</td>\n",
       "    </tr>\n",
       "    <tr>\n",
       "      <th>17</th>\n",
       "      <td>Lakshadweep</td>\n",
       "      <td>7795.73</td>\n",
       "      <td>7120.05</td>\n",
       "      <td>79.67</td>\n",
       "      <td>1.154726e+05</td>\n",
       "    </tr>\n",
       "    <tr>\n",
       "      <th>18</th>\n",
       "      <td>Madhya Pradesh</td>\n",
       "      <td>257187.33</td>\n",
       "      <td>238827.40</td>\n",
       "      <td>3366.30</td>\n",
       "      <td>4.288045e+06</td>\n",
       "    </tr>\n",
       "    <tr>\n",
       "      <th>19</th>\n",
       "      <td>Maharashtra</td>\n",
       "      <td>2134991.65</td>\n",
       "      <td>1926354.48</td>\n",
       "      <td>45212.45</td>\n",
       "      <td>1.368021e+07</td>\n",
       "    </tr>\n",
       "    <tr>\n",
       "      <th>20</th>\n",
       "      <td>Manipur</td>\n",
       "      <td>29904.65</td>\n",
       "      <td>26689.73</td>\n",
       "      <td>402.24</td>\n",
       "      <td>4.941730e+05</td>\n",
       "    </tr>\n",
       "    <tr>\n",
       "      <th>21</th>\n",
       "      <td>Meghalaya</td>\n",
       "      <td>13745.35</td>\n",
       "      <td>12192.34</td>\n",
       "      <td>182.99</td>\n",
       "      <td>2.764000e+05</td>\n",
       "    </tr>\n",
       "    <tr>\n",
       "      <th>22</th>\n",
       "      <td>Mizoram</td>\n",
       "      <td>7902.05</td>\n",
       "      <td>6690.96</td>\n",
       "      <td>26.40</td>\n",
       "      <td>2.740794e+05</td>\n",
       "    </tr>\n",
       "    <tr>\n",
       "      <th>23</th>\n",
       "      <td>Nagaland</td>\n",
       "      <td>12364.96</td>\n",
       "      <td>10840.81</td>\n",
       "      <td>131.32</td>\n",
       "      <td>1.273112e+05</td>\n",
       "    </tr>\n",
       "    <tr>\n",
       "      <th>24</th>\n",
       "      <td>Orissa</td>\n",
       "      <td>302708.73</td>\n",
       "      <td>284025.86</td>\n",
       "      <td>1493.57</td>\n",
       "      <td>5.677332e+06</td>\n",
       "    </tr>\n",
       "    <tr>\n",
       "      <th>25</th>\n",
       "      <td>Pondicherry</td>\n",
       "      <td>44026.74</td>\n",
       "      <td>40267.16</td>\n",
       "      <td>688.48</td>\n",
       "      <td>5.208505e+05</td>\n",
       "    </tr>\n",
       "    <tr>\n",
       "      <th>26</th>\n",
       "      <td>Punjab</td>\n",
       "      <td>186566.61</td>\n",
       "      <td>169409.98</td>\n",
       "      <td>5214.00</td>\n",
       "      <td>3.781084e+06</td>\n",
       "    </tr>\n",
       "    <tr>\n",
       "      <th>27</th>\n",
       "      <td>Rajasthan</td>\n",
       "      <td>306988.35</td>\n",
       "      <td>281956.90</td>\n",
       "      <td>2773.91</td>\n",
       "      <td>4.835374e+06</td>\n",
       "    </tr>\n",
       "    <tr>\n",
       "      <th>28</th>\n",
       "      <td>Sikkim</td>\n",
       "      <td>7431.21</td>\n",
       "      <td>6296.05</td>\n",
       "      <td>129.38</td>\n",
       "      <td>8.048121e+04</td>\n",
       "    </tr>\n",
       "    <tr>\n",
       "      <th>29</th>\n",
       "      <td>Tamil Nadu</td>\n",
       "      <td>808806.88</td>\n",
       "      <td>752542.35</td>\n",
       "      <td>11116.32</td>\n",
       "      <td>1.264777e+07</td>\n",
       "    </tr>\n",
       "    <tr>\n",
       "      <th>30</th>\n",
       "      <td>Telangana</td>\n",
       "      <td>257060.58</td>\n",
       "      <td>239485.80</td>\n",
       "      <td>1473.54</td>\n",
       "      <td>6.632188e+06</td>\n",
       "    </tr>\n",
       "    <tr>\n",
       "      <th>31</th>\n",
       "      <td>Total</td>\n",
       "      <td>9843576.65</td>\n",
       "      <td>9057463.95</td>\n",
       "      <td>132616.47</td>\n",
       "      <td>1.472231e+08</td>\n",
       "    </tr>\n",
       "    <tr>\n",
       "      <th>32</th>\n",
       "      <td>Tripura</td>\n",
       "      <td>30726.16</td>\n",
       "      <td>28266.63</td>\n",
       "      <td>330.45</td>\n",
       "      <td>5.702913e+05</td>\n",
       "    </tr>\n",
       "    <tr>\n",
       "      <th>33</th>\n",
       "      <td>Uttar Pradesh</td>\n",
       "      <td>593435.25</td>\n",
       "      <td>549793.47</td>\n",
       "      <td>7860.88</td>\n",
       "      <td>2.148492e+07</td>\n",
       "    </tr>\n",
       "    <tr>\n",
       "      <th>34</th>\n",
       "      <td>Uttarakhand</td>\n",
       "      <td>104631.08</td>\n",
       "      <td>92691.43</td>\n",
       "      <td>1900.84</td>\n",
       "      <td>1.927108e+06</td>\n",
       "    </tr>\n",
       "    <tr>\n",
       "      <th>35</th>\n",
       "      <td>West Bengal</td>\n",
       "      <td>491826.95</td>\n",
       "      <td>460370.10</td>\n",
       "      <td>7349.24</td>\n",
       "      <td>5.777233e+06</td>\n",
       "    </tr>\n",
       "  </tbody>\n",
       "</table>\n",
       "</div>"
      ],
      "text/plain": [
       "                          State   Confirmed   Recovered   Deceased  \\\n",
       "0   Andaman and Nicobar Islands     4959.15     4723.21      68.54   \n",
       "1                Andhra Pradesh   748396.17   703556.61    5656.43   \n",
       "2             Arunachal Pradesh    15961.53    14649.71      57.34   \n",
       "3                         Assam   192779.92   178071.88    1168.54   \n",
       "4                         Bihar   254135.42   239467.44    1980.66   \n",
       "5                    Chandigarh    21795.60    20172.31     297.70   \n",
       "6                  Chhattisgarh   346163.05   317922.20    4324.12   \n",
       "7        Dadra and Nagar Haveli     4623.57     4340.64       2.50   \n",
       "8                         Delhi   545688.66   517808.59    9378.54   \n",
       "9                           Goa    63344.13    57980.25     985.21   \n",
       "10                      Gujarat   272436.08   249690.59    4318.41   \n",
       "11                      Haryana   254195.38   238204.83    2804.50   \n",
       "12             Himachal Pradesh    56430.03    51205.60     910.24   \n",
       "13            Jammu and Kashmir   110163.03   100230.02    1601.72   \n",
       "14                    Jharkhand   121463.27   112801.40    1426.95   \n",
       "15                    Karnataka   915169.56   824776.94   11385.94   \n",
       "16                       Kerala   829549.32   755457.07    3305.59   \n",
       "17                  Lakshadweep     7795.73     7120.05      79.67   \n",
       "18               Madhya Pradesh   257187.33   238827.40    3366.30   \n",
       "19                  Maharashtra  2134991.65  1926354.48   45212.45   \n",
       "20                      Manipur    29904.65    26689.73     402.24   \n",
       "21                    Meghalaya    13745.35    12192.34     182.99   \n",
       "22                      Mizoram     7902.05     6690.96      26.40   \n",
       "23                     Nagaland    12364.96    10840.81     131.32   \n",
       "24                       Orissa   302708.73   284025.86    1493.57   \n",
       "25                  Pondicherry    44026.74    40267.16     688.48   \n",
       "26                       Punjab   186566.61   169409.98    5214.00   \n",
       "27                    Rajasthan   306988.35   281956.90    2773.91   \n",
       "28                       Sikkim     7431.21     6296.05     129.38   \n",
       "29                   Tamil Nadu   808806.88   752542.35   11116.32   \n",
       "30                    Telangana   257060.58   239485.80    1473.54   \n",
       "31                        Total  9843576.65  9057463.95  132616.47   \n",
       "32                      Tripura    30726.16    28266.63     330.45   \n",
       "33                Uttar Pradesh   593435.25   549793.47    7860.88   \n",
       "34                  Uttarakhand   104631.08    92691.43    1900.84   \n",
       "35                  West Bengal   491826.95   460370.10    7349.24   \n",
       "\n",
       "          Tested  \n",
       "0   2.182138e+05  \n",
       "1   9.483778e+06  \n",
       "2   3.708222e+05  \n",
       "3   5.411253e+06  \n",
       "4   1.414074e+07  \n",
       "5   2.030975e+05  \n",
       "6   3.933914e+06  \n",
       "7   6.711193e+04  \n",
       "8   8.106347e+06  \n",
       "9   4.476908e+05  \n",
       "10  8.863734e+06  \n",
       "11  3.924716e+06  \n",
       "12  7.996692e+05  \n",
       "13  3.679515e+06  \n",
       "14  4.016233e+06  \n",
       "15  1.273467e+07  \n",
       "16  7.880530e+06  \n",
       "17  1.154726e+05  \n",
       "18  4.288045e+06  \n",
       "19  1.368021e+07  \n",
       "20  4.941730e+05  \n",
       "21  2.764000e+05  \n",
       "22  2.740794e+05  \n",
       "23  1.273112e+05  \n",
       "24  5.677332e+06  \n",
       "25  5.208505e+05  \n",
       "26  3.781084e+06  \n",
       "27  4.835374e+06  \n",
       "28  8.048121e+04  \n",
       "29  1.264777e+07  \n",
       "30  6.632188e+06  \n",
       "31  1.472231e+08  \n",
       "32  5.702913e+05  \n",
       "33  2.148492e+07  \n",
       "34  1.927108e+06  \n",
       "35  5.777233e+06  "
      ]
     },
     "execution_count": 15,
     "metadata": {},
     "output_type": "execute_result"
    }
   ],
   "source": [
    "region_stats = df.groupby(['State'])[['Confirmed', 'Recovered', 'Deceased', 'Tested']].mean().reset_index()\n",
    "region_stats = round(region_stats,2)\n",
    "\n",
    "region_stats"
   ]
  },
  {
   "cell_type": "code",
   "execution_count": 16,
   "id": "e6b16317",
   "metadata": {},
   "outputs": [
    {
     "data": {
      "image/png": "[encoded data removed]",
      "text/plain": [
       "<Figure size 720x432 with 2 Axes>"
      ]
     },
     "metadata": {
      "needs_background": "light"
     },
     "output_type": "display_data"
    }
   ],
   "source": [
    "heat_maps = df[['Confirmed', 'Recovered', 'Deceased', 'Tested']]\n",
    "heat_maps = heat_maps.corr()\n",
    "\n",
    "plt.figure(figsize=(10,6))\n",
    "sns.set_context('notebook',font_scale=1)\n",
    "sns.heatmap(heat_maps, annot=True);"
   ]
  },
  {
   "cell_type": "markdown",
   "id": "c823e736",
   "metadata": {},
   "source": [
    "### Plotting and Comparing Data of different states "
   ]
  },
  {
   "cell_type": "code",
   "execution_count": 26,
   "id": "d6385a30",
   "metadata": {},
   "outputs": [
    {
     "data": {
      "text/html": [
       "<div>\n",
       "<style scoped>\n",
       "    .dataframe tbody tr th:only-of-type {\n",
       "        vertical-align: middle;\n",
       "    }\n",
       "\n",
       "    .dataframe tbody tr th {\n",
       "        vertical-align: top;\n",
       "    }\n",
       "\n",
       "    .dataframe thead th {\n",
       "        text-align: right;\n",
       "    }\n",
       "</style>\n",
       "<table border=\"1\" class=\"dataframe\">\n",
       "  <thead>\n",
       "    <tr style=\"text-align: right;\">\n",
       "      <th></th>\n",
       "      <th>State</th>\n",
       "      <th>Total Confirmed</th>\n",
       "      <th>Total Recovered</th>\n",
       "      <th>Total Deceased</th>\n",
       "      <th>Total Tested</th>\n",
       "    </tr>\n",
       "  </thead>\n",
       "  <tbody>\n",
       "    <tr>\n",
       "      <th>0</th>\n",
       "      <td>Andaman and Nicobar Islands</td>\n",
       "      <td>4959.154696</td>\n",
       "      <td>4723.212707</td>\n",
       "      <td>68.544199</td>\n",
       "      <td>2.182138e+05</td>\n",
       "    </tr>\n",
       "    <tr>\n",
       "      <th>1</th>\n",
       "      <td>Andhra Pradesh</td>\n",
       "      <td>748396.167715</td>\n",
       "      <td>703556.614256</td>\n",
       "      <td>5656.425577</td>\n",
       "      <td>9.483778e+06</td>\n",
       "    </tr>\n",
       "  </tbody>\n",
       "</table>\n",
       "</div>"
      ],
      "text/plain": [
       "                         State  Total Confirmed  Total Recovered  \\\n",
       "0  Andaman and Nicobar Islands      4959.154696      4723.212707   \n",
       "1               Andhra Pradesh    748396.167715    703556.614256   \n",
       "\n",
       "   Total Deceased  Total Tested  \n",
       "0       68.544199  2.182138e+05  \n",
       "1     5656.425577  9.483778e+06  "
      ]
     },
     "execution_count": 26,
     "metadata": {},
     "output_type": "execute_result"
    }
   ],
   "source": [
    "df_graph = df.groupby('State')['Confirmed'].mean().reset_index()  \n",
    "df_recovered = df.groupby('State')['Recovered'].mean().reset_index()\n",
    "df_deceased = df.groupby('State')['Deceased'].mean().reset_index()\n",
    "df_tested = df.groupby('State')['Tested'].mean().reset_index()\n",
    "\n",
    "df_graph['Recovered'] = df_recovered['Recovered']\n",
    "df_graph['Deceased'] = df_deceased['Deceased']\n",
    "df_graph['Tested'] = df_tested['Tested']\n",
    "df_graph.columns = ['State','Total Confirmed','Total Recovered','Total Deceased','Total Tested']\n",
    "\n",
    "idx = df_graph[df_graph['State']=='Total'].index\n",
    "df_graph.drop(idx, inplace=True)\n",
    "df_graph.head(2)"
   ]
  },
  {
   "cell_type": "code",
   "execution_count": 27,
   "id": "2cafc27a",
   "metadata": {},
   "outputs": [
    {
     "data": {
      "text/html": [
       "<div>\n",
       "<style scoped>\n",
       "    .dataframe tbody tr th:only-of-type {\n",
       "        vertical-align: middle;\n",
       "    }\n",
       "\n",
       "    .dataframe tbody tr th {\n",
       "        vertical-align: top;\n",
       "    }\n",
       "\n",
       "    .dataframe thead th {\n",
       "        text-align: right;\n",
       "    }\n",
       "</style>\n",
       "<table border=\"1\" class=\"dataframe\">\n",
       "  <thead>\n",
       "    <tr style=\"text-align: right;\">\n",
       "      <th></th>\n",
       "      <th>Total Confirmed</th>\n",
       "      <th>Total Recovered</th>\n",
       "      <th>Total Deceased</th>\n",
       "      <th>Total Tested</th>\n",
       "    </tr>\n",
       "    <tr>\n",
       "      <th>State</th>\n",
       "      <th></th>\n",
       "      <th></th>\n",
       "      <th></th>\n",
       "      <th></th>\n",
       "    </tr>\n",
       "  </thead>\n",
       "  <tbody>\n",
       "    <tr>\n",
       "      <th>Maharashtra</th>\n",
       "      <td>2.134992e+06</td>\n",
       "      <td>1.926354e+06</td>\n",
       "      <td>45212.452632</td>\n",
       "      <td>1.368021e+07</td>\n",
       "    </tr>\n",
       "    <tr>\n",
       "      <th>Karnataka</th>\n",
       "      <td>9.151696e+05</td>\n",
       "      <td>8.247769e+05</td>\n",
       "      <td>11385.941300</td>\n",
       "      <td>1.273467e+07</td>\n",
       "    </tr>\n",
       "    <tr>\n",
       "      <th>Kerala</th>\n",
       "      <td>8.295493e+05</td>\n",
       "      <td>7.554571e+05</td>\n",
       "      <td>3305.594990</td>\n",
       "      <td>7.880530e+06</td>\n",
       "    </tr>\n",
       "    <tr>\n",
       "      <th>Tamil Nadu</th>\n",
       "      <td>8.088069e+05</td>\n",
       "      <td>7.525424e+05</td>\n",
       "      <td>11116.316562</td>\n",
       "      <td>1.264777e+07</td>\n",
       "    </tr>\n",
       "    <tr>\n",
       "      <th>Andhra Pradesh</th>\n",
       "      <td>7.483962e+05</td>\n",
       "      <td>7.035566e+05</td>\n",
       "      <td>5656.425577</td>\n",
       "      <td>9.483778e+06</td>\n",
       "    </tr>\n",
       "    <tr>\n",
       "      <th>Uttar Pradesh</th>\n",
       "      <td>5.934352e+05</td>\n",
       "      <td>5.497935e+05</td>\n",
       "      <td>7860.875789</td>\n",
       "      <td>2.148492e+07</td>\n",
       "    </tr>\n",
       "    <tr>\n",
       "      <th>Delhi</th>\n",
       "      <td>5.456887e+05</td>\n",
       "      <td>5.178086e+05</td>\n",
       "      <td>9378.542797</td>\n",
       "      <td>8.106347e+06</td>\n",
       "    </tr>\n",
       "  </tbody>\n",
       "</table>\n",
       "</div>"
      ],
      "text/plain": [
       "                Total Confirmed  Total Recovered  Total Deceased  Total Tested\n",
       "State                                                                         \n",
       "Maharashtra        2.134992e+06     1.926354e+06    45212.452632  1.368021e+07\n",
       "Karnataka          9.151696e+05     8.247769e+05    11385.941300  1.273467e+07\n",
       "Kerala             8.295493e+05     7.554571e+05     3305.594990  7.880530e+06\n",
       "Tamil Nadu         8.088069e+05     7.525424e+05    11116.316562  1.264777e+07\n",
       "Andhra Pradesh     7.483962e+05     7.035566e+05     5656.425577  9.483778e+06\n",
       "Uttar Pradesh      5.934352e+05     5.497935e+05     7860.875789  2.148492e+07\n",
       "Delhi              5.456887e+05     5.178086e+05     9378.542797  8.106347e+06"
      ]
     },
     "execution_count": 27,
     "metadata": {},
     "output_type": "execute_result"
    }
   ],
   "source": [
    "data=df_graph[['State','Total Confirmed','Total Recovered','Total Deceased','Total Tested']].sort_values(by='Total Confirmed',ascending=False)\n",
    "data.set_index('State',inplace=True)\n",
    "data.head(7)"
   ]
  },
  {
   "cell_type": "code",
   "execution_count": 28,
   "id": "e918837c",
   "metadata": {},
   "outputs": [
    {
     "data": {
      "image/png": "[encoded data removed]",
      "text/plain": [
       "<Figure size 1080x2160 with 16 Axes>"
      ]
     },
     "metadata": {
      "needs_background": "light"
     },
     "output_type": "display_data"
    }
   ],
   "source": [
    "data.hist(figsize=(15,30),layout=(4,4))\n",
    "plt.show()"
   ]
  },
  {
   "cell_type": "code",
   "execution_count": 29,
   "id": "cfb2d6d7",
   "metadata": {},
   "outputs": [
    {
     "data": {
      "image/png": "[encoded data removed]",
      "text/plain": [
       "<Figure size 1224x504 with 1 Axes>"
      ]
     },
     "metadata": {
      "needs_background": "light"
     },
     "output_type": "display_data"
    }
   ],
   "source": [
    "data.plot.bar(figsize=(17,7))  \n",
    "plt.show()"
   ]
  },
  {
   "cell_type": "code",
   "execution_count": 30,
   "id": "b2b75918",
   "metadata": {},
   "outputs": [],
   "source": [
    "df_graph['percentage tested positive'] = round(df_graph['Total Confirmed']/df_graph['Total Tested'],4)*100\n",
    "df_graph['percentage died'] = round(df_graph['Total Deceased']/df_graph['Total Confirmed'],4)*100\n",
    "df_graph['percentage recovered'] = round(df_graph['Total Recovered']/df_graph['Total Confirmed'],4)*100"
   ]
  },
  {
   "cell_type": "code",
   "execution_count": 31,
   "id": "28689b92",
   "metadata": {},
   "outputs": [
    {
     "data": {
      "text/html": [
       "<div>\n",
       "<style scoped>\n",
       "    .dataframe tbody tr th:only-of-type {\n",
       "        vertical-align: middle;\n",
       "    }\n",
       "\n",
       "    .dataframe tbody tr th {\n",
       "        vertical-align: top;\n",
       "    }\n",
       "\n",
       "    .dataframe thead th {\n",
       "        text-align: right;\n",
       "    }\n",
       "</style>\n",
       "<table border=\"1\" class=\"dataframe\">\n",
       "  <thead>\n",
       "    <tr style=\"text-align: right;\">\n",
       "      <th></th>\n",
       "      <th>State</th>\n",
       "      <th>Total Confirmed</th>\n",
       "      <th>Total Recovered</th>\n",
       "      <th>Total Deceased</th>\n",
       "      <th>Total Tested</th>\n",
       "      <th>percentage tested positive</th>\n",
       "      <th>percentage died</th>\n",
       "      <th>percentage recovered</th>\n",
       "    </tr>\n",
       "  </thead>\n",
       "  <tbody>\n",
       "    <tr>\n",
       "      <th>0</th>\n",
       "      <td>Andaman and Nicobar Islands</td>\n",
       "      <td>4959.154696</td>\n",
       "      <td>4723.212707</td>\n",
       "      <td>68.544199</td>\n",
       "      <td>2.182138e+05</td>\n",
       "      <td>2.27</td>\n",
       "      <td>1.38</td>\n",
       "      <td>95.24</td>\n",
       "    </tr>\n",
       "    <tr>\n",
       "      <th>1</th>\n",
       "      <td>Andhra Pradesh</td>\n",
       "      <td>748396.167715</td>\n",
       "      <td>703556.614256</td>\n",
       "      <td>5656.425577</td>\n",
       "      <td>9.483778e+06</td>\n",
       "      <td>7.89</td>\n",
       "      <td>0.76</td>\n",
       "      <td>94.01</td>\n",
       "    </tr>\n",
       "    <tr>\n",
       "      <th>2</th>\n",
       "      <td>Arunachal Pradesh</td>\n",
       "      <td>15961.531646</td>\n",
       "      <td>14649.711392</td>\n",
       "      <td>57.341772</td>\n",
       "      <td>3.708222e+05</td>\n",
       "      <td>4.30</td>\n",
       "      <td>0.36</td>\n",
       "      <td>91.78</td>\n",
       "    </tr>\n",
       "    <tr>\n",
       "      <th>3</th>\n",
       "      <td>Assam</td>\n",
       "      <td>192779.916129</td>\n",
       "      <td>178071.881720</td>\n",
       "      <td>1168.544086</td>\n",
       "      <td>5.411253e+06</td>\n",
       "      <td>3.56</td>\n",
       "      <td>0.61</td>\n",
       "      <td>92.37</td>\n",
       "    </tr>\n",
       "    <tr>\n",
       "      <th>4</th>\n",
       "      <td>Bihar</td>\n",
       "      <td>254135.418947</td>\n",
       "      <td>239467.435789</td>\n",
       "      <td>1980.661053</td>\n",
       "      <td>1.414074e+07</td>\n",
       "      <td>1.80</td>\n",
       "      <td>0.78</td>\n",
       "      <td>94.23</td>\n",
       "    </tr>\n",
       "    <tr>\n",
       "      <th>5</th>\n",
       "      <td>Chandigarh</td>\n",
       "      <td>21795.601790</td>\n",
       "      <td>20172.306488</td>\n",
       "      <td>297.695749</td>\n",
       "      <td>2.030975e+05</td>\n",
       "      <td>10.73</td>\n",
       "      <td>1.37</td>\n",
       "      <td>92.55</td>\n",
       "    </tr>\n",
       "    <tr>\n",
       "      <th>6</th>\n",
       "      <td>Chhattisgarh</td>\n",
       "      <td>346163.054632</td>\n",
       "      <td>317922.197150</td>\n",
       "      <td>4324.123515</td>\n",
       "      <td>3.933914e+06</td>\n",
       "      <td>8.80</td>\n",
       "      <td>1.25</td>\n",
       "      <td>91.84</td>\n",
       "    </tr>\n",
       "    <tr>\n",
       "      <th>7</th>\n",
       "      <td>Dadra and Nagar Haveli</td>\n",
       "      <td>4623.570681</td>\n",
       "      <td>4340.638743</td>\n",
       "      <td>2.502618</td>\n",
       "      <td>6.711193e+04</td>\n",
       "      <td>6.89</td>\n",
       "      <td>0.05</td>\n",
       "      <td>93.88</td>\n",
       "    </tr>\n",
       "    <tr>\n",
       "      <th>8</th>\n",
       "      <td>Delhi</td>\n",
       "      <td>545688.655532</td>\n",
       "      <td>517808.594990</td>\n",
       "      <td>9378.542797</td>\n",
       "      <td>8.106347e+06</td>\n",
       "      <td>6.73</td>\n",
       "      <td>1.72</td>\n",
       "      <td>94.89</td>\n",
       "    </tr>\n",
       "    <tr>\n",
       "      <th>9</th>\n",
       "      <td>Goa</td>\n",
       "      <td>63344.128463</td>\n",
       "      <td>57980.249370</td>\n",
       "      <td>985.206549</td>\n",
       "      <td>4.476908e+05</td>\n",
       "      <td>14.15</td>\n",
       "      <td>1.56</td>\n",
       "      <td>91.53</td>\n",
       "    </tr>\n",
       "  </tbody>\n",
       "</table>\n",
       "</div>"
      ],
      "text/plain": [
       "                         State  Total Confirmed  Total Recovered  \\\n",
       "0  Andaman and Nicobar Islands      4959.154696      4723.212707   \n",
       "1               Andhra Pradesh    748396.167715    703556.614256   \n",
       "2            Arunachal Pradesh     15961.531646     14649.711392   \n",
       "3                        Assam    192779.916129    178071.881720   \n",
       "4                        Bihar    254135.418947    239467.435789   \n",
       "5                   Chandigarh     21795.601790     20172.306488   \n",
       "6                 Chhattisgarh    346163.054632    317922.197150   \n",
       "7       Dadra and Nagar Haveli      4623.570681      4340.638743   \n",
       "8                        Delhi    545688.655532    517808.594990   \n",
       "9                          Goa     63344.128463     57980.249370   \n",
       "\n",
       "   Total Deceased  Total Tested  percentage tested positive  percentage died  \\\n",
       "0       68.544199  2.182138e+05                        2.27             1.38   \n",
       "1     5656.425577  9.483778e+06                        7.89             0.76   \n",
       "2       57.341772  3.708222e+05                        4.30             0.36   \n",
       "3     1168.544086  5.411253e+06                        3.56             0.61   \n",
       "4     1980.661053  1.414074e+07                        1.80             0.78   \n",
       "5      297.695749  2.030975e+05                       10.73             1.37   \n",
       "6     4324.123515  3.933914e+06                        8.80             1.25   \n",
       "7        2.502618  6.711193e+04                        6.89             0.05   \n",
       "8     9378.542797  8.106347e+06                        6.73             1.72   \n",
       "9      985.206549  4.476908e+05                       14.15             1.56   \n",
       "\n",
       "   percentage recovered  \n",
       "0                 95.24  \n",
       "1                 94.01  \n",
       "2                 91.78  \n",
       "3                 92.37  \n",
       "4                 94.23  \n",
       "5                 92.55  \n",
       "6                 91.84  \n",
       "7                 93.88  \n",
       "8                 94.89  \n",
       "9                 91.53  "
      ]
     },
     "execution_count": 31,
     "metadata": {},
     "output_type": "execute_result"
    }
   ],
   "source": [
    "df_graph.head(10)"
   ]
  },
  {
   "cell_type": "code",
   "execution_count": 32,
   "id": "5ef34af6",
   "metadata": {},
   "outputs": [],
   "source": [
    "plot_positive = df_graph.sort_values('Total Confirmed')\n",
    "plot_deceased = df_graph.sort_values('Total Deceased')\n",
    "plot_recovered = df_graph.sort_values('Total Recovered')\n",
    "plot_positive_per = df_graph.sort_values('percentage tested positive')\n",
    "plot_died_per = df_graph.sort_values('percentage died')\n",
    "plot_recovered_per = df_graph.sort_values('percentage recovered')"
   ]
  },
  {
   "cell_type": "code",
   "execution_count": 33,
   "id": "7b85a1cc",
   "metadata": {},
   "outputs": [
    {
     "data": {
      "text/plain": [
       "Renderers configuration\n",
       "-----------------------\n",
       "    Default renderer: 'plotly_mimetype+notebook'\n",
       "    Available renderers:\n",
       "        ['plotly_mimetype', 'jupyterlab', 'nteract', 'vscode',\n",
       "         'notebook', 'notebook_connected', 'kaggle', 'azure', 'colab',\n",
       "         'cocalc', 'databricks', 'json', 'png', 'jpeg', 'jpg', 'svg',\n",
       "         'pdf', 'browser', 'firefox', 'chrome', 'chromium', 'iframe',\n",
       "         'iframe_connected', 'sphinx_gallery', 'sphinx_gallery_png']"
      ]
     },
     "execution_count": 33,
     "metadata": {},
     "output_type": "execute_result"
    }
   ],
   "source": [
    "pio.renderers\n"
   ]
  },
  {
   "cell_type": "code",
   "execution_count": 34,
   "id": "23440861",
   "metadata": {},
   "outputs": [
    {
     "name": "stdout",
     "output_type": "stream",
     "text": [
      "Note: you may need to restart the kernel to use updated packages.\n"
     ]
    },
    {
     "name": "stderr",
     "output_type": "stream",
     "text": [
      "\n",
      "Usage:   \n",
      "  c:\\aditi_softwares\\python\\python.exe -m pip install [options] <requirement specifier> [package-index-options] ...\n",
      "  c:\\aditi_softwares\\python\\python.exe -m pip install [options] -r <requirements file> [package-index-options] ...\n",
      "  c:\\aditi_softwares\\python\\python.exe -m pip install [options] [-e] <vcs project url> ...\n",
      "  c:\\aditi_softwares\\python\\python.exe -m pip install [options] [-e] <local project path> ...\n",
      "  c:\\aditi_softwares\\python\\python.exe -m pip install [options] <archive url/path> ...\n",
      "\n",
      "no such option: -o\n"
     ]
    }
   ],
   "source": [
    "pip install -c plotly plotly -orca\n"
   ]
  },
  {
   "cell_type": "code",
   "execution_count": 55,
   "id": "82db2d49",
   "metadata": {
    "scrolled": false
   },
   "outputs": [
    {
     "data": {
      "application/vnd.plotly.v1+json": {
       "config": {
        "plotlyServerURL": "https://plot.ly"
       },
       "data": [
        {
         "alignmentgroup": "True",
         "hovertemplate": "State=%{x}<br>Total Confirmed=%{marker.color}<extra></extra>",
         "legendgroup": "",
         "marker": {
          "color": [
           4623.570680628272,
           4959.154696132597,
           7431.214876033057,
           7795.729681978799,
           7902.048148148148,
           12364.956164383562,
           13745.351893095769,
           15961.531645569621,
           21795.601789709173,
           29904.652777777777,
           30726.160583941604,
           44026.74083129584,
           56430.02553191489,
           63344.128463476074,
           104631.08240534521,
           110163.02526315789,
           121463.26521739131,
           186566.61297071129,
           192779.91612903227,
           254135.41894736842,
           254195.38396624473,
           257060.5770065076,
           257187.32631578948,
           272436.07627118647,
           302708.7278481013,
           306988.3488372093,
           346163.05463182897,
           491826.9519832985,
           545688.655532359,
           593435.2463157895,
           748396.1677148847,
           808806.8825995807,
           829549.3152400835,
           915169.5597484277,
           2134991.6463157893
          ],
          "coloraxis": "coloraxis",
          "pattern": {
           "shape": ""
          }
         },
         "name": "",
         "offsetgroup": "",
         "orientation": "v",
         "showlegend": false,
         "textposition": "auto",
         "type": "bar",
         "x": [
          "Dadra and Nagar Haveli",
          "Andaman and Nicobar Islands",
          "Sikkim",
          "Lakshadweep",
          "Mizoram",
          "Nagaland",
          "Meghalaya",
          "Arunachal Pradesh",
          "Chandigarh",
          "Manipur",
          "Tripura",
          "Pondicherry",
          "Himachal Pradesh",
          "Goa",
          "Uttarakhand",
          "Jammu and Kashmir",
          "Jharkhand",
          "Punjab",
          "Assam",
          "Bihar",
          "Haryana",
          "Telangana",
          "Madhya Pradesh",
          "Gujarat",
          "Orissa",
          "Rajasthan",
          "Chhattisgarh",
          "West Bengal",
          "Delhi",
          "Uttar Pradesh",
          "Andhra Pradesh",
          "Tamil Nadu",
          "Kerala",
          "Karnataka",
          "Maharashtra"
         ],
         "xaxis": "x",
         "y": [
          4623.570680628272,
          4959.154696132597,
          7431.214876033057,
          7795.729681978799,
          7902.048148148148,
          12364.956164383562,
          13745.351893095769,
          15961.531645569621,
          21795.601789709173,
          29904.652777777777,
          30726.160583941604,
          44026.74083129584,
          56430.02553191489,
          63344.128463476074,
          104631.08240534521,
          110163.02526315789,
          121463.26521739131,
          186566.61297071129,
          192779.91612903227,
          254135.41894736842,
          254195.38396624473,
          257060.5770065076,
          257187.32631578948,
          272436.07627118647,
          302708.7278481013,
          306988.3488372093,
          346163.05463182897,
          491826.9519832985,
          545688.655532359,
          593435.2463157895,
          748396.1677148847,
          808806.8825995807,
          829549.3152400835,
          915169.5597484277,
          2134991.6463157893
         ],
         "yaxis": "y"
        }
       ],
       "layout": {
        "barmode": "relative",
        "coloraxis": {
         "colorbar": {
          "title": {
           "text": "Total Confirmed"
          }
         },
         "colorscale": [
          [
           0,
           "#440154"
          ],
          [
           0.1111111111111111,
           "#482878"
          ],
          [
           0.2222222222222222,
           "#3e4989"
          ],
          [
           0.3333333333333333,
           "#31688e"
          ],
          [
           0.4444444444444444,
           "#26828e"
          ],
          [
           0.5555555555555556,
           "#1f9e89"
          ],
          [
           0.6666666666666666,
           "#35b779"
          ],
          [
           0.7777777777777778,
           "#6ece58"
          ],
          [
           0.8888888888888888,
           "#b5de2b"
          ],
          [
           1,
           "#fde725"
          ]
         ]
        },
        "legend": {
         "tracegroupgap": 0
        },
        "template": {
         "data": {
          "pie": [
           {
            "automargin": true,
            "type": "pie"
           }
          ]
         },
         "layout": {
          "xaxis": {
           "showgrid": false,
           "title": {
            "standoff": 15
           }
          },
          "yaxis": {
           "title": {
            "standoff": 15
           }
          }
         }
        },
        "title": {
         "text": "population tested positive in each state"
        },
        "xaxis": {
         "anchor": "y",
         "domain": [
          0,
          1
         ],
         "title": {
          "text": "State"
         }
        },
        "yaxis": {
         "anchor": "x",
         "domain": [
          0,
          1
         ],
         "title": {
          "text": "Total Confirmed"
         }
        }
       }
      },
      "text/html": [
       "<div>                            <div id=\"7bae18d4-76f8-4857-a29d-c445fd75ec8e\" class=\"plotly-graph-div\" style=\"height:525px; width:100%;\"></div>            <script type=\"text/javascript\">                require([\"plotly\"], function(Plotly) {                    window.PLOTLYENV=window.PLOTLYENV || {};                                    if (document.getElementById(\"7bae18d4-76f8-4857-a29d-c445fd75ec8e\")) {                    Plotly.newPlot(                        \"7bae18d4-76f8-4857-a29d-c445fd75ec8e\",                        [{\"alignmentgroup\":\"True\",\"hovertemplate\":\"State=%{x}<br>Total Confirmed=%{marker.color}<extra></extra>\",\"legendgroup\":\"\",\"marker\":{\"color\":[4623.570680628272,4959.154696132597,7431.214876033057,7795.729681978799,7902.048148148148,12364.956164383562,13745.351893095769,15961.531645569621,21795.601789709173,29904.652777777777,30726.160583941604,44026.74083129584,56430.02553191489,63344.128463476074,104631.08240534521,110163.02526315789,121463.26521739131,186566.61297071129,192779.91612903227,254135.41894736842,254195.38396624473,257060.5770065076,257187.32631578948,272436.07627118647,302708.7278481013,306988.3488372093,346163.05463182897,491826.9519832985,545688.655532359,593435.2463157895,748396.1677148847,808806.8825995807,829549.3152400835,915169.5597484277,2134991.6463157893],\"coloraxis\":\"coloraxis\",\"pattern\":{\"shape\":\"\"}},\"name\":\"\",\"offsetgroup\":\"\",\"orientation\":\"v\",\"showlegend\":false,\"textposition\":\"auto\",\"type\":\"bar\",\"x\":[\"Dadra and Nagar Haveli\",\"Andaman and Nicobar Islands\",\"Sikkim\",\"Lakshadweep\",\"Mizoram\",\"Nagaland\",\"Meghalaya\",\"Arunachal Pradesh\",\"Chandigarh\",\"Manipur\",\"Tripura\",\"Pondicherry\",\"Himachal Pradesh\",\"Goa\",\"Uttarakhand\",\"Jammu and Kashmir\",\"Jharkhand\",\"Punjab\",\"Assam\",\"Bihar\",\"Haryana\",\"Telangana\",\"Madhya Pradesh\",\"Gujarat\",\"Orissa\",\"Rajasthan\",\"Chhattisgarh\",\"West Bengal\",\"Delhi\",\"Uttar Pradesh\",\"Andhra Pradesh\",\"Tamil Nadu\",\"Kerala\",\"Karnataka\",\"Maharashtra\"],\"xaxis\":\"x\",\"y\":[4623.570680628272,4959.154696132597,7431.214876033057,7795.729681978799,7902.048148148148,12364.956164383562,13745.351893095769,15961.531645569621,21795.601789709173,29904.652777777777,30726.160583941604,44026.74083129584,56430.02553191489,63344.128463476074,104631.08240534521,110163.02526315789,121463.26521739131,186566.61297071129,192779.91612903227,254135.41894736842,254195.38396624473,257060.5770065076,257187.32631578948,272436.07627118647,302708.7278481013,306988.3488372093,346163.05463182897,491826.9519832985,545688.655532359,593435.2463157895,748396.1677148847,808806.8825995807,829549.3152400835,915169.5597484277,2134991.6463157893],\"yaxis\":\"y\"}],                        {\"barmode\":\"relative\",\"coloraxis\":{\"colorbar\":{\"title\":{\"text\":\"Total Confirmed\"}},\"colorscale\":[[0.0,\"#440154\"],[0.1111111111111111,\"#482878\"],[0.2222222222222222,\"#3e4989\"],[0.3333333333333333,\"#31688e\"],[0.4444444444444444,\"#26828e\"],[0.5555555555555556,\"#1f9e89\"],[0.6666666666666666,\"#35b779\"],[0.7777777777777778,\"#6ece58\"],[0.8888888888888888,\"#b5de2b\"],[1.0,\"#fde725\"]]},\"legend\":{\"tracegroupgap\":0},\"template\":{\"data\":{\"pie\":[{\"automargin\":true,\"type\":\"pie\"}]},\"layout\":{\"xaxis\":{\"showgrid\":false,\"title\":{\"standoff\":15}},\"yaxis\":{\"title\":{\"standoff\":15}}}},\"title\":{\"text\":\"population tested positive in each state\"},\"xaxis\":{\"anchor\":\"y\",\"domain\":[0.0,1.0],\"title\":{\"text\":\"State\"}},\"yaxis\":{\"anchor\":\"x\",\"domain\":[0.0,1.0],\"title\":{\"text\":\"Total Confirmed\"}}},                        {\"responsive\": true}                    ).then(function(){\n",
       "                            \n",
       "var gd = document.getElementById('7bae18d4-76f8-4857-a29d-c445fd75ec8e');\n",
       "var x = new MutationObserver(function (mutations, observer) {{\n",
       "        var display = window.getComputedStyle(gd).display;\n",
       "        if (!display || display === 'none') {{\n",
       "            console.log([gd, 'removed!']);\n",
       "            Plotly.purge(gd);\n",
       "            observer.disconnect();\n",
       "        }}\n",
       "}});\n",
       "\n",
       "// Listen for the removal of the full notebook cells\n",
       "var notebookContainer = gd.closest('#notebook-container');\n",
       "if (notebookContainer) {{\n",
       "    x.observe(notebookContainer, {childList: true});\n",
       "}}\n",
       "\n",
       "// Listen for the clearing of the current output cell\n",
       "var outputEl = gd.closest('.output');\n",
       "if (outputEl) {{\n",
       "    x.observe(outputEl, {childList: true});\n",
       "}}\n",
       "\n",
       "                        })                };                });            </script>        </div>"
      ]
     },
     "metadata": {},
     "output_type": "display_data"
    }
   ],
   "source": [
    "fig = px.bar(plot_positive, x='State',y='Total Confirmed', color='Total Confirmed',\n",
    "            title='population tested positive in each state',template='xgridoff')\n",
    "\n",
    "fig.show()  "
   ]
  },
  {
   "cell_type": "code",
   "execution_count": 58,
   "id": "aa83a643",
   "metadata": {},
   "outputs": [
    {
     "data": {
      "application/vnd.plotly.v1+json": {
       "config": {
        "plotlyServerURL": "https://plot.ly"
       },
       "data": [
        {
         "alignmentgroup": "True",
         "hovertemplate": "State=%{x}<br>Total Deceased=%{marker.color}<extra></extra>",
         "legendgroup": "",
         "marker": {
          "color": [
           2.5026178010471205,
           26.4,
           57.34177215189873,
           68.54419889502762,
           79.6678445229682,
           129.38292011019283,
           131.31506849315068,
           182.98886414253897,
           297.6957494407159,
           330.44525547445255,
           402.2388888888889,
           688.4841075794621,
           910.236170212766,
           985.2065491183879,
           1168.5440860215053,
           1426.9521739130435,
           1473.5401301518439,
           1493.5675105485232,
           1601.717894736842,
           1900.8418708240536,
           1980.661052631579,
           2773.913319238901,
           2804.5042194092825,
           3305.5949895615868,
           3366.301052631579,
           4318.406779661017,
           4324.12351543943,
           5214.004184100419,
           5656.425576519916,
           7349.235908141963,
           7860.875789473685,
           9378.542797494782,
           11116.316561844864,
           11385.941299790356,
           45212.45263157895
          ],
          "coloraxis": "coloraxis",
          "pattern": {
           "shape": ""
          }
         },
         "name": "",
         "offsetgroup": "",
         "orientation": "v",
         "showlegend": false,
         "textposition": "auto",
         "type": "bar",
         "x": [
          "Dadra and Nagar Haveli",
          "Mizoram",
          "Arunachal Pradesh",
          "Andaman and Nicobar Islands",
          "Lakshadweep",
          "Sikkim",
          "Nagaland",
          "Meghalaya",
          "Chandigarh",
          "Tripura",
          "Manipur",
          "Pondicherry",
          "Himachal Pradesh",
          "Goa",
          "Assam",
          "Jharkhand",
          "Telangana",
          "Orissa",
          "Jammu and Kashmir",
          "Uttarakhand",
          "Bihar",
          "Rajasthan",
          "Haryana",
          "Kerala",
          "Madhya Pradesh",
          "Gujarat",
          "Chhattisgarh",
          "Punjab",
          "Andhra Pradesh",
          "West Bengal",
          "Uttar Pradesh",
          "Delhi",
          "Tamil Nadu",
          "Karnataka",
          "Maharashtra"
         ],
         "xaxis": "x",
         "y": [
          2.5026178010471205,
          26.4,
          57.34177215189873,
          68.54419889502762,
          79.6678445229682,
          129.38292011019283,
          131.31506849315068,
          182.98886414253897,
          297.6957494407159,
          330.44525547445255,
          402.2388888888889,
          688.4841075794621,
          910.236170212766,
          985.2065491183879,
          1168.5440860215053,
          1426.9521739130435,
          1473.5401301518439,
          1493.5675105485232,
          1601.717894736842,
          1900.8418708240536,
          1980.661052631579,
          2773.913319238901,
          2804.5042194092825,
          3305.5949895615868,
          3366.301052631579,
          4318.406779661017,
          4324.12351543943,
          5214.004184100419,
          5656.425576519916,
          7349.235908141963,
          7860.875789473685,
          9378.542797494782,
          11116.316561844864,
          11385.941299790356,
          45212.45263157895
         ],
         "yaxis": "y"
        }
       ],
       "layout": {
        "barmode": "relative",
        "coloraxis": {
         "colorbar": {
          "title": {
           "text": "Total Deceased"
          }
         },
         "colorscale": [
          [
           0,
           "#440154"
          ],
          [
           0.1111111111111111,
           "#482878"
          ],
          [
           0.2222222222222222,
           "#3e4989"
          ],
          [
           0.3333333333333333,
           "#31688e"
          ],
          [
           0.4444444444444444,
           "#26828e"
          ],
          [
           0.5555555555555556,
           "#1f9e89"
          ],
          [
           0.6666666666666666,
           "#35b779"
          ],
          [
           0.7777777777777778,
           "#6ece58"
          ],
          [
           0.8888888888888888,
           "#b5de2b"
          ],
          [
           1,
           "#fde725"
          ]
         ]
        },
        "legend": {
         "tracegroupgap": 0
        },
        "template": {
         "data": {
          "pie": [
           {
            "automargin": true,
            "type": "pie"
           }
          ]
         },
         "layout": {
          "xaxis": {
           "showgrid": false,
           "title": {
            "standoff": 15
           }
          },
          "yaxis": {
           "title": {
            "standoff": 15
           }
          }
         }
        },
        "title": {
         "text": "population who died in each state"
        },
        "xaxis": {
         "anchor": "y",
         "domain": [
          0,
          1
         ],
         "title": {
          "text": "State"
         }
        },
        "yaxis": {
         "anchor": "x",
         "domain": [
          0,
          1
         ],
         "title": {
          "text": "Total Deceased"
         }
        }
       }
      },
      "text/html": [
       "<div>                            <div id=\"bee2a9bb-7d5e-4967-88e9-210675724832\" class=\"plotly-graph-div\" style=\"height:525px; width:100%;\"></div>            <script type=\"text/javascript\">                require([\"plotly\"], function(Plotly) {                    window.PLOTLYENV=window.PLOTLYENV || {};                                    if (document.getElementById(\"bee2a9bb-7d5e-4967-88e9-210675724832\")) {                    Plotly.newPlot(                        \"bee2a9bb-7d5e-4967-88e9-210675724832\",                        [{\"alignmentgroup\":\"True\",\"hovertemplate\":\"State=%{x}<br>Total Deceased=%{marker.color}<extra></extra>\",\"legendgroup\":\"\",\"marker\":{\"color\":[2.5026178010471205,26.4,57.34177215189873,68.54419889502762,79.6678445229682,129.38292011019283,131.31506849315068,182.98886414253897,297.6957494407159,330.44525547445255,402.2388888888889,688.4841075794621,910.236170212766,985.2065491183879,1168.5440860215053,1426.9521739130435,1473.5401301518439,1493.5675105485232,1601.717894736842,1900.8418708240536,1980.661052631579,2773.913319238901,2804.5042194092825,3305.5949895615868,3366.301052631579,4318.406779661017,4324.12351543943,5214.004184100419,5656.425576519916,7349.235908141963,7860.875789473685,9378.542797494782,11116.316561844864,11385.941299790356,45212.45263157895],\"coloraxis\":\"coloraxis\",\"pattern\":{\"shape\":\"\"}},\"name\":\"\",\"offsetgroup\":\"\",\"orientation\":\"v\",\"showlegend\":false,\"textposition\":\"auto\",\"type\":\"bar\",\"x\":[\"Dadra and Nagar Haveli\",\"Mizoram\",\"Arunachal Pradesh\",\"Andaman and Nicobar Islands\",\"Lakshadweep\",\"Sikkim\",\"Nagaland\",\"Meghalaya\",\"Chandigarh\",\"Tripura\",\"Manipur\",\"Pondicherry\",\"Himachal Pradesh\",\"Goa\",\"Assam\",\"Jharkhand\",\"Telangana\",\"Orissa\",\"Jammu and Kashmir\",\"Uttarakhand\",\"Bihar\",\"Rajasthan\",\"Haryana\",\"Kerala\",\"Madhya Pradesh\",\"Gujarat\",\"Chhattisgarh\",\"Punjab\",\"Andhra Pradesh\",\"West Bengal\",\"Uttar Pradesh\",\"Delhi\",\"Tamil Nadu\",\"Karnataka\",\"Maharashtra\"],\"xaxis\":\"x\",\"y\":[2.5026178010471205,26.4,57.34177215189873,68.54419889502762,79.6678445229682,129.38292011019283,131.31506849315068,182.98886414253897,297.6957494407159,330.44525547445255,402.2388888888889,688.4841075794621,910.236170212766,985.2065491183879,1168.5440860215053,1426.9521739130435,1473.5401301518439,1493.5675105485232,1601.717894736842,1900.8418708240536,1980.661052631579,2773.913319238901,2804.5042194092825,3305.5949895615868,3366.301052631579,4318.406779661017,4324.12351543943,5214.004184100419,5656.425576519916,7349.235908141963,7860.875789473685,9378.542797494782,11116.316561844864,11385.941299790356,45212.45263157895],\"yaxis\":\"y\"}],                        {\"barmode\":\"relative\",\"coloraxis\":{\"colorbar\":{\"title\":{\"text\":\"Total Deceased\"}},\"colorscale\":[[0.0,\"#440154\"],[0.1111111111111111,\"#482878\"],[0.2222222222222222,\"#3e4989\"],[0.3333333333333333,\"#31688e\"],[0.4444444444444444,\"#26828e\"],[0.5555555555555556,\"#1f9e89\"],[0.6666666666666666,\"#35b779\"],[0.7777777777777778,\"#6ece58\"],[0.8888888888888888,\"#b5de2b\"],[1.0,\"#fde725\"]]},\"legend\":{\"tracegroupgap\":0},\"template\":{\"data\":{\"pie\":[{\"automargin\":true,\"type\":\"pie\"}]},\"layout\":{\"xaxis\":{\"showgrid\":false,\"title\":{\"standoff\":15}},\"yaxis\":{\"title\":{\"standoff\":15}}}},\"title\":{\"text\":\"population who died in each state\"},\"xaxis\":{\"anchor\":\"y\",\"domain\":[0.0,1.0],\"title\":{\"text\":\"State\"}},\"yaxis\":{\"anchor\":\"x\",\"domain\":[0.0,1.0],\"title\":{\"text\":\"Total Deceased\"}}},                        {\"responsive\": true}                    ).then(function(){\n",
       "                            \n",
       "var gd = document.getElementById('bee2a9bb-7d5e-4967-88e9-210675724832');\n",
       "var x = new MutationObserver(function (mutations, observer) {{\n",
       "        var display = window.getComputedStyle(gd).display;\n",
       "        if (!display || display === 'none') {{\n",
       "            console.log([gd, 'removed!']);\n",
       "            Plotly.purge(gd);\n",
       "            observer.disconnect();\n",
       "        }}\n",
       "}});\n",
       "\n",
       "// Listen for the removal of the full notebook cells\n",
       "var notebookContainer = gd.closest('#notebook-container');\n",
       "if (notebookContainer) {{\n",
       "    x.observe(notebookContainer, {childList: true});\n",
       "}}\n",
       "\n",
       "// Listen for the clearing of the current output cell\n",
       "var outputEl = gd.closest('.output');\n",
       "if (outputEl) {{\n",
       "    x.observe(outputEl, {childList: true});\n",
       "}}\n",
       "\n",
       "                        })                };                });            </script>        </div>"
      ]
     },
     "metadata": {},
     "output_type": "display_data"
    }
   ],
   "source": [
    "fig = px.bar(plot_deceased, x='State',y='Total Deceased', color='Total Deceased',\n",
    "            title='population who died in each state',template='xgridoff')\n",
    "\n",
    "fig.show()  "
   ]
  },
  {
   "cell_type": "code",
   "execution_count": 57,
   "id": "0c16f2bb",
   "metadata": {},
   "outputs": [
    {
     "data": {
      "application/vnd.plotly.v1+json": {
       "config": {
        "plotlyServerURL": "https://plot.ly"
       },
       "data": [
        {
         "alignmentgroup": "True",
         "hovertemplate": "State=%{x}<br>Total Recovered=%{marker.color}<extra></extra>",
         "legendgroup": "",
         "marker": {
          "color": [
           4340.638743455497,
           4723.212707182321,
           6296.046831955923,
           6690.955555555555,
           7120.054770318021,
           10840.805479452054,
           12192.340757238308,
           14649.711392405063,
           20172.30648769575,
           26689.727777777778,
           28266.625304136254,
           40267.16381418093,
           51205.60212765957,
           57980.24937027708,
           92691.4276169265,
           100230.02315789474,
           112801.4,
           169409.98326359832,
           178071.8817204301,
           238204.83333333334,
           238827.40210526317,
           239467.43578947367,
           239485.80260303686,
           249690.5911016949,
           281956.9006342495,
           284025.8628691983,
           317922.19714964373,
           460370.10229645093,
           517808.5949895616,
           549793.4715789474,
           703556.6142557652,
           752542.3542976939,
           755457.0688935282,
           824776.9412997904,
           1926354.477894737
          ],
          "coloraxis": "coloraxis",
          "pattern": {
           "shape": ""
          }
         },
         "name": "",
         "offsetgroup": "",
         "orientation": "v",
         "showlegend": false,
         "textposition": "auto",
         "type": "bar",
         "x": [
          "Dadra and Nagar Haveli",
          "Andaman and Nicobar Islands",
          "Sikkim",
          "Mizoram",
          "Lakshadweep",
          "Nagaland",
          "Meghalaya",
          "Arunachal Pradesh",
          "Chandigarh",
          "Manipur",
          "Tripura",
          "Pondicherry",
          "Himachal Pradesh",
          "Goa",
          "Uttarakhand",
          "Jammu and Kashmir",
          "Jharkhand",
          "Punjab",
          "Assam",
          "Haryana",
          "Madhya Pradesh",
          "Bihar",
          "Telangana",
          "Gujarat",
          "Rajasthan",
          "Orissa",
          "Chhattisgarh",
          "West Bengal",
          "Delhi",
          "Uttar Pradesh",
          "Andhra Pradesh",
          "Tamil Nadu",
          "Kerala",
          "Karnataka",
          "Maharashtra"
         ],
         "xaxis": "x",
         "y": [
          4340.638743455497,
          4723.212707182321,
          6296.046831955923,
          6690.955555555555,
          7120.054770318021,
          10840.805479452054,
          12192.340757238308,
          14649.711392405063,
          20172.30648769575,
          26689.727777777778,
          28266.625304136254,
          40267.16381418093,
          51205.60212765957,
          57980.24937027708,
          92691.4276169265,
          100230.02315789474,
          112801.4,
          169409.98326359832,
          178071.8817204301,
          238204.83333333334,
          238827.40210526317,
          239467.43578947367,
          239485.80260303686,
          249690.5911016949,
          281956.9006342495,
          284025.8628691983,
          317922.19714964373,
          460370.10229645093,
          517808.5949895616,
          549793.4715789474,
          703556.6142557652,
          752542.3542976939,
          755457.0688935282,
          824776.9412997904,
          1926354.477894737
         ],
         "yaxis": "y"
        }
       ],
       "layout": {
        "barmode": "relative",
        "coloraxis": {
         "colorbar": {
          "title": {
           "text": "Total Recovered"
          }
         },
         "colorscale": [
          [
           0,
           "#440154"
          ],
          [
           0.1111111111111111,
           "#482878"
          ],
          [
           0.2222222222222222,
           "#3e4989"
          ],
          [
           0.3333333333333333,
           "#31688e"
          ],
          [
           0.4444444444444444,
           "#26828e"
          ],
          [
           0.5555555555555556,
           "#1f9e89"
          ],
          [
           0.6666666666666666,
           "#35b779"
          ],
          [
           0.7777777777777778,
           "#6ece58"
          ],
          [
           0.8888888888888888,
           "#b5de2b"
          ],
          [
           1,
           "#fde725"
          ]
         ]
        },
        "legend": {
         "tracegroupgap": 0
        },
        "template": {
         "data": {
          "pie": [
           {
            "automargin": true,
            "type": "pie"
           }
          ]
         },
         "layout": {
          "xaxis": {
           "showgrid": false,
           "title": {
            "standoff": 15
           }
          },
          "yaxis": {
           "title": {
            "standoff": 15
           }
          }
         }
        },
        "title": {
         "text": "population that successfully recovered in each state"
        },
        "xaxis": {
         "anchor": "y",
         "domain": [
          0,
          1
         ],
         "title": {
          "text": "State"
         }
        },
        "yaxis": {
         "anchor": "x",
         "domain": [
          0,
          1
         ],
         "title": {
          "text": "Total Recovered"
         }
        }
       }
      },
      "text/html": [
       "<div>                            <div id=\"a4fb32c8-3919-4bec-907c-d1e69eeb95a0\" class=\"plotly-graph-div\" style=\"height:525px; width:100%;\"></div>            <script type=\"text/javascript\">                require([\"plotly\"], function(Plotly) {                    window.PLOTLYENV=window.PLOTLYENV || {};                                    if (document.getElementById(\"a4fb32c8-3919-4bec-907c-d1e69eeb95a0\")) {                    Plotly.newPlot(                        \"a4fb32c8-3919-4bec-907c-d1e69eeb95a0\",                        [{\"alignmentgroup\":\"True\",\"hovertemplate\":\"State=%{x}<br>Total Recovered=%{marker.color}<extra></extra>\",\"legendgroup\":\"\",\"marker\":{\"color\":[4340.638743455497,4723.212707182321,6296.046831955923,6690.955555555555,7120.054770318021,10840.805479452054,12192.340757238308,14649.711392405063,20172.30648769575,26689.727777777778,28266.625304136254,40267.16381418093,51205.60212765957,57980.24937027708,92691.4276169265,100230.02315789474,112801.4,169409.98326359832,178071.8817204301,238204.83333333334,238827.40210526317,239467.43578947367,239485.80260303686,249690.5911016949,281956.9006342495,284025.8628691983,317922.19714964373,460370.10229645093,517808.5949895616,549793.4715789474,703556.6142557652,752542.3542976939,755457.0688935282,824776.9412997904,1926354.477894737],\"coloraxis\":\"coloraxis\",\"pattern\":{\"shape\":\"\"}},\"name\":\"\",\"offsetgroup\":\"\",\"orientation\":\"v\",\"showlegend\":false,\"textposition\":\"auto\",\"type\":\"bar\",\"x\":[\"Dadra and Nagar Haveli\",\"Andaman and Nicobar Islands\",\"Sikkim\",\"Mizoram\",\"Lakshadweep\",\"Nagaland\",\"Meghalaya\",\"Arunachal Pradesh\",\"Chandigarh\",\"Manipur\",\"Tripura\",\"Pondicherry\",\"Himachal Pradesh\",\"Goa\",\"Uttarakhand\",\"Jammu and Kashmir\",\"Jharkhand\",\"Punjab\",\"Assam\",\"Haryana\",\"Madhya Pradesh\",\"Bihar\",\"Telangana\",\"Gujarat\",\"Rajasthan\",\"Orissa\",\"Chhattisgarh\",\"West Bengal\",\"Delhi\",\"Uttar Pradesh\",\"Andhra Pradesh\",\"Tamil Nadu\",\"Kerala\",\"Karnataka\",\"Maharashtra\"],\"xaxis\":\"x\",\"y\":[4340.638743455497,4723.212707182321,6296.046831955923,6690.955555555555,7120.054770318021,10840.805479452054,12192.340757238308,14649.711392405063,20172.30648769575,26689.727777777778,28266.625304136254,40267.16381418093,51205.60212765957,57980.24937027708,92691.4276169265,100230.02315789474,112801.4,169409.98326359832,178071.8817204301,238204.83333333334,238827.40210526317,239467.43578947367,239485.80260303686,249690.5911016949,281956.9006342495,284025.8628691983,317922.19714964373,460370.10229645093,517808.5949895616,549793.4715789474,703556.6142557652,752542.3542976939,755457.0688935282,824776.9412997904,1926354.477894737],\"yaxis\":\"y\"}],                        {\"barmode\":\"relative\",\"coloraxis\":{\"colorbar\":{\"title\":{\"text\":\"Total Recovered\"}},\"colorscale\":[[0.0,\"#440154\"],[0.1111111111111111,\"#482878\"],[0.2222222222222222,\"#3e4989\"],[0.3333333333333333,\"#31688e\"],[0.4444444444444444,\"#26828e\"],[0.5555555555555556,\"#1f9e89\"],[0.6666666666666666,\"#35b779\"],[0.7777777777777778,\"#6ece58\"],[0.8888888888888888,\"#b5de2b\"],[1.0,\"#fde725\"]]},\"legend\":{\"tracegroupgap\":0},\"template\":{\"data\":{\"pie\":[{\"automargin\":true,\"type\":\"pie\"}]},\"layout\":{\"xaxis\":{\"showgrid\":false,\"title\":{\"standoff\":15}},\"yaxis\":{\"title\":{\"standoff\":15}}}},\"title\":{\"text\":\"population that successfully recovered in each state\"},\"xaxis\":{\"anchor\":\"y\",\"domain\":[0.0,1.0],\"title\":{\"text\":\"State\"}},\"yaxis\":{\"anchor\":\"x\",\"domain\":[0.0,1.0],\"title\":{\"text\":\"Total Recovered\"}}},                        {\"responsive\": true}                    ).then(function(){\n",
       "                            \n",
       "var gd = document.getElementById('a4fb32c8-3919-4bec-907c-d1e69eeb95a0');\n",
       "var x = new MutationObserver(function (mutations, observer) {{\n",
       "        var display = window.getComputedStyle(gd).display;\n",
       "        if (!display || display === 'none') {{\n",
       "            console.log([gd, 'removed!']);\n",
       "            Plotly.purge(gd);\n",
       "            observer.disconnect();\n",
       "        }}\n",
       "}});\n",
       "\n",
       "// Listen for the removal of the full notebook cells\n",
       "var notebookContainer = gd.closest('#notebook-container');\n",
       "if (notebookContainer) {{\n",
       "    x.observe(notebookContainer, {childList: true});\n",
       "}}\n",
       "\n",
       "// Listen for the clearing of the current output cell\n",
       "var outputEl = gd.closest('.output');\n",
       "if (outputEl) {{\n",
       "    x.observe(outputEl, {childList: true});\n",
       "}}\n",
       "\n",
       "                        })                };                });            </script>        </div>"
      ]
     },
     "metadata": {},
     "output_type": "display_data"
    }
   ],
   "source": [
    "fig = px.bar(plot_recovered, x='State',y='Total Recovered', color='Total Recovered',\n",
    "            title='population that successfully recovered in each state',template='xgridoff')\n",
    "\n",
    "fig.show()  "
   ]
  },
  {
   "cell_type": "code",
   "execution_count": 39,
   "id": "288d6fa0",
   "metadata": {},
   "outputs": [
    {
     "data": {
      "application/vnd.plotly.v1+json": {
       "config": {
        "plotlyServerURL": "https://plot.ly"
       },
       "data": [
        {
         "alignmentgroup": "True",
         "hovertemplate": "State=%{x}<br>percentage tested positive=%{marker.color}<extra></extra>",
         "legendgroup": "",
         "marker": {
          "color": [
           1.7999999999999998,
           2.27,
           2.76,
           2.88,
           2.9899999999999998,
           3.02,
           3.0700000000000003,
           3.56,
           3.88,
           4.3,
           4.93,
           4.97,
           5.33,
           5.390000000000001,
           5.43,
           6,
           6.05,
           6.35,
           6.39,
           6.4799999999999995,
           6.7299999999999995,
           6.75,
           6.890000000000001,
           7.06,
           7.19,
           7.89,
           8.450000000000001,
           8.51,
           8.799999999999999,
           9.229999999999999,
           9.71,
           10.530000000000001,
           10.73,
           14.149999999999999,
           15.61
          ],
          "coloraxis": "coloraxis",
          "pattern": {
           "shape": ""
          }
         },
         "name": "",
         "offsetgroup": "",
         "orientation": "v",
         "showlegend": false,
         "textposition": "auto",
         "type": "bar",
         "x": [
          "Bihar",
          "Andaman and Nicobar Islands",
          "Uttar Pradesh",
          "Mizoram",
          "Jammu and Kashmir",
          "Jharkhand",
          "Gujarat",
          "Assam",
          "Telangana",
          "Arunachal Pradesh",
          "Punjab",
          "Meghalaya",
          "Orissa",
          "Tripura",
          "Uttarakhand",
          "Madhya Pradesh",
          "Manipur",
          "Rajasthan",
          "Tamil Nadu",
          "Haryana",
          "Delhi",
          "Lakshadweep",
          "Dadra and Nagar Haveli",
          "Himachal Pradesh",
          "Karnataka",
          "Andhra Pradesh",
          "Pondicherry",
          "West Bengal",
          "Chhattisgarh",
          "Sikkim",
          "Nagaland",
          "Kerala",
          "Chandigarh",
          "Goa",
          "Maharashtra"
         ],
         "xaxis": "x",
         "y": [
          1.7999999999999998,
          2.27,
          2.76,
          2.88,
          2.9899999999999998,
          3.02,
          3.0700000000000003,
          3.56,
          3.88,
          4.3,
          4.93,
          4.97,
          5.33,
          5.390000000000001,
          5.43,
          6,
          6.05,
          6.35,
          6.39,
          6.4799999999999995,
          6.7299999999999995,
          6.75,
          6.890000000000001,
          7.06,
          7.19,
          7.89,
          8.450000000000001,
          8.51,
          8.799999999999999,
          9.229999999999999,
          9.71,
          10.530000000000001,
          10.73,
          14.149999999999999,
          15.61
         ],
         "yaxis": "y"
        }
       ],
       "layout": {
        "barmode": "relative",
        "coloraxis": {
         "colorbar": {
          "title": {
           "text": "percentage tested positive"
          }
         },
         "colorscale": [
          [
           0,
           "rgb(20,44,66)"
          ],
          [
           1,
           "rgb(90,179,244)"
          ]
         ]
        },
        "legend": {
         "tracegroupgap": 0
        },
        "template": {
         "data": {
          "bar": [
           {
            "error_x": {
             "color": "rgb(51,51,51)"
            },
            "error_y": {
             "color": "rgb(51,51,51)"
            },
            "marker": {
             "line": {
              "color": "rgb(237,237,237)",
              "width": 0.5
             },
             "pattern": {
              "fillmode": "overlay",
              "size": 10,
              "solidity": 0.2
             }
            },
            "type": "bar"
           }
          ],
          "barpolar": [
           {
            "marker": {
             "line": {
              "color": "rgb(237,237,237)",
              "width": 0.5
             },
             "pattern": {
              "fillmode": "overlay",
              "size": 10,
              "solidity": 0.2
             }
            },
            "type": "barpolar"
           }
          ],
          "carpet": [
           {
            "aaxis": {
             "endlinecolor": "rgb(51,51,51)",
             "gridcolor": "white",
             "linecolor": "white",
             "minorgridcolor": "white",
             "startlinecolor": "rgb(51,51,51)"
            },
            "baxis": {
             "endlinecolor": "rgb(51,51,51)",
             "gridcolor": "white",
             "linecolor": "white",
             "minorgridcolor": "white",
             "startlinecolor": "rgb(51,51,51)"
            },
            "type": "carpet"
           }
          ],
          "choropleth": [
           {
            "colorbar": {
             "outlinewidth": 0,
             "tickcolor": "rgb(237,237,237)",
             "ticklen": 6,
             "ticks": "inside"
            },
            "type": "choropleth"
           }
          ],
          "contour": [
           {
            "colorbar": {
             "outlinewidth": 0,
             "tickcolor": "rgb(237,237,237)",
             "ticklen": 6,
             "ticks": "inside"
            },
            "colorscale": [
             [
              0,
              "rgb(20,44,66)"
             ],
             [
              1,
              "rgb(90,179,244)"
             ]
            ],
            "type": "contour"
           }
          ],
          "contourcarpet": [
           {
            "colorbar": {
             "outlinewidth": 0,
             "tickcolor": "rgb(237,237,237)",
             "ticklen": 6,
             "ticks": "inside"
            },
            "type": "contourcarpet"
           }
          ],
          "heatmap": [
           {
            "colorbar": {
             "outlinewidth": 0,
             "tickcolor": "rgb(237,237,237)",
             "ticklen": 6,
             "ticks": "inside"
            },
            "colorscale": [
             [
              0,
              "rgb(20,44,66)"
             ],
             [
              1,
              "rgb(90,179,244)"
             ]
            ],
            "type": "heatmap"
           }
          ],
          "heatmapgl": [
           {
            "colorbar": {
             "outlinewidth": 0,
             "tickcolor": "rgb(237,237,237)",
             "ticklen": 6,
             "ticks": "inside"
            },
            "colorscale": [
             [
              0,
              "rgb(20,44,66)"
             ],
             [
              1,
              "rgb(90,179,244)"
             ]
            ],
            "type": "heatmapgl"
           }
          ],
          "histogram": [
           {
            "marker": {
             "pattern": {
              "fillmode": "overlay",
              "size": 10,
              "solidity": 0.2
             }
            },
            "type": "histogram"
           }
          ],
          "histogram2d": [
           {
            "colorbar": {
             "outlinewidth": 0,
             "tickcolor": "rgb(237,237,237)",
             "ticklen": 6,
             "ticks": "inside"
            },
            "colorscale": [
             [
              0,
              "rgb(20,44,66)"
             ],
             [
              1,
              "rgb(90,179,244)"
             ]
            ],
            "type": "histogram2d"
           }
          ],
          "histogram2dcontour": [
           {
            "colorbar": {
             "outlinewidth": 0,
             "tickcolor": "rgb(237,237,237)",
             "ticklen": 6,
             "ticks": "inside"
            },
            "colorscale": [
             [
              0,
              "rgb(20,44,66)"
             ],
             [
              1,
              "rgb(90,179,244)"
             ]
            ],
            "type": "histogram2dcontour"
           }
          ],
          "mesh3d": [
           {
            "colorbar": {
             "outlinewidth": 0,
             "tickcolor": "rgb(237,237,237)",
             "ticklen": 6,
             "ticks": "inside"
            },
            "type": "mesh3d"
           }
          ],
          "parcoords": [
           {
            "line": {
             "colorbar": {
              "outlinewidth": 0,
              "tickcolor": "rgb(237,237,237)",
              "ticklen": 6,
              "ticks": "inside"
             }
            },
            "type": "parcoords"
           }
          ],
          "pie": [
           {
            "automargin": true,
            "type": "pie"
           }
          ],
          "scatter": [
           {
            "marker": {
             "colorbar": {
              "outlinewidth": 0,
              "tickcolor": "rgb(237,237,237)",
              "ticklen": 6,
              "ticks": "inside"
             }
            },
            "type": "scatter"
           }
          ],
          "scatter3d": [
           {
            "line": {
             "colorbar": {
              "outlinewidth": 0,
              "tickcolor": "rgb(237,237,237)",
              "ticklen": 6,
              "ticks": "inside"
             }
            },
            "marker": {
             "colorbar": {
              "outlinewidth": 0,
              "tickcolor": "rgb(237,237,237)",
              "ticklen": 6,
              "ticks": "inside"
             }
            },
            "type": "scatter3d"
           }
          ],
          "scattercarpet": [
           {
            "marker": {
             "colorbar": {
              "outlinewidth": 0,
              "tickcolor": "rgb(237,237,237)",
              "ticklen": 6,
              "ticks": "inside"
             }
            },
            "type": "scattercarpet"
           }
          ],
          "scattergeo": [
           {
            "marker": {
             "colorbar": {
              "outlinewidth": 0,
              "tickcolor": "rgb(237,237,237)",
              "ticklen": 6,
              "ticks": "inside"
             }
            },
            "type": "scattergeo"
           }
          ],
          "scattergl": [
           {
            "marker": {
             "colorbar": {
              "outlinewidth": 0,
              "tickcolor": "rgb(237,237,237)",
              "ticklen": 6,
              "ticks": "inside"
             }
            },
            "type": "scattergl"
           }
          ],
          "scattermapbox": [
           {
            "marker": {
             "colorbar": {
              "outlinewidth": 0,
              "tickcolor": "rgb(237,237,237)",
              "ticklen": 6,
              "ticks": "inside"
             }
            },
            "type": "scattermapbox"
           }
          ],
          "scatterpolar": [
           {
            "marker": {
             "colorbar": {
              "outlinewidth": 0,
              "tickcolor": "rgb(237,237,237)",
              "ticklen": 6,
              "ticks": "inside"
             }
            },
            "type": "scatterpolar"
           }
          ],
          "scatterpolargl": [
           {
            "marker": {
             "colorbar": {
              "outlinewidth": 0,
              "tickcolor": "rgb(237,237,237)",
              "ticklen": 6,
              "ticks": "inside"
             }
            },
            "type": "scatterpolargl"
           }
          ],
          "scatterternary": [
           {
            "marker": {
             "colorbar": {
              "outlinewidth": 0,
              "tickcolor": "rgb(237,237,237)",
              "ticklen": 6,
              "ticks": "inside"
             }
            },
            "type": "scatterternary"
           }
          ],
          "surface": [
           {
            "colorbar": {
             "outlinewidth": 0,
             "tickcolor": "rgb(237,237,237)",
             "ticklen": 6,
             "ticks": "inside"
            },
            "colorscale": [
             [
              0,
              "rgb(20,44,66)"
             ],
             [
              1,
              "rgb(90,179,244)"
             ]
            ],
            "type": "surface"
           }
          ],
          "table": [
           {
            "cells": {
             "fill": {
              "color": "rgb(237,237,237)"
             },
             "line": {
              "color": "white"
             }
            },
            "header": {
             "fill": {
              "color": "rgb(217,217,217)"
             },
             "line": {
              "color": "white"
             }
            },
            "type": "table"
           }
          ]
         },
         "layout": {
          "annotationdefaults": {
           "arrowhead": 0,
           "arrowwidth": 1
          },
          "autotypenumbers": "strict",
          "coloraxis": {
           "colorbar": {
            "outlinewidth": 0,
            "tickcolor": "rgb(237,237,237)",
            "ticklen": 6,
            "ticks": "inside"
           }
          },
          "colorscale": {
           "sequential": [
            [
             0,
             "rgb(20,44,66)"
            ],
            [
             1,
             "rgb(90,179,244)"
            ]
           ],
           "sequentialminus": [
            [
             0,
             "rgb(20,44,66)"
            ],
            [
             1,
             "rgb(90,179,244)"
            ]
           ]
          },
          "colorway": [
           "#F8766D",
           "#A3A500",
           "#00BF7D",
           "#00B0F6",
           "#E76BF3"
          ],
          "font": {
           "color": "rgb(51,51,51)"
          },
          "geo": {
           "bgcolor": "white",
           "lakecolor": "white",
           "landcolor": "rgb(237,237,237)",
           "showlakes": true,
           "showland": true,
           "subunitcolor": "white"
          },
          "hoverlabel": {
           "align": "left"
          },
          "hovermode": "closest",
          "paper_bgcolor": "white",
          "plot_bgcolor": "rgb(237,237,237)",
          "polar": {
           "angularaxis": {
            "gridcolor": "white",
            "linecolor": "white",
            "showgrid": true,
            "tickcolor": "rgb(51,51,51)",
            "ticks": "outside"
           },
           "bgcolor": "rgb(237,237,237)",
           "radialaxis": {
            "gridcolor": "white",
            "linecolor": "white",
            "showgrid": true,
            "tickcolor": "rgb(51,51,51)",
            "ticks": "outside"
           }
          },
          "scene": {
           "xaxis": {
            "backgroundcolor": "rgb(237,237,237)",
            "gridcolor": "white",
            "gridwidth": 2,
            "linecolor": "white",
            "showbackground": true,
            "showgrid": true,
            "tickcolor": "rgb(51,51,51)",
            "ticks": "outside",
            "zerolinecolor": "white"
           },
           "yaxis": {
            "backgroundcolor": "rgb(237,237,237)",
            "gridcolor": "white",
            "gridwidth": 2,
            "linecolor": "white",
            "showbackground": true,
            "showgrid": true,
            "tickcolor": "rgb(51,51,51)",
            "ticks": "outside",
            "zerolinecolor": "white"
           },
           "zaxis": {
            "backgroundcolor": "rgb(237,237,237)",
            "gridcolor": "white",
            "gridwidth": 2,
            "linecolor": "white",
            "showbackground": true,
            "showgrid": true,
            "tickcolor": "rgb(51,51,51)",
            "ticks": "outside",
            "zerolinecolor": "white"
           }
          },
          "shapedefaults": {
           "fillcolor": "black",
           "line": {
            "width": 0
           },
           "opacity": 0.3
          },
          "ternary": {
           "aaxis": {
            "gridcolor": "white",
            "linecolor": "white",
            "showgrid": true,
            "tickcolor": "rgb(51,51,51)",
            "ticks": "outside"
           },
           "baxis": {
            "gridcolor": "white",
            "linecolor": "white",
            "showgrid": true,
            "tickcolor": "rgb(51,51,51)",
            "ticks": "outside"
           },
           "bgcolor": "rgb(237,237,237)",
           "caxis": {
            "gridcolor": "white",
            "linecolor": "white",
            "showgrid": true,
            "tickcolor": "rgb(51,51,51)",
            "ticks": "outside"
           }
          },
          "xaxis": {
           "automargin": true,
           "gridcolor": "white",
           "linecolor": "white",
           "showgrid": true,
           "tickcolor": "rgb(51,51,51)",
           "ticks": "outside",
           "title": {
            "standoff": 15
           },
           "zerolinecolor": "white"
          },
          "yaxis": {
           "automargin": true,
           "gridcolor": "white",
           "linecolor": "white",
           "showgrid": true,
           "tickcolor": "rgb(51,51,51)",
           "ticks": "outside",
           "title": {
            "standoff": 15
           },
           "zerolinecolor": "white"
          }
         }
        },
        "title": {
         "text": "percentage of population tested positive in each state"
        },
        "xaxis": {
         "anchor": "y",
         "domain": [
          0,
          1
         ],
         "title": {
          "text": "State"
         }
        },
        "yaxis": {
         "anchor": "x",
         "domain": [
          0,
          1
         ],
         "title": {
          "text": "percentage tested positive"
         }
        }
       }
      },
      "text/html": [
       "<div>                            <div id=\"56d3cd61-119d-419b-b289-4626eb384b90\" class=\"plotly-graph-div\" style=\"height:525px; width:100%;\"></div>            <script type=\"text/javascript\">                require([\"plotly\"], function(Plotly) {                    window.PLOTLYENV=window.PLOTLYENV || {};                                    if (document.getElementById(\"56d3cd61-119d-419b-b289-4626eb384b90\")) {                    Plotly.newPlot(                        \"56d3cd61-119d-419b-b289-4626eb384b90\",                        [{\"alignmentgroup\":\"True\",\"hovertemplate\":\"State=%{x}<br>percentage tested positive=%{marker.color}<extra></extra>\",\"legendgroup\":\"\",\"marker\":{\"color\":[1.7999999999999998,2.27,2.76,2.88,2.9899999999999998,3.02,3.0700000000000003,3.56,3.88,4.3,4.93,4.97,5.33,5.390000000000001,5.43,6.0,6.05,6.35,6.39,6.4799999999999995,6.7299999999999995,6.75,6.890000000000001,7.06,7.19,7.89,8.450000000000001,8.51,8.799999999999999,9.229999999999999,9.71,10.530000000000001,10.73,14.149999999999999,15.61],\"coloraxis\":\"coloraxis\",\"pattern\":{\"shape\":\"\"}},\"name\":\"\",\"offsetgroup\":\"\",\"orientation\":\"v\",\"showlegend\":false,\"textposition\":\"auto\",\"type\":\"bar\",\"x\":[\"Bihar\",\"Andaman and Nicobar Islands\",\"Uttar Pradesh\",\"Mizoram\",\"Jammu and Kashmir\",\"Jharkhand\",\"Gujarat\",\"Assam\",\"Telangana\",\"Arunachal Pradesh\",\"Punjab\",\"Meghalaya\",\"Orissa\",\"Tripura\",\"Uttarakhand\",\"Madhya Pradesh\",\"Manipur\",\"Rajasthan\",\"Tamil Nadu\",\"Haryana\",\"Delhi\",\"Lakshadweep\",\"Dadra and Nagar Haveli\",\"Himachal Pradesh\",\"Karnataka\",\"Andhra Pradesh\",\"Pondicherry\",\"West Bengal\",\"Chhattisgarh\",\"Sikkim\",\"Nagaland\",\"Kerala\",\"Chandigarh\",\"Goa\",\"Maharashtra\"],\"xaxis\":\"x\",\"y\":[1.7999999999999998,2.27,2.76,2.88,2.9899999999999998,3.02,3.0700000000000003,3.56,3.88,4.3,4.93,4.97,5.33,5.390000000000001,5.43,6.0,6.05,6.35,6.39,6.4799999999999995,6.7299999999999995,6.75,6.890000000000001,7.06,7.19,7.89,8.450000000000001,8.51,8.799999999999999,9.229999999999999,9.71,10.530000000000001,10.73,14.149999999999999,15.61],\"yaxis\":\"y\"}],                        {\"barmode\":\"relative\",\"coloraxis\":{\"colorbar\":{\"title\":{\"text\":\"percentage tested positive\"}},\"colorscale\":[[0.0,\"rgb(20,44,66)\"],[1.0,\"rgb(90,179,244)\"]]},\"legend\":{\"tracegroupgap\":0},\"template\":{\"data\":{\"bar\":[{\"error_x\":{\"color\":\"rgb(51,51,51)\"},\"error_y\":{\"color\":\"rgb(51,51,51)\"},\"marker\":{\"line\":{\"color\":\"rgb(237,237,237)\",\"width\":0.5},\"pattern\":{\"fillmode\":\"overlay\",\"size\":10,\"solidity\":0.2}},\"type\":\"bar\"}],\"barpolar\":[{\"marker\":{\"line\":{\"color\":\"rgb(237,237,237)\",\"width\":0.5},\"pattern\":{\"fillmode\":\"overlay\",\"size\":10,\"solidity\":0.2}},\"type\":\"barpolar\"}],\"carpet\":[{\"aaxis\":{\"endlinecolor\":\"rgb(51,51,51)\",\"gridcolor\":\"white\",\"linecolor\":\"white\",\"minorgridcolor\":\"white\",\"startlinecolor\":\"rgb(51,51,51)\"},\"baxis\":{\"endlinecolor\":\"rgb(51,51,51)\",\"gridcolor\":\"white\",\"linecolor\":\"white\",\"minorgridcolor\":\"white\",\"startlinecolor\":\"rgb(51,51,51)\"},\"type\":\"carpet\"}],\"choropleth\":[{\"colorbar\":{\"outlinewidth\":0,\"tickcolor\":\"rgb(237,237,237)\",\"ticklen\":6,\"ticks\":\"inside\"},\"type\":\"choropleth\"}],\"contour\":[{\"colorbar\":{\"outlinewidth\":0,\"tickcolor\":\"rgb(237,237,237)\",\"ticklen\":6,\"ticks\":\"inside\"},\"colorscale\":[[0,\"rgb(20,44,66)\"],[1,\"rgb(90,179,244)\"]],\"type\":\"contour\"}],\"contourcarpet\":[{\"colorbar\":{\"outlinewidth\":0,\"tickcolor\":\"rgb(237,237,237)\",\"ticklen\":6,\"ticks\":\"inside\"},\"type\":\"contourcarpet\"}],\"heatmap\":[{\"colorbar\":{\"outlinewidth\":0,\"tickcolor\":\"rgb(237,237,237)\",\"ticklen\":6,\"ticks\":\"inside\"},\"colorscale\":[[0,\"rgb(20,44,66)\"],[1,\"rgb(90,179,244)\"]],\"type\":\"heatmap\"}],\"heatmapgl\":[{\"colorbar\":{\"outlinewidth\":0,\"tickcolor\":\"rgb(237,237,237)\",\"ticklen\":6,\"ticks\":\"inside\"},\"colorscale\":[[0,\"rgb(20,44,66)\"],[1,\"rgb(90,179,244)\"]],\"type\":\"heatmapgl\"}],\"histogram\":[{\"marker\":{\"pattern\":{\"fillmode\":\"overlay\",\"size\":10,\"solidity\":0.2}},\"type\":\"histogram\"}],\"histogram2d\":[{\"colorbar\":{\"outlinewidth\":0,\"tickcolor\":\"rgb(237,237,237)\",\"ticklen\":6,\"ticks\":\"inside\"},\"colorscale\":[[0,\"rgb(20,44,66)\"],[1,\"rgb(90,179,244)\"]],\"type\":\"histogram2d\"}],\"histogram2dcontour\":[{\"colorbar\":{\"outlinewidth\":0,\"tickcolor\":\"rgb(237,237,237)\",\"ticklen\":6,\"ticks\":\"inside\"},\"colorscale\":[[0,\"rgb(20,44,66)\"],[1,\"rgb(90,179,244)\"]],\"type\":\"histogram2dcontour\"}],\"mesh3d\":[{\"colorbar\":{\"outlinewidth\":0,\"tickcolor\":\"rgb(237,237,237)\",\"ticklen\":6,\"ticks\":\"inside\"},\"type\":\"mesh3d\"}],\"parcoords\":[{\"line\":{\"colorbar\":{\"outlinewidth\":0,\"tickcolor\":\"rgb(237,237,237)\",\"ticklen\":6,\"ticks\":\"inside\"}},\"type\":\"parcoords\"}],\"pie\":[{\"automargin\":true,\"type\":\"pie\"}],\"scatter\":[{\"marker\":{\"colorbar\":{\"outlinewidth\":0,\"tickcolor\":\"rgb(237,237,237)\",\"ticklen\":6,\"ticks\":\"inside\"}},\"type\":\"scatter\"}],\"scatter3d\":[{\"line\":{\"colorbar\":{\"outlinewidth\":0,\"tickcolor\":\"rgb(237,237,237)\",\"ticklen\":6,\"ticks\":\"inside\"}},\"marker\":{\"colorbar\":{\"outlinewidth\":0,\"tickcolor\":\"rgb(237,237,237)\",\"ticklen\":6,\"ticks\":\"inside\"}},\"type\":\"scatter3d\"}],\"scattercarpet\":[{\"marker\":{\"colorbar\":{\"outlinewidth\":0,\"tickcolor\":\"rgb(237,237,237)\",\"ticklen\":6,\"ticks\":\"inside\"}},\"type\":\"scattercarpet\"}],\"scattergeo\":[{\"marker\":{\"colorbar\":{\"outlinewidth\":0,\"tickcolor\":\"rgb(237,237,237)\",\"ticklen\":6,\"ticks\":\"inside\"}},\"type\":\"scattergeo\"}],\"scattergl\":[{\"marker\":{\"colorbar\":{\"outlinewidth\":0,\"tickcolor\":\"rgb(237,237,237)\",\"ticklen\":6,\"ticks\":\"inside\"}},\"type\":\"scattergl\"}],\"scattermapbox\":[{\"marker\":{\"colorbar\":{\"outlinewidth\":0,\"tickcolor\":\"rgb(237,237,237)\",\"ticklen\":6,\"ticks\":\"inside\"}},\"type\":\"scattermapbox\"}],\"scatterpolar\":[{\"marker\":{\"colorbar\":{\"outlinewidth\":0,\"tickcolor\":\"rgb(237,237,237)\",\"ticklen\":6,\"ticks\":\"inside\"}},\"type\":\"scatterpolar\"}],\"scatterpolargl\":[{\"marker\":{\"colorbar\":{\"outlinewidth\":0,\"tickcolor\":\"rgb(237,237,237)\",\"ticklen\":6,\"ticks\":\"inside\"}},\"type\":\"scatterpolargl\"}],\"scatterternary\":[{\"marker\":{\"colorbar\":{\"outlinewidth\":0,\"tickcolor\":\"rgb(237,237,237)\",\"ticklen\":6,\"ticks\":\"inside\"}},\"type\":\"scatterternary\"}],\"surface\":[{\"colorbar\":{\"outlinewidth\":0,\"tickcolor\":\"rgb(237,237,237)\",\"ticklen\":6,\"ticks\":\"inside\"},\"colorscale\":[[0,\"rgb(20,44,66)\"],[1,\"rgb(90,179,244)\"]],\"type\":\"surface\"}],\"table\":[{\"cells\":{\"fill\":{\"color\":\"rgb(237,237,237)\"},\"line\":{\"color\":\"white\"}},\"header\":{\"fill\":{\"color\":\"rgb(217,217,217)\"},\"line\":{\"color\":\"white\"}},\"type\":\"table\"}]},\"layout\":{\"annotationdefaults\":{\"arrowhead\":0,\"arrowwidth\":1},\"autotypenumbers\":\"strict\",\"coloraxis\":{\"colorbar\":{\"outlinewidth\":0,\"tickcolor\":\"rgb(237,237,237)\",\"ticklen\":6,\"ticks\":\"inside\"}},\"colorscale\":{\"sequential\":[[0,\"rgb(20,44,66)\"],[1,\"rgb(90,179,244)\"]],\"sequentialminus\":[[0,\"rgb(20,44,66)\"],[1,\"rgb(90,179,244)\"]]},\"colorway\":[\"#F8766D\",\"#A3A500\",\"#00BF7D\",\"#00B0F6\",\"#E76BF3\"],\"font\":{\"color\":\"rgb(51,51,51)\"},\"geo\":{\"bgcolor\":\"white\",\"lakecolor\":\"white\",\"landcolor\":\"rgb(237,237,237)\",\"showlakes\":true,\"showland\":true,\"subunitcolor\":\"white\"},\"hoverlabel\":{\"align\":\"left\"},\"hovermode\":\"closest\",\"paper_bgcolor\":\"white\",\"plot_bgcolor\":\"rgb(237,237,237)\",\"polar\":{\"angularaxis\":{\"gridcolor\":\"white\",\"linecolor\":\"white\",\"showgrid\":true,\"tickcolor\":\"rgb(51,51,51)\",\"ticks\":\"outside\"},\"bgcolor\":\"rgb(237,237,237)\",\"radialaxis\":{\"gridcolor\":\"white\",\"linecolor\":\"white\",\"showgrid\":true,\"tickcolor\":\"rgb(51,51,51)\",\"ticks\":\"outside\"}},\"scene\":{\"xaxis\":{\"backgroundcolor\":\"rgb(237,237,237)\",\"gridcolor\":\"white\",\"gridwidth\":2,\"linecolor\":\"white\",\"showbackground\":true,\"showgrid\":true,\"tickcolor\":\"rgb(51,51,51)\",\"ticks\":\"outside\",\"zerolinecolor\":\"white\"},\"yaxis\":{\"backgroundcolor\":\"rgb(237,237,237)\",\"gridcolor\":\"white\",\"gridwidth\":2,\"linecolor\":\"white\",\"showbackground\":true,\"showgrid\":true,\"tickcolor\":\"rgb(51,51,51)\",\"ticks\":\"outside\",\"zerolinecolor\":\"white\"},\"zaxis\":{\"backgroundcolor\":\"rgb(237,237,237)\",\"gridcolor\":\"white\",\"gridwidth\":2,\"linecolor\":\"white\",\"showbackground\":true,\"showgrid\":true,\"tickcolor\":\"rgb(51,51,51)\",\"ticks\":\"outside\",\"zerolinecolor\":\"white\"}},\"shapedefaults\":{\"fillcolor\":\"black\",\"line\":{\"width\":0},\"opacity\":0.3},\"ternary\":{\"aaxis\":{\"gridcolor\":\"white\",\"linecolor\":\"white\",\"showgrid\":true,\"tickcolor\":\"rgb(51,51,51)\",\"ticks\":\"outside\"},\"baxis\":{\"gridcolor\":\"white\",\"linecolor\":\"white\",\"showgrid\":true,\"tickcolor\":\"rgb(51,51,51)\",\"ticks\":\"outside\"},\"bgcolor\":\"rgb(237,237,237)\",\"caxis\":{\"gridcolor\":\"white\",\"linecolor\":\"white\",\"showgrid\":true,\"tickcolor\":\"rgb(51,51,51)\",\"ticks\":\"outside\"}},\"xaxis\":{\"automargin\":true,\"gridcolor\":\"white\",\"linecolor\":\"white\",\"showgrid\":true,\"tickcolor\":\"rgb(51,51,51)\",\"ticks\":\"outside\",\"title\":{\"standoff\":15},\"zerolinecolor\":\"white\"},\"yaxis\":{\"automargin\":true,\"gridcolor\":\"white\",\"linecolor\":\"white\",\"showgrid\":true,\"tickcolor\":\"rgb(51,51,51)\",\"ticks\":\"outside\",\"title\":{\"standoff\":15},\"zerolinecolor\":\"white\"}}},\"title\":{\"text\":\"percentage of population tested positive in each state\"},\"xaxis\":{\"anchor\":\"y\",\"domain\":[0.0,1.0],\"title\":{\"text\":\"State\"}},\"yaxis\":{\"anchor\":\"x\",\"domain\":[0.0,1.0],\"title\":{\"text\":\"percentage tested positive\"}}},                        {\"responsive\": true}                    ).then(function(){\n",
       "                            \n",
       "var gd = document.getElementById('56d3cd61-119d-419b-b289-4626eb384b90');\n",
       "var x = new MutationObserver(function (mutations, observer) {{\n",
       "        var display = window.getComputedStyle(gd).display;\n",
       "        if (!display || display === 'none') {{\n",
       "            console.log([gd, 'removed!']);\n",
       "            Plotly.purge(gd);\n",
       "            observer.disconnect();\n",
       "        }}\n",
       "}});\n",
       "\n",
       "// Listen for the removal of the full notebook cells\n",
       "var notebookContainer = gd.closest('#notebook-container');\n",
       "if (notebookContainer) {{\n",
       "    x.observe(notebookContainer, {childList: true});\n",
       "}}\n",
       "\n",
       "// Listen for the clearing of the current output cell\n",
       "var outputEl = gd.closest('.output');\n",
       "if (outputEl) {{\n",
       "    x.observe(outputEl, {childList: true});\n",
       "}}\n",
       "\n",
       "                        })                };                });            </script>        </div>"
      ]
     },
     "metadata": {},
     "output_type": "display_data"
    }
   ],
   "source": [
    "fig = px.bar(plot_positive_per, x='State',y='percentage tested positive',color='percentage tested positive',\n",
    "            title='percentage of population tested positive in each state',template='ggplot2')\n",
    "\n",
    "fig.show()  "
   ]
  },
  {
   "cell_type": "code",
   "execution_count": 41,
   "id": "de0c994a",
   "metadata": {},
   "outputs": [
    {
     "data": {
      "application/vnd.plotly.v1+json": {
       "config": {
        "plotlyServerURL": "https://plot.ly"
       },
       "data": [
        {
         "alignmentgroup": "True",
         "hovertemplate": "State=%{x}<br>percentage died=%{marker.color}<extra></extra>",
         "legendgroup": "",
         "marker": {
          "color": [
           0.05,
           0.33,
           0.36,
           0.4,
           0.49,
           0.5700000000000001,
           0.61,
           0.76,
           0.7799999999999999,
           0.8999999999999999,
           1.02,
           1.06,
           1.08,
           1.0999999999999999,
           1.17,
           1.24,
           1.25,
           1.31,
           1.32,
           1.3299999999999998,
           1.35,
           1.37,
           1.37,
           1.38,
           1.4500000000000002,
           1.49,
           1.5599999999999998,
           1.5599999999999998,
           1.59,
           1.6099999999999999,
           1.72,
           1.7399999999999998,
           1.82,
           2.12,
           2.79
          ],
          "coloraxis": "coloraxis",
          "pattern": {
           "shape": ""
          }
         },
         "name": "",
         "offsetgroup": "",
         "orientation": "v",
         "showlegend": false,
         "textposition": "auto",
         "type": "bar",
         "x": [
          "Dadra and Nagar Haveli",
          "Mizoram",
          "Arunachal Pradesh",
          "Kerala",
          "Orissa",
          "Telangana",
          "Assam",
          "Andhra Pradesh",
          "Bihar",
          "Rajasthan",
          "Lakshadweep",
          "Nagaland",
          "Tripura",
          "Haryana",
          "Jharkhand",
          "Karnataka",
          "Chhattisgarh",
          "Madhya Pradesh",
          "Uttar Pradesh",
          "Meghalaya",
          "Manipur",
          "Tamil Nadu",
          "Chandigarh",
          "Andaman and Nicobar Islands",
          "Jammu and Kashmir",
          "West Bengal",
          "Pondicherry",
          "Goa",
          "Gujarat",
          "Himachal Pradesh",
          "Delhi",
          "Sikkim",
          "Uttarakhand",
          "Maharashtra",
          "Punjab"
         ],
         "xaxis": "x",
         "y": [
          0.05,
          0.33,
          0.36,
          0.4,
          0.49,
          0.5700000000000001,
          0.61,
          0.76,
          0.7799999999999999,
          0.8999999999999999,
          1.02,
          1.06,
          1.08,
          1.0999999999999999,
          1.17,
          1.24,
          1.25,
          1.31,
          1.32,
          1.3299999999999998,
          1.35,
          1.37,
          1.37,
          1.38,
          1.4500000000000002,
          1.49,
          1.5599999999999998,
          1.5599999999999998,
          1.59,
          1.6099999999999999,
          1.72,
          1.7399999999999998,
          1.82,
          2.12,
          2.79
         ],
         "yaxis": "y"
        }
       ],
       "layout": {
        "barmode": "relative",
        "coloraxis": {
         "colorbar": {
          "title": {
           "text": "percentage died"
          }
         },
         "colorscale": [
          [
           0,
           "rgb(20,44,66)"
          ],
          [
           1,
           "rgb(90,179,244)"
          ]
         ]
        },
        "legend": {
         "tracegroupgap": 0
        },
        "template": {
         "data": {
          "bar": [
           {
            "error_x": {
             "color": "rgb(51,51,51)"
            },
            "error_y": {
             "color": "rgb(51,51,51)"
            },
            "marker": {
             "line": {
              "color": "rgb(237,237,237)",
              "width": 0.5
             },
             "pattern": {
              "fillmode": "overlay",
              "size": 10,
              "solidity": 0.2
             }
            },
            "type": "bar"
           }
          ],
          "barpolar": [
           {
            "marker": {
             "line": {
              "color": "rgb(237,237,237)",
              "width": 0.5
             },
             "pattern": {
              "fillmode": "overlay",
              "size": 10,
              "solidity": 0.2
             }
            },
            "type": "barpolar"
           }
          ],
          "carpet": [
           {
            "aaxis": {
             "endlinecolor": "rgb(51,51,51)",
             "gridcolor": "white",
             "linecolor": "white",
             "minorgridcolor": "white",
             "startlinecolor": "rgb(51,51,51)"
            },
            "baxis": {
             "endlinecolor": "rgb(51,51,51)",
             "gridcolor": "white",
             "linecolor": "white",
             "minorgridcolor": "white",
             "startlinecolor": "rgb(51,51,51)"
            },
            "type": "carpet"
           }
          ],
          "choropleth": [
           {
            "colorbar": {
             "outlinewidth": 0,
             "tickcolor": "rgb(237,237,237)",
             "ticklen": 6,
             "ticks": "inside"
            },
            "type": "choropleth"
           }
          ],
          "contour": [
           {
            "colorbar": {
             "outlinewidth": 0,
             "tickcolor": "rgb(237,237,237)",
             "ticklen": 6,
             "ticks": "inside"
            },
            "colorscale": [
             [
              0,
              "rgb(20,44,66)"
             ],
             [
              1,
              "rgb(90,179,244)"
             ]
            ],
            "type": "contour"
           }
          ],
          "contourcarpet": [
           {
            "colorbar": {
             "outlinewidth": 0,
             "tickcolor": "rgb(237,237,237)",
             "ticklen": 6,
             "ticks": "inside"
            },
            "type": "contourcarpet"
           }
          ],
          "heatmap": [
           {
            "colorbar": {
             "outlinewidth": 0,
             "tickcolor": "rgb(237,237,237)",
             "ticklen": 6,
             "ticks": "inside"
            },
            "colorscale": [
             [
              0,
              "rgb(20,44,66)"
             ],
             [
              1,
              "rgb(90,179,244)"
             ]
            ],
            "type": "heatmap"
           }
          ],
          "heatmapgl": [
           {
            "colorbar": {
             "outlinewidth": 0,
             "tickcolor": "rgb(237,237,237)",
             "ticklen": 6,
             "ticks": "inside"
            },
            "colorscale": [
             [
              0,
              "rgb(20,44,66)"
             ],
             [
              1,
              "rgb(90,179,244)"
             ]
            ],
            "type": "heatmapgl"
           }
          ],
          "histogram": [
           {
            "marker": {
             "pattern": {
              "fillmode": "overlay",
              "size": 10,
              "solidity": 0.2
             }
            },
            "type": "histogram"
           }
          ],
          "histogram2d": [
           {
            "colorbar": {
             "outlinewidth": 0,
             "tickcolor": "rgb(237,237,237)",
             "ticklen": 6,
             "ticks": "inside"
            },
            "colorscale": [
             [
              0,
              "rgb(20,44,66)"
             ],
             [
              1,
              "rgb(90,179,244)"
             ]
            ],
            "type": "histogram2d"
           }
          ],
          "histogram2dcontour": [
           {
            "colorbar": {
             "outlinewidth": 0,
             "tickcolor": "rgb(237,237,237)",
             "ticklen": 6,
             "ticks": "inside"
            },
            "colorscale": [
             [
              0,
              "rgb(20,44,66)"
             ],
             [
              1,
              "rgb(90,179,244)"
             ]
            ],
            "type": "histogram2dcontour"
           }
          ],
          "mesh3d": [
           {
            "colorbar": {
             "outlinewidth": 0,
             "tickcolor": "rgb(237,237,237)",
             "ticklen": 6,
             "ticks": "inside"
            },
            "type": "mesh3d"
           }
          ],
          "parcoords": [
           {
            "line": {
             "colorbar": {
              "outlinewidth": 0,
              "tickcolor": "rgb(237,237,237)",
              "ticklen": 6,
              "ticks": "inside"
             }
            },
            "type": "parcoords"
           }
          ],
          "pie": [
           {
            "automargin": true,
            "type": "pie"
           }
          ],
          "scatter": [
           {
            "marker": {
             "colorbar": {
              "outlinewidth": 0,
              "tickcolor": "rgb(237,237,237)",
              "ticklen": 6,
              "ticks": "inside"
             }
            },
            "type": "scatter"
           }
          ],
          "scatter3d": [
           {
            "line": {
             "colorbar": {
              "outlinewidth": 0,
              "tickcolor": "rgb(237,237,237)",
              "ticklen": 6,
              "ticks": "inside"
             }
            },
            "marker": {
             "colorbar": {
              "outlinewidth": 0,
              "tickcolor": "rgb(237,237,237)",
              "ticklen": 6,
              "ticks": "inside"
             }
            },
            "type": "scatter3d"
           }
          ],
          "scattercarpet": [
           {
            "marker": {
             "colorbar": {
              "outlinewidth": 0,
              "tickcolor": "rgb(237,237,237)",
              "ticklen": 6,
              "ticks": "inside"
             }
            },
            "type": "scattercarpet"
           }
          ],
          "scattergeo": [
           {
            "marker": {
             "colorbar": {
              "outlinewidth": 0,
              "tickcolor": "rgb(237,237,237)",
              "ticklen": 6,
              "ticks": "inside"
             }
            },
            "type": "scattergeo"
           }
          ],
          "scattergl": [
           {
            "marker": {
             "colorbar": {
              "outlinewidth": 0,
              "tickcolor": "rgb(237,237,237)",
              "ticklen": 6,
              "ticks": "inside"
             }
            },
            "type": "scattergl"
           }
          ],
          "scattermapbox": [
           {
            "marker": {
             "colorbar": {
              "outlinewidth": 0,
              "tickcolor": "rgb(237,237,237)",
              "ticklen": 6,
              "ticks": "inside"
             }
            },
            "type": "scattermapbox"
           }
          ],
          "scatterpolar": [
           {
            "marker": {
             "colorbar": {
              "outlinewidth": 0,
              "tickcolor": "rgb(237,237,237)",
              "ticklen": 6,
              "ticks": "inside"
             }
            },
            "type": "scatterpolar"
           }
          ],
          "scatterpolargl": [
           {
            "marker": {
             "colorbar": {
              "outlinewidth": 0,
              "tickcolor": "rgb(237,237,237)",
              "ticklen": 6,
              "ticks": "inside"
             }
            },
            "type": "scatterpolargl"
           }
          ],
          "scatterternary": [
           {
            "marker": {
             "colorbar": {
              "outlinewidth": 0,
              "tickcolor": "rgb(237,237,237)",
              "ticklen": 6,
              "ticks": "inside"
             }
            },
            "type": "scatterternary"
           }
          ],
          "surface": [
           {
            "colorbar": {
             "outlinewidth": 0,
             "tickcolor": "rgb(237,237,237)",
             "ticklen": 6,
             "ticks": "inside"
            },
            "colorscale": [
             [
              0,
              "rgb(20,44,66)"
             ],
             [
              1,
              "rgb(90,179,244)"
             ]
            ],
            "type": "surface"
           }
          ],
          "table": [
           {
            "cells": {
             "fill": {
              "color": "rgb(237,237,237)"
             },
             "line": {
              "color": "white"
             }
            },
            "header": {
             "fill": {
              "color": "rgb(217,217,217)"
             },
             "line": {
              "color": "white"
             }
            },
            "type": "table"
           }
          ]
         },
         "layout": {
          "annotationdefaults": {
           "arrowhead": 0,
           "arrowwidth": 1
          },
          "autotypenumbers": "strict",
          "coloraxis": {
           "colorbar": {
            "outlinewidth": 0,
            "tickcolor": "rgb(237,237,237)",
            "ticklen": 6,
            "ticks": "inside"
           }
          },
          "colorscale": {
           "sequential": [
            [
             0,
             "rgb(20,44,66)"
            ],
            [
             1,
             "rgb(90,179,244)"
            ]
           ],
           "sequentialminus": [
            [
             0,
             "rgb(20,44,66)"
            ],
            [
             1,
             "rgb(90,179,244)"
            ]
           ]
          },
          "colorway": [
           "#F8766D",
           "#A3A500",
           "#00BF7D",
           "#00B0F6",
           "#E76BF3"
          ],
          "font": {
           "color": "rgb(51,51,51)"
          },
          "geo": {
           "bgcolor": "white",
           "lakecolor": "white",
           "landcolor": "rgb(237,237,237)",
           "showlakes": true,
           "showland": true,
           "subunitcolor": "white"
          },
          "hoverlabel": {
           "align": "left"
          },
          "hovermode": "closest",
          "paper_bgcolor": "white",
          "plot_bgcolor": "rgb(237,237,237)",
          "polar": {
           "angularaxis": {
            "gridcolor": "white",
            "linecolor": "white",
            "showgrid": true,
            "tickcolor": "rgb(51,51,51)",
            "ticks": "outside"
           },
           "bgcolor": "rgb(237,237,237)",
           "radialaxis": {
            "gridcolor": "white",
            "linecolor": "white",
            "showgrid": true,
            "tickcolor": "rgb(51,51,51)",
            "ticks": "outside"
           }
          },
          "scene": {
           "xaxis": {
            "backgroundcolor": "rgb(237,237,237)",
            "gridcolor": "white",
            "gridwidth": 2,
            "linecolor": "white",
            "showbackground": true,
            "showgrid": true,
            "tickcolor": "rgb(51,51,51)",
            "ticks": "outside",
            "zerolinecolor": "white"
           },
           "yaxis": {
            "backgroundcolor": "rgb(237,237,237)",
            "gridcolor": "white",
            "gridwidth": 2,
            "linecolor": "white",
            "showbackground": true,
            "showgrid": true,
            "tickcolor": "rgb(51,51,51)",
            "ticks": "outside",
            "zerolinecolor": "white"
           },
           "zaxis": {
            "backgroundcolor": "rgb(237,237,237)",
            "gridcolor": "white",
            "gridwidth": 2,
            "linecolor": "white",
            "showbackground": true,
            "showgrid": true,
            "tickcolor": "rgb(51,51,51)",
            "ticks": "outside",
            "zerolinecolor": "white"
           }
          },
          "shapedefaults": {
           "fillcolor": "black",
           "line": {
            "width": 0
           },
           "opacity": 0.3
          },
          "ternary": {
           "aaxis": {
            "gridcolor": "white",
            "linecolor": "white",
            "showgrid": true,
            "tickcolor": "rgb(51,51,51)",
            "ticks": "outside"
           },
           "baxis": {
            "gridcolor": "white",
            "linecolor": "white",
            "showgrid": true,
            "tickcolor": "rgb(51,51,51)",
            "ticks": "outside"
           },
           "bgcolor": "rgb(237,237,237)",
           "caxis": {
            "gridcolor": "white",
            "linecolor": "white",
            "showgrid": true,
            "tickcolor": "rgb(51,51,51)",
            "ticks": "outside"
           }
          },
          "xaxis": {
           "automargin": true,
           "gridcolor": "white",
           "linecolor": "white",
           "showgrid": true,
           "tickcolor": "rgb(51,51,51)",
           "ticks": "outside",
           "title": {
            "standoff": 15
           },
           "zerolinecolor": "white"
          },
          "yaxis": {
           "automargin": true,
           "gridcolor": "white",
           "linecolor": "white",
           "showgrid": true,
           "tickcolor": "rgb(51,51,51)",
           "ticks": "outside",
           "title": {
            "standoff": 15
           },
           "zerolinecolor": "white"
          }
         }
        },
        "title": {
         "text": "percentage of corona positive who died in each state"
        },
        "xaxis": {
         "anchor": "y",
         "domain": [
          0,
          1
         ],
         "title": {
          "text": "State"
         }
        },
        "yaxis": {
         "anchor": "x",
         "domain": [
          0,
          1
         ],
         "title": {
          "text": "percentage died"
         }
        }
       }
      },
      "text/html": [
       "<div>                            <div id=\"542b4126-db6d-47c0-b254-e6c0b4ab3a1f\" class=\"plotly-graph-div\" style=\"height:525px; width:100%;\"></div>            <script type=\"text/javascript\">                require([\"plotly\"], function(Plotly) {                    window.PLOTLYENV=window.PLOTLYENV || {};                                    if (document.getElementById(\"542b4126-db6d-47c0-b254-e6c0b4ab3a1f\")) {                    Plotly.newPlot(                        \"542b4126-db6d-47c0-b254-e6c0b4ab3a1f\",                        [{\"alignmentgroup\":\"True\",\"hovertemplate\":\"State=%{x}<br>percentage died=%{marker.color}<extra></extra>\",\"legendgroup\":\"\",\"marker\":{\"color\":[0.05,0.33,0.36,0.4,0.49,0.5700000000000001,0.61,0.76,0.7799999999999999,0.8999999999999999,1.02,1.06,1.08,1.0999999999999999,1.17,1.24,1.25,1.31,1.32,1.3299999999999998,1.35,1.37,1.37,1.38,1.4500000000000002,1.49,1.5599999999999998,1.5599999999999998,1.59,1.6099999999999999,1.72,1.7399999999999998,1.82,2.12,2.79],\"coloraxis\":\"coloraxis\",\"pattern\":{\"shape\":\"\"}},\"name\":\"\",\"offsetgroup\":\"\",\"orientation\":\"v\",\"showlegend\":false,\"textposition\":\"auto\",\"type\":\"bar\",\"x\":[\"Dadra and Nagar Haveli\",\"Mizoram\",\"Arunachal Pradesh\",\"Kerala\",\"Orissa\",\"Telangana\",\"Assam\",\"Andhra Pradesh\",\"Bihar\",\"Rajasthan\",\"Lakshadweep\",\"Nagaland\",\"Tripura\",\"Haryana\",\"Jharkhand\",\"Karnataka\",\"Chhattisgarh\",\"Madhya Pradesh\",\"Uttar Pradesh\",\"Meghalaya\",\"Manipur\",\"Tamil Nadu\",\"Chandigarh\",\"Andaman and Nicobar Islands\",\"Jammu and Kashmir\",\"West Bengal\",\"Pondicherry\",\"Goa\",\"Gujarat\",\"Himachal Pradesh\",\"Delhi\",\"Sikkim\",\"Uttarakhand\",\"Maharashtra\",\"Punjab\"],\"xaxis\":\"x\",\"y\":[0.05,0.33,0.36,0.4,0.49,0.5700000000000001,0.61,0.76,0.7799999999999999,0.8999999999999999,1.02,1.06,1.08,1.0999999999999999,1.17,1.24,1.25,1.31,1.32,1.3299999999999998,1.35,1.37,1.37,1.38,1.4500000000000002,1.49,1.5599999999999998,1.5599999999999998,1.59,1.6099999999999999,1.72,1.7399999999999998,1.82,2.12,2.79],\"yaxis\":\"y\"}],                        {\"barmode\":\"relative\",\"coloraxis\":{\"colorbar\":{\"title\":{\"text\":\"percentage died\"}},\"colorscale\":[[0.0,\"rgb(20,44,66)\"],[1.0,\"rgb(90,179,244)\"]]},\"legend\":{\"tracegroupgap\":0},\"template\":{\"data\":{\"bar\":[{\"error_x\":{\"color\":\"rgb(51,51,51)\"},\"error_y\":{\"color\":\"rgb(51,51,51)\"},\"marker\":{\"line\":{\"color\":\"rgb(237,237,237)\",\"width\":0.5},\"pattern\":{\"fillmode\":\"overlay\",\"size\":10,\"solidity\":0.2}},\"type\":\"bar\"}],\"barpolar\":[{\"marker\":{\"line\":{\"color\":\"rgb(237,237,237)\",\"width\":0.5},\"pattern\":{\"fillmode\":\"overlay\",\"size\":10,\"solidity\":0.2}},\"type\":\"barpolar\"}],\"carpet\":[{\"aaxis\":{\"endlinecolor\":\"rgb(51,51,51)\",\"gridcolor\":\"white\",\"linecolor\":\"white\",\"minorgridcolor\":\"white\",\"startlinecolor\":\"rgb(51,51,51)\"},\"baxis\":{\"endlinecolor\":\"rgb(51,51,51)\",\"gridcolor\":\"white\",\"linecolor\":\"white\",\"minorgridcolor\":\"white\",\"startlinecolor\":\"rgb(51,51,51)\"},\"type\":\"carpet\"}],\"choropleth\":[{\"colorbar\":{\"outlinewidth\":0,\"tickcolor\":\"rgb(237,237,237)\",\"ticklen\":6,\"ticks\":\"inside\"},\"type\":\"choropleth\"}],\"contour\":[{\"colorbar\":{\"outlinewidth\":0,\"tickcolor\":\"rgb(237,237,237)\",\"ticklen\":6,\"ticks\":\"inside\"},\"colorscale\":[[0,\"rgb(20,44,66)\"],[1,\"rgb(90,179,244)\"]],\"type\":\"contour\"}],\"contourcarpet\":[{\"colorbar\":{\"outlinewidth\":0,\"tickcolor\":\"rgb(237,237,237)\",\"ticklen\":6,\"ticks\":\"inside\"},\"type\":\"contourcarpet\"}],\"heatmap\":[{\"colorbar\":{\"outlinewidth\":0,\"tickcolor\":\"rgb(237,237,237)\",\"ticklen\":6,\"ticks\":\"inside\"},\"colorscale\":[[0,\"rgb(20,44,66)\"],[1,\"rgb(90,179,244)\"]],\"type\":\"heatmap\"}],\"heatmapgl\":[{\"colorbar\":{\"outlinewidth\":0,\"tickcolor\":\"rgb(237,237,237)\",\"ticklen\":6,\"ticks\":\"inside\"},\"colorscale\":[[0,\"rgb(20,44,66)\"],[1,\"rgb(90,179,244)\"]],\"type\":\"heatmapgl\"}],\"histogram\":[{\"marker\":{\"pattern\":{\"fillmode\":\"overlay\",\"size\":10,\"solidity\":0.2}},\"type\":\"histogram\"}],\"histogram2d\":[{\"colorbar\":{\"outlinewidth\":0,\"tickcolor\":\"rgb(237,237,237)\",\"ticklen\":6,\"ticks\":\"inside\"},\"colorscale\":[[0,\"rgb(20,44,66)\"],[1,\"rgb(90,179,244)\"]],\"type\":\"histogram2d\"}],\"histogram2dcontour\":[{\"colorbar\":{\"outlinewidth\":0,\"tickcolor\":\"rgb(237,237,237)\",\"ticklen\":6,\"ticks\":\"inside\"},\"colorscale\":[[0,\"rgb(20,44,66)\"],[1,\"rgb(90,179,244)\"]],\"type\":\"histogram2dcontour\"}],\"mesh3d\":[{\"colorbar\":{\"outlinewidth\":0,\"tickcolor\":\"rgb(237,237,237)\",\"ticklen\":6,\"ticks\":\"inside\"},\"type\":\"mesh3d\"}],\"parcoords\":[{\"line\":{\"colorbar\":{\"outlinewidth\":0,\"tickcolor\":\"rgb(237,237,237)\",\"ticklen\":6,\"ticks\":\"inside\"}},\"type\":\"parcoords\"}],\"pie\":[{\"automargin\":true,\"type\":\"pie\"}],\"scatter\":[{\"marker\":{\"colorbar\":{\"outlinewidth\":0,\"tickcolor\":\"rgb(237,237,237)\",\"ticklen\":6,\"ticks\":\"inside\"}},\"type\":\"scatter\"}],\"scatter3d\":[{\"line\":{\"colorbar\":{\"outlinewidth\":0,\"tickcolor\":\"rgb(237,237,237)\",\"ticklen\":6,\"ticks\":\"inside\"}},\"marker\":{\"colorbar\":{\"outlinewidth\":0,\"tickcolor\":\"rgb(237,237,237)\",\"ticklen\":6,\"ticks\":\"inside\"}},\"type\":\"scatter3d\"}],\"scattercarpet\":[{\"marker\":{\"colorbar\":{\"outlinewidth\":0,\"tickcolor\":\"rgb(237,237,237)\",\"ticklen\":6,\"ticks\":\"inside\"}},\"type\":\"scattercarpet\"}],\"scattergeo\":[{\"marker\":{\"colorbar\":{\"outlinewidth\":0,\"tickcolor\":\"rgb(237,237,237)\",\"ticklen\":6,\"ticks\":\"inside\"}},\"type\":\"scattergeo\"}],\"scattergl\":[{\"marker\":{\"colorbar\":{\"outlinewidth\":0,\"tickcolor\":\"rgb(237,237,237)\",\"ticklen\":6,\"ticks\":\"inside\"}},\"type\":\"scattergl\"}],\"scattermapbox\":[{\"marker\":{\"colorbar\":{\"outlinewidth\":0,\"tickcolor\":\"rgb(237,237,237)\",\"ticklen\":6,\"ticks\":\"inside\"}},\"type\":\"scattermapbox\"}],\"scatterpolar\":[{\"marker\":{\"colorbar\":{\"outlinewidth\":0,\"tickcolor\":\"rgb(237,237,237)\",\"ticklen\":6,\"ticks\":\"inside\"}},\"type\":\"scatterpolar\"}],\"scatterpolargl\":[{\"marker\":{\"colorbar\":{\"outlinewidth\":0,\"tickcolor\":\"rgb(237,237,237)\",\"ticklen\":6,\"ticks\":\"inside\"}},\"type\":\"scatterpolargl\"}],\"scatterternary\":[{\"marker\":{\"colorbar\":{\"outlinewidth\":0,\"tickcolor\":\"rgb(237,237,237)\",\"ticklen\":6,\"ticks\":\"inside\"}},\"type\":\"scatterternary\"}],\"surface\":[{\"colorbar\":{\"outlinewidth\":0,\"tickcolor\":\"rgb(237,237,237)\",\"ticklen\":6,\"ticks\":\"inside\"},\"colorscale\":[[0,\"rgb(20,44,66)\"],[1,\"rgb(90,179,244)\"]],\"type\":\"surface\"}],\"table\":[{\"cells\":{\"fill\":{\"color\":\"rgb(237,237,237)\"},\"line\":{\"color\":\"white\"}},\"header\":{\"fill\":{\"color\":\"rgb(217,217,217)\"},\"line\":{\"color\":\"white\"}},\"type\":\"table\"}]},\"layout\":{\"annotationdefaults\":{\"arrowhead\":0,\"arrowwidth\":1},\"autotypenumbers\":\"strict\",\"coloraxis\":{\"colorbar\":{\"outlinewidth\":0,\"tickcolor\":\"rgb(237,237,237)\",\"ticklen\":6,\"ticks\":\"inside\"}},\"colorscale\":{\"sequential\":[[0,\"rgb(20,44,66)\"],[1,\"rgb(90,179,244)\"]],\"sequentialminus\":[[0,\"rgb(20,44,66)\"],[1,\"rgb(90,179,244)\"]]},\"colorway\":[\"#F8766D\",\"#A3A500\",\"#00BF7D\",\"#00B0F6\",\"#E76BF3\"],\"font\":{\"color\":\"rgb(51,51,51)\"},\"geo\":{\"bgcolor\":\"white\",\"lakecolor\":\"white\",\"landcolor\":\"rgb(237,237,237)\",\"showlakes\":true,\"showland\":true,\"subunitcolor\":\"white\"},\"hoverlabel\":{\"align\":\"left\"},\"hovermode\":\"closest\",\"paper_bgcolor\":\"white\",\"plot_bgcolor\":\"rgb(237,237,237)\",\"polar\":{\"angularaxis\":{\"gridcolor\":\"white\",\"linecolor\":\"white\",\"showgrid\":true,\"tickcolor\":\"rgb(51,51,51)\",\"ticks\":\"outside\"},\"bgcolor\":\"rgb(237,237,237)\",\"radialaxis\":{\"gridcolor\":\"white\",\"linecolor\":\"white\",\"showgrid\":true,\"tickcolor\":\"rgb(51,51,51)\",\"ticks\":\"outside\"}},\"scene\":{\"xaxis\":{\"backgroundcolor\":\"rgb(237,237,237)\",\"gridcolor\":\"white\",\"gridwidth\":2,\"linecolor\":\"white\",\"showbackground\":true,\"showgrid\":true,\"tickcolor\":\"rgb(51,51,51)\",\"ticks\":\"outside\",\"zerolinecolor\":\"white\"},\"yaxis\":{\"backgroundcolor\":\"rgb(237,237,237)\",\"gridcolor\":\"white\",\"gridwidth\":2,\"linecolor\":\"white\",\"showbackground\":true,\"showgrid\":true,\"tickcolor\":\"rgb(51,51,51)\",\"ticks\":\"outside\",\"zerolinecolor\":\"white\"},\"zaxis\":{\"backgroundcolor\":\"rgb(237,237,237)\",\"gridcolor\":\"white\",\"gridwidth\":2,\"linecolor\":\"white\",\"showbackground\":true,\"showgrid\":true,\"tickcolor\":\"rgb(51,51,51)\",\"ticks\":\"outside\",\"zerolinecolor\":\"white\"}},\"shapedefaults\":{\"fillcolor\":\"black\",\"line\":{\"width\":0},\"opacity\":0.3},\"ternary\":{\"aaxis\":{\"gridcolor\":\"white\",\"linecolor\":\"white\",\"showgrid\":true,\"tickcolor\":\"rgb(51,51,51)\",\"ticks\":\"outside\"},\"baxis\":{\"gridcolor\":\"white\",\"linecolor\":\"white\",\"showgrid\":true,\"tickcolor\":\"rgb(51,51,51)\",\"ticks\":\"outside\"},\"bgcolor\":\"rgb(237,237,237)\",\"caxis\":{\"gridcolor\":\"white\",\"linecolor\":\"white\",\"showgrid\":true,\"tickcolor\":\"rgb(51,51,51)\",\"ticks\":\"outside\"}},\"xaxis\":{\"automargin\":true,\"gridcolor\":\"white\",\"linecolor\":\"white\",\"showgrid\":true,\"tickcolor\":\"rgb(51,51,51)\",\"ticks\":\"outside\",\"title\":{\"standoff\":15},\"zerolinecolor\":\"white\"},\"yaxis\":{\"automargin\":true,\"gridcolor\":\"white\",\"linecolor\":\"white\",\"showgrid\":true,\"tickcolor\":\"rgb(51,51,51)\",\"ticks\":\"outside\",\"title\":{\"standoff\":15},\"zerolinecolor\":\"white\"}}},\"title\":{\"text\":\"percentage of corona positive who died in each state\"},\"xaxis\":{\"anchor\":\"y\",\"domain\":[0.0,1.0],\"title\":{\"text\":\"State\"}},\"yaxis\":{\"anchor\":\"x\",\"domain\":[0.0,1.0],\"title\":{\"text\":\"percentage died\"}}},                        {\"responsive\": true}                    ).then(function(){\n",
       "                            \n",
       "var gd = document.getElementById('542b4126-db6d-47c0-b254-e6c0b4ab3a1f');\n",
       "var x = new MutationObserver(function (mutations, observer) {{\n",
       "        var display = window.getComputedStyle(gd).display;\n",
       "        if (!display || display === 'none') {{\n",
       "            console.log([gd, 'removed!']);\n",
       "            Plotly.purge(gd);\n",
       "            observer.disconnect();\n",
       "        }}\n",
       "}});\n",
       "\n",
       "// Listen for the removal of the full notebook cells\n",
       "var notebookContainer = gd.closest('#notebook-container');\n",
       "if (notebookContainer) {{\n",
       "    x.observe(notebookContainer, {childList: true});\n",
       "}}\n",
       "\n",
       "// Listen for the clearing of the current output cell\n",
       "var outputEl = gd.closest('.output');\n",
       "if (outputEl) {{\n",
       "    x.observe(outputEl, {childList: true});\n",
       "}}\n",
       "\n",
       "                        })                };                });            </script>        </div>"
      ]
     },
     "metadata": {},
     "output_type": "display_data"
    }
   ],
   "source": [
    "fig = px.bar(plot_died_per, x='State',y='percentage died',color='percentage died',\n",
    "            title='percentage of corona positive who died in each state',template='ggplot2')\n",
    "\n",
    "fig.show()"
   ]
  },
  {
   "cell_type": "code",
   "execution_count": 43,
   "id": "871bb1a4",
   "metadata": {},
   "outputs": [
    {
     "data": {
      "application/vnd.plotly.v1+json": {
       "config": {
        "plotlyServerURL": "https://plot.ly"
       },
       "data": [
        {
         "alignmentgroup": "True",
         "hovertemplate": "State=%{x}<br>percentage recovered=%{marker.color}<extra></extra>",
         "legendgroup": "",
         "marker": {
          "color": [
           84.67,
           84.72,
           87.67,
           88.59,
           88.7,
           89.25,
           90.12,
           90.23,
           90.74,
           90.8,
           90.98,
           91.07,
           91.33,
           91.46,
           91.53,
           91.64999999999999,
           91.78,
           91.84,
           91.85,
           92,
           92.36999999999999,
           92.55,
           92.65,
           92.86,
           92.86999999999999,
           93.04,
           93.16,
           93.60000000000001,
           93.71000000000001,
           93.83,
           93.88,
           94.01,
           94.23,
           94.89,
           95.24000000000001
          ],
          "coloraxis": "coloraxis",
          "pattern": {
           "shape": ""
          }
         },
         "name": "",
         "offsetgroup": "",
         "orientation": "v",
         "showlegend": false,
         "textposition": "auto",
         "type": "bar",
         "x": [
          "Mizoram",
          "Sikkim",
          "Nagaland",
          "Uttarakhand",
          "Meghalaya",
          "Manipur",
          "Karnataka",
          "Maharashtra",
          "Himachal Pradesh",
          "Punjab",
          "Jammu and Kashmir",
          "Kerala",
          "Lakshadweep",
          "Pondicherry",
          "Goa",
          "Gujarat",
          "Arunachal Pradesh",
          "Chhattisgarh",
          "Rajasthan",
          "Tripura",
          "Assam",
          "Chandigarh",
          "Uttar Pradesh",
          "Madhya Pradesh",
          "Jharkhand",
          "Tamil Nadu",
          "Telangana",
          "West Bengal",
          "Haryana",
          "Orissa",
          "Dadra and Nagar Haveli",
          "Andhra Pradesh",
          "Bihar",
          "Delhi",
          "Andaman and Nicobar Islands"
         ],
         "xaxis": "x",
         "y": [
          84.67,
          84.72,
          87.67,
          88.59,
          88.7,
          89.25,
          90.12,
          90.23,
          90.74,
          90.8,
          90.98,
          91.07,
          91.33,
          91.46,
          91.53,
          91.64999999999999,
          91.78,
          91.84,
          91.85,
          92,
          92.36999999999999,
          92.55,
          92.65,
          92.86,
          92.86999999999999,
          93.04,
          93.16,
          93.60000000000001,
          93.71000000000001,
          93.83,
          93.88,
          94.01,
          94.23,
          94.89,
          95.24000000000001
         ],
         "yaxis": "y"
        }
       ],
       "layout": {
        "barmode": "relative",
        "coloraxis": {
         "colorbar": {
          "title": {
           "text": "percentage recovered"
          }
         },
         "colorscale": [
          [
           0,
           "rgb(20,44,66)"
          ],
          [
           1,
           "rgb(90,179,244)"
          ]
         ]
        },
        "legend": {
         "tracegroupgap": 0
        },
        "template": {
         "data": {
          "bar": [
           {
            "error_x": {
             "color": "rgb(51,51,51)"
            },
            "error_y": {
             "color": "rgb(51,51,51)"
            },
            "marker": {
             "line": {
              "color": "rgb(237,237,237)",
              "width": 0.5
             },
             "pattern": {
              "fillmode": "overlay",
              "size": 10,
              "solidity": 0.2
             }
            },
            "type": "bar"
           }
          ],
          "barpolar": [
           {
            "marker": {
             "line": {
              "color": "rgb(237,237,237)",
              "width": 0.5
             },
             "pattern": {
              "fillmode": "overlay",
              "size": 10,
              "solidity": 0.2
             }
            },
            "type": "barpolar"
           }
          ],
          "carpet": [
           {
            "aaxis": {
             "endlinecolor": "rgb(51,51,51)",
             "gridcolor": "white",
             "linecolor": "white",
             "minorgridcolor": "white",
             "startlinecolor": "rgb(51,51,51)"
            },
            "baxis": {
             "endlinecolor": "rgb(51,51,51)",
             "gridcolor": "white",
             "linecolor": "white",
             "minorgridcolor": "white",
             "startlinecolor": "rgb(51,51,51)"
            },
            "type": "carpet"
           }
          ],
          "choropleth": [
           {
            "colorbar": {
             "outlinewidth": 0,
             "tickcolor": "rgb(237,237,237)",
             "ticklen": 6,
             "ticks": "inside"
            },
            "type": "choropleth"
           }
          ],
          "contour": [
           {
            "colorbar": {
             "outlinewidth": 0,
             "tickcolor": "rgb(237,237,237)",
             "ticklen": 6,
             "ticks": "inside"
            },
            "colorscale": [
             [
              0,
              "rgb(20,44,66)"
             ],
             [
              1,
              "rgb(90,179,244)"
             ]
            ],
            "type": "contour"
           }
          ],
          "contourcarpet": [
           {
            "colorbar": {
             "outlinewidth": 0,
             "tickcolor": "rgb(237,237,237)",
             "ticklen": 6,
             "ticks": "inside"
            },
            "type": "contourcarpet"
           }
          ],
          "heatmap": [
           {
            "colorbar": {
             "outlinewidth": 0,
             "tickcolor": "rgb(237,237,237)",
             "ticklen": 6,
             "ticks": "inside"
            },
            "colorscale": [
             [
              0,
              "rgb(20,44,66)"
             ],
             [
              1,
              "rgb(90,179,244)"
             ]
            ],
            "type": "heatmap"
           }
          ],
          "heatmapgl": [
           {
            "colorbar": {
             "outlinewidth": 0,
             "tickcolor": "rgb(237,237,237)",
             "ticklen": 6,
             "ticks": "inside"
            },
            "colorscale": [
             [
              0,
              "rgb(20,44,66)"
             ],
             [
              1,
              "rgb(90,179,244)"
             ]
            ],
            "type": "heatmapgl"
           }
          ],
          "histogram": [
           {
            "marker": {
             "pattern": {
              "fillmode": "overlay",
              "size": 10,
              "solidity": 0.2
             }
            },
            "type": "histogram"
           }
          ],
          "histogram2d": [
           {
            "colorbar": {
             "outlinewidth": 0,
             "tickcolor": "rgb(237,237,237)",
             "ticklen": 6,
             "ticks": "inside"
            },
            "colorscale": [
             [
              0,
              "rgb(20,44,66)"
             ],
             [
              1,
              "rgb(90,179,244)"
             ]
            ],
            "type": "histogram2d"
           }
          ],
          "histogram2dcontour": [
           {
            "colorbar": {
             "outlinewidth": 0,
             "tickcolor": "rgb(237,237,237)",
             "ticklen": 6,
             "ticks": "inside"
            },
            "colorscale": [
             [
              0,
              "rgb(20,44,66)"
             ],
             [
              1,
              "rgb(90,179,244)"
             ]
            ],
            "type": "histogram2dcontour"
           }
          ],
          "mesh3d": [
           {
            "colorbar": {
             "outlinewidth": 0,
             "tickcolor": "rgb(237,237,237)",
             "ticklen": 6,
             "ticks": "inside"
            },
            "type": "mesh3d"
           }
          ],
          "parcoords": [
           {
            "line": {
             "colorbar": {
              "outlinewidth": 0,
              "tickcolor": "rgb(237,237,237)",
              "ticklen": 6,
              "ticks": "inside"
             }
            },
            "type": "parcoords"
           }
          ],
          "pie": [
           {
            "automargin": true,
            "type": "pie"
           }
          ],
          "scatter": [
           {
            "marker": {
             "colorbar": {
              "outlinewidth": 0,
              "tickcolor": "rgb(237,237,237)",
              "ticklen": 6,
              "ticks": "inside"
             }
            },
            "type": "scatter"
           }
          ],
          "scatter3d": [
           {
            "line": {
             "colorbar": {
              "outlinewidth": 0,
              "tickcolor": "rgb(237,237,237)",
              "ticklen": 6,
              "ticks": "inside"
             }
            },
            "marker": {
             "colorbar": {
              "outlinewidth": 0,
              "tickcolor": "rgb(237,237,237)",
              "ticklen": 6,
              "ticks": "inside"
             }
            },
            "type": "scatter3d"
           }
          ],
          "scattercarpet": [
           {
            "marker": {
             "colorbar": {
              "outlinewidth": 0,
              "tickcolor": "rgb(237,237,237)",
              "ticklen": 6,
              "ticks": "inside"
             }
            },
            "type": "scattercarpet"
           }
          ],
          "scattergeo": [
           {
            "marker": {
             "colorbar": {
              "outlinewidth": 0,
              "tickcolor": "rgb(237,237,237)",
              "ticklen": 6,
              "ticks": "inside"
             }
            },
            "type": "scattergeo"
           }
          ],
          "scattergl": [
           {
            "marker": {
             "colorbar": {
              "outlinewidth": 0,
              "tickcolor": "rgb(237,237,237)",
              "ticklen": 6,
              "ticks": "inside"
             }
            },
            "type": "scattergl"
           }
          ],
          "scattermapbox": [
           {
            "marker": {
             "colorbar": {
              "outlinewidth": 0,
              "tickcolor": "rgb(237,237,237)",
              "ticklen": 6,
              "ticks": "inside"
             }
            },
            "type": "scattermapbox"
           }
          ],
          "scatterpolar": [
           {
            "marker": {
             "colorbar": {
              "outlinewidth": 0,
              "tickcolor": "rgb(237,237,237)",
              "ticklen": 6,
              "ticks": "inside"
             }
            },
            "type": "scatterpolar"
           }
          ],
          "scatterpolargl": [
           {
            "marker": {
             "colorbar": {
              "outlinewidth": 0,
              "tickcolor": "rgb(237,237,237)",
              "ticklen": 6,
              "ticks": "inside"
             }
            },
            "type": "scatterpolargl"
           }
          ],
          "scatterternary": [
           {
            "marker": {
             "colorbar": {
              "outlinewidth": 0,
              "tickcolor": "rgb(237,237,237)",
              "ticklen": 6,
              "ticks": "inside"
             }
            },
            "type": "scatterternary"
           }
          ],
          "surface": [
           {
            "colorbar": {
             "outlinewidth": 0,
             "tickcolor": "rgb(237,237,237)",
             "ticklen": 6,
             "ticks": "inside"
            },
            "colorscale": [
             [
              0,
              "rgb(20,44,66)"
             ],
             [
              1,
              "rgb(90,179,244)"
             ]
            ],
            "type": "surface"
           }
          ],
          "table": [
           {
            "cells": {
             "fill": {
              "color": "rgb(237,237,237)"
             },
             "line": {
              "color": "white"
             }
            },
            "header": {
             "fill": {
              "color": "rgb(217,217,217)"
             },
             "line": {
              "color": "white"
             }
            },
            "type": "table"
           }
          ]
         },
         "layout": {
          "annotationdefaults": {
           "arrowhead": 0,
           "arrowwidth": 1
          },
          "autotypenumbers": "strict",
          "coloraxis": {
           "colorbar": {
            "outlinewidth": 0,
            "tickcolor": "rgb(237,237,237)",
            "ticklen": 6,
            "ticks": "inside"
           }
          },
          "colorscale": {
           "sequential": [
            [
             0,
             "rgb(20,44,66)"
            ],
            [
             1,
             "rgb(90,179,244)"
            ]
           ],
           "sequentialminus": [
            [
             0,
             "rgb(20,44,66)"
            ],
            [
             1,
             "rgb(90,179,244)"
            ]
           ]
          },
          "colorway": [
           "#F8766D",
           "#A3A500",
           "#00BF7D",
           "#00B0F6",
           "#E76BF3"
          ],
          "font": {
           "color": "rgb(51,51,51)"
          },
          "geo": {
           "bgcolor": "white",
           "lakecolor": "white",
           "landcolor": "rgb(237,237,237)",
           "showlakes": true,
           "showland": true,
           "subunitcolor": "white"
          },
          "hoverlabel": {
           "align": "left"
          },
          "hovermode": "closest",
          "paper_bgcolor": "white",
          "plot_bgcolor": "rgb(237,237,237)",
          "polar": {
           "angularaxis": {
            "gridcolor": "white",
            "linecolor": "white",
            "showgrid": true,
            "tickcolor": "rgb(51,51,51)",
            "ticks": "outside"
           },
           "bgcolor": "rgb(237,237,237)",
           "radialaxis": {
            "gridcolor": "white",
            "linecolor": "white",
            "showgrid": true,
            "tickcolor": "rgb(51,51,51)",
            "ticks": "outside"
           }
          },
          "scene": {
           "xaxis": {
            "backgroundcolor": "rgb(237,237,237)",
            "gridcolor": "white",
            "gridwidth": 2,
            "linecolor": "white",
            "showbackground": true,
            "showgrid": true,
            "tickcolor": "rgb(51,51,51)",
            "ticks": "outside",
            "zerolinecolor": "white"
           },
           "yaxis": {
            "backgroundcolor": "rgb(237,237,237)",
            "gridcolor": "white",
            "gridwidth": 2,
            "linecolor": "white",
            "showbackground": true,
            "showgrid": true,
            "tickcolor": "rgb(51,51,51)",
            "ticks": "outside",
            "zerolinecolor": "white"
           },
           "zaxis": {
            "backgroundcolor": "rgb(237,237,237)",
            "gridcolor": "white",
            "gridwidth": 2,
            "linecolor": "white",
            "showbackground": true,
            "showgrid": true,
            "tickcolor": "rgb(51,51,51)",
            "ticks": "outside",
            "zerolinecolor": "white"
           }
          },
          "shapedefaults": {
           "fillcolor": "black",
           "line": {
            "width": 0
           },
           "opacity": 0.3
          },
          "ternary": {
           "aaxis": {
            "gridcolor": "white",
            "linecolor": "white",
            "showgrid": true,
            "tickcolor": "rgb(51,51,51)",
            "ticks": "outside"
           },
           "baxis": {
            "gridcolor": "white",
            "linecolor": "white",
            "showgrid": true,
            "tickcolor": "rgb(51,51,51)",
            "ticks": "outside"
           },
           "bgcolor": "rgb(237,237,237)",
           "caxis": {
            "gridcolor": "white",
            "linecolor": "white",
            "showgrid": true,
            "tickcolor": "rgb(51,51,51)",
            "ticks": "outside"
           }
          },
          "xaxis": {
           "automargin": true,
           "gridcolor": "white",
           "linecolor": "white",
           "showgrid": true,
           "tickcolor": "rgb(51,51,51)",
           "ticks": "outside",
           "title": {
            "standoff": 15
           },
           "zerolinecolor": "white"
          },
          "yaxis": {
           "automargin": true,
           "gridcolor": "white",
           "linecolor": "white",
           "showgrid": true,
           "tickcolor": "rgb(51,51,51)",
           "ticks": "outside",
           "title": {
            "standoff": 15
           },
           "zerolinecolor": "white"
          }
         }
        },
        "title": {
         "text": "percentage of corona positive who successfully recovered in each state"
        },
        "xaxis": {
         "anchor": "y",
         "domain": [
          0,
          1
         ],
         "title": {
          "text": "State"
         }
        },
        "yaxis": {
         "anchor": "x",
         "domain": [
          0,
          1
         ],
         "title": {
          "text": "percentage recovered"
         }
        }
       }
      },
      "text/html": [
       "<div>                            <div id=\"e75a16e9-e284-4182-85a8-3d1228ae3bac\" class=\"plotly-graph-div\" style=\"height:525px; width:100%;\"></div>            <script type=\"text/javascript\">                require([\"plotly\"], function(Plotly) {                    window.PLOTLYENV=window.PLOTLYENV || {};                                    if (document.getElementById(\"e75a16e9-e284-4182-85a8-3d1228ae3bac\")) {                    Plotly.newPlot(                        \"e75a16e9-e284-4182-85a8-3d1228ae3bac\",                        [{\"alignmentgroup\":\"True\",\"hovertemplate\":\"State=%{x}<br>percentage recovered=%{marker.color}<extra></extra>\",\"legendgroup\":\"\",\"marker\":{\"color\":[84.67,84.72,87.67,88.59,88.7,89.25,90.12,90.23,90.74,90.8,90.98,91.07,91.33,91.46,91.53,91.64999999999999,91.78,91.84,91.85,92.0,92.36999999999999,92.55,92.65,92.86,92.86999999999999,93.04,93.16,93.60000000000001,93.71000000000001,93.83,93.88,94.01,94.23,94.89,95.24000000000001],\"coloraxis\":\"coloraxis\",\"pattern\":{\"shape\":\"\"}},\"name\":\"\",\"offsetgroup\":\"\",\"orientation\":\"v\",\"showlegend\":false,\"textposition\":\"auto\",\"type\":\"bar\",\"x\":[\"Mizoram\",\"Sikkim\",\"Nagaland\",\"Uttarakhand\",\"Meghalaya\",\"Manipur\",\"Karnataka\",\"Maharashtra\",\"Himachal Pradesh\",\"Punjab\",\"Jammu and Kashmir\",\"Kerala\",\"Lakshadweep\",\"Pondicherry\",\"Goa\",\"Gujarat\",\"Arunachal Pradesh\",\"Chhattisgarh\",\"Rajasthan\",\"Tripura\",\"Assam\",\"Chandigarh\",\"Uttar Pradesh\",\"Madhya Pradesh\",\"Jharkhand\",\"Tamil Nadu\",\"Telangana\",\"West Bengal\",\"Haryana\",\"Orissa\",\"Dadra and Nagar Haveli\",\"Andhra Pradesh\",\"Bihar\",\"Delhi\",\"Andaman and Nicobar Islands\"],\"xaxis\":\"x\",\"y\":[84.67,84.72,87.67,88.59,88.7,89.25,90.12,90.23,90.74,90.8,90.98,91.07,91.33,91.46,91.53,91.64999999999999,91.78,91.84,91.85,92.0,92.36999999999999,92.55,92.65,92.86,92.86999999999999,93.04,93.16,93.60000000000001,93.71000000000001,93.83,93.88,94.01,94.23,94.89,95.24000000000001],\"yaxis\":\"y\"}],                        {\"barmode\":\"relative\",\"coloraxis\":{\"colorbar\":{\"title\":{\"text\":\"percentage recovered\"}},\"colorscale\":[[0.0,\"rgb(20,44,66)\"],[1.0,\"rgb(90,179,244)\"]]},\"legend\":{\"tracegroupgap\":0},\"template\":{\"data\":{\"bar\":[{\"error_x\":{\"color\":\"rgb(51,51,51)\"},\"error_y\":{\"color\":\"rgb(51,51,51)\"},\"marker\":{\"line\":{\"color\":\"rgb(237,237,237)\",\"width\":0.5},\"pattern\":{\"fillmode\":\"overlay\",\"size\":10,\"solidity\":0.2}},\"type\":\"bar\"}],\"barpolar\":[{\"marker\":{\"line\":{\"color\":\"rgb(237,237,237)\",\"width\":0.5},\"pattern\":{\"fillmode\":\"overlay\",\"size\":10,\"solidity\":0.2}},\"type\":\"barpolar\"}],\"carpet\":[{\"aaxis\":{\"endlinecolor\":\"rgb(51,51,51)\",\"gridcolor\":\"white\",\"linecolor\":\"white\",\"minorgridcolor\":\"white\",\"startlinecolor\":\"rgb(51,51,51)\"},\"baxis\":{\"endlinecolor\":\"rgb(51,51,51)\",\"gridcolor\":\"white\",\"linecolor\":\"white\",\"minorgridcolor\":\"white\",\"startlinecolor\":\"rgb(51,51,51)\"},\"type\":\"carpet\"}],\"choropleth\":[{\"colorbar\":{\"outlinewidth\":0,\"tickcolor\":\"rgb(237,237,237)\",\"ticklen\":6,\"ticks\":\"inside\"},\"type\":\"choropleth\"}],\"contour\":[{\"colorbar\":{\"outlinewidth\":0,\"tickcolor\":\"rgb(237,237,237)\",\"ticklen\":6,\"ticks\":\"inside\"},\"colorscale\":[[0,\"rgb(20,44,66)\"],[1,\"rgb(90,179,244)\"]],\"type\":\"contour\"}],\"contourcarpet\":[{\"colorbar\":{\"outlinewidth\":0,\"tickcolor\":\"rgb(237,237,237)\",\"ticklen\":6,\"ticks\":\"inside\"},\"type\":\"contourcarpet\"}],\"heatmap\":[{\"colorbar\":{\"outlinewidth\":0,\"tickcolor\":\"rgb(237,237,237)\",\"ticklen\":6,\"ticks\":\"inside\"},\"colorscale\":[[0,\"rgb(20,44,66)\"],[1,\"rgb(90,179,244)\"]],\"type\":\"heatmap\"}],\"heatmapgl\":[{\"colorbar\":{\"outlinewidth\":0,\"tickcolor\":\"rgb(237,237,237)\",\"ticklen\":6,\"ticks\":\"inside\"},\"colorscale\":[[0,\"rgb(20,44,66)\"],[1,\"rgb(90,179,244)\"]],\"type\":\"heatmapgl\"}],\"histogram\":[{\"marker\":{\"pattern\":{\"fillmode\":\"overlay\",\"size\":10,\"solidity\":0.2}},\"type\":\"histogram\"}],\"histogram2d\":[{\"colorbar\":{\"outlinewidth\":0,\"tickcolor\":\"rgb(237,237,237)\",\"ticklen\":6,\"ticks\":\"inside\"},\"colorscale\":[[0,\"rgb(20,44,66)\"],[1,\"rgb(90,179,244)\"]],\"type\":\"histogram2d\"}],\"histogram2dcontour\":[{\"colorbar\":{\"outlinewidth\":0,\"tickcolor\":\"rgb(237,237,237)\",\"ticklen\":6,\"ticks\":\"inside\"},\"colorscale\":[[0,\"rgb(20,44,66)\"],[1,\"rgb(90,179,244)\"]],\"type\":\"histogram2dcontour\"}],\"mesh3d\":[{\"colorbar\":{\"outlinewidth\":0,\"tickcolor\":\"rgb(237,237,237)\",\"ticklen\":6,\"ticks\":\"inside\"},\"type\":\"mesh3d\"}],\"parcoords\":[{\"line\":{\"colorbar\":{\"outlinewidth\":0,\"tickcolor\":\"rgb(237,237,237)\",\"ticklen\":6,\"ticks\":\"inside\"}},\"type\":\"parcoords\"}],\"pie\":[{\"automargin\":true,\"type\":\"pie\"}],\"scatter\":[{\"marker\":{\"colorbar\":{\"outlinewidth\":0,\"tickcolor\":\"rgb(237,237,237)\",\"ticklen\":6,\"ticks\":\"inside\"}},\"type\":\"scatter\"}],\"scatter3d\":[{\"line\":{\"colorbar\":{\"outlinewidth\":0,\"tickcolor\":\"rgb(237,237,237)\",\"ticklen\":6,\"ticks\":\"inside\"}},\"marker\":{\"colorbar\":{\"outlinewidth\":0,\"tickcolor\":\"rgb(237,237,237)\",\"ticklen\":6,\"ticks\":\"inside\"}},\"type\":\"scatter3d\"}],\"scattercarpet\":[{\"marker\":{\"colorbar\":{\"outlinewidth\":0,\"tickcolor\":\"rgb(237,237,237)\",\"ticklen\":6,\"ticks\":\"inside\"}},\"type\":\"scattercarpet\"}],\"scattergeo\":[{\"marker\":{\"colorbar\":{\"outlinewidth\":0,\"tickcolor\":\"rgb(237,237,237)\",\"ticklen\":6,\"ticks\":\"inside\"}},\"type\":\"scattergeo\"}],\"scattergl\":[{\"marker\":{\"colorbar\":{\"outlinewidth\":0,\"tickcolor\":\"rgb(237,237,237)\",\"ticklen\":6,\"ticks\":\"inside\"}},\"type\":\"scattergl\"}],\"scattermapbox\":[{\"marker\":{\"colorbar\":{\"outlinewidth\":0,\"tickcolor\":\"rgb(237,237,237)\",\"ticklen\":6,\"ticks\":\"inside\"}},\"type\":\"scattermapbox\"}],\"scatterpolar\":[{\"marker\":{\"colorbar\":{\"outlinewidth\":0,\"tickcolor\":\"rgb(237,237,237)\",\"ticklen\":6,\"ticks\":\"inside\"}},\"type\":\"scatterpolar\"}],\"scatterpolargl\":[{\"marker\":{\"colorbar\":{\"outlinewidth\":0,\"tickcolor\":\"rgb(237,237,237)\",\"ticklen\":6,\"ticks\":\"inside\"}},\"type\":\"scatterpolargl\"}],\"scatterternary\":[{\"marker\":{\"colorbar\":{\"outlinewidth\":0,\"tickcolor\":\"rgb(237,237,237)\",\"ticklen\":6,\"ticks\":\"inside\"}},\"type\":\"scatterternary\"}],\"surface\":[{\"colorbar\":{\"outlinewidth\":0,\"tickcolor\":\"rgb(237,237,237)\",\"ticklen\":6,\"ticks\":\"inside\"},\"colorscale\":[[0,\"rgb(20,44,66)\"],[1,\"rgb(90,179,244)\"]],\"type\":\"surface\"}],\"table\":[{\"cells\":{\"fill\":{\"color\":\"rgb(237,237,237)\"},\"line\":{\"color\":\"white\"}},\"header\":{\"fill\":{\"color\":\"rgb(217,217,217)\"},\"line\":{\"color\":\"white\"}},\"type\":\"table\"}]},\"layout\":{\"annotationdefaults\":{\"arrowhead\":0,\"arrowwidth\":1},\"autotypenumbers\":\"strict\",\"coloraxis\":{\"colorbar\":{\"outlinewidth\":0,\"tickcolor\":\"rgb(237,237,237)\",\"ticklen\":6,\"ticks\":\"inside\"}},\"colorscale\":{\"sequential\":[[0,\"rgb(20,44,66)\"],[1,\"rgb(90,179,244)\"]],\"sequentialminus\":[[0,\"rgb(20,44,66)\"],[1,\"rgb(90,179,244)\"]]},\"colorway\":[\"#F8766D\",\"#A3A500\",\"#00BF7D\",\"#00B0F6\",\"#E76BF3\"],\"font\":{\"color\":\"rgb(51,51,51)\"},\"geo\":{\"bgcolor\":\"white\",\"lakecolor\":\"white\",\"landcolor\":\"rgb(237,237,237)\",\"showlakes\":true,\"showland\":true,\"subunitcolor\":\"white\"},\"hoverlabel\":{\"align\":\"left\"},\"hovermode\":\"closest\",\"paper_bgcolor\":\"white\",\"plot_bgcolor\":\"rgb(237,237,237)\",\"polar\":{\"angularaxis\":{\"gridcolor\":\"white\",\"linecolor\":\"white\",\"showgrid\":true,\"tickcolor\":\"rgb(51,51,51)\",\"ticks\":\"outside\"},\"bgcolor\":\"rgb(237,237,237)\",\"radialaxis\":{\"gridcolor\":\"white\",\"linecolor\":\"white\",\"showgrid\":true,\"tickcolor\":\"rgb(51,51,51)\",\"ticks\":\"outside\"}},\"scene\":{\"xaxis\":{\"backgroundcolor\":\"rgb(237,237,237)\",\"gridcolor\":\"white\",\"gridwidth\":2,\"linecolor\":\"white\",\"showbackground\":true,\"showgrid\":true,\"tickcolor\":\"rgb(51,51,51)\",\"ticks\":\"outside\",\"zerolinecolor\":\"white\"},\"yaxis\":{\"backgroundcolor\":\"rgb(237,237,237)\",\"gridcolor\":\"white\",\"gridwidth\":2,\"linecolor\":\"white\",\"showbackground\":true,\"showgrid\":true,\"tickcolor\":\"rgb(51,51,51)\",\"ticks\":\"outside\",\"zerolinecolor\":\"white\"},\"zaxis\":{\"backgroundcolor\":\"rgb(237,237,237)\",\"gridcolor\":\"white\",\"gridwidth\":2,\"linecolor\":\"white\",\"showbackground\":true,\"showgrid\":true,\"tickcolor\":\"rgb(51,51,51)\",\"ticks\":\"outside\",\"zerolinecolor\":\"white\"}},\"shapedefaults\":{\"fillcolor\":\"black\",\"line\":{\"width\":0},\"opacity\":0.3},\"ternary\":{\"aaxis\":{\"gridcolor\":\"white\",\"linecolor\":\"white\",\"showgrid\":true,\"tickcolor\":\"rgb(51,51,51)\",\"ticks\":\"outside\"},\"baxis\":{\"gridcolor\":\"white\",\"linecolor\":\"white\",\"showgrid\":true,\"tickcolor\":\"rgb(51,51,51)\",\"ticks\":\"outside\"},\"bgcolor\":\"rgb(237,237,237)\",\"caxis\":{\"gridcolor\":\"white\",\"linecolor\":\"white\",\"showgrid\":true,\"tickcolor\":\"rgb(51,51,51)\",\"ticks\":\"outside\"}},\"xaxis\":{\"automargin\":true,\"gridcolor\":\"white\",\"linecolor\":\"white\",\"showgrid\":true,\"tickcolor\":\"rgb(51,51,51)\",\"ticks\":\"outside\",\"title\":{\"standoff\":15},\"zerolinecolor\":\"white\"},\"yaxis\":{\"automargin\":true,\"gridcolor\":\"white\",\"linecolor\":\"white\",\"showgrid\":true,\"tickcolor\":\"rgb(51,51,51)\",\"ticks\":\"outside\",\"title\":{\"standoff\":15},\"zerolinecolor\":\"white\"}}},\"title\":{\"text\":\"percentage of corona positive who successfully recovered in each state\"},\"xaxis\":{\"anchor\":\"y\",\"domain\":[0.0,1.0],\"title\":{\"text\":\"State\"}},\"yaxis\":{\"anchor\":\"x\",\"domain\":[0.0,1.0],\"title\":{\"text\":\"percentage recovered\"}}},                        {\"responsive\": true}                    ).then(function(){\n",
       "                            \n",
       "var gd = document.getElementById('e75a16e9-e284-4182-85a8-3d1228ae3bac');\n",
       "var x = new MutationObserver(function (mutations, observer) {{\n",
       "        var display = window.getComputedStyle(gd).display;\n",
       "        if (!display || display === 'none') {{\n",
       "            console.log([gd, 'removed!']);\n",
       "            Plotly.purge(gd);\n",
       "            observer.disconnect();\n",
       "        }}\n",
       "}});\n",
       "\n",
       "// Listen for the removal of the full notebook cells\n",
       "var notebookContainer = gd.closest('#notebook-container');\n",
       "if (notebookContainer) {{\n",
       "    x.observe(notebookContainer, {childList: true});\n",
       "}}\n",
       "\n",
       "// Listen for the clearing of the current output cell\n",
       "var outputEl = gd.closest('.output');\n",
       "if (outputEl) {{\n",
       "    x.observe(outputEl, {childList: true});\n",
       "}}\n",
       "\n",
       "                        })                };                });            </script>        </div>"
      ]
     },
     "metadata": {},
     "output_type": "display_data"
    }
   ],
   "source": [
    "fig = px.bar(plot_recovered_per, x='State',y='percentage recovered',color='percentage recovered',\n",
    "            title='percentage of corona positive who successfully recovered in each state',template='ggplot2')\n",
    "\n",
    "fig.show()"
   ]
  },
  {
   "cell_type": "code",
   "execution_count": 44,
   "id": "9bfe1805",
   "metadata": {},
   "outputs": [],
   "source": [
    "def sort_impact(x):\n",
    "    if x <= 0.05:\n",
    "        return 'impacted States'\n",
    "    elif x <= 0.2:\n",
    "        return 'hard impacted States'\n",
    "    elif x <= 0.3:\n",
    "        return 'harder impacted States'\n",
    "    elif x <= 0.4:\n",
    "        return 'hardest impacted States'\n",
    "    return x  "
   ]
  },
  {
   "cell_type": "code",
   "execution_count": 49,
   "id": "d3da7d85",
   "metadata": {},
   "outputs": [],
   "source": [
    "plot_positive['impact status'] = plot_positive['percentage tested positive'].apply(lambda x:sort_impact(x))\n",
    "plot_deceased['impact status'] = plot_deceased['percentage died'].apply(lambda x:sort_impact(x))\n",
    "plot_recovered['impact status'] = plot_recovered['percentage recovered'].apply(lambda x:sort_impact(x))"
   ]
  },
  {
   "cell_type": "code",
   "execution_count": 50,
   "id": "ff368362",
   "metadata": {},
   "outputs": [
    {
     "data": {
      "image/svg+xml": [
       "<svg class=\"main-svg\" xmlns=\"http://www.w3.org/2000/svg\" xmlns:xlink=\"http://www.w3.org/1999/xlink\" width=\"700\" height=\"650\" style=\"\" viewBox=\"0 0 700 650\"><rect x=\"0\" y=\"0\" width=\"700\" height=\"650\" style=\"fill: rgb(255, 255, 255); fill-opacity: 1;\"/><defs id=\"defs-be8e87\"><g class=\"clips\"><clipPath id=\"clipbe8e87xyplot\" class=\"plotclip\"><rect width=\"376\" height=\"470\"/></clipPath><clipPath class=\"axesclip\" id=\"clipbe8e87x\"><rect x=\"189\" y=\"0\" width=\"376\" height=\"650\"/></clipPath><clipPath class=\"axesclip\" id=\"clipbe8e87y\"><rect x=\"0\" y=\"100\" width=\"700\" height=\"470\"/></clipPath><clipPath class=\"axesclip\" id=\"clipbe8e87xy\"><rect x=\"189\" y=\"100\" width=\"376\" height=\"470\"/></clipPath></g><g class=\"gradients\"><linearGradient x1=\"0\" x2=\"0\" y1=\"1\" y2=\"0\" id=\"gbe8e87-cbcoloraxis\"><stop offset=\"0%\" stop-color=\"rgb(20, 44, 66)\" stop-opacity=\"1\"/><stop offset=\"100%\" stop-color=\"rgb(90, 179, 244)\" stop-opacity=\"1\"/></linearGradient></g><g class=\"patterns\"/></defs><g class=\"bglayer\"><rect class=\"bg\" x=\"189\" y=\"100\" width=\"376\" height=\"470\" style=\"fill: rgb(237, 237, 237); fill-opacity: 1; stroke-width: 0;\"/></g><g class=\"layer-below\"><g class=\"imagelayer\"/><g class=\"shapelayer\"/></g><g class=\"cartesianlayer\"><g class=\"subplot xy\"><g class=\"layer-subplot\"><g class=\"shapelayer\"/><g class=\"imagelayer\"/></g><g class=\"gridlayer\"><g class=\"x\"><path class=\"xgrid crisp\" transform=\"translate(303.40999999999997,0)\" d=\"M0,100v470\" style=\"stroke: rgb(255, 255, 255); stroke-opacity: 1; stroke-width: 1px;\"/><path class=\"xgrid crisp\" transform=\"translate(417.83000000000004,0)\" d=\"M0,100v470\" style=\"stroke: rgb(255, 255, 255); stroke-opacity: 1; stroke-width: 1px;\"/><path class=\"xgrid crisp\" transform=\"translate(532.24,0)\" d=\"M0,100v470\" style=\"stroke: rgb(255, 255, 255); stroke-opacity: 1; stroke-width: 1px;\"/></g><g class=\"y\"><path class=\"ygrid crisp\" transform=\"translate(0,563.29)\" d=\"M189,0h376\" style=\"stroke: rgb(255, 255, 255); stroke-opacity: 1; stroke-width: 1px;\"/><path class=\"ygrid crisp\" transform=\"translate(0,536.4300000000001)\" d=\"M189,0h376\" style=\"stroke: rgb(255, 255, 255); stroke-opacity: 1; stroke-width: 1px;\"/><path class=\"ygrid crisp\" transform=\"translate(0,509.57)\" d=\"M189,0h376\" style=\"stroke: rgb(255, 255, 255); stroke-opacity: 1; stroke-width: 1px;\"/><path class=\"ygrid crisp\" transform=\"translate(0,482.71)\" d=\"M189,0h376\" style=\"stroke: rgb(255, 255, 255); stroke-opacity: 1; stroke-width: 1px;\"/><path class=\"ygrid crisp\" transform=\"translate(0,455.86)\" d=\"M189,0h376\" style=\"stroke: rgb(255, 255, 255); stroke-opacity: 1; stroke-width: 1px;\"/><path class=\"ygrid crisp\" transform=\"translate(0,429)\" d=\"M189,0h376\" style=\"stroke: rgb(255, 255, 255); stroke-opacity: 1; stroke-width: 1px;\"/><path class=\"ygrid crisp\" transform=\"translate(0,402.14)\" d=\"M189,0h376\" style=\"stroke: rgb(255, 255, 255); stroke-opacity: 1; stroke-width: 1px;\"/><path class=\"ygrid crisp\" transform=\"translate(0,375.29)\" d=\"M189,0h376\" style=\"stroke: rgb(255, 255, 255); stroke-opacity: 1; stroke-width: 1px;\"/><path class=\"ygrid crisp\" transform=\"translate(0,348.43)\" d=\"M189,0h376\" style=\"stroke: rgb(255, 255, 255); stroke-opacity: 1; stroke-width: 1px;\"/><path class=\"ygrid crisp\" transform=\"translate(0,321.57)\" d=\"M189,0h376\" style=\"stroke: rgb(255, 255, 255); stroke-opacity: 1; stroke-width: 1px;\"/><path class=\"ygrid crisp\" transform=\"translate(0,294.71000000000004)\" d=\"M189,0h376\" style=\"stroke: rgb(255, 255, 255); stroke-opacity: 1; stroke-width: 1px;\"/><path class=\"ygrid crisp\" transform=\"translate(0,267.86)\" d=\"M189,0h376\" style=\"stroke: rgb(255, 255, 255); stroke-opacity: 1; stroke-width: 1px;\"/><path class=\"ygrid crisp\" transform=\"translate(0,241)\" d=\"M189,0h376\" style=\"stroke: rgb(255, 255, 255); stroke-opacity: 1; stroke-width: 1px;\"/><path class=\"ygrid crisp\" transform=\"translate(0,214.14)\" d=\"M189,0h376\" style=\"stroke: rgb(255, 255, 255); stroke-opacity: 1; stroke-width: 1px;\"/><path class=\"ygrid crisp\" transform=\"translate(0,187.29000000000002)\" d=\"M189,0h376\" style=\"stroke: rgb(255, 255, 255); stroke-opacity: 1; stroke-width: 1px;\"/><path class=\"ygrid crisp\" transform=\"translate(0,160.43)\" d=\"M189,0h376\" style=\"stroke: rgb(255, 255, 255); stroke-opacity: 1; stroke-width: 1px;\"/><path class=\"ygrid crisp\" transform=\"translate(0,133.57)\" d=\"M189,0h376\" style=\"stroke: rgb(255, 255, 255); stroke-opacity: 1; stroke-width: 1px;\"/><path class=\"ygrid crisp\" transform=\"translate(0,106.71)\" d=\"M189,0h376\" style=\"stroke: rgb(255, 255, 255); stroke-opacity: 1; stroke-width: 1px;\"/></g></g><g class=\"zerolinelayer\"><path class=\"xzl zl crisp\" transform=\"translate(189,0)\" d=\"M0,100v470\" style=\"stroke: rgb(255, 255, 255); stroke-opacity: 1; stroke-width: 1px;\"/></g><path class=\"xlines-below\"/><path class=\"ylines-below\"/><g class=\"overlines-below\"/><g class=\"xaxislayer-below\"/><g class=\"yaxislayer-below\"/><g class=\"overaxes-below\"/><g class=\"plot\" transform=\"translate(189,100)\" clip-path=\"url(#clipbe8e87xyplot)\"><g class=\"barlayer mlayer\"><g class=\"trace bars\" style=\"opacity: 1;\"><g class=\"points\"><g class=\"point\"><path d=\"M0,468.66V457.91H157.66V468.66Z\" style=\"vector-effect: non-scaling-stroke; opacity: 1; stroke-width: 0.5px; fill: rgb(46, 94, 132); fill-opacity: 1; stroke: rgb(237, 237, 237); stroke-opacity: 1;\"/></g><g class=\"point\"><path d=\"M0,455.23V444.49H51.94V455.23Z\" style=\"vector-effect: non-scaling-stroke; opacity: 1; stroke-width: 0.5px; fill: rgb(22, 49, 72); fill-opacity: 1; stroke: rgb(237, 237, 237); stroke-opacity: 1;\"/></g><g class=\"point\"><path d=\"M0,441.8V431.06H211.21V441.8Z\" style=\"vector-effect: non-scaling-stroke; opacity: 1; stroke-width: 0.5px; fill: rgb(58, 117, 162); fill-opacity: 1; stroke: rgb(237, 237, 237); stroke-opacity: 1;\"/></g><g class=\"point\"><path d=\"M0,428.37V417.63H154.46V428.37Z\" style=\"vector-effect: non-scaling-stroke; opacity: 1; stroke-width: 0.5px; fill: rgb(45, 92, 130); fill-opacity: 1; stroke: rgb(237, 237, 237); stroke-opacity: 1;\"/></g><g class=\"point\"><path d=\"M0,414.94V404.2H65.9V414.94Z\" style=\"vector-effect: non-scaling-stroke; opacity: 1; stroke-width: 0.5px; fill: rgb(25, 55, 80); fill-opacity: 1; stroke: rgb(237, 237, 237); stroke-opacity: 1;\"/></g><g class=\"point\"><path d=\"M0,401.51V390.77H222.19V401.51Z\" style=\"vector-effect: non-scaling-stroke; opacity: 1; stroke-width: 0.5px; fill: rgb(60, 121, 168); fill-opacity: 1; stroke: rgb(237, 237, 237); stroke-opacity: 1;\"/></g><g class=\"point\"><path d=\"M0,388.09V377.34H113.73V388.09Z\" style=\"vector-effect: non-scaling-stroke; opacity: 1; stroke-width: 0.5px; fill: rgb(36, 75, 107); fill-opacity: 1; stroke: rgb(237, 237, 237); stroke-opacity: 1;\"/></g><g class=\"point\"><path d=\"M0,374.66V363.91H98.4V374.66Z\" style=\"vector-effect: non-scaling-stroke; opacity: 1; stroke-width: 0.5px; fill: rgb(33, 68, 98); fill-opacity: 1; stroke: rgb(237, 237, 237); stroke-opacity: 1;\"/></g><g class=\"point\"><path d=\"M0,361.23V350.49H245.53V361.23Z\" style=\"vector-effect: non-scaling-stroke; opacity: 1; stroke-width: 0.5px; fill: rgb(65, 131, 181); fill-opacity: 1; stroke: rgb(237, 237, 237); stroke-opacity: 1;\"/></g><g class=\"point\"><path d=\"M0,347.8V337.06H138.44V347.8Z\" style=\"vector-effect: non-scaling-stroke; opacity: 1; stroke-width: 0.5px; fill: rgb(42, 86, 121); fill-opacity: 1; stroke: rgb(237, 237, 237); stroke-opacity: 1;\"/></g><g class=\"point\"><path d=\"M0,334.37V323.63H123.34V334.37Z\" style=\"vector-effect: non-scaling-stroke; opacity: 1; stroke-width: 0.5px; fill: rgb(38, 79, 112); fill-opacity: 1; stroke: rgb(237, 237, 237); stroke-opacity: 1;\"/></g><g class=\"point\"><path d=\"M0,320.94V310.2H193.36V320.94Z\" style=\"vector-effect: non-scaling-stroke; opacity: 1; stroke-width: 0.5px; fill: rgb(54, 109, 152); fill-opacity: 1; stroke: rgb(237, 237, 237); stroke-opacity: 1;\"/></g><g class=\"point\"><path d=\"M0,307.51V296.77H161.55V307.51Z\" style=\"vector-effect: non-scaling-stroke; opacity: 1; stroke-width: 0.5px; fill: rgb(47, 95, 134); fill-opacity: 1; stroke: rgb(237, 237, 237); stroke-opacity: 1;\"/></g><g class=\"point\"><path d=\"M0,294.09V283.34H323.79V294.09Z\" style=\"vector-effect: non-scaling-stroke; opacity: 1; stroke-width: 0.5px; fill: rgb(83, 165, 225); fill-opacity: 1; stroke: rgb(237, 237, 237); stroke-opacity: 1;\"/></g><g class=\"point\"><path d=\"M0,280.66V269.91H124.25V280.66Z\" style=\"vector-effect: non-scaling-stroke; opacity: 1; stroke-width: 0.5px; fill: rgb(38, 79, 113); fill-opacity: 1; stroke: rgb(237, 237, 237); stroke-opacity: 1;\"/></g><g class=\"point\"><path d=\"M0,267.23V256.49H68.42V267.23Z\" style=\"vector-effect: non-scaling-stroke; opacity: 1; stroke-width: 0.5px; fill: rgb(26, 56, 81); fill-opacity: 1; stroke: rgb(237, 237, 237); stroke-opacity: 1;\"/></g><g class=\"point\"><path d=\"M0,253.8V243.06H69.11V253.8Z\" style=\"vector-effect: non-scaling-stroke; opacity: 1; stroke-width: 0.5px; fill: rgb(26, 56, 82); fill-opacity: 1; stroke: rgb(237, 237, 237); stroke-opacity: 1;\"/></g><g class=\"point\"><path d=\"M0,240.37V229.63H112.81V240.37Z\" style=\"vector-effect: non-scaling-stroke; opacity: 1; stroke-width: 0.5px; fill: rgb(36, 75, 106); fill-opacity: 1; stroke: rgb(237, 237, 237); stroke-opacity: 1;\"/></g><g class=\"point\"><path d=\"M0,226.94V216.2H81.46V226.94Z\" style=\"vector-effect: non-scaling-stroke; opacity: 1; stroke-width: 0.5px; fill: rgb(29, 61, 89); fill-opacity: 1; stroke: rgb(237, 237, 237); stroke-opacity: 1;\"/></g><g class=\"point\"><path d=\"M0,213.51V202.77H41.19V213.51Z\" style=\"vector-effect: non-scaling-stroke; opacity: 1; stroke-width: 0.5px; fill: rgb(20, 44, 66); fill-opacity: 1; stroke: rgb(237, 237, 237); stroke-opacity: 1;\"/></g><g class=\"point\"><path d=\"M0,200.09V189.34H148.28V200.09Z\" style=\"vector-effect: non-scaling-stroke; opacity: 1; stroke-width: 0.5px; fill: rgb(44, 90, 126); fill-opacity: 1; stroke: rgb(237, 237, 237); stroke-opacity: 1;\"/></g><g class=\"point\"><path d=\"M0,186.66V175.91H88.79V186.66Z\" style=\"vector-effect: non-scaling-stroke; opacity: 1; stroke-width: 0.5px; fill: rgb(31, 64, 93); fill-opacity: 1; stroke: rgb(237, 237, 237); stroke-opacity: 1;\"/></g><g class=\"point\"><path d=\"M0,173.23V162.49H137.3V173.23Z\" style=\"vector-effect: non-scaling-stroke; opacity: 1; stroke-width: 0.5px; fill: rgb(41, 85, 120); fill-opacity: 1; stroke: rgb(237, 237, 237); stroke-opacity: 1;\"/></g><g class=\"point\"><path d=\"M0,159.8V149.06H70.25V159.8Z\" style=\"vector-effect: non-scaling-stroke; opacity: 1; stroke-width: 0.5px; fill: rgb(26, 56, 82); fill-opacity: 1; stroke: rgb(237, 237, 237); stroke-opacity: 1;\"/></g><g class=\"point\"><path d=\"M0,146.37V135.63H121.97V146.37Z\" style=\"vector-effect: non-scaling-stroke; opacity: 1; stroke-width: 0.5px; fill: rgb(38, 79, 111); fill-opacity: 1; stroke: rgb(237, 237, 237); stroke-opacity: 1;\"/></g><g class=\"point\"><path d=\"M0,132.94V122.2H145.31V132.94Z\" style=\"vector-effect: non-scaling-stroke; opacity: 1; stroke-width: 0.5px; fill: rgb(43, 88, 125); fill-opacity: 1; stroke: rgb(237, 237, 237); stroke-opacity: 1;\"/></g><g class=\"point\"><path d=\"M0,119.51V108.77H201.37V119.51Z\" style=\"vector-effect: non-scaling-stroke; opacity: 1; stroke-width: 0.5px; fill: rgb(55, 112, 156); fill-opacity: 1; stroke: rgb(237, 237, 237); stroke-opacity: 1;\"/></g><g class=\"point\"><path d=\"M0,106.09V95.34H194.73V106.09Z\" style=\"vector-effect: non-scaling-stroke; opacity: 1; stroke-width: 0.5px; fill: rgb(54, 110, 152); fill-opacity: 1; stroke: rgb(237, 237, 237); stroke-opacity: 1;\"/></g><g class=\"point\"><path d=\"M0,92.66V81.91H154V92.66Z\" style=\"vector-effect: non-scaling-stroke; opacity: 1; stroke-width: 0.5px; fill: rgb(45, 92, 130); fill-opacity: 1; stroke: rgb(237, 237, 237); stroke-opacity: 1;\"/></g><g class=\"point\"><path d=\"M0,79.23V68.49H63.16V79.23Z\" style=\"vector-effect: non-scaling-stroke; opacity: 1; stroke-width: 0.5px; fill: rgb(25, 53, 78); fill-opacity: 1; stroke: rgb(237, 237, 237); stroke-opacity: 1;\"/></g><g class=\"point\"><path d=\"M0,65.8V55.06H180.55V65.8Z\" style=\"vector-effect: non-scaling-stroke; opacity: 1; stroke-width: 0.5px; fill: rgb(51, 104, 144); fill-opacity: 1; stroke: rgb(237, 237, 237); stroke-opacity: 1;\"/></g><g class=\"point\"><path d=\"M0,52.37V41.63H146.22V52.37Z\" style=\"vector-effect: non-scaling-stroke; opacity: 1; stroke-width: 0.5px; fill: rgb(43, 89, 125); fill-opacity: 1; stroke: rgb(237, 237, 237); stroke-opacity: 1;\"/></g><g class=\"point\"><path d=\"M0,38.94V28.2H240.96V38.94Z\" style=\"vector-effect: non-scaling-stroke; opacity: 1; stroke-width: 0.5px; fill: rgb(64, 129, 179); fill-opacity: 1; stroke: rgb(237, 237, 237); stroke-opacity: 1;\"/></g><g class=\"point\"><path d=\"M0,25.51V14.77H164.53V25.51Z\" style=\"vector-effect: non-scaling-stroke; opacity: 1; stroke-width: 0.5px; fill: rgb(47, 97, 135); fill-opacity: 1; stroke: rgb(237, 237, 237); stroke-opacity: 1;\"/></g><g class=\"point\"><path d=\"M0,12.09V1.34H357.2V12.09Z\" style=\"vector-effect: non-scaling-stroke; opacity: 1; stroke-width: 0.5px; fill: rgb(90, 179, 244); fill-opacity: 1; stroke: rgb(237, 237, 237); stroke-opacity: 1;\"/></g></g></g></g></g><g class=\"overplot\"/><path class=\"xlines-above crisp\" d=\"\" style=\"fill: none; stroke-width: 1px; stroke: rgb(0, 0, 0); stroke-opacity: 0;\"/><path class=\"ylines-above crisp\" d=\"\" style=\"fill: none; stroke-width: 1px; stroke: rgb(0, 0, 0); stroke-opacity: 0;\"/><g class=\"overlines-above\"/><g class=\"xaxislayer-above\"><path class=\"xtick ticks crisp\" d=\"M0,571v5\" transform=\"translate(189,0)\" style=\"stroke: rgb(51, 51, 51); stroke-opacity: 1; stroke-width: 1px;\"/><path class=\"xtick ticks crisp\" d=\"M0,571v5\" transform=\"translate(303.40999999999997,0)\" style=\"stroke: rgb(51, 51, 51); stroke-opacity: 1; stroke-width: 1px;\"/><path class=\"xtick ticks crisp\" d=\"M0,571v5\" transform=\"translate(417.83000000000004,0)\" style=\"stroke: rgb(51, 51, 51); stroke-opacity: 1; stroke-width: 1px;\"/><path class=\"xtick ticks crisp\" d=\"M0,571v5\" transform=\"translate(532.24,0)\" style=\"stroke: rgb(51, 51, 51); stroke-opacity: 1; stroke-width: 1px;\"/><g class=\"xtick\"><text text-anchor=\"middle\" x=\"0\" y=\"590.4\" transform=\"translate(189,0)\" style=\"font-family: 'Open Sans', verdana, arial, sans-serif; font-size: 12px; fill: rgb(51, 51, 51); fill-opacity: 1; white-space: pre; opacity: 1;\">0</text></g><g class=\"xtick\"><text text-anchor=\"middle\" x=\"0\" y=\"590.4\" style=\"font-family: 'Open Sans', verdana, arial, sans-serif; font-size: 12px; fill: rgb(51, 51, 51); fill-opacity: 1; white-space: pre; opacity: 1;\" transform=\"translate(303.40999999999997,0)\">5</text></g><g class=\"xtick\"><text text-anchor=\"middle\" x=\"0\" y=\"590.4\" style=\"font-family: 'Open Sans', verdana, arial, sans-serif; font-size: 12px; fill: rgb(51, 51, 51); fill-opacity: 1; white-space: pre; opacity: 1;\" transform=\"translate(417.83000000000004,0)\">10</text></g><g class=\"xtick\"><text text-anchor=\"middle\" x=\"0\" y=\"590.4\" style=\"font-family: 'Open Sans', verdana, arial, sans-serif; font-size: 12px; fill: rgb(51, 51, 51); fill-opacity: 1; white-space: pre; opacity: 1;\" transform=\"translate(532.24,0)\">15</text></g></g><g class=\"yaxislayer-above\"><path class=\"ytick ticks crisp\" d=\"M188,0h-5\" transform=\"translate(0,563.29)\" style=\"stroke: rgb(51, 51, 51); stroke-opacity: 1; stroke-width: 1px;\"/><path class=\"ytick ticks crisp\" d=\"M188,0h-5\" transform=\"translate(0,536.4300000000001)\" style=\"stroke: rgb(51, 51, 51); stroke-opacity: 1; stroke-width: 1px;\"/><path class=\"ytick ticks crisp\" d=\"M188,0h-5\" transform=\"translate(0,509.57)\" style=\"stroke: rgb(51, 51, 51); stroke-opacity: 1; stroke-width: 1px;\"/><path class=\"ytick ticks crisp\" d=\"M188,0h-5\" transform=\"translate(0,482.71)\" style=\"stroke: rgb(51, 51, 51); stroke-opacity: 1; stroke-width: 1px;\"/><path class=\"ytick ticks crisp\" d=\"M188,0h-5\" transform=\"translate(0,455.86)\" style=\"stroke: rgb(51, 51, 51); stroke-opacity: 1; stroke-width: 1px;\"/><path class=\"ytick ticks crisp\" d=\"M188,0h-5\" transform=\"translate(0,429)\" style=\"stroke: rgb(51, 51, 51); stroke-opacity: 1; stroke-width: 1px;\"/><path class=\"ytick ticks crisp\" d=\"M188,0h-5\" transform=\"translate(0,402.14)\" style=\"stroke: rgb(51, 51, 51); stroke-opacity: 1; stroke-width: 1px;\"/><path class=\"ytick ticks crisp\" d=\"M188,0h-5\" transform=\"translate(0,375.29)\" style=\"stroke: rgb(51, 51, 51); stroke-opacity: 1; stroke-width: 1px;\"/><path class=\"ytick ticks crisp\" d=\"M188,0h-5\" transform=\"translate(0,348.43)\" style=\"stroke: rgb(51, 51, 51); stroke-opacity: 1; stroke-width: 1px;\"/><path class=\"ytick ticks crisp\" d=\"M188,0h-5\" transform=\"translate(0,321.57)\" style=\"stroke: rgb(51, 51, 51); stroke-opacity: 1; stroke-width: 1px;\"/><path class=\"ytick ticks crisp\" d=\"M188,0h-5\" transform=\"translate(0,294.71000000000004)\" style=\"stroke: rgb(51, 51, 51); stroke-opacity: 1; stroke-width: 1px;\"/><path class=\"ytick ticks crisp\" d=\"M188,0h-5\" transform=\"translate(0,267.86)\" style=\"stroke: rgb(51, 51, 51); stroke-opacity: 1; stroke-width: 1px;\"/><path class=\"ytick ticks crisp\" d=\"M188,0h-5\" transform=\"translate(0,241)\" style=\"stroke: rgb(51, 51, 51); stroke-opacity: 1; stroke-width: 1px;\"/><path class=\"ytick ticks crisp\" d=\"M188,0h-5\" transform=\"translate(0,214.14)\" style=\"stroke: rgb(51, 51, 51); stroke-opacity: 1; stroke-width: 1px;\"/><path class=\"ytick ticks crisp\" d=\"M188,0h-5\" transform=\"translate(0,187.29000000000002)\" style=\"stroke: rgb(51, 51, 51); stroke-opacity: 1; stroke-width: 1px;\"/><path class=\"ytick ticks crisp\" d=\"M188,0h-5\" transform=\"translate(0,160.43)\" style=\"stroke: rgb(51, 51, 51); stroke-opacity: 1; stroke-width: 1px;\"/><path class=\"ytick ticks crisp\" d=\"M188,0h-5\" transform=\"translate(0,133.57)\" style=\"stroke: rgb(51, 51, 51); stroke-opacity: 1; stroke-width: 1px;\"/><path class=\"ytick ticks crisp\" d=\"M188,0h-5\" transform=\"translate(0,106.71)\" style=\"stroke: rgb(51, 51, 51); stroke-opacity: 1; stroke-width: 1px;\"/><g class=\"ytick\"><text text-anchor=\"end\" x=\"180.6\" y=\"4.199999999999999\" transform=\"translate(0,563.29)\" style=\"font-family: 'Open Sans', verdana, arial, sans-serif; font-size: 12px; fill: rgb(51, 51, 51); fill-opacity: 1; white-space: pre; opacity: 1;\">Dadra and Nagar Haveli</text></g><g class=\"ytick\"><text text-anchor=\"end\" x=\"180.6\" y=\"4.199999999999999\" transform=\"translate(0,536.4300000000001)\" style=\"font-family: 'Open Sans', verdana, arial, sans-serif; font-size: 12px; fill: rgb(51, 51, 51); fill-opacity: 1; white-space: pre; opacity: 1;\">Sikkim</text></g><g class=\"ytick\"><text text-anchor=\"end\" x=\"180.6\" y=\"4.199999999999999\" transform=\"translate(0,509.57)\" style=\"font-family: 'Open Sans', verdana, arial, sans-serif; font-size: 12px; fill: rgb(51, 51, 51); fill-opacity: 1; white-space: pre; opacity: 1;\">Mizoram</text></g><g class=\"ytick\"><text text-anchor=\"end\" x=\"180.6\" y=\"4.199999999999999\" transform=\"translate(0,482.71)\" style=\"font-family: 'Open Sans', verdana, arial, sans-serif; font-size: 12px; fill: rgb(51, 51, 51); fill-opacity: 1; white-space: pre; opacity: 1;\">Meghalaya</text></g><g class=\"ytick\"><text text-anchor=\"end\" x=\"180.6\" y=\"4.199999999999999\" transform=\"translate(0,455.86)\" style=\"font-family: 'Open Sans', verdana, arial, sans-serif; font-size: 12px; fill: rgb(51, 51, 51); fill-opacity: 1; white-space: pre; opacity: 1;\">Chandigarh</text></g><g class=\"ytick\"><text text-anchor=\"end\" x=\"180.6\" y=\"4.199999999999999\" transform=\"translate(0,429)\" style=\"font-family: 'Open Sans', verdana, arial, sans-serif; font-size: 12px; fill: rgb(51, 51, 51); fill-opacity: 1; white-space: pre; opacity: 1;\">Tripura</text></g><g class=\"ytick\"><text text-anchor=\"end\" x=\"180.6\" y=\"4.199999999999999\" transform=\"translate(0,402.14)\" style=\"font-family: 'Open Sans', verdana, arial, sans-serif; font-size: 12px; fill: rgb(51, 51, 51); fill-opacity: 1; white-space: pre; opacity: 1;\">Himachal Pradesh</text></g><g class=\"ytick\"><text text-anchor=\"end\" x=\"180.6\" y=\"4.199999999999999\" transform=\"translate(0,375.29)\" style=\"font-family: 'Open Sans', verdana, arial, sans-serif; font-size: 12px; fill: rgb(51, 51, 51); fill-opacity: 1; white-space: pre; opacity: 1;\">Uttarakhand</text></g><g class=\"ytick\"><text text-anchor=\"end\" x=\"180.6\" y=\"4.199999999999999\" transform=\"translate(0,348.43)\" style=\"font-family: 'Open Sans', verdana, arial, sans-serif; font-size: 12px; fill: rgb(51, 51, 51); fill-opacity: 1; white-space: pre; opacity: 1;\">Jharkhand</text></g><g class=\"ytick\"><text text-anchor=\"end\" x=\"180.6\" y=\"4.199999999999999\" transform=\"translate(0,321.57)\" style=\"font-family: 'Open Sans', verdana, arial, sans-serif; font-size: 12px; fill: rgb(51, 51, 51); fill-opacity: 1; white-space: pre; opacity: 1;\">Assam</text></g><g class=\"ytick\"><text text-anchor=\"end\" x=\"180.6\" y=\"4.199999999999999\" transform=\"translate(0,294.71000000000004)\" style=\"font-family: 'Open Sans', verdana, arial, sans-serif; font-size: 12px; fill: rgb(51, 51, 51); fill-opacity: 1; white-space: pre; opacity: 1;\">Haryana</text></g><g class=\"ytick\"><text text-anchor=\"end\" x=\"180.6\" y=\"4.199999999999999\" transform=\"translate(0,267.86)\" style=\"font-family: 'Open Sans', verdana, arial, sans-serif; font-size: 12px; fill: rgb(51, 51, 51); fill-opacity: 1; white-space: pre; opacity: 1;\">Madhya Pradesh</text></g><g class=\"ytick\"><text text-anchor=\"end\" x=\"180.6\" y=\"4.199999999999999\" transform=\"translate(0,241)\" style=\"font-family: 'Open Sans', verdana, arial, sans-serif; font-size: 12px; fill: rgb(51, 51, 51); fill-opacity: 1; white-space: pre; opacity: 1;\">Orissa</text></g><g class=\"ytick\"><text text-anchor=\"end\" x=\"180.6\" y=\"4.199999999999999\" transform=\"translate(0,214.14)\" style=\"font-family: 'Open Sans', verdana, arial, sans-serif; font-size: 12px; fill: rgb(51, 51, 51); fill-opacity: 1; white-space: pre; opacity: 1;\">Chhattisgarh</text></g><g class=\"ytick\"><text text-anchor=\"end\" x=\"180.6\" y=\"4.199999999999999\" transform=\"translate(0,187.29000000000002)\" style=\"font-family: 'Open Sans', verdana, arial, sans-serif; font-size: 12px; fill: rgb(51, 51, 51); fill-opacity: 1; white-space: pre; opacity: 1;\">Delhi</text></g><g class=\"ytick\"><text text-anchor=\"end\" x=\"180.6\" y=\"4.199999999999999\" transform=\"translate(0,160.43)\" style=\"font-family: 'Open Sans', verdana, arial, sans-serif; font-size: 12px; fill: rgb(51, 51, 51); fill-opacity: 1; white-space: pre; opacity: 1;\">Andhra Pradesh</text></g><g class=\"ytick\"><text text-anchor=\"end\" x=\"180.6\" y=\"4.199999999999999\" transform=\"translate(0,133.57)\" style=\"font-family: 'Open Sans', verdana, arial, sans-serif; font-size: 12px; fill: rgb(51, 51, 51); fill-opacity: 1; white-space: pre; opacity: 1;\">Kerala</text></g><g class=\"ytick\"><text text-anchor=\"end\" x=\"180.6\" y=\"4.199999999999999\" transform=\"translate(0,106.71)\" style=\"font-family: 'Open Sans', verdana, arial, sans-serif; font-size: 12px; fill: rgb(51, 51, 51); fill-opacity: 1; white-space: pre; opacity: 1;\">Maharashtra</text></g></g><g class=\"overaxes-above\"/></g></g><g class=\"polarlayer\"/><g class=\"ternarylayer\"/><g class=\"geolayer\"/><g class=\"funnelarealayer\"/><g class=\"pielayer\"/><g class=\"iciclelayer\"/><g class=\"treemaplayer\"/><g class=\"sunburstlayer\"/><g class=\"glimages\"/><defs id=\"topdefs-be8e87\"><g class=\"clips\"/></defs><g class=\"layer-above\"><g class=\"imagelayer\"/><g class=\"shapelayer\"/></g><g class=\"infolayer\"><g class=\"cbcoloraxis colorbar\" transform=\"translate(189,100)\"><rect class=\"cbbg\" x=\"384\" y=\"0\" width=\"115.4375\" height=\"470\" style=\"fill: rgb(0, 0, 0); fill-opacity: 0; stroke: rgb(68, 68, 68); stroke-opacity: 1; stroke-width: 0;\"/><g class=\"cbfills\" transform=\"translate(0,32)\"><rect class=\"cbfill\" x=\"394\" width=\"30\" y=\"0\" height=\"428\" style=\"fill: url('#gbe8e87-cbcoloraxis');\"/></g><g class=\"cblines\" transform=\"translate(0,32)\"/><g class=\"cbaxis crisp\" transform=\"translate(0,-100)\"><path class=\"ycbcoloraxistick ticks crisp\" d=\"M423.5,0h-6\" transform=\"translate(0,553.8)\" style=\"stroke: rgb(237, 237, 237); stroke-opacity: 1; stroke-width: 1px;\"/><path class=\"ycbcoloraxistick ticks crisp\" d=\"M423.5,0h-6\" transform=\"translate(0,491.82)\" style=\"stroke: rgb(237, 237, 237); stroke-opacity: 1; stroke-width: 1px;\"/><path class=\"ycbcoloraxistick ticks crisp\" d=\"M423.5,0h-6\" transform=\"translate(0,429.83)\" style=\"stroke: rgb(237, 237, 237); stroke-opacity: 1; stroke-width: 1px;\"/><path class=\"ycbcoloraxistick ticks crisp\" d=\"M423.5,0h-6\" transform=\"translate(0,367.85)\" style=\"stroke: rgb(237, 237, 237); stroke-opacity: 1; stroke-width: 1px;\"/><path class=\"ycbcoloraxistick ticks crisp\" d=\"M423.5,0h-6\" transform=\"translate(0,305.87)\" style=\"stroke: rgb(237, 237, 237); stroke-opacity: 1; stroke-width: 1px;\"/><path class=\"ycbcoloraxistick ticks crisp\" d=\"M423.5,0h-6\" transform=\"translate(0,243.88)\" style=\"stroke: rgb(237, 237, 237); stroke-opacity: 1; stroke-width: 1px;\"/><path class=\"ycbcoloraxistick ticks crisp\" d=\"M423.5,0h-6\" transform=\"translate(0,181.9)\" style=\"stroke: rgb(237, 237, 237); stroke-opacity: 1; stroke-width: 1px;\"/><g class=\"ycbcoloraxistick\"><text text-anchor=\"start\" x=\"426.9\" y=\"4.199999999999999\" transform=\"translate(0,553.8)\" style=\"font-family: 'Open Sans', verdana, arial, sans-serif; font-size: 12px; fill: rgb(51, 51, 51); fill-opacity: 1; white-space: pre; opacity: 1;\">2</text></g><g class=\"ycbcoloraxistick\"><text text-anchor=\"start\" x=\"426.9\" y=\"4.199999999999999\" style=\"font-family: 'Open Sans', verdana, arial, sans-serif; font-size: 12px; fill: rgb(51, 51, 51); fill-opacity: 1; white-space: pre; opacity: 1;\" transform=\"translate(0,491.82)\">4</text></g><g class=\"ycbcoloraxistick\"><text text-anchor=\"start\" x=\"426.9\" y=\"4.199999999999999\" style=\"font-family: 'Open Sans', verdana, arial, sans-serif; font-size: 12px; fill: rgb(51, 51, 51); fill-opacity: 1; white-space: pre; opacity: 1;\" transform=\"translate(0,429.83)\">6</text></g><g class=\"ycbcoloraxistick\"><text text-anchor=\"start\" x=\"426.9\" y=\"4.199999999999999\" style=\"font-family: 'Open Sans', verdana, arial, sans-serif; font-size: 12px; fill: rgb(51, 51, 51); fill-opacity: 1; white-space: pre; opacity: 1;\" transform=\"translate(0,367.85)\">8</text></g><g class=\"ycbcoloraxistick\"><text text-anchor=\"start\" x=\"426.9\" y=\"4.199999999999999\" style=\"font-family: 'Open Sans', verdana, arial, sans-serif; font-size: 12px; fill: rgb(51, 51, 51); fill-opacity: 1; white-space: pre; opacity: 1;\" transform=\"translate(0,305.87)\">10</text></g><g class=\"ycbcoloraxistick\"><text text-anchor=\"start\" x=\"426.9\" y=\"4.199999999999999\" style=\"font-family: 'Open Sans', verdana, arial, sans-serif; font-size: 12px; fill: rgb(51, 51, 51); fill-opacity: 1; white-space: pre; opacity: 1;\" transform=\"translate(0,243.88)\">12</text></g><g class=\"ycbcoloraxistick\"><text text-anchor=\"start\" x=\"426.9\" y=\"4.199999999999999\" style=\"font-family: 'Open Sans', verdana, arial, sans-serif; font-size: 12px; fill: rgb(51, 51, 51); fill-opacity: 1; white-space: pre; opacity: 1;\" transform=\"translate(0,181.9)\">14</text></g></g><g class=\"cbtitleunshift\" transform=\"translate(-189,-100)\"><g class=\"cbtitle\" transform=\"\"><text class=\"ycbcoloraxistitle\" x=\"582.52\" y=\"123.50000000000001\" text-anchor=\"start\" style=\"font-family: 'Open Sans', verdana, arial, sans-serif; font-size: 14px; fill: rgb(51, 51, 51); opacity: 1; font-weight: normal; white-space: pre;\">impact status</text></g></g><rect class=\"cboutline\" x=\"394\" y=\"32\" width=\"30\" height=\"428\" style=\"stroke: rgb(68, 68, 68); stroke-opacity: 1; fill: none; stroke-width: 0;\"/></g><g class=\"g-gtitle\"><text class=\"gtitle\" x=\"350\" y=\"50\" text-anchor=\"middle\" dy=\"0em\" style=\"font-family: 'Open Sans', verdana, arial, sans-serif; font-size: 17px; fill: rgb(51, 51, 51); opacity: 1; font-weight: normal; white-space: pre;\">Impact of corona on population across states</text></g><g class=\"g-xtitle\"><text class=\"xtitle\" x=\"377\" y=\"618.20625\" text-anchor=\"middle\" style=\"font-family: 'Open Sans', verdana, arial, sans-serif; font-size: 14px; fill: rgb(51, 51, 51); opacity: 1; font-weight: normal; white-space: pre;\">percentage tested positive</text></g><g class=\"g-ytitle\" transform=\"translate(2.0341796875,0)\"><text class=\"ytitle\" transform=\"rotate(-90,11.965624999999989,335)\" x=\"11.965624999999989\" y=\"335\" text-anchor=\"middle\" style=\"font-family: 'Open Sans', verdana, arial, sans-serif; font-size: 14px; fill: rgb(51, 51, 51); opacity: 1; font-weight: normal; white-space: pre;\">State</text></g></g></svg>"
      ]
     },
     "metadata": {},
     "output_type": "display_data"
    }
   ],
   "source": [
    "graph = px.bar(plot_positive, y='State',x='percentage tested positive',color='impact status',\n",
    "            title='Impact of corona on population across states',template='ggplot2',height=650)\n",
    "\n",
    "graph.show(renderer=\"svg\")"
   ]
  },
  {
   "cell_type": "code",
   "execution_count": 52,
   "id": "d7193d29",
   "metadata": {},
   "outputs": [
    {
     "data": {
      "image/svg+xml": [
       "<svg class=\"main-svg\" xmlns=\"http://www.w3.org/2000/svg\" xmlns:xlink=\"http://www.w3.org/1999/xlink\" width=\"700\" height=\"650\" style=\"\" viewBox=\"0 0 700 650\"><rect x=\"0\" y=\"0\" width=\"700\" height=\"650\" style=\"fill: rgb(255, 255, 255); fill-opacity: 1;\"/><defs id=\"defs-3cca31\"><g class=\"clips\"><clipPath id=\"clip3cca31xyplot\" class=\"plotclip\"><rect width=\"262\" height=\"470\"/></clipPath><clipPath class=\"axesclip\" id=\"clip3cca31x\"><rect x=\"227\" y=\"0\" width=\"262\" height=\"650\"/></clipPath><clipPath class=\"axesclip\" id=\"clip3cca31y\"><rect x=\"0\" y=\"100\" width=\"700\" height=\"470\"/></clipPath><clipPath class=\"axesclip\" id=\"clip3cca31xy\"><rect x=\"227\" y=\"100\" width=\"262\" height=\"470\"/></clipPath></g><g class=\"gradients\"/><g class=\"patterns\"/></defs><g class=\"bglayer\"><rect class=\"bg\" x=\"227\" y=\"100\" width=\"262\" height=\"470\" style=\"fill: rgb(237, 237, 237); fill-opacity: 1; stroke-width: 0;\"/></g><g class=\"layer-below\"><g class=\"imagelayer\"/><g class=\"shapelayer\"/></g><g class=\"cartesianlayer\"><g class=\"subplot xy\"><g class=\"layer-subplot\"><g class=\"shapelayer\"/><g class=\"imagelayer\"/></g><g class=\"gridlayer\"><g class=\"x\"><path class=\"xgrid crisp\" transform=\"translate(316.21,0)\" d=\"M0,100v470\" style=\"stroke: rgb(255, 255, 255); stroke-opacity: 1; stroke-width: 1px;\"/><path class=\"xgrid crisp\" transform=\"translate(405.41999999999996,0)\" d=\"M0,100v470\" style=\"stroke: rgb(255, 255, 255); stroke-opacity: 1; stroke-width: 1px;\"/></g><g class=\"y\"><path class=\"ygrid crisp\" transform=\"translate(0,563.29)\" d=\"M227,0h262\" style=\"stroke: rgb(255, 255, 255); stroke-opacity: 1; stroke-width: 1px;\"/><path class=\"ygrid crisp\" transform=\"translate(0,536.4300000000001)\" d=\"M227,0h262\" style=\"stroke: rgb(255, 255, 255); stroke-opacity: 1; stroke-width: 1px;\"/><path class=\"ygrid crisp\" transform=\"translate(0,509.57)\" d=\"M227,0h262\" style=\"stroke: rgb(255, 255, 255); stroke-opacity: 1; stroke-width: 1px;\"/><path class=\"ygrid crisp\" transform=\"translate(0,482.71)\" d=\"M227,0h262\" style=\"stroke: rgb(255, 255, 255); stroke-opacity: 1; stroke-width: 1px;\"/><path class=\"ygrid crisp\" transform=\"translate(0,455.86)\" d=\"M227,0h262\" style=\"stroke: rgb(255, 255, 255); stroke-opacity: 1; stroke-width: 1px;\"/><path class=\"ygrid crisp\" transform=\"translate(0,429)\" d=\"M227,0h262\" style=\"stroke: rgb(255, 255, 255); stroke-opacity: 1; stroke-width: 1px;\"/><path class=\"ygrid crisp\" transform=\"translate(0,402.14)\" d=\"M227,0h262\" style=\"stroke: rgb(255, 255, 255); stroke-opacity: 1; stroke-width: 1px;\"/><path class=\"ygrid crisp\" transform=\"translate(0,375.29)\" d=\"M227,0h262\" style=\"stroke: rgb(255, 255, 255); stroke-opacity: 1; stroke-width: 1px;\"/><path class=\"ygrid crisp\" transform=\"translate(0,348.43)\" d=\"M227,0h262\" style=\"stroke: rgb(255, 255, 255); stroke-opacity: 1; stroke-width: 1px;\"/><path class=\"ygrid crisp\" transform=\"translate(0,321.57)\" d=\"M227,0h262\" style=\"stroke: rgb(255, 255, 255); stroke-opacity: 1; stroke-width: 1px;\"/><path class=\"ygrid crisp\" transform=\"translate(0,294.71000000000004)\" d=\"M227,0h262\" style=\"stroke: rgb(255, 255, 255); stroke-opacity: 1; stroke-width: 1px;\"/><path class=\"ygrid crisp\" transform=\"translate(0,267.86)\" d=\"M227,0h262\" style=\"stroke: rgb(255, 255, 255); stroke-opacity: 1; stroke-width: 1px;\"/><path class=\"ygrid crisp\" transform=\"translate(0,241)\" d=\"M227,0h262\" style=\"stroke: rgb(255, 255, 255); stroke-opacity: 1; stroke-width: 1px;\"/><path class=\"ygrid crisp\" transform=\"translate(0,214.14)\" d=\"M227,0h262\" style=\"stroke: rgb(255, 255, 255); stroke-opacity: 1; stroke-width: 1px;\"/><path class=\"ygrid crisp\" transform=\"translate(0,187.29000000000002)\" d=\"M227,0h262\" style=\"stroke: rgb(255, 255, 255); stroke-opacity: 1; stroke-width: 1px;\"/><path class=\"ygrid crisp\" transform=\"translate(0,160.43)\" d=\"M227,0h262\" style=\"stroke: rgb(255, 255, 255); stroke-opacity: 1; stroke-width: 1px;\"/><path class=\"ygrid crisp\" transform=\"translate(0,133.57)\" d=\"M227,0h262\" style=\"stroke: rgb(255, 255, 255); stroke-opacity: 1; stroke-width: 1px;\"/><path class=\"ygrid crisp\" transform=\"translate(0,106.71)\" d=\"M227,0h262\" style=\"stroke: rgb(255, 255, 255); stroke-opacity: 1; stroke-width: 1px;\"/></g></g><g class=\"zerolinelayer\"><path class=\"xzl zl crisp\" transform=\"translate(227,0)\" d=\"M0,100v470\" style=\"stroke: rgb(255, 255, 255); stroke-opacity: 1; stroke-width: 1px;\"/></g><path class=\"xlines-below\"/><path class=\"ylines-below\"/><g class=\"overlines-below\"/><g class=\"xaxislayer-below\"/><g class=\"yaxislayer-below\"/><g class=\"overaxes-below\"/><g class=\"plot\" transform=\"translate(227,100)\" clip-path=\"url(#clip3cca31xyplot)\"><g class=\"barlayer mlayer\"><g class=\"trace bars\" style=\"opacity: 1;\"><g class=\"points\"><g class=\"point\"><path d=\"M0,468.66V457.91H4.46V468.66Z\" style=\"vector-effect: non-scaling-stroke; opacity: 1; stroke-width: 0.5px; fill: rgb(248, 118, 109); fill-opacity: 1; stroke: rgb(237, 237, 237); stroke-opacity: 1;\"/></g></g></g><g class=\"trace bars\" style=\"opacity: 1;\"><g class=\"points\"><g class=\"point\"><path d=\"M0,455.23V444.49H29.44V455.23Z\" style=\"vector-effect: non-scaling-stroke; opacity: 1; stroke-width: 0.5px; fill: rgb(163, 165, 0); fill-opacity: 1; stroke: rgb(237, 237, 237); stroke-opacity: 1;\"/></g><g class=\"point\"><path d=\"M0,441.8V431.06H32.12V441.8Z\" style=\"vector-effect: non-scaling-stroke; opacity: 1; stroke-width: 0.5px; fill: rgb(163, 165, 0); fill-opacity: 1; stroke: rgb(237, 237, 237); stroke-opacity: 1;\"/></g><g class=\"point\"><path d=\"M0,428.37V417.63H35.68V428.37Z\" style=\"vector-effect: non-scaling-stroke; opacity: 1; stroke-width: 0.5px; fill: rgb(163, 165, 0); fill-opacity: 1; stroke: rgb(237, 237, 237); stroke-opacity: 1;\"/></g></g></g><g class=\"trace bars\" style=\"opacity: 1;\"><g class=\"points\"><g class=\"point\"><path d=\"M0,414.94V404.2H123.11V414.94Z\" style=\"vector-effect: non-scaling-stroke; opacity: 1; stroke-width: 0.5px; fill: rgb(0, 191, 125); fill-opacity: 1; stroke: rgb(237, 237, 237); stroke-opacity: 1;\"/></g></g></g><g class=\"trace bars\" style=\"opacity: 1;\"><g class=\"points\"><g class=\"point\"><path d=\"M0,401.51V390.77H91V401.51Z\" style=\"vector-effect: non-scaling-stroke; opacity: 1; stroke-width: 0.5px; fill: rgb(0, 176, 246); fill-opacity: 1; stroke: rgb(237, 237, 237); stroke-opacity: 1;\"/></g></g></g><g class=\"trace bars\" style=\"opacity: 1;\"><g class=\"points\"><g class=\"point\"><path d=\"M0,388.09V377.34H155.23V388.09Z\" style=\"vector-effect: non-scaling-stroke; opacity: 1; stroke-width: 0.5px; fill: rgb(231, 107, 243); fill-opacity: 1; stroke: rgb(237, 237, 237); stroke-opacity: 1;\"/></g></g></g><g class=\"trace bars\" style=\"opacity: 1;\"><g class=\"points\"><g class=\"point\"><path d=\"M0,374.66V363.91H94.56V374.66Z\" style=\"vector-effect: non-scaling-stroke; opacity: 1; stroke-width: 0.5px; fill: rgb(248, 118, 109); fill-opacity: 1; stroke: rgb(237, 237, 237); stroke-opacity: 1;\"/></g></g></g><g class=\"trace bars\" style=\"opacity: 1;\"><g class=\"points\"><g class=\"point\"><path d=\"M0,361.23V350.49H118.65V361.23Z\" style=\"vector-effect: non-scaling-stroke; opacity: 1; stroke-width: 0.5px; fill: rgb(163, 165, 0); fill-opacity: 1; stroke: rgb(237, 237, 237); stroke-opacity: 1;\"/></g></g></g><g class=\"trace bars\" style=\"opacity: 1;\"><g class=\"points\"><g class=\"point\"><path d=\"M0,347.8V337.06H122.22V347.8Z\" style=\"vector-effect: non-scaling-stroke; opacity: 1; stroke-width: 0.5px; fill: rgb(0, 191, 125); fill-opacity: 1; stroke: rgb(237, 237, 237); stroke-opacity: 1;\"/></g><g class=\"point\"><path d=\"M0,334.37V323.63H122.22V334.37Z\" style=\"vector-effect: non-scaling-stroke; opacity: 1; stroke-width: 0.5px; fill: rgb(0, 191, 125); fill-opacity: 1; stroke: rgb(237, 237, 237); stroke-opacity: 1;\"/></g></g></g><g class=\"trace bars\" style=\"opacity: 1;\"><g class=\"points\"><g class=\"point\"><path d=\"M0,320.94V310.2H96.35V320.94Z\" style=\"vector-effect: non-scaling-stroke; opacity: 1; stroke-width: 0.5px; fill: rgb(0, 176, 246); fill-opacity: 1; stroke: rgb(237, 237, 237); stroke-opacity: 1;\"/></g></g></g><g class=\"trace bars\" style=\"opacity: 1;\"><g class=\"points\"><g class=\"point\"><path d=\"M0,307.51V296.77H120.44V307.51Z\" style=\"vector-effect: non-scaling-stroke; opacity: 1; stroke-width: 0.5px; fill: rgb(231, 107, 243); fill-opacity: 1; stroke: rgb(237, 237, 237); stroke-opacity: 1;\"/></g></g></g><g class=\"trace bars\" style=\"opacity: 1;\"><g class=\"points\"><g class=\"point\"><path d=\"M0,294.09V283.34H139.17V294.09Z\" style=\"vector-effect: non-scaling-stroke; opacity: 1; stroke-width: 0.5px; fill: rgb(248, 118, 109); fill-opacity: 1; stroke: rgb(237, 237, 237); stroke-opacity: 1;\"/></g><g class=\"point\"><path d=\"M0,280.66V269.91H139.17V280.66Z\" style=\"vector-effect: non-scaling-stroke; opacity: 1; stroke-width: 0.5px; fill: rgb(248, 118, 109); fill-opacity: 1; stroke: rgb(237, 237, 237); stroke-opacity: 1;\"/></g></g></g><g class=\"trace bars\" style=\"opacity: 1;\"><g class=\"points\"><g class=\"point\"><path d=\"M0,267.23V256.49H143.63V267.23Z\" style=\"vector-effect: non-scaling-stroke; opacity: 1; stroke-width: 0.5px; fill: rgb(163, 165, 0); fill-opacity: 1; stroke: rgb(237, 237, 237); stroke-opacity: 1;\"/></g></g></g><g class=\"trace bars\" style=\"opacity: 1;\"><g class=\"points\"><g class=\"point\"><path d=\"M0,253.8V243.06H54.42V253.8Z\" style=\"vector-effect: non-scaling-stroke; opacity: 1; stroke-width: 0.5px; fill: rgb(0, 191, 125); fill-opacity: 1; stroke: rgb(237, 237, 237); stroke-opacity: 1;\"/></g></g></g><g class=\"trace bars\" style=\"opacity: 1;\"><g class=\"points\"><g class=\"point\"><path d=\"M0,240.37V229.63H104.38V240.37Z\" style=\"vector-effect: non-scaling-stroke; opacity: 1; stroke-width: 0.5px; fill: rgb(0, 176, 246); fill-opacity: 1; stroke: rgb(237, 237, 237); stroke-opacity: 1;\"/></g></g></g><g class=\"trace bars\" style=\"opacity: 1;\"><g class=\"points\"><g class=\"point\"><path d=\"M0,226.94V216.2H50.85V226.94Z\" style=\"vector-effect: non-scaling-stroke; opacity: 1; stroke-width: 0.5px; fill: rgb(231, 107, 243); fill-opacity: 1; stroke: rgb(237, 237, 237); stroke-opacity: 1;\"/></g></g></g><g class=\"trace bars\" style=\"opacity: 1;\"><g class=\"points\"><g class=\"point\"><path d=\"M0,213.51V202.77H43.71V213.51Z\" style=\"vector-effect: non-scaling-stroke; opacity: 1; stroke-width: 0.5px; fill: rgb(248, 118, 109); fill-opacity: 1; stroke: rgb(237, 237, 237); stroke-opacity: 1;\"/></g></g></g><g class=\"trace bars\" style=\"opacity: 1;\"><g class=\"points\"><g class=\"point\"><path d=\"M0,200.09V189.34H129.36V200.09Z\" style=\"vector-effect: non-scaling-stroke; opacity: 1; stroke-width: 0.5px; fill: rgb(163, 165, 0); fill-opacity: 1; stroke: rgb(237, 237, 237); stroke-opacity: 1;\"/></g></g></g><g class=\"trace bars\" style=\"opacity: 1;\"><g class=\"points\"><g class=\"point\"><path d=\"M0,186.66V175.91H162.36V186.66Z\" style=\"vector-effect: non-scaling-stroke; opacity: 1; stroke-width: 0.5px; fill: rgb(0, 191, 125); fill-opacity: 1; stroke: rgb(237, 237, 237); stroke-opacity: 1;\"/></g></g></g><g class=\"trace bars\" style=\"opacity: 1;\"><g class=\"points\"><g class=\"point\"><path d=\"M0,173.23V162.49H69.58V173.23Z\" style=\"vector-effect: non-scaling-stroke; opacity: 1; stroke-width: 0.5px; fill: rgb(0, 176, 246); fill-opacity: 1; stroke: rgb(237, 237, 237); stroke-opacity: 1;\"/></g></g></g><g class=\"trace bars\" style=\"opacity: 1;\"><g class=\"points\"><g class=\"point\"><path d=\"M0,159.8V149.06H80.29V159.8Z\" style=\"vector-effect: non-scaling-stroke; opacity: 1; stroke-width: 0.5px; fill: rgb(231, 107, 243); fill-opacity: 1; stroke: rgb(237, 237, 237); stroke-opacity: 1;\"/></g></g></g><g class=\"trace bars\" style=\"opacity: 1;\"><g class=\"points\"><g class=\"point\"><path d=\"M0,146.37V135.63H98.13V146.37Z\" style=\"vector-effect: non-scaling-stroke; opacity: 1; stroke-width: 0.5px; fill: rgb(248, 118, 109); fill-opacity: 1; stroke: rgb(237, 237, 237); stroke-opacity: 1;\"/></g></g></g><g class=\"trace bars\" style=\"opacity: 1;\"><g class=\"points\"><g class=\"point\"><path d=\"M0,132.94V122.2H116.87V132.94Z\" style=\"vector-effect: non-scaling-stroke; opacity: 1; stroke-width: 0.5px; fill: rgb(163, 165, 0); fill-opacity: 1; stroke: rgb(237, 237, 237); stroke-opacity: 1;\"/></g></g></g><g class=\"trace bars\" style=\"opacity: 1;\"><g class=\"points\"><g class=\"point\"><path d=\"M0,119.51V108.77H141.85V119.51Z\" style=\"vector-effect: non-scaling-stroke; opacity: 1; stroke-width: 0.5px; fill: rgb(0, 191, 125); fill-opacity: 1; stroke: rgb(237, 237, 237); stroke-opacity: 1;\"/></g></g></g><g class=\"trace bars\" style=\"opacity: 1;\"><g class=\"points\"><g class=\"point\"><path d=\"M0,106.09V95.34H111.51V106.09Z\" style=\"vector-effect: non-scaling-stroke; opacity: 1; stroke-width: 0.5px; fill: rgb(0, 176, 246); fill-opacity: 1; stroke: rgb(237, 237, 237); stroke-opacity: 1;\"/></g></g></g><g class=\"trace bars\" style=\"opacity: 1;\"><g class=\"points\"><g class=\"point\"><path d=\"M0,92.66V81.91H248.9V92.66Z\" style=\"vector-effect: non-scaling-stroke; opacity: 1; stroke-width: 0.5px; fill: rgb(231, 107, 243); fill-opacity: 1; stroke: rgb(237, 237, 237); stroke-opacity: 1;\"/></g></g></g><g class=\"trace bars\" style=\"opacity: 1;\"><g class=\"points\"><g class=\"point\"><path d=\"M0,79.23V68.49H67.8V79.23Z\" style=\"vector-effect: non-scaling-stroke; opacity: 1; stroke-width: 0.5px; fill: rgb(248, 118, 109); fill-opacity: 1; stroke: rgb(237, 237, 237); stroke-opacity: 1;\"/></g></g></g><g class=\"trace bars\" style=\"opacity: 1;\"><g class=\"points\"><g class=\"point\"><path d=\"M0,65.8V55.06H132.93V65.8Z\" style=\"vector-effect: non-scaling-stroke; opacity: 1; stroke-width: 0.5px; fill: rgb(163, 165, 0); fill-opacity: 1; stroke: rgb(237, 237, 237); stroke-opacity: 1;\"/></g></g></g><g class=\"trace bars\" style=\"opacity: 1;\"><g class=\"points\"><g class=\"point\"><path d=\"M0,52.37V41.63H117.76V52.37Z\" style=\"vector-effect: non-scaling-stroke; opacity: 1; stroke-width: 0.5px; fill: rgb(0, 191, 125); fill-opacity: 1; stroke: rgb(237, 237, 237); stroke-opacity: 1;\"/></g></g></g><g class=\"trace bars\" style=\"opacity: 1;\"><g class=\"points\"><g class=\"point\"><path d=\"M0,38.94V28.2H153.44V38.94Z\" style=\"vector-effect: non-scaling-stroke; opacity: 1; stroke-width: 0.5px; fill: rgb(0, 176, 246); fill-opacity: 1; stroke: rgb(237, 237, 237); stroke-opacity: 1;\"/></g></g></g><g class=\"trace bars\" style=\"opacity: 1;\"><g class=\"points\"><g class=\"point\"><path d=\"M0,25.51V14.77H110.62V25.51Z\" style=\"vector-effect: non-scaling-stroke; opacity: 1; stroke-width: 0.5px; fill: rgb(231, 107, 243); fill-opacity: 1; stroke: rgb(237, 237, 237); stroke-opacity: 1;\"/></g></g></g><g class=\"trace bars\" style=\"opacity: 1;\"><g class=\"points\"><g class=\"point\"><path d=\"M0,12.09V1.34H189.13V12.09Z\" style=\"vector-effect: non-scaling-stroke; opacity: 1; stroke-width: 0.5px; fill: rgb(248, 118, 109); fill-opacity: 1; stroke: rgb(237, 237, 237); stroke-opacity: 1;\"/></g></g></g></g></g><g class=\"overplot\"/><path class=\"xlines-above crisp\" d=\"\" style=\"fill: none; stroke-width: 1px; stroke: rgb(0, 0, 0); stroke-opacity: 0;\"/><path class=\"ylines-above crisp\" d=\"\" style=\"fill: none; stroke-width: 1px; stroke: rgb(0, 0, 0); stroke-opacity: 0;\"/><g class=\"overlines-above\"/><g class=\"xaxislayer-above\"><path class=\"xtick ticks crisp\" d=\"M0,571v5\" transform=\"translate(227,0)\" style=\"stroke: rgb(51, 51, 51); stroke-opacity: 1; stroke-width: 1px;\"/><path class=\"xtick ticks crisp\" d=\"M0,571v5\" transform=\"translate(316.21,0)\" style=\"stroke: rgb(51, 51, 51); stroke-opacity: 1; stroke-width: 1px;\"/><path class=\"xtick ticks crisp\" d=\"M0,571v5\" transform=\"translate(405.41999999999996,0)\" style=\"stroke: rgb(51, 51, 51); stroke-opacity: 1; stroke-width: 1px;\"/><g class=\"xtick\"><text text-anchor=\"middle\" x=\"0\" y=\"590.4\" transform=\"translate(227,0)\" style=\"font-family: 'Open Sans', verdana, arial, sans-serif; font-size: 12px; fill: rgb(51, 51, 51); fill-opacity: 1; white-space: pre; opacity: 1;\">0</text></g><g class=\"xtick\"><text text-anchor=\"middle\" x=\"0\" y=\"590.4\" style=\"font-family: 'Open Sans', verdana, arial, sans-serif; font-size: 12px; fill: rgb(51, 51, 51); fill-opacity: 1; white-space: pre; opacity: 1;\" transform=\"translate(316.21,0)\">1</text></g><g class=\"xtick\"><text text-anchor=\"middle\" x=\"0\" y=\"590.4\" style=\"font-family: 'Open Sans', verdana, arial, sans-serif; font-size: 12px; fill: rgb(51, 51, 51); fill-opacity: 1; white-space: pre; opacity: 1;\" transform=\"translate(405.41999999999996,0)\">2</text></g></g><g class=\"yaxislayer-above\"><path class=\"ytick ticks crisp\" d=\"M226,0h-5\" transform=\"translate(0,563.29)\" style=\"stroke: rgb(51, 51, 51); stroke-opacity: 1; stroke-width: 1px;\"/><path class=\"ytick ticks crisp\" d=\"M226,0h-5\" transform=\"translate(0,536.4300000000001)\" style=\"stroke: rgb(51, 51, 51); stroke-opacity: 1; stroke-width: 1px;\"/><path class=\"ytick ticks crisp\" d=\"M226,0h-5\" transform=\"translate(0,509.57)\" style=\"stroke: rgb(51, 51, 51); stroke-opacity: 1; stroke-width: 1px;\"/><path class=\"ytick ticks crisp\" d=\"M226,0h-5\" transform=\"translate(0,482.71)\" style=\"stroke: rgb(51, 51, 51); stroke-opacity: 1; stroke-width: 1px;\"/><path class=\"ytick ticks crisp\" d=\"M226,0h-5\" transform=\"translate(0,455.86)\" style=\"stroke: rgb(51, 51, 51); stroke-opacity: 1; stroke-width: 1px;\"/><path class=\"ytick ticks crisp\" d=\"M226,0h-5\" transform=\"translate(0,429)\" style=\"stroke: rgb(51, 51, 51); stroke-opacity: 1; stroke-width: 1px;\"/><path class=\"ytick ticks crisp\" d=\"M226,0h-5\" transform=\"translate(0,402.14)\" style=\"stroke: rgb(51, 51, 51); stroke-opacity: 1; stroke-width: 1px;\"/><path class=\"ytick ticks crisp\" d=\"M226,0h-5\" transform=\"translate(0,375.29)\" style=\"stroke: rgb(51, 51, 51); stroke-opacity: 1; stroke-width: 1px;\"/><path class=\"ytick ticks crisp\" d=\"M226,0h-5\" transform=\"translate(0,348.43)\" style=\"stroke: rgb(51, 51, 51); stroke-opacity: 1; stroke-width: 1px;\"/><path class=\"ytick ticks crisp\" d=\"M226,0h-5\" transform=\"translate(0,321.57)\" style=\"stroke: rgb(51, 51, 51); stroke-opacity: 1; stroke-width: 1px;\"/><path class=\"ytick ticks crisp\" d=\"M226,0h-5\" transform=\"translate(0,294.71000000000004)\" style=\"stroke: rgb(51, 51, 51); stroke-opacity: 1; stroke-width: 1px;\"/><path class=\"ytick ticks crisp\" d=\"M226,0h-5\" transform=\"translate(0,267.86)\" style=\"stroke: rgb(51, 51, 51); stroke-opacity: 1; stroke-width: 1px;\"/><path class=\"ytick ticks crisp\" d=\"M226,0h-5\" transform=\"translate(0,241)\" style=\"stroke: rgb(51, 51, 51); stroke-opacity: 1; stroke-width: 1px;\"/><path class=\"ytick ticks crisp\" d=\"M226,0h-5\" transform=\"translate(0,214.14)\" style=\"stroke: rgb(51, 51, 51); stroke-opacity: 1; stroke-width: 1px;\"/><path class=\"ytick ticks crisp\" d=\"M226,0h-5\" transform=\"translate(0,187.29000000000002)\" style=\"stroke: rgb(51, 51, 51); stroke-opacity: 1; stroke-width: 1px;\"/><path class=\"ytick ticks crisp\" d=\"M226,0h-5\" transform=\"translate(0,160.43)\" style=\"stroke: rgb(51, 51, 51); stroke-opacity: 1; stroke-width: 1px;\"/><path class=\"ytick ticks crisp\" d=\"M226,0h-5\" transform=\"translate(0,133.57)\" style=\"stroke: rgb(51, 51, 51); stroke-opacity: 1; stroke-width: 1px;\"/><path class=\"ytick ticks crisp\" d=\"M226,0h-5\" transform=\"translate(0,106.71)\" style=\"stroke: rgb(51, 51, 51); stroke-opacity: 1; stroke-width: 1px;\"/><g class=\"ytick\"><text text-anchor=\"end\" x=\"218.6\" y=\"4.199999999999999\" transform=\"translate(0,563.29)\" style=\"font-family: 'Open Sans', verdana, arial, sans-serif; font-size: 12px; fill: rgb(51, 51, 51); fill-opacity: 1; white-space: pre; opacity: 1;\">Dadra and Nagar Haveli</text></g><g class=\"ytick\"><text text-anchor=\"end\" x=\"218.6\" y=\"4.199999999999999\" transform=\"translate(0,536.4300000000001)\" style=\"font-family: 'Open Sans', verdana, arial, sans-serif; font-size: 12px; fill: rgb(51, 51, 51); fill-opacity: 1; white-space: pre; opacity: 1;\">Arunachal Pradesh</text></g><g class=\"ytick\"><text text-anchor=\"end\" x=\"218.6\" y=\"4.199999999999999\" transform=\"translate(0,509.57)\" style=\"font-family: 'Open Sans', verdana, arial, sans-serif; font-size: 12px; fill: rgb(51, 51, 51); fill-opacity: 1; white-space: pre; opacity: 1;\">Andaman and Nicobar Islands</text></g><g class=\"ytick\"><text text-anchor=\"end\" x=\"218.6\" y=\"4.199999999999999\" transform=\"translate(0,482.71)\" style=\"font-family: 'Open Sans', verdana, arial, sans-serif; font-size: 12px; fill: rgb(51, 51, 51); fill-opacity: 1; white-space: pre; opacity: 1;\">Sikkim</text></g><g class=\"ytick\"><text text-anchor=\"end\" x=\"218.6\" y=\"4.199999999999999\" transform=\"translate(0,455.86)\" style=\"font-family: 'Open Sans', verdana, arial, sans-serif; font-size: 12px; fill: rgb(51, 51, 51); fill-opacity: 1; white-space: pre; opacity: 1;\">Meghalaya</text></g><g class=\"ytick\"><text text-anchor=\"end\" x=\"218.6\" y=\"4.199999999999999\" transform=\"translate(0,429)\" style=\"font-family: 'Open Sans', verdana, arial, sans-serif; font-size: 12px; fill: rgb(51, 51, 51); fill-opacity: 1; white-space: pre; opacity: 1;\">Tamil Nadu</text></g><g class=\"ytick\"><text text-anchor=\"end\" x=\"218.6\" y=\"4.199999999999999\" transform=\"translate(0,402.14)\" style=\"font-family: 'Open Sans', verdana, arial, sans-serif; font-size: 12px; fill: rgb(51, 51, 51); fill-opacity: 1; white-space: pre; opacity: 1;\">Manipur</text></g><g class=\"ytick\"><text text-anchor=\"end\" x=\"218.6\" y=\"4.199999999999999\" transform=\"translate(0,375.29)\" style=\"font-family: 'Open Sans', verdana, arial, sans-serif; font-size: 12px; fill: rgb(51, 51, 51); fill-opacity: 1; white-space: pre; opacity: 1;\">Goa</text></g><g class=\"ytick\"><text text-anchor=\"end\" x=\"218.6\" y=\"4.199999999999999\" transform=\"translate(0,348.43)\" style=\"font-family: 'Open Sans', verdana, arial, sans-serif; font-size: 12px; fill: rgb(51, 51, 51); fill-opacity: 1; white-space: pre; opacity: 1;\">Assam</text></g><g class=\"ytick\"><text text-anchor=\"end\" x=\"218.6\" y=\"4.199999999999999\" transform=\"translate(0,321.57)\" style=\"font-family: 'Open Sans', verdana, arial, sans-serif; font-size: 12px; fill: rgb(51, 51, 51); fill-opacity: 1; white-space: pre; opacity: 1;\">Telangana</text></g><g class=\"ytick\"><text text-anchor=\"end\" x=\"218.6\" y=\"4.199999999999999\" transform=\"translate(0,294.71000000000004)\" style=\"font-family: 'Open Sans', verdana, arial, sans-serif; font-size: 12px; fill: rgb(51, 51, 51); fill-opacity: 1; white-space: pre; opacity: 1;\">Jammu and Kashmir</text></g><g class=\"ytick\"><text text-anchor=\"end\" x=\"218.6\" y=\"4.199999999999999\" transform=\"translate(0,267.86)\" style=\"font-family: 'Open Sans', verdana, arial, sans-serif; font-size: 12px; fill: rgb(51, 51, 51); fill-opacity: 1; white-space: pre; opacity: 1;\">Bihar</text></g><g class=\"ytick\"><text text-anchor=\"end\" x=\"218.6\" y=\"4.199999999999999\" transform=\"translate(0,241)\" style=\"font-family: 'Open Sans', verdana, arial, sans-serif; font-size: 12px; fill: rgb(51, 51, 51); fill-opacity: 1; white-space: pre; opacity: 1;\">Haryana</text></g><g class=\"ytick\"><text text-anchor=\"end\" x=\"218.6\" y=\"4.199999999999999\" transform=\"translate(0,214.14)\" style=\"font-family: 'Open Sans', verdana, arial, sans-serif; font-size: 12px; fill: rgb(51, 51, 51); fill-opacity: 1; white-space: pre; opacity: 1;\">Gujarat</text></g><g class=\"ytick\"><text text-anchor=\"end\" x=\"218.6\" y=\"4.199999999999999\" transform=\"translate(0,187.29000000000002)\" style=\"font-family: 'Open Sans', verdana, arial, sans-serif; font-size: 12px; fill: rgb(51, 51, 51); fill-opacity: 1; white-space: pre; opacity: 1;\">Punjab</text></g><g class=\"ytick\"><text text-anchor=\"end\" x=\"218.6\" y=\"4.199999999999999\" transform=\"translate(0,160.43)\" style=\"font-family: 'Open Sans', verdana, arial, sans-serif; font-size: 12px; fill: rgb(51, 51, 51); fill-opacity: 1; white-space: pre; opacity: 1;\">West Bengal</text></g><g class=\"ytick\"><text text-anchor=\"end\" x=\"218.6\" y=\"4.199999999999999\" transform=\"translate(0,133.57)\" style=\"font-family: 'Open Sans', verdana, arial, sans-serif; font-size: 12px; fill: rgb(51, 51, 51); fill-opacity: 1; white-space: pre; opacity: 1;\">Delhi</text></g><g class=\"ytick\"><text text-anchor=\"end\" x=\"218.6\" y=\"4.199999999999999\" transform=\"translate(0,106.71)\" style=\"font-family: 'Open Sans', verdana, arial, sans-serif; font-size: 12px; fill: rgb(51, 51, 51); fill-opacity: 1; white-space: pre; opacity: 1;\">Maharashtra</text></g></g><g class=\"overaxes-above\"/></g></g><g class=\"polarlayer\"/><g class=\"ternarylayer\"/><g class=\"geolayer\"/><g class=\"funnelarealayer\"/><g class=\"pielayer\"/><g class=\"iciclelayer\"/><g class=\"treemaplayer\"/><g class=\"sunburstlayer\"/><g class=\"glimages\"/><defs id=\"topdefs-3cca31\"><g class=\"clips\"/><clipPath id=\"legend3cca31\"><rect width=\"194\" height=\"470\" x=\"0\" y=\"0\"/></clipPath></defs><g class=\"layer-above\"><g class=\"imagelayer\"/><g class=\"shapelayer\"/></g><g class=\"infolayer\"><g class=\"legend\" pointer-events=\"all\" transform=\"translate(494.24,100)\"><rect class=\"bg\" shape-rendering=\"crispEdges\" style=\"stroke: rgb(68, 68, 68); stroke-opacity: 1; fill: rgb(255, 255, 255); fill-opacity: 1; stroke-width: 0px;\" width=\"194\" height=\"470\" x=\"0\" y=\"0\"/><g class=\"scrollbox\" transform=\"\" clip-path=\"url(#legend3cca31)\"><text class=\"legendtitletext\" text-anchor=\"start\" x=\"2\" y=\"18.2\" style=\"font-family: 'Open Sans', verdana, arial, sans-serif; font-size: 14px; fill: rgb(51, 51, 51); fill-opacity: 1; white-space: pre;\">impact status</text><g class=\"groups\" transform=\"\"><g class=\"traces\" transform=\"translate(0,32.7)\" style=\"opacity: 1;\"><text class=\"legendtext\" text-anchor=\"start\" x=\"40\" y=\"4.680000000000001\" style=\"font-family: 'Open Sans', verdana, arial, sans-serif; font-size: 12px; fill: rgb(51, 51, 51); fill-opacity: 1; white-space: pre;\">impacted States</text><g class=\"layers\" style=\"opacity: 1;\"><g class=\"legendfill\"/><g class=\"legendlines\"/><g class=\"legendsymbols\"><g class=\"legendpoints\"><path class=\"legendundefined\" d=\"M6,6H-6V-6H6Z\" transform=\"translate(20,0)\" style=\"stroke-width: 0.5px; fill: rgb(248, 118, 109); fill-opacity: 1; stroke: rgb(237, 237, 237); stroke-opacity: 1;\"/></g></g></g><rect class=\"legendtoggle\" x=\"0\" y=\"-9.5\" width=\"188.234375\" height=\"19\" style=\"fill: rgb(0, 0, 0); fill-opacity: 0;\"/></g></g><g class=\"groups\" transform=\"\"><g class=\"traces\" transform=\"translate(0,51.7)\" style=\"opacity: 1;\"><text class=\"legendtext\" text-anchor=\"start\" x=\"40\" y=\"4.680000000000001\" style=\"font-family: 'Open Sans', verdana, arial, sans-serif; font-size: 12px; fill: rgb(51, 51, 51); fill-opacity: 1; white-space: pre;\">hardest impacted States</text><g class=\"layers\" style=\"opacity: 1;\"><g class=\"legendfill\"/><g class=\"legendlines\"/><g class=\"legendsymbols\"><g class=\"legendpoints\"><path class=\"legendundefined\" d=\"M6,6H-6V-6H6Z\" transform=\"translate(20,0)\" style=\"stroke-width: 0.5px; fill: rgb(163, 165, 0); fill-opacity: 1; stroke: rgb(237, 237, 237); stroke-opacity: 1;\"/></g></g></g><rect class=\"legendtoggle\" x=\"0\" y=\"-9.5\" width=\"188.234375\" height=\"19\" style=\"fill: rgb(0, 0, 0); fill-opacity: 0;\"/></g></g><g class=\"groups\" transform=\"\"><g class=\"traces\" transform=\"translate(0,70.7)\" style=\"opacity: 1;\"><text class=\"legendtext\" text-anchor=\"start\" x=\"40\" y=\"4.680000000000001\" style=\"font-family: 'Open Sans', verdana, arial, sans-serif; font-size: 12px; fill: rgb(51, 51, 51); fill-opacity: 1; white-space: pre;\">1.38</text><g class=\"layers\" style=\"opacity: 1;\"><g class=\"legendfill\"/><g class=\"legendlines\"/><g class=\"legendsymbols\"><g class=\"legendpoints\"><path class=\"legendundefined\" d=\"M6,6H-6V-6H6Z\" transform=\"translate(20,0)\" style=\"stroke-width: 0.5px; fill: rgb(0, 191, 125); fill-opacity: 1; stroke: rgb(237, 237, 237); stroke-opacity: 1;\"/></g></g></g><rect class=\"legendtoggle\" x=\"0\" y=\"-9.5\" width=\"188.234375\" height=\"19\" style=\"fill: rgb(0, 0, 0); fill-opacity: 0;\"/></g></g><g class=\"groups\" transform=\"\"><g class=\"traces\" transform=\"translate(0,89.7)\" style=\"opacity: 1;\"><text class=\"legendtext\" text-anchor=\"start\" x=\"40\" y=\"4.680000000000001\" style=\"font-family: 'Open Sans', verdana, arial, sans-serif; font-size: 12px; fill: rgb(51, 51, 51); fill-opacity: 1; white-space: pre;\">1.02</text><g class=\"layers\" style=\"opacity: 1;\"><g class=\"legendfill\"/><g class=\"legendlines\"/><g class=\"legendsymbols\"><g class=\"legendpoints\"><path class=\"legendundefined\" d=\"M6,6H-6V-6H6Z\" transform=\"translate(20,0)\" style=\"stroke-width: 0.5px; fill: rgb(0, 176, 246); fill-opacity: 1; stroke: rgb(237, 237, 237); stroke-opacity: 1;\"/></g></g></g><rect class=\"legendtoggle\" x=\"0\" y=\"-9.5\" width=\"188.234375\" height=\"19\" style=\"fill: rgb(0, 0, 0); fill-opacity: 0;\"/></g></g><g class=\"groups\" transform=\"\"><g class=\"traces\" transform=\"translate(0,108.7)\" style=\"opacity: 1;\"><text class=\"legendtext\" text-anchor=\"start\" x=\"40\" y=\"4.680000000000001\" style=\"font-family: 'Open Sans', verdana, arial, sans-serif; font-size: 12px; fill: rgb(51, 51, 51); fill-opacity: 1; white-space: pre;\">1.7399999999999998</text><g class=\"layers\" style=\"opacity: 1;\"><g class=\"legendfill\"/><g class=\"legendlines\"/><g class=\"legendsymbols\"><g class=\"legendpoints\"><path class=\"legendundefined\" d=\"M6,6H-6V-6H6Z\" transform=\"translate(20,0)\" style=\"stroke-width: 0.5px; fill: rgb(231, 107, 243); fill-opacity: 1; stroke: rgb(237, 237, 237); stroke-opacity: 1;\"/></g></g></g><rect class=\"legendtoggle\" x=\"0\" y=\"-9.5\" width=\"188.234375\" height=\"19\" style=\"fill: rgb(0, 0, 0); fill-opacity: 0;\"/></g></g><g class=\"groups\" transform=\"\"><g class=\"traces\" transform=\"translate(0,127.7)\" style=\"opacity: 1;\"><text class=\"legendtext\" text-anchor=\"start\" x=\"40\" y=\"4.680000000000001\" style=\"font-family: 'Open Sans', verdana, arial, sans-serif; font-size: 12px; fill: rgb(51, 51, 51); fill-opacity: 1; white-space: pre;\">1.06</text><g class=\"layers\" style=\"opacity: 1;\"><g class=\"legendfill\"/><g class=\"legendlines\"/><g class=\"legendsymbols\"><g class=\"legendpoints\"><path class=\"legendundefined\" d=\"M6,6H-6V-6H6Z\" transform=\"translate(20,0)\" style=\"stroke-width: 0.5px; fill: rgb(248, 118, 109); fill-opacity: 1; stroke: rgb(237, 237, 237); stroke-opacity: 1;\"/></g></g></g><rect class=\"legendtoggle\" x=\"0\" y=\"-9.5\" width=\"188.234375\" height=\"19\" style=\"fill: rgb(0, 0, 0); fill-opacity: 0;\"/></g></g><g class=\"groups\" transform=\"\"><g class=\"traces\" transform=\"translate(0,146.7)\" style=\"opacity: 1;\"><text class=\"legendtext\" text-anchor=\"start\" x=\"40\" y=\"4.680000000000001\" style=\"font-family: 'Open Sans', verdana, arial, sans-serif; font-size: 12px; fill: rgb(51, 51, 51); fill-opacity: 1; white-space: pre;\">1.3299999999999998</text><g class=\"layers\" style=\"opacity: 1;\"><g class=\"legendfill\"/><g class=\"legendlines\"/><g class=\"legendsymbols\"><g class=\"legendpoints\"><path class=\"legendundefined\" d=\"M6,6H-6V-6H6Z\" transform=\"translate(20,0)\" style=\"stroke-width: 0.5px; fill: rgb(163, 165, 0); fill-opacity: 1; stroke: rgb(237, 237, 237); stroke-opacity: 1;\"/></g></g></g><rect class=\"legendtoggle\" x=\"0\" y=\"-9.5\" width=\"188.234375\" height=\"19\" style=\"fill: rgb(0, 0, 0); fill-opacity: 0;\"/></g></g><g class=\"groups\" transform=\"\"><g class=\"traces\" transform=\"translate(0,165.7)\" style=\"opacity: 1;\"><text class=\"legendtext\" text-anchor=\"start\" x=\"40\" y=\"4.680000000000001\" style=\"font-family: 'Open Sans', verdana, arial, sans-serif; font-size: 12px; fill: rgb(51, 51, 51); fill-opacity: 1; white-space: pre;\">1.37</text><g class=\"layers\" style=\"opacity: 1;\"><g class=\"legendfill\"/><g class=\"legendlines\"/><g class=\"legendsymbols\"><g class=\"legendpoints\"><path class=\"legendundefined\" d=\"M6,6H-6V-6H6Z\" transform=\"translate(20,0)\" style=\"stroke-width: 0.5px; fill: rgb(0, 191, 125); fill-opacity: 1; stroke: rgb(237, 237, 237); stroke-opacity: 1;\"/></g></g></g><rect class=\"legendtoggle\" x=\"0\" y=\"-9.5\" width=\"188.234375\" height=\"19\" style=\"fill: rgb(0, 0, 0); fill-opacity: 0;\"/></g></g><g class=\"groups\" transform=\"\"><g class=\"traces\" transform=\"translate(0,184.7)\" style=\"opacity: 1;\"><text class=\"legendtext\" text-anchor=\"start\" x=\"40\" y=\"4.680000000000001\" style=\"font-family: 'Open Sans', verdana, arial, sans-serif; font-size: 12px; fill: rgb(51, 51, 51); fill-opacity: 1; white-space: pre;\">1.08</text><g class=\"layers\" style=\"opacity: 1;\"><g class=\"legendfill\"/><g class=\"legendlines\"/><g class=\"legendsymbols\"><g class=\"legendpoints\"><path class=\"legendundefined\" d=\"M6,6H-6V-6H6Z\" transform=\"translate(20,0)\" style=\"stroke-width: 0.5px; fill: rgb(0, 176, 246); fill-opacity: 1; stroke: rgb(237, 237, 237); stroke-opacity: 1;\"/></g></g></g><rect class=\"legendtoggle\" x=\"0\" y=\"-9.5\" width=\"188.234375\" height=\"19\" style=\"fill: rgb(0, 0, 0); fill-opacity: 0;\"/></g></g><g class=\"groups\" transform=\"\"><g class=\"traces\" transform=\"translate(0,203.7)\" style=\"opacity: 1;\"><text class=\"legendtext\" text-anchor=\"start\" x=\"40\" y=\"4.680000000000001\" style=\"font-family: 'Open Sans', verdana, arial, sans-serif; font-size: 12px; fill: rgb(51, 51, 51); fill-opacity: 1; white-space: pre;\">1.35</text><g class=\"layers\" style=\"opacity: 1;\"><g class=\"legendfill\"/><g class=\"legendlines\"/><g class=\"legendsymbols\"><g class=\"legendpoints\"><path class=\"legendundefined\" d=\"M6,6H-6V-6H6Z\" transform=\"translate(20,0)\" style=\"stroke-width: 0.5px; fill: rgb(231, 107, 243); fill-opacity: 1; stroke: rgb(237, 237, 237); stroke-opacity: 1;\"/></g></g></g><rect class=\"legendtoggle\" x=\"0\" y=\"-9.5\" width=\"188.234375\" height=\"19\" style=\"fill: rgb(0, 0, 0); fill-opacity: 0;\"/></g></g><g class=\"groups\" transform=\"\"><g class=\"traces\" transform=\"translate(0,222.7)\" style=\"opacity: 1;\"><text class=\"legendtext\" text-anchor=\"start\" x=\"40\" y=\"4.680000000000001\" style=\"font-family: 'Open Sans', verdana, arial, sans-serif; font-size: 12px; fill: rgb(51, 51, 51); fill-opacity: 1; white-space: pre;\">1.5599999999999998</text><g class=\"layers\" style=\"opacity: 1;\"><g class=\"legendfill\"/><g class=\"legendlines\"/><g class=\"legendsymbols\"><g class=\"legendpoints\"><path class=\"legendundefined\" d=\"M6,6H-6V-6H6Z\" transform=\"translate(20,0)\" style=\"stroke-width: 0.5px; fill: rgb(248, 118, 109); fill-opacity: 1; stroke: rgb(237, 237, 237); stroke-opacity: 1;\"/></g></g></g><rect class=\"legendtoggle\" x=\"0\" y=\"-9.5\" width=\"188.234375\" height=\"19\" style=\"fill: rgb(0, 0, 0); fill-opacity: 0;\"/></g></g><g class=\"groups\" transform=\"\"><g class=\"traces\" transform=\"translate(0,241.7)\" style=\"opacity: 1;\"><text class=\"legendtext\" text-anchor=\"start\" x=\"40\" y=\"4.680000000000001\" style=\"font-family: 'Open Sans', verdana, arial, sans-serif; font-size: 12px; fill: rgb(51, 51, 51); fill-opacity: 1; white-space: pre;\">1.6099999999999999</text><g class=\"layers\" style=\"opacity: 1;\"><g class=\"legendfill\"/><g class=\"legendlines\"/><g class=\"legendsymbols\"><g class=\"legendpoints\"><path class=\"legendundefined\" d=\"M6,6H-6V-6H6Z\" transform=\"translate(20,0)\" style=\"stroke-width: 0.5px; fill: rgb(163, 165, 0); fill-opacity: 1; stroke: rgb(237, 237, 237); stroke-opacity: 1;\"/></g></g></g><rect class=\"legendtoggle\" x=\"0\" y=\"-9.5\" width=\"188.234375\" height=\"19\" style=\"fill: rgb(0, 0, 0); fill-opacity: 0;\"/></g></g><g class=\"groups\" transform=\"\"><g class=\"traces\" transform=\"translate(0,260.7)\" style=\"opacity: 1;\"><text class=\"legendtext\" text-anchor=\"start\" x=\"40\" y=\"4.680000000000001\" style=\"font-family: 'Open Sans', verdana, arial, sans-serif; font-size: 12px; fill: rgb(51, 51, 51); fill-opacity: 1; white-space: pre;\">0.61</text><g class=\"layers\" style=\"opacity: 1;\"><g class=\"legendfill\"/><g class=\"legendlines\"/><g class=\"legendsymbols\"><g class=\"legendpoints\"><path class=\"legendundefined\" d=\"M6,6H-6V-6H6Z\" transform=\"translate(20,0)\" style=\"stroke-width: 0.5px; fill: rgb(0, 191, 125); fill-opacity: 1; stroke: rgb(237, 237, 237); stroke-opacity: 1;\"/></g></g></g><rect class=\"legendtoggle\" x=\"0\" y=\"-9.5\" width=\"188.234375\" height=\"19\" style=\"fill: rgb(0, 0, 0); fill-opacity: 0;\"/></g></g><g class=\"groups\" transform=\"\"><g class=\"traces\" transform=\"translate(0,279.7)\" style=\"opacity: 1;\"><text class=\"legendtext\" text-anchor=\"start\" x=\"40\" y=\"4.680000000000001\" style=\"font-family: 'Open Sans', verdana, arial, sans-serif; font-size: 12px; fill: rgb(51, 51, 51); fill-opacity: 1; white-space: pre;\">1.17</text><g class=\"layers\" style=\"opacity: 1;\"><g class=\"legendfill\"/><g class=\"legendlines\"/><g class=\"legendsymbols\"><g class=\"legendpoints\"><path class=\"legendundefined\" d=\"M6,6H-6V-6H6Z\" transform=\"translate(20,0)\" style=\"stroke-width: 0.5px; fill: rgb(0, 176, 246); fill-opacity: 1; stroke: rgb(237, 237, 237); stroke-opacity: 1;\"/></g></g></g><rect class=\"legendtoggle\" x=\"0\" y=\"-9.5\" width=\"188.234375\" height=\"19\" style=\"fill: rgb(0, 0, 0); fill-opacity: 0;\"/></g></g><g class=\"groups\" transform=\"\"><g class=\"traces\" transform=\"translate(0,298.7)\" style=\"opacity: 1;\"><text class=\"legendtext\" text-anchor=\"start\" x=\"40\" y=\"4.680000000000001\" style=\"font-family: 'Open Sans', verdana, arial, sans-serif; font-size: 12px; fill: rgb(51, 51, 51); fill-opacity: 1; white-space: pre;\">0.5700000000000001</text><g class=\"layers\" style=\"opacity: 1;\"><g class=\"legendfill\"/><g class=\"legendlines\"/><g class=\"legendsymbols\"><g class=\"legendpoints\"><path class=\"legendundefined\" d=\"M6,6H-6V-6H6Z\" transform=\"translate(20,0)\" style=\"stroke-width: 0.5px; fill: rgb(231, 107, 243); fill-opacity: 1; stroke: rgb(237, 237, 237); stroke-opacity: 1;\"/></g></g></g><rect class=\"legendtoggle\" x=\"0\" y=\"-9.5\" width=\"188.234375\" height=\"19\" style=\"fill: rgb(0, 0, 0); fill-opacity: 0;\"/></g></g><g class=\"groups\" transform=\"\"><g class=\"traces\" transform=\"translate(0,317.7)\" style=\"opacity: 1;\"><text class=\"legendtext\" text-anchor=\"start\" x=\"40\" y=\"4.680000000000001\" style=\"font-family: 'Open Sans', verdana, arial, sans-serif; font-size: 12px; fill: rgb(51, 51, 51); fill-opacity: 1; white-space: pre;\">0.49</text><g class=\"layers\" style=\"opacity: 1;\"><g class=\"legendfill\"/><g class=\"legendlines\"/><g class=\"legendsymbols\"><g class=\"legendpoints\"><path class=\"legendundefined\" d=\"M6,6H-6V-6H6Z\" transform=\"translate(20,0)\" style=\"stroke-width: 0.5px; fill: rgb(248, 118, 109); fill-opacity: 1; stroke: rgb(237, 237, 237); stroke-opacity: 1;\"/></g></g></g><rect class=\"legendtoggle\" x=\"0\" y=\"-9.5\" width=\"188.234375\" height=\"19\" style=\"fill: rgb(0, 0, 0); fill-opacity: 0;\"/></g></g><g class=\"groups\" transform=\"\"><g class=\"traces\" transform=\"translate(0,336.7)\" style=\"opacity: 1;\"><text class=\"legendtext\" text-anchor=\"start\" x=\"40\" y=\"4.680000000000001\" style=\"font-family: 'Open Sans', verdana, arial, sans-serif; font-size: 12px; fill: rgb(51, 51, 51); fill-opacity: 1; white-space: pre;\">1.4500000000000002</text><g class=\"layers\" style=\"opacity: 1;\"><g class=\"legendfill\"/><g class=\"legendlines\"/><g class=\"legendsymbols\"><g class=\"legendpoints\"><path class=\"legendundefined\" d=\"M6,6H-6V-6H6Z\" transform=\"translate(20,0)\" style=\"stroke-width: 0.5px; fill: rgb(163, 165, 0); fill-opacity: 1; stroke: rgb(237, 237, 237); stroke-opacity: 1;\"/></g></g></g><rect class=\"legendtoggle\" x=\"0\" y=\"-9.5\" width=\"188.234375\" height=\"19\" style=\"fill: rgb(0, 0, 0); fill-opacity: 0;\"/></g></g><g class=\"groups\" transform=\"\"><g class=\"traces\" transform=\"translate(0,355.7)\" style=\"opacity: 1;\"><text class=\"legendtext\" text-anchor=\"start\" x=\"40\" y=\"4.680000000000001\" style=\"font-family: 'Open Sans', verdana, arial, sans-serif; font-size: 12px; fill: rgb(51, 51, 51); fill-opacity: 1; white-space: pre;\">1.82</text><g class=\"layers\" style=\"opacity: 1;\"><g class=\"legendfill\"/><g class=\"legendlines\"/><g class=\"legendsymbols\"><g class=\"legendpoints\"><path class=\"legendundefined\" d=\"M6,6H-6V-6H6Z\" transform=\"translate(20,0)\" style=\"stroke-width: 0.5px; fill: rgb(0, 191, 125); fill-opacity: 1; stroke: rgb(237, 237, 237); stroke-opacity: 1;\"/></g></g></g><rect class=\"legendtoggle\" x=\"0\" y=\"-9.5\" width=\"188.234375\" height=\"19\" style=\"fill: rgb(0, 0, 0); fill-opacity: 0;\"/></g></g><g class=\"groups\" transform=\"\"><g class=\"traces\" transform=\"translate(0,374.7)\" style=\"opacity: 1;\"><text class=\"legendtext\" text-anchor=\"start\" x=\"40\" y=\"4.680000000000001\" style=\"font-family: 'Open Sans', verdana, arial, sans-serif; font-size: 12px; fill: rgb(51, 51, 51); fill-opacity: 1; white-space: pre;\">0.7799999999999999</text><g class=\"layers\" style=\"opacity: 1;\"><g class=\"legendfill\"/><g class=\"legendlines\"/><g class=\"legendsymbols\"><g class=\"legendpoints\"><path class=\"legendundefined\" d=\"M6,6H-6V-6H6Z\" transform=\"translate(20,0)\" style=\"stroke-width: 0.5px; fill: rgb(0, 176, 246); fill-opacity: 1; stroke: rgb(237, 237, 237); stroke-opacity: 1;\"/></g></g></g><rect class=\"legendtoggle\" x=\"0\" y=\"-9.5\" width=\"188.234375\" height=\"19\" style=\"fill: rgb(0, 0, 0); fill-opacity: 0;\"/></g></g><g class=\"groups\" transform=\"\"><g class=\"traces\" transform=\"translate(0,393.7)\" style=\"opacity: 1;\"><text class=\"legendtext\" text-anchor=\"start\" x=\"40\" y=\"4.680000000000001\" style=\"font-family: 'Open Sans', verdana, arial, sans-serif; font-size: 12px; fill: rgb(51, 51, 51); fill-opacity: 1; white-space: pre;\">0.8999999999999999</text><g class=\"layers\" style=\"opacity: 1;\"><g class=\"legendfill\"/><g class=\"legendlines\"/><g class=\"legendsymbols\"><g class=\"legendpoints\"><path class=\"legendundefined\" d=\"M6,6H-6V-6H6Z\" transform=\"translate(20,0)\" style=\"stroke-width: 0.5px; fill: rgb(231, 107, 243); fill-opacity: 1; stroke: rgb(237, 237, 237); stroke-opacity: 1;\"/></g></g></g><rect class=\"legendtoggle\" x=\"0\" y=\"-9.5\" width=\"188.234375\" height=\"19\" style=\"fill: rgb(0, 0, 0); fill-opacity: 0;\"/></g></g><g class=\"groups\" transform=\"\"><g class=\"traces\" transform=\"translate(0,412.7)\" style=\"opacity: 1;\"><text class=\"legendtext\" text-anchor=\"start\" x=\"40\" y=\"4.680000000000001\" style=\"font-family: 'Open Sans', verdana, arial, sans-serif; font-size: 12px; fill: rgb(51, 51, 51); fill-opacity: 1; white-space: pre;\">1.0999999999999999</text><g class=\"layers\" style=\"opacity: 1;\"><g class=\"legendfill\"/><g class=\"legendlines\"/><g class=\"legendsymbols\"><g class=\"legendpoints\"><path class=\"legendundefined\" d=\"M6,6H-6V-6H6Z\" transform=\"translate(20,0)\" style=\"stroke-width: 0.5px; fill: rgb(248, 118, 109); fill-opacity: 1; stroke: rgb(237, 237, 237); stroke-opacity: 1;\"/></g></g></g><rect class=\"legendtoggle\" x=\"0\" y=\"-9.5\" width=\"188.234375\" height=\"19\" style=\"fill: rgb(0, 0, 0); fill-opacity: 0;\"/></g></g><g class=\"groups\" transform=\"\"><g class=\"traces\" transform=\"translate(0,431.7)\" style=\"opacity: 1;\"><text class=\"legendtext\" text-anchor=\"start\" x=\"40\" y=\"4.680000000000001\" style=\"font-family: 'Open Sans', verdana, arial, sans-serif; font-size: 12px; fill: rgb(51, 51, 51); fill-opacity: 1; white-space: pre;\">1.31</text><g class=\"layers\" style=\"opacity: 1;\"><g class=\"legendfill\"/><g class=\"legendlines\"/><g class=\"legendsymbols\"><g class=\"legendpoints\"><path class=\"legendundefined\" d=\"M6,6H-6V-6H6Z\" transform=\"translate(20,0)\" style=\"stroke-width: 0.5px; fill: rgb(163, 165, 0); fill-opacity: 1; stroke: rgb(237, 237, 237); stroke-opacity: 1;\"/></g></g></g><rect class=\"legendtoggle\" x=\"0\" y=\"-9.5\" width=\"188.234375\" height=\"19\" style=\"fill: rgb(0, 0, 0); fill-opacity: 0;\"/></g></g><g class=\"groups\" transform=\"\"><g class=\"traces\" transform=\"translate(0,450.7)\" style=\"opacity: 1;\"><text class=\"legendtext\" text-anchor=\"start\" x=\"40\" y=\"4.680000000000001\" style=\"font-family: 'Open Sans', verdana, arial, sans-serif; font-size: 12px; fill: rgb(51, 51, 51); fill-opacity: 1; white-space: pre;\">1.59</text><g class=\"layers\" style=\"opacity: 1;\"><g class=\"legendfill\"/><g class=\"legendlines\"/><g class=\"legendsymbols\"><g class=\"legendpoints\"><path class=\"legendundefined\" d=\"M6,6H-6V-6H6Z\" transform=\"translate(20,0)\" style=\"stroke-width: 0.5px; fill: rgb(0, 191, 125); fill-opacity: 1; stroke: rgb(237, 237, 237); stroke-opacity: 1;\"/></g></g></g><rect class=\"legendtoggle\" x=\"0\" y=\"-9.5\" width=\"188.234375\" height=\"19\" style=\"fill: rgb(0, 0, 0); fill-opacity: 0;\"/></g></g><g class=\"groups\" transform=\"\"><g class=\"traces\" transform=\"translate(0,469.7)\" style=\"opacity: 1;\"><text class=\"legendtext\" text-anchor=\"start\" x=\"40\" y=\"4.680000000000001\" style=\"font-family: 'Open Sans', verdana, arial, sans-serif; font-size: 12px; fill: rgb(51, 51, 51); fill-opacity: 1; white-space: pre;\">1.25</text><g class=\"layers\" style=\"opacity: 1;\"><g class=\"legendfill\"/><g class=\"legendlines\"/><g class=\"legendsymbols\"><g class=\"legendpoints\"><path class=\"legendundefined\" d=\"M6,6H-6V-6H6Z\" transform=\"translate(20,0)\" style=\"stroke-width: 0.5px; fill: rgb(0, 176, 246); fill-opacity: 1; stroke: rgb(237, 237, 237); stroke-opacity: 1;\"/></g></g></g><rect class=\"legendtoggle\" x=\"0\" y=\"-9.5\" width=\"188.234375\" height=\"19\" style=\"fill: rgb(0, 0, 0); fill-opacity: 0;\"/></g></g><g class=\"groups\" transform=\"\"><g class=\"traces\" transform=\"translate(0,488.7)\" style=\"opacity: 1;\"><text class=\"legendtext\" text-anchor=\"start\" x=\"40\" y=\"4.680000000000001\" style=\"font-family: 'Open Sans', verdana, arial, sans-serif; font-size: 12px; fill: rgb(51, 51, 51); fill-opacity: 1; white-space: pre;\">2.79</text><g class=\"layers\" style=\"opacity: 1;\"><g class=\"legendfill\"/><g class=\"legendlines\"/><g class=\"legendsymbols\"><g class=\"legendpoints\"><path class=\"legendundefined\" d=\"M6,6H-6V-6H6Z\" transform=\"translate(20,0)\" style=\"stroke-width: 0.5px; fill: rgb(231, 107, 243); fill-opacity: 1; stroke: rgb(237, 237, 237); stroke-opacity: 1;\"/></g></g></g><rect class=\"legendtoggle\" x=\"0\" y=\"-9.5\" width=\"188.234375\" height=\"19\" style=\"fill: rgb(0, 0, 0); fill-opacity: 0;\"/></g></g><g class=\"groups\" transform=\"\"><g class=\"traces\" transform=\"translate(0,507.7)\" style=\"opacity: 1;\"><text class=\"legendtext\" text-anchor=\"start\" x=\"40\" y=\"4.680000000000001\" style=\"font-family: 'Open Sans', verdana, arial, sans-serif; font-size: 12px; fill: rgb(51, 51, 51); fill-opacity: 1; white-space: pre;\">0.76</text><g class=\"layers\" style=\"opacity: 1;\"><g class=\"legendfill\"/><g class=\"legendlines\"/><g class=\"legendsymbols\"><g class=\"legendpoints\"><path class=\"legendundefined\" d=\"M6,6H-6V-6H6Z\" transform=\"translate(20,0)\" style=\"stroke-width: 0.5px; fill: rgb(248, 118, 109); fill-opacity: 1; stroke: rgb(237, 237, 237); stroke-opacity: 1;\"/></g></g></g><rect class=\"legendtoggle\" x=\"0\" y=\"-9.5\" width=\"188.234375\" height=\"19\" style=\"fill: rgb(0, 0, 0); fill-opacity: 0;\"/></g></g><g class=\"groups\" transform=\"\"><g class=\"traces\" transform=\"translate(0,526.7)\" style=\"opacity: 1;\"><text class=\"legendtext\" text-anchor=\"start\" x=\"40\" y=\"4.680000000000001\" style=\"font-family: 'Open Sans', verdana, arial, sans-serif; font-size: 12px; fill: rgb(51, 51, 51); fill-opacity: 1; white-space: pre;\">1.49</text><g class=\"layers\" style=\"opacity: 1;\"><g class=\"legendfill\"/><g class=\"legendlines\"/><g class=\"legendsymbols\"><g class=\"legendpoints\"><path class=\"legendundefined\" d=\"M6,6H-6V-6H6Z\" transform=\"translate(20,0)\" style=\"stroke-width: 0.5px; fill: rgb(163, 165, 0); fill-opacity: 1; stroke: rgb(237, 237, 237); stroke-opacity: 1;\"/></g></g></g><rect class=\"legendtoggle\" x=\"0\" y=\"-9.5\" width=\"188.234375\" height=\"19\" style=\"fill: rgb(0, 0, 0); fill-opacity: 0;\"/></g></g><g class=\"groups\" transform=\"\"><g class=\"traces\" transform=\"translate(0,545.7)\" style=\"opacity: 1;\"><text class=\"legendtext\" text-anchor=\"start\" x=\"40\" y=\"4.680000000000001\" style=\"font-family: 'Open Sans', verdana, arial, sans-serif; font-size: 12px; fill: rgb(51, 51, 51); fill-opacity: 1; white-space: pre;\">1.32</text><g class=\"layers\" style=\"opacity: 1;\"><g class=\"legendfill\"/><g class=\"legendlines\"/><g class=\"legendsymbols\"><g class=\"legendpoints\"><path class=\"legendundefined\" d=\"M6,6H-6V-6H6Z\" transform=\"translate(20,0)\" style=\"stroke-width: 0.5px; fill: rgb(0, 191, 125); fill-opacity: 1; stroke: rgb(237, 237, 237); stroke-opacity: 1;\"/></g></g></g><rect class=\"legendtoggle\" x=\"0\" y=\"-9.5\" width=\"188.234375\" height=\"19\" style=\"fill: rgb(0, 0, 0); fill-opacity: 0;\"/></g></g><g class=\"groups\" transform=\"\"><g class=\"traces\" transform=\"translate(0,564.7)\" style=\"opacity: 1;\"><text class=\"legendtext\" text-anchor=\"start\" x=\"40\" y=\"4.680000000000001\" style=\"font-family: 'Open Sans', verdana, arial, sans-serif; font-size: 12px; fill: rgb(51, 51, 51); fill-opacity: 1; white-space: pre;\">1.72</text><g class=\"layers\" style=\"opacity: 1;\"><g class=\"legendfill\"/><g class=\"legendlines\"/><g class=\"legendsymbols\"><g class=\"legendpoints\"><path class=\"legendundefined\" d=\"M6,6H-6V-6H6Z\" transform=\"translate(20,0)\" style=\"stroke-width: 0.5px; fill: rgb(0, 176, 246); fill-opacity: 1; stroke: rgb(237, 237, 237); stroke-opacity: 1;\"/></g></g></g><rect class=\"legendtoggle\" x=\"0\" y=\"-9.5\" width=\"188.234375\" height=\"19\" style=\"fill: rgb(0, 0, 0); fill-opacity: 0;\"/></g></g><g class=\"groups\" transform=\"\"><g class=\"traces\" transform=\"translate(0,583.7)\" style=\"opacity: 1;\"><text class=\"legendtext\" text-anchor=\"start\" x=\"40\" y=\"4.680000000000001\" style=\"font-family: 'Open Sans', verdana, arial, sans-serif; font-size: 12px; fill: rgb(51, 51, 51); fill-opacity: 1; white-space: pre;\">1.24</text><g class=\"layers\" style=\"opacity: 1;\"><g class=\"legendfill\"/><g class=\"legendlines\"/><g class=\"legendsymbols\"><g class=\"legendpoints\"><path class=\"legendundefined\" d=\"M6,6H-6V-6H6Z\" transform=\"translate(20,0)\" style=\"stroke-width: 0.5px; fill: rgb(231, 107, 243); fill-opacity: 1; stroke: rgb(237, 237, 237); stroke-opacity: 1;\"/></g></g></g><rect class=\"legendtoggle\" x=\"0\" y=\"-9.5\" width=\"188.234375\" height=\"19\" style=\"fill: rgb(0, 0, 0); fill-opacity: 0;\"/></g></g><g class=\"groups\" transform=\"\"><g class=\"traces\" transform=\"translate(0,602.7)\" style=\"opacity: 1;\"><text class=\"legendtext\" text-anchor=\"start\" x=\"40\" y=\"4.680000000000001\" style=\"font-family: 'Open Sans', verdana, arial, sans-serif; font-size: 12px; fill: rgb(51, 51, 51); fill-opacity: 1; white-space: pre;\">2.12</text><g class=\"layers\" style=\"opacity: 1;\"><g class=\"legendfill\"/><g class=\"legendlines\"/><g class=\"legendsymbols\"><g class=\"legendpoints\"><path class=\"legendundefined\" d=\"M6,6H-6V-6H6Z\" transform=\"translate(20,0)\" style=\"stroke-width: 0.5px; fill: rgb(248, 118, 109); fill-opacity: 1; stroke: rgb(237, 237, 237); stroke-opacity: 1;\"/></g></g></g><rect class=\"legendtoggle\" x=\"0\" y=\"-9.5\" width=\"188.234375\" height=\"19\" style=\"fill: rgb(0, 0, 0); fill-opacity: 0;\"/></g></g></g><rect class=\"scrollbar\" rx=\"20\" ry=\"3\" width=\"0\" height=\"0\" style=\"fill: rgb(128, 139, 164); fill-opacity: 1;\" x=\"0\" y=\"0\"/></g><g class=\"g-gtitle\"><text class=\"gtitle\" x=\"350\" y=\"50\" text-anchor=\"middle\" dy=\"0em\" style=\"font-family: 'Open Sans', verdana, arial, sans-serif; font-size: 17px; fill: rgb(51, 51, 51); opacity: 1; font-weight: normal; white-space: pre;\">Impact of deaths across states</text></g><g class=\"g-xtitle\"><text class=\"xtitle\" x=\"358\" y=\"618.20625\" text-anchor=\"middle\" style=\"font-family: 'Open Sans', verdana, arial, sans-serif; font-size: 14px; fill: rgb(51, 51, 51); opacity: 1; font-weight: normal; white-space: pre;\">percentage died</text></g><g class=\"g-ytitle\" transform=\"translate(1.8310546875,0)\"><text class=\"ytitle\" transform=\"rotate(-90,12.168749999999989,335)\" x=\"12.168749999999989\" y=\"335\" text-anchor=\"middle\" style=\"font-family: 'Open Sans', verdana, arial, sans-serif; font-size: 14px; fill: rgb(51, 51, 51); opacity: 1; font-weight: normal; white-space: pre;\">State</text></g></g></svg>"
      ]
     },
     "metadata": {},
     "output_type": "display_data"
    }
   ],
   "source": [
    "graph = px.bar(plot_deceased, y='State',x='percentage died',color='impact status',\n",
    "            title='Impact of deaths across states',template='ggplot2',height=650)\n",
    "\n",
    "graph.show(renderer=\"svg\")"
   ]
  },
  {
   "cell_type": "code",
   "execution_count": 53,
   "id": "d50cac09",
   "metadata": {},
   "outputs": [
    {
     "data": {
      "image/svg+xml": [
       "<svg class=\"main-svg\" xmlns=\"http://www.w3.org/2000/svg\" xmlns:xlink=\"http://www.w3.org/1999/xlink\" width=\"700\" height=\"650\" style=\"\" viewBox=\"0 0 700 650\"><rect x=\"0\" y=\"0\" width=\"700\" height=\"650\" style=\"fill: rgb(255, 255, 255); fill-opacity: 1;\"/><defs id=\"defs-c0c632\"><g class=\"clips\"><clipPath id=\"clipc0c632xyplot\" class=\"plotclip\"><rect width=\"376\" height=\"470\"/></clipPath><clipPath class=\"axesclip\" id=\"clipc0c632x\"><rect x=\"189\" y=\"0\" width=\"376\" height=\"650\"/></clipPath><clipPath class=\"axesclip\" id=\"clipc0c632y\"><rect x=\"0\" y=\"100\" width=\"700\" height=\"470\"/></clipPath><clipPath class=\"axesclip\" id=\"clipc0c632xy\"><rect x=\"189\" y=\"100\" width=\"376\" height=\"470\"/></clipPath></g><g class=\"gradients\"><linearGradient x1=\"0\" x2=\"0\" y1=\"1\" y2=\"0\" id=\"gc0c632-cbcoloraxis\"><stop offset=\"0%\" stop-color=\"rgb(20, 44, 66)\" stop-opacity=\"1\"/><stop offset=\"100%\" stop-color=\"rgb(90, 179, 244)\" stop-opacity=\"1\"/></linearGradient></g><g class=\"patterns\"/></defs><g class=\"bglayer\"><rect class=\"bg\" x=\"189\" y=\"100\" width=\"376\" height=\"470\" style=\"fill: rgb(237, 237, 237); fill-opacity: 1; stroke-width: 0;\"/></g><g class=\"layer-below\"><g class=\"imagelayer\"/><g class=\"shapelayer\"/></g><g class=\"cartesianlayer\"><g class=\"subplot xy\"><g class=\"layer-subplot\"><g class=\"shapelayer\"/><g class=\"imagelayer\"/></g><g class=\"gridlayer\"><g class=\"x\"><path class=\"xgrid crisp\" transform=\"translate(264.01,0)\" d=\"M0,100v470\" style=\"stroke: rgb(255, 255, 255); stroke-opacity: 1; stroke-width: 1px;\"/><path class=\"xgrid crisp\" transform=\"translate(339.02,0)\" d=\"M0,100v470\" style=\"stroke: rgb(255, 255, 255); stroke-opacity: 1; stroke-width: 1px;\"/><path class=\"xgrid crisp\" transform=\"translate(414.03,0)\" d=\"M0,100v470\" style=\"stroke: rgb(255, 255, 255); stroke-opacity: 1; stroke-width: 1px;\"/><path class=\"xgrid crisp\" transform=\"translate(489.04,0)\" d=\"M0,100v470\" style=\"stroke: rgb(255, 255, 255); stroke-opacity: 1; stroke-width: 1px;\"/></g><g class=\"y\"><path class=\"ygrid crisp\" transform=\"translate(0,563.29)\" d=\"M189,0h376\" style=\"stroke: rgb(255, 255, 255); stroke-opacity: 1; stroke-width: 1px;\"/><path class=\"ygrid crisp\" transform=\"translate(0,536.4300000000001)\" d=\"M189,0h376\" style=\"stroke: rgb(255, 255, 255); stroke-opacity: 1; stroke-width: 1px;\"/><path class=\"ygrid crisp\" transform=\"translate(0,509.57)\" d=\"M189,0h376\" style=\"stroke: rgb(255, 255, 255); stroke-opacity: 1; stroke-width: 1px;\"/><path class=\"ygrid crisp\" transform=\"translate(0,482.71)\" d=\"M189,0h376\" style=\"stroke: rgb(255, 255, 255); stroke-opacity: 1; stroke-width: 1px;\"/><path class=\"ygrid crisp\" transform=\"translate(0,455.86)\" d=\"M189,0h376\" style=\"stroke: rgb(255, 255, 255); stroke-opacity: 1; stroke-width: 1px;\"/><path class=\"ygrid crisp\" transform=\"translate(0,429)\" d=\"M189,0h376\" style=\"stroke: rgb(255, 255, 255); stroke-opacity: 1; stroke-width: 1px;\"/><path class=\"ygrid crisp\" transform=\"translate(0,402.14)\" d=\"M189,0h376\" style=\"stroke: rgb(255, 255, 255); stroke-opacity: 1; stroke-width: 1px;\"/><path class=\"ygrid crisp\" transform=\"translate(0,375.29)\" d=\"M189,0h376\" style=\"stroke: rgb(255, 255, 255); stroke-opacity: 1; stroke-width: 1px;\"/><path class=\"ygrid crisp\" transform=\"translate(0,348.43)\" d=\"M189,0h376\" style=\"stroke: rgb(255, 255, 255); stroke-opacity: 1; stroke-width: 1px;\"/><path class=\"ygrid crisp\" transform=\"translate(0,321.57)\" d=\"M189,0h376\" style=\"stroke: rgb(255, 255, 255); stroke-opacity: 1; stroke-width: 1px;\"/><path class=\"ygrid crisp\" transform=\"translate(0,294.71000000000004)\" d=\"M189,0h376\" style=\"stroke: rgb(255, 255, 255); stroke-opacity: 1; stroke-width: 1px;\"/><path class=\"ygrid crisp\" transform=\"translate(0,267.86)\" d=\"M189,0h376\" style=\"stroke: rgb(255, 255, 255); stroke-opacity: 1; stroke-width: 1px;\"/><path class=\"ygrid crisp\" transform=\"translate(0,241)\" d=\"M189,0h376\" style=\"stroke: rgb(255, 255, 255); stroke-opacity: 1; stroke-width: 1px;\"/><path class=\"ygrid crisp\" transform=\"translate(0,214.14)\" d=\"M189,0h376\" style=\"stroke: rgb(255, 255, 255); stroke-opacity: 1; stroke-width: 1px;\"/><path class=\"ygrid crisp\" transform=\"translate(0,187.29000000000002)\" d=\"M189,0h376\" style=\"stroke: rgb(255, 255, 255); stroke-opacity: 1; stroke-width: 1px;\"/><path class=\"ygrid crisp\" transform=\"translate(0,160.43)\" d=\"M189,0h376\" style=\"stroke: rgb(255, 255, 255); stroke-opacity: 1; stroke-width: 1px;\"/><path class=\"ygrid crisp\" transform=\"translate(0,133.57)\" d=\"M189,0h376\" style=\"stroke: rgb(255, 255, 255); stroke-opacity: 1; stroke-width: 1px;\"/><path class=\"ygrid crisp\" transform=\"translate(0,106.71)\" d=\"M189,0h376\" style=\"stroke: rgb(255, 255, 255); stroke-opacity: 1; stroke-width: 1px;\"/></g></g><g class=\"zerolinelayer\"><path class=\"xzl zl crisp\" transform=\"translate(189,0)\" d=\"M0,100v470\" style=\"stroke: rgb(255, 255, 255); stroke-opacity: 1; stroke-width: 1px;\"/></g><path class=\"xlines-below\"/><path class=\"ylines-below\"/><g class=\"overlines-below\"/><g class=\"xaxislayer-below\"/><g class=\"yaxislayer-below\"/><g class=\"overaxes-below\"/><g class=\"plot\" transform=\"translate(189,100)\" clip-path=\"url(#clipc0c632xyplot)\"><g class=\"barlayer mlayer\"><g class=\"trace bars\" style=\"opacity: 1;\"><g class=\"points\"><g class=\"point\"><path d=\"M0,468.66V457.91H352.1V468.66Z\" style=\"vector-effect: non-scaling-stroke; opacity: 1; stroke-width: 0.5px; fill: rgb(81, 162, 221); fill-opacity: 1; stroke: rgb(237, 237, 237); stroke-opacity: 1;\"/></g><g class=\"point\"><path d=\"M0,455.23V444.49H357.2V455.23Z\" style=\"vector-effect: non-scaling-stroke; opacity: 1; stroke-width: 0.5px; fill: rgb(90, 179, 244); fill-opacity: 1; stroke: rgb(237, 237, 237); stroke-opacity: 1;\"/></g><g class=\"point\"><path d=\"M0,441.8V431.06H317.74V441.8Z\" style=\"vector-effect: non-scaling-stroke; opacity: 1; stroke-width: 0.5px; fill: rgb(20, 45, 67); fill-opacity: 1; stroke: rgb(237, 237, 237); stroke-opacity: 1;\"/></g><g class=\"point\"><path d=\"M0,428.37V417.63H317.56V428.37Z\" style=\"vector-effect: non-scaling-stroke; opacity: 1; stroke-width: 0.5px; fill: rgb(20, 44, 66); fill-opacity: 1; stroke: rgb(237, 237, 237); stroke-opacity: 1;\"/></g><g class=\"point\"><path d=\"M0,414.94V404.2H342.54V414.94Z\" style=\"vector-effect: non-scaling-stroke; opacity: 1; stroke-width: 0.5px; fill: rgb(64, 129, 178); fill-opacity: 1; stroke: rgb(237, 237, 237); stroke-opacity: 1;\"/></g><g class=\"point\"><path d=\"M0,401.51V390.77H328.81V401.51Z\" style=\"vector-effect: non-scaling-stroke; opacity: 1; stroke-width: 0.5px; fill: rgb(40, 82, 117); fill-opacity: 1; stroke: rgb(237, 237, 237); stroke-opacity: 1;\"/></g><g class=\"point\"><path d=\"M0,388.09V377.34H332.67V388.09Z\" style=\"vector-effect: non-scaling-stroke; opacity: 1; stroke-width: 0.5px; fill: rgb(47, 95, 134); fill-opacity: 1; stroke: rgb(237, 237, 237); stroke-opacity: 1;\"/></g><g class=\"point\"><path d=\"M0,374.66V363.91H344.22V374.66Z\" style=\"vector-effect: non-scaling-stroke; opacity: 1; stroke-width: 0.5px; fill: rgb(67, 135, 186); fill-opacity: 1; stroke: rgb(237, 237, 237); stroke-opacity: 1;\"/></g><g class=\"point\"><path d=\"M0,361.23V350.49H347.11V361.23Z\" style=\"vector-effect: non-scaling-stroke; opacity: 1; stroke-width: 0.5px; fill: rgb(72, 145, 199); fill-opacity: 1; stroke: rgb(237, 237, 237); stroke-opacity: 1;\"/></g><g class=\"point\"><path d=\"M0,347.8V337.06H334.73V347.8Z\" style=\"vector-effect: non-scaling-stroke; opacity: 1; stroke-width: 0.5px; fill: rgb(50, 102, 143); fill-opacity: 1; stroke: rgb(237, 237, 237); stroke-opacity: 1;\"/></g><g class=\"point\"><path d=\"M0,334.37V323.63H345.05V334.37Z\" style=\"vector-effect: non-scaling-stroke; opacity: 1; stroke-width: 0.5px; fill: rgb(69, 138, 189); fill-opacity: 1; stroke: rgb(237, 237, 237); stroke-opacity: 1;\"/></g><g class=\"point\"><path d=\"M0,320.94V310.2H343.02V320.94Z\" style=\"vector-effect: non-scaling-stroke; opacity: 1; stroke-width: 0.5px; fill: rgb(65, 131, 180); fill-opacity: 1; stroke: rgb(237, 237, 237); stroke-opacity: 1;\"/></g><g class=\"point\"><path d=\"M0,307.51V296.77H340.32V307.51Z\" style=\"vector-effect: non-scaling-stroke; opacity: 1; stroke-width: 0.5px; fill: rgb(60, 122, 168); fill-opacity: 1; stroke: rgb(237, 237, 237); stroke-opacity: 1;\"/></g><g class=\"point\"><path d=\"M0,294.09V283.34H343.29V294.09Z\" style=\"vector-effect: non-scaling-stroke; opacity: 1; stroke-width: 0.5px; fill: rgb(65, 132, 182); fill-opacity: 1; stroke: rgb(237, 237, 237); stroke-opacity: 1;\"/></g><g class=\"point\"><path d=\"M0,280.66V269.91H332.26V280.66Z\" style=\"vector-effect: non-scaling-stroke; opacity: 1; stroke-width: 0.5px; fill: rgb(46, 94, 132); fill-opacity: 1; stroke: rgb(237, 237, 237); stroke-opacity: 1;\"/></g><g class=\"point\"><path d=\"M0,267.23V256.49H341.22V267.23Z\" style=\"vector-effect: non-scaling-stroke; opacity: 1; stroke-width: 0.5px; fill: rgb(62, 125, 172); fill-opacity: 1; stroke: rgb(237, 237, 237); stroke-opacity: 1;\"/></g><g class=\"point\"><path d=\"M0,253.8V243.06H348.31V253.8Z\" style=\"vector-effect: non-scaling-stroke; opacity: 1; stroke-width: 0.5px; fill: rgb(74, 149, 204); fill-opacity: 1; stroke: rgb(237, 237, 237); stroke-opacity: 1;\"/></g><g class=\"point\"><path d=\"M0,240.37V229.63H340.55V240.37Z\" style=\"vector-effect: non-scaling-stroke; opacity: 1; stroke-width: 0.5px; fill: rgb(61, 122, 169); fill-opacity: 1; stroke: rgb(237, 237, 237); stroke-opacity: 1;\"/></g><g class=\"point\"><path d=\"M0,226.94V216.2H346.44V226.94Z\" style=\"vector-effect: non-scaling-stroke; opacity: 1; stroke-width: 0.5px; fill: rgb(71, 142, 196); fill-opacity: 1; stroke: rgb(237, 237, 237); stroke-opacity: 1;\"/></g><g class=\"point\"><path d=\"M0,213.51V202.77H351.46V213.51Z\" style=\"vector-effect: non-scaling-stroke; opacity: 1; stroke-width: 0.5px; fill: rgb(80, 159, 218); fill-opacity: 1; stroke: rgb(237, 237, 237); stroke-opacity: 1;\"/></g><g class=\"point\"><path d=\"M0,200.09V189.34H348.27V200.09Z\" style=\"vector-effect: non-scaling-stroke; opacity: 1; stroke-width: 0.5px; fill: rgb(74, 149, 204); fill-opacity: 1; stroke: rgb(237, 237, 237); stroke-opacity: 1;\"/></g><g class=\"point\"><path d=\"M0,186.66V175.91H353.41V186.66Z\" style=\"vector-effect: non-scaling-stroke; opacity: 1; stroke-width: 0.5px; fill: rgb(83, 166, 227); fill-opacity: 1; stroke: rgb(237, 237, 237); stroke-opacity: 1;\"/></g><g class=\"point\"><path d=\"M0,173.23V162.49H349.4V173.23Z\" style=\"vector-effect: non-scaling-stroke; opacity: 1; stroke-width: 0.5px; fill: rgb(76, 152, 209); fill-opacity: 1; stroke: rgb(237, 237, 237); stroke-opacity: 1;\"/></g><g class=\"point\"><path d=\"M0,159.8V149.06H343.74V159.8Z\" style=\"vector-effect: non-scaling-stroke; opacity: 1; stroke-width: 0.5px; fill: rgb(66, 133, 184); fill-opacity: 1; stroke: rgb(237, 237, 237); stroke-opacity: 1;\"/></g><g class=\"point\"><path d=\"M0,146.37V135.63H344.49V146.37Z\" style=\"vector-effect: non-scaling-stroke; opacity: 1; stroke-width: 0.5px; fill: rgb(68, 136, 187); fill-opacity: 1; stroke: rgb(237, 237, 237); stroke-opacity: 1;\"/></g><g class=\"point\"><path d=\"M0,132.94V122.2H351.91V132.94Z\" style=\"vector-effect: non-scaling-stroke; opacity: 1; stroke-width: 0.5px; fill: rgb(81, 161, 220); fill-opacity: 1; stroke: rgb(237, 237, 237); stroke-opacity: 1;\"/></g><g class=\"point\"><path d=\"M0,119.51V108.77H344.45V119.51Z\" style=\"vector-effect: non-scaling-stroke; opacity: 1; stroke-width: 0.5px; fill: rgb(67, 136, 187); fill-opacity: 1; stroke: rgb(237, 237, 237); stroke-opacity: 1;\"/></g><g class=\"point\"><path d=\"M0,106.09V95.34H351.05V106.09Z\" style=\"vector-effect: non-scaling-stroke; opacity: 1; stroke-width: 0.5px; fill: rgb(79, 158, 216); fill-opacity: 1; stroke: rgb(237, 237, 237); stroke-opacity: 1;\"/></g><g class=\"point\"><path d=\"M0,92.66V81.91H355.89V92.66Z\" style=\"vector-effect: non-scaling-stroke; opacity: 1; stroke-width: 0.5px; fill: rgb(88, 175, 238); fill-opacity: 1; stroke: rgb(237, 237, 237); stroke-opacity: 1;\"/></g><g class=\"point\"><path d=\"M0,79.23V68.49H347.49V79.23Z\" style=\"vector-effect: non-scaling-stroke; opacity: 1; stroke-width: 0.5px; fill: rgb(73, 146, 200); fill-opacity: 1; stroke: rgb(237, 237, 237); stroke-opacity: 1;\"/></g><g class=\"point\"><path d=\"M0,65.8V55.06H352.59V65.8Z\" style=\"vector-effect: non-scaling-stroke; opacity: 1; stroke-width: 0.5px; fill: rgb(82, 163, 223); fill-opacity: 1; stroke: rgb(237, 237, 237); stroke-opacity: 1;\"/></g><g class=\"point\"><path d=\"M0,52.37V41.63H348.95V52.37Z\" style=\"vector-effect: non-scaling-stroke; opacity: 1; stroke-width: 0.5px; fill: rgb(75, 151, 207); fill-opacity: 1; stroke: rgb(237, 237, 237); stroke-opacity: 1;\"/></g><g class=\"point\"><path d=\"M0,38.94V28.2H341.56V38.94Z\" style=\"vector-effect: non-scaling-stroke; opacity: 1; stroke-width: 0.5px; fill: rgb(62, 126, 174); fill-opacity: 1; stroke: rgb(237, 237, 237); stroke-opacity: 1;\"/></g><g class=\"point\"><path d=\"M0,25.51V14.77H338V25.51Z\" style=\"vector-effect: non-scaling-stroke; opacity: 1; stroke-width: 0.5px; fill: rgb(56, 114, 158); fill-opacity: 1; stroke: rgb(237, 237, 237); stroke-opacity: 1;\"/></g><g class=\"point\"><path d=\"M0,12.09V1.34H338.41V12.09Z\" style=\"vector-effect: non-scaling-stroke; opacity: 1; stroke-width: 0.5px; fill: rgb(57, 115, 160); fill-opacity: 1; stroke: rgb(237, 237, 237); stroke-opacity: 1;\"/></g></g></g></g></g><g class=\"overplot\"/><path class=\"xlines-above crisp\" d=\"\" style=\"fill: none; stroke-width: 1px; stroke: rgb(0, 0, 0); stroke-opacity: 0;\"/><path class=\"ylines-above crisp\" d=\"\" style=\"fill: none; stroke-width: 1px; stroke: rgb(0, 0, 0); stroke-opacity: 0;\"/><g class=\"overlines-above\"/><g class=\"xaxislayer-above\"><path class=\"xtick ticks crisp\" d=\"M0,571v5\" transform=\"translate(189,0)\" style=\"stroke: rgb(51, 51, 51); stroke-opacity: 1; stroke-width: 1px;\"/><path class=\"xtick ticks crisp\" d=\"M0,571v5\" transform=\"translate(264.01,0)\" style=\"stroke: rgb(51, 51, 51); stroke-opacity: 1; stroke-width: 1px;\"/><path class=\"xtick ticks crisp\" d=\"M0,571v5\" transform=\"translate(339.02,0)\" style=\"stroke: rgb(51, 51, 51); stroke-opacity: 1; stroke-width: 1px;\"/><path class=\"xtick ticks crisp\" d=\"M0,571v5\" transform=\"translate(414.03,0)\" style=\"stroke: rgb(51, 51, 51); stroke-opacity: 1; stroke-width: 1px;\"/><path class=\"xtick ticks crisp\" d=\"M0,571v5\" transform=\"translate(489.04,0)\" style=\"stroke: rgb(51, 51, 51); stroke-opacity: 1; stroke-width: 1px;\"/><path class=\"xtick ticks crisp\" d=\"M0,571v5\" transform=\"translate(564.05,0)\" style=\"stroke: rgb(51, 51, 51); stroke-opacity: 1; stroke-width: 1px;\"/><g class=\"xtick\"><text text-anchor=\"middle\" x=\"0\" y=\"590.4\" transform=\"translate(189,0)\" style=\"font-family: 'Open Sans', verdana, arial, sans-serif; font-size: 12px; fill: rgb(51, 51, 51); fill-opacity: 1; white-space: pre; opacity: 1;\">0</text></g><g class=\"xtick\"><text text-anchor=\"middle\" x=\"0\" y=\"590.4\" style=\"font-family: 'Open Sans', verdana, arial, sans-serif; font-size: 12px; fill: rgb(51, 51, 51); fill-opacity: 1; white-space: pre; opacity: 1;\" transform=\"translate(264.01,0)\">20</text></g><g class=\"xtick\"><text text-anchor=\"middle\" x=\"0\" y=\"590.4\" style=\"font-family: 'Open Sans', verdana, arial, sans-serif; font-size: 12px; fill: rgb(51, 51, 51); fill-opacity: 1; white-space: pre; opacity: 1;\" transform=\"translate(339.02,0)\">40</text></g><g class=\"xtick\"><text text-anchor=\"middle\" x=\"0\" y=\"590.4\" style=\"font-family: 'Open Sans', verdana, arial, sans-serif; font-size: 12px; fill: rgb(51, 51, 51); fill-opacity: 1; white-space: pre; opacity: 1;\" transform=\"translate(414.03,0)\">60</text></g><g class=\"xtick\"><text text-anchor=\"middle\" x=\"0\" y=\"590.4\" style=\"font-family: 'Open Sans', verdana, arial, sans-serif; font-size: 12px; fill: rgb(51, 51, 51); fill-opacity: 1; white-space: pre; opacity: 1;\" transform=\"translate(489.04,0)\">80</text></g><g class=\"xtick\"><text text-anchor=\"middle\" x=\"0\" y=\"590.4\" style=\"font-family: 'Open Sans', verdana, arial, sans-serif; font-size: 12px; fill: rgb(51, 51, 51); fill-opacity: 1; white-space: pre; opacity: 1;\" transform=\"translate(564.05,0)\">100</text></g></g><g class=\"yaxislayer-above\"><path class=\"ytick ticks crisp\" d=\"M188,0h-5\" transform=\"translate(0,563.29)\" style=\"stroke: rgb(51, 51, 51); stroke-opacity: 1; stroke-width: 1px;\"/><path class=\"ytick ticks crisp\" d=\"M188,0h-5\" transform=\"translate(0,536.4300000000001)\" style=\"stroke: rgb(51, 51, 51); stroke-opacity: 1; stroke-width: 1px;\"/><path class=\"ytick ticks crisp\" d=\"M188,0h-5\" transform=\"translate(0,509.57)\" style=\"stroke: rgb(51, 51, 51); stroke-opacity: 1; stroke-width: 1px;\"/><path class=\"ytick ticks crisp\" d=\"M188,0h-5\" transform=\"translate(0,482.71)\" style=\"stroke: rgb(51, 51, 51); stroke-opacity: 1; stroke-width: 1px;\"/><path class=\"ytick ticks crisp\" d=\"M188,0h-5\" transform=\"translate(0,455.86)\" style=\"stroke: rgb(51, 51, 51); stroke-opacity: 1; stroke-width: 1px;\"/><path class=\"ytick ticks crisp\" d=\"M188,0h-5\" transform=\"translate(0,429)\" style=\"stroke: rgb(51, 51, 51); stroke-opacity: 1; stroke-width: 1px;\"/><path class=\"ytick ticks crisp\" d=\"M188,0h-5\" transform=\"translate(0,402.14)\" style=\"stroke: rgb(51, 51, 51); stroke-opacity: 1; stroke-width: 1px;\"/><path class=\"ytick ticks crisp\" d=\"M188,0h-5\" transform=\"translate(0,375.29)\" style=\"stroke: rgb(51, 51, 51); stroke-opacity: 1; stroke-width: 1px;\"/><path class=\"ytick ticks crisp\" d=\"M188,0h-5\" transform=\"translate(0,348.43)\" style=\"stroke: rgb(51, 51, 51); stroke-opacity: 1; stroke-width: 1px;\"/><path class=\"ytick ticks crisp\" d=\"M188,0h-5\" transform=\"translate(0,321.57)\" style=\"stroke: rgb(51, 51, 51); stroke-opacity: 1; stroke-width: 1px;\"/><path class=\"ytick ticks crisp\" d=\"M188,0h-5\" transform=\"translate(0,294.71000000000004)\" style=\"stroke: rgb(51, 51, 51); stroke-opacity: 1; stroke-width: 1px;\"/><path class=\"ytick ticks crisp\" d=\"M188,0h-5\" transform=\"translate(0,267.86)\" style=\"stroke: rgb(51, 51, 51); stroke-opacity: 1; stroke-width: 1px;\"/><path class=\"ytick ticks crisp\" d=\"M188,0h-5\" transform=\"translate(0,241)\" style=\"stroke: rgb(51, 51, 51); stroke-opacity: 1; stroke-width: 1px;\"/><path class=\"ytick ticks crisp\" d=\"M188,0h-5\" transform=\"translate(0,214.14)\" style=\"stroke: rgb(51, 51, 51); stroke-opacity: 1; stroke-width: 1px;\"/><path class=\"ytick ticks crisp\" d=\"M188,0h-5\" transform=\"translate(0,187.29000000000002)\" style=\"stroke: rgb(51, 51, 51); stroke-opacity: 1; stroke-width: 1px;\"/><path class=\"ytick ticks crisp\" d=\"M188,0h-5\" transform=\"translate(0,160.43)\" style=\"stroke: rgb(51, 51, 51); stroke-opacity: 1; stroke-width: 1px;\"/><path class=\"ytick ticks crisp\" d=\"M188,0h-5\" transform=\"translate(0,133.57)\" style=\"stroke: rgb(51, 51, 51); stroke-opacity: 1; stroke-width: 1px;\"/><path class=\"ytick ticks crisp\" d=\"M188,0h-5\" transform=\"translate(0,106.71)\" style=\"stroke: rgb(51, 51, 51); stroke-opacity: 1; stroke-width: 1px;\"/><g class=\"ytick\"><text text-anchor=\"end\" x=\"180.6\" y=\"4.199999999999999\" transform=\"translate(0,563.29)\" style=\"font-family: 'Open Sans', verdana, arial, sans-serif; font-size: 12px; fill: rgb(51, 51, 51); fill-opacity: 1; white-space: pre; opacity: 1;\">Dadra and Nagar Haveli</text></g><g class=\"ytick\"><text text-anchor=\"end\" x=\"180.6\" y=\"4.199999999999999\" transform=\"translate(0,536.4300000000001)\" style=\"font-family: 'Open Sans', verdana, arial, sans-serif; font-size: 12px; fill: rgb(51, 51, 51); fill-opacity: 1; white-space: pre; opacity: 1;\">Sikkim</text></g><g class=\"ytick\"><text text-anchor=\"end\" x=\"180.6\" y=\"4.199999999999999\" transform=\"translate(0,509.57)\" style=\"font-family: 'Open Sans', verdana, arial, sans-serif; font-size: 12px; fill: rgb(51, 51, 51); fill-opacity: 1; white-space: pre; opacity: 1;\">Lakshadweep</text></g><g class=\"ytick\"><text text-anchor=\"end\" x=\"180.6\" y=\"4.199999999999999\" transform=\"translate(0,482.71)\" style=\"font-family: 'Open Sans', verdana, arial, sans-serif; font-size: 12px; fill: rgb(51, 51, 51); fill-opacity: 1; white-space: pre; opacity: 1;\">Meghalaya</text></g><g class=\"ytick\"><text text-anchor=\"end\" x=\"180.6\" y=\"4.199999999999999\" transform=\"translate(0,455.86)\" style=\"font-family: 'Open Sans', verdana, arial, sans-serif; font-size: 12px; fill: rgb(51, 51, 51); fill-opacity: 1; white-space: pre; opacity: 1;\">Chandigarh</text></g><g class=\"ytick\"><text text-anchor=\"end\" x=\"180.6\" y=\"4.199999999999999\" transform=\"translate(0,429)\" style=\"font-family: 'Open Sans', verdana, arial, sans-serif; font-size: 12px; fill: rgb(51, 51, 51); fill-opacity: 1; white-space: pre; opacity: 1;\">Tripura</text></g><g class=\"ytick\"><text text-anchor=\"end\" x=\"180.6\" y=\"4.199999999999999\" transform=\"translate(0,402.14)\" style=\"font-family: 'Open Sans', verdana, arial, sans-serif; font-size: 12px; fill: rgb(51, 51, 51); fill-opacity: 1; white-space: pre; opacity: 1;\">Himachal Pradesh</text></g><g class=\"ytick\"><text text-anchor=\"end\" x=\"180.6\" y=\"4.199999999999999\" transform=\"translate(0,375.29)\" style=\"font-family: 'Open Sans', verdana, arial, sans-serif; font-size: 12px; fill: rgb(51, 51, 51); fill-opacity: 1; white-space: pre; opacity: 1;\">Uttarakhand</text></g><g class=\"ytick\"><text text-anchor=\"end\" x=\"180.6\" y=\"4.199999999999999\" transform=\"translate(0,348.43)\" style=\"font-family: 'Open Sans', verdana, arial, sans-serif; font-size: 12px; fill: rgb(51, 51, 51); fill-opacity: 1; white-space: pre; opacity: 1;\">Jharkhand</text></g><g class=\"ytick\"><text text-anchor=\"end\" x=\"180.6\" y=\"4.199999999999999\" transform=\"translate(0,321.57)\" style=\"font-family: 'Open Sans', verdana, arial, sans-serif; font-size: 12px; fill: rgb(51, 51, 51); fill-opacity: 1; white-space: pre; opacity: 1;\">Assam</text></g><g class=\"ytick\"><text text-anchor=\"end\" x=\"180.6\" y=\"4.199999999999999\" transform=\"translate(0,294.71000000000004)\" style=\"font-family: 'Open Sans', verdana, arial, sans-serif; font-size: 12px; fill: rgb(51, 51, 51); fill-opacity: 1; white-space: pre; opacity: 1;\">Madhya Pradesh</text></g><g class=\"ytick\"><text text-anchor=\"end\" x=\"180.6\" y=\"4.199999999999999\" transform=\"translate(0,267.86)\" style=\"font-family: 'Open Sans', verdana, arial, sans-serif; font-size: 12px; fill: rgb(51, 51, 51); fill-opacity: 1; white-space: pre; opacity: 1;\">Telangana</text></g><g class=\"ytick\"><text text-anchor=\"end\" x=\"180.6\" y=\"4.199999999999999\" transform=\"translate(0,241)\" style=\"font-family: 'Open Sans', verdana, arial, sans-serif; font-size: 12px; fill: rgb(51, 51, 51); fill-opacity: 1; white-space: pre; opacity: 1;\">Rajasthan</text></g><g class=\"ytick\"><text text-anchor=\"end\" x=\"180.6\" y=\"4.199999999999999\" transform=\"translate(0,214.14)\" style=\"font-family: 'Open Sans', verdana, arial, sans-serif; font-size: 12px; fill: rgb(51, 51, 51); fill-opacity: 1; white-space: pre; opacity: 1;\">Chhattisgarh</text></g><g class=\"ytick\"><text text-anchor=\"end\" x=\"180.6\" y=\"4.199999999999999\" transform=\"translate(0,187.29000000000002)\" style=\"font-family: 'Open Sans', verdana, arial, sans-serif; font-size: 12px; fill: rgb(51, 51, 51); fill-opacity: 1; white-space: pre; opacity: 1;\">Delhi</text></g><g class=\"ytick\"><text text-anchor=\"end\" x=\"180.6\" y=\"4.199999999999999\" transform=\"translate(0,160.43)\" style=\"font-family: 'Open Sans', verdana, arial, sans-serif; font-size: 12px; fill: rgb(51, 51, 51); fill-opacity: 1; white-space: pre; opacity: 1;\">Andhra Pradesh</text></g><g class=\"ytick\"><text text-anchor=\"end\" x=\"180.6\" y=\"4.199999999999999\" transform=\"translate(0,133.57)\" style=\"font-family: 'Open Sans', verdana, arial, sans-serif; font-size: 12px; fill: rgb(51, 51, 51); fill-opacity: 1; white-space: pre; opacity: 1;\">Kerala</text></g><g class=\"ytick\"><text text-anchor=\"end\" x=\"180.6\" y=\"4.199999999999999\" transform=\"translate(0,106.71)\" style=\"font-family: 'Open Sans', verdana, arial, sans-serif; font-size: 12px; fill: rgb(51, 51, 51); fill-opacity: 1; white-space: pre; opacity: 1;\">Maharashtra</text></g></g><g class=\"overaxes-above\"/></g></g><g class=\"polarlayer\"/><g class=\"ternarylayer\"/><g class=\"geolayer\"/><g class=\"funnelarealayer\"/><g class=\"pielayer\"/><g class=\"iciclelayer\"/><g class=\"treemaplayer\"/><g class=\"sunburstlayer\"/><g class=\"glimages\"/><defs id=\"topdefs-c0c632\"><g class=\"clips\"/></defs><g class=\"layer-above\"><g class=\"imagelayer\"/><g class=\"shapelayer\"/></g><g class=\"infolayer\"><g class=\"cbcoloraxis colorbar\" transform=\"translate(189,100)\"><rect class=\"cbbg\" x=\"384\" y=\"0\" width=\"115.4375\" height=\"470\" style=\"fill: rgb(0, 0, 0); fill-opacity: 0; stroke: rgb(68, 68, 68); stroke-opacity: 1; stroke-width: 0;\"/><g class=\"cbfills\" transform=\"translate(0,32)\"><rect class=\"cbfill\" x=\"394\" width=\"30\" y=\"0\" height=\"428\" style=\"fill: url('#gc0c632-cbcoloraxis');\"/></g><g class=\"cblines\" transform=\"translate(0,32)\"/><g class=\"cbaxis crisp\" transform=\"translate(0,-100)\"><path class=\"ycbcoloraxistick ticks crisp\" d=\"M423.5,0h-6\" transform=\"translate(0,506.15)\" style=\"stroke: rgb(237, 237, 237); stroke-opacity: 1; stroke-width: 1px;\"/><path class=\"ycbcoloraxistick ticks crisp\" d=\"M423.5,0h-6\" transform=\"translate(0,425.16)\" style=\"stroke: rgb(237, 237, 237); stroke-opacity: 1; stroke-width: 1px;\"/><path class=\"ycbcoloraxistick ticks crisp\" d=\"M423.5,0h-6\" transform=\"translate(0,344.18)\" style=\"stroke: rgb(237, 237, 237); stroke-opacity: 1; stroke-width: 1px;\"/><path class=\"ycbcoloraxistick ticks crisp\" d=\"M423.5,0h-6\" transform=\"translate(0,263.19)\" style=\"stroke: rgb(237, 237, 237); stroke-opacity: 1; stroke-width: 1px;\"/><path class=\"ycbcoloraxistick ticks crisp\" d=\"M423.5,0h-6\" transform=\"translate(0,182.21)\" style=\"stroke: rgb(237, 237, 237); stroke-opacity: 1; stroke-width: 1px;\"/><g class=\"ycbcoloraxistick\"><text text-anchor=\"start\" x=\"426.9\" y=\"4.199999999999999\" transform=\"translate(0,506.15)\" style=\"font-family: 'Open Sans', verdana, arial, sans-serif; font-size: 12px; fill: rgb(51, 51, 51); fill-opacity: 1; white-space: pre; opacity: 1;\">86</text></g><g class=\"ycbcoloraxistick\"><text text-anchor=\"start\" x=\"426.9\" y=\"4.199999999999999\" style=\"font-family: 'Open Sans', verdana, arial, sans-serif; font-size: 12px; fill: rgb(51, 51, 51); fill-opacity: 1; white-space: pre; opacity: 1;\" transform=\"translate(0,425.16)\">88</text></g><g class=\"ycbcoloraxistick\"><text text-anchor=\"start\" x=\"426.9\" y=\"4.199999999999999\" style=\"font-family: 'Open Sans', verdana, arial, sans-serif; font-size: 12px; fill: rgb(51, 51, 51); fill-opacity: 1; white-space: pre; opacity: 1;\" transform=\"translate(0,344.18)\">90</text></g><g class=\"ycbcoloraxistick\"><text text-anchor=\"start\" x=\"426.9\" y=\"4.199999999999999\" style=\"font-family: 'Open Sans', verdana, arial, sans-serif; font-size: 12px; fill: rgb(51, 51, 51); fill-opacity: 1; white-space: pre; opacity: 1;\" transform=\"translate(0,263.19)\">92</text></g><g class=\"ycbcoloraxistick\"><text text-anchor=\"start\" x=\"426.9\" y=\"4.199999999999999\" style=\"font-family: 'Open Sans', verdana, arial, sans-serif; font-size: 12px; fill: rgb(51, 51, 51); fill-opacity: 1; white-space: pre; opacity: 1;\" transform=\"translate(0,182.21)\">94</text></g></g><g class=\"cbtitleunshift\" transform=\"translate(-189,-100)\"><g class=\"cbtitle\" transform=\"\"><text class=\"ycbcoloraxistitle\" x=\"582.52\" y=\"123.50000000000001\" text-anchor=\"start\" style=\"font-family: 'Open Sans', verdana, arial, sans-serif; font-size: 14px; fill: rgb(51, 51, 51); opacity: 1; font-weight: normal; white-space: pre;\">impact status</text></g></g><rect class=\"cboutline\" x=\"394\" y=\"32\" width=\"30\" height=\"428\" style=\"stroke: rgb(68, 68, 68); stroke-opacity: 1; fill: none; stroke-width: 0;\"/></g><g class=\"g-gtitle\"><text class=\"gtitle\" x=\"350\" y=\"50\" text-anchor=\"middle\" dy=\"0em\" style=\"font-family: 'Open Sans', verdana, arial, sans-serif; font-size: 17px; fill: rgb(51, 51, 51); opacity: 1; font-weight: normal; white-space: pre;\">Recovery Rate across states</text></g><g class=\"g-xtitle\"><text class=\"xtitle\" x=\"377\" y=\"618.20625\" text-anchor=\"middle\" style=\"font-family: 'Open Sans', verdana, arial, sans-serif; font-size: 14px; fill: rgb(51, 51, 51); opacity: 1; font-weight: normal; white-space: pre;\">percentage recovered</text></g><g class=\"g-ytitle\" transform=\"translate(2.0341796875,0)\"><text class=\"ytitle\" transform=\"rotate(-90,11.965624999999989,335)\" x=\"11.965624999999989\" y=\"335\" text-anchor=\"middle\" style=\"font-family: 'Open Sans', verdana, arial, sans-serif; font-size: 14px; fill: rgb(51, 51, 51); opacity: 1; font-weight: normal; white-space: pre;\">State</text></g></g></svg>"
      ]
     },
     "metadata": {},
     "output_type": "display_data"
    }
   ],
   "source": [
    "graph = px.bar(plot_recovered, y='State',x='percentage recovered',color='impact status',\n",
    "            title='Recovery Rate across states',template='ggplot2',height=650)\n",
    "\n",
    "graph.show(renderer=\"svg\")"
   ]
  },
  {
   "cell_type": "markdown",
   "id": "e93f3698",
   "metadata": {},
   "source": [
    "### Observations\n",
    "- The confirmed cases, recovered and deceased cases have mostly been increasing since March'20 with some drop at certain times\n",
    "- <b>Maximum number of</b> Corona Positive Cases/Deaths/Recovered Cases have been observed in <b>Maharashtra</b>\n",
    "- <b>Minimum number of</b>  Corona Positive Cases/Deaths/Recovered Cases have been observed in <b>Dadra and Nagar Haveli</b>\n",
    "- <b>Maximum Percentage of</b> Tested cases who turned out to be corona positive cases has been observed in <b>Maharashtra</b>\n",
    "- <b>Minimum Percentage of</b> Tested cases who turned out to be corona positive cases has been observed in <b>Bihar</b>\n",
    "- <b>Maximum Percentage of</b> Corona positive cases who died has been observed in <b>Punjab</b>\n",
    "- <b>Minimum Percentage of</b> Corona positive cases who died has been observed in <b>Dadra and Nagar Haveli</b>\n",
    "- <b>Maximum Percentage of</b> Corona positive cases who recovered has been observed in <b>Andaman and Nicobar Islands</b>\n",
    "- <b>Minimum Percentage of</b> Corona positive cases who recovered has been observed in <b>Mizoram and Sikkim</b>"
   ]
  },
  {
   "cell_type": "code",
   "execution_count": null,
   "id": "5ad31ce6",
   "metadata": {},
   "outputs": [],
   "source": []
  }
 ],
 "metadata": {
  "kernelspec": {
   "display_name": "Python 3 (ipykernel)",
   "language": "python",
   "name": "python3"
  },
  "language_info": {
   "codemirror_mode": {
    "name": "ipython",
    "version": 3
   },
   "file_extension": ".py",
   "mimetype": "text/x-python",
   "name": "python",
   "nbconvert_exporter": "python",
   "pygments_lexer": "ipython3",
   "version": "3.9.6"
  }
 },
 "nbformat": 4,
 "nbformat_minor": 5
}
